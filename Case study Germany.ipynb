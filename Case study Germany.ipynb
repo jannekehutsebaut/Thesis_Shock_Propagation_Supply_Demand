{
 "cells": [
  {
   "cell_type": "code",
   "execution_count": 1,
   "id": "d69dad87",
   "metadata": {},
   "outputs": [],
   "source": [
    "import pandas as pd\n",
    "import numpy as np"
   ]
  },
  {
   "cell_type": "markdown",
   "id": "d575f677",
   "metadata": {},
   "source": [
    "# Data for final consumption and total output"
   ]
  },
  {
   "cell_type": "markdown",
   "id": "d12500d2",
   "metadata": {},
   "source": [
    "For this case study, we use the input-output data of Germany. The data for the initial output level and final consumption level per industry as well as the supply and demand shock data is taken from:\n",
    "\n",
    "Pichler, A. and Farmer, J. D. (2021b). Simultaneous supply and demand constraints in\n",
    "input–output networks: the case of covid-19 in Germany, Italy and Spain (Version V1).\n",
    "Zenodo. https://doi.org/10.5281/zenodo.4326815"
   ]
  },
  {
   "cell_type": "markdown",
   "id": "9118cff0",
   "metadata": {},
   "source": [
    "## Final consumption"
   ]
  },
  {
   "cell_type": "markdown",
   "id": "83121ea0",
   "metadata": {},
   "source": [
    "**We define the initial and maximal consumption for each industry**"
   ]
  },
  {
   "cell_type": "code",
   "execution_count": 2,
   "id": "a0c01f4c",
   "metadata": {},
   "outputs": [
    {
     "data": {
      "text/html": [
       "<div>\n",
       "<style scoped>\n",
       "    .dataframe tbody tr th:only-of-type {\n",
       "        vertical-align: middle;\n",
       "    }\n",
       "\n",
       "    .dataframe tbody tr th {\n",
       "        vertical-align: top;\n",
       "    }\n",
       "\n",
       "    .dataframe thead th {\n",
       "        text-align: right;\n",
       "    }\n",
       "</style>\n",
       "<table border=\"1\" class=\"dataframe\">\n",
       "  <thead>\n",
       "    <tr style=\"text-align: right;\">\n",
       "      <th></th>\n",
       "      <th>Unnamed: 0</th>\n",
       "      <th>f</th>\n",
       "      <th>fmin</th>\n",
       "      <th>fmax</th>\n",
       "      <th>f.maxF</th>\n",
       "      <th>f.maxX</th>\n",
       "    </tr>\n",
       "  </thead>\n",
       "  <tbody>\n",
       "    <tr>\n",
       "      <th>0</th>\n",
       "      <td>A01</td>\n",
       "      <td>21457.851487</td>\n",
       "      <td>0</td>\n",
       "      <td>19312.930956</td>\n",
       "      <td>19312.930956</td>\n",
       "      <td>19312.930956</td>\n",
       "    </tr>\n",
       "    <tr>\n",
       "      <th>1</th>\n",
       "      <td>A02</td>\n",
       "      <td>3034.759567</td>\n",
       "      <td>0</td>\n",
       "      <td>2731.283611</td>\n",
       "      <td>2.427354</td>\n",
       "      <td>2.427354</td>\n",
       "    </tr>\n",
       "    <tr>\n",
       "      <th>2</th>\n",
       "      <td>A03</td>\n",
       "      <td>366.298763</td>\n",
       "      <td>0</td>\n",
       "      <td>329.668887</td>\n",
       "      <td>329.668887</td>\n",
       "      <td>329.668887</td>\n",
       "    </tr>\n",
       "    <tr>\n",
       "      <th>3</th>\n",
       "      <td>B</td>\n",
       "      <td>11531.103621</td>\n",
       "      <td>0</td>\n",
       "      <td>10378.720960</td>\n",
       "      <td>5458.072038</td>\n",
       "      <td>5458.072038</td>\n",
       "    </tr>\n",
       "    <tr>\n",
       "      <th>4</th>\n",
       "      <td>C10-C12</td>\n",
       "      <td>180232.806666</td>\n",
       "      <td>0</td>\n",
       "      <td>162262.891729</td>\n",
       "      <td>162262.891729</td>\n",
       "      <td>162262.891729</td>\n",
       "    </tr>\n",
       "  </tbody>\n",
       "</table>\n",
       "</div>"
      ],
      "text/plain": [
       "  Unnamed: 0              f  fmin           fmax         f.maxF         f.maxX\n",
       "0        A01   21457.851487     0   19312.930956   19312.930956   19312.930956\n",
       "1        A02    3034.759567     0    2731.283611       2.427354       2.427354\n",
       "2        A03     366.298763     0     329.668887     329.668887     329.668887\n",
       "3          B   11531.103621     0   10378.720960    5458.072038    5458.072038\n",
       "4    C10-C12  180232.806666     0  162262.891729  162262.891729  162262.891729"
      ]
     },
     "execution_count": 2,
     "metadata": {},
     "output_type": "execute_result"
    }
   ],
   "source": [
    "fdata = pd.read_csv('fdata_deu.csv', sep = ',')\n",
    "fdata.head()"
   ]
  },
  {
   "cell_type": "code",
   "execution_count": 3,
   "id": "e9524638",
   "metadata": {},
   "outputs": [
    {
     "data": {
      "text/plain": [
       "array([1.93129310e+04, 2.73128361e+03, 3.29668887e+02, 1.03787210e+04,\n",
       "       1.62262892e+05, 2.60156570e+04, 1.45934092e+04, 2.57361050e+04,\n",
       "       5.96977672e+03, 6.70948247e+04, 1.36017633e+05, 4.47151412e+04,\n",
       "       5.52775095e+04, 2.49333548e+04, 6.19330641e+04, 7.19907970e+04,\n",
       "       8.17605263e+04, 9.11203508e+04, 2.33639888e+05, 3.27587654e+05,\n",
       "       4.04292707e+04, 5.58360495e+04, 1.83363288e+04, 6.96383764e+04,\n",
       "       7.19193703e+03, 2.93838615e+04, 2.21985998e+05, 3.73565824e+04,\n",
       "       1.37004857e+05, 1.36592145e+05, 1.52890005e+04, 2.63667907e+04,\n",
       "       1.32689966e+04, 1.09634814e+04, 3.97663666e+03, 2.83310225e+04,\n",
       "       1.87029650e+04, 2.66386959e+04, 3.78530672e+04, 5.97697846e+04,\n",
       "       8.10128357e+04, 6.09620003e+04, 1.21610021e+03, 3.21494916e+05,\n",
       "       2.90766876e+04, 3.98334983e+04, 3.53582315e+04, 5.24493472e+03,\n",
       "       1.33079845e+04, 4.90225301e+04, 2.69318264e+05, 1.82457804e+05,\n",
       "       3.66661984e+05, 1.37891081e+05, 9.95577897e+03])"
      ]
     },
     "execution_count": 3,
     "metadata": {},
     "output_type": "execute_result"
    }
   ],
   "source": [
    "f_0 = fdata.iloc[:,1].astype('float')\n",
    "f_max = np.array(fdata.iloc[:,3].astype('float'))\n",
    "f_max"
   ]
  },
  {
   "cell_type": "code",
   "execution_count": 4,
   "id": "8b69a58b",
   "metadata": {},
   "outputs": [
    {
     "name": "stdout",
     "output_type": "stream",
     "text": [
      "[0.1   0.1   0.1   0.1   0.1   0.1   0.1   0.1   0.1   0.1   0.099 0.081\n",
      " 0.1   0.1   0.1   0.1   0.099 0.1   0.1   0.1   0.099 0.099 0.1   0.023\n",
      " 0.015 0.036 0.1   0.1   0.098 0.095 0.569 0.114 0.503 0.223 0.034 0.731\n",
      " 0.038 0.043 0.011 0.088 0.029 0.013 0.02  0.002 0.093 0.094 0.083 0.1\n",
      " 0.035 0.042 0.002 0.007 0.001 0.043 0.   ]\n"
     ]
    }
   ],
   "source": [
    "demand_shock = np.zeros(f_max.shape[0])\n",
    "for i in range (0,f_max.shape[0]):\n",
    "    demand_shock[i] = round(1- f_max[i]/f_0[i],3)\n",
    "    \n",
    "print(demand_shock) # ok "
   ]
  },
  {
   "cell_type": "markdown",
   "id": "2012b38d",
   "metadata": {},
   "source": [
    "## Total output"
   ]
  },
  {
   "cell_type": "code",
   "execution_count": 5,
   "id": "32e86384",
   "metadata": {},
   "outputs": [
    {
     "data": {
      "text/html": [
       "<div>\n",
       "<style scoped>\n",
       "    .dataframe tbody tr th:only-of-type {\n",
       "        vertical-align: middle;\n",
       "    }\n",
       "\n",
       "    .dataframe tbody tr th {\n",
       "        vertical-align: top;\n",
       "    }\n",
       "\n",
       "    .dataframe thead th {\n",
       "        text-align: right;\n",
       "    }\n",
       "</style>\n",
       "<table border=\"1\" class=\"dataframe\">\n",
       "  <thead>\n",
       "    <tr style=\"text-align: right;\">\n",
       "      <th></th>\n",
       "      <th>Unnamed: 0</th>\n",
       "      <th>x</th>\n",
       "      <th>xmin</th>\n",
       "      <th>xmax</th>\n",
       "      <th>x.maxF</th>\n",
       "      <th>x.maxX</th>\n",
       "    </tr>\n",
       "  </thead>\n",
       "  <tbody>\n",
       "    <tr>\n",
       "      <th>50</th>\n",
       "      <td>O84</td>\n",
       "      <td>326446.9910</td>\n",
       "      <td>0</td>\n",
       "      <td>326446.991000</td>\n",
       "      <td>306201.098420</td>\n",
       "      <td>306201.098420</td>\n",
       "    </tr>\n",
       "    <tr>\n",
       "      <th>51</th>\n",
       "      <td>P85</td>\n",
       "      <td>205736.8240</td>\n",
       "      <td>0</td>\n",
       "      <td>205736.824000</td>\n",
       "      <td>200894.751180</td>\n",
       "      <td>200894.751180</td>\n",
       "    </tr>\n",
       "    <tr>\n",
       "      <th>52</th>\n",
       "      <td>Q</td>\n",
       "      <td>381918.5085</td>\n",
       "      <td>0</td>\n",
       "      <td>381918.508500</td>\n",
       "      <td>380852.716052</td>\n",
       "      <td>380852.716052</td>\n",
       "    </tr>\n",
       "    <tr>\n",
       "      <th>53</th>\n",
       "      <td>R_S</td>\n",
       "      <td>195188.5340</td>\n",
       "      <td>0</td>\n",
       "      <td>75740.830036</td>\n",
       "      <td>75740.830036</td>\n",
       "      <td>75740.830036</td>\n",
       "    </tr>\n",
       "    <tr>\n",
       "      <th>54</th>\n",
       "      <td>T</td>\n",
       "      <td>9955.7790</td>\n",
       "      <td>0</td>\n",
       "      <td>9955.779000</td>\n",
       "      <td>9955.778971</td>\n",
       "      <td>9955.778971</td>\n",
       "    </tr>\n",
       "  </tbody>\n",
       "</table>\n",
       "</div>"
      ],
      "text/plain": [
       "   Unnamed: 0            x  xmin           xmax         x.maxF         x.maxX\n",
       "50        O84  326446.9910     0  326446.991000  306201.098420  306201.098420\n",
       "51        P85  205736.8240     0  205736.824000  200894.751180  200894.751180\n",
       "52          Q  381918.5085     0  381918.508500  380852.716052  380852.716052\n",
       "53        R_S  195188.5340     0   75740.830036   75740.830036   75740.830036\n",
       "54          T    9955.7790     0    9955.779000    9955.778971    9955.778971"
      ]
     },
     "execution_count": 5,
     "metadata": {},
     "output_type": "execute_result"
    }
   ],
   "source": [
    "xdata =  pd.read_csv('xdata_deu.csv', sep = ',')\n",
    "xdata.tail()   "
   ]
  },
  {
   "cell_type": "code",
   "execution_count": 6,
   "id": "9774c387",
   "metadata": {},
   "outputs": [
    {
     "data": {
      "text/plain": [
       "array([ 63160.2907294 ,    963.98667003,    488.90340636,   7555.63525998,\n",
       "       245855.47723862,   9396.22717927,   8623.41301216,  33496.59312643,\n",
       "        27265.04336489, 105296.77617388, 148727.31275899,  60984.32658301,\n",
       "        65041.0973108 ,  21548.70682617,  36621.91128179,  56567.30836609,\n",
       "        55318.72678314,  50729.40024105, 120637.15245813, 135125.38965368,\n",
       "        21528.01457867,  23307.39741696,  20360.96880066, 171089.544     ,\n",
       "        12097.83972904,  63910.95927096, 104287.08274506,  64912.99210108,\n",
       "       273059.57937824, 160918.97165266, 129957.90746424,  34737.12549041,\n",
       "        34282.72721256, 162198.54717815,  39298.68915463,  39402.92861931,\n",
       "        43291.50072674,  42464.826134  ,  83785.02590882, 137879.55687015,\n",
       "       193742.40427755,  99242.12617469,  43876.57204776, 247100.29464501,\n",
       "       112184.45826394,  46008.43818234,  24428.04619224,  19129.66873217,\n",
       "        24684.35525274, 159550.75856142, 326446.991     , 205736.824     ,\n",
       "       381918.5085    ,  75740.83003574,   9955.779     ])"
      ]
     },
     "execution_count": 6,
     "metadata": {},
     "output_type": "execute_result"
    }
   ],
   "source": [
    "x_0 = xdata.iloc[:,1].astype('float')\n",
    "x_max = np.array(xdata.iloc[:,3].astype('float'))\n",
    "x_max"
   ]
  },
  {
   "cell_type": "code",
   "execution_count": 7,
   "id": "69a62e72",
   "metadata": {},
   "outputs": [
    {
     "name": "stdout",
     "output_type": "stream",
     "text": [
      "[0.       0.849999 0.       0.483204 0.       0.685309 0.730686 0.342704\n",
      " 0.       0.       0.189825 0.       0.352529 0.639448 0.726353 0.662572\n",
      " 0.430758 0.630639 0.618354 0.696668 0.597033 0.652042 0.606449 0.\n",
      " 0.       0.       0.715557 0.180259 0.       0.246592 0.       0.\n",
      " 0.       0.       0.       0.646411 0.       0.       0.       0.07215\n",
      " 0.       0.       0.       0.512768 0.362812 0.459166 0.410839 0.396788\n",
      " 0.19581  0.426938 0.       0.       0.       0.611961 0.      ]\n"
     ]
    }
   ],
   "source": [
    "supply_shock = np.zeros(x_max.shape[0])\n",
    "for i in range (0,x_max.shape[0]):\n",
    "    supply_shock[i] = round(1- x_max[i]/x_0[i],6)\n",
    "    \n",
    "print(supply_shock) # ok: corresonds to the data "
   ]
  },
  {
   "cell_type": "markdown",
   "id": "97cb7425",
   "metadata": {},
   "source": [
    "# IO table "
   ]
  },
  {
   "cell_type": "code",
   "execution_count": 8,
   "id": "d00267df",
   "metadata": {},
   "outputs": [
    {
     "data": {
      "text/html": [
       "<div>\n",
       "<style scoped>\n",
       "    .dataframe tbody tr th:only-of-type {\n",
       "        vertical-align: middle;\n",
       "    }\n",
       "\n",
       "    .dataframe tbody tr th {\n",
       "        vertical-align: top;\n",
       "    }\n",
       "\n",
       "    .dataframe thead th {\n",
       "        text-align: right;\n",
       "    }\n",
       "</style>\n",
       "<table border=\"1\" class=\"dataframe\">\n",
       "  <thead>\n",
       "    <tr style=\"text-align: right;\">\n",
       "      <th></th>\n",
       "      <th>Unnamed: 0</th>\n",
       "      <th>A01</th>\n",
       "      <th>A02</th>\n",
       "      <th>A03</th>\n",
       "      <th>B</th>\n",
       "      <th>C10-C12</th>\n",
       "      <th>C13-C15</th>\n",
       "      <th>C16</th>\n",
       "      <th>C17</th>\n",
       "      <th>C18</th>\n",
       "      <th>...</th>\n",
       "      <th>M71</th>\n",
       "      <th>M72</th>\n",
       "      <th>M73</th>\n",
       "      <th>M74_M75</th>\n",
       "      <th>N</th>\n",
       "      <th>O84</th>\n",
       "      <th>P85</th>\n",
       "      <th>Q</th>\n",
       "      <th>R_S</th>\n",
       "      <th>T</th>\n",
       "    </tr>\n",
       "  </thead>\n",
       "  <tbody>\n",
       "    <tr>\n",
       "      <th>0</th>\n",
       "      <td>A01</td>\n",
       "      <td>4.164926e-02</td>\n",
       "      <td>0.022453</td>\n",
       "      <td>0.000046</td>\n",
       "      <td>0.000532</td>\n",
       "      <td>0.145642</td>\n",
       "      <td>2.236215e-03</td>\n",
       "      <td>1.373681e-04</td>\n",
       "      <td>9.344121e-05</td>\n",
       "      <td>3.726292e-05</td>\n",
       "      <td>...</td>\n",
       "      <td>0.000016</td>\n",
       "      <td>0.000169</td>\n",
       "      <td>0.000017</td>\n",
       "      <td>0.000188</td>\n",
       "      <td>0.001027</td>\n",
       "      <td>1.571802e-03</td>\n",
       "      <td>0.000152</td>\n",
       "      <td>0.000999</td>\n",
       "      <td>0.000331</td>\n",
       "      <td>0</td>\n",
       "    </tr>\n",
       "    <tr>\n",
       "      <th>1</th>\n",
       "      <td>A02</td>\n",
       "      <td>7.900009e-04</td>\n",
       "      <td>0.148384</td>\n",
       "      <td>0.000043</td>\n",
       "      <td>0.001372</td>\n",
       "      <td>0.000066</td>\n",
       "      <td>3.458867e-05</td>\n",
       "      <td>5.639422e-02</td>\n",
       "      <td>2.235241e-03</td>\n",
       "      <td>1.798931e-05</td>\n",
       "      <td>...</td>\n",
       "      <td>0.000065</td>\n",
       "      <td>0.000010</td>\n",
       "      <td>0.000031</td>\n",
       "      <td>0.000017</td>\n",
       "      <td>0.000071</td>\n",
       "      <td>2.544306e-05</td>\n",
       "      <td>0.000011</td>\n",
       "      <td>0.000018</td>\n",
       "      <td>0.000128</td>\n",
       "      <td>0</td>\n",
       "    </tr>\n",
       "    <tr>\n",
       "      <th>2</th>\n",
       "      <td>A03</td>\n",
       "      <td>4.366784e-07</td>\n",
       "      <td>0.000000</td>\n",
       "      <td>0.012957</td>\n",
       "      <td>0.000002</td>\n",
       "      <td>0.000357</td>\n",
       "      <td>2.755762e-07</td>\n",
       "      <td>1.188522e-07</td>\n",
       "      <td>4.207657e-07</td>\n",
       "      <td>5.563061e-07</td>\n",
       "      <td>...</td>\n",
       "      <td>0.000000</td>\n",
       "      <td>0.000000</td>\n",
       "      <td>0.000000</td>\n",
       "      <td>0.000000</td>\n",
       "      <td>0.000000</td>\n",
       "      <td>8.194973e-07</td>\n",
       "      <td>0.000000</td>\n",
       "      <td>0.000017</td>\n",
       "      <td>0.000004</td>\n",
       "      <td>0</td>\n",
       "    </tr>\n",
       "    <tr>\n",
       "      <th>3</th>\n",
       "      <td>B</td>\n",
       "      <td>2.219650e-04</td>\n",
       "      <td>0.000084</td>\n",
       "      <td>0.000116</td>\n",
       "      <td>0.002035</td>\n",
       "      <td>0.000291</td>\n",
       "      <td>2.382501e-04</td>\n",
       "      <td>2.586815e-04</td>\n",
       "      <td>3.853536e-04</td>\n",
       "      <td>1.026987e-04</td>\n",
       "      <td>...</td>\n",
       "      <td>0.000133</td>\n",
       "      <td>0.000099</td>\n",
       "      <td>0.000066</td>\n",
       "      <td>0.000086</td>\n",
       "      <td>0.000063</td>\n",
       "      <td>1.312530e-04</td>\n",
       "      <td>0.000043</td>\n",
       "      <td>0.000079</td>\n",
       "      <td>0.000068</td>\n",
       "      <td>0</td>\n",
       "    </tr>\n",
       "    <tr>\n",
       "      <th>4</th>\n",
       "      <td>C10-C12</td>\n",
       "      <td>6.141175e-02</td>\n",
       "      <td>0.000821</td>\n",
       "      <td>0.001096</td>\n",
       "      <td>0.001411</td>\n",
       "      <td>0.128738</td>\n",
       "      <td>2.820159e-03</td>\n",
       "      <td>1.333614e-03</td>\n",
       "      <td>1.250540e-03</td>\n",
       "      <td>9.674707e-04</td>\n",
       "      <td>...</td>\n",
       "      <td>0.000423</td>\n",
       "      <td>0.001414</td>\n",
       "      <td>0.000287</td>\n",
       "      <td>0.000705</td>\n",
       "      <td>0.000292</td>\n",
       "      <td>7.647949e-03</td>\n",
       "      <td>0.001857</td>\n",
       "      <td>0.019801</td>\n",
       "      <td>0.001344</td>\n",
       "      <td>0</td>\n",
       "    </tr>\n",
       "  </tbody>\n",
       "</table>\n",
       "<p>5 rows × 56 columns</p>\n",
       "</div>"
      ],
      "text/plain": [
       "  Unnamed: 0           A01       A02       A03         B   C10-C12  \\\n",
       "0        A01  4.164926e-02  0.022453  0.000046  0.000532  0.145642   \n",
       "1        A02  7.900009e-04  0.148384  0.000043  0.001372  0.000066   \n",
       "2        A03  4.366784e-07  0.000000  0.012957  0.000002  0.000357   \n",
       "3          B  2.219650e-04  0.000084  0.000116  0.002035  0.000291   \n",
       "4    C10-C12  6.141175e-02  0.000821  0.001096  0.001411  0.128738   \n",
       "\n",
       "        C13-C15           C16           C17           C18  ...       M71  \\\n",
       "0  2.236215e-03  1.373681e-04  9.344121e-05  3.726292e-05  ...  0.000016   \n",
       "1  3.458867e-05  5.639422e-02  2.235241e-03  1.798931e-05  ...  0.000065   \n",
       "2  2.755762e-07  1.188522e-07  4.207657e-07  5.563061e-07  ...  0.000000   \n",
       "3  2.382501e-04  2.586815e-04  3.853536e-04  1.026987e-04  ...  0.000133   \n",
       "4  2.820159e-03  1.333614e-03  1.250540e-03  9.674707e-04  ...  0.000423   \n",
       "\n",
       "        M72       M73   M74_M75         N           O84       P85         Q  \\\n",
       "0  0.000169  0.000017  0.000188  0.001027  1.571802e-03  0.000152  0.000999   \n",
       "1  0.000010  0.000031  0.000017  0.000071  2.544306e-05  0.000011  0.000018   \n",
       "2  0.000000  0.000000  0.000000  0.000000  8.194973e-07  0.000000  0.000017   \n",
       "3  0.000099  0.000066  0.000086  0.000063  1.312530e-04  0.000043  0.000079   \n",
       "4  0.001414  0.000287  0.000705  0.000292  7.647949e-03  0.001857  0.019801   \n",
       "\n",
       "        R_S  T  \n",
       "0  0.000331  0  \n",
       "1  0.000128  0  \n",
       "2  0.000004  0  \n",
       "3  0.000068  0  \n",
       "4  0.001344  0  \n",
       "\n",
       "[5 rows x 56 columns]"
      ]
     },
     "execution_count": 8,
     "metadata": {},
     "output_type": "execute_result"
    }
   ],
   "source": [
    "df = pd.read_csv('deu_wiot.csv',sep = ',',low_memory=False)\n",
    "df.head()"
   ]
  },
  {
   "cell_type": "code",
   "execution_count": 9,
   "id": "ef22029a",
   "metadata": {},
   "outputs": [
    {
     "data": {
      "text/plain": [
       "(55, 55)"
      ]
     },
     "execution_count": 9,
     "metadata": {},
     "output_type": "execute_result"
    }
   ],
   "source": [
    "df = df.iloc[:,1:]# leaving out industries U and T\n",
    "df = df.astype('float')\n",
    "df.shape"
   ]
  },
  {
   "cell_type": "markdown",
   "id": "e32d8d62",
   "metadata": {},
   "source": [
    "**Creating matrix A**"
   ]
  },
  {
   "cell_type": "code",
   "execution_count": 10,
   "id": "3b209a29",
   "metadata": {},
   "outputs": [
    {
     "data": {
      "text/plain": [
       "(55, 55)"
      ]
     },
     "execution_count": 10,
     "metadata": {},
     "output_type": "execute_result"
    }
   ],
   "source": [
    "A = np.array(df)\n",
    "N = A.shape[0]\n",
    "A.shape"
   ]
  },
  {
   "cell_type": "code",
   "execution_count": 11,
   "id": "4c9a64bb",
   "metadata": {},
   "outputs": [],
   "source": [
    "x_0 = np.array(x_0)"
   ]
  },
  {
   "cell_type": "code",
   "execution_count": 12,
   "id": "8ba3cc01",
   "metadata": {},
   "outputs": [],
   "source": [
    "f_0 = np.array(f_0)"
   ]
  },
  {
   "cell_type": "markdown",
   "id": "c4ee14fb",
   "metadata": {},
   "source": [
    "# Leontief Model"
   ]
  },
  {
   "cell_type": "markdown",
   "id": "b2220798",
   "metadata": {},
   "source": [
    "**Computing equilibrium when x is given**"
   ]
  },
  {
   "cell_type": "code",
   "execution_count": 13,
   "id": "a4c84cd3",
   "metadata": {},
   "outputs": [
    {
     "data": {
      "text/plain": [
       "0.9132079048009196"
      ]
     },
     "execution_count": 13,
     "metadata": {},
     "output_type": "execute_result"
    }
   ],
   "source": [
    "final_consumption = np.matmul(np.identity(N)-A, x_0)\n",
    "sum(f_max)/sum(final_consumption) #It holds that f_0 = final_consumption = (I-A)x"
   ]
  },
  {
   "cell_type": "markdown",
   "id": "281b0b20",
   "metadata": {},
   "source": [
    "**Computing equilibrium when f is given**"
   ]
  },
  {
   "cell_type": "code",
   "execution_count": 14,
   "id": "fa335ff9",
   "metadata": {},
   "outputs": [],
   "source": [
    "L = np.linalg.inv(np.identity(N)-A)"
   ]
  },
  {
   "cell_type": "code",
   "execution_count": 15,
   "id": "2abe2e96",
   "metadata": {},
   "outputs": [
    {
     "data": {
      "text/plain": [
       "0.6913968179397179"
      ]
     },
     "execution_count": 15,
     "metadata": {},
     "output_type": "execute_result"
    }
   ],
   "source": [
    "total_output = np.matmul(L, f_0)\n",
    "sum(x_max)/sum(total_output)\n",
    "#sum(x_max)/sum(x_0) "
   ]
  },
  {
   "cell_type": "markdown",
   "id": "272b2069",
   "metadata": {},
   "source": [
    "**Computing direct shock:**"
   ]
  },
  {
   "cell_type": "code",
   "execution_count": 16,
   "id": "c209ae0a",
   "metadata": {},
   "outputs": [
    {
     "data": {
      "text/plain": [
       "(0.6913968179397156, 0.9132079048009223)"
      ]
     },
     "execution_count": 16,
     "metadata": {},
     "output_type": "execute_result"
    }
   ],
   "source": [
    "direct_shock = (sum(x_max)/sum(x_0),sum(f_max)/sum(f_0))\n",
    "direct_shock"
   ]
  },
  {
   "cell_type": "markdown",
   "id": "bed7504e",
   "metadata": {},
   "source": [
    "# Optimalization"
   ]
  },
  {
   "cell_type": "code",
   "execution_count": 17,
   "id": "395a2995",
   "metadata": {},
   "outputs": [],
   "source": [
    "from scipy.optimize import linprog"
   ]
  },
  {
   "cell_type": "markdown",
   "id": "7bed23c7",
   "metadata": {},
   "source": [
    "### Feasible Market Allocations\n",
    "Given exogenous constraints to supply and demand, what is the feasible market allocation that maximizes final consumption and/or total output? The solution needs to lie within exogenous bounds on supply and demand and also needs to satisfy the assumption of Leontief production:\n",
    "\n",
    "$$ x = Ax + f = Lf $$\n",
    "\n",
    "We seek market allocations {$x^*$ , $f^*$} that (a) respect the given production recipes $x^*=Lf^*$ and (b) satisfy basic output and demand constraints $x^* \\in [0, x^{max}]$ and $f^* \\in [0, f^{max}]$.\n",
    "\n",
    "**Optimization procedure**\n",
    "\n",
    "As a first case, we determine the market allocation that maximizes gross output under the assumptions specified. Large levels of output indicate high levels of ecomomic activity, which in turn entail high levels of primary factors such as labor compensation. As a second case, we look at market allocations that maximize final comsumption given current production capacities. Due to the linearity of the Leontief framework, the problem boils down to linear programming exercises.\n",
    "\n",
    "*Maximizing gross output*\n",
    "$$ \\text{max}_f \\qquad 1^T(I-A)^{-1}f $$\n",
    "$$ \\text{Subject to} \\quad (I-A)^{-1}f \\in [0, x^{max}] $$\n",
    "\n",
    "*Maximizing final consumption*\n",
    "$$ \\text{max}_x \\qquad 1^T(I-A)x $$\n",
    "$$ \\text{Subject to} \\quad (I-A)x \\in [0, f^{max}] $$"
   ]
  },
  {
   "cell_type": "markdown",
   "id": "02d604cd",
   "metadata": {},
   "source": [
    "### Maximizing total output"
   ]
  },
  {
   "cell_type": "code",
   "execution_count": 18,
   "id": "d972123d",
   "metadata": {},
   "outputs": [],
   "source": [
    "def max_output(N,L,A,xmax,fmax):\n",
    "    z = np.ones(N)\n",
    "    obj = -np.matmul(np.matrix.transpose(z), L)\n",
    "    lhs_ineq = np.concatenate((-L,L))\n",
    "    rhs_ineq = np.concatenate((np.zeros(N), xmax))\n",
    "    \n",
    "    bnd = []\n",
    "    for i in range (0,N):\n",
    "        bnd.append((0,fmax[i]))\n",
    "    \n",
    "    result = linprog(c = obj, A_ub= lhs_ineq, b_ub= rhs_ineq, bounds = bnd)\n",
    "    \n",
    "    optimal_output = -result.fun\n",
    "    \n",
    "    optimal_f = np.ones(N)\n",
    "    for i in range(0,N):\n",
    "        optimal_f[i] = result.x[i]\n",
    "    \n",
    "    return result.success, optimal_output/sum(x_0), sum(optimal_f)/sum(f_0)"
   ]
  },
  {
   "cell_type": "code",
   "execution_count": 19,
   "id": "aaae0aca",
   "metadata": {},
   "outputs": [
    {
     "data": {
      "text/plain": [
       "(0.6251353593714393, 0.6320096267938023)"
      ]
     },
     "execution_count": 19,
     "metadata": {},
     "output_type": "execute_result"
    }
   ],
   "source": [
    "result = max_output(N,L,A,x_max,f_max)\n",
    "Max_output = (result[1], result[2])\n",
    "Max_output"
   ]
  },
  {
   "cell_type": "markdown",
   "id": "4264b266",
   "metadata": {},
   "source": [
    "### Maximizing final consumption"
   ]
  },
  {
   "cell_type": "code",
   "execution_count": 20,
   "id": "06569485",
   "metadata": {},
   "outputs": [],
   "source": [
    "def max_consumption(N,L,A,xmax,fmax):\n",
    "    z = np.ones(N)\n",
    "    obj2 = -np.matmul(np.matrix.transpose(z), np.identity(N)-A)\n",
    "    lhs_ineq2 = np.concatenate((-(np.identity(N)-A), np.identity(N)-A))\n",
    "    rhs_ineq2 = np.concatenate((np.zeros(N), fmax))\n",
    "    \n",
    "    bnd2 = []\n",
    "    for i in range (0,N):\n",
    "        bnd2.append((0,xmax[i]))\n",
    "        \n",
    "    result2 = linprog(c = obj2, A_ub= lhs_ineq2, b_ub= rhs_ineq2, bounds= bnd2)\n",
    "    optimal_f_2 = -result2.fun\n",
    "    \n",
    "    optimal_output_2 = np.ones(N)\n",
    "    for i in range(0,N):\n",
    "        optimal_output_2[i] = round(result2.x[i])\n",
    "        \n",
    "    return result2.success, sum(optimal_output_2)/sum(x_0), optimal_f_2/sum(f_0)"
   ]
  },
  {
   "cell_type": "code",
   "execution_count": 21,
   "id": "b0f3b407",
   "metadata": {},
   "outputs": [],
   "source": [
    "result2 = max_consumption(N,L,A,x_max,f_max)\n",
    "Max_consumption = (result2[1], result2[2])"
   ]
  },
  {
   "cell_type": "markdown",
   "id": "a88e27e5",
   "metadata": {},
   "source": [
    "**Note that both optimization problems give almost the same solution**"
   ]
  },
  {
   "cell_type": "markdown",
   "id": "4bac4370",
   "metadata": {},
   "source": [
    "# Rationing"
   ]
  },
  {
   "cell_type": "code",
   "execution_count": 22,
   "id": "e3023342",
   "metadata": {},
   "outputs": [],
   "source": [
    "f_max = f_max[:54]\n",
    "x_max = x_max[:54]\n",
    "A = A[:54,:54]\n",
    "N = 54\n",
    "x_0 = x_0[:54]\n",
    "f_0 = f_0[:54]\n",
    "L = np.linalg.inv(np.identity(N)-A)\n",
    "supply_shock = np.array(supply_shock[:54])\n",
    "demand_shock = np.array(demand_shock[:54])"
   ]
  },
  {
   "cell_type": "markdown",
   "id": "3e84b6c6",
   "metadata": {},
   "source": [
    "### Input bottlenecks and rationing variations\n",
    "In contrast to the optimization methods, this represents a bottom-up approach for finding feasible market allocations. Industries place orders to their suppliers based on incoming demand. Since suppliers can be output constrained, they might not be able to satisfy demand fully. A supplier therefore needs to make a decision about how much of each customer’s demand it serves. Intermediate consumers transform inputs to outputs based on fixed production recipes. Thus if a customer receives less inputs than she asked for, she faces an input bottleneck further constraining her production. As a consequence, the customer reduces her demand for other inputs as they are not further needed under limited productive capacities. We iterate this procedure forward until the algorithm converges.\n",
    "\n",
    "**Strict Proportional Rationing**\n",
    "\n",
    "If industries are unable to satisfy total incoming demand completely, they distribute output proportional to their customers’ demand, where no distinction is made between intermediate and final customers. We implement the rationing algorithm in the following way:\n",
    "1. Industries determine their total demand as if there were no supply-side constraints, $d = Lf^{\\text{max}}$;\n",
    "2. Industries evaluate if they are able to satisfy demand goven their constrained production capacities;\n",
    "3. Industries that only partially satisfy demand, create a bottleneck;\n",
    "4. Industries reduce their production according to the largest input bottleneck (assumption of fixed recipes);\n",
    "5. The total amount of goods delivered to the final consumer is computed;\n",
    "6. Iterate 1-5 until there are no input constraints left.\n",
    "\n",
    "Formulas:\n",
    "\n",
    "$$ r_i[t] = \\frac{x_i^{\\text{max}}}{d_i[t]} $$\n",
    "\n",
    "$$ s_i[t] = min_j \\{r_j[t], 1\\} $$\n",
    "\n",
    "$$ x_i[t] = \\text{min}\\{x_i^{\\text{max}}, s_i[t]d_i[t]\\} $$\n",
    "\n",
    "$$ f_i[t] = \\text{max} \\Big\\{ x_i[t] - \\sum_{i} a_{ij} x_j[t], 0 \\Big\\}$$\n",
    "\n",
    "$$ d_i[t+1] = \\sum_{j} l_{ij} f_j[t] $$\n",
    "\n",
    "The algorithm converges to a new feasible economic allocation if $d_i[t+1] = d_i[t]$ for all i.\n",
    "\n",
    "*Implementation*"
   ]
  },
  {
   "cell_type": "code",
   "execution_count": 23,
   "id": "7bfeaa17",
   "metadata": {},
   "outputs": [],
   "source": [
    "def algo_proportional(A, L, fmax, xmax, TT, prioritize=\"no\"):\n",
    "    x = [0]\n",
    "    fvec = []          # initial demand vector\n",
    "    fvec.append(fmax)\n",
    "    r = [0]            # output constraints\n",
    "    s = [0]            # input bottlenecks \n",
    "    d = [0]            # aggregated demand vector \n",
    "    d.append(np.matmul(L, fvec[0])) #d[1] = L*f[0]\n",
    "\n",
    "    list_ = [1] \n",
    "    t=1\n",
    "    epsilon = 1e-6\n",
    "    while not np.all(abs(d[t] - d[t-1]) < epsilon) and t<TT:\n",
    "        #print('\\nIteration {0}'.format(t))\n",
    "        #print('---------')\n",
    "        #print('Initial aggregated demand: {}'.format(d[t]))\n",
    "        r.append(np.ones(len(xmax)))\n",
    "        s.append(np.ones(len(xmax)))\n",
    "        fvec.append(np.ones(len(xmax)))\n",
    "        x.append(np.ones(len(xmax)))\n",
    "        d.append(np.ones(len(xmax)))\n",
    "        \n",
    "        ##########################################\n",
    "        ########### Output constraints ###########\n",
    "        ##########################################\n",
    "        for i in range (0,len(x_max)):\n",
    "            r[t][i] = xmax[i]/d[t][i]\n",
    "        #print('Output constraints:{}'.format(r[t]))\n",
    "        \n",
    "        ##########################################\n",
    "        ########### Input bottlenecks ############\n",
    "        ##########################################\n",
    "        for i in range(0,len(x_max)):\n",
    "            for j in range(0,len(x_max)):\n",
    "                if A[j][i] > 0:\n",
    "                    list_.append(r[t][j])\n",
    "            s[t][i] = min(list_)\n",
    "            list_ = [1]\n",
    "        #print('Input bottlenecks:{}'.format(s[t]))\n",
    "        \n",
    "        ##############################################\n",
    "        ########### Constrained Production ###########\n",
    "        ##############################################\n",
    "        for i in range(0,len(xmax)):\n",
    "            x[t][i] = min(xmax[i], s[t][i]*d[t][i])\n",
    "        #print('Constrained production:{}'.format(x[t]))\n",
    "        \n",
    "        ##############################################\n",
    "        ############ Constrained Delivery ############\n",
    "        ##############################################\n",
    "        for i in range(0,len(xmax)):\n",
    "            fvec[t][i] = max(x[t][i] - np.matmul(A[i],x[t]),0)\n",
    "        #print('Constrained delivery:{}'.format(fvec[t]))\n",
    "        \n",
    "        ###############################################\n",
    "        ############ New Aggregated Demand ############\n",
    "        ###############################################\n",
    "        for i in range(0,len(xmax)):\n",
    "            d[t+1][i] = np.matmul(L[i],fvec[t])\n",
    "        t=t+1\n",
    "        #print('Aggregated Demand:         {}'.format(d[t]))\n",
    "        if t == TT:\n",
    "            print(\"Algoritm did not converge\")\n",
    "            \n",
    "    return sum(x[t-1])/sum(x_0), sum(fvec[t-1])/sum(f_0), t\n"
   ]
  },
  {
   "cell_type": "code",
   "execution_count": 24,
   "id": "1510b687",
   "metadata": {},
   "outputs": [
    {
     "data": {
      "text/plain": [
       "(0.1512270465545405, 0.1521682361425501, 3)"
      ]
     },
     "execution_count": 24,
     "metadata": {},
     "output_type": "execute_result"
    }
   ],
   "source": [
    "result_proportional = algo_proportional(A, L, f_max, x_max, TT = 30, prioritize=\"no\")\n",
    "result_proportional"
   ]
  },
  {
   "cell_type": "markdown",
   "id": "e48172c7",
   "metadata": {},
   "source": [
    "## Mixed priority/proportional rationing"
   ]
  },
  {
   "cell_type": "markdown",
   "id": "31431ffd",
   "metadata": {},
   "source": [
    "We implement the rationing algorithm in the following way:\n",
    "1. Industries determine their total demand as if there were no supply-side constraints, $d = Lf^{\\text{max}}$;\n",
    "2. Industries evaluate if they are able to satisfy demand given their constrained production capacities;\n",
    "3. Industries that only partially satisfy demand, create a bottleneck;\n",
    "4. Industries reduce their production according to the largest input bottleneck (assumption of fixed recipes);\n",
    "5. The total amount of goods delivered to the final consumer is computed;\n",
    "6. Iterate 1-5 until there are no input constraints left.\n",
    "\n",
    "Formulas:\n",
    "\n",
    "$$ r_i[t] = \\frac{x_i^{\\text{max}}}{\\sum_{j}A_{ij}d_j[t]} $$\n",
    "\n",
    "$$ s_i[t] = min_j \\{r_j[t], 1\\} $$\n",
    "\n",
    "$$ x_i[t] = \\text{min}\\{x_i^{\\text{max}}, s_i[t]d_i[t]\\} $$\n",
    "\n",
    "$$ f_i[t] = \\text{max} \\Big\\{ x_i[t] - \\sum_{i} a_{ij} x_j[t], 0 \\Big\\}$$\n",
    "\n",
    "$$ d_i[t+1] = \\sum_{j} l_{ij} f_j[t] $$\n",
    "\n",
    "The algorithm converges to a new feasible economic allocation if $d_i[t+1] = d_i[t]$ for all i.\n",
    "\n",
    "*Implementation*"
   ]
  },
  {
   "cell_type": "code",
   "execution_count": 25,
   "id": "8b4c14db",
   "metadata": {},
   "outputs": [],
   "source": [
    "def algo_mixed(A, L, fmax, xmax, TT,prioritize=\"yes\"):\n",
    "    x = [0]\n",
    "    fout = [0]\n",
    "    fvec = [] # initial demand vector\n",
    "    fvec.append(fmax)\n",
    "    r = [0]   # output constraints\n",
    "    s = [0]   # input bottlenecks \n",
    "    d = [0]   # aggregated demand vector \n",
    "    d.append(np.matmul(L, fvec[0])) #d[1] = L*f[0]\n",
    "    \n",
    "    list_ = [1] \n",
    "    t=1\n",
    "    epsilon = 1e-6\n",
    "    while not np.all(abs(d[t] - d[t-1]) < epsilon) and t<TT:\n",
    "        #print('\\nIteration {0}'.format(t))\n",
    "        #print('---------')\n",
    "        #print('Initial aggregated demand: {}'.format(d[t]))\n",
    "        r.append(np.ones(len(xmax)))\n",
    "        s.append(np.ones(len(xmax)))\n",
    "        fvec.append(np.ones(len(xmax)))\n",
    "        x.append(np.ones(len(xmax)))\n",
    "        d.append(np.ones(len(xmax)))\n",
    "        fout.append(np.ones(len(xmax)))\n",
    "        \n",
    "        ##########################################\n",
    "        ########### Output constraints ###########\n",
    "        ##########################################\n",
    "        for i in range (0,len(x_max)):\n",
    "            r[t][i] = xmax[i]/np.matmul(A[i],d[t])\n",
    "        #print('Output constraints:         {}'.format(r[t]))\n",
    "        \n",
    "        ##########################################\n",
    "        ########### Input bottlenecks ############\n",
    "        ##########################################\n",
    "        for i in range(0,len(x_max)):\n",
    "            for j in range(0,len(x_max)):\n",
    "                if A[j][i] > 0:\n",
    "                    list_.append(r[t][j])\n",
    "            s[t][i] = min(list_)\n",
    "            list_ = [1]\n",
    "        #print('Input bottlenecks:         {}'.format(s[t]))\n",
    "        \n",
    "        ##############################################\n",
    "        ########### Constrained Production ###########\n",
    "        ##############################################\n",
    "        for i in range(0,len(xmax)):\n",
    "            x[t][i] = min(xmax[i], s[t][i]*d[t][i])\n",
    "            #print(s[t][i]*d[t][i])\n",
    "        \n",
    "        ##############################################\n",
    "        ############ Constrained Delivery ############\n",
    "        ##############################################\n",
    "        \n",
    "        for i in range(0,len(xmax)):\n",
    "            fout[t][i] = s[t][i]*d[t][i]\n",
    "            #print(s[t][i]*d[t][i])\n",
    "        \n",
    "        for i in range(0,len(xmax)):\n",
    "            #print(np.matmul(A[i],s[t]*d[t]))\n",
    "            fvec[t][i] = max(x[t][i] - np.matmul(A[i],fout[t]),0) \n",
    "        #print('Constrained delivery:      {}'.format(fvec[t]))\n",
    "        \n",
    "        ###############################################\n",
    "        ############ New Aggregated Demand ############\n",
    "        ###############################################\n",
    "        for i in range(0,len(xmax)):\n",
    "            d[t+1][i] = np.matmul(L[i],fvec[t])\n",
    "        t=t+1\n",
    "    \n",
    "    if t == TT:\n",
    "        print(\"Algoritm did not converge\")\n",
    "        \n",
    "    return sum(x[t-1])/sum(x_0), sum(fvec[t-1])/sum(f_0), t"
   ]
  },
  {
   "cell_type": "code",
   "execution_count": 26,
   "id": "24ae4d4b",
   "metadata": {},
   "outputs": [
    {
     "data": {
      "text/plain": [
       "(0.28565653783926315, 0.28751526479783635, 3)"
      ]
     },
     "execution_count": 26,
     "metadata": {},
     "output_type": "execute_result"
    }
   ],
   "source": [
    "result_mixed = algo_mixed(A, L, f_max, x_max,30, prioritize=\"yes\")\n",
    "result_mixed"
   ]
  },
  {
   "cell_type": "markdown",
   "id": "ccef6611",
   "metadata": {},
   "source": [
    "## Priority rationing"
   ]
  },
  {
   "cell_type": "markdown",
   "id": "aaa91a63",
   "metadata": {},
   "source": [
    "Largest first rationing; firms are prioritized over the final consumer. Take\n",
    "an initial demand vector $f[0] = f$\n",
    "max as given, implying an initial aggregate demand vector\n",
    "$d[1] = Lf[0]$. Every firm $i$ ranks each customers based on initial demand size. Let  $h_{ij}$ be the $j$ largest customers of firm $i$: $h_{ij} =\n",
    "\\{k(1), k(2), ..., k(j)\n",
    ": A_{ik(1)}d_{k(1)} [1] ≥ A_{ik(2)}d_{k(2)} [1] ≥ ... ≥ A_{ik(j)}\n",
    "d_{k(j)}[1] \\}$. By looping over the\n",
    "index $t = {1, 2, ...}$, the following system is iterated forward:\n",
    "\n",
    "Formulas:\n",
    "\n",
    "$$ r_{ij}[t] = \\frac{x_i^{\\text{max}}}{\\sum_{n\\in h_{ij}}A_{ih(j)}d_{n_{(j)}}[t]} $$\n",
    "\n",
    "$$ s_i[t] = min_j \\{r_{ji}[t], 1\\} $$\n",
    "\n",
    "$$ x_i[t] = \\text{min}\\{x_i^{\\text{max}}, s_i[t]d_i[t]\\} $$\n",
    "\n",
    "$$ f_i[t] = \\text{max} \\Big\\{ x_i[t] - \\sum_{i} a_{ij} x_j[t], 0 \\Big\\}$$\n",
    "\n",
    "$$ d_i[t+1] = \\sum_{j} l_{ij} f_j[t] $$\n",
    "\n",
    "The algorithm converges to a new feasible economic allocation if $d_i[t+1] = d_i[t]$ for all i."
   ]
  },
  {
   "cell_type": "code",
   "execution_count": 27,
   "id": "3a90b1f7",
   "metadata": {},
   "outputs": [],
   "source": [
    "def order(A, L, fmax):\n",
    "    d = np.matmul(L, fmax)\n",
    "    list_1 = []      # list we will sort\n",
    "    list_2 = []      # list that will not be sorted to find the original indices\n",
    "    for i in range(A.shape[0]):\n",
    "        list_1.append([])\n",
    "        list_2.append([])\n",
    "    for i in range(A.shape[0]):\n",
    "        for j in range(A.shape[0]):\n",
    "            list_1[i].append(A[i][j]*d[j])    # list_1[i][j] = list_2[i][j] = A[i][j]*d[j]\n",
    "            list_2[i].append(A[i][j]*d[j])\n",
    "        list_1[i].sort(reverse = True)        # we sort list_1: A[i][j]*d[j] >= A[i][j+1]*d[j+1]\n",
    "\n",
    "    names_ordered=[]\n",
    "    for i in range(A.shape[0]):\n",
    "        names_ordered.append([])\n",
    "    \n",
    "    for i in range(A.shape[0]):\n",
    "        for k in list_1[i]:                  # we take the indices of the j+1 (j from 0 to N-1) biggest suppliers of industry i. \n",
    "                for l in range(A.shape[0]):    \n",
    "                    if list_2[i][l] == k:\n",
    "                        names_ordered[i].append(l)   \n",
    "    return names_ordered"
   ]
  },
  {
   "cell_type": "code",
   "execution_count": 28,
   "id": "18fdf5b6",
   "metadata": {},
   "outputs": [],
   "source": [
    "def algo_priority(A, L, fmax, xmax, ordered, TT= 30, prioritize=\"yes\"): \n",
    "    fout = [0]                \n",
    "    x = [0]\n",
    "    fvec = []   # initial demand vector\n",
    "    fvec.append(fmax)\n",
    "    rvec = [0]  # output constraints\n",
    "    s = [0]     # input bottlenecks \n",
    "    d = [0]     # aggregated demand vector \n",
    "    d.append(np.matmul(L, fvec[0])) #d[1] = L*f[0]\n",
    "    \n",
    "    list_ = [1] \n",
    "    t=1\n",
    "    epsilon = 1e-6\n",
    "    \n",
    "    while not np.all(abs(d[t] - d[t-1]) < epsilon) and t<TT:\n",
    "        #print('\\nIteration {0}'.format(t))\n",
    "        #print('---------')\n",
    "        #print('Initial aggregated demand: {}'.format(d[t]))\n",
    "        rvec.append([np.zeros(N)])\n",
    "        s.append(np.ones(N))\n",
    "        fvec.append(np.ones(N))\n",
    "        x.append(np.ones(N))\n",
    "        fout.append(np.ones(N))\n",
    "        d.append(np.ones(N))\n",
    "        demand = np.identity(N)\n",
    "        \n",
    "        som = 0\n",
    "        for i in range(0,N):\n",
    "            for j in range(0,N):\n",
    "                for k in ordered[i][:j+1]:\n",
    "                    som = som + A[i][k]*d[t][k] \n",
    "                demand[i][j] = som   #demand[i][j] = demand of j'th biggest customers of firm i summed up\n",
    "                som = 0\n",
    "        remainder = np.identity(N)\n",
    "    \n",
    "        for i in range(0,N):\n",
    "            for j in range(0,N):\n",
    "                remainder[i][j] = xmax[i] - demand[i][j]\n",
    "                \n",
    "        ####################################################\n",
    "        ####################### rvec #######################\n",
    "        ####################################################\n",
    "        for i in range(0,N):\n",
    "            rvec[t].append([])\n",
    "        for i in range(0,N):\n",
    "            if all(remainder[i][j]>0 for j in range(0,N)):\n",
    "                rvec[t][i] = np.ones(N) \n",
    "            elif all(remainder[i][j]<=0 for j in range(0,N)): \n",
    "                rvec[t][i] = np.zeros(N)\n",
    "                for k in ordered[i][:1]: \n",
    "                    rvec[t][i][k] = xmax[i]/demand[i][0]\n",
    "        \n",
    "            else: \n",
    "                idx = np.where(remainder[i]<=0) # index for partially met demand\n",
    "                idx_fully = np.where(remainder[i]>0) \n",
    "                length = len(idx_fully[0])\n",
    "                rvec[t][i] = np.zeros(N)\n",
    "                for l in range(0,length-1):\n",
    "                    index = ordered[i][l]\n",
    "                    rvec[t][i][index] = 1\n",
    "                m = ordered[i][length-1]\n",
    "                rvec[t][i][m] = remainder[i][length-1]/(demand[i][length]-demand[i][length-1])\n",
    "          \n",
    "        #####################################################\n",
    "        ################# Input bottlenecks #################\n",
    "        #####################################################\n",
    "        for i in range(0,N):\n",
    "            for j in range(0,N):\n",
    "                if A[j][i]>0:\n",
    "                    list_.append(rvec[t][j][i])\n",
    "            s[t][i] = min(list_)\n",
    "            list_ = [1]   \n",
    "        #print('Input bottlenecks:         {}'.format(s[t]))\n",
    "        \n",
    "        ######################################################\n",
    "        ############### Constrained Production ###############\n",
    "        ######################################################\n",
    "        for i in range(0,N):\n",
    "            x[t][i] = min(xmax[i], s[t][i]*d[t][i])\n",
    "        #print(x)\n",
    "        for i in range(0,N):\n",
    "            fout[t][i] = s[t][i]*d[t][i]\n",
    "        ######################################################\n",
    "        ################ Constrained Delivery ################\n",
    "        ######################################################\n",
    "        for i in range(0,len(xmax)):\n",
    "            fvec[t][i] = max(x[t][i] - np.matmul(A[i],fout[t]),0)\n",
    "        \n",
    "        ######################################################\n",
    "        ################ Aggregated demand ###################\n",
    "        ######################################################\n",
    "        for i in range(0,len(xmax)):\n",
    "            d[t+1][i] = np.matmul(L[i],fvec[t])\n",
    "            \n",
    "        t=t+1\n",
    "        if t==TT:\n",
    "            print(\"Algorithm did not converge\")\n",
    "            #return(None, None)\n",
    "        #print(d[t])\n",
    "    return sum(x[t-1])/sum(x_0), sum(fvec[t-1])/sum(f_0), t"
   ]
  },
  {
   "cell_type": "code",
   "execution_count": 29,
   "id": "4cdf6843",
   "metadata": {},
   "outputs": [
    {
     "data": {
      "text/plain": [
       "(0.0, 0.0, 3)"
      ]
     },
     "execution_count": 29,
     "metadata": {},
     "output_type": "execute_result"
    }
   ],
   "source": [
    "names_ordered = order(A,L,f_max)\n",
    "result_priority = algo_priority(A, L, f_max, x_max, names_ordered, prioritize=\"yes\")\n",
    "result_priority"
   ]
  },
  {
   "cell_type": "markdown",
   "id": "abd98788",
   "metadata": {},
   "source": [
    "## Random rationing"
   ]
  },
  {
   "cell_type": "markdown",
   "id": "729f8665",
   "metadata": {},
   "source": [
    "Suppliers rank their customers randomly. The computations for this algorithm are the same as for\n",
    "the priority rationing method. The only difference is the ranking $h_{ij}$ of the customers of\n",
    "each industry $i$, which is now randomly taken. We implement the rationing algorithm\n",
    "by taking the average from $100$ samples."
   ]
  },
  {
   "cell_type": "code",
   "execution_count": 30,
   "id": "6063db8e",
   "metadata": {},
   "outputs": [],
   "source": [
    "from random import randrange"
   ]
  },
  {
   "cell_type": "code",
   "execution_count": 31,
   "id": "71467e93",
   "metadata": {},
   "outputs": [],
   "source": [
    "def algo_random(A, L, fmax, xmax, runs, prioritize = \"random\"):\n",
    "    x = []\n",
    "    y = []\n",
    "    while len(x)<runs:\n",
    "        random_ordered=[]\n",
    "        for i in range(N):\n",
    "            random_ordered.append([])\n",
    "    \n",
    "        for i in range(N):\n",
    "            while len(random_ordered[i])<N:\n",
    "                random = randrange(N)\n",
    "                while random in random_ordered[i]:\n",
    "                    random = randrange(N)# we willen nu de indices van de j+1 (j van 0 tot en met N-1) grootste suppliers  \n",
    "                random_ordered[i].append(random)\n",
    "                \n",
    "        result = algo_priority(A, L, fmax, xmax, random_ordered, TT = 25, prioritize=\"yes\")\n",
    "        if result[0] != None:\n",
    "            x.append(result[0])\n",
    "            y.append(result[1])\n",
    "    return sum(x)/len(x), sum(y)/len(y)"
   ]
  },
  {
   "cell_type": "code",
   "execution_count": 32,
   "id": "b1dc2619",
   "metadata": {},
   "outputs": [
    {
     "data": {
      "text/plain": [
       "(0.014302092965906659, 0.014352231596120806)"
      ]
     },
     "execution_count": 32,
     "metadata": {},
     "output_type": "execute_result"
    }
   ],
   "source": [
    "result_random = algo_random(A, L, f_max, x_max, 100, prioritize = \"random\")\n",
    "result_random"
   ]
  },
  {
   "cell_type": "markdown",
   "id": "66d11861",
   "metadata": {},
   "source": [
    "### Summary of all the impact predicitions:"
   ]
  },
  {
   "cell_type": "code",
   "execution_count": 33,
   "id": "e97958d6",
   "metadata": {},
   "outputs": [
    {
     "name": "stdout",
     "output_type": "stream",
     "text": [
      "(0.1512270465545405, 0.1521682361425501, 3)\n",
      "(0.28565653783926315, 0.28751526479783635, 3)\n",
      "(0.0, 0.0, 3)\n",
      "(0.014302092965906659, 0.014352231596120806)\n",
      "(0.6251353593714393, 0.6320096267938023)\n",
      "(0.6251351637109838, 0.6320096267938027)\n",
      "(0.6913968179397156, 0.9132079048009223)\n"
     ]
    }
   ],
   "source": [
    "print(result_proportional)\n",
    "print(result_mixed)\n",
    "print(result_priority)\n",
    "print(result_random)\n",
    "\n",
    "print(Max_output)\n",
    "print(Max_consumption)\n",
    "print(direct_shock)"
   ]
  },
  {
   "cell_type": "code",
   "execution_count": 34,
   "id": "65fbc0ae",
   "metadata": {},
   "outputs": [
    {
     "data": {
      "image/png": "[encoded data removed]",
      "text/plain": [
       "<Figure size 640x480 with 1 Axes>"
      ]
     },
     "metadata": {},
     "output_type": "display_data"
    }
   ],
   "source": [
    "import matplotlib.pyplot as plt\n",
    "plt.style.use('ggplot')\n",
    "plt.title(\"Germany\")\n",
    "plt.grid(visible=None, which='major', axis='both', linestyle='-', linewidth=1)\n",
    "\n",
    "plt.plot(result_proportional[1], result_proportional[0], 'b^')\n",
    "plt.plot(result_mixed[1], result_mixed[0], 'b^')\n",
    "plt.plot(result_random[1], result_random[0], 'b^')\n",
    "plt.plot(result_priority[1], result_priority[0], 'b^')\n",
    "plt.plot(Max_consumption[1], Max_consumption[0], 'b^')\n",
    "plt.plot(Max_output[1], Max_output[0], 'b^')\n",
    "plt.plot(direct_shock[1], direct_shock[0], 'b^')\n",
    "#x = np.linspace(-0.09,1.1)\n",
    "#y = x\n",
    "#plt.plot(x,y, 'k--', linewidth =0.5)\n",
    "\n",
    "plt.text(0.1,0.1,'Proportional')\n",
    "plt.text(0.23,0.23,'Mixed')\n",
    "plt.text(-0.06,0.04,'Random')\n",
    "plt.text(-0.07,-0.05,'Priority')\n",
    "plt.text(0.54,0.58, 'Maximize f')\n",
    "plt.text(0.55,0.64, 'Maximize x')\n",
    "plt.text(0.79,0.71, 'Direct shock')\n",
    "\n",
    "plt.xlim(-0.09, 1) \n",
    "plt.ylim(-0.09, 1)\n",
    "\n",
    "plt.xlabel(\"Final Consumption\")\n",
    "plt.ylabel(\"Gross Output\")\n",
    "plt.savefig('plot_Germany.png')\n",
    "plt.show()"
   ]
  },
  {
   "cell_type": "markdown",
   "id": "bdad48c4",
   "metadata": {},
   "source": [
    "# Shock Magnitude Effect"
   ]
  },
  {
   "cell_type": "markdown",
   "id": "18e09573",
   "metadata": {},
   "source": [
    "We now investigate how these results depend on the magnitude of the initial shocks. We follow\n",
    "the approach of Pichler and Farmer, who have done this by rescaling supply and demand shocks and then applying the optimization methods and the rationing algorithms to the new shock data. By doing this for various shocks scales, we can investigate how the\n",
    "impact predictions change in function of the shock scale. We use different scaling factors for demand and supply constraints:\n",
    "\n",
    "$$ x^{max}_i = (1-\\alpha^S\\varepsilon_i^S)x_{i,0}$$\n",
    "\n",
    "$$ f^{max}_i = (1-\\alpha^D\\varepsilon_i^D)f_{i,0}$$\n",
    "\n",
    "Where $\\alpha^S$ and $\\alpha^D$ lie between $0$ and $1$. "
   ]
  },
  {
   "cell_type": "code",
   "execution_count": 35,
   "id": "c23734df",
   "metadata": {},
   "outputs": [],
   "source": [
    "def shockscale(x, xmax, f, fmax, scale_x, scale_f):\n",
    "    ss_full = np.divide(xmax,x)-1\n",
    "    ds_full = np.divide(fmax,f)-1\n",
    "    \n",
    "    ss = ss_full*scale_x\n",
    "    \n",
    "    x_shocked = np.zeros(N)\n",
    "    \n",
    "    for i in range (0,N):\n",
    "        x_shocked[i] = (np.ones(N)+ ss)[i]*x[i]\n",
    "\n",
    "    \n",
    "    ds = ds_full*scale_f\n",
    "    f_shocked = np.zeros(N)\n",
    "    \n",
    "    for i in range (0,N):\n",
    "        f_shocked[i] = (np.ones(N)+ ds)[i]*f[i]\n",
    "    \n",
    "    return x_shocked, f_shocked"
   ]
  },
  {
   "cell_type": "markdown",
   "id": "1fb51823",
   "metadata": {},
   "source": [
    "### Direct shocks"
   ]
  },
  {
   "cell_type": "code",
   "execution_count": 36,
   "id": "43352eb4",
   "metadata": {},
   "outputs": [],
   "source": [
    "def scale_run_direct_shock(scalewhat = \"both\", seq = np.linspace(0,1,100)):    \n",
    "    res_dir_x = []\n",
    "    res_dir_f = []\n",
    "    for i in range(0, len(seq)):\n",
    "        if scalewhat == \"both\":\n",
    "            scaleres = shockscale(x_0, x_max, f_0, f_max, scale_x=seq[i], scale_f=seq[i])\n",
    "            \n",
    "        if scalewhat == \"supply\":\n",
    "            scaleres = shockscale(x_0, x_max, f_0, f_max, scale_x=seq[i], scale_f=0)\n",
    "            \n",
    "        if scalewhat == \"demand\":\n",
    "            scaleres = shockscale(x_0, x_max, f_0, f_max, scale_x=0, scale_f=seq[i])\n",
    "            \n",
    "    \n",
    "        res_dir_x.append(sum(scaleres[0])/sum(x_0))\n",
    "        res_dir_f.append(sum(scaleres[1])/sum(f_0)) \n",
    "    dataframe = {'x': res_dir_x,\n",
    "                 'f': res_dir_f,\n",
    "                'Scale': scalewhat, 'Algorithm': 'Direct_shock', 'a': seq}\n",
    "    df = pd.DataFrame(dataframe)\n",
    "        \n",
    "    return df"
   ]
  },
  {
   "cell_type": "code",
   "execution_count": 37,
   "id": "6ed11247",
   "metadata": {},
   "outputs": [],
   "source": [
    "x_direct_D = np.array(scale_run_direct_shock(scalewhat = \"demand\",  seq = np.linspace(0,1,100)).iloc[:,0].astype('float'))\n",
    "a_direct_D = np.array(scale_run_direct_shock(scalewhat = \"demand\",  seq = np.linspace(0,1,100)).iloc[:,4].astype('float'))"
   ]
  },
  {
   "cell_type": "markdown",
   "id": "16cfe1cd",
   "metadata": {},
   "source": [
    "### Rationing"
   ]
  },
  {
   "cell_type": "code",
   "execution_count": 38,
   "id": "600e2a66",
   "metadata": {},
   "outputs": [],
   "source": [
    "TT = 25"
   ]
  },
  {
   "cell_type": "code",
   "execution_count": 39,
   "id": "a41fa952",
   "metadata": {},
   "outputs": [],
   "source": [
    "def scale_run_rationing(scalewhat = \"both\",  seq = np.linspace(0,1,100)):\n",
    "    res1x = []\n",
    "    res1f = []\n",
    "    \n",
    "    res2x = []\n",
    "    res2f = []\n",
    "    \n",
    "    res3x = []\n",
    "    res3f = []\n",
    "    i=0\n",
    "    while i <len(seq):\n",
    "        if scalewhat == \"both\":\n",
    "            scaleres = shockscale(x_0, x_max, f_0, f_max,scale_x=seq[i], scale_f=seq[i])\n",
    "            \n",
    "        if scalewhat == \"supply\":\n",
    "            scaleres = shockscale(x_0, x_max, f_0, f_max,scale_x=seq[i], scale_f=0)\n",
    "            \n",
    "        if scalewhat == \"demand\":\n",
    "            scaleres = shockscale(x_0, x_max, f_0, f_max,scale_x=0, scale_f=seq[i])\n",
    "        \n",
    "        res1 = algo_proportional(A, L, scaleres[1], scaleres[0], TT, prioritize = \"no\")\n",
    "        res2 = algo_mixed(A, L, scaleres[1], scaleres[0],TT, prioritize=\"yes\")\n",
    "        \n",
    "        names_ordered = order(A,L,scaleres[1])\n",
    "        res3 = algo_priority(A, L, scaleres[1], scaleres[0], names_ordered, TT, prioritize=\"yes\")\n",
    "        \n",
    "        if res1[2] != 100:\n",
    "            res1x.append(res1[0])\n",
    "            res1f.append(res1[1])\n",
    "        else:\n",
    "            res1x.append('NaN')\n",
    "            res1f.append('NaN')\n",
    "        \n",
    "        if res2[2] != 100:\n",
    "            res2x.append(res2[0])\n",
    "            res2f.append(res2[1])\n",
    "        else:\n",
    "            res2x.append('NaN')\n",
    "            res2f.append('NaN')\n",
    "            \n",
    "        if res3[2] != 100:\n",
    "            res3x.append(res3[0])\n",
    "            res3f.append(res3[1])\n",
    "        else:\n",
    "            res2x.append('NaN')\n",
    "            res2f.append('NaN')\n",
    "        i= i+1\n",
    "    \n",
    "    dataframe1 = {'x': res1x, 'f': res1f, 'Scale': scalewhat, 'Algorithm': 'Proportional', 'a': seq }\n",
    "    df1 = pd.DataFrame(dataframe1)\n",
    "    \n",
    "    dataframe2 = {'x': res2x, 'f': res2f, 'Scale': scalewhat, 'Algorithm': 'Mixed', 'a': seq }\n",
    "    df2 = pd.DataFrame(dataframe2)\n",
    "    \n",
    "    dataframe3 = {'x': res3x, 'f': res3f, 'Scale': scalewhat, 'Algorithm': 'Priority', 'a': seq }  \n",
    "    df3 = pd.DataFrame(dataframe3)\n",
    "    \n",
    "    return df1, df2, df3"
   ]
  },
  {
   "cell_type": "code",
   "execution_count": 40,
   "id": "6c236be2",
   "metadata": {},
   "outputs": [],
   "source": [
    "def scale_run_random_rationing(scalewhat = \"both\", seq = np.linspace(0,1,100)):\n",
    "    res4x = []\n",
    "    res4f = []\n",
    "    i=0\n",
    "    while i < len(seq):\n",
    "        if scalewhat == \"both\":\n",
    "            scaleres = shockscale(x_0, x_max, f_0, f_max,scale_x=seq[i], scale_f=seq[i])\n",
    "            \n",
    "        if scalewhat == \"supply\":\n",
    "            scaleres = shockscale(x_0, x_max, f_0, f_max,scale_x=seq[i], scale_f=0)\n",
    "            \n",
    "        if scalewhat == \"demand\":\n",
    "            scaleres = shockscale(x_0, x_max, f_0, f_max,scale_x=0, scale_f=seq[i])\n",
    "        \n",
    "        \n",
    "        res4 = algo_random(A, L, scaleres[1], scaleres[0], 50, prioritize = \"random\")\n",
    "        res4x.append(res4[0])\n",
    "        res4f.append(res4[1]) \n",
    "        \n",
    "        print(i)\n",
    "        i = i+1\n",
    "    \n",
    "    dataframe4 = {'x': res4x, 'f': res4f, 'Scale': scalewhat, 'Algorithm': 'Random', 'a': seq}  \n",
    "    df4 = pd.DataFrame(dataframe4)\n",
    "    \n",
    "    return df4"
   ]
  },
  {
   "cell_type": "markdown",
   "id": "0c03fc57",
   "metadata": {},
   "source": [
    "### Optimization"
   ]
  },
  {
   "cell_type": "markdown",
   "id": "e77131ee",
   "metadata": {},
   "source": [
    "**Optimizing output**"
   ]
  },
  {
   "cell_type": "code",
   "execution_count": 41,
   "id": "ba8f5644",
   "metadata": {},
   "outputs": [],
   "source": [
    "def scale_run_optimizationX(scalewhat = \"both\", runs = 100, seq = np.linspace(0,1,100)):\n",
    "    resmax_output_x = []\n",
    "    resmax_output_f = []\n",
    "    \n",
    "    i=0\n",
    "    while i <len(seq):\n",
    "        if scalewhat == \"both\":\n",
    "            scaleres = shockscale(x_0, x_max, f_0, f_max, scale_x=seq[i], scale_f=seq[i])\n",
    "            \n",
    "        if scalewhat == \"supply\":\n",
    "            scaleres = shockscale(x_0, x_max, f_0, f_max, scale_x=seq[i], scale_f=0)\n",
    "            \n",
    "        if scalewhat == \"demand\":\n",
    "            scaleres = shockscale(x_0, x_max, f_0, f_max, scale_x=0, scale_f=seq[i])\n",
    "        \n",
    "        #print(scaleres[0])\n",
    "        resmaxX = max_output(N , L, A, xmax = scaleres[0], fmax=scaleres[1])\n",
    "        #print(resmaxX)\n",
    "        if resmaxX[0] == True:\n",
    "        #print(resmaxX)\n",
    "            resmax_output_x.append(resmaxX[1])\n",
    "            resmax_output_f.append(resmaxX[2])\n",
    "        else: \n",
    "            resmax_output_x.append('NaN')\n",
    "            resmax_output_f.append('NaN')\n",
    "            \n",
    "            \n",
    "        i = i+1\n",
    "        \n",
    "        \n",
    "    dataframe = {'x': resmax_output_x,\n",
    "                 'f': resmax_output_f,\n",
    "                'Scale': scalewhat, 'Algorithm': 'Max_output', 'a': seq}\n",
    "    df = pd.DataFrame(dataframe)\n",
    "    \n",
    "    return df"
   ]
  },
  {
   "cell_type": "code",
   "execution_count": 42,
   "id": "d71d6292",
   "metadata": {},
   "outputs": [],
   "source": [
    "#scale_run_optimizationX(scalewhat = \"both\", runs = 100, seq = np.linspace(0,1,100)) # output ok!!\n",
    "#scale_run_optimizationX(scalewhat = \"demand\", runs = 100, seq = np.linspace(0,1,100)) # output ok!!\n",
    "#scale_run_optimizationX(scalewhat = \"supply\", runs = 100, seq = np.linspace(0,1,100)) # output ok!!"
   ]
  },
  {
   "cell_type": "markdown",
   "id": "046112f9",
   "metadata": {},
   "source": [
    "**Optimizing consumption**"
   ]
  },
  {
   "cell_type": "code",
   "execution_count": 43,
   "id": "57829d1f",
   "metadata": {},
   "outputs": [],
   "source": [
    "def scale_run_optimizationF(scalewhat = \"both\", seq = np.linspace(0,1,100)):\n",
    "\n",
    "    resmax_consumption_x = []\n",
    "    resmax_consumption_f = []\n",
    "    \n",
    "    i=0\n",
    "    while i <len(seq):\n",
    "        if scalewhat == \"both\":\n",
    "            scaleres = shockscale(x_0, x_max, f_0, f_max, scale_x=seq[i], scale_f=seq[i])\n",
    "            \n",
    "        if scalewhat == \"supply\":\n",
    "            scaleres = shockscale(x_0, x_max, f_0, f_max, scale_x=seq[i], scale_f=0)\n",
    "            \n",
    "        if scalewhat == \"demand\":\n",
    "            scaleres = shockscale(x_0, x_max, f_0, f_max, scale_x=0, scale_f=seq[i])\n",
    "        \n",
    "        \n",
    "            \n",
    "        resmaxF = max_consumption(N , L, A, xmax = scaleres[0], fmax=scaleres[1])\n",
    "        #print(resmaxX)\n",
    "        if resmaxF[0] == True:\n",
    "        #print(resmaxX)\n",
    "            resmax_consumption_x.append(resmaxF[1])\n",
    "            resmax_consumption_f.append(resmaxF[2])\n",
    "        else: \n",
    "            resmax_consumption_x.append(NaN)\n",
    "            resmax_consumption_f.append(NaN)\n",
    "        \n",
    "        i = i+1\n",
    "        \n",
    "        \n",
    "    dataframe = {'x': resmax_consumption_x,\n",
    "                 'f': resmax_consumption_f,\n",
    "                'Scale': scalewhat, 'Algorithm': 'Max_consumption', 'a': seq}\n",
    "    df = pd.DataFrame(dataframe)\n",
    "    \n",
    "    return df"
   ]
  },
  {
   "cell_type": "code",
   "execution_count": 44,
   "id": "57304e06",
   "metadata": {},
   "outputs": [],
   "source": [
    "x_opt_D = np.array(scale_run_optimizationX(scalewhat = \"demand\",  seq = np.linspace(0,1,100)).iloc[:,0].astype('float'))\n",
    "a_opt_D = np.array(scale_run_optimizationX(scalewhat = \"demand\",  seq = np.linspace(0,1,100)).iloc[:,4].astype('float'))"
   ]
  },
  {
   "cell_type": "markdown",
   "id": "77d650f7",
   "metadata": {},
   "source": [
    "# Results"
   ]
  },
  {
   "cell_type": "markdown",
   "id": "83ded27e",
   "metadata": {},
   "source": [
    "## No supply shocks"
   ]
  },
  {
   "cell_type": "markdown",
   "id": "d0b7a823",
   "metadata": {},
   "source": [
    "We first investigate the impact of the demand shock magnitude on the economic impact\n",
    "predictions. To do this, we set $\\alpha^S = 0$ and we let $\\alpha^D$ range between 0 and 1. For 100\n",
    "different values of $\\alpha^D$, we apply the optimization methods and the rationing algorithms\n",
    "to the new shock data."
   ]
  },
  {
   "cell_type": "code",
   "execution_count": 45,
   "id": "687c8f19",
   "metadata": {},
   "outputs": [
    {
     "data": {
      "image/png": "[encoded data removed]",
      "text/plain": [
       "<Figure size 640x480 with 1 Axes>"
      ]
     },
     "metadata": {},
     "output_type": "display_data"
    }
   ],
   "source": [
    "import matplotlib.pyplot as plt\n",
    "plt.style.use('ggplot')\n",
    "plt.title(\"Germany\")\n",
    "plt.grid(visible=None, which='major', axis='both', linestyle='-', linewidth=1)\n",
    "plt.plot(a_direct_D, x_direct_D)\n",
    "plt.plot(a_opt_D, x_opt_D)\n",
    "plt.xlim(-0.05, 1) \n",
    "plt.ylim(-0.00,1.1)\n",
    "\n",
    "#plt.rcParams['text.usetex'] = True\n",
    "plt.xlabel(r'$\\alpha^D$')\n",
    "plt.ylabel(\"Gross Output (% of pre-shock level)\")\n",
    "plt.legend(['Direct shock', 'Optimization and Rationing'])\n",
    "plt.savefig('plot_deu_scale_demand.png')"
   ]
  },
  {
   "cell_type": "markdown",
   "id": "ab9df3c7",
   "metadata": {},
   "source": [
    "## No demand shocks"
   ]
  },
  {
   "cell_type": "markdown",
   "id": "e8e7e15c",
   "metadata": {},
   "source": [
    "We now look at what happens if we only rescale the supply shock and set $\\alpha^D = 0$."
   ]
  },
  {
   "cell_type": "code",
   "execution_count": 46,
   "id": "2b7534f8",
   "metadata": {},
   "outputs": [],
   "source": [
    "result_direct = scale_run_direct_shock(scalewhat = \"supply\",  seq = np.linspace(0,1,100)) #ok: zelfde resultaat\n",
    "x_direct = np.array(result_direct.iloc[:,0].astype('float'))\n",
    "a_direct = np.array(result_direct.iloc[:,4].astype('float'))\n",
    "\n",
    "result_opt = scale_run_optimizationX(scalewhat = \"supply\", runs = 100, seq = np.linspace(0,1,100)) #ok \n",
    "x_opt= np.array(result_opt.iloc[:,0].astype('float'))\n",
    "a_opt = np.array(result_opt.iloc[:,4].astype('float'))\n",
    "\n",
    "\n",
    "result_prop = scale_run_rationing(scalewhat = \"supply\",  seq = np.linspace(0,1,100))[0] #ok: zelfde resultaat\n",
    "x_prop = np.array(result_prop.iloc[:,0].astype('float'))\n",
    "a_prop = np.array(result_prop.iloc[:,4].astype('float'))\n",
    "\n",
    "result_mixed = scale_run_rationing(scalewhat = \"supply\",  seq = np.linspace(0,1,100))[1] #ok: zelfde resultaat\n",
    "x_mixed = np.array(result_mixed.iloc[:,0].astype('float'))\n",
    "a_mixed = np.array(result_mixed.iloc[:,4].astype('float'))\n",
    "\n",
    "result_priority = scale_run_rationing(scalewhat = \"supply\",  seq = np.linspace(0,1,100))[2]\n",
    "x_priority = np.array(result_priority.iloc[:,0].astype('float'))\n",
    "a_priority = np.array(result_priority.iloc[:,4].astype('float'))"
   ]
  },
  {
   "cell_type": "code",
   "execution_count": 47,
   "id": "a31f3d9d",
   "metadata": {},
   "outputs": [
    {
     "name": "stdout",
     "output_type": "stream",
     "text": [
      "0\n",
      "1\n",
      "2\n",
      "3\n",
      "4\n",
      "5\n",
      "6\n",
      "7\n",
      "8\n",
      "9\n",
      "10\n",
      "11\n",
      "12\n",
      "13\n",
      "14\n",
      "15\n",
      "16\n",
      "17\n",
      "18\n",
      "19\n",
      "20\n",
      "21\n",
      "22\n",
      "23\n",
      "24\n",
      "25\n",
      "26\n",
      "27\n",
      "28\n",
      "29\n",
      "30\n",
      "31\n",
      "32\n",
      "33\n",
      "34\n",
      "35\n",
      "36\n",
      "37\n",
      "38\n",
      "39\n",
      "40\n",
      "41\n",
      "42\n",
      "43\n",
      "44\n",
      "45\n",
      "46\n",
      "47\n",
      "48\n",
      "49\n",
      "50\n",
      "Algorithm did not converge\n",
      "51\n",
      "52\n",
      "53\n",
      "54\n",
      "55\n",
      "56\n",
      "57\n",
      "58\n",
      "Algorithm did not converge\n",
      "59\n",
      "60\n",
      "61\n",
      "Algorithm did not converge\n",
      "62\n",
      "Algorithm did not converge\n",
      "Algorithm did not converge\n",
      "Algorithm did not converge\n",
      "63\n",
      "64\n",
      "Algorithm did not converge\n",
      "65\n",
      "Algorithm did not converge\n",
      "66\n",
      "67\n",
      "68\n",
      "Algorithm did not converge\n",
      "69\n",
      "70\n",
      "Algorithm did not converge\n",
      "71\n",
      "72\n",
      "73\n",
      "74\n",
      "75\n",
      "76\n",
      "77\n",
      "78\n",
      "79\n",
      "80\n",
      "81\n",
      "82\n",
      "83\n",
      "84\n",
      "85\n",
      "86\n",
      "87\n",
      "88\n",
      "89\n",
      "90\n",
      "91\n",
      "92\n",
      "93\n",
      "94\n",
      "95\n",
      "96\n",
      "97\n",
      "98\n",
      "99\n"
     ]
    }
   ],
   "source": [
    "result_random = scale_run_random_rationing(scalewhat = \"supply\", seq = np.linspace(0,1,100))\n",
    "x_random = np.array(result_random.iloc[:,0].astype('float'))\n",
    "a_random = np.array(result_random.iloc[:,4].astype('float'))"
   ]
  },
  {
   "cell_type": "code",
   "execution_count": 48,
   "id": "0bda5684",
   "metadata": {},
   "outputs": [
    {
     "data": {
      "text/html": [
       "<div>\n",
       "<style scoped>\n",
       "    .dataframe tbody tr th:only-of-type {\n",
       "        vertical-align: middle;\n",
       "    }\n",
       "\n",
       "    .dataframe tbody tr th {\n",
       "        vertical-align: top;\n",
       "    }\n",
       "\n",
       "    .dataframe thead th {\n",
       "        text-align: right;\n",
       "    }\n",
       "</style>\n",
       "<table border=\"1\" class=\"dataframe\">\n",
       "  <thead>\n",
       "    <tr style=\"text-align: right;\">\n",
       "      <th></th>\n",
       "      <th>x</th>\n",
       "      <th>f</th>\n",
       "      <th>Scale</th>\n",
       "      <th>Algorithm</th>\n",
       "      <th>a</th>\n",
       "    </tr>\n",
       "  </thead>\n",
       "  <tbody>\n",
       "    <tr>\n",
       "      <th>0</th>\n",
       "      <td>1.000000</td>\n",
       "      <td>1.000000</td>\n",
       "      <td>supply</td>\n",
       "      <td>Random</td>\n",
       "      <td>0.000000</td>\n",
       "    </tr>\n",
       "    <tr>\n",
       "      <th>1</th>\n",
       "      <td>0.994988</td>\n",
       "      <td>0.995035</td>\n",
       "      <td>supply</td>\n",
       "      <td>Random</td>\n",
       "      <td>0.010101</td>\n",
       "    </tr>\n",
       "    <tr>\n",
       "      <th>2</th>\n",
       "      <td>0.989975</td>\n",
       "      <td>0.990071</td>\n",
       "      <td>supply</td>\n",
       "      <td>Random</td>\n",
       "      <td>0.020202</td>\n",
       "    </tr>\n",
       "    <tr>\n",
       "      <th>3</th>\n",
       "      <td>0.984963</td>\n",
       "      <td>0.985106</td>\n",
       "      <td>supply</td>\n",
       "      <td>Random</td>\n",
       "      <td>0.030303</td>\n",
       "    </tr>\n",
       "    <tr>\n",
       "      <th>4</th>\n",
       "      <td>0.979951</td>\n",
       "      <td>0.980142</td>\n",
       "      <td>supply</td>\n",
       "      <td>Random</td>\n",
       "      <td>0.040404</td>\n",
       "    </tr>\n",
       "    <tr>\n",
       "      <th>...</th>\n",
       "      <td>...</td>\n",
       "      <td>...</td>\n",
       "      <td>...</td>\n",
       "      <td>...</td>\n",
       "      <td>...</td>\n",
       "    </tr>\n",
       "    <tr>\n",
       "      <th>95</th>\n",
       "      <td>0.009302</td>\n",
       "      <td>0.009480</td>\n",
       "      <td>supply</td>\n",
       "      <td>Random</td>\n",
       "      <td>0.959596</td>\n",
       "    </tr>\n",
       "    <tr>\n",
       "      <th>96</th>\n",
       "      <td>0.010442</td>\n",
       "      <td>0.010557</td>\n",
       "      <td>supply</td>\n",
       "      <td>Random</td>\n",
       "      <td>0.969697</td>\n",
       "    </tr>\n",
       "    <tr>\n",
       "      <th>97</th>\n",
       "      <td>0.007184</td>\n",
       "      <td>0.006763</td>\n",
       "      <td>supply</td>\n",
       "      <td>Random</td>\n",
       "      <td>0.979798</td>\n",
       "    </tr>\n",
       "    <tr>\n",
       "      <th>98</th>\n",
       "      <td>0.000963</td>\n",
       "      <td>0.000942</td>\n",
       "      <td>supply</td>\n",
       "      <td>Random</td>\n",
       "      <td>0.989899</td>\n",
       "    </tr>\n",
       "    <tr>\n",
       "      <th>99</th>\n",
       "      <td>0.005702</td>\n",
       "      <td>0.005867</td>\n",
       "      <td>supply</td>\n",
       "      <td>Random</td>\n",
       "      <td>1.000000</td>\n",
       "    </tr>\n",
       "  </tbody>\n",
       "</table>\n",
       "<p>100 rows × 5 columns</p>\n",
       "</div>"
      ],
      "text/plain": [
       "           x         f   Scale Algorithm         a\n",
       "0   1.000000  1.000000  supply    Random  0.000000\n",
       "1   0.994988  0.995035  supply    Random  0.010101\n",
       "2   0.989975  0.990071  supply    Random  0.020202\n",
       "3   0.984963  0.985106  supply    Random  0.030303\n",
       "4   0.979951  0.980142  supply    Random  0.040404\n",
       "..       ...       ...     ...       ...       ...\n",
       "95  0.009302  0.009480  supply    Random  0.959596\n",
       "96  0.010442  0.010557  supply    Random  0.969697\n",
       "97  0.007184  0.006763  supply    Random  0.979798\n",
       "98  0.000963  0.000942  supply    Random  0.989899\n",
       "99  0.005702  0.005867  supply    Random  1.000000\n",
       "\n",
       "[100 rows x 5 columns]"
      ]
     },
     "execution_count": 48,
     "metadata": {},
     "output_type": "execute_result"
    }
   ],
   "source": [
    "result_random"
   ]
  },
  {
   "cell_type": "code",
   "execution_count": 49,
   "id": "e004a1da",
   "metadata": {},
   "outputs": [
    {
     "data": {
      "image/png": "[encoded data removed]",
      "text/plain": [
       "<Figure size 640x480 with 1 Axes>"
      ]
     },
     "metadata": {},
     "output_type": "display_data"
    }
   ],
   "source": [
    "plt.style.use('ggplot')\n",
    "plt.title(\"Germany\")\n",
    "plt.grid(visible=None, which='major', axis='both', linestyle='-', linewidth=1)\n",
    "\n",
    "plt.plot(a_direct, x_direct, 'black')\n",
    "plt.plot(a_opt, x_opt, 'red')\n",
    "plt.plot(a_prop, x_prop, 'green')\n",
    "plt.plot(a_mixed, x_mixed, 'grey')\n",
    "plt.plot(a_priority, x_priority, 'orange')\n",
    "plt.plot(a_random, x_random, 'blue')\n",
    "\n",
    "plt.xlim(-0.05, 1) \n",
    "plt.ylim(-0.00,1.1)\n",
    "#plt.rcParams['text.usetex'] = True\n",
    "plt.xlabel(r' $\\alpha^S$')\n",
    "plt.ylabel(\"Gross Output (% of pre-shock level)\")\n",
    "plt.legend(['Direct shock', 'Maximization', 'Proportional', 'Mixed', 'Priority', 'Random'])\n",
    "plt.savefig('plot_deu_scale.png')"
   ]
  }
 ],
 "metadata": {
  "kernelspec": {
   "display_name": "venv test",
   "language": "python",
   "name": "venv"
  },
  "language_info": {
   "codemirror_mode": {
    "name": "ipython",
    "version": 3
   },
   "file_extension": ".py",
   "mimetype": "text/x-python",
   "name": "python",
   "nbconvert_exporter": "python",
   "pygments_lexer": "ipython3",
   "version": "3.10.9"
  }
 },
 "nbformat": 4,
 "nbformat_minor": 5
}
