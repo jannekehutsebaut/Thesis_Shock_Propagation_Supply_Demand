{
 "cells": [
  {
   "cell_type": "code",
   "execution_count": 1,
   "id": "d69dad87",
   "metadata": {},
   "outputs": [],
   "source": [
    "import pandas as pd\n",
    "import numpy as np"
   ]
  },
  {
   "cell_type": "markdown",
   "id": "d575f677",
   "metadata": {},
   "source": [
    "# Data for final consumption and total output"
   ]
  },
  {
   "cell_type": "markdown",
   "id": "d12500d2",
   "metadata": {},
   "source": [
    "We apply our models to the input-output data of Germany. The data\n",
    "we use for initial output and final consumption per industry, as well as the supply and\n",
    "demand shock data is taken from:\n",
    "\n",
    "Pichler, A. and Farmer, J. D. (2021b). Simultaneous supply and demand constraints in\n",
    "input–output networks: the case of covid-19 in Germany, Italy and Spain (Version V1).\n",
    "Zenodo. https://doi.org/10.5281/zenodo.4326815"
   ]
  },
  {
   "cell_type": "markdown",
   "id": "9118cff0",
   "metadata": {},
   "source": [
    "## Final consumption"
   ]
  },
  {
   "cell_type": "code",
   "execution_count": 105,
   "id": "a0c01f4c",
   "metadata": {},
   "outputs": [
    {
     "data": {
      "text/html": [
       "<div>\n",
       "<style scoped>\n",
       "    .dataframe tbody tr th:only-of-type {\n",
       "        vertical-align: middle;\n",
       "    }\n",
       "\n",
       "    .dataframe tbody tr th {\n",
       "        vertical-align: top;\n",
       "    }\n",
       "\n",
       "    .dataframe thead th {\n",
       "        text-align: right;\n",
       "    }\n",
       "</style>\n",
       "<table border=\"1\" class=\"dataframe\">\n",
       "  <thead>\n",
       "    <tr style=\"text-align: right;\">\n",
       "      <th></th>\n",
       "      <th>Unnamed: 0</th>\n",
       "      <th>f</th>\n",
       "      <th>fmin</th>\n",
       "      <th>fmax</th>\n",
       "      <th>f.maxF</th>\n",
       "      <th>f.maxX</th>\n",
       "    </tr>\n",
       "  </thead>\n",
       "  <tbody>\n",
       "    <tr>\n",
       "      <th>50</th>\n",
       "      <td>O84</td>\n",
       "      <td>269853.634348</td>\n",
       "      <td>0</td>\n",
       "      <td>269318.264387</td>\n",
       "      <td>269318.264387</td>\n",
       "      <td>269318.264387</td>\n",
       "    </tr>\n",
       "    <tr>\n",
       "      <th>51</th>\n",
       "      <td>P85</td>\n",
       "      <td>183680.355850</td>\n",
       "      <td>0</td>\n",
       "      <td>182457.804162</td>\n",
       "      <td>182457.804162</td>\n",
       "      <td>182457.804162</td>\n",
       "    </tr>\n",
       "    <tr>\n",
       "      <th>52</th>\n",
       "      <td>Q</td>\n",
       "      <td>367113.497085</td>\n",
       "      <td>0</td>\n",
       "      <td>366661.984018</td>\n",
       "      <td>366661.984018</td>\n",
       "      <td>366661.984018</td>\n",
       "    </tr>\n",
       "    <tr>\n",
       "      <th>53</th>\n",
       "      <td>R_S</td>\n",
       "      <td>144059.737495</td>\n",
       "      <td>0</td>\n",
       "      <td>137891.080984</td>\n",
       "      <td>44044.563897</td>\n",
       "      <td>44044.563897</td>\n",
       "    </tr>\n",
       "    <tr>\n",
       "      <th>54</th>\n",
       "      <td>T</td>\n",
       "      <td>9955.779000</td>\n",
       "      <td>0</td>\n",
       "      <td>9955.778971</td>\n",
       "      <td>9955.778971</td>\n",
       "      <td>9955.778971</td>\n",
       "    </tr>\n",
       "  </tbody>\n",
       "</table>\n",
       "</div>"
      ],
      "text/plain": [
       "   Unnamed: 0              f  fmin           fmax         f.maxF  \\\n",
       "50        O84  269853.634348     0  269318.264387  269318.264387   \n",
       "51        P85  183680.355850     0  182457.804162  182457.804162   \n",
       "52          Q  367113.497085     0  366661.984018  366661.984018   \n",
       "53        R_S  144059.737495     0  137891.080984   44044.563897   \n",
       "54          T    9955.779000     0    9955.778971    9955.778971   \n",
       "\n",
       "           f.maxX  \n",
       "50  269318.264387  \n",
       "51  182457.804162  \n",
       "52  366661.984018  \n",
       "53   44044.563897  \n",
       "54    9955.778971  "
      ]
     },
     "execution_count": 105,
     "metadata": {},
     "output_type": "execute_result"
    }
   ],
   "source": [
    "fdata = pd.read_csv('fdat_deu.csv', sep = ',')\n",
    "f = fdata['f'].astype('float')\n",
    "fdata.tail()"
   ]
  },
  {
   "cell_type": "code",
   "execution_count": 106,
   "id": "47c44086",
   "metadata": {},
   "outputs": [
    {
     "name": "stdout",
     "output_type": "stream",
     "text": [
      "[0.1   0.1   0.1   0.1   0.1   0.1   0.1   0.1   0.1   0.1   0.099 0.081\n",
      " 0.1   0.1   0.1   0.1   0.099 0.1   0.1   0.1   0.099 0.099 0.1   0.023\n",
      " 0.015 0.036 0.1   0.1   0.098 0.095 0.569 0.114 0.503 0.223 0.034 0.731\n",
      " 0.038 0.043 0.011 0.088 0.029 0.013 0.02  0.002 0.093 0.094 0.083 0.1\n",
      " 0.035 0.042 0.002 0.007 0.001 0.043 0.   ]\n"
     ]
    }
   ],
   "source": [
    "fmax = fdata.iloc[:,3]\n",
    "f_initial = fdata.iloc[:,1]\n",
    "\n",
    "shock = np.zeros(fmax.shape[0])\n",
    "for i in range (0,fmax.shape[0]):\n",
    "    shock[i] = round(1- fmax[i]/f_initial[i],3)\n",
    "    \n",
    "print(shock) # ok! "
   ]
  },
  {
   "cell_type": "code",
   "execution_count": 109,
   "id": "e9524638",
   "metadata": {},
   "outputs": [],
   "source": [
    "fmax = fdata.loc[:,fdata.columns.str.contains('fmax')]\n",
    "fmax = fmax.astype('float') #leaving out T\n",
    "fmax = np.array(fmax)\n",
    "fmax.shape\n",
    "\n",
    "f_max = np.zeros(fmax.shape[0])\n",
    "for i in range (fmax.shape[0]):\n",
    "    f_max[i] = fmax[i][0]"
   ]
  },
  {
   "cell_type": "markdown",
   "id": "2012b38d",
   "metadata": {},
   "source": [
    "## Total output"
   ]
  },
  {
   "cell_type": "code",
   "execution_count": 110,
   "id": "32e86384",
   "metadata": {},
   "outputs": [
    {
     "data": {
      "text/html": [
       "<div>\n",
       "<style scoped>\n",
       "    .dataframe tbody tr th:only-of-type {\n",
       "        vertical-align: middle;\n",
       "    }\n",
       "\n",
       "    .dataframe tbody tr th {\n",
       "        vertical-align: top;\n",
       "    }\n",
       "\n",
       "    .dataframe thead th {\n",
       "        text-align: right;\n",
       "    }\n",
       "</style>\n",
       "<table border=\"1\" class=\"dataframe\">\n",
       "  <thead>\n",
       "    <tr style=\"text-align: right;\">\n",
       "      <th></th>\n",
       "      <th>Unnamed: 0</th>\n",
       "      <th>x</th>\n",
       "      <th>xmin</th>\n",
       "      <th>xmax</th>\n",
       "      <th>x.maxF</th>\n",
       "      <th>x.maxX</th>\n",
       "    </tr>\n",
       "  </thead>\n",
       "  <tbody>\n",
       "    <tr>\n",
       "      <th>50</th>\n",
       "      <td>O84</td>\n",
       "      <td>326446.9910</td>\n",
       "      <td>0</td>\n",
       "      <td>326446.991000</td>\n",
       "      <td>306201.098420</td>\n",
       "      <td>306201.098420</td>\n",
       "    </tr>\n",
       "    <tr>\n",
       "      <th>51</th>\n",
       "      <td>P85</td>\n",
       "      <td>205736.8240</td>\n",
       "      <td>0</td>\n",
       "      <td>205736.824000</td>\n",
       "      <td>200894.751180</td>\n",
       "      <td>200894.751180</td>\n",
       "    </tr>\n",
       "    <tr>\n",
       "      <th>52</th>\n",
       "      <td>Q</td>\n",
       "      <td>381918.5085</td>\n",
       "      <td>0</td>\n",
       "      <td>381918.508500</td>\n",
       "      <td>380852.716052</td>\n",
       "      <td>380852.716052</td>\n",
       "    </tr>\n",
       "    <tr>\n",
       "      <th>53</th>\n",
       "      <td>R_S</td>\n",
       "      <td>195188.5340</td>\n",
       "      <td>0</td>\n",
       "      <td>75740.830036</td>\n",
       "      <td>75740.830036</td>\n",
       "      <td>75740.830036</td>\n",
       "    </tr>\n",
       "    <tr>\n",
       "      <th>54</th>\n",
       "      <td>T</td>\n",
       "      <td>9955.7790</td>\n",
       "      <td>0</td>\n",
       "      <td>9955.779000</td>\n",
       "      <td>9955.778971</td>\n",
       "      <td>9955.778971</td>\n",
       "    </tr>\n",
       "  </tbody>\n",
       "</table>\n",
       "</div>"
      ],
      "text/plain": [
       "   Unnamed: 0            x  xmin           xmax         x.maxF         x.maxX\n",
       "50        O84  326446.9910     0  326446.991000  306201.098420  306201.098420\n",
       "51        P85  205736.8240     0  205736.824000  200894.751180  200894.751180\n",
       "52          Q  381918.5085     0  381918.508500  380852.716052  380852.716052\n",
       "53        R_S  195188.5340     0   75740.830036   75740.830036   75740.830036\n",
       "54          T    9955.7790     0    9955.779000    9955.778971    9955.778971"
      ]
     },
     "execution_count": 110,
     "metadata": {},
     "output_type": "execute_result"
    }
   ],
   "source": [
    "xdata =  pd.read_csv('xdata_deu.csv', sep = ',')\n",
    "x = xdata['x'].astype('float')\n",
    "xdata.tail()   # de x-waarden zijn af te lezen in de WIOD laatste kolom"
   ]
  },
  {
   "cell_type": "code",
   "execution_count": 111,
   "id": "39e25dfa",
   "metadata": {},
   "outputs": [
    {
     "name": "stdout",
     "output_type": "stream",
     "text": [
      "[0.       0.849999 0.       0.483204 0.       0.685309 0.730686 0.342704\n",
      " 0.       0.       0.189825 0.       0.352529 0.639448 0.726353 0.662572\n",
      " 0.430758 0.630639 0.618354 0.696668 0.597033 0.652042 0.606449 0.\n",
      " 0.       0.       0.715557 0.180259 0.       0.246592 0.       0.\n",
      " 0.       0.       0.       0.646411 0.       0.       0.       0.07215\n",
      " 0.       0.       0.       0.512768 0.362812 0.459166 0.410839 0.396788\n",
      " 0.19581  0.426938 0.       0.       0.       0.611961 0.      ]\n"
     ]
    }
   ],
   "source": [
    "xmax = xdata.iloc[:,3]\n",
    "x_initial = xdata.iloc[:,1]\n",
    "\n",
    "shock = np.zeros(xmax.shape[0])\n",
    "for i in range (0,fmax.shape[0]):\n",
    "    shock[i] = round(1- xmax[i]/x_initial[i],6)\n",
    "    \n",
    "print(shock) # ok! "
   ]
  },
  {
   "cell_type": "code",
   "execution_count": 112,
   "id": "9774c387",
   "metadata": {},
   "outputs": [
    {
     "data": {
      "text/plain": [
       "(55,)"
      ]
     },
     "execution_count": 112,
     "metadata": {},
     "output_type": "execute_result"
    }
   ],
   "source": [
    "xmax = xdata.loc[:,xdata.columns.str.contains('xmax')]\n",
    "xmax = xmax.astype('float') #leaving out T\n",
    "xmax = np.array(xmax)\n",
    "x_max = np.zeros(xmax.shape[0])\n",
    "for i in range (xmax.shape[0]):\n",
    "    x_max[i] = xmax[i][0]\n",
    "x_max.shape"
   ]
  },
  {
   "cell_type": "markdown",
   "id": "97cb7425",
   "metadata": {},
   "source": [
    "# IO table "
   ]
  },
  {
   "cell_type": "code",
   "execution_count": 113,
   "id": "d00267df",
   "metadata": {},
   "outputs": [
    {
     "data": {
      "text/html": [
       "<div>\n",
       "<style scoped>\n",
       "    .dataframe tbody tr th:only-of-type {\n",
       "        vertical-align: middle;\n",
       "    }\n",
       "\n",
       "    .dataframe tbody tr th {\n",
       "        vertical-align: top;\n",
       "    }\n",
       "\n",
       "    .dataframe thead th {\n",
       "        text-align: right;\n",
       "    }\n",
       "</style>\n",
       "<table border=\"1\" class=\"dataframe\">\n",
       "  <thead>\n",
       "    <tr style=\"text-align: right;\">\n",
       "      <th></th>\n",
       "      <th>Unnamed: 0</th>\n",
       "      <th>A01</th>\n",
       "      <th>A02</th>\n",
       "      <th>A03</th>\n",
       "      <th>B</th>\n",
       "      <th>C10-C12</th>\n",
       "      <th>C13-C15</th>\n",
       "      <th>C16</th>\n",
       "      <th>C17</th>\n",
       "      <th>C18</th>\n",
       "      <th>...</th>\n",
       "      <th>M71</th>\n",
       "      <th>M72</th>\n",
       "      <th>M73</th>\n",
       "      <th>M74_M75</th>\n",
       "      <th>N</th>\n",
       "      <th>O84</th>\n",
       "      <th>P85</th>\n",
       "      <th>Q</th>\n",
       "      <th>R_S</th>\n",
       "      <th>T</th>\n",
       "    </tr>\n",
       "  </thead>\n",
       "  <tbody>\n",
       "    <tr>\n",
       "      <th>50</th>\n",
       "      <td>O84</td>\n",
       "      <td>0.007262</td>\n",
       "      <td>0.015479</td>\n",
       "      <td>8.152212e-03</td>\n",
       "      <td>0.018527</td>\n",
       "      <td>0.007597</td>\n",
       "      <td>0.005532</td>\n",
       "      <td>0.007749</td>\n",
       "      <td>0.006958</td>\n",
       "      <td>0.006381</td>\n",
       "      <td>...</td>\n",
       "      <td>0.018709</td>\n",
       "      <td>0.006927</td>\n",
       "      <td>0.019106</td>\n",
       "      <td>0.030439</td>\n",
       "      <td>0.009331</td>\n",
       "      <td>0.017907</td>\n",
       "      <td>0.002630</td>\n",
       "      <td>0.003122</td>\n",
       "      <td>0.005225</td>\n",
       "      <td>0</td>\n",
       "    </tr>\n",
       "    <tr>\n",
       "      <th>51</th>\n",
       "      <td>P85</td>\n",
       "      <td>0.000440</td>\n",
       "      <td>0.000010</td>\n",
       "      <td>1.930726e-07</td>\n",
       "      <td>0.000178</td>\n",
       "      <td>0.000584</td>\n",
       "      <td>0.000140</td>\n",
       "      <td>0.000049</td>\n",
       "      <td>0.000069</td>\n",
       "      <td>0.000119</td>\n",
       "      <td>...</td>\n",
       "      <td>0.000605</td>\n",
       "      <td>0.022418</td>\n",
       "      <td>0.000441</td>\n",
       "      <td>0.000985</td>\n",
       "      <td>0.000482</td>\n",
       "      <td>0.009460</td>\n",
       "      <td>0.051660</td>\n",
       "      <td>0.001056</td>\n",
       "      <td>0.001368</td>\n",
       "      <td>0</td>\n",
       "    </tr>\n",
       "    <tr>\n",
       "      <th>52</th>\n",
       "      <td>Q</td>\n",
       "      <td>0.000091</td>\n",
       "      <td>0.000009</td>\n",
       "      <td>6.040364e-06</td>\n",
       "      <td>0.000140</td>\n",
       "      <td>0.000061</td>\n",
       "      <td>0.000060</td>\n",
       "      <td>0.000055</td>\n",
       "      <td>0.000067</td>\n",
       "      <td>0.000047</td>\n",
       "      <td>...</td>\n",
       "      <td>0.000114</td>\n",
       "      <td>0.003712</td>\n",
       "      <td>0.000043</td>\n",
       "      <td>0.005888</td>\n",
       "      <td>0.000070</td>\n",
       "      <td>0.000530</td>\n",
       "      <td>0.002274</td>\n",
       "      <td>0.033651</td>\n",
       "      <td>0.001288</td>\n",
       "      <td>0</td>\n",
       "    </tr>\n",
       "    <tr>\n",
       "      <th>53</th>\n",
       "      <td>R_S</td>\n",
       "      <td>0.002955</td>\n",
       "      <td>0.001932</td>\n",
       "      <td>5.614885e-03</td>\n",
       "      <td>0.005931</td>\n",
       "      <td>0.004458</td>\n",
       "      <td>0.004179</td>\n",
       "      <td>0.002188</td>\n",
       "      <td>0.002495</td>\n",
       "      <td>0.006577</td>\n",
       "      <td>...</td>\n",
       "      <td>0.008980</td>\n",
       "      <td>0.006194</td>\n",
       "      <td>0.009151</td>\n",
       "      <td>0.012526</td>\n",
       "      <td>0.003263</td>\n",
       "      <td>0.015363</td>\n",
       "      <td>0.003953</td>\n",
       "      <td>0.006599</td>\n",
       "      <td>0.084575</td>\n",
       "      <td>0</td>\n",
       "    </tr>\n",
       "    <tr>\n",
       "      <th>54</th>\n",
       "      <td>T</td>\n",
       "      <td>0.000000</td>\n",
       "      <td>0.000000</td>\n",
       "      <td>0.000000e+00</td>\n",
       "      <td>0.000000</td>\n",
       "      <td>0.000000</td>\n",
       "      <td>0.000000</td>\n",
       "      <td>0.000000</td>\n",
       "      <td>0.000000</td>\n",
       "      <td>0.000000</td>\n",
       "      <td>...</td>\n",
       "      <td>0.000000</td>\n",
       "      <td>0.000000</td>\n",
       "      <td>0.000000</td>\n",
       "      <td>0.000000</td>\n",
       "      <td>0.000000</td>\n",
       "      <td>0.000000</td>\n",
       "      <td>0.000000</td>\n",
       "      <td>0.000000</td>\n",
       "      <td>0.000000</td>\n",
       "      <td>0</td>\n",
       "    </tr>\n",
       "  </tbody>\n",
       "</table>\n",
       "<p>5 rows × 56 columns</p>\n",
       "</div>"
      ],
      "text/plain": [
       "   Unnamed: 0       A01       A02           A03         B   C10-C12   C13-C15  \\\n",
       "50        O84  0.007262  0.015479  8.152212e-03  0.018527  0.007597  0.005532   \n",
       "51        P85  0.000440  0.000010  1.930726e-07  0.000178  0.000584  0.000140   \n",
       "52          Q  0.000091  0.000009  6.040364e-06  0.000140  0.000061  0.000060   \n",
       "53        R_S  0.002955  0.001932  5.614885e-03  0.005931  0.004458  0.004179   \n",
       "54          T  0.000000  0.000000  0.000000e+00  0.000000  0.000000  0.000000   \n",
       "\n",
       "         C16       C17       C18  ...       M71       M72       M73   M74_M75  \\\n",
       "50  0.007749  0.006958  0.006381  ...  0.018709  0.006927  0.019106  0.030439   \n",
       "51  0.000049  0.000069  0.000119  ...  0.000605  0.022418  0.000441  0.000985   \n",
       "52  0.000055  0.000067  0.000047  ...  0.000114  0.003712  0.000043  0.005888   \n",
       "53  0.002188  0.002495  0.006577  ...  0.008980  0.006194  0.009151  0.012526   \n",
       "54  0.000000  0.000000  0.000000  ...  0.000000  0.000000  0.000000  0.000000   \n",
       "\n",
       "           N       O84       P85         Q       R_S  T  \n",
       "50  0.009331  0.017907  0.002630  0.003122  0.005225  0  \n",
       "51  0.000482  0.009460  0.051660  0.001056  0.001368  0  \n",
       "52  0.000070  0.000530  0.002274  0.033651  0.001288  0  \n",
       "53  0.003263  0.015363  0.003953  0.006599  0.084575  0  \n",
       "54  0.000000  0.000000  0.000000  0.000000  0.000000  0  \n",
       "\n",
       "[5 rows x 56 columns]"
      ]
     },
     "execution_count": 113,
     "metadata": {},
     "output_type": "execute_result"
    }
   ],
   "source": [
    "df = pd.read_csv('deu_wiot.csv',sep = ',',low_memory=False)\n",
    "df.tail()"
   ]
  },
  {
   "cell_type": "code",
   "execution_count": 114,
   "id": "ef22029a",
   "metadata": {},
   "outputs": [
    {
     "data": {
      "text/plain": [
       "(55, 55)"
      ]
     },
     "execution_count": 114,
     "metadata": {},
     "output_type": "execute_result"
    }
   ],
   "source": [
    "df = df.iloc[:,1:]# leaving out industries U and T\n",
    "df = df.astype('float')\n",
    "df.shape"
   ]
  },
  {
   "cell_type": "markdown",
   "id": "e32d8d62",
   "metadata": {},
   "source": [
    "**Creating matrix A**"
   ]
  },
  {
   "cell_type": "code",
   "execution_count": 115,
   "id": "3b209a29",
   "metadata": {},
   "outputs": [
    {
     "data": {
      "text/plain": [
       "(55, 55)"
      ]
     },
     "execution_count": 115,
     "metadata": {},
     "output_type": "execute_result"
    }
   ],
   "source": [
    "A = np.array(df)\n",
    "N = A.shape[0]\n",
    "A.shape"
   ]
  },
  {
   "cell_type": "code",
   "execution_count": 116,
   "id": "4c9a64bb",
   "metadata": {},
   "outputs": [],
   "source": [
    "x_0 = np.array(x)"
   ]
  },
  {
   "cell_type": "code",
   "execution_count": 117,
   "id": "8ba3cc01",
   "metadata": {},
   "outputs": [
    {
     "data": {
      "text/plain": [
       "4447105.247975181"
      ]
     },
     "execution_count": 117,
     "metadata": {},
     "output_type": "execute_result"
    }
   ],
   "source": [
    "f_0 = np.array(f)\n",
    "sum(f_0)"
   ]
  },
  {
   "cell_type": "markdown",
   "id": "c4ee14fb",
   "metadata": {},
   "source": [
    "# Leontief Model"
   ]
  },
  {
   "cell_type": "markdown",
   "id": "b2220798",
   "metadata": {},
   "source": [
    "**Computing equilibrium when x is given**"
   ]
  },
  {
   "cell_type": "code",
   "execution_count": 118,
   "id": "a4c84cd3",
   "metadata": {},
   "outputs": [
    {
     "data": {
      "text/plain": [
       "0.9132079048009196"
      ]
     },
     "execution_count": 118,
     "metadata": {},
     "output_type": "execute_result"
    }
   ],
   "source": [
    "final_consumption = np.matmul(np.identity(N)-A, x_0)\n",
    "sum(f_max)/sum(final_consumption)"
   ]
  },
  {
   "cell_type": "markdown",
   "id": "281b0b20",
   "metadata": {},
   "source": [
    "**Computing equilibrium when f is given**"
   ]
  },
  {
   "cell_type": "code",
   "execution_count": 119,
   "id": "fa335ff9",
   "metadata": {},
   "outputs": [],
   "source": [
    "L = np.linalg.inv(np.identity(N)-A)"
   ]
  },
  {
   "cell_type": "code",
   "execution_count": 120,
   "id": "2abe2e96",
   "metadata": {},
   "outputs": [
    {
     "data": {
      "text/plain": [
       "0.6913968179397179"
      ]
     },
     "execution_count": 120,
     "metadata": {},
     "output_type": "execute_result"
    }
   ],
   "source": [
    "total_output = np.matmul(L, f_0)\n",
    "sum(x_max)/sum(total_output)"
   ]
  },
  {
   "cell_type": "markdown",
   "id": "415b6ead",
   "metadata": {},
   "source": [
    "**Computing direct shock:**"
   ]
  },
  {
   "cell_type": "code",
   "execution_count": 83,
   "id": "34419ecd",
   "metadata": {},
   "outputs": [],
   "source": [
    "direct_shock = (sum(f_max)/sum(final_consumption), sum(x_max)/sum(total_output))"
   ]
  },
  {
   "cell_type": "markdown",
   "id": "bed7504e",
   "metadata": {},
   "source": [
    "# Optimalization"
   ]
  },
  {
   "cell_type": "code",
   "execution_count": 121,
   "id": "395a2995",
   "metadata": {},
   "outputs": [],
   "source": [
    "from scipy.optimize import linprog"
   ]
  },
  {
   "cell_type": "markdown",
   "id": "7bed23c7",
   "metadata": {},
   "source": [
    "### Feasible Market Allocations\n",
    "Given exogenous constraints to supply and demand, what is the feasible market allocation that maximizes final consumption and/or total output? The solution needs to lie within exogenous bounds on supply and demand and also needs to satisfy the assumption of Leontief production:\n",
    "\n",
    "$$ x = Ax + f = Lf $$\n",
    "\n",
    "We seek market allocations {$x^*$ , $f^*$} that (a) respect the given production recipes $x^*=Lf^*$ and (b) satisfy basic output and demand constraints $x^* \\in [0, x^{max}]$ and $f^* \\in [0, f^{max}]$.\n",
    "\n",
    "**Optimization procedure**\n",
    "\n",
    "As a first case, we determine the market allocation that maximizes gross output under the assumptions specified. Large levels of output indicate high levels of ecomomic activity, which in turn entail high levels of primary factors such as labor compensation. As a second case, we look at market allocations that maximize final comsumption given current production capacities. Due to the linearity of the Leontief framework, the problem boils down to linear programming exercises.\n",
    "\n",
    "*Maximizing gross output*\n",
    "$$ \\text{max}_f \\qquad 1^T(I-A)^{-1}f $$\n",
    "$$ \\text{Subject to} \\quad (I-A)^{-1}f \\in [0, x^{max}] $$\n",
    "\n",
    "*Maximizing final consumption*\n",
    "$$ \\text{max}_x \\qquad 1^T(I-A)x $$\n",
    "$$ \\text{Subject to} \\quad (I-A)x \\in [0, f^{max}] $$"
   ]
  },
  {
   "cell_type": "markdown",
   "id": "02d604cd",
   "metadata": {},
   "source": [
    "### Maximizing total output"
   ]
  },
  {
   "cell_type": "code",
   "execution_count": 123,
   "id": "6a44bf74",
   "metadata": {},
   "outputs": [],
   "source": [
    "z = np.ones(N)"
   ]
  },
  {
   "cell_type": "code",
   "execution_count": 124,
   "id": "f9adab99",
   "metadata": {},
   "outputs": [],
   "source": [
    "obj = -np.matmul(np.matrix.transpose(z), L)\n",
    "lhs_ineq = np.concatenate((-L,L))\n",
    "rhs_ineq = np.concatenate((np.zeros(N), x_max))"
   ]
  },
  {
   "cell_type": "code",
   "execution_count": 125,
   "id": "72ec0e22",
   "metadata": {},
   "outputs": [],
   "source": [
    "bnd = []\n",
    "for i in range (0,N):\n",
    "    bnd.append((0,f_max[i]))"
   ]
  },
  {
   "cell_type": "code",
   "execution_count": 126,
   "id": "ed251216",
   "metadata": {},
   "outputs": [],
   "source": [
    "result = linprog(c = obj, A_ub= lhs_ineq, b_ub= rhs_ineq, bounds = bnd)\n",
    "optimal_output = -result.fun"
   ]
  },
  {
   "cell_type": "code",
   "execution_count": 127,
   "id": "c8a10450",
   "metadata": {},
   "outputs": [],
   "source": [
    "optimal_f = np.ones(N)\n",
    "for i in range(0,N):\n",
    "    optimal_f[i] = result.x[i]"
   ]
  },
  {
   "cell_type": "code",
   "execution_count": 128,
   "id": "50ef6e42",
   "metadata": {},
   "outputs": [
    {
     "data": {
      "text/plain": [
       "(0.6251353593714393, 0.6320096267938023)"
      ]
     },
     "execution_count": 128,
     "metadata": {},
     "output_type": "execute_result"
    }
   ],
   "source": [
    "Max_output = (optimal_output/sum(x_0), sum(optimal_f)/sum(f_0))\n",
    "Max_output"
   ]
  },
  {
   "cell_type": "markdown",
   "id": "4264b266",
   "metadata": {},
   "source": [
    "### Maximizing final consumption"
   ]
  },
  {
   "cell_type": "code",
   "execution_count": 129,
   "id": "ad66d86f",
   "metadata": {},
   "outputs": [],
   "source": [
    "obj2 = np.around(-np.matmul(np.matrix.transpose(z), np.identity(N)-A), decimals=7) #ok\n",
    "lhs_ineq2 = np.around(np.concatenate((-(np.identity(N)-A), np.identity(N)-A)), decimals = 7)\n",
    "rhs_ineq2 = np.concatenate((np.zeros(N), f_max))"
   ]
  },
  {
   "cell_type": "code",
   "execution_count": 131,
   "id": "be22158e",
   "metadata": {},
   "outputs": [],
   "source": [
    "bnd2 = []\n",
    "for i in range (0,N):\n",
    "    bnd2.append((0,np.around(x_max[i], decimals=4)))"
   ]
  },
  {
   "cell_type": "code",
   "execution_count": 133,
   "id": "3f27011b",
   "metadata": {},
   "outputs": [],
   "source": [
    "result2 = linprog(c = obj2, A_ub= lhs_ineq2, b_ub= rhs_ineq2, bounds= bnd2)\n",
    "optimal_f_2 = -result2.fun"
   ]
  },
  {
   "cell_type": "code",
   "execution_count": 134,
   "id": "66857500",
   "metadata": {},
   "outputs": [],
   "source": [
    "optimal_output_2 = np.ones(l)\n",
    "for i in range(0,l):\n",
    "    optimal_output_2[i] = round(result2.x[i])"
   ]
  },
  {
   "cell_type": "code",
   "execution_count": 135,
   "id": "9a786963",
   "metadata": {},
   "outputs": [
    {
     "data": {
      "text/plain": [
       "(0.6251351637109838, 0.6320096296130463)"
      ]
     },
     "execution_count": 135,
     "metadata": {},
     "output_type": "execute_result"
    }
   ],
   "source": [
    "Max_consumption = (sum(optimal_output_2)/sum(x_0),optimal_f_2/sum(f_0))\n",
    "Max_consumption"
   ]
  },
  {
   "cell_type": "markdown",
   "id": "a88e27e5",
   "metadata": {},
   "source": [
    "**Note that both optimization problems give almost the same solution**"
   ]
  },
  {
   "cell_type": "markdown",
   "id": "4bac4370",
   "metadata": {},
   "source": [
    "# Rationing"
   ]
  },
  {
   "cell_type": "code",
   "execution_count": 136,
   "id": "0a14f8c8",
   "metadata": {},
   "outputs": [],
   "source": [
    "f_max = f_max[:54]\n",
    "x_max = x_max[:54]\n",
    "A = A[:54,:54]\n",
    "N = 54\n",
    "x_0 = x_0[:54]\n",
    "f_0 = f_0[:54]\n",
    "L = np.linalg.inv(np.identity(N)-A)"
   ]
  },
  {
   "cell_type": "markdown",
   "id": "3e84b6c6",
   "metadata": {},
   "source": [
    "### Input bottlenecks and rationing variations\n",
    "In contrast to the optimization methods, this represents a bottom-up approach for finding feasible market allocations. Industries place orders to their suppliers based on incoming demand. Since suppliers can be output constrained, they might not be able to satisfy demand fully. A supplier therefore needs to make a decision about how much of each customer’s demand it serves. Intermediate consumers transform inputs to outputs based on fixed production recipes. Thus if a customer receives less inputs than she asked for, she faces an input bottleneck further constraining her production. As a consequence, the customer reduces her demand for other inputs as they are not further needed under limited productive capacities. We iterate this procedure forward until the algorithm converges.\n",
    "\n",
    "**Strict Proportional Rationing**\n",
    "\n",
    "If industries are unable to satisfy total incoming demand completely, they distribute output proportional to their customers’ demand, where no distinction is made between intermediate and final customers. We implement the rationing algorithm in the following way:\n",
    "1. Industries determine their total demand as if there were no supply-side constraints, $d = Lf^{\\text{max}}$;\n",
    "2. Industries evaluate if they are able to satisfy demand goven their constrained production capacities;\n",
    "3. Industries that only partially satisfy demand, create a bottleneck;\n",
    "4. Industries reduce their production according to the largest input bottleneck (assumption of fixed recipes);\n",
    "5. The total amount of goods delivered to the final consumer is computed;\n",
    "6. Iterate 1-5 until there are no input constraints left.\n",
    "\n",
    "Formulas:\n",
    "\n",
    "$$ r_i[t] = \\frac{x_i^{\\text{max}}}{d_i[t]} $$\n",
    "\n",
    "$$ s_i[t] = min_j \\{r_j[t], 1\\} $$\n",
    "\n",
    "$$ x_i[t] = \\text{min}\\{x_i^{\\text{max}}, s_i[t]d_i[t]\\} $$\n",
    "\n",
    "$$ f_i[t] = \\text{max} \\Big\\{ x_i[t] - \\sum_{i} a_{ij} x_j[t], 0 \\Big\\}$$\n",
    "\n",
    "$$ d_i[t+1] = \\sum_{j} l_{ij} f_j[t] $$\n",
    "\n",
    "The algorithm converges to a new feasible economic allocation if $d_i[t+1] = d_i[t]$ for all i.\n",
    "\n",
    "*Implementation*"
   ]
  },
  {
   "cell_type": "code",
   "execution_count": 137,
   "id": "7bfeaa17",
   "metadata": {},
   "outputs": [],
   "source": [
    "def algo_proportional(A, L, fmax, xmax, prioritize=\"no\"):\n",
    "    x = [0]\n",
    "    fvec = [] #initial demand vector\n",
    "    fvec.append(fmax)\n",
    "    r = [0] # output constraints\n",
    "    s = [0] # input bottlenecks \n",
    "    output_constraints = [1] \n",
    "    d = [0] # aggregated demand vector \n",
    "    d.append(np.matmul(L, fvec[0])) #d[1] = L*f[0]\n",
    "\n",
    "    #print('Aggregated Demand:         {}'.format(d[1]))\n",
    "    t=1\n",
    "    epsilon = 1e-6\n",
    "    while not np.all(abs(d[t] - d[t-1]) < epsilon):\n",
    "        print('\\nIteration {0}'.format(t))\n",
    "        print('---------')\n",
    "        #print('Initial aggregated demand: {}'.format(d[t]))\n",
    "        r.append(np.ones(len(xmax)))\n",
    "        s.append(np.ones(len(xmax)))\n",
    "        fvec.append(np.ones(len(xmax)))\n",
    "        x.append(np.ones(len(xmax)))\n",
    "        d.append(np.ones(len(xmax)))\n",
    "        for i in range (0,len(x_max)):\n",
    "            r[t][i] = x_max[i]/d[t][i]\n",
    "            #print('Output constraints:         {}'.format(r[t]))\n",
    "        for i in range(0,len(x_max)):\n",
    "            for j in range(0,len(x_max)):\n",
    "                if A[j][i] > 0:\n",
    "                    output_constraints.append(r[t][j])\n",
    "            s[t][i] = min(output_constraints)\n",
    "            output_constraints = [1]\n",
    "        print('Input bottlenecks:         {}'.format(s[t]))\n",
    "        for i in range(0,len(xmax)):\n",
    "            x[t][i] = min(xmax[i], s[t][i]*d[t][i])\n",
    "        # print('Constrained production:    {}'.format(x[t]))\n",
    "        for i in range(0,len(xmax)):\n",
    "            fvec[t][i] = max(x[t][i] - np.matmul(A[i],x[t]),0)\n",
    "        # print('Constrained delivery:      {}'.format(f[t]))\n",
    "        for i in range(0,len(xmax)):\n",
    "            d[t+1][i] = np.matmul(L[i],fvec[t])\n",
    "        t=t+1\n",
    "        #print('Aggregated Demand:         {}'.format(d[t]))\n",
    "    return sum(x[t-1])/sum(x_0), sum(fvec[t-1])/sum(f_0)\n"
   ]
  },
  {
   "cell_type": "code",
   "execution_count": 138,
   "id": "1510b687",
   "metadata": {},
   "outputs": [
    {
     "name": "stdout",
     "output_type": "stream",
     "text": [
      "\n",
      "Iteration 1\n",
      "---------\n",
      "Input bottlenecks:         [0.16666598 0.16666598 0.16666598 0.16666598 0.16666598 0.16666598\n",
      " 0.16666598 0.16666598 0.16666598 0.16666598 0.16666598 0.16666598\n",
      " 0.16666598 0.16666598 0.16666598 0.16666598 0.16666598 0.16666598\n",
      " 0.16666598 0.16666598 0.16666598 0.16666598 0.16666598 0.16666598\n",
      " 0.16666598 0.16666598 0.16666598 0.16666598 0.16666598 0.16666598\n",
      " 0.16666598 0.16666598 0.16666598 0.16666598 0.16666598 0.16666598\n",
      " 0.16666598 0.16666598 0.16666598 0.16666598 0.16666598 0.16666598\n",
      " 0.16666598 0.16666598 0.16666598 0.16666598 0.16666598 0.16666598\n",
      " 0.16666598 0.16666598 0.16666598 0.16666598 0.16666598 0.16666598]\n",
      "\n",
      "Iteration 2\n",
      "---------\n",
      "Input bottlenecks:         [1. 1. 1. 1. 1. 1. 1. 1. 1. 1. 1. 1. 1. 1. 1. 1. 1. 1. 1. 1. 1. 1. 1. 1.\n",
      " 1. 1. 1. 1. 1. 1. 1. 1. 1. 1. 1. 1. 1. 1. 1. 1. 1. 1. 1. 1. 1. 1. 1. 1.\n",
      " 1. 1. 1. 1. 1. 1.]\n"
     ]
    },
    {
     "data": {
      "text/plain": [
       "(0.1512270465545405, 0.1521682361425501)"
      ]
     },
     "execution_count": 138,
     "metadata": {},
     "output_type": "execute_result"
    }
   ],
   "source": [
    "result_proportional = algo_proportional(A, L, f_max, x_max, prioritize=\"no\")\n",
    "result_proportional"
   ]
  },
  {
   "cell_type": "markdown",
   "id": "e48172c7",
   "metadata": {},
   "source": [
    "## Mixed priority/proportional rationing"
   ]
  },
  {
   "cell_type": "markdown",
   "id": "31431ffd",
   "metadata": {},
   "source": [
    "We implement the rationing algorithm in the following way:\n",
    "1. Industries determine their total demand as if there were no supply-side constraints, $d = Lf^{\\text{max}}$;\n",
    "2. Industries evaluate if they are able to satisfy demand given their constrained production capacities;\n",
    "3. Industries that only partially satisfy demand, create a bottleneck;\n",
    "4. Industries reduce their production according to the largest input bottleneck (assumption of fixed recipes);\n",
    "5. The total amount of goods delivered to the final consumer is computed;\n",
    "6. Iterate 1-5 until there are no input constraints left.\n",
    "\n",
    "Formulas:\n",
    "\n",
    "$$ r_i[t] = \\frac{x_i^{\\text{max}}}{\\sum_{j}A_{ij}d_j[t]} $$\n",
    "\n",
    "$$ s_i[t] = min_j \\{r_j[t], 1\\} $$\n",
    "\n",
    "$$ x_i[t] = \\text{min}\\{x_i^{\\text{max}}, s_i[t]d_i[t]\\} $$\n",
    "\n",
    "$$ f_i[t] = \\text{max} \\Big\\{ x_i[t] - \\sum_{i} a_{ij} x_j[t], 0 \\Big\\}$$\n",
    "\n",
    "$$ d_i[t+1] = \\sum_{j} l_{ij} f_j[t] $$\n",
    "\n",
    "The algorithm converges to a new feasible economic allocation if $d_i[t+1] = d_i[t]$ for all i.\n",
    "\n",
    "*Implementation*"
   ]
  },
  {
   "cell_type": "code",
   "execution_count": 139,
   "id": "8b4c14db",
   "metadata": {},
   "outputs": [],
   "source": [
    "def algo_mixed(A, L, fmax, xmax, prioritize=\"yes\"):\n",
    "    x = [0]\n",
    "    demand = [] #initial demand vector\n",
    "    demand.append(fmax)\n",
    "    r = [0] # output constraints\n",
    "    s = [0] # input bottlenecks \n",
    "    output_constraints = [1] \n",
    "    d = [0] # aggregated demand vector \n",
    "    d.append(np.matmul(L, demand[0])) #d[1] = L*f[0]\n",
    "\n",
    "    #print('Aggregated Demand:         {}'.format(d[1]))\n",
    "    t=1\n",
    "    epsilon = 1e-6\n",
    "    while not np.all(abs(d[t] - d[t-1]) < epsilon):\n",
    "        print('\\nIteration {0}'.format(t))\n",
    "        print('---------')\n",
    "        #print('Initial aggregated demand: {}'.format(d[t]))\n",
    "        r.append(np.ones(len(xmax)))\n",
    "        s.append(np.ones(len(xmax)))\n",
    "        demand.append(np.ones(len(xmax)))\n",
    "        x.append(np.ones(len(xmax)))\n",
    "        d.append(np.ones(len(xmax)))\n",
    "        for i in range (0,len(x_max)):\n",
    "            r[t][i] = xmax[i]/np.matmul(A[i],d[t])\n",
    "            #print('Output constraints:         {}'.format(r[t]))\n",
    "        for i in range(0,len(x_max)):\n",
    "            for j in range(0,len(x_max)):\n",
    "                if A[j][i] > 0:\n",
    "                    output_constraints.append(r[t][j])\n",
    "            s[t][i] = min(output_constraints)\n",
    "            output_constraints = [1]\n",
    "        print('Input bottlenecks:         {}'.format(s[t]))\n",
    "        for i in range(0,len(xmax)):\n",
    "            x[t][i] = min(xmax[i], s[t][i]*d[t][i])\n",
    "        # print('Constrained production:    {}'.format(x[t]))\n",
    "        for i in range(0,len(xmax)):\n",
    "            demand[t][i] = max(x[t][i] - np.matmul(A[i],x[t]),0)\n",
    "        # print('Constrained delivery:      {}'.format(f[t]))\n",
    "        for i in range(0,len(xmax)):\n",
    "            d[t+1][i] = np.matmul(L[i],demand[t])\n",
    "        t=t+1\n",
    "        #print('Aggregated Demand:         {}'.format(d[t]))\n",
    "    return sum(x[t-1])/sum(x_0), sum(demand[t-1])/sum(f_0)"
   ]
  },
  {
   "cell_type": "code",
   "execution_count": 140,
   "id": "24ae4d4b",
   "metadata": {},
   "outputs": [
    {
     "name": "stdout",
     "output_type": "stream",
     "text": [
      "\n",
      "Iteration 1\n",
      "---------\n",
      "Input bottlenecks:         [0.31578578 0.31578578 0.31578578 0.31578578 0.31578578 0.31578578\n",
      " 0.31578578 0.31578578 0.31578578 0.31578578 0.31578578 0.31578578\n",
      " 0.31578578 0.31578578 0.31578578 0.31578578 0.31578578 0.31578578\n",
      " 0.31578578 0.31578578 0.31578578 0.31578578 0.31578578 0.31578578\n",
      " 0.31578578 0.31578578 0.31578578 0.31578578 0.31578578 0.31578578\n",
      " 0.31578578 0.31578578 0.31578578 0.31578578 0.31578578 0.31578578\n",
      " 0.31578578 0.31578578 0.31578578 0.31578578 0.31578578 0.31578578\n",
      " 0.31578578 0.31578578 0.31578578 0.31578578 0.31578578 0.31578578\n",
      " 0.31578578 0.31578578 0.31578578 0.31578578 0.31578578 0.31578578]\n",
      "\n",
      "Iteration 2\n",
      "---------\n",
      "Input bottlenecks:         [1. 1. 1. 1. 1. 1. 1. 1. 1. 1. 1. 1. 1. 1. 1. 1. 1. 1. 1. 1. 1. 1. 1. 1.\n",
      " 1. 1. 1. 1. 1. 1. 1. 1. 1. 1. 1. 1. 1. 1. 1. 1. 1. 1. 1. 1. 1. 1. 1. 1.\n",
      " 1. 1. 1. 1. 1. 1.]\n"
     ]
    },
    {
     "data": {
      "text/plain": [
       "(0.2860294357826111, 0.28787032420594566)"
      ]
     },
     "execution_count": 140,
     "metadata": {},
     "output_type": "execute_result"
    }
   ],
   "source": [
    "result_mixed = algo_mixed(A, L, f_max, x_max, prioritize=\"yes\")\n",
    "result_mixed"
   ]
  },
  {
   "cell_type": "markdown",
   "id": "ccef6611",
   "metadata": {},
   "source": [
    "## Priority rationing"
   ]
  },
  {
   "cell_type": "markdown",
   "id": "aaa91a63",
   "metadata": {},
   "source": [
    "Largest first rationing; firms are prioritized over the final consumer. Take\n",
    "an initial demand vector $f[0] = f$\n",
    "max as given, implying an initial aggregate demand vector\n",
    "$d[1] = Lf[0]$. Every firm $i$ ranks each customers based on initial demand size. Let  $h_{ij}$ be the $j$ largest customers of firm $i$: $h_{ij} =\n",
    "\\{k(1), k(2), ..., k(j)\n",
    ": A_{ik(1)}d_{k(1)} [1] ≥ A_{ik(2)}d_{k(2)} [1] ≥ ... ≥ A_{ik(j)}\n",
    "d_{k(j)}[1] \\}$. By looping over the\n",
    "index $t = {1, 2, ...}$, the following system is iterated forward:\n",
    "\n",
    "Formulas:\n",
    "\n",
    "$$ r_{ij}[t] = \\frac{x_i^{\\text{max}}}{\\sum_{n\\in h_{ij}}A_{ih(j)}d_{n_{(j)}}[t]} $$\n",
    "\n",
    "$$ s_i[t] = min_j \\{r_{ji}[t], 1\\} $$\n",
    "\n",
    "$$ x_i[t] = \\text{min}\\{x_i^{\\text{max}}, s_i[t]d_i[t]\\} $$\n",
    "\n",
    "$$ f_i[t] = \\text{max} \\Big\\{ x_i[t] - \\sum_{i} a_{ij} x_j[t], 0 \\Big\\}$$\n",
    "\n",
    "$$ d_i[t+1] = \\sum_{j} l_{ij} f_j[t] $$\n",
    "\n",
    "The algorithm converges to a new feasible economic allocation if $d_i[t+1] = d_i[t]$ for all i."
   ]
  },
  {
   "cell_type": "code",
   "execution_count": 141,
   "id": "3a90b1f7",
   "metadata": {},
   "outputs": [],
   "source": [
    "d = np.matmul(L, f_max)\n",
    "list_1 = []   #lijst die we gaan sorteren van groot naar klein\n",
    "list_2 = []   #lijst die niet gesorteerd wordt om oorspronkelijke indices terug te vinden\n",
    "for i in range(A.shape[0]):\n",
    "    list_1.append([])\n",
    "    list_2.append([])\n",
    "for i in range(A.shape[0]):\n",
    "    for j in range(A.shape[0]):\n",
    "        list_1[i].append(A[i][j]*d[j])     # list_1[i][j] = list_2[i][j] = A[i][j]*d[j]\n",
    "        list_2[i].append(A[i][j]*d[j])\n",
    "    list_1[i].sort(reverse = True)              #list_1 sorteren van groot naar klein: A[i][j]*d[j] >= A[i][j+1]*d[j+1]\n",
    "\n",
    "names_ordered=[]\n",
    "for i in range(A.shape[0]):\n",
    "    names_ordered.append([])\n",
    "    \n",
    "for i in range(A.shape[0]):\n",
    "    for k in list_1[i]:                 # we willen nu de indices van de j+1 (j van 0 tot en met N-1) grootste suppliers  \n",
    "            for l in range(A.shape[0]):   #van firm i. Hiervoor gebruiken we de ongesorteerde lijst (list_2)\n",
    "                if list_2[i][l] == k:\n",
    "                    names_ordered[i].append(l)    "
   ]
  },
  {
   "cell_type": "code",
   "execution_count": 142,
   "id": "18fdf5b6",
   "metadata": {},
   "outputs": [],
   "source": [
    "def algo_priority(A, L, fmax, xmax, ordered, prioritize=\"yes\"):    \n",
    "    x = [0]\n",
    "    fvec = [] #initial demand vector\n",
    "    fvec.append(fmax)\n",
    "    rvec = [0] # output constraints\n",
    "    s = [0] # input bottlenecks \n",
    "    output_constraints = [1] \n",
    "    d = [0] # aggregated demand vector \n",
    "    d.append(np.matmul(L, fvec[0])) #d[1] = L*f[0]\n",
    "    som = 0\n",
    "    #print('Aggregated Demand:         {}'.format(d[1]))\n",
    "    t=1\n",
    "    epsilon = 1e-6\n",
    "    \n",
    "    while not np.all(abs(d[t] - d[t-1]) < epsilon):\n",
    "        #print('\\nIteration {0}'.format(t))\n",
    "        #print('---------')\n",
    "        #print('Initial aggregated demand: {}'.format(d[t]))\n",
    "        rvec.append([np.zeros(N)])\n",
    "        s.append(np.ones(N))\n",
    "        fvec.append(np.ones(N))\n",
    "        x.append(np.ones(N))\n",
    "        d.append(np.ones(N))\n",
    "        demand = np.identity(N)\n",
    "        for i in range(0,N):\n",
    "            for j in range(0,N):\n",
    "                for k in ordered[i][:j+1]:\n",
    "                    som = som + A[i][k]*d[t][k] \n",
    "                demand[i][j] = som   #demand[i][j] = demand of j'th biggest customers of firm i summed up\n",
    "                som = 0\n",
    "        remainder = np.identity(N)\n",
    "    \n",
    "        for i in range(0,N):\n",
    "            for j in range(0,N):\n",
    "                remainder[i][j] = x_max[i] - demand[i][j]\n",
    "                \n",
    "        ####################################################\n",
    "        ####################### rvec #######################\n",
    "        ####################################################\n",
    "        for i in range(0,N):\n",
    "            rvec[t].append([])\n",
    "        for i in range(0,N):\n",
    "            if all(remainder[i][j]>0 for j in range(0,N)):\n",
    "                rvec[t][i] = np.ones(N) \n",
    "            elif all(remainder[i][j]<=0 for j in range(0,N)): \n",
    "                rvec[t][i] = np.zeros(N)\n",
    "                for k in ordered[i][:1]: \n",
    "                    rvec[t][i][k] = x_max[i]/demand[i][0]\n",
    "        \n",
    "            else: \n",
    "                idx = np.where(remainder[i]<=0) # index for partially met demand\n",
    "                idx_fully = np.where(remainder[i]>0) \n",
    "                length = len(idx_fully[0])\n",
    "                rvec[t][i] = np.zeros(N)\n",
    "                for l in range(0,length-1):\n",
    "                    index = ordered[i][l]\n",
    "                    rvec[t][i][index] = 1\n",
    "                m = ordered[i][length-1]\n",
    "                rvec[t][i][m] = remainder[i][length-1]/(demand[i][length]-demand[i][length-1])\n",
    "                \n",
    "        #####################################################\n",
    "        ################# Input bottlenecks #################\n",
    "        #####################################################\n",
    "        for i in range(0,N):\n",
    "            for j in range(0,N):\n",
    "                if A[j][i]>0:\n",
    "                    output_constraints.append(rvec[t][j][i])\n",
    "            s[t][i] = min(output_constraints)\n",
    "            output_constraints = [1]   \n",
    "        #print('Input bottlenecks:         {}'.format(s[t]))\n",
    "        \n",
    "        ######################################################\n",
    "        ############### Constrained Production ###############\n",
    "        ######################################################\n",
    "        for i in range(0,N):\n",
    "            x[t][i] = min(xmax[i], s[t][i]*d[t][i])\n",
    "            \n",
    "        ######################################################\n",
    "        ################ Constrained Delivery ################\n",
    "        ######################################################\n",
    "        for i in range(0,len(xmax)):\n",
    "            fvec[t][i] = max(x[t][i] - np.matmul(A[i],x[t]),0)\n",
    "        \n",
    "        ######################################################\n",
    "        ################ Aggregated demand ###################\n",
    "        ######################################################\n",
    "        for i in range(0,len(xmax)):\n",
    "            d[t+1][i] = np.matmul(L[i],fvec[t])\n",
    "            \n",
    "        t=t+1\n",
    "    return sum(x[t-1])/sum(x_0), sum(fvec[t-1])/sum(f_0)"
   ]
  },
  {
   "cell_type": "code",
   "execution_count": 143,
   "id": "4cdf6843",
   "metadata": {},
   "outputs": [
    {
     "data": {
      "text/plain": [
       "(0.0, 0.0)"
      ]
     },
     "execution_count": 143,
     "metadata": {},
     "output_type": "execute_result"
    }
   ],
   "source": [
    "result_priority = algo_priority(A, L, f_max, x_max, names_ordered, prioritize=\"yes\")\n",
    "result_priority"
   ]
  },
  {
   "cell_type": "markdown",
   "id": "abd98788",
   "metadata": {},
   "source": [
    "## Random rationing"
   ]
  },
  {
   "cell_type": "code",
   "execution_count": 144,
   "id": "6063db8e",
   "metadata": {},
   "outputs": [],
   "source": [
    "from random import randrange"
   ]
  },
  {
   "cell_type": "code",
   "execution_count": 145,
   "id": "5f095e24",
   "metadata": {},
   "outputs": [
    {
     "name": "stdout",
     "output_type": "stream",
     "text": [
      "0.017270900186549806\n",
      "0.017440591931022133\n"
     ]
    }
   ],
   "source": [
    "x = []\n",
    "y = []\n",
    "while len(x)<100:\n",
    "    random_ordered=[]\n",
    "    for i in range(N):\n",
    "        random_ordered.append([])\n",
    "    \n",
    "    for i in range(N):\n",
    "        while len(random_ordered[i])<N:\n",
    "            random = randrange(N)\n",
    "            while random in random_ordered[i]:\n",
    "                random = randrange(N)# we willen nu de indices van de j+1 (j van 0 tot en met N-1) grootste suppliers  \n",
    "            random_ordered[i].append(random)\n",
    "\n",
    "    result_x = algo_priority(A, L, f_max, x_max, random_ordered, prioritize=\"yes\")[0]\n",
    "    result_y = algo_priority(A, L, f_max, x_max, random_ordered, prioritize=\"yes\")[1]\n",
    "    x.append(result_x)\n",
    "    y.append(result_y)\n",
    "result_random = (sum(x)/len(x), sum(y)/len(y))\n",
    "print(sum(x)/len(x))\n",
    "print(sum(y)/len(y))"
   ]
  },
  {
   "cell_type": "code",
   "execution_count": 146,
   "id": "c0f912a1",
   "metadata": {},
   "outputs": [
    {
     "name": "stdout",
     "output_type": "stream",
     "text": [
      "(0.1512270465545405, 0.1521682361425501)\n",
      "(0.2860294357826111, 0.28787032420594566)\n",
      "(0.0, 0.0)\n",
      "(0.017270900186549806, 0.017440591931022133)\n"
     ]
    }
   ],
   "source": [
    "print(result_proportional)\n",
    "print(result_mixed)\n",
    "print(result_priority)\n",
    "print(result_random)"
   ]
  },
  {
   "cell_type": "code",
   "execution_count": 147,
   "id": "65fbc0ae",
   "metadata": {},
   "outputs": [
    {
     "data": {
      "image/png": "[encoded data removed]",
      "text/plain": [
       "<Figure size 640x480 with 1 Axes>"
      ]
     },
     "metadata": {},
     "output_type": "display_data"
    }
   ],
   "source": [
    "import matplotlib.pyplot as plt\n",
    "plt.style.use('ggplot')\n",
    "plt.title(\"Germany\")\n",
    "plt.grid(visible=None, which='major', axis='both', linestyle='-', linewidth=1)\n",
    "\n",
    "plt.plot(result_proportional[0], result_proportional[1], 'b^')\n",
    "plt.plot(result_mixed[0], result_mixed[1], 'b^')\n",
    "plt.plot(result_random[0], result_random[1], 'b^')\n",
    "plt.plot(result_priority[0], result_priority[1], 'b^')\n",
    "plt.plot(Max_consumption[0], Max_consumption[1], 'b^')\n",
    "plt.plot(Max_output[0], Max_output[1], 'b^')\n",
    "plt.plot(direct_shock[0], direct_shock[1], 'b^')\n",
    "\n",
    "plt.text(0.1,0.1,'Proportional')\n",
    "plt.text(0.23,0.23,'Mixed')\n",
    "plt.text(-0.06,0.04,'Random')\n",
    "plt.text(-0.07,-0.05,'Priority')\n",
    "plt.text(0.54,0.58, 'Maximize f')\n",
    "plt.text(0.55,0.64, 'Maximize x')\n",
    "plt.text(0.79,0.71, 'Direct shock')\n",
    "\n",
    "plt.xlim(-0.09, 1) \n",
    "plt.ylim(-0.09,1)\n",
    "\n",
    "plt.xlabel(\"Final Consumption\")\n",
    "plt.ylabel(\"Gross Output\")\n",
    "plt.savefig('plot_Germany.png')\n",
    "plt.show()"
   ]
  }
 ],
 "metadata": {
  "kernelspec": {
   "display_name": "venv test",
   "language": "python",
   "name": "venv"
  },
  "language_info": {
   "codemirror_mode": {
    "name": "ipython",
    "version": 3
   },
   "file_extension": ".py",
   "mimetype": "text/x-python",
   "name": "python",
   "nbconvert_exporter": "python",
   "pygments_lexer": "ipython3",
   "version": "3.10.9"
  }
 },
 "nbformat": 4,
 "nbformat_minor": 5
}
