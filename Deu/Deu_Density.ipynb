{
 "cells": [
  {
   "cell_type": "code",
   "execution_count": 1,
   "id": "43d370ab",
   "metadata": {},
   "outputs": [],
   "source": [
    "import pandas as pd\n",
    "import numpy as np"
   ]
  },
  {
   "cell_type": "markdown",
   "id": "8bb47808",
   "metadata": {},
   "source": [
    "# Data for final consumption and total output"
   ]
  },
  {
   "cell_type": "markdown",
   "id": "2a0b3a0b",
   "metadata": {},
   "source": [
    "## Final consumption"
   ]
  },
  {
   "cell_type": "code",
   "execution_count": 2,
   "id": "857007d5",
   "metadata": {},
   "outputs": [
    {
     "data": {
      "text/html": [
       "<div>\n",
       "<style scoped>\n",
       "    .dataframe tbody tr th:only-of-type {\n",
       "        vertical-align: middle;\n",
       "    }\n",
       "\n",
       "    .dataframe tbody tr th {\n",
       "        vertical-align: top;\n",
       "    }\n",
       "\n",
       "    .dataframe thead th {\n",
       "        text-align: right;\n",
       "    }\n",
       "</style>\n",
       "<table border=\"1\" class=\"dataframe\">\n",
       "  <thead>\n",
       "    <tr style=\"text-align: right;\">\n",
       "      <th></th>\n",
       "      <th>Unnamed: 0</th>\n",
       "      <th>f</th>\n",
       "      <th>fmin</th>\n",
       "      <th>fmax</th>\n",
       "      <th>f.maxF</th>\n",
       "      <th>f.maxX</th>\n",
       "    </tr>\n",
       "  </thead>\n",
       "  <tbody>\n",
       "    <tr>\n",
       "      <th>0</th>\n",
       "      <td>A01</td>\n",
       "      <td>21457.851487</td>\n",
       "      <td>0</td>\n",
       "      <td>19312.930956</td>\n",
       "      <td>19312.930956</td>\n",
       "      <td>19312.930956</td>\n",
       "    </tr>\n",
       "    <tr>\n",
       "      <th>1</th>\n",
       "      <td>A02</td>\n",
       "      <td>3034.759567</td>\n",
       "      <td>0</td>\n",
       "      <td>2731.283611</td>\n",
       "      <td>2.427354</td>\n",
       "      <td>2.427354</td>\n",
       "    </tr>\n",
       "    <tr>\n",
       "      <th>2</th>\n",
       "      <td>A03</td>\n",
       "      <td>366.298763</td>\n",
       "      <td>0</td>\n",
       "      <td>329.668887</td>\n",
       "      <td>329.668887</td>\n",
       "      <td>329.668887</td>\n",
       "    </tr>\n",
       "    <tr>\n",
       "      <th>3</th>\n",
       "      <td>B</td>\n",
       "      <td>11531.103621</td>\n",
       "      <td>0</td>\n",
       "      <td>10378.720960</td>\n",
       "      <td>5458.072038</td>\n",
       "      <td>5458.072038</td>\n",
       "    </tr>\n",
       "    <tr>\n",
       "      <th>4</th>\n",
       "      <td>C10-C12</td>\n",
       "      <td>180232.806666</td>\n",
       "      <td>0</td>\n",
       "      <td>162262.891729</td>\n",
       "      <td>162262.891729</td>\n",
       "      <td>162262.891729</td>\n",
       "    </tr>\n",
       "  </tbody>\n",
       "</table>\n",
       "</div>"
      ],
      "text/plain": [
       "  Unnamed: 0              f  fmin           fmax         f.maxF         f.maxX\n",
       "0        A01   21457.851487     0   19312.930956   19312.930956   19312.930956\n",
       "1        A02    3034.759567     0    2731.283611       2.427354       2.427354\n",
       "2        A03     366.298763     0     329.668887     329.668887     329.668887\n",
       "3          B   11531.103621     0   10378.720960    5458.072038    5458.072038\n",
       "4    C10-C12  180232.806666     0  162262.891729  162262.891729  162262.891729"
      ]
     },
     "execution_count": 2,
     "metadata": {},
     "output_type": "execute_result"
    }
   ],
   "source": [
    "fdata = pd.read_csv('fdata_deu.csv', sep = ',')\n",
    "fdata.head()"
   ]
  },
  {
   "cell_type": "code",
   "execution_count": 3,
   "id": "0c21fbc8",
   "metadata": {},
   "outputs": [
    {
     "data": {
      "text/plain": [
       "(55,)"
      ]
     },
     "execution_count": 3,
     "metadata": {},
     "output_type": "execute_result"
    }
   ],
   "source": [
    "f = fdata.iloc[:,1].astype('float')\n",
    "f_max = np.array(fdata.iloc[:,3].astype('float'))\n",
    "f_max\n",
    "f.shape"
   ]
  },
  {
   "cell_type": "code",
   "execution_count": 4,
   "id": "ebe8a011",
   "metadata": {},
   "outputs": [
    {
     "name": "stdout",
     "output_type": "stream",
     "text": [
      "[0.1   0.1   0.1   0.1   0.1   0.1   0.1   0.1   0.1   0.1   0.099 0.081\n",
      " 0.1   0.1   0.1   0.1   0.099 0.1   0.1   0.1   0.099 0.099 0.1   0.023\n",
      " 0.015 0.036 0.1   0.1   0.098 0.095 0.569 0.114 0.503 0.223 0.034 0.731\n",
      " 0.038 0.043 0.011 0.088 0.029 0.013 0.02  0.002 0.093 0.094 0.083 0.1\n",
      " 0.035 0.042 0.002 0.007 0.001 0.043 0.   ]\n"
     ]
    }
   ],
   "source": [
    "demand_shock = np.zeros(f_max.shape[0])\n",
    "for i in range (0,f_max.shape[0]):\n",
    "    demand_shock[i] = round(1- f_max[i]/f[i],3)\n",
    "    \n",
    "print(demand_shock) \n",
    "demand_shock = np.array(demand_shock)"
   ]
  },
  {
   "cell_type": "markdown",
   "id": "f28602d7",
   "metadata": {},
   "source": [
    "## Total output"
   ]
  },
  {
   "cell_type": "code",
   "execution_count": 5,
   "id": "5f840667",
   "metadata": {},
   "outputs": [
    {
     "data": {
      "text/html": [
       "<div>\n",
       "<style scoped>\n",
       "    .dataframe tbody tr th:only-of-type {\n",
       "        vertical-align: middle;\n",
       "    }\n",
       "\n",
       "    .dataframe tbody tr th {\n",
       "        vertical-align: top;\n",
       "    }\n",
       "\n",
       "    .dataframe thead th {\n",
       "        text-align: right;\n",
       "    }\n",
       "</style>\n",
       "<table border=\"1\" class=\"dataframe\">\n",
       "  <thead>\n",
       "    <tr style=\"text-align: right;\">\n",
       "      <th></th>\n",
       "      <th>Unnamed: 0</th>\n",
       "      <th>x</th>\n",
       "      <th>xmin</th>\n",
       "      <th>xmax</th>\n",
       "      <th>x.maxF</th>\n",
       "      <th>x.maxX</th>\n",
       "    </tr>\n",
       "  </thead>\n",
       "  <tbody>\n",
       "    <tr>\n",
       "      <th>50</th>\n",
       "      <td>O84</td>\n",
       "      <td>326446.9910</td>\n",
       "      <td>0</td>\n",
       "      <td>326446.991000</td>\n",
       "      <td>306201.098420</td>\n",
       "      <td>306201.098420</td>\n",
       "    </tr>\n",
       "    <tr>\n",
       "      <th>51</th>\n",
       "      <td>P85</td>\n",
       "      <td>205736.8240</td>\n",
       "      <td>0</td>\n",
       "      <td>205736.824000</td>\n",
       "      <td>200894.751180</td>\n",
       "      <td>200894.751180</td>\n",
       "    </tr>\n",
       "    <tr>\n",
       "      <th>52</th>\n",
       "      <td>Q</td>\n",
       "      <td>381918.5085</td>\n",
       "      <td>0</td>\n",
       "      <td>381918.508500</td>\n",
       "      <td>380852.716052</td>\n",
       "      <td>380852.716052</td>\n",
       "    </tr>\n",
       "    <tr>\n",
       "      <th>53</th>\n",
       "      <td>R_S</td>\n",
       "      <td>195188.5340</td>\n",
       "      <td>0</td>\n",
       "      <td>75740.830036</td>\n",
       "      <td>75740.830036</td>\n",
       "      <td>75740.830036</td>\n",
       "    </tr>\n",
       "    <tr>\n",
       "      <th>54</th>\n",
       "      <td>T</td>\n",
       "      <td>9955.7790</td>\n",
       "      <td>0</td>\n",
       "      <td>9955.779000</td>\n",
       "      <td>9955.778971</td>\n",
       "      <td>9955.778971</td>\n",
       "    </tr>\n",
       "  </tbody>\n",
       "</table>\n",
       "</div>"
      ],
      "text/plain": [
       "   Unnamed: 0            x  xmin           xmax         x.maxF         x.maxX\n",
       "50        O84  326446.9910     0  326446.991000  306201.098420  306201.098420\n",
       "51        P85  205736.8240     0  205736.824000  200894.751180  200894.751180\n",
       "52          Q  381918.5085     0  381918.508500  380852.716052  380852.716052\n",
       "53        R_S  195188.5340     0   75740.830036   75740.830036   75740.830036\n",
       "54          T    9955.7790     0    9955.779000    9955.778971    9955.778971"
      ]
     },
     "execution_count": 5,
     "metadata": {},
     "output_type": "execute_result"
    }
   ],
   "source": [
    "xdata =  pd.read_csv('xdata_deu.csv', sep = ',')\n",
    "xdata.tail()   "
   ]
  },
  {
   "cell_type": "code",
   "execution_count": 6,
   "id": "5e422664",
   "metadata": {},
   "outputs": [],
   "source": [
    "x = xdata.iloc[:,1].astype('float')\n",
    "x_max = np.array(xdata.iloc[:,3].astype('float'))"
   ]
  },
  {
   "cell_type": "code",
   "execution_count": 7,
   "id": "492239c6",
   "metadata": {},
   "outputs": [
    {
     "name": "stdout",
     "output_type": "stream",
     "text": [
      "[0.       0.849999 0.       0.483204 0.       0.685309 0.730686 0.342704\n",
      " 0.       0.       0.189825 0.       0.352529 0.639448 0.726353 0.662572\n",
      " 0.430758 0.630639 0.618354 0.696668 0.597033 0.652042 0.606449 0.\n",
      " 0.       0.       0.715557 0.180259 0.       0.246592 0.       0.\n",
      " 0.       0.       0.       0.646411 0.       0.       0.       0.07215\n",
      " 0.       0.       0.       0.512768 0.362812 0.459166 0.410839 0.396788\n",
      " 0.19581  0.426938 0.       0.       0.       0.611961 0.      ]\n"
     ]
    }
   ],
   "source": [
    "supply_shock = np.zeros(x_max.shape[0])\n",
    "for i in range (0,x_max.shape[0]):\n",
    "    supply_shock[i] = round(1- x_max[i]/x[i],6)\n",
    "    \n",
    "print(supply_shock)\n",
    "supply_shock = np.array(supply_shock)"
   ]
  },
  {
   "cell_type": "markdown",
   "id": "9e3d1d2c",
   "metadata": {},
   "source": [
    "# IO table "
   ]
  },
  {
   "cell_type": "code",
   "execution_count": 8,
   "id": "65bdc601",
   "metadata": {},
   "outputs": [
    {
     "data": {
      "text/html": [
       "<div>\n",
       "<style scoped>\n",
       "    .dataframe tbody tr th:only-of-type {\n",
       "        vertical-align: middle;\n",
       "    }\n",
       "\n",
       "    .dataframe tbody tr th {\n",
       "        vertical-align: top;\n",
       "    }\n",
       "\n",
       "    .dataframe thead th {\n",
       "        text-align: right;\n",
       "    }\n",
       "</style>\n",
       "<table border=\"1\" class=\"dataframe\">\n",
       "  <thead>\n",
       "    <tr style=\"text-align: right;\">\n",
       "      <th></th>\n",
       "      <th>Unnamed: 0</th>\n",
       "      <th>A01</th>\n",
       "      <th>A02</th>\n",
       "      <th>A03</th>\n",
       "      <th>B</th>\n",
       "      <th>C10-C12</th>\n",
       "      <th>C13-C15</th>\n",
       "      <th>C16</th>\n",
       "      <th>C17</th>\n",
       "      <th>C18</th>\n",
       "      <th>...</th>\n",
       "      <th>M71</th>\n",
       "      <th>M72</th>\n",
       "      <th>M73</th>\n",
       "      <th>M74_M75</th>\n",
       "      <th>N</th>\n",
       "      <th>O84</th>\n",
       "      <th>P85</th>\n",
       "      <th>Q</th>\n",
       "      <th>R_S</th>\n",
       "      <th>T</th>\n",
       "    </tr>\n",
       "  </thead>\n",
       "  <tbody>\n",
       "    <tr>\n",
       "      <th>0</th>\n",
       "      <td>A01</td>\n",
       "      <td>4.164926e-02</td>\n",
       "      <td>0.022453</td>\n",
       "      <td>0.000046</td>\n",
       "      <td>0.000532</td>\n",
       "      <td>0.145642</td>\n",
       "      <td>2.236215e-03</td>\n",
       "      <td>1.373681e-04</td>\n",
       "      <td>9.344121e-05</td>\n",
       "      <td>3.726292e-05</td>\n",
       "      <td>...</td>\n",
       "      <td>0.000016</td>\n",
       "      <td>0.000169</td>\n",
       "      <td>0.000017</td>\n",
       "      <td>0.000188</td>\n",
       "      <td>0.001027</td>\n",
       "      <td>1.571802e-03</td>\n",
       "      <td>0.000152</td>\n",
       "      <td>0.000999</td>\n",
       "      <td>0.000331</td>\n",
       "      <td>0</td>\n",
       "    </tr>\n",
       "    <tr>\n",
       "      <th>1</th>\n",
       "      <td>A02</td>\n",
       "      <td>7.900009e-04</td>\n",
       "      <td>0.148384</td>\n",
       "      <td>0.000043</td>\n",
       "      <td>0.001372</td>\n",
       "      <td>0.000066</td>\n",
       "      <td>3.458867e-05</td>\n",
       "      <td>5.639422e-02</td>\n",
       "      <td>2.235241e-03</td>\n",
       "      <td>1.798931e-05</td>\n",
       "      <td>...</td>\n",
       "      <td>0.000065</td>\n",
       "      <td>0.000010</td>\n",
       "      <td>0.000031</td>\n",
       "      <td>0.000017</td>\n",
       "      <td>0.000071</td>\n",
       "      <td>2.544306e-05</td>\n",
       "      <td>0.000011</td>\n",
       "      <td>0.000018</td>\n",
       "      <td>0.000128</td>\n",
       "      <td>0</td>\n",
       "    </tr>\n",
       "    <tr>\n",
       "      <th>2</th>\n",
       "      <td>A03</td>\n",
       "      <td>4.366784e-07</td>\n",
       "      <td>0.000000</td>\n",
       "      <td>0.012957</td>\n",
       "      <td>0.000002</td>\n",
       "      <td>0.000357</td>\n",
       "      <td>2.755762e-07</td>\n",
       "      <td>1.188522e-07</td>\n",
       "      <td>4.207657e-07</td>\n",
       "      <td>5.563061e-07</td>\n",
       "      <td>...</td>\n",
       "      <td>0.000000</td>\n",
       "      <td>0.000000</td>\n",
       "      <td>0.000000</td>\n",
       "      <td>0.000000</td>\n",
       "      <td>0.000000</td>\n",
       "      <td>8.194973e-07</td>\n",
       "      <td>0.000000</td>\n",
       "      <td>0.000017</td>\n",
       "      <td>0.000004</td>\n",
       "      <td>0</td>\n",
       "    </tr>\n",
       "    <tr>\n",
       "      <th>3</th>\n",
       "      <td>B</td>\n",
       "      <td>2.219650e-04</td>\n",
       "      <td>0.000084</td>\n",
       "      <td>0.000116</td>\n",
       "      <td>0.002035</td>\n",
       "      <td>0.000291</td>\n",
       "      <td>2.382501e-04</td>\n",
       "      <td>2.586815e-04</td>\n",
       "      <td>3.853536e-04</td>\n",
       "      <td>1.026987e-04</td>\n",
       "      <td>...</td>\n",
       "      <td>0.000133</td>\n",
       "      <td>0.000099</td>\n",
       "      <td>0.000066</td>\n",
       "      <td>0.000086</td>\n",
       "      <td>0.000063</td>\n",
       "      <td>1.312530e-04</td>\n",
       "      <td>0.000043</td>\n",
       "      <td>0.000079</td>\n",
       "      <td>0.000068</td>\n",
       "      <td>0</td>\n",
       "    </tr>\n",
       "    <tr>\n",
       "      <th>4</th>\n",
       "      <td>C10-C12</td>\n",
       "      <td>6.141175e-02</td>\n",
       "      <td>0.000821</td>\n",
       "      <td>0.001096</td>\n",
       "      <td>0.001411</td>\n",
       "      <td>0.128738</td>\n",
       "      <td>2.820159e-03</td>\n",
       "      <td>1.333614e-03</td>\n",
       "      <td>1.250540e-03</td>\n",
       "      <td>9.674707e-04</td>\n",
       "      <td>...</td>\n",
       "      <td>0.000423</td>\n",
       "      <td>0.001414</td>\n",
       "      <td>0.000287</td>\n",
       "      <td>0.000705</td>\n",
       "      <td>0.000292</td>\n",
       "      <td>7.647949e-03</td>\n",
       "      <td>0.001857</td>\n",
       "      <td>0.019801</td>\n",
       "      <td>0.001344</td>\n",
       "      <td>0</td>\n",
       "    </tr>\n",
       "  </tbody>\n",
       "</table>\n",
       "<p>5 rows × 56 columns</p>\n",
       "</div>"
      ],
      "text/plain": [
       "  Unnamed: 0           A01       A02       A03         B   C10-C12  \\\n",
       "0        A01  4.164926e-02  0.022453  0.000046  0.000532  0.145642   \n",
       "1        A02  7.900009e-04  0.148384  0.000043  0.001372  0.000066   \n",
       "2        A03  4.366784e-07  0.000000  0.012957  0.000002  0.000357   \n",
       "3          B  2.219650e-04  0.000084  0.000116  0.002035  0.000291   \n",
       "4    C10-C12  6.141175e-02  0.000821  0.001096  0.001411  0.128738   \n",
       "\n",
       "        C13-C15           C16           C17           C18  ...       M71  \\\n",
       "0  2.236215e-03  1.373681e-04  9.344121e-05  3.726292e-05  ...  0.000016   \n",
       "1  3.458867e-05  5.639422e-02  2.235241e-03  1.798931e-05  ...  0.000065   \n",
       "2  2.755762e-07  1.188522e-07  4.207657e-07  5.563061e-07  ...  0.000000   \n",
       "3  2.382501e-04  2.586815e-04  3.853536e-04  1.026987e-04  ...  0.000133   \n",
       "4  2.820159e-03  1.333614e-03  1.250540e-03  9.674707e-04  ...  0.000423   \n",
       "\n",
       "        M72       M73   M74_M75         N           O84       P85         Q  \\\n",
       "0  0.000169  0.000017  0.000188  0.001027  1.571802e-03  0.000152  0.000999   \n",
       "1  0.000010  0.000031  0.000017  0.000071  2.544306e-05  0.000011  0.000018   \n",
       "2  0.000000  0.000000  0.000000  0.000000  8.194973e-07  0.000000  0.000017   \n",
       "3  0.000099  0.000066  0.000086  0.000063  1.312530e-04  0.000043  0.000079   \n",
       "4  0.001414  0.000287  0.000705  0.000292  7.647949e-03  0.001857  0.019801   \n",
       "\n",
       "        R_S  T  \n",
       "0  0.000331  0  \n",
       "1  0.000128  0  \n",
       "2  0.000004  0  \n",
       "3  0.000068  0  \n",
       "4  0.001344  0  \n",
       "\n",
       "[5 rows x 56 columns]"
      ]
     },
     "execution_count": 8,
     "metadata": {},
     "output_type": "execute_result"
    }
   ],
   "source": [
    "df = pd.read_csv('deu_wiot.csv',sep = ',',low_memory=False)\n",
    "df.head()"
   ]
  },
  {
   "cell_type": "code",
   "execution_count": 9,
   "id": "b11f25de",
   "metadata": {},
   "outputs": [
    {
     "data": {
      "text/plain": [
       "(55, 55)"
      ]
     },
     "execution_count": 9,
     "metadata": {},
     "output_type": "execute_result"
    }
   ],
   "source": [
    "df = df.iloc[:,1:]# leaving out industries U and T\n",
    "df = df.astype('float')\n",
    "df.shape"
   ]
  },
  {
   "cell_type": "code",
   "execution_count": 10,
   "id": "bcea6720",
   "metadata": {},
   "outputs": [
    {
     "data": {
      "text/plain": [
       "(55, 55)"
      ]
     },
     "execution_count": 10,
     "metadata": {},
     "output_type": "execute_result"
    }
   ],
   "source": [
    "A = np.array(df)\n",
    "N = A.shape[0]\n",
    "A.shape"
   ]
  },
  {
   "cell_type": "markdown",
   "id": "5093b110",
   "metadata": {},
   "source": [
    "## Matrix Z"
   ]
  },
  {
   "cell_type": "code",
   "execution_count": 11,
   "id": "4aeaaaf1",
   "metadata": {},
   "outputs": [
    {
     "data": {
      "text/plain": [
       "(55, 55)"
      ]
     },
     "execution_count": 11,
     "metadata": {},
     "output_type": "execute_result"
    }
   ],
   "source": [
    "df_Z = pd.read_csv('Zmatrix_deu.csv', sep=',', low_memory=False)\n",
    "df_Z =  df_Z.iloc[:,1:]# leaving out industries U and T\n",
    "df_Z = df_Z.astype('float')\n",
    "df_Z.shape"
   ]
  },
  {
   "cell_type": "code",
   "execution_count": 12,
   "id": "ba6cbaeb",
   "metadata": {},
   "outputs": [
    {
     "data": {
      "text/plain": [
       "(55, 55)"
      ]
     },
     "execution_count": 12,
     "metadata": {},
     "output_type": "execute_result"
    }
   ],
   "source": [
    "Z = np.array(df_Z)\n",
    "N = Z.shape[0]\n",
    "Z.shape"
   ]
  },
  {
   "cell_type": "code",
   "execution_count": 13,
   "id": "ecffa543",
   "metadata": {},
   "outputs": [
    {
     "data": {
      "text/plain": [
       "(55,)"
      ]
     },
     "execution_count": 13,
     "metadata": {},
     "output_type": "execute_result"
    }
   ],
   "source": [
    "x_0 = np.array(x)\n",
    "x_0.shape"
   ]
  },
  {
   "cell_type": "code",
   "execution_count": 14,
   "id": "47bedebf",
   "metadata": {},
   "outputs": [
    {
     "data": {
      "text/plain": [
       "(55,)"
      ]
     },
     "execution_count": 14,
     "metadata": {},
     "output_type": "execute_result"
    }
   ],
   "source": [
    "f_0 = np.array(f)\n",
    "f_0.shape"
   ]
  },
  {
   "cell_type": "code",
   "execution_count": 15,
   "id": "ec763fd6",
   "metadata": {},
   "outputs": [
    {
     "data": {
      "text/plain": [
       "(55, 55)"
      ]
     },
     "execution_count": 15,
     "metadata": {},
     "output_type": "execute_result"
    }
   ],
   "source": [
    "L = np.linalg.inv(np.identity(N)-A)\n",
    "L.shape"
   ]
  },
  {
   "cell_type": "markdown",
   "id": "3188408b",
   "metadata": {},
   "source": [
    "## Direct shock"
   ]
  },
  {
   "cell_type": "code",
   "execution_count": 16,
   "id": "9e93d0d3",
   "metadata": {},
   "outputs": [
    {
     "data": {
      "text/plain": [
       "(0.6913968179397156, 0.9132079048009223)"
      ]
     },
     "execution_count": 16,
     "metadata": {},
     "output_type": "execute_result"
    }
   ],
   "source": [
    "direct_shock = (sum(x_max)/sum(x_0),sum(f_max)/sum(f_0))\n",
    "direct_shock"
   ]
  },
  {
   "cell_type": "markdown",
   "id": "ca7bbc20",
   "metadata": {},
   "source": [
    "# Optimization "
   ]
  },
  {
   "cell_type": "code",
   "execution_count": 17,
   "id": "3ed518a5",
   "metadata": {},
   "outputs": [],
   "source": [
    "from scipy.optimize import linprog"
   ]
  },
  {
   "cell_type": "code",
   "execution_count": 18,
   "id": "5815593d",
   "metadata": {},
   "outputs": [],
   "source": [
    "def max_output(N,L,A,xmax,fmax):\n",
    "    z = np.ones(N)\n",
    "    obj = -np.matmul(np.matrix.transpose(z), L)\n",
    "    lhs_ineq = np.concatenate((-L,L))\n",
    "    rhs_ineq = np.concatenate((np.zeros(N), xmax))\n",
    "    \n",
    "    bnd = []\n",
    "    for i in range (0,N):\n",
    "        bnd.append((0,fmax[i]))\n",
    "    \n",
    "    result = linprog(c = obj, A_ub= lhs_ineq, b_ub= rhs_ineq, bounds = bnd)\n",
    "    \n",
    "    optimal_output = -result.fun\n",
    "    \n",
    "    optimal_f = np.ones(N)\n",
    "    for i in range(0,N):\n",
    "        optimal_f[i] = result.x[i]\n",
    "    \n",
    "    return optimal_output, optimal_output/sum(x_0), sum(optimal_f)/sum(f_0)"
   ]
  },
  {
   "cell_type": "code",
   "execution_count": 19,
   "id": "5fa6501c",
   "metadata": {},
   "outputs": [
    {
     "data": {
      "text/plain": [
       "(4417669.3826816715, 0.6251353593714393, 0.6320096267938023)"
      ]
     },
     "execution_count": 19,
     "metadata": {},
     "output_type": "execute_result"
    }
   ],
   "source": [
    "result = max_output(N,L,A,x_max,f_max)\n",
    "Max_output = (result[0],result[1], result[2])\n",
    "Max_output"
   ]
  },
  {
   "cell_type": "code",
   "execution_count": 20,
   "id": "511580ab",
   "metadata": {},
   "outputs": [],
   "source": [
    "def max_consumption(N,L,A,xmax,fmax):\n",
    "    z = np.ones(N)\n",
    "    obj2 = -np.matmul(np.matrix.transpose(z), np.identity(N)-A)\n",
    "    lhs_ineq2 = np.concatenate((-(np.identity(N)-A), np.identity(N)-A))\n",
    "    rhs_ineq2 = np.concatenate((np.zeros(N), fmax))\n",
    "    \n",
    "    bnd2 = []\n",
    "    for i in range (0,N):\n",
    "        bnd2.append((0,xmax[i]))\n",
    "        \n",
    "    result2 = linprog(c = obj2, A_ub= lhs_ineq2, b_ub= rhs_ineq2, bounds= bnd2)\n",
    "    optimal_f_2 = -result2.fun\n",
    "    \n",
    "    optimal_output_2 = np.ones(N)\n",
    "    for i in range(0,N):\n",
    "        optimal_output_2[i] = round(result2.x[i])\n",
    "        \n",
    "    return result2.success, sum(optimal_output_2)/sum(x_0), optimal_f_2/sum(f_0)"
   ]
  },
  {
   "cell_type": "code",
   "execution_count": 21,
   "id": "6b7fce96",
   "metadata": {},
   "outputs": [
    {
     "data": {
      "text/plain": [
       "(0.6251351637109838, 0.6320096267938027)"
      ]
     },
     "execution_count": 21,
     "metadata": {},
     "output_type": "execute_result"
    }
   ],
   "source": [
    "result2 = max_consumption(N,L,A,x_max,f_max)\n",
    "Max_consumption = (result2[1], result2[2])\n",
    "Max_consumption"
   ]
  },
  {
   "cell_type": "code",
   "execution_count": 22,
   "id": "25a24caa",
   "metadata": {},
   "outputs": [],
   "source": [
    "N= 54\n",
    "f_max = f_max[:N]\n",
    "x_max = x_max[:N]\n",
    "A = A[:N,:N]\n",
    "Z = Z[:N,:N]\n",
    "x_0 = x_0[:N]\n",
    "f_0 = f_0[:N]\n",
    "L = np.linalg.inv(np.identity(N)-A)\n",
    "supply_shock = np.array(supply_shock[:N])\n",
    "demand_shock = np.array(demand_shock[:N])"
   ]
  },
  {
   "cell_type": "code",
   "execution_count": 23,
   "id": "ed7a1740",
   "metadata": {},
   "outputs": [],
   "source": [
    "def algo_proportional(A, L, fmax, xmax, TT, prioritize=\"no\"):\n",
    "    x = [0]\n",
    "    fvec = []          # initial demand vector\n",
    "    fvec.append(fmax)\n",
    "    r = [0]            # output constraints\n",
    "    s = [0]            # input bottlenecks \n",
    "    d = [0]            # aggregated demand vector \n",
    "    d.append(np.matmul(L, fvec[0])) #d[1] = L*f[0]\n",
    "\n",
    "    list_ = [1] \n",
    "    t=1\n",
    "    epsilon = 1e-6\n",
    "    while not np.all(abs(d[t] - d[t-1]) < epsilon) and t<TT:\n",
    "        #print('\\nIteration {0}'.format(t))\n",
    "        #print('---------')\n",
    "        #print('Initial aggregated demand: {}'.format(d[t]))\n",
    "        r.append(np.ones(len(xmax)))\n",
    "        s.append(np.ones(len(xmax)))\n",
    "        fvec.append(np.ones(len(xmax)))\n",
    "        x.append(np.ones(len(xmax)))\n",
    "        d.append(np.ones(len(xmax)))\n",
    "        \n",
    "        ##########################################\n",
    "        ########### Output constraints ###########\n",
    "        ##########################################\n",
    "        for i in range (0,len(x_max)):\n",
    "            r[t][i] = xmax[i]/d[t][i]\n",
    "        #print('Output constraints:{}'.format(r[t]))\n",
    "        \n",
    "        ##########################################\n",
    "        ########### Input bottlenecks ############\n",
    "        ##########################################\n",
    "        for i in range(0,len(x_max)):\n",
    "            for j in range(0,len(x_max)):\n",
    "                if A[j][i] > 0:\n",
    "                    list_.append(r[t][j])\n",
    "            s[t][i] = min(list_)\n",
    "            list_ = [1]\n",
    "        #print('Input bottlenecks:{}'.format(s[t]))\n",
    "        \n",
    "        ##############################################\n",
    "        ########### Constrained Production ###########\n",
    "        ##############################################\n",
    "        for i in range(0,len(xmax)):\n",
    "            x[t][i] = min(xmax[i], s[t][i]*d[t][i])\n",
    "        #print('Constrained production:{}'.format(x[t]))\n",
    "        \n",
    "        ##############################################\n",
    "        ############ Constrained Delivery ############\n",
    "        ##############################################\n",
    "        for i in range(0,len(xmax)):\n",
    "            fvec[t][i] = max(x[t][i] - np.matmul(A[i],x[t]),0)\n",
    "        #print('Constrained delivery:{}'.format(fvec[t]))\n",
    "        \n",
    "        ###############################################\n",
    "        ############ New Aggregated Demand ############\n",
    "        ###############################################\n",
    "        for i in range(0,len(xmax)):\n",
    "            d[t+1][i] = np.matmul(L[i],fvec[t])\n",
    "        t=t+1\n",
    "        #print('Aggregated Demand:         {}'.format(d[t]))\n",
    "        if t == TT:\n",
    "            print(\"Algoritm did not converge\")\n",
    "            \n",
    "    return sum(x[t-1]), sum(x[t-1])/sum(x_0), sum(fvec[t-1])/sum(f_0), t\n"
   ]
  },
  {
   "cell_type": "code",
   "execution_count": 24,
   "id": "f148ddfd",
   "metadata": {},
   "outputs": [
    {
     "data": {
      "text/plain": [
       "(1067176.7165185297, 0.1512270465545405, 0.1521682361425501, 3)"
      ]
     },
     "execution_count": 24,
     "metadata": {},
     "output_type": "execute_result"
    }
   ],
   "source": [
    "result_proportional = algo_proportional(A, L, f_max, x_max, 30, prioritize=\"no\")\n",
    "result_proportional"
   ]
  },
  {
   "cell_type": "code",
   "execution_count": 25,
   "id": "e37f677e",
   "metadata": {},
   "outputs": [],
   "source": [
    "def algo_mixed(A, L, fmax, xmax, TT,prioritize=\"yes\"):\n",
    "    x = [0]\n",
    "    fvec = [] # initial demand vector\n",
    "    fvec.append(fmax)\n",
    "    r = [0]   # output constraints\n",
    "    s = [0]   # input bottlenecks \n",
    "    d = [0]   # aggregated demand vector \n",
    "    d.append(np.matmul(L, fvec[0])) #d[1] = L*f[0]\n",
    "    \n",
    "    list_ = [1] \n",
    "    t=1\n",
    "    epsilon = 1e-6\n",
    "    while not np.all(abs(d[t] - d[t-1]) < epsilon) and t<TT:\n",
    "        #print('\\nIteration {0}'.format(t))\n",
    "        #print('---------')\n",
    "        #print('Initial aggregated demand: {}'.format(d[t]))\n",
    "        r.append(np.ones(len(xmax)))\n",
    "        s.append(np.ones(len(xmax)))\n",
    "        fvec.append(np.ones(len(xmax)))\n",
    "        x.append(np.ones(len(xmax)))\n",
    "        d.append(np.ones(len(xmax)))\n",
    "        \n",
    "        ##########################################\n",
    "        ########### Output constraints ###########\n",
    "        ##########################################\n",
    "        for i in range (0,len(x_max)):\n",
    "            denominator = np.matmul(A[i],d[t])\n",
    "            if denominator == 0:\n",
    "                r[t][i] = 1 \n",
    "            else:\n",
    "                r[t][i] = xmax[i]/denominator\n",
    "        #print('Output constraints:         {}'.format(r[t]))\n",
    "        \n",
    "        ##########################################\n",
    "        ########### Input bottlenecks ############\n",
    "        ##########################################\n",
    "        for i in range(0,len(x_max)):\n",
    "            for j in range(0,len(x_max)):\n",
    "                if A[j][i] > 0:\n",
    "                    list_.append(r[t][j])\n",
    "            s[t][i] = min(list_)\n",
    "            list_ = [1]\n",
    "        #print('Input bottlenecks:         {}'.format(s[t]))\n",
    "        \n",
    "        ##############################################\n",
    "        ########### Constrained Production ###########\n",
    "        ##############################################\n",
    "        for i in range(0,len(xmax)):\n",
    "            x[t][i] = min(xmax[i], s[t][i]*d[t][i])\n",
    "            #print(s[t][i]*d[t][i])\n",
    "        \n",
    "        ##############################################\n",
    "        ############ Constrained Delivery ############\n",
    "        ##############################################\n",
    "        \n",
    "    \n",
    "        \n",
    "        for i in range(0,len(xmax)):\n",
    "            #print(np.matmul(A[i],s[t]*d[t]))\n",
    "            fvec[t][i] = max(x[t][i] - np.matmul(A[i],x[t]),0) \n",
    "        #print('Constrained delivery:      {}'.format(fvec[t]))\n",
    "        \n",
    "        ###############################################\n",
    "        ############ New Aggregated Demand ############\n",
    "        ###############################################\n",
    "        for i in range(0,len(xmax)):\n",
    "            d[t+1][i] = np.matmul(L[i],fvec[t])\n",
    "        t=t+1\n",
    "    \n",
    "    if t == TT:\n",
    "        print(\"Algoritm did not converge\")\n",
    "        \n",
    "    return sum(x[t-1]), sum(x[t-1])/sum(x_0), sum(fvec[t-1])/sum(f_0), t"
   ]
  },
  {
   "cell_type": "code",
   "execution_count": 26,
   "id": "7e38caf2",
   "metadata": {},
   "outputs": [
    {
     "data": {
      "text/plain": [
       "(2018448.161625952, 0.2860294357826111, 0.28787032420594566, 3)"
      ]
     },
     "execution_count": 26,
     "metadata": {},
     "output_type": "execute_result"
    }
   ],
   "source": [
    "result_mixed = algo_mixed(A, L, f_max, x_max, 30, prioritize=\"yes\")\n",
    "result_mixed"
   ]
  },
  {
   "cell_type": "code",
   "execution_count": 27,
   "id": "baad2a03",
   "metadata": {},
   "outputs": [],
   "source": [
    "def order(A, L, fmax):\n",
    "    d = np.matmul(L, fmax)\n",
    "    list_1 = []      # list we will sort\n",
    "    list_2 = []      # list that will not be sorted to find the original indices\n",
    "    for i in range(A.shape[0]):\n",
    "        list_1.append([])\n",
    "        list_2.append([])\n",
    "    for i in range(A.shape[0]):\n",
    "        for j in range(A.shape[0]):\n",
    "            list_1[i].append(A[i][j]*d[j])    # list_1[i][j] = list_2[i][j] = A[i][j]*d[j]\n",
    "            list_2[i].append(A[i][j]*d[j])\n",
    "        list_1[i].sort(reverse = True)        # we sort list_1: A[i][j]*d[j] >= A[i][j+1]*d[j+1]\n",
    "\n",
    "    names_ordered=[]\n",
    "    for i in range(A.shape[0]):\n",
    "        names_ordered.append([])\n",
    "    \n",
    "    for i in range(A.shape[0]):\n",
    "        for k in list_1[i]:                  # we take the indices of the j+1 (j from 0 to N-1) biggest suppliers of industry i. \n",
    "                for l in range(A.shape[0]):    \n",
    "                    if list_2[i][l] == k:\n",
    "                        names_ordered[i].append(l)   \n",
    "    return names_ordered"
   ]
  },
  {
   "cell_type": "code",
   "execution_count": 28,
   "id": "37d5ba42",
   "metadata": {},
   "outputs": [],
   "source": [
    "def algo_priority(A, L, fmax, xmax, ordered, TT= 30, prioritize=\"yes\"):                \n",
    "    x = [0]\n",
    "    fvec = []   # initial demand vector\n",
    "    fvec.append(fmax)\n",
    "    rvec = [0]  # output constraints\n",
    "    s = [0]     # input bottlenecks \n",
    "    d = [0]     # aggregated demand vector \n",
    "    d.append(np.matmul(L, fvec[0])) #d[1] = L*f[0]\n",
    "    \n",
    "    list_ = [1] \n",
    "    t=1\n",
    "    epsilon = 1e-6\n",
    "    \n",
    "    while not np.all(abs(d[t] - d[t-1]) < epsilon) and t<TT:\n",
    "        #print('\\nIteration {0}'.format(t))\n",
    "        #print('---------')\n",
    "        #print('Initial aggregated demand: {}'.format(d[t]))\n",
    "        rvec.append([np.zeros(N)])\n",
    "        s.append(np.ones(N))\n",
    "        fvec.append(np.ones(N))\n",
    "        x.append(np.ones(N))\n",
    "        d.append(np.ones(N))\n",
    "        demand = np.identity(N)\n",
    "        \n",
    "        som = 0\n",
    "        for i in range(0,N):\n",
    "            for j in range(0,N):\n",
    "                for k in ordered[i][:j+1]:\n",
    "                    som = som + A[i][k]*d[t][k] \n",
    "                demand[i][j] = som   #demand[i][j] = demand of j'th biggest customers of firm i summed up\n",
    "                som = 0\n",
    "        remainder = np.identity(N)\n",
    "    \n",
    "        for i in range(0,N):\n",
    "            for j in range(0,N):\n",
    "                remainder[i][j] = xmax[i] - demand[i][j]\n",
    "                \n",
    "        ####################################################\n",
    "        ####################### rvec #######################\n",
    "        ####################################################\n",
    "        for i in range(0,N):\n",
    "            rvec[t].append([])\n",
    "        for i in range(0,N):\n",
    "            if all(remainder[i][j]>0 for j in range(0,N)):\n",
    "                rvec[t][i] = np.ones(N) \n",
    "            elif all(remainder[i][j]<=0 for j in range(0,N)): \n",
    "                rvec[t][i] = np.zeros(N)\n",
    "                for k in ordered[i][:1]: \n",
    "                    rvec[t][i][k] = xmax[i]/demand[i][0]\n",
    "        \n",
    "            else: \n",
    "                idx = np.where(remainder[i]<=0) # index for partially met demand\n",
    "                idx_fully = np.where(remainder[i]>0) \n",
    "                length = len(idx_fully[0])\n",
    "                rvec[t][i] = np.zeros(N)\n",
    "                for l in range(0,length-1):\n",
    "                    index = ordered[i][l]\n",
    "                    rvec[t][i][index] = 1\n",
    "                m = ordered[i][length-1]\n",
    "                rvec[t][i][m] = remainder[i][length-1]/(demand[i][length]-demand[i][length-1])\n",
    "          \n",
    "        #####################################################\n",
    "        ################# Input bottlenecks #################\n",
    "        #####################################################\n",
    "        for i in range(0,N):\n",
    "            for j in range(0,N):\n",
    "                if A[j][i]>0:\n",
    "                    list_.append(rvec[t][j][i])\n",
    "            s[t][i] = min(list_)\n",
    "            list_ = [1]   \n",
    "        #print('Input bottlenecks:         {}'.format(s[t]))\n",
    "        \n",
    "        ######################################################\n",
    "        ############### Constrained Production ###############\n",
    "        ######################################################\n",
    "        for i in range(0,N):\n",
    "            x[t][i] = min(xmax[i], s[t][i]*d[t][i])\n",
    "        #print(x)\n",
    "        \n",
    "        ######################################################\n",
    "        ################ Constrained Delivery ################\n",
    "        ######################################################\n",
    "        for i in range(0,len(xmax)):\n",
    "            fvec[t][i] = max(x[t][i] - np.matmul(A[i],x[t]),0)\n",
    "        \n",
    "        ######################################################\n",
    "        ################ Aggregated demand ###################\n",
    "        ######################################################\n",
    "        for i in range(0,len(xmax)):\n",
    "            d[t+1][i] = np.matmul(L[i],fvec[t])\n",
    "            \n",
    "        t=t+1\n",
    "        if t==TT:\n",
    "            print(\"Algorithm did not converge\")\n",
    "            #return(None, None)\n",
    "        #print(d[t])\n",
    "    return sum(x[t-1]), sum(x[t-1])/sum(x_0), sum(fvec[t-1])/sum(f_0), t"
   ]
  },
  {
   "cell_type": "code",
   "execution_count": 29,
   "id": "75fd78a1",
   "metadata": {},
   "outputs": [
    {
     "data": {
      "text/plain": [
       "(0.0, 0.0, 0.0, 3)"
      ]
     },
     "execution_count": 29,
     "metadata": {},
     "output_type": "execute_result"
    }
   ],
   "source": [
    "names_ordered = order(A,L,f_max)\n",
    "result_priority = algo_priority(A, L, f_max, x_max, names_ordered,TT=30, prioritize=\"yes\")\n",
    "result_priority"
   ]
  },
  {
   "cell_type": "code",
   "execution_count": 30,
   "id": "e81ecebf",
   "metadata": {},
   "outputs": [],
   "source": [
    "from random import randrange"
   ]
  },
  {
   "cell_type": "code",
   "execution_count": 31,
   "id": "b420c40b",
   "metadata": {},
   "outputs": [],
   "source": [
    "def algo_random(A, L, fmax, xmax, runs, prioritize = \"random\"):\n",
    "    som_x = []\n",
    "    x = []\n",
    "    y = []\n",
    "    TT = 30\n",
    "    while len(x)<runs:\n",
    "        random_ordered=[]\n",
    "        for i in range(N):\n",
    "            random_ordered.append([])\n",
    "    \n",
    "        for i in range(N):\n",
    "            while len(random_ordered[i])<N:\n",
    "                random = randrange(N)\n",
    "                while random in random_ordered[i]:\n",
    "                    random = randrange(N)# we willen nu de indices van de j+1 (j van 0 tot en met N-1) grootste suppliers  \n",
    "                random_ordered[i].append(random)\n",
    "                \n",
    "        result = algo_priority(A, L, fmax, xmax, random_ordered, TT = 25, prioritize=\"yes\")\n",
    "        if result[3] != TT:\n",
    "            som_x.append(result[0])\n",
    "            #som_x = sum(som_x)/len(sum_x)\n",
    "            x.append(result[1])\n",
    "            y.append(result[2])\n",
    "    return sum(som_x)/len(som_x), sum(x)/len(x), sum(y)/len(y)"
   ]
  },
  {
   "cell_type": "code",
   "execution_count": 32,
   "id": "b42a55b7",
   "metadata": {},
   "outputs": [
    {
     "data": {
      "text/plain": [
       "(80020.44582169689, 0.01133950497446289, 0.01119372689959923)"
      ]
     },
     "execution_count": 32,
     "metadata": {},
     "output_type": "execute_result"
    }
   ],
   "source": [
    "result_random = algo_random(A, L, f_max, x_max, 100, prioritize = \"random\")\n",
    "result_random"
   ]
  },
  {
   "cell_type": "markdown",
   "id": "aab7d825",
   "metadata": {},
   "source": [
    "# Effect Network Density"
   ]
  },
  {
   "cell_type": "code",
   "execution_count": 33,
   "id": "c7b3be9c",
   "metadata": {},
   "outputs": [
    {
     "data": {
      "text/plain": [
       "(54, 54)"
      ]
     },
     "execution_count": 33,
     "metadata": {},
     "output_type": "execute_result"
    }
   ],
   "source": [
    "N=54\n",
    "A = np.array(df)[:N,:N]\n",
    "N = A.shape[0]\n",
    "A.shape"
   ]
  },
  {
   "cell_type": "code",
   "execution_count": 34,
   "id": "a2e97c68",
   "metadata": {},
   "outputs": [
    {
     "data": {
      "text/plain": [
       "(54, 54)"
      ]
     },
     "execution_count": 34,
     "metadata": {},
     "output_type": "execute_result"
    }
   ],
   "source": [
    "Z = np.array(df_Z)[:N,:N]\n",
    "N = Z.shape[0]\n",
    "Z.shape"
   ]
  },
  {
   "cell_type": "code",
   "execution_count": 35,
   "id": "e391aac0",
   "metadata": {},
   "outputs": [
    {
     "data": {
      "text/plain": [
       "(54,)"
      ]
     },
     "execution_count": 35,
     "metadata": {},
     "output_type": "execute_result"
    }
   ],
   "source": [
    "x_max = np.array(xdata.iloc[:,3].astype('float'))[:N]\n",
    "x_0 = np.array(x)[:N]\n",
    "x_0.shape"
   ]
  },
  {
   "cell_type": "code",
   "execution_count": 36,
   "id": "cabd198c",
   "metadata": {},
   "outputs": [
    {
     "data": {
      "text/plain": [
       "(54,)"
      ]
     },
     "execution_count": 36,
     "metadata": {},
     "output_type": "execute_result"
    }
   ],
   "source": [
    "f_max = np.array(fdata.iloc[:,3].astype('float'))[:N]\n",
    "f_0 = np.array(f)[:N]\n",
    "f_0.shape"
   ]
  },
  {
   "cell_type": "code",
   "execution_count": 37,
   "id": "22e06f62",
   "metadata": {},
   "outputs": [
    {
     "data": {
      "text/plain": [
       "(54, 54)"
      ]
     },
     "execution_count": 37,
     "metadata": {},
     "output_type": "execute_result"
    }
   ],
   "source": [
    "N\n",
    "L = np.linalg.inv(np.identity(N)-A)\n",
    "L.shape"
   ]
  },
  {
   "cell_type": "code",
   "execution_count": 38,
   "id": "19dc419f",
   "metadata": {},
   "outputs": [
    {
     "data": {
      "text/plain": [
       "54"
      ]
     },
     "execution_count": 38,
     "metadata": {},
     "output_type": "execute_result"
    }
   ],
   "source": [
    "supply_shock = np.zeros(N)\n",
    "for i in range (0,x_max.shape[0]):\n",
    "    supply_shock[i] = round(1- x_max[i]/x[i],6)\n",
    "    \n",
    "len(supply_shock) # ok: corresonds to the data "
   ]
  },
  {
   "cell_type": "markdown",
   "id": "18d37cf1",
   "metadata": {},
   "source": [
    "## Eliminate Ranom Links"
   ]
  },
  {
   "cell_type": "code",
   "execution_count": 39,
   "id": "c1b8c536",
   "metadata": {},
   "outputs": [],
   "source": [
    "from random import randrange\n",
    "def eliminate_rand(A, x, f, desired_density):\n",
    "    Anew = A\n",
    "    zeros = np.sum(Anew==0)\n",
    "    Znew = Z\n",
    "    indices_x = []\n",
    "    indices_y = []\n",
    "    if desired_density != 1:\n",
    "        sparselink = round((N**2)*(1-desired_density) - np.sum(Anew==0)) # number of links we need to remove to get desired density\n",
    "        #print(\"Sparselink: {0}\".format(sparselink))\n",
    "        while(np.sum(Znew==0)) < sparselink + zeros: \n",
    "            random_x = randrange(N)\n",
    "            random_y = randrange(N)\n",
    "            while Znew[random_x,random_y] == 0:\n",
    "                random_x = randrange(N)\n",
    "                random_y = randrange(N)\n",
    "            Znew[random_x, random_y] = 0\n",
    "           \n",
    "            \n",
    "    xnew = np.sum(Znew, axis=1) + f\n",
    "    for i in range(0,N):\n",
    "        for j in range(0,N):\n",
    "            Anew[i][j] = Znew[i][j]/x[j]\n",
    "    Lnew = np.linalg.inv(np.identity(N)-Anew)\n",
    "    \n",
    "    return xnew, Anew, Lnew, Znew"
   ]
  },
  {
   "cell_type": "markdown",
   "id": "695c2c90",
   "metadata": {},
   "source": [
    "### Direct shock"
   ]
  },
  {
   "cell_type": "markdown",
   "id": "da735224",
   "metadata": {},
   "source": [
    "**For 50 different densities, we adapt our matrix. We compute xnew, Anew, xmaxnew. Then we apply the shocks to the new data: instead of sum(xmax)/sum(x) it is now equal to sum(xmaxnew)/sum(xnew).**"
   ]
  },
  {
   "cell_type": "code",
   "execution_count": 40,
   "id": "2304e787",
   "metadata": {},
   "outputs": [],
   "source": [
    "densseq = np.linspace(0,1,50)"
   ]
  },
  {
   "cell_type": "code",
   "execution_count": 41,
   "id": "07aad4a0",
   "metadata": {},
   "outputs": [
    {
     "data": {
      "text/plain": [
       "array([0.67569892, 0.67603421, 0.67703845, 0.67649509, 0.67837202,\n",
       "       0.67841489, 0.67909876, 0.67883313, 0.67964172, 0.68007276,\n",
       "       0.68042049, 0.68131757, 0.68142224, 0.68210733, 0.6816623 ,\n",
       "       0.68177141, 0.68210316, 0.68330735, 0.68341906, 0.68278138,\n",
       "       0.68419645, 0.68422601, 0.68371053, 0.6860105 , 0.68469447,\n",
       "       0.6861159 , 0.68479692, 0.68693892, 0.68665994, 0.6868624 ,\n",
       "       0.68577993, 0.68640472, 0.68668942, 0.68734376, 0.68672584,\n",
       "       0.68810564, 0.68913958, 0.68852382, 0.68905659, 0.68859448,\n",
       "       0.68934002, 0.68918455, 0.68966037, 0.68990494, 0.69013109,\n",
       "       0.68979025, 0.69066323, 0.69048158, 0.6906935 , 0.69096146])"
      ]
     },
     "execution_count": 41,
     "metadata": {},
     "output_type": "execute_result"
    }
   ],
   "source": [
    "resdir_x = np.identity(50)\n",
    "densseq = np.linspace(0,1,50)\n",
    "runs_dens = 50\n",
    "for i in range(len(densseq)):\n",
    "    for j in range(runs_dens):\n",
    "        A = np.array(df)[:N,:N] \n",
    "        Z = np.array(df_Z)[:N,:N] \n",
    "        newdat = eliminate_rand(A, x_0, f_0, densseq[i])\n",
    "        #print(densseq[i])\n",
    "        xmaxnew = np.ones(N)\n",
    "        for k in range(0,N):\n",
    "            xmaxnew[k] = newdat[0][k]*(1- supply_shock[k])\n",
    "        resdir_x[i][j] = (sum(xmaxnew)/sum(newdat[0]))\n",
    "resdir_x = np.mean(resdir_x, axis = 1)\n",
    "resdir_x"
   ]
  },
  {
   "cell_type": "markdown",
   "id": "55866d8e",
   "metadata": {},
   "source": [
    "## Proportional rationing"
   ]
  },
  {
   "cell_type": "code",
   "execution_count": 42,
   "id": "9f332164",
   "metadata": {},
   "outputs": [],
   "source": [
    "TT = 20"
   ]
  },
  {
   "cell_type": "code",
   "execution_count": 43,
   "id": "d65b792d",
   "metadata": {},
   "outputs": [],
   "source": [
    "resprop_x = np.identity(50)\n",
    "densseq = np.linspace(0,1,50)\n",
    "runs_dens = 50\n",
    "for i in range(len(densseq)):\n",
    "    for j in range(runs_dens):\n",
    "        A = np.array(df)[:N,:N] \n",
    "        Z = np.array(df_Z)[:N,:N] \n",
    "        newdat = eliminate_rand(A, x_0, f_0, densseq[i])\n",
    "        #print(densseq[i])\n",
    "        xmaxnew = np.ones(N)\n",
    "        for k in range(0,N):\n",
    "            xmaxnew[k] = newdat[0][k]*(1- supply_shock[k])\n",
    "        \n",
    "        result = algo_proportional(newdat[1], newdat[2], f_max, xmaxnew, TT, prioritize = \"no\")\n",
    "        resprop_x[i][j] = (result[0]/sum(newdat[0]))\n",
    "resprop_x = np.mean(resprop_x, axis = 1)"
   ]
  },
  {
   "cell_type": "markdown",
   "id": "ab14154f",
   "metadata": {},
   "source": [
    "## Priority"
   ]
  },
  {
   "cell_type": "code",
   "execution_count": 44,
   "id": "fb5f1494",
   "metadata": {},
   "outputs": [
    {
     "name": "stdout",
     "output_type": "stream",
     "text": [
      "Iteration 0\n",
      "Iteration 1\n",
      "Iteration 2\n",
      "Iteration 3\n",
      "Iteration 4\n",
      "Iteration 5\n",
      "Iteration 6\n",
      "Iteration 7\n",
      "Iteration 8\n",
      "Iteration 9\n",
      "Iteration 10\n",
      "Iteration 11\n",
      "Iteration 12\n",
      "Iteration 13\n",
      "Iteration 14\n",
      "Iteration 15\n",
      "Iteration 16\n",
      "Iteration 17\n",
      "Iteration 18\n",
      "Iteration 19\n",
      "Iteration 20\n",
      "Iteration 21\n",
      "Iteration 22\n",
      "Iteration 23\n",
      "Iteration 24\n",
      "Iteration 25\n",
      "Iteration 26\n",
      "Iteration 27\n",
      "Iteration 28\n",
      "Iteration 29\n",
      "Iteration 30\n",
      "Iteration 31\n",
      "Iteration 32\n",
      "Iteration 33\n",
      "Iteration 34\n",
      "Iteration 35\n",
      "Iteration 36\n",
      "Iteration 37\n",
      "Iteration 38\n",
      "Iteration 39\n",
      "Iteration 40\n",
      "Iteration 41\n",
      "Iteration 42\n",
      "Iteration 43\n",
      "Iteration 44\n",
      "Iteration 45\n",
      "Iteration 46\n",
      "Iteration 47\n",
      "Iteration 48\n",
      "Iteration 49\n"
     ]
    }
   ],
   "source": [
    "resprior_x = np.identity(50)\n",
    "densseq = np.linspace(0,1,50)\n",
    "runs_dens = 50\n",
    "for i in range(len(densseq)):\n",
    "    print(\"Iteration {0}\".format(i))\n",
    "    for j in range(runs_dens):\n",
    "        A = np.array(df)[:N,:N] \n",
    "        Z = np.array(df_Z)[:N,:N] \n",
    "        newdat = eliminate_rand(A, x_0, f_0, densseq[i])\n",
    "        #print(densseq[i])\n",
    "        xmaxnew = np.ones(N)\n",
    "        for k in range(0,N):\n",
    "            xmaxnew[k] = newdat[0][k]*(1- supply_shock[k])\n",
    "        names_ordered = order(newdat[1],newdat[2],f_max)\n",
    "        \n",
    "        result = algo_priority(newdat[1], newdat[2], f_max, xmaxnew, names_ordered,TT=10, prioritize=\"yes\")\n",
    "        if result[3] != 10:\n",
    "            resprior_x[i][j] = (result[0]/sum(newdat[0]))\n",
    "        else:\n",
    "            resprior_x[i][j] = np.nan\n",
    "        \n",
    "resprior_x = np.nanmean(resprior_x, axis = 1)"
   ]
  },
  {
   "cell_type": "markdown",
   "id": "14eff324",
   "metadata": {},
   "source": [
    "## Mixed"
   ]
  },
  {
   "cell_type": "code",
   "execution_count": 45,
   "id": "d3d801c2",
   "metadata": {},
   "outputs": [],
   "source": [
    "resmixed_x = np.identity(50)\n",
    "densseq = np.linspace(0,1,50)\n",
    "runs_dens = 50\n",
    "for i in range(len(densseq)):\n",
    "    for j in range(runs_dens):\n",
    "        A = np.array(df)[:N,:N] \n",
    "        Z = np.array(df_Z)[:N,:N] \n",
    "        newdat = eliminate_rand(A, x_0, f_0, densseq[i])\n",
    "        #print(densseq[i])\n",
    "        xmaxnew = np.ones(N)\n",
    "        for k in range(0,N):\n",
    "            xmaxnew[k] = newdat[0][k]*(1- supply_shock[k])\n",
    "        \n",
    "        result = algo_mixed(newdat[1], newdat[2], f_max, xmaxnew, TT,prioritize=\"yes\")\n",
    "        resmixed_x[i][j] = (result[0]/sum(newdat[0]))\n",
    "resmixed_x = np.mean(resmixed_x, axis = 1)"
   ]
  },
  {
   "cell_type": "markdown",
   "id": "6d65c541",
   "metadata": {},
   "source": [
    "## Random"
   ]
  },
  {
   "cell_type": "code",
   "execution_count": 46,
   "id": "e35e2aae",
   "metadata": {},
   "outputs": [
    {
     "name": "stdout",
     "output_type": "stream",
     "text": [
      "Iteration 0\n",
      "Iteration 1\n",
      "Iteration 2\n",
      "Iteration 3\n",
      "Iteration 4\n",
      "Iteration 5\n",
      "Iteration 6\n",
      "Iteration 7\n",
      "Iteration 8\n",
      "Iteration 9\n",
      "Iteration 10\n",
      "Iteration 11\n",
      "Iteration 12\n",
      "Iteration 13\n",
      "Iteration 14\n",
      "Iteration 15\n",
      "Iteration 16\n",
      "Iteration 17\n",
      "Iteration 18\n",
      "Iteration 19\n",
      "Iteration 20\n",
      "Iteration 21\n",
      "Iteration 22\n",
      "Iteration 23\n",
      "Iteration 24\n",
      "Iteration 25\n",
      "Iteration 26\n",
      "Iteration 27\n",
      "Iteration 28\n",
      "Iteration 29\n",
      "Iteration 30\n",
      "Iteration 31\n",
      "Iteration 32\n",
      "Iteration 33\n",
      "Iteration 34\n",
      "Iteration 35\n",
      "Iteration 36\n",
      "Iteration 37\n",
      "Iteration 38\n",
      "Iteration 39\n",
      "Iteration 40\n",
      "Iteration 41\n",
      "Iteration 42\n",
      "Iteration 43\n",
      "Iteration 44\n",
      "Iteration 45\n",
      "Iteration 46\n",
      "Iteration 47\n",
      "Iteration 48\n",
      "Iteration 49\n"
     ]
    }
   ],
   "source": [
    "resrandom_x = np.ones((50,50))\n",
    "densseq = np.linspace(0,1,50)\n",
    "runs_random = 30\n",
    "runs_dens = 50\n",
    "N = 54\n",
    "for i in range(len(densseq)):\n",
    "    print(\"Iteration {0}\" .format(i))\n",
    "    for j in range(runs_dens):\n",
    "        A = np.array(df)[:N,:N] \n",
    "        Z = np.array(df_Z)[:N,:N] \n",
    "        newdat = eliminate_rand(A, x_0, f_0, densseq[i])\n",
    "        #print(densseq[i])\n",
    "        xmaxnew = np.ones(N)\n",
    "        for k in range(0,N):\n",
    "            xmaxnew[k] = newdat[0][k]*(1- supply_shock[k])\n",
    "        \n",
    "        result = algo_random(newdat[1], newdat[2], f_max, xmaxnew, runs_random, prioritize = \"random\")\n",
    "        resrandom_x[i][j] = result[0]/sum(newdat[0])\n",
    "resrandom_x = np.mean(resrandom_x, axis = 1)"
   ]
  },
  {
   "cell_type": "markdown",
   "id": "d039d212",
   "metadata": {},
   "source": [
    "## Optimization"
   ]
  },
  {
   "cell_type": "code",
   "execution_count": 47,
   "id": "424ab834",
   "metadata": {},
   "outputs": [
    {
     "name": "stdout",
     "output_type": "stream",
     "text": [
      "Iteration 0\n",
      "Iteration 1\n",
      "Iteration 2\n",
      "Iteration 3\n",
      "Iteration 4\n",
      "Iteration 5\n",
      "Iteration 6\n",
      "Iteration 7\n",
      "Iteration 8\n",
      "Iteration 9\n",
      "Iteration 10\n",
      "Iteration 11\n",
      "Iteration 12\n",
      "Iteration 13\n",
      "Iteration 14\n",
      "Iteration 15\n",
      "Iteration 16\n",
      "Iteration 17\n",
      "Iteration 18\n",
      "Iteration 19\n",
      "Iteration 20\n",
      "Iteration 21\n",
      "Iteration 22\n",
      "Iteration 23\n",
      "Iteration 24\n",
      "Iteration 25\n",
      "Iteration 26\n",
      "Iteration 27\n",
      "Iteration 28\n",
      "Iteration 29\n",
      "Iteration 30\n",
      "Iteration 31\n",
      "Iteration 32\n",
      "Iteration 33\n",
      "Iteration 34\n",
      "Iteration 35\n",
      "Iteration 36\n",
      "Iteration 37\n",
      "Iteration 38\n",
      "Iteration 39\n",
      "Iteration 40\n",
      "Iteration 41\n",
      "Iteration 42\n",
      "Iteration 43\n",
      "Iteration 44\n",
      "Iteration 45\n",
      "Iteration 46\n",
      "Iteration 47\n",
      "Iteration 48\n",
      "Iteration 49\n"
     ]
    }
   ],
   "source": [
    "resmax_x = np.identity(50)\n",
    "densseq = np.linspace(0,1,50)\n",
    "runs_dens = 50\n",
    "for i in range(len(densseq)):\n",
    "    print(\"Iteration {0}\" .format(i))\n",
    "    for j in range(runs_dens):\n",
    "        A = np.array(df)[:N,:N] \n",
    "        Z = np.array(df_Z)[:N,:N] \n",
    "        newdat = eliminate_rand(A, x_0, f_0, densseq[i])\n",
    "        #print(densseq[i])\n",
    "        xmaxnew = np.ones(N)\n",
    "        for k in range(0,N):\n",
    "            xmaxnew[k] = newdat[0][k]*(1- supply_shock[k])\n",
    "        \n",
    "        result = max_output(N,newdat[2],newdat[1],xmaxnew,f_max)\n",
    "        resmax_x[i][j] = (result[0]/sum(newdat[0]))\n",
    "resmax_x = np.mean(resmax_x, axis = 1)"
   ]
  },
  {
   "cell_type": "code",
   "execution_count": 48,
   "id": "44fb5888",
   "metadata": {},
   "outputs": [
    {
     "name": "stdout",
     "output_type": "stream",
     "text": [
      "Iteration 0\n",
      "Iteration 1\n",
      "Iteration 2\n",
      "Iteration 3\n",
      "Iteration 4\n",
      "Iteration 5\n",
      "Iteration 6\n",
      "Iteration 7\n",
      "Iteration 8\n",
      "Iteration 9\n",
      "Iteration 10\n",
      "Iteration 11\n",
      "Iteration 12\n",
      "Iteration 13\n",
      "Iteration 14\n",
      "Iteration 15\n",
      "Iteration 16\n",
      "Iteration 17\n",
      "Iteration 18\n",
      "Iteration 19\n",
      "Iteration 20\n",
      "Iteration 21\n",
      "Iteration 22\n",
      "Iteration 23\n",
      "Iteration 24\n",
      "Iteration 25\n",
      "Iteration 26\n",
      "Iteration 27\n",
      "Iteration 28\n",
      "Iteration 29\n",
      "Iteration 30\n",
      "Iteration 31\n",
      "Iteration 32\n",
      "Iteration 33\n",
      "Iteration 34\n",
      "Iteration 35\n",
      "Iteration 36\n",
      "Iteration 37\n",
      "Iteration 38\n",
      "Iteration 39\n",
      "Iteration 40\n",
      "Iteration 41\n",
      "Iteration 42\n",
      "Iteration 43\n",
      "Iteration 44\n",
      "Iteration 45\n",
      "Iteration 46\n",
      "Iteration 47\n",
      "Iteration 48\n",
      "Iteration 49\n"
     ]
    }
   ],
   "source": [
    "resmaxF_x = np.identity(50)\n",
    "densseq = np.linspace(0,1,50)\n",
    "runs_dens = 50\n",
    "N = 54\n",
    "for i in range(len(densseq)):\n",
    "    print(\"Iteration {0}\" .format(i))\n",
    "    for j in range(runs_dens):\n",
    "        A = np.array(df)[:N,:N] \n",
    "        Z = np.array(df_Z)[:N,:N] \n",
    "        newdat = eliminate_rand(A, x_0, f_0, densseq[i])\n",
    "        #print(densseq[i])\n",
    "        xmaxnew = np.ones(N)\n",
    "        for k in range(0,N):\n",
    "            xmaxnew[k] = newdat[0][k]*(1- supply_shock[k])\n",
    "        \n",
    "        result = max_output(N,newdat[2],newdat[1],xmaxnew,f_max)\n",
    "        resmaxF_x[i][j] = (result[0]/sum(newdat[0]))\n",
    "resmaxF_x = np.mean(resmaxF_x, axis = 1)"
   ]
  },
  {
   "cell_type": "markdown",
   "id": "0046796c",
   "metadata": {},
   "source": [
    "# Results"
   ]
  },
  {
   "cell_type": "code",
   "execution_count": 49,
   "id": "617af282",
   "metadata": {},
   "outputs": [
    {
     "data": {
      "image/png": "[encoded data removed]",
      "text/plain": [
       "<Figure size 640x480 with 1 Axes>"
      ]
     },
     "metadata": {},
     "output_type": "display_data"
    }
   ],
   "source": [
    "import matplotlib.pyplot as plt\n",
    "plt.style.use('ggplot')\n",
    "plt.title(\"Germany\")\n",
    "plt.grid(visible=None, which='major', axis='both', linestyle='-', linewidth=1)\n",
    "\n",
    "plt.plot(densseq, resdir_x, 'black')\n",
    "plt.plot(densseq, resmax_x, 'red')\n",
    "plt.plot(densseq, resprop_x, 'green')\n",
    "plt.plot(densseq, resmixed_x, 'grey')\n",
    "plt.plot(densseq, resprior_x, 'orange')\n",
    "plt.plot(densseq, resrandom_x, 'blue')\n",
    "\n",
    "\n",
    "#plt.xlim(-0.05, 1) \n",
    "plt.ylim(-0.00,0.74)\n",
    "plt.rcParams['text.usetex'] = True\n",
    "plt.xlabel('Density')\n",
    "plt.ylabel(\"Gross Output (% of pre-shock level)\")\n",
    "plt.legend(['Direct shock', 'Maximization', 'Proportional', 'Mixed', 'Priority', 'Random'])\n",
    "plt.savefig('plot_deu_density.png')"
   ]
  }
 ],
 "metadata": {
  "kernelspec": {
   "display_name": "venv test",
   "language": "python",
   "name": "venv"
  },
  "language_info": {
   "codemirror_mode": {
    "name": "ipython",
    "version": 3
   },
   "file_extension": ".py",
   "mimetype": "text/x-python",
   "name": "python",
   "nbconvert_exporter": "python",
   "pygments_lexer": "ipython3",
   "version": "3.10.11"
  }
 },
 "nbformat": 4,
 "nbformat_minor": 5
}
