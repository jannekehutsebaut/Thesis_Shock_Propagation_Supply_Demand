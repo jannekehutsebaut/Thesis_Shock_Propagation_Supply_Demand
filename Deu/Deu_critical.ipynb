{
 "cells": [
  {
   "cell_type": "code",
   "execution_count": 1,
   "id": "d69dad87",
   "metadata": {},
   "outputs": [],
   "source": [
    "import pandas as pd\n",
    "import numpy as np"
   ]
  },
  {
   "cell_type": "markdown",
   "id": "d575f677",
   "metadata": {},
   "source": [
    "# Data for final consumption and total output"
   ]
  },
  {
   "cell_type": "markdown",
   "id": "d12500d2",
   "metadata": {},
   "source": [
    "For this case study, we use the input-output data of Germany. The data for the initial output level and final consumption level per industry as well as the supply and demand shock data is taken from:\n",
    "\n",
    "Pichler, A. and Farmer, J. D. (2021b). Simultaneous supply and demand constraints in\n",
    "input–output networks: the case of covid-19 in Germany, Italy and Spain (Version V1).\n",
    "Zenodo. https://doi.org/10.5281/zenodo.4326815"
   ]
  },
  {
   "cell_type": "markdown",
   "id": "9118cff0",
   "metadata": {},
   "source": [
    "## Final consumption"
   ]
  },
  {
   "cell_type": "markdown",
   "id": "83121ea0",
   "metadata": {},
   "source": [
    "**We define the initial and maximal consumption for each industry**"
   ]
  },
  {
   "cell_type": "code",
   "execution_count": 2,
   "id": "a0c01f4c",
   "metadata": {},
   "outputs": [
    {
     "data": {
      "text/html": [
       "<div>\n",
       "<style scoped>\n",
       "    .dataframe tbody tr th:only-of-type {\n",
       "        vertical-align: middle;\n",
       "    }\n",
       "\n",
       "    .dataframe tbody tr th {\n",
       "        vertical-align: top;\n",
       "    }\n",
       "\n",
       "    .dataframe thead th {\n",
       "        text-align: right;\n",
       "    }\n",
       "</style>\n",
       "<table border=\"1\" class=\"dataframe\">\n",
       "  <thead>\n",
       "    <tr style=\"text-align: right;\">\n",
       "      <th></th>\n",
       "      <th>Unnamed: 0</th>\n",
       "      <th>f</th>\n",
       "      <th>fmin</th>\n",
       "      <th>fmax</th>\n",
       "      <th>f.maxF</th>\n",
       "      <th>f.maxX</th>\n",
       "    </tr>\n",
       "  </thead>\n",
       "  <tbody>\n",
       "    <tr>\n",
       "      <th>0</th>\n",
       "      <td>A01</td>\n",
       "      <td>21457.851487</td>\n",
       "      <td>0</td>\n",
       "      <td>19312.930956</td>\n",
       "      <td>19312.930956</td>\n",
       "      <td>19312.930956</td>\n",
       "    </tr>\n",
       "    <tr>\n",
       "      <th>1</th>\n",
       "      <td>A02</td>\n",
       "      <td>3034.759567</td>\n",
       "      <td>0</td>\n",
       "      <td>2731.283611</td>\n",
       "      <td>2.427354</td>\n",
       "      <td>2.427354</td>\n",
       "    </tr>\n",
       "    <tr>\n",
       "      <th>2</th>\n",
       "      <td>A03</td>\n",
       "      <td>366.298763</td>\n",
       "      <td>0</td>\n",
       "      <td>329.668887</td>\n",
       "      <td>329.668887</td>\n",
       "      <td>329.668887</td>\n",
       "    </tr>\n",
       "    <tr>\n",
       "      <th>3</th>\n",
       "      <td>B</td>\n",
       "      <td>11531.103621</td>\n",
       "      <td>0</td>\n",
       "      <td>10378.720960</td>\n",
       "      <td>5458.072038</td>\n",
       "      <td>5458.072038</td>\n",
       "    </tr>\n",
       "    <tr>\n",
       "      <th>4</th>\n",
       "      <td>C10-C12</td>\n",
       "      <td>180232.806666</td>\n",
       "      <td>0</td>\n",
       "      <td>162262.891729</td>\n",
       "      <td>162262.891729</td>\n",
       "      <td>162262.891729</td>\n",
       "    </tr>\n",
       "  </tbody>\n",
       "</table>\n",
       "</div>"
      ],
      "text/plain": [
       "  Unnamed: 0              f  fmin           fmax         f.maxF         f.maxX\n",
       "0        A01   21457.851487     0   19312.930956   19312.930956   19312.930956\n",
       "1        A02    3034.759567     0    2731.283611       2.427354       2.427354\n",
       "2        A03     366.298763     0     329.668887     329.668887     329.668887\n",
       "3          B   11531.103621     0   10378.720960    5458.072038    5458.072038\n",
       "4    C10-C12  180232.806666     0  162262.891729  162262.891729  162262.891729"
      ]
     },
     "execution_count": 2,
     "metadata": {},
     "output_type": "execute_result"
    }
   ],
   "source": [
    "fdata = pd.read_csv('fdata_deu.csv', sep = ',')\n",
    "fdata.head()"
   ]
  },
  {
   "cell_type": "code",
   "execution_count": 3,
   "id": "e9524638",
   "metadata": {},
   "outputs": [
    {
     "data": {
      "text/plain": [
       "(55,)"
      ]
     },
     "execution_count": 3,
     "metadata": {},
     "output_type": "execute_result"
    }
   ],
   "source": [
    "f_0 = fdata.iloc[:,1].astype('float')\n",
    "f_max = np.array(fdata.iloc[:,3].astype('float'))\n",
    "f_max\n",
    "f_0.shape"
   ]
  },
  {
   "cell_type": "code",
   "execution_count": 4,
   "id": "8b69a58b",
   "metadata": {},
   "outputs": [],
   "source": [
    "demand_shock = np.zeros(f_max.shape[0])\n",
    "for i in range (0,f_max.shape[0]):\n",
    "    demand_shock[i] = round(1- f_max[i]/f_0[i],3)\n",
    "    \n",
    "demand_shock = np.array(demand_shock)"
   ]
  },
  {
   "cell_type": "markdown",
   "id": "2012b38d",
   "metadata": {},
   "source": [
    "## Total output"
   ]
  },
  {
   "cell_type": "code",
   "execution_count": 5,
   "id": "32e86384",
   "metadata": {},
   "outputs": [
    {
     "data": {
      "text/html": [
       "<div>\n",
       "<style scoped>\n",
       "    .dataframe tbody tr th:only-of-type {\n",
       "        vertical-align: middle;\n",
       "    }\n",
       "\n",
       "    .dataframe tbody tr th {\n",
       "        vertical-align: top;\n",
       "    }\n",
       "\n",
       "    .dataframe thead th {\n",
       "        text-align: right;\n",
       "    }\n",
       "</style>\n",
       "<table border=\"1\" class=\"dataframe\">\n",
       "  <thead>\n",
       "    <tr style=\"text-align: right;\">\n",
       "      <th></th>\n",
       "      <th>Unnamed: 0</th>\n",
       "      <th>x</th>\n",
       "      <th>xmin</th>\n",
       "      <th>xmax</th>\n",
       "      <th>x.maxF</th>\n",
       "      <th>x.maxX</th>\n",
       "    </tr>\n",
       "  </thead>\n",
       "  <tbody>\n",
       "    <tr>\n",
       "      <th>50</th>\n",
       "      <td>O84</td>\n",
       "      <td>326446.9910</td>\n",
       "      <td>0</td>\n",
       "      <td>326446.991000</td>\n",
       "      <td>306201.098420</td>\n",
       "      <td>306201.098420</td>\n",
       "    </tr>\n",
       "    <tr>\n",
       "      <th>51</th>\n",
       "      <td>P85</td>\n",
       "      <td>205736.8240</td>\n",
       "      <td>0</td>\n",
       "      <td>205736.824000</td>\n",
       "      <td>200894.751180</td>\n",
       "      <td>200894.751180</td>\n",
       "    </tr>\n",
       "    <tr>\n",
       "      <th>52</th>\n",
       "      <td>Q</td>\n",
       "      <td>381918.5085</td>\n",
       "      <td>0</td>\n",
       "      <td>381918.508500</td>\n",
       "      <td>380852.716052</td>\n",
       "      <td>380852.716052</td>\n",
       "    </tr>\n",
       "    <tr>\n",
       "      <th>53</th>\n",
       "      <td>R_S</td>\n",
       "      <td>195188.5340</td>\n",
       "      <td>0</td>\n",
       "      <td>75740.830036</td>\n",
       "      <td>75740.830036</td>\n",
       "      <td>75740.830036</td>\n",
       "    </tr>\n",
       "    <tr>\n",
       "      <th>54</th>\n",
       "      <td>T</td>\n",
       "      <td>9955.7790</td>\n",
       "      <td>0</td>\n",
       "      <td>9955.779000</td>\n",
       "      <td>9955.778971</td>\n",
       "      <td>9955.778971</td>\n",
       "    </tr>\n",
       "  </tbody>\n",
       "</table>\n",
       "</div>"
      ],
      "text/plain": [
       "   Unnamed: 0            x  xmin           xmax         x.maxF         x.maxX\n",
       "50        O84  326446.9910     0  326446.991000  306201.098420  306201.098420\n",
       "51        P85  205736.8240     0  205736.824000  200894.751180  200894.751180\n",
       "52          Q  381918.5085     0  381918.508500  380852.716052  380852.716052\n",
       "53        R_S  195188.5340     0   75740.830036   75740.830036   75740.830036\n",
       "54          T    9955.7790     0    9955.779000    9955.778971    9955.778971"
      ]
     },
     "execution_count": 5,
     "metadata": {},
     "output_type": "execute_result"
    }
   ],
   "source": [
    "xdata =  pd.read_csv('xdata_deu.csv', sep = ',')\n",
    "xdata.tail()   "
   ]
  },
  {
   "cell_type": "code",
   "execution_count": 6,
   "id": "9774c387",
   "metadata": {},
   "outputs": [],
   "source": [
    "x_0 = xdata.iloc[:,1].astype('float')\n",
    "x_max = np.array(xdata.iloc[:,3].astype('float'))"
   ]
  },
  {
   "cell_type": "code",
   "execution_count": 7,
   "id": "69a62e72",
   "metadata": {},
   "outputs": [],
   "source": [
    "supply_shock = np.zeros(x_max.shape[0])\n",
    "for i in range (0,x_max.shape[0]):\n",
    "    supply_shock[i] = round(1- x_max[i]/x_0[i],6)\n",
    "    \n",
    "supply_shock = np.array(supply_shock)"
   ]
  },
  {
   "cell_type": "markdown",
   "id": "97cb7425",
   "metadata": {},
   "source": [
    "# IO table "
   ]
  },
  {
   "cell_type": "code",
   "execution_count": 8,
   "id": "d00267df",
   "metadata": {},
   "outputs": [],
   "source": [
    "df = pd.read_csv('deu_wiot.csv',sep = ',',low_memory=False)"
   ]
  },
  {
   "cell_type": "code",
   "execution_count": 9,
   "id": "1d58fb5b",
   "metadata": {},
   "outputs": [
    {
     "data": {
      "text/plain": [
       "(55, 55)"
      ]
     },
     "execution_count": 9,
     "metadata": {},
     "output_type": "execute_result"
    }
   ],
   "source": [
    "Z = pd.read_csv('Zmatrix_deu.csv', sep=',', low_memory=False)\n",
    "Z =  Z.iloc[:,1:]# leaving out industries U and T\n",
    "Z = Z.astype('float')\n",
    "Z.shape"
   ]
  },
  {
   "cell_type": "code",
   "execution_count": 10,
   "id": "f3bbab62",
   "metadata": {},
   "outputs": [
    {
     "data": {
      "text/plain": [
       "(55, 55)"
      ]
     },
     "execution_count": 10,
     "metadata": {},
     "output_type": "execute_result"
    }
   ],
   "source": [
    "Z = np.array(Z)\n",
    "N = Z.shape[0]\n",
    "Z.shape"
   ]
  },
  {
   "cell_type": "code",
   "execution_count": 11,
   "id": "ef22029a",
   "metadata": {},
   "outputs": [
    {
     "data": {
      "text/plain": [
       "(55, 55)"
      ]
     },
     "execution_count": 11,
     "metadata": {},
     "output_type": "execute_result"
    }
   ],
   "source": [
    "df = df.iloc[:,1:]# leaving out industries U and T\n",
    "df = df.astype('float')\n",
    "df.shape"
   ]
  },
  {
   "cell_type": "markdown",
   "id": "e32d8d62",
   "metadata": {},
   "source": [
    "**Creating matrix A**"
   ]
  },
  {
   "cell_type": "code",
   "execution_count": 12,
   "id": "3b209a29",
   "metadata": {},
   "outputs": [
    {
     "data": {
      "text/plain": [
       "(55, 55)"
      ]
     },
     "execution_count": 12,
     "metadata": {},
     "output_type": "execute_result"
    }
   ],
   "source": [
    "A = np.array(df)\n",
    "N = A.shape[0]\n",
    "A.shape"
   ]
  },
  {
   "cell_type": "code",
   "execution_count": 13,
   "id": "4c9a64bb",
   "metadata": {},
   "outputs": [],
   "source": [
    "x_0 = np.array(x_0)"
   ]
  },
  {
   "cell_type": "code",
   "execution_count": 14,
   "id": "8ba3cc01",
   "metadata": {},
   "outputs": [
    {
     "data": {
      "text/plain": [
       "(55,)"
      ]
     },
     "execution_count": 14,
     "metadata": {},
     "output_type": "execute_result"
    }
   ],
   "source": [
    "f_0 = np.array(f_0)\n",
    "f_0.shape"
   ]
  },
  {
   "cell_type": "markdown",
   "id": "fbe023fb",
   "metadata": {},
   "source": [
    "## Critical inputs"
   ]
  },
  {
   "cell_type": "code",
   "execution_count": 15,
   "id": "a55cc90c",
   "metadata": {},
   "outputs": [
    {
     "data": {
      "text/plain": [
       "(55, 55)"
      ]
     },
     "execution_count": 15,
     "metadata": {},
     "output_type": "execute_result"
    }
   ],
   "source": [
    "critical = pd.read_csv('A.essential3.csv', sep = ',')\n",
    "critical = np.array(critical.iloc[:55,1:56])\n",
    "critical.shape"
   ]
  },
  {
   "cell_type": "markdown",
   "id": "c4ee14fb",
   "metadata": {},
   "source": [
    "# Leontief Model"
   ]
  },
  {
   "cell_type": "markdown",
   "id": "b2220798",
   "metadata": {},
   "source": [
    "**Computing equilibrium when x is given**"
   ]
  },
  {
   "cell_type": "code",
   "execution_count": 16,
   "id": "a4c84cd3",
   "metadata": {},
   "outputs": [
    {
     "data": {
      "text/plain": [
       "0.9132079048009196"
      ]
     },
     "execution_count": 16,
     "metadata": {},
     "output_type": "execute_result"
    }
   ],
   "source": [
    "final_consumption = np.matmul(np.identity(N)-A, x_0)\n",
    "sum(f_max)/sum(final_consumption) #It holds that f_0 = final_consumption = (I-A)x"
   ]
  },
  {
   "cell_type": "markdown",
   "id": "281b0b20",
   "metadata": {},
   "source": [
    "**Computing equilibrium when f is given**"
   ]
  },
  {
   "cell_type": "code",
   "execution_count": 17,
   "id": "fa335ff9",
   "metadata": {},
   "outputs": [],
   "source": [
    "L = np.linalg.inv(np.identity(N)-A)"
   ]
  },
  {
   "cell_type": "code",
   "execution_count": 18,
   "id": "2abe2e96",
   "metadata": {},
   "outputs": [
    {
     "data": {
      "text/plain": [
       "0.6913968179397179"
      ]
     },
     "execution_count": 18,
     "metadata": {},
     "output_type": "execute_result"
    }
   ],
   "source": [
    "total_output = np.matmul(L, f_0)\n",
    "sum(x_max)/sum(total_output)"
   ]
  },
  {
   "cell_type": "markdown",
   "id": "272b2069",
   "metadata": {},
   "source": [
    "**Computing direct shock:**"
   ]
  },
  {
   "cell_type": "code",
   "execution_count": 19,
   "id": "c209ae0a",
   "metadata": {},
   "outputs": [
    {
     "data": {
      "text/plain": [
       "(0.6913968179397156, 0.9132079048009223)"
      ]
     },
     "execution_count": 19,
     "metadata": {},
     "output_type": "execute_result"
    }
   ],
   "source": [
    "direct_shock = (sum(x_max)/sum(x_0),sum(f_max)/sum(f_0))\n",
    "direct_shock"
   ]
  },
  {
   "cell_type": "markdown",
   "id": "bed7504e",
   "metadata": {},
   "source": [
    "# Optimalization"
   ]
  },
  {
   "cell_type": "code",
   "execution_count": 20,
   "id": "395a2995",
   "metadata": {},
   "outputs": [],
   "source": [
    "from scipy.optimize import linprog"
   ]
  },
  {
   "cell_type": "markdown",
   "id": "7bed23c7",
   "metadata": {},
   "source": [
    "### Feasible Market Allocations\n",
    "Given exogenous constraints to supply and demand, what is the feasible market allocation that maximizes final consumption and/or total output? The solution needs to lie within exogenous bounds on supply and demand and also needs to satisfy the assumption of Leontief production:\n",
    "\n",
    "$$ x = Ax + f = Lf $$\n",
    "\n",
    "We seek market allocations {$x^*$ , $f^*$} that (a) respect the given production recipes $x^*=Lf^*$ and (b) satisfy basic output and demand constraints $x^* \\in [0, x^{max}]$ and $f^* \\in [0, f^{max}]$.\n",
    "\n",
    "**Optimization procedure**\n",
    "\n",
    "As a first case, we determine the market allocation that maximizes gross output under the assumptions specified. Large levels of output indicate high levels of ecomomic activity, which in turn entail high levels of primary factors such as labor compensation. As a second case, we look at market allocations that maximize final comsumption given current production capacities. Due to the linearity of the Leontief framework, the problem boils down to linear programming exercises.\n",
    "\n",
    "*Maximizing gross output*\n",
    "$$ \\text{max}_f \\qquad 1^T(I-A)^{-1}f $$\n",
    "$$ \\text{Subject to} \\quad (I-A)^{-1}f \\in [0, x^{max}] $$\n",
    "\n",
    "*Maximizing final consumption*\n",
    "$$ \\text{max}_x \\qquad 1^T(I-A)x $$\n",
    "$$ \\text{Subject to} \\quad (I-A)x \\in [0, f^{max}] $$"
   ]
  },
  {
   "cell_type": "markdown",
   "id": "02d604cd",
   "metadata": {},
   "source": [
    "### Maximizing total output"
   ]
  },
  {
   "cell_type": "code",
   "execution_count": 21,
   "id": "d972123d",
   "metadata": {},
   "outputs": [],
   "source": [
    "def max_output(N,L,A,xmax,fmax):\n",
    "    z = np.ones(N)\n",
    "    obj = -np.matmul(np.matrix.transpose(z), L)\n",
    "    lhs_ineq = np.concatenate((-L,L))\n",
    "    rhs_ineq = np.concatenate((np.zeros(N), xmax))\n",
    "    \n",
    "    bnd = []\n",
    "    for i in range (0,N):\n",
    "        bnd.append((0,fmax[i]))\n",
    "    \n",
    "    result = linprog(c = obj, A_ub= lhs_ineq, b_ub= rhs_ineq, bounds = bnd)\n",
    "    \n",
    "    optimal_output = -result.fun\n",
    "    \n",
    "    optimal_f = np.ones(N)\n",
    "    for i in range(0,N):\n",
    "        optimal_f[i] = result.x[i]\n",
    "    \n",
    "    return result.success, optimal_output/sum(x_0), sum(optimal_f)/sum(f_0)"
   ]
  },
  {
   "cell_type": "code",
   "execution_count": 22,
   "id": "aaae0aca",
   "metadata": {},
   "outputs": [
    {
     "data": {
      "text/plain": [
       "(0.6251353593714393, 0.6320096267938023)"
      ]
     },
     "execution_count": 22,
     "metadata": {},
     "output_type": "execute_result"
    }
   ],
   "source": [
    "result = max_output(N,L,A,x_max,f_max)\n",
    "Max_output = (result[1], result[2])\n",
    "Max_output"
   ]
  },
  {
   "cell_type": "markdown",
   "id": "4264b266",
   "metadata": {},
   "source": [
    "### Maximizing final consumption"
   ]
  },
  {
   "cell_type": "code",
   "execution_count": 23,
   "id": "06569485",
   "metadata": {},
   "outputs": [],
   "source": [
    "def max_consumption(N,L,A,xmax,fmax):\n",
    "    z = np.ones(N)\n",
    "    obj2 = -np.matmul(np.matrix.transpose(z), np.identity(N)-A)\n",
    "    lhs_ineq2 = np.concatenate((-(np.identity(N)-A), np.identity(N)-A))\n",
    "    rhs_ineq2 = np.concatenate((np.zeros(N), fmax))\n",
    "    \n",
    "    bnd2 = []\n",
    "    for i in range (0,N):\n",
    "        bnd2.append((0,xmax[i]))\n",
    "        \n",
    "    result2 = linprog(c = obj2, A_ub= lhs_ineq2, b_ub= rhs_ineq2, bounds= bnd2)\n",
    "    optimal_f_2 = -result2.fun\n",
    "    \n",
    "    optimal_output_2 = np.ones(N)\n",
    "    for i in range(0,N):\n",
    "        optimal_output_2[i] = round(result2.x[i])\n",
    "        \n",
    "    return result2.success, sum(optimal_output_2)/sum(x_0), optimal_f_2/sum(f_0)"
   ]
  },
  {
   "cell_type": "code",
   "execution_count": 24,
   "id": "b0f3b407",
   "metadata": {},
   "outputs": [],
   "source": [
    "result2 = max_consumption(N,L,A,x_max,f_max)\n",
    "Max_consumption = (result2[1], result2[2])"
   ]
  },
  {
   "cell_type": "markdown",
   "id": "a88e27e5",
   "metadata": {},
   "source": [
    "**Note that both optimization problems give almost the same solution**"
   ]
  },
  {
   "cell_type": "markdown",
   "id": "4bac4370",
   "metadata": {},
   "source": [
    "# Rationing"
   ]
  },
  {
   "cell_type": "code",
   "execution_count": 25,
   "id": "e3023342",
   "metadata": {},
   "outputs": [],
   "source": [
    "f_max = f_max[:54]\n",
    "x_max = x_max[:54]\n",
    "A = A[:54,:54]\n",
    "Z = Z[:54,:54]\n",
    "N = 54\n",
    "x_0 = x_0[:54]\n",
    "f_0 = f_0[:54]\n",
    "L = np.linalg.inv(np.identity(N)-A)\n",
    "supply_shock = np.array(supply_shock[:54])\n",
    "demand_shock = np.array(demand_shock[:54])\n",
    "critical = critical[:54,:54]"
   ]
  },
  {
   "cell_type": "markdown",
   "id": "3e84b6c6",
   "metadata": {},
   "source": [
    "### Input bottlenecks and rationing variations\n",
    "In contrast to the optimization methods, this represents a bottom-up approach for finding feasible market allocations. Industries place orders to their suppliers based on incoming demand. Since suppliers can be output constrained, they might not be able to satisfy demand fully. A supplier therefore needs to make a decision about how much of each customer’s demand it serves. Intermediate consumers transform inputs to outputs based on fixed production recipes. Thus if a customer receives less inputs than she asked for, she faces an input bottleneck further constraining her production. As a consequence, the customer reduces her demand for other inputs as they are not further needed under limited productive capacities. We iterate this procedure forward until the algorithm converges.\n",
    "\n",
    "**Strict Proportional Rationing**\n",
    "\n",
    "If industries are unable to satisfy total incoming demand completely, they distribute output proportional to their customers’ demand, where no distinction is made between intermediate and final customers. We implement the rationing algorithm in the following way:\n",
    "1. Industries determine their total demand as if there were no supply-side constraints, $d = Lf^{\\text{max}}$;\n",
    "2. Industries evaluate if they are able to satisfy demand goven their constrained production capacities;\n",
    "3. Industries that only partially satisfy demand, create a bottleneck;\n",
    "4. Industries reduce their production according to the largest input bottleneck (assumption of fixed recipes);\n",
    "5. The total amount of goods delivered to the final consumer is computed;\n",
    "6. Iterate 1-5 until there are no input constraints left.\n",
    "\n",
    "Formulas:\n",
    "\n",
    "$$ r_i[t] = \\frac{x_i^{\\text{max}}}{d_i[t]} $$\n",
    "\n",
    "$$ s_i[t] = min_j \\{r_j[t], 1\\} $$\n",
    "\n",
    "$$ x_i[t] = \\text{min}\\{x_i^{\\text{max}}, s_i[t]d_i[t]\\} $$\n",
    "\n",
    "$$ f_i[t] = \\text{max} \\Big\\{ x_i[t] - \\sum_{i} a_{ij} x_j[t], 0 \\Big\\}$$\n",
    "\n",
    "$$ d_i[t+1] = \\sum_{j} l_{ij} f_j[t] $$\n",
    "\n",
    "The algorithm converges to a new feasible economic allocation if $d_i[t+1] = d_i[t]$ for all i.\n",
    "\n",
    "*Implementation*"
   ]
  },
  {
   "cell_type": "code",
   "execution_count": 26,
   "id": "7bfeaa17",
   "metadata": {},
   "outputs": [],
   "source": [
    "def algo_proportional(A, L, fmax, xmax, TT, prioritize=\"no\"):\n",
    "    x = [0]\n",
    "    fvec = []          # initial demand vector\n",
    "    fvec.append(fmax)\n",
    "    r = [0]            # output constraints\n",
    "    s = [0]            # input bottlenecks \n",
    "    d = [0]            # aggregated demand vector \n",
    "    d.append(np.matmul(L, fvec[0])) #d[1] = L*f[0]\n",
    "\n",
    "    list_ = [1] \n",
    "    t=1\n",
    "    epsilon = 1e-6\n",
    "    while not np.all(abs(d[t] - d[t-1]) < epsilon) and t<TT:\n",
    "        #print('\\nIteration {0}'.format(t))\n",
    "        #print('---------')\n",
    "        #print('Initial aggregated demand: {}'.format(d[t]))\n",
    "        r.append(np.ones(len(xmax)))\n",
    "        s.append(np.ones(len(xmax)))\n",
    "        fvec.append(np.ones(len(xmax)))\n",
    "        x.append(np.ones(len(xmax)))\n",
    "        d.append(np.ones(len(xmax)))\n",
    "        \n",
    "        ##########################################\n",
    "        ########### Output constraints ###########\n",
    "        ##########################################\n",
    "        for i in range (0,len(x_max)):\n",
    "            r[t][i] = xmax[i]/d[t][i]\n",
    "        #print('Output constraints:{}'.format(r[t]))\n",
    "        \n",
    "        ##########################################\n",
    "        ########### Input bottlenecks ############\n",
    "        ##########################################\n",
    "        for i in range(0,len(x_max)):\n",
    "            for j in range(0,len(x_max)):\n",
    "                if A[j][i] > 0 and critical[j][i] > 0.5: \n",
    "                    list_.append(r[t][j])\n",
    "            s[t][i] = min(list_)\n",
    "            list_ = [1]\n",
    "        #print('Input bottlenecks:{}'.format(s[t]))\n",
    "        \n",
    "        ##############################################\n",
    "        ########### Constrained Production ###########\n",
    "        ##############################################\n",
    "        for i in range(0,len(xmax)):\n",
    "            x[t][i] = min(xmax[i], s[t][i]*d[t][i])\n",
    "        #print('Constrained production:{}'.format(x[t]))\n",
    "        \n",
    "        ##############################################\n",
    "        ############ Constrained Delivery ############\n",
    "        ##############################################\n",
    "        for i in range(0,len(xmax)):\n",
    "            fvec[t][i] = max(x[t][i] - np.matmul(A[i],x[t]),0)\n",
    "        #print('Constrained delivery:{}'.format(fvec[t]))\n",
    "        \n",
    "        ###############################################\n",
    "        ############ New Aggregated Demand ############\n",
    "        ###############################################\n",
    "        for i in range(0,len(xmax)):\n",
    "            d[t+1][i] = np.matmul(L[i],fvec[t])\n",
    "        t=t+1\n",
    "        #print('Aggregated Demand:         {}'.format(d[t]))\n",
    "        if t == TT:\n",
    "            print(\"Algoritm did not converge\")\n",
    "            \n",
    "    return sum(x[t-1])/sum(x_0), sum(fvec[t-1])/sum(f_0), t\n"
   ]
  },
  {
   "cell_type": "code",
   "execution_count": 27,
   "id": "1510b687",
   "metadata": {},
   "outputs": [
    {
     "data": {
      "text/plain": [
       "(0.4644828427099277, 0.4687316091442234, 4)"
      ]
     },
     "execution_count": 27,
     "metadata": {},
     "output_type": "execute_result"
    }
   ],
   "source": [
    "result_proportional = algo_proportional(A, L, f_max, x_max, TT = 30, prioritize=\"no\")\n",
    "result_proportional"
   ]
  },
  {
   "cell_type": "markdown",
   "id": "e48172c7",
   "metadata": {},
   "source": [
    "## Mixed priority/proportional rationing"
   ]
  },
  {
   "cell_type": "markdown",
   "id": "31431ffd",
   "metadata": {},
   "source": [
    "We implement the rationing algorithm in the following way:\n",
    "1. Industries determine their total demand as if there were no supply-side constraints, $d = Lf^{\\text{max}}$;\n",
    "2. Industries evaluate if they are able to satisfy demand given their constrained production capacities;\n",
    "3. Industries that only partially satisfy demand, create a bottleneck;\n",
    "4. Industries reduce their production according to the largest input bottleneck (assumption of fixed recipes);\n",
    "5. The total amount of goods delivered to the final consumer is computed;\n",
    "6. Iterate 1-5 until there are no input constraints left.\n",
    "\n",
    "Formulas:\n",
    "\n",
    "$$ r_i[t] = \\frac{x_i^{\\text{max}}}{\\sum_{j}A_{ij}d_j[t]} $$\n",
    "\n",
    "$$ s_i[t] = min_j \\{r_j[t], 1\\} $$\n",
    "\n",
    "$$ x_i[t] = \\text{min}\\{x_i^{\\text{max}}, s_i[t]d_i[t]\\} $$\n",
    "\n",
    "$$ f_i[t] = \\text{max} \\Big\\{ x_i[t] - \\sum_{i} a_{ij} x_j[t], 0 \\Big\\}$$\n",
    "\n",
    "$$ d_i[t+1] = \\sum_{j} l_{ij} f_j[t] $$\n",
    "\n",
    "The algorithm converges to a new feasible economic allocation if $d_i[t+1] = d_i[t]$ for all i.\n",
    "\n",
    "*Implementation*"
   ]
  },
  {
   "cell_type": "code",
   "execution_count": 28,
   "id": "8b4c14db",
   "metadata": {},
   "outputs": [],
   "source": [
    "def algo_mixed(A, L, fmax, xmax, TT,prioritize=\"yes\"):\n",
    "    x = [0]\n",
    "    fvec = [] # initial demand vector\n",
    "    fvec.append(fmax)\n",
    "    r = [0]   # output constraints\n",
    "    s = [0]   # input bottlenecks \n",
    "    d = [0]   # aggregated demand vector \n",
    "    d.append(np.matmul(L, fvec[0])) #d[1] = L*f[0]\n",
    "    \n",
    "    list_ = [1] \n",
    "    t=1\n",
    "    epsilon = 1e-6\n",
    "    while not np.all(abs(d[t] - d[t-1]) < epsilon) and t<TT:\n",
    "        #print('\\nIteration {0}'.format(t))\n",
    "        #print('---------')\n",
    "        #print('Initial aggregated demand: {}'.format(d[t]))\n",
    "        r.append(np.ones(len(xmax)))\n",
    "        s.append(np.ones(len(xmax)))\n",
    "        fvec.append(np.ones(len(xmax)))\n",
    "        x.append(np.ones(len(xmax)))\n",
    "        d.append(np.ones(len(xmax)))\n",
    "        \n",
    "        ##########################################\n",
    "        ########### Output constraints ###########\n",
    "        ##########################################\n",
    "        for i in range (0,len(x_max)):\n",
    "            r[t][i] = xmax[i]/np.matmul(A[i],d[t])\n",
    "        #print('Output constraints:         {}'.format(r[t]))\n",
    "        \n",
    "        ##########################################\n",
    "        ########### Input bottlenecks ############\n",
    "        ##########################################\n",
    "        for i in range(0,len(x_max)):\n",
    "            for j in range(0,len(x_max)):\n",
    "                if A[j][i] > 0 and critical[j][i] > 0.5:\n",
    "                    list_.append(r[t][j])\n",
    "            s[t][i] = min(list_)\n",
    "            list_ = [1]\n",
    "        #print('Input bottlenecks:         {}'.format(s[t]))\n",
    "        \n",
    "        ##############################################\n",
    "        ########### Constrained Production ###########\n",
    "        ##############################################\n",
    "        for i in range(0,len(xmax)):\n",
    "            x[t][i] = min(xmax[i], s[t][i]*d[t][i])\n",
    "            #print(s[t][i]*d[t][i])\n",
    "        \n",
    "        ##############################################\n",
    "        ############ Constrained Delivery ############\n",
    "        ##############################################\n",
    "        \n",
    "        for i in range(0,len(xmax)):\n",
    "            #print(np.matmul(A[i],s[t]*d[t]))\n",
    "            fvec[t][i] = max(x[t][i] - np.matmul(A[i],x[t]),0) \n",
    "        #print('Constrained delivery:      {}'.format(fvec[t]))\n",
    "        \n",
    "        ###############################################\n",
    "        ############ New Aggregated Demand ############\n",
    "        ###############################################\n",
    "        for i in range(0,len(xmax)):\n",
    "            d[t+1][i] = np.matmul(L[i],fvec[t])\n",
    "        t=t+1\n",
    "    \n",
    "    if t == TT:\n",
    "        print(\"Algoritm did not converge\")\n",
    "        \n",
    "    return sum(x[t-1])/sum(x_0), sum(fvec[t-1])/sum(f_0), t"
   ]
  },
  {
   "cell_type": "code",
   "execution_count": 29,
   "id": "24ae4d4b",
   "metadata": {},
   "outputs": [
    {
     "data": {
      "text/plain": [
       "(0.5842009803880673, 0.5872276572308145, 3)"
      ]
     },
     "execution_count": 29,
     "metadata": {},
     "output_type": "execute_result"
    }
   ],
   "source": [
    "result_mixed = algo_mixed(A, L, f_max, x_max, 30, prioritize=\"yes\")\n",
    "result_mixed"
   ]
  },
  {
   "cell_type": "markdown",
   "id": "ccef6611",
   "metadata": {},
   "source": [
    "## Priority rationing"
   ]
  },
  {
   "cell_type": "markdown",
   "id": "aaa91a63",
   "metadata": {},
   "source": [
    "Largest first rationing; firms are prioritized over the final consumer. Take\n",
    "an initial demand vector $f[0] = f$\n",
    "max as given, implying an initial aggregate demand vector\n",
    "$d[1] = Lf[0]$. Every firm $i$ ranks each customers based on initial demand size. Let  $h_{ij}$ be the $j$ largest customers of firm $i$: $h_{ij} =\n",
    "\\{k(1), k(2), ..., k(j)\n",
    ": A_{ik(1)}d_{k(1)} [1] ≥ A_{ik(2)}d_{k(2)} [1] ≥ ... ≥ A_{ik(j)}\n",
    "d_{k(j)}[1] \\}$. By looping over the\n",
    "index $t = {1, 2, ...}$, the following system is iterated forward:\n",
    "\n",
    "Formulas:\n",
    "\n",
    "$$ r_{ij}[t] = \\frac{x_i^{\\text{max}}}{\\sum_{n\\in h_{ij}}A_{ih(j)}d_{n_{(j)}}[t]} $$\n",
    "\n",
    "$$ s_i[t] = min_j \\{r_{ji}[t], 1\\} $$\n",
    "\n",
    "$$ x_i[t] = \\text{min}\\{x_i^{\\text{max}}, s_i[t]d_i[t]\\} $$\n",
    "\n",
    "$$ f_i[t] = \\text{max} \\Big\\{ x_i[t] - \\sum_{i} a_{ij} x_j[t], 0 \\Big\\}$$\n",
    "\n",
    "$$ d_i[t+1] = \\sum_{j} l_{ij} f_j[t] $$\n",
    "\n",
    "The algorithm converges to a new feasible economic allocation if $d_i[t+1] = d_i[t]$ for all i."
   ]
  },
  {
   "cell_type": "code",
   "execution_count": 30,
   "id": "3a90b1f7",
   "metadata": {},
   "outputs": [],
   "source": [
    "def order(A, L, fmax):\n",
    "    d = np.matmul(L, fmax)\n",
    "    list_1 = []      # list we will sort\n",
    "    list_2 = []      # list that will not be sorted to find the original indices\n",
    "    for i in range(A.shape[0]):\n",
    "        list_1.append([])\n",
    "        list_2.append([])\n",
    "    for i in range(A.shape[0]):\n",
    "        for j in range(A.shape[0]):\n",
    "            list_1[i].append(A[i][j]*d[j])    # list_1[i][j] = list_2[i][j] = A[i][j]*d[j]\n",
    "            list_2[i].append(A[i][j]*d[j])\n",
    "        list_1[i].sort(reverse = True)        # we sort list_1: A[i][j]*d[j] >= A[i][j+1]*d[j+1]\n",
    "\n",
    "    names_ordered=[]\n",
    "    for i in range(A.shape[0]):\n",
    "        names_ordered.append([])\n",
    "    \n",
    "    for i in range(A.shape[0]):\n",
    "        for k in list_1[i]:                  # we take the indices of the j+1 (j from 0 to N-1) biggest suppliers of industry i. \n",
    "                for l in range(A.shape[0]):    \n",
    "                    if list_2[i][l] == k:\n",
    "                        names_ordered[i].append(l)   \n",
    "    return names_ordered"
   ]
  },
  {
   "cell_type": "code",
   "execution_count": 31,
   "id": "18fdf5b6",
   "metadata": {},
   "outputs": [],
   "source": [
    "def algo_priority(A, L, fmax, xmax, ordered, TT= 30, prioritize=\"yes\"):                 \n",
    "    x = [0]\n",
    "    fvec = []   # initial demand vector\n",
    "    fvec.append(fmax)\n",
    "    rvec = [0]  # output constraints\n",
    "    s = [0]     # input bottlenecks \n",
    "    d = [0]     # aggregated demand vector \n",
    "    d.append(np.matmul(L, fvec[0])) #d[1] = L*f[0]\n",
    "    \n",
    "    list_ = [1] \n",
    "    t=1\n",
    "    epsilon = 1e-6\n",
    "    \n",
    "    while not np.all(abs(d[t] - d[t-1]) < epsilon) and t<TT:\n",
    "        #print('\\nIteration {0}'.format(t))\n",
    "        #print('---------')\n",
    "        #print('Initial aggregated demand: {}'.format(d[t]))\n",
    "        rvec.append([np.zeros(N)])\n",
    "        s.append(np.ones(N))\n",
    "        fvec.append(np.ones(N))\n",
    "        x.append(np.ones(N))\n",
    "        d.append(np.ones(N))\n",
    "        demand = np.identity(N)\n",
    "        \n",
    "        som = 0\n",
    "        for i in range(0,N):\n",
    "            for j in range(0,N):\n",
    "                for k in ordered[i][:j+1]:\n",
    "                    som = som + A[i][k]*d[t][k] \n",
    "                demand[i][j] = som   #demand[i][j] = demand of j'th biggest customers of firm i summed up\n",
    "                som = 0\n",
    "        remainder = np.identity(N)\n",
    "    \n",
    "        for i in range(0,N):\n",
    "            for j in range(0,N):\n",
    "                remainder[i][j] = xmax[i] - demand[i][j]\n",
    "                \n",
    "        ####################################################\n",
    "        ####################### rvec #######################\n",
    "        ####################################################\n",
    "        for i in range(0,N):\n",
    "            rvec[t].append([])\n",
    "        for i in range(0,N):\n",
    "            if all(remainder[i][j]>0 for j in range(0,N)):\n",
    "                rvec[t][i] = np.ones(N) \n",
    "            elif all(remainder[i][j]<=0 for j in range(0,N)): \n",
    "                rvec[t][i] = np.zeros(N)\n",
    "                for k in ordered[i][:1]: \n",
    "                    rvec[t][i][k] = xmax[i]/demand[i][0]\n",
    "        \n",
    "            else: \n",
    "                idx = np.where(remainder[i]<=0) # index for partially met demand\n",
    "                idx_fully = np.where(remainder[i]>0) \n",
    "                length = len(idx_fully[0])\n",
    "                rvec[t][i] = np.zeros(N)\n",
    "                for l in range(0,length-1):\n",
    "                    index = ordered[i][l]\n",
    "                    rvec[t][i][index] = 1\n",
    "                m = ordered[i][length-1]\n",
    "                rvec[t][i][m] = remainder[i][length-1]/(demand[i][length]-demand[i][length-1])\n",
    "          \n",
    "        #####################################################\n",
    "        ################# Input bottlenecks #################\n",
    "        #####################################################\n",
    "        for i in range(0,N):\n",
    "            for j in range(0,N):\n",
    "                if A[j][i]>0 and critical[j][i] > 0.5:\n",
    "                    list_.append(rvec[t][j][i])\n",
    "            s[t][i] = min(list_)\n",
    "            list_ = [1]   \n",
    "        #print('Input bottlenecks:         {}'.format(s[t]))\n",
    "        \n",
    "        ######################################################\n",
    "        ############### Constrained Production ###############\n",
    "        ######################################################\n",
    "        for i in range(0,N):\n",
    "            x[t][i] = min(xmax[i], s[t][i]*d[t][i])\n",
    "        \n",
    "        \n",
    "        ######################################################\n",
    "        ################ Constrained Delivery ################\n",
    "        ######################################################\n",
    "        for i in range(0,len(xmax)):\n",
    "            fvec[t][i] = max(x[t][i] - np.matmul(A[i],x[t]),0)\n",
    "        \n",
    "        ######################################################\n",
    "        ################ Aggregated demand ###################\n",
    "        ######################################################\n",
    "        for i in range(0,len(xmax)):\n",
    "            d[t+1][i] = np.matmul(L[i],fvec[t])\n",
    "            \n",
    "        t=t+1\n",
    "        if t==TT:\n",
    "            print(\"Algorithm did not converge\")\n",
    "            #return(None, None)\n",
    "        #print(d[t])\n",
    "    return sum(x[t-1])/sum(x_0), sum(fvec[t-1])/sum(f_0), t"
   ]
  },
  {
   "cell_type": "code",
   "execution_count": 32,
   "id": "4cdf6843",
   "metadata": {},
   "outputs": [
    {
     "data": {
      "text/plain": [
       "(0.4596146120251769, 0.45903412352433737, 4)"
      ]
     },
     "execution_count": 32,
     "metadata": {},
     "output_type": "execute_result"
    }
   ],
   "source": [
    "names_ordered = order(A,L,f_max)\n",
    "result_priority = algo_priority(A, L, f_max, x_max, names_ordered, TT = 30, prioritize=\"yes\")\n",
    "result_priority"
   ]
  },
  {
   "cell_type": "markdown",
   "id": "abd98788",
   "metadata": {},
   "source": [
    "## Random rationing"
   ]
  },
  {
   "cell_type": "markdown",
   "id": "924e4a08",
   "metadata": {},
   "source": [
    "Suppliers rank their customers randomly. The computations for this algorithm are the same as for\n",
    "the priority rationing method. The only difference is the ranking $h_{ij}$ of the customers of\n",
    "each industry $i$, which is now randomly taken. We implement the rationing algorithm\n",
    "by taking the average from $100$ samples."
   ]
  },
  {
   "cell_type": "code",
   "execution_count": 33,
   "id": "6063db8e",
   "metadata": {},
   "outputs": [],
   "source": [
    "from random import randrange"
   ]
  },
  {
   "cell_type": "code",
   "execution_count": 34,
   "id": "71467e93",
   "metadata": {},
   "outputs": [],
   "source": [
    "def algo_random(A, L, fmax, xmax, runs, prioritize = \"random\"):\n",
    "    x = []\n",
    "    y = []\n",
    "    iterations = 0\n",
    "    TT = 25\n",
    "    while len(x)<runs and iterations < 200:\n",
    "        iterations +=1\n",
    "        random_ordered=[]\n",
    "        for i in range(N):\n",
    "            random_ordered.append([])\n",
    "    \n",
    "        for i in range(N):\n",
    "            while len(random_ordered[i])<N:\n",
    "                random = randrange(N)\n",
    "                while random in random_ordered[i]:\n",
    "                    random = randrange(N)# we willen nu de indices van de j+1 (j van 0 tot en met N-1) grootste suppliers  \n",
    "                random_ordered[i].append(random)\n",
    "                \n",
    "        result = algo_priority(A, L, fmax, xmax, random_ordered, TT = 25, prioritize=\"yes\")\n",
    "        if result[2] != TT:\n",
    "            x.append(result[0])\n",
    "            y.append(result[1])\n",
    "    return sum(x)/len(x), sum(y)/len(y), iterations"
   ]
  },
  {
   "cell_type": "code",
   "execution_count": null,
   "id": "b1dc2619",
   "metadata": {},
   "outputs": [],
   "source": [
    "result_random = algo_random(A, L, f_max, x_max, 100, prioritize = \"random\")\n",
    "result_random"
   ]
  },
  {
   "cell_type": "markdown",
   "id": "d190ddc4",
   "metadata": {},
   "source": [
    "### Summary of all the impact predicitions:"
   ]
  },
  {
   "cell_type": "code",
   "execution_count": null,
   "id": "e97958d6",
   "metadata": {},
   "outputs": [],
   "source": [
    "print(result_proportional)\n",
    "print(result_mixed)\n",
    "print(result_priority)\n",
    "print(result_random)\n",
    "\n",
    "print(Max_output)\n",
    "print(Max_consumption)\n",
    "print(direct_shock)"
   ]
  },
  {
   "cell_type": "code",
   "execution_count": null,
   "id": "65fbc0ae",
   "metadata": {},
   "outputs": [],
   "source": [
    "import matplotlib.pyplot as plt\n",
    "plt.style.use('ggplot')\n",
    "plt.title(\"Germany: weakly-critical specification\")\n",
    "plt.grid(visible=None, which='major', axis='both', linestyle='-', linewidth=1)\n",
    "\n",
    "plt.plot(direct_shock[1], direct_shock[0], 'k^')\n",
    "plt.plot(Max_consumption[1], Max_consumption[0], 'm^')\n",
    "plt.plot(result_proportional[1], result_proportional[0], 'b^')\n",
    "plt.plot(result_mixed[1], result_mixed[0], 'r^')\n",
    "plt.plot(result_priority[1], result_priority[0], 'y^')\n",
    "plt.plot(result_random[1], result_random[0], 'g^')\n",
    "\n",
    "#plt.plot(Max_output[1], Max_output[0], 'm^')\n",
    "\n",
    "#x = np.linspace(-0.09,1.1)\n",
    "#y = x\n",
    "#plt.plot(x,y, 'k--', linewidth =0.5)\n",
    "\n",
    "#plt.text(0.33,0.29,'Proportional', color='b')\n",
    "#plt.text(0.45,0.44,'Mixed')\n",
    "#plt.text(0.32,0.4,'Random')\n",
    "#plt.text(0.3,0.35,'Priority', color = 'r')\n",
    "#plt.text(0.54,0.58, 'Maximize f')\n",
    "#plt.text(0.55,0.64, 'Maximize x')\n",
    "#plt.text(0.79,0.71, 'Direct shock')\n",
    "plt.legend(['Direct shock', 'Optimization','Proportional', 'Mixed', 'Priority', 'Random'])\n",
    "\n",
    "plt.xlim(-0.09, 1) \n",
    "plt.ylim(-0.09, 1)\n",
    "\n",
    "plt.xlabel(\"Final Consumption (% of pre-shock level)\")\n",
    "plt.ylabel(\"Gross Output (% of pre-shock level)\")\n",
    "plt.savefig('plot_Germany_weakly_critical.png')\n",
    "plt.show()"
   ]
  }
 ],
 "metadata": {
  "kernelspec": {
   "display_name": "venv test",
   "language": "python",
   "name": "venv"
  },
  "language_info": {
   "codemirror_mode": {
    "name": "ipython",
    "version": 3
   },
   "file_extension": ".py",
   "mimetype": "text/x-python",
   "name": "python",
   "nbconvert_exporter": "python",
   "pygments_lexer": "ipython3",
   "version": "3.10.11"
  }
 },
 "nbformat": 4,
 "nbformat_minor": 5
}
