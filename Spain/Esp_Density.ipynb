{
 "cells": [
  {
   "cell_type": "code",
   "execution_count": 1,
   "id": "42119f83",
   "metadata": {},
   "outputs": [],
   "source": [
    "import pandas as pd\n",
    "import numpy as np\n",
    "import matplotlib.pyplot as plt\n",
    "from scipy.optimize import linprog\n",
    "from random import randrange"
   ]
  },
  {
   "cell_type": "markdown",
   "id": "8f4675c0",
   "metadata": {},
   "source": [
    "# Data for final consumption and total output"
   ]
  },
  {
   "cell_type": "markdown",
   "id": "a7a80c05",
   "metadata": {},
   "source": [
    "## Final consumption"
   ]
  },
  {
   "cell_type": "code",
   "execution_count": 2,
   "id": "2ced8cf8",
   "metadata": {},
   "outputs": [],
   "source": [
    "fdata = pd.read_csv('fdata_esp.csv', sep = ',')\n",
    "fdata.head()\n",
    "f = fdata.iloc[:,1].astype('float')\n",
    "f_max = np.array(fdata.iloc[:,3].astype('float'))"
   ]
  },
  {
   "cell_type": "code",
   "execution_count": 3,
   "id": "93187b76",
   "metadata": {},
   "outputs": [
    {
     "name": "stdout",
     "output_type": "stream",
     "text": [
      "[ 0.099  0.086  0.1    0.1    0.1    0.1    0.1    0.1    0.099  0.1\n",
      "  0.099  0.093  0.099  0.1    0.1    0.1    0.099  0.1    0.1    0.1\n",
      "  0.099  0.099  0.1    0.008  0.009  0.025  0.099  0.1    0.095  0.095\n",
      "  0.388  0.275  0.247  0.197  0.022  0.755  0.054  0.038  0.016  0.095\n",
      "  0.038  0.008  0.019  0.001  0.079  0.093  0.079  0.091  0.035  0.042\n",
      "  0.007  0.01   0.001  0.043 -0.   ]\n"
     ]
    }
   ],
   "source": [
    "demand_shock = np.zeros(f_max.shape[0])\n",
    "for i in range (0,f_max.shape[0]):\n",
    "    demand_shock[i] = round(1- f_max[i]/f[i],3)\n",
    "    \n",
    "print(demand_shock) \n",
    "demand_shock = np.array(demand_shock)"
   ]
  },
  {
   "cell_type": "markdown",
   "id": "e3607b44",
   "metadata": {},
   "source": [
    "## Total output"
   ]
  },
  {
   "cell_type": "code",
   "execution_count": 4,
   "id": "686227d9",
   "metadata": {},
   "outputs": [],
   "source": [
    "xdata =  pd.read_csv('xdata_esp.csv', sep = ',')\n",
    "xdata.head()   \n",
    "x = xdata.iloc[:,1].astype('float')\n",
    "x_max = np.array(xdata.iloc[:,3].astype('float'))"
   ]
  },
  {
   "cell_type": "code",
   "execution_count": 5,
   "id": "0f5d377f",
   "metadata": {},
   "outputs": [
    {
     "name": "stdout",
     "output_type": "stream",
     "text": [
      "[0.       0.849999 0.       0.483204 0.259635 0.685309 0.730686 0.\n",
      " 0.       0.064001 0.525183 0.       0.705058 0.639448 0.726353 0.662572\n",
      " 0.430758 0.630639 0.618354 0.696668 0.597033 0.596618 0.606449 0.058407\n",
      " 0.       0.       0.715557 0.27312  0.299699 0.256656 0.       0.\n",
      " 0.242194 0.       0.       0.646411 0.07561  0.109813 0.       0.144301\n",
      " 0.       0.       0.       0.512768 0.181406 0.459166 0.410839 0.396788\n",
      " 0.19581  0.543278 0.       0.460076 0.       0.559507 0.      ]\n"
     ]
    }
   ],
   "source": [
    "supply_shock = np.zeros(x_max.shape[0])\n",
    "for i in range (0,x_max.shape[0]):\n",
    "    supply_shock[i] = round(1- x_max[i]/x[i],6)\n",
    "    \n",
    "print(supply_shock) \n",
    "supply_shock = np.array(supply_shock)"
   ]
  },
  {
   "cell_type": "markdown",
   "id": "466b1685",
   "metadata": {},
   "source": [
    "# IO table "
   ]
  },
  {
   "cell_type": "code",
   "execution_count": 6,
   "id": "e8f50873",
   "metadata": {},
   "outputs": [],
   "source": [
    "df = pd.read_csv('esp_wiot.csv',sep = ',',low_memory=False)\n",
    "df.head()\n",
    "df = df.iloc[:,1:]# leaving out industries U and T\n",
    "df = df.astype('float')"
   ]
  },
  {
   "cell_type": "code",
   "execution_count": 7,
   "id": "18f64100",
   "metadata": {},
   "outputs": [
    {
     "data": {
      "text/plain": [
       "(55, 55)"
      ]
     },
     "execution_count": 7,
     "metadata": {},
     "output_type": "execute_result"
    }
   ],
   "source": [
    "A = np.array(df)\n",
    "N = A.shape[0]\n",
    "A.shape"
   ]
  },
  {
   "cell_type": "markdown",
   "id": "46468b70",
   "metadata": {},
   "source": [
    "## Matrix Z"
   ]
  },
  {
   "cell_type": "code",
   "execution_count": 8,
   "id": "9e0037d2",
   "metadata": {},
   "outputs": [
    {
     "data": {
      "text/plain": [
       "(55, 55)"
      ]
     },
     "execution_count": 8,
     "metadata": {},
     "output_type": "execute_result"
    }
   ],
   "source": [
    "df_Z = pd.read_csv('esp_Zmatrix.csv', sep=',', low_memory=False)\n",
    "df_Z =  df_Z.iloc[:,1:]# leaving out industries U and T\n",
    "df_Z = df_Z.astype('float')\n",
    "df_Z.shape"
   ]
  },
  {
   "cell_type": "code",
   "execution_count": 9,
   "id": "859f268f",
   "metadata": {},
   "outputs": [
    {
     "data": {
      "text/plain": [
       "(55, 55)"
      ]
     },
     "execution_count": 9,
     "metadata": {},
     "output_type": "execute_result"
    }
   ],
   "source": [
    "Z = np.array(df_Z)\n",
    "N = Z.shape[0]\n",
    "Z.shape"
   ]
  },
  {
   "cell_type": "code",
   "execution_count": 10,
   "id": "474d126d",
   "metadata": {},
   "outputs": [
    {
     "data": {
      "text/plain": [
       "(55, 55)"
      ]
     },
     "execution_count": 10,
     "metadata": {},
     "output_type": "execute_result"
    }
   ],
   "source": [
    "x_0 = np.array(x)\n",
    "f_0 = np.array(f)\n",
    "L = np.linalg.inv(np.identity(N)-A)\n",
    "L.shape"
   ]
  },
  {
   "cell_type": "markdown",
   "id": "0efa4ab5",
   "metadata": {},
   "source": [
    "# Optimization "
   ]
  },
  {
   "cell_type": "code",
   "execution_count": 11,
   "id": "939a7d75",
   "metadata": {},
   "outputs": [],
   "source": [
    "def max_output(N,L,A,xmax,fmax):\n",
    "    z = np.ones(N)\n",
    "    obj = -np.matmul(np.matrix.transpose(z), L)\n",
    "    lhs_ineq = np.concatenate((-L,L))\n",
    "    rhs_ineq = np.concatenate((np.zeros(N), xmax))\n",
    "    \n",
    "    bnd = []\n",
    "    for i in range (0,N):\n",
    "        bnd.append((0,fmax[i]))\n",
    "    \n",
    "    result = linprog(c = obj, A_ub= lhs_ineq, b_ub= rhs_ineq, bounds = bnd)\n",
    "    \n",
    "    optimal_output = -result.fun\n",
    "    \n",
    "    optimal_f = np.ones(N)\n",
    "    for i in range(0,N):\n",
    "        optimal_f[i] = result.x[i]\n",
    "    \n",
    "    return optimal_output, optimal_output/sum(x_0), sum(optimal_f)/sum(f_0)"
   ]
  },
  {
   "cell_type": "code",
   "execution_count": 12,
   "id": "a0a845bc",
   "metadata": {},
   "outputs": [],
   "source": [
    "def max_consumption(N,L,A,xmax,fmax):\n",
    "    z = np.ones(N)\n",
    "    obj2 = -np.matmul(np.matrix.transpose(z), np.identity(N)-A)\n",
    "    lhs_ineq2 = np.concatenate((-(np.identity(N)-A), np.identity(N)-A))\n",
    "    rhs_ineq2 = np.concatenate((np.zeros(N), fmax))\n",
    "    \n",
    "    bnd2 = []\n",
    "    for i in range (0,N):\n",
    "        bnd2.append((0,xmax[i]))\n",
    "        \n",
    "    result2 = linprog(c = obj2, A_ub= lhs_ineq2, b_ub= rhs_ineq2, bounds= bnd2)\n",
    "    optimal_f_2 = -result2.fun\n",
    "    \n",
    "    optimal_output_2 = np.ones(N)\n",
    "    for i in range(0,N):\n",
    "        optimal_output_2[i] = round(result2.x[i])\n",
    "        \n",
    "    return result2.success, sum(optimal_output_2)/sum(x_0), optimal_f_2/sum(f_0)"
   ]
  },
  {
   "cell_type": "markdown",
   "id": "e79beb9a",
   "metadata": {},
   "source": [
    "# Rationing"
   ]
  },
  {
   "cell_type": "code",
   "execution_count": 13,
   "id": "fc0bedad",
   "metadata": {},
   "outputs": [],
   "source": [
    "N= 54\n",
    "f_max = f_max[:N]\n",
    "x_max = x_max[:N]\n",
    "A = A[:N,:N]\n",
    "Z = Z[:N,:N]\n",
    "x_0 = x_0[:N]\n",
    "f_0 = f_0[:N]\n",
    "L = np.linalg.inv(np.identity(N)-A)\n",
    "supply_shock = np.array(supply_shock[:N])\n",
    "demand_shock = np.array(demand_shock[:N])"
   ]
  },
  {
   "cell_type": "code",
   "execution_count": 14,
   "id": "9bb499b8",
   "metadata": {},
   "outputs": [],
   "source": [
    "def algo_proportional(A, L, fmax, xmax, TT, prioritize=\"no\"):\n",
    "    x = [0]\n",
    "    fvec = []          # initial demand vector\n",
    "    fvec.append(fmax)\n",
    "    r = [0]            # output constraints\n",
    "    s = [0]            # input bottlenecks \n",
    "    d = [0]            # aggregated demand vector \n",
    "    d.append(np.matmul(L, fvec[0])) #d[1] = L*f[0]\n",
    "\n",
    "    list_ = [1] \n",
    "    t=1\n",
    "    epsilon = 1e-6\n",
    "    while not np.all(abs(d[t] - d[t-1]) < epsilon) and t<TT:\n",
    "        #print('\\nIteration {0}'.format(t))\n",
    "        #print('---------')\n",
    "        #print('Initial aggregated demand: {}'.format(d[t]))\n",
    "        r.append(np.ones(len(xmax)))\n",
    "        s.append(np.ones(len(xmax)))\n",
    "        fvec.append(np.ones(len(xmax)))\n",
    "        x.append(np.ones(len(xmax)))\n",
    "        d.append(np.ones(len(xmax)))\n",
    "        \n",
    "        ##########################################\n",
    "        ########### Output constraints ###########\n",
    "        ##########################################\n",
    "        for i in range (0,len(x_max)):\n",
    "            r[t][i] = xmax[i]/d[t][i]\n",
    "        #print('Output constraints:{}'.format(r[t]))\n",
    "        \n",
    "        ##########################################\n",
    "        ########### Input bottlenecks ############\n",
    "        ##########################################\n",
    "        for i in range(0,len(x_max)):\n",
    "            for j in range(0,len(x_max)):\n",
    "                if A[j][i] > 0:\n",
    "                    list_.append(r[t][j])\n",
    "            s[t][i] = min(list_)\n",
    "            list_ = [1]\n",
    "        #print('Input bottlenecks:{}'.format(s[t]))\n",
    "        \n",
    "        ##############################################\n",
    "        ########### Constrained Production ###########\n",
    "        ##############################################\n",
    "        for i in range(0,len(xmax)):\n",
    "            x[t][i] = min(xmax[i], s[t][i]*d[t][i])\n",
    "        #print('Constrained production:{}'.format(x[t]))\n",
    "        \n",
    "        ##############################################\n",
    "        ############ Constrained Delivery ############\n",
    "        ##############################################\n",
    "        for i in range(0,len(xmax)):\n",
    "            fvec[t][i] = max(x[t][i] - np.matmul(A[i],x[t]),0)\n",
    "        #print('Constrained delivery:{}'.format(fvec[t]))\n",
    "        \n",
    "        ###############################################\n",
    "        ############ New Aggregated Demand ############\n",
    "        ###############################################\n",
    "        for i in range(0,len(xmax)):\n",
    "            d[t+1][i] = np.matmul(L[i],fvec[t])\n",
    "        t=t+1\n",
    "        #print('Aggregated Demand:         {}'.format(d[t]))\n",
    "        if t == TT:\n",
    "            print(\"Algoritm did not converge\")\n",
    "            \n",
    "    return sum(x[t-1]), sum(x[t-1])/sum(x_0), sum(fvec[t-1])/sum(f_0), t\n"
   ]
  },
  {
   "cell_type": "code",
   "execution_count": 15,
   "id": "b752ef33",
   "metadata": {},
   "outputs": [],
   "source": [
    "def algo_mixed(A, L, fmax, xmax, TT,prioritize=\"yes\"):\n",
    "    x = [0]\n",
    "    fvec = [] # initial demand vector\n",
    "    fvec.append(fmax)\n",
    "    r = [0]   # output constraints\n",
    "    s = [0]   # input bottlenecks \n",
    "    d = [0]   # aggregated demand vector \n",
    "    d.append(np.matmul(L, fvec[0])) #d[1] = L*f[0]\n",
    "    \n",
    "    list_ = [1] \n",
    "    t=1\n",
    "    epsilon = 1e-6\n",
    "    while not np.all(abs(d[t] - d[t-1]) < epsilon) and t<TT:\n",
    "        #print('\\nIteration {0}'.format(t))\n",
    "        #print('---------')\n",
    "        #print('Initial aggregated demand: {}'.format(d[t]))\n",
    "        r.append(np.ones(len(xmax)))\n",
    "        s.append(np.ones(len(xmax)))\n",
    "        fvec.append(np.ones(len(xmax)))\n",
    "        x.append(np.ones(len(xmax)))\n",
    "        d.append(np.ones(len(xmax)))\n",
    "        \n",
    "        ##########################################\n",
    "        ########### Output constraints ###########\n",
    "        ##########################################\n",
    "        for i in range (0,len(x_max)):\n",
    "            denominator = np.matmul(A[i],d[t])\n",
    "            if denominator == 0:\n",
    "                r[t][i] = 1 \n",
    "            else:\n",
    "                r[t][i] = xmax[i]/denominator\n",
    "        #print('Output constraints:         {}'.format(r[t]))\n",
    "        \n",
    "        ##########################################\n",
    "        ########### Input bottlenecks ############\n",
    "        ##########################################\n",
    "        for i in range(0,len(x_max)):\n",
    "            for j in range(0,len(x_max)):\n",
    "                if A[j][i] > 0:\n",
    "                    list_.append(r[t][j])\n",
    "            s[t][i] = min(list_)\n",
    "            list_ = [1]\n",
    "        #print('Input bottlenecks:         {}'.format(s[t]))\n",
    "        \n",
    "        ##############################################\n",
    "        ########### Constrained Production ###########\n",
    "        ##############################################\n",
    "        for i in range(0,len(xmax)):\n",
    "            x[t][i] = min(xmax[i], s[t][i]*d[t][i])\n",
    "            #print(s[t][i]*d[t][i])\n",
    "        \n",
    "        ##############################################\n",
    "        ############ Constrained Delivery ############\n",
    "        ##############################################\n",
    "        \n",
    "        for i in range(0,len(xmax)):\n",
    "            #print(np.matmul(A[i],s[t]*d[t]))\n",
    "            fvec[t][i] = max(x[t][i] - np.matmul(A[i],x[t]),0) \n",
    "        #print('Constrained delivery:      {}'.format(fvec[t]))\n",
    "        \n",
    "        ###############################################\n",
    "        ############ New Aggregated Demand ############\n",
    "        ###############################################\n",
    "        for i in range(0,len(xmax)):\n",
    "            d[t+1][i] = np.matmul(L[i],fvec[t])\n",
    "        t=t+1\n",
    "    \n",
    "    if t == TT:\n",
    "        print(\"Algoritm did not converge\")\n",
    "        \n",
    "    return sum(x[t-1]), sum(x[t-1])/sum(x_0), sum(fvec[t-1])/sum(f_0), t"
   ]
  },
  {
   "cell_type": "code",
   "execution_count": 16,
   "id": "fb928d3d",
   "metadata": {},
   "outputs": [],
   "source": [
    "def order(A, L, fmax):\n",
    "    d = np.matmul(L, fmax)\n",
    "    list_1 = []      # list we will sort\n",
    "    list_2 = []      # list that will not be sorted to find the original indices\n",
    "    for i in range(A.shape[0]):\n",
    "        list_1.append([])\n",
    "        list_2.append([])\n",
    "    for i in range(A.shape[0]):\n",
    "        for j in range(A.shape[0]):\n",
    "            list_1[i].append(A[i][j]*d[j])    # list_1[i][j] = list_2[i][j] = A[i][j]*d[j]\n",
    "            list_2[i].append(A[i][j]*d[j])\n",
    "        list_1[i].sort(reverse = True)        # we sort list_1: A[i][j]*d[j] >= A[i][j+1]*d[j+1]\n",
    "\n",
    "    names_ordered=[]\n",
    "    for i in range(A.shape[0]):\n",
    "        names_ordered.append([])\n",
    "    \n",
    "    for i in range(A.shape[0]):\n",
    "        for k in list_1[i]:                  # we take the indices of the j+1 (j from 0 to N-1) biggest suppliers of industry i. \n",
    "                for l in range(A.shape[0]):    \n",
    "                    if list_2[i][l] == k:\n",
    "                        names_ordered[i].append(l)   \n",
    "    return names_ordered"
   ]
  },
  {
   "cell_type": "code",
   "execution_count": 17,
   "id": "0ff5f32e",
   "metadata": {},
   "outputs": [],
   "source": [
    "def algo_priority(A, L, fmax, xmax, ordered, TT= 30, prioritize=\"yes\"):                 \n",
    "    x = [0]\n",
    "    fvec = []   # initial demand vector\n",
    "    fvec.append(fmax)\n",
    "    rvec = [0]  # output constraints\n",
    "    s = [0]     # input bottlenecks \n",
    "    d = [0]     # aggregated demand vector \n",
    "    d.append(np.matmul(L, fvec[0])) #d[1] = L*f[0]\n",
    "    \n",
    "    list_ = [1] \n",
    "    t=1\n",
    "    epsilon = 1e-6\n",
    "    \n",
    "    while not np.all(abs(d[t] - d[t-1]) < epsilon) and t<TT:\n",
    "        #print('\\nIteration {0}'.format(t))\n",
    "        #print('---------')\n",
    "        #print('Initial aggregated demand: {}'.format(d[t]))\n",
    "        rvec.append([np.zeros(N)])\n",
    "        s.append(np.ones(N))\n",
    "        fvec.append(np.ones(N))\n",
    "        x.append(np.ones(N))\n",
    "        d.append(np.ones(N))\n",
    "        demand = np.identity(N)\n",
    "        \n",
    "        som = 0\n",
    "        for i in range(0,N):\n",
    "            for j in range(0,N):\n",
    "                for k in ordered[i][:j+1]:\n",
    "                    som = som + A[i][k]*d[t][k] \n",
    "                demand[i][j] = som   #demand[i][j] = demand of j'th biggest customers of firm i summed up\n",
    "                som = 0\n",
    "        remainder = np.identity(N)\n",
    "    \n",
    "        for i in range(0,N):\n",
    "            for j in range(0,N):\n",
    "                remainder[i][j] = xmax[i] - demand[i][j]\n",
    "                \n",
    "        ####################################################\n",
    "        ####################### rvec #######################\n",
    "        ####################################################\n",
    "        for i in range(0,N):\n",
    "            rvec[t].append([])\n",
    "        for i in range(0,N):\n",
    "            if all(remainder[i][j]>0 for j in range(0,N)):\n",
    "                rvec[t][i] = np.ones(N) \n",
    "            elif all(remainder[i][j]<=0 for j in range(0,N)): \n",
    "                rvec[t][i] = np.zeros(N)\n",
    "                for k in ordered[i][:1]: \n",
    "                    rvec[t][i][k] = xmax[i]/demand[i][0]\n",
    "        \n",
    "            else: \n",
    "                idx = np.where(remainder[i]<=0) # index for partially met demand\n",
    "                idx_fully = np.where(remainder[i]>0) \n",
    "                length = len(idx_fully[0])\n",
    "                rvec[t][i] = np.zeros(N)\n",
    "                for l in range(0,length-1):\n",
    "                    index = ordered[i][l]\n",
    "                    rvec[t][i][index] = 1\n",
    "                m = ordered[i][length-1]\n",
    "                rvec[t][i][m] = remainder[i][length-1]/(demand[i][length]-demand[i][length-1])\n",
    "          \n",
    "        #####################################################\n",
    "        ################# Input bottlenecks #################\n",
    "        #####################################################\n",
    "        for i in range(0,N):\n",
    "            for j in range(0,N):\n",
    "                if A[j][i]>0:\n",
    "                    list_.append(rvec[t][j][i])\n",
    "            s[t][i] = min(list_)\n",
    "            list_ = [1]   \n",
    "        #print('Input bottlenecks:         {}'.format(s[t]))\n",
    "        \n",
    "        ######################################################\n",
    "        ############### Constrained Production ###############\n",
    "        ######################################################\n",
    "        for i in range(0,N):\n",
    "            x[t][i] = min(xmax[i], s[t][i]*d[t][i])\n",
    "        #print(x)\n",
    "        \n",
    "        ######################################################\n",
    "        ################ Constrained Delivery ################\n",
    "        ######################################################\n",
    "        for i in range(0,len(xmax)):\n",
    "            fvec[t][i] = max(x[t][i] - np.matmul(A[i],x[t]),0)\n",
    "        \n",
    "        ######################################################\n",
    "        ################ Aggregated demand ###################\n",
    "        ######################################################\n",
    "        for i in range(0,len(xmax)):\n",
    "            d[t+1][i] = np.matmul(L[i],fvec[t])\n",
    "            \n",
    "        t=t+1\n",
    "        if t==TT:\n",
    "            #print(\"Algorithm did not converge\")\n",
    "            return(None, None)\n",
    "        #print(d[t])\n",
    "    return sum(x[t-1]), sum(x[t-1])/sum(x_0), sum(fvec[t-1])/sum(f_0), t"
   ]
  },
  {
   "cell_type": "code",
   "execution_count": 18,
   "id": "90396ce2",
   "metadata": {},
   "outputs": [],
   "source": [
    "def algo_random(A, L, fmax, xmax, runs, prioritize = \"random\"):\n",
    "    som_x = []\n",
    "    x = []\n",
    "    y = []\n",
    "    TT = 30\n",
    "    while len(x)<runs:\n",
    "        random_ordered=[]\n",
    "        for i in range(N):\n",
    "            random_ordered.append([])\n",
    "    \n",
    "        for i in range(N):\n",
    "            while len(random_ordered[i])<N:\n",
    "                random = randrange(N)\n",
    "                while random in random_ordered[i]:\n",
    "                    random = randrange(N)# we willen nu de indices van de j+1 (j van 0 tot en met N-1) grootste suppliers  \n",
    "                random_ordered[i].append(random)\n",
    "                \n",
    "        result = algo_priority(A, L, fmax, xmax, random_ordered, TT = 25, prioritize=\"yes\")\n",
    "        if result[0] != None:\n",
    "            som_x.append(result[0])\n",
    "            #som_x = sum(som_x)/len(sum_x)\n",
    "            x.append(result[1])\n",
    "            y.append(result[2])\n",
    "    return sum(som_x)/len(som_x), sum(x)/len(x), sum(y)/len(y)"
   ]
  },
  {
   "cell_type": "markdown",
   "id": "258e3c54",
   "metadata": {},
   "source": [
    "# Effect Network Density"
   ]
  },
  {
   "cell_type": "code",
   "execution_count": 19,
   "id": "fa6ccc98",
   "metadata": {},
   "outputs": [
    {
     "data": {
      "text/plain": [
       "(54, 54)"
      ]
     },
     "execution_count": 19,
     "metadata": {},
     "output_type": "execute_result"
    }
   ],
   "source": [
    "N=54\n",
    "A = np.array(df)[:N,:N]\n",
    "N = A.shape[0]\n",
    "A.shape"
   ]
  },
  {
   "cell_type": "code",
   "execution_count": 20,
   "id": "36fa0295",
   "metadata": {},
   "outputs": [
    {
     "data": {
      "text/plain": [
       "(54, 54)"
      ]
     },
     "execution_count": 20,
     "metadata": {},
     "output_type": "execute_result"
    }
   ],
   "source": [
    "Z = np.array(df_Z)[:N,:N]\n",
    "N = Z.shape[0]\n",
    "Z.shape"
   ]
  },
  {
   "cell_type": "code",
   "execution_count": 21,
   "id": "39e092b2",
   "metadata": {},
   "outputs": [
    {
     "data": {
      "text/plain": [
       "(54,)"
      ]
     },
     "execution_count": 21,
     "metadata": {},
     "output_type": "execute_result"
    }
   ],
   "source": [
    "x_max = np.array(xdata.iloc[:,3].astype('float'))[:N]\n",
    "x_0 = np.array(x)[:N]\n",
    "x_0.shape"
   ]
  },
  {
   "cell_type": "code",
   "execution_count": 22,
   "id": "04f6151f",
   "metadata": {},
   "outputs": [
    {
     "data": {
      "text/plain": [
       "(54,)"
      ]
     },
     "execution_count": 22,
     "metadata": {},
     "output_type": "execute_result"
    }
   ],
   "source": [
    "f_max = np.array(fdata.iloc[:,3].astype('float'))[:N]\n",
    "f_0 = np.array(f)[:N]\n",
    "f_0.shape"
   ]
  },
  {
   "cell_type": "code",
   "execution_count": 23,
   "id": "f18f2587",
   "metadata": {},
   "outputs": [
    {
     "data": {
      "text/plain": [
       "(54, 54)"
      ]
     },
     "execution_count": 23,
     "metadata": {},
     "output_type": "execute_result"
    }
   ],
   "source": [
    "L = np.linalg.inv(np.identity(N)-A)\n",
    "L.shape"
   ]
  },
  {
   "cell_type": "code",
   "execution_count": 24,
   "id": "a8667e97",
   "metadata": {},
   "outputs": [
    {
     "data": {
      "text/plain": [
       "54"
      ]
     },
     "execution_count": 24,
     "metadata": {},
     "output_type": "execute_result"
    }
   ],
   "source": [
    "supply_shock = np.zeros(N)\n",
    "for i in range (0,x_max.shape[0]):\n",
    "    supply_shock[i] = round(1- x_max[i]/x[i],6)\n",
    "    \n",
    "len(supply_shock) # ok: corresonds to the data "
   ]
  },
  {
   "cell_type": "markdown",
   "id": "61c3f471",
   "metadata": {},
   "source": [
    "## Eliminate Random Links"
   ]
  },
  {
   "cell_type": "code",
   "execution_count": 25,
   "id": "fa82dadc",
   "metadata": {},
   "outputs": [],
   "source": [
    "from random import randrange\n",
    "def eliminate_rand(A, x, f, desired_density):\n",
    "    Anew = A\n",
    "    zeros = np.sum(Anew==0)\n",
    "    Znew = Z\n",
    "    indices_x = []\n",
    "    indices_y = []\n",
    "    if desired_density != 1:\n",
    "        sparselink = round((N**2)*(1-desired_density) - np.sum(Anew==0)) # number of links we need to remove to get desired density\n",
    "        #print(\"Sparselink: {0}\".format(sparselink))\n",
    "        while(np.sum(Znew==0)) < sparselink + zeros: \n",
    "            random_x = randrange(N)\n",
    "            random_y = randrange(N)\n",
    "            while Znew[random_x,random_y] == 0:\n",
    "                random_x = randrange(N)\n",
    "                random_y = randrange(N)\n",
    "            \n",
    "            Znew[random_x, random_y] = 0\n",
    "            \n",
    "            \n",
    "    xnew = np.sum(Znew, axis=1) + f\n",
    "    for i in range(0,N):\n",
    "        for j in range(0,N):\n",
    "            Anew[i][j] = Znew[i][j]/x[j]\n",
    "    Lnew = np.linalg.inv(np.identity(N)-Anew)\n",
    "    \n",
    "    \n",
    "    return xnew, Anew, Lnew, Znew"
   ]
  },
  {
   "cell_type": "markdown",
   "id": "78bc2683",
   "metadata": {},
   "source": [
    "### Direct shock"
   ]
  },
  {
   "cell_type": "markdown",
   "id": "0031121e",
   "metadata": {},
   "source": [
    "**For 50 different densities, we adapt our matrix. We compute xnew, Anew, xmaxnew. Then we apply the shocks to the new data: instead of sum(xmax)/sum(x) it is now equal to sum(xmaxnew)/sum(xnew).**"
   ]
  },
  {
   "cell_type": "code",
   "execution_count": 26,
   "id": "215551df",
   "metadata": {},
   "outputs": [],
   "source": [
    "densseq = np.linspace(0,1,50)"
   ]
  },
  {
   "cell_type": "code",
   "execution_count": 27,
   "id": "68ec751a",
   "metadata": {},
   "outputs": [
    {
     "data": {
      "text/plain": [
       "array([0.63671461, 0.63814774, 0.6385466 , 0.63902206, 0.64045367,\n",
       "       0.64115591, 0.64227249, 0.64226774, 0.64372167, 0.64425894,\n",
       "       0.64583699, 0.64770887, 0.64686477, 0.64692439, 0.6493388 ,\n",
       "       0.64961344, 0.64962331, 0.6499705 , 0.65011616, 0.65188778,\n",
       "       0.65277827, 0.6527357 , 0.65321493, 0.65473077, 0.65453515,\n",
       "       0.65569184, 0.65504581, 0.65525375, 0.6568346 , 0.65618743,\n",
       "       0.65723678, 0.65885544, 0.65792885, 0.65852943, 0.65964312,\n",
       "       0.66066791, 0.66021155, 0.6610426 , 0.66119457, 0.66173853,\n",
       "       0.66139598, 0.66282857, 0.66243161, 0.66395248, 0.66331549,\n",
       "       0.66436466, 0.66414257, 0.66509935, 0.66537168, 0.6655754 ])"
      ]
     },
     "execution_count": 27,
     "metadata": {},
     "output_type": "execute_result"
    }
   ],
   "source": [
    "resdir_x = np.identity(50)\n",
    "densseq = np.linspace(0,1,50)\n",
    "runs_dens = 50\n",
    "\n",
    "for i in range(len(densseq)):\n",
    "    for j in range(runs_dens):\n",
    "        A = np.array(df)[:N,:N] \n",
    "        Z = np.array(df_Z)[:N,:N] \n",
    "        newdat = eliminate_rand(A, x_0, f_0, densseq[i])\n",
    "        #print(densseq[i])\n",
    "        xmaxnew = np.ones(N)\n",
    "        for k in range(0,N):\n",
    "            xmaxnew[k] = newdat[0][k]*(1- supply_shock[k])\n",
    "        resdir_x[i][j] = (sum(xmaxnew)/sum(newdat[0]))\n",
    "resdir_x = np.mean(resdir_x, axis = 1)\n",
    "resdir_x"
   ]
  },
  {
   "cell_type": "markdown",
   "id": "e9427630",
   "metadata": {},
   "source": [
    "## Proportional rationing"
   ]
  },
  {
   "cell_type": "code",
   "execution_count": 28,
   "id": "a1634caa",
   "metadata": {},
   "outputs": [],
   "source": [
    "resprop_x = np.identity(50)\n",
    "densseq = np.linspace(0,1,50)\n",
    "runs_dens = 50\n",
    "TT = 30\n",
    "for i in range(len(densseq)):\n",
    "    for j in range(runs_dens):\n",
    "        A = np.array(df)[:N,:N] \n",
    "        Z = np.array(df_Z)[:N,:N] \n",
    "        newdat = eliminate_rand(A, x_0, f_0, densseq[i])\n",
    "        #print(densseq[i])\n",
    "        xmaxnew = np.ones(N)\n",
    "        for k in range(0,N):\n",
    "            xmaxnew[k] = newdat[0][k]*(1- supply_shock[k])\n",
    "        \n",
    "        result = algo_proportional(newdat[1], newdat[2], f_max, xmaxnew, TT, prioritize = \"no\")\n",
    "        if result[3]!= 30:\n",
    "            resprop_x[i][j] = (result[0]/sum(newdat[0]))\n",
    "        else:\n",
    "            resprop_x[i][j] = np.nan\n",
    "resprop_x = np.mean(resprop_x, axis = 1)"
   ]
  },
  {
   "cell_type": "markdown",
   "id": "9ea7211b",
   "metadata": {},
   "source": [
    "## Priority"
   ]
  },
  {
   "cell_type": "code",
   "execution_count": 29,
   "id": "6d50ce87",
   "metadata": {},
   "outputs": [
    {
     "data": {
      "text/plain": [
       "0.6132727992423517"
      ]
     },
     "execution_count": 29,
     "metadata": {},
     "output_type": "execute_result"
    }
   ],
   "source": [
    "A = np.array(df)[:N,:N] \n",
    "Z = np.array(df_Z)[:N,:N] \n",
    "newdat = eliminate_rand(A, x_0, f_0, 0)\n",
    "xmaxnew = np.ones(N)\n",
    "for k in range(0,N):\n",
    "    xmaxnew[k] = newdat[0][k]*(1- supply_shock[k])\n",
    "names_ordered = order(newdat[1],newdat[2],f_max)\n",
    "        \n",
    "result = algo_priority(newdat[1], newdat[2], f_max, xmaxnew, names_ordered,TT=30, prioritize=\"yes\")\n",
    "result[0]/sum(newdat[0])"
   ]
  },
  {
   "cell_type": "code",
   "execution_count": 30,
   "id": "08974279",
   "metadata": {},
   "outputs": [
    {
     "name": "stdout",
     "output_type": "stream",
     "text": [
      "Iteration 0\n",
      "Iteration 1\n",
      "Iteration 2\n",
      "Iteration 3\n",
      "Iteration 4\n",
      "Iteration 5\n",
      "Iteration 6\n",
      "Iteration 7\n",
      "Iteration 8\n",
      "Iteration 9\n",
      "Iteration 10\n",
      "Iteration 11\n",
      "Iteration 12\n",
      "Iteration 13\n",
      "Iteration 14\n",
      "Iteration 15\n",
      "Iteration 16\n",
      "Iteration 17\n",
      "Iteration 18\n",
      "Iteration 19\n",
      "Iteration 20\n",
      "Iteration 21\n",
      "Iteration 22\n",
      "Iteration 23\n",
      "Iteration 24\n",
      "Iteration 25\n",
      "Iteration 26\n",
      "Iteration 27\n",
      "Iteration 28\n",
      "Iteration 29\n",
      "Iteration 30\n",
      "Iteration 31\n",
      "Iteration 32\n",
      "Iteration 33\n",
      "Iteration 34\n",
      "Iteration 35\n",
      "Iteration 36\n",
      "Iteration 37\n",
      "Iteration 38\n",
      "Iteration 39\n",
      "Iteration 40\n",
      "Iteration 41\n",
      "Iteration 42\n",
      "Iteration 43\n",
      "Iteration 44\n",
      "Iteration 45\n",
      "Iteration 46\n",
      "Iteration 47\n",
      "Iteration 48\n",
      "Iteration 49\n"
     ]
    }
   ],
   "source": [
    "resprior_x = np.identity(50)\n",
    "densseq = np.linspace(0,1,50)\n",
    "runs_dens = 50\n",
    "for i in range(len(densseq)):\n",
    "    print(\"Iteration {0}\".format(i))\n",
    "    for j in range(runs_dens):\n",
    "        A = np.array(df)[:N,:N] \n",
    "        Z = np.array(df_Z)[:N,:N] \n",
    "        newdat = eliminate_rand(A, x_0, f_0, densseq[i])\n",
    "        #print(densseq[i])\n",
    "        xmaxnew = np.ones(N)\n",
    "        for k in range(0,N):\n",
    "            xmaxnew[k] = newdat[0][k]*(1- supply_shock[k])\n",
    "        names_ordered = order(newdat[1],newdat[2],f_max)\n",
    "        \n",
    "        result = algo_priority(newdat[1], newdat[2], f_max, xmaxnew, names_ordered,TT=30, prioritize=\"yes\")\n",
    "        if result[0] != None:\n",
    "            resprior_x[i][j] = (result[0]/sum(newdat[0]))\n",
    "        else:\n",
    "            resprior_x[i][j] = np.nan\n",
    "        \n",
    "resprior_x = np.nanmean(resprior_x, axis = 1)"
   ]
  },
  {
   "cell_type": "code",
   "execution_count": 31,
   "id": "761caaa3",
   "metadata": {},
   "outputs": [
    {
     "data": {
      "text/plain": [
       "array([6.13272799e-01, 6.11623270e-01, 6.11353408e-01, 6.10518615e-01,\n",
       "       6.08645750e-01, 6.08053721e-01, 6.02607857e-01, 6.03362621e-01,\n",
       "       5.99853142e-01, 5.87638966e-01, 5.95113263e-01, 5.83345841e-01,\n",
       "       5.63185854e-01, 5.58224930e-01, 5.38377733e-01, 5.18615894e-01,\n",
       "       5.20184570e-01, 4.48693585e-01, 3.77033159e-01, 3.78656306e-01,\n",
       "       3.68527628e-01, 2.61104734e-01, 2.66825118e-01, 2.51201613e-01,\n",
       "       1.82477325e-01, 1.57429353e-01, 1.32157831e-01, 1.17482313e-01,\n",
       "       1.00225405e-01, 8.03229656e-02, 5.38152680e-02, 3.68815624e-02,\n",
       "       5.19656788e-02, 2.11651828e-02, 1.80177156e-02, 2.79185261e-03,\n",
       "       8.91705959e-03, 5.89759814e-03, 2.58102828e-03, 2.66535799e-03,\n",
       "       2.27104577e-03, 5.41524007e-04, 7.54137571e-04, 0.00000000e+00,\n",
       "       0.00000000e+00, 0.00000000e+00, 0.00000000e+00, 0.00000000e+00,\n",
       "       0.00000000e+00, 0.00000000e+00])"
      ]
     },
     "execution_count": 31,
     "metadata": {},
     "output_type": "execute_result"
    }
   ],
   "source": [
    "resprior_x"
   ]
  },
  {
   "cell_type": "markdown",
   "id": "e1aa509d",
   "metadata": {},
   "source": [
    "## Mixed"
   ]
  },
  {
   "cell_type": "code",
   "execution_count": 32,
   "id": "8fc98fab",
   "metadata": {},
   "outputs": [],
   "source": [
    "resmixed_x = np.identity(50)\n",
    "densseq = np.linspace(0,1,50)\n",
    "runs_dens = 50\n",
    "N = 54\n",
    "TT = 30\n",
    "for i in range(len(densseq)):\n",
    "    for j in range(runs_dens):\n",
    "        A = np.array(df)[:N,:N] \n",
    "        Z = np.array(df_Z)[:N,:N] \n",
    "        newdat = eliminate_rand(A, x_0, f_0, densseq[i])\n",
    "        #print(densseq[i])\n",
    "        xmaxnew = np.ones(N)\n",
    "        for k in range(0,N):\n",
    "            xmaxnew[k] = newdat[0][k]*(1- supply_shock[k])\n",
    "        \n",
    "        result = algo_mixed(newdat[1], newdat[2], f_max, xmaxnew, TT,prioritize=\"yes\")\n",
    "        if result[3] != 30:\n",
    "            resmixed_x[i][j] = (result[0]/sum(newdat[0]))\n",
    "        else: \n",
    "            resmixed_x[i][j] = np.nan\n",
    "resmixed_x = np.nanmean(resmixed_x, axis = 1)"
   ]
  },
  {
   "cell_type": "markdown",
   "id": "e2ea811e",
   "metadata": {},
   "source": [
    "## Random Rationing "
   ]
  },
  {
   "cell_type": "code",
   "execution_count": 33,
   "id": "4286faa4",
   "metadata": {},
   "outputs": [
    {
     "name": "stdout",
     "output_type": "stream",
     "text": [
      "Iteration 0\n",
      "Iteration 1\n",
      "Iteration 2\n",
      "Iteration 3\n",
      "Iteration 4\n",
      "Iteration 5\n",
      "Iteration 6\n",
      "Iteration 7\n",
      "Iteration 8\n",
      "Iteration 9\n",
      "Iteration 10\n",
      "Iteration 11\n",
      "Iteration 12\n",
      "Iteration 13\n",
      "Iteration 14\n",
      "Iteration 15\n",
      "Iteration 16\n",
      "Iteration 17\n",
      "Iteration 18\n",
      "Iteration 19\n",
      "Iteration 20\n",
      "Iteration 21\n",
      "Iteration 22\n",
      "Iteration 23\n",
      "Iteration 24\n",
      "Iteration 25\n",
      "Iteration 26\n",
      "Iteration 27\n",
      "Iteration 28\n",
      "Iteration 29\n",
      "Iteration 30\n",
      "Iteration 31\n",
      "Iteration 32\n",
      "Iteration 33\n",
      "Iteration 34\n",
      "Iteration 35\n",
      "Iteration 36\n",
      "Iteration 37\n",
      "Iteration 38\n",
      "Iteration 39\n",
      "Iteration 40\n",
      "Iteration 41\n",
      "Iteration 42\n",
      "Iteration 43\n",
      "Iteration 44\n",
      "Iteration 45\n",
      "Iteration 46\n",
      "Iteration 47\n",
      "Iteration 48\n",
      "Iteration 49\n"
     ]
    }
   ],
   "source": [
    "resrandom_x = np.ones((50,50))\n",
    "densseq = np.linspace(0,1,50)\n",
    "runs_random = 30\n",
    "runs_dens = 50\n",
    "N = 54\n",
    "for i in range(len(densseq)):\n",
    "    print(\"Iteration {0}\" .format(i))\n",
    "    for j in range(runs_dens):\n",
    "        A = np.array(df)[:N,:N] \n",
    "        Z = np.array(df_Z)[:N,:N] \n",
    "        newdat = eliminate_rand(A, x_0, f_0, densseq[i])\n",
    "        #print(densseq[i])\n",
    "        xmaxnew = np.ones(N)\n",
    "        for k in range(0,N):\n",
    "            xmaxnew[k] = newdat[0][k]*(1- supply_shock[k])\n",
    "        \n",
    "        result = algo_random(newdat[1], newdat[2], f_max, xmaxnew, runs_random, prioritize = \"random\")\n",
    "        resrandom_x[i][j] = result[0]/sum(newdat[0])\n",
    "resrandom_x = np.mean(resrandom_x, axis = 1)"
   ]
  },
  {
   "cell_type": "markdown",
   "id": "2194e7d6",
   "metadata": {},
   "source": [
    "## Optimization"
   ]
  },
  {
   "cell_type": "code",
   "execution_count": 34,
   "id": "1d455105",
   "metadata": {},
   "outputs": [
    {
     "name": "stdout",
     "output_type": "stream",
     "text": [
      "Iteration 0\n",
      "Iteration 1\n",
      "Iteration 2\n",
      "Iteration 3\n",
      "Iteration 4\n",
      "Iteration 5\n",
      "Iteration 6\n",
      "Iteration 7\n",
      "Iteration 8\n",
      "Iteration 9\n",
      "Iteration 10\n",
      "Iteration 11\n",
      "Iteration 12\n",
      "Iteration 13\n",
      "Iteration 14\n",
      "Iteration 15\n",
      "Iteration 16\n",
      "Iteration 17\n",
      "Iteration 18\n",
      "Iteration 19\n",
      "Iteration 20\n",
      "Iteration 21\n",
      "Iteration 22\n",
      "Iteration 23\n",
      "Iteration 24\n",
      "Iteration 25\n",
      "Iteration 26\n",
      "Iteration 27\n",
      "Iteration 28\n",
      "Iteration 29\n",
      "Iteration 30\n",
      "Iteration 31\n",
      "Iteration 32\n",
      "Iteration 33\n",
      "Iteration 34\n",
      "Iteration 35\n",
      "Iteration 36\n",
      "Iteration 37\n",
      "Iteration 38\n",
      "Iteration 39\n",
      "Iteration 40\n",
      "Iteration 41\n",
      "Iteration 42\n",
      "Iteration 43\n",
      "Iteration 44\n",
      "Iteration 45\n",
      "Iteration 46\n",
      "Iteration 47\n",
      "Iteration 48\n",
      "Iteration 49\n"
     ]
    }
   ],
   "source": [
    "resmax_x = np.identity(50)\n",
    "densseq = np.linspace(0,1,50)\n",
    "runs_dens = 50\n",
    "for i in range(len(densseq)):\n",
    "    print(\"Iteration {0}\" .format(i))\n",
    "    for j in range(runs_dens):\n",
    "        A = np.array(df)[:N,:N] \n",
    "        Z = np.array(df_Z)[:N,:N] \n",
    "        newdat = eliminate_rand(A, x_0, f_0, densseq[i])\n",
    "        #print(densseq[i])\n",
    "        xmaxnew = np.ones(N)\n",
    "        for k in range(0,N):\n",
    "            xmaxnew[k] = newdat[0][k]*(1- supply_shock[k])\n",
    "        \n",
    "        result = max_output(N,newdat[2],newdat[1],xmaxnew,f_max)\n",
    "        resmax_x[i][j] = (result[0]/sum(newdat[0]))\n",
    "resmax_x = np.mean(resmax_x, axis = 1)"
   ]
  },
  {
   "cell_type": "code",
   "execution_count": 35,
   "id": "40ebf720",
   "metadata": {},
   "outputs": [
    {
     "data": {
      "image/png": "[encoded data removed]",
      "text/plain": [
       "<Figure size 640x480 with 1 Axes>"
      ]
     },
     "metadata": {},
     "output_type": "display_data"
    }
   ],
   "source": [
    "import matplotlib.pyplot as plt\n",
    "plt.style.use('ggplot')\n",
    "plt.title(\"Spain\")\n",
    "plt.grid(visible=None, which='major', axis='both', linestyle='-', linewidth=1)\n",
    "\n",
    "plt.plot(densseq, resdir_x, 'black')\n",
    "plt.plot(densseq, resmax_x, 'red')\n",
    "plt.plot(densseq, resprop_x, 'green')\n",
    "plt.plot(densseq, resmixed_x, 'grey')\n",
    "plt.plot(densseq, resprior_x, 'orange')\n",
    "plt.plot(densseq, resrandom_x, 'blue')\n",
    "\n",
    "\n",
    "#plt.xlim(-0.05, 1) \n",
    "plt.ylim(-0.00,0.74)\n",
    "plt.rcParams['text.usetex'] = True\n",
    "plt.xlabel('Density')\n",
    "plt.ylabel(\"Gross Output (fraction of pre-shock level)\")\n",
    "plt.legend(['Direct shock', 'Maximization', 'Proportional', 'Mixed', 'Priority', 'Random'])\n",
    "plt.savefig('plot_esp_density.png')"
   ]
  }
 ],
 "metadata": {
  "kernelspec": {
   "display_name": "venv test",
   "language": "python",
   "name": "venv"
  },
  "language_info": {
   "codemirror_mode": {
    "name": "ipython",
    "version": 3
   },
   "file_extension": ".py",
   "mimetype": "text/x-python",
   "name": "python",
   "nbconvert_exporter": "python",
   "pygments_lexer": "ipython3",
   "version": "3.10.11"
  }
 },
 "nbformat": 4,
 "nbformat_minor": 5
}
