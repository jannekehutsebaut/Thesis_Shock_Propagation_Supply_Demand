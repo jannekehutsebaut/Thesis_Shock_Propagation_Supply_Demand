{
 "cells": [
  {
   "cell_type": "code",
   "execution_count": 1,
   "id": "d69dad87",
   "metadata": {},
   "outputs": [],
   "source": [
    "import pandas as pd\n",
    "import numpy as np"
   ]
  },
  {
   "cell_type": "markdown",
   "id": "d575f677",
   "metadata": {},
   "source": [
    "# Data for final consumption and total output"
   ]
  },
  {
   "cell_type": "markdown",
   "id": "d12500d2",
   "metadata": {},
   "source": [
    "We apply our models to the input-output data of Germany. The data\n",
    "we use for initial output and final consumption per industry, as well as the supply and\n",
    "demand shock data is taken from:\n",
    "\n",
    "Pichler, A. and Farmer, J. D. (2021b). Simultaneous supply and demand constraints in\n",
    "input–output networks: the case of covid-19 in Germany, Italy and Spain (Version V1).\n",
    "Zenodo. https://doi.org/10.5281/zenodo.4326815"
   ]
  },
  {
   "cell_type": "markdown",
   "id": "9118cff0",
   "metadata": {},
   "source": [
    "## Final consumption"
   ]
  },
  {
   "cell_type": "code",
   "execution_count": 3,
   "id": "a0c01f4c",
   "metadata": {},
   "outputs": [
    {
     "data": {
      "text/html": [
       "<div>\n",
       "<style scoped>\n",
       "    .dataframe tbody tr th:only-of-type {\n",
       "        vertical-align: middle;\n",
       "    }\n",
       "\n",
       "    .dataframe tbody tr th {\n",
       "        vertical-align: top;\n",
       "    }\n",
       "\n",
       "    .dataframe thead th {\n",
       "        text-align: right;\n",
       "    }\n",
       "</style>\n",
       "<table border=\"1\" class=\"dataframe\">\n",
       "  <thead>\n",
       "    <tr style=\"text-align: right;\">\n",
       "      <th></th>\n",
       "      <th>Unnamed: 0</th>\n",
       "      <th>f</th>\n",
       "      <th>fmin</th>\n",
       "      <th>fmax</th>\n",
       "      <th>f.maxF</th>\n",
       "      <th>f.maxX</th>\n",
       "    </tr>\n",
       "  </thead>\n",
       "  <tbody>\n",
       "    <tr>\n",
       "      <th>50</th>\n",
       "      <td>O84</td>\n",
       "      <td>167219.108392</td>\n",
       "      <td>0</td>\n",
       "      <td>167172.801689</td>\n",
       "      <td>167172.801689</td>\n",
       "      <td>167172.801689</td>\n",
       "    </tr>\n",
       "    <tr>\n",
       "      <th>51</th>\n",
       "      <td>P85</td>\n",
       "      <td>91413.483080</td>\n",
       "      <td>0</td>\n",
       "      <td>91392.891056</td>\n",
       "      <td>91392.891056</td>\n",
       "      <td>91392.891056</td>\n",
       "    </tr>\n",
       "    <tr>\n",
       "      <th>52</th>\n",
       "      <td>Q</td>\n",
       "      <td>176518.344489</td>\n",
       "      <td>0</td>\n",
       "      <td>176260.590370</td>\n",
       "      <td>176260.590370</td>\n",
       "      <td>176260.590370</td>\n",
       "    </tr>\n",
       "    <tr>\n",
       "      <th>53</th>\n",
       "      <td>R_S</td>\n",
       "      <td>75629.017411</td>\n",
       "      <td>0</td>\n",
       "      <td>72108.375979</td>\n",
       "      <td>35446.250892</td>\n",
       "      <td>35446.250892</td>\n",
       "    </tr>\n",
       "    <tr>\n",
       "      <th>54</th>\n",
       "      <td>T</td>\n",
       "      <td>25597.803700</td>\n",
       "      <td>0</td>\n",
       "      <td>25597.803799</td>\n",
       "      <td>25597.803700</td>\n",
       "      <td>25597.803700</td>\n",
       "    </tr>\n",
       "  </tbody>\n",
       "</table>\n",
       "</div>"
      ],
      "text/plain": [
       "   Unnamed: 0              f  fmin           fmax         f.maxF  \\\n",
       "50        O84  167219.108392     0  167172.801689  167172.801689   \n",
       "51        P85   91413.483080     0   91392.891056   91392.891056   \n",
       "52          Q  176518.344489     0  176260.590370  176260.590370   \n",
       "53        R_S   75629.017411     0   72108.375979   35446.250892   \n",
       "54          T   25597.803700     0   25597.803799   25597.803700   \n",
       "\n",
       "           f.maxX  \n",
       "50  167172.801689  \n",
       "51   91392.891056  \n",
       "52  176260.590370  \n",
       "53   35446.250892  \n",
       "54   25597.803700  "
      ]
     },
     "execution_count": 3,
     "metadata": {},
     "output_type": "execute_result"
    }
   ],
   "source": [
    "fdata = pd.read_csv('fdata_ita.csv', sep = ',')\n",
    "#fdata = fdata.iloc[:55,:] #leaving out T: Household activities\n",
    "f = fdata['f'].astype('float')\n",
    "fdata.tail()"
   ]
  },
  {
   "cell_type": "code",
   "execution_count": 4,
   "id": "47c44086",
   "metadata": {},
   "outputs": [
    {
     "name": "stdout",
     "output_type": "stream",
     "text": [
      "[ 0.1    0.038  0.1    0.1    0.1    0.1    0.099  0.1    0.1    0.1\n",
      "  0.1    0.098  0.1    0.1    0.1    0.1    0.1    0.1    0.1    0.1\n",
      "  0.1    0.1    0.1    0.012  0.006  0.017  0.099  0.1    0.099  0.098\n",
      "  0.552  0.473  0.473  0.335  0.034  0.791  0.04   0.035  0.03   0.085\n",
      "  0.016  0.011  0.049  0.005  0.052  0.084  0.098  0.092  0.05   0.049\n",
      "  0.     0.     0.001  0.047 -0.   ]\n"
     ]
    }
   ],
   "source": [
    "fmax = fdata.iloc[:,3]\n",
    "f_initial = fdata.iloc[:,1]\n",
    "\n",
    "shock = np.zeros(fmax.shape[0])\n",
    "for i in range (0,fmax.shape[0]):\n",
    "    shock[i] = round(1- fmax[i]/f_initial[i],3)\n",
    "    \n",
    "print(shock) # ok! "
   ]
  },
  {
   "cell_type": "code",
   "execution_count": 7,
   "id": "688e4081",
   "metadata": {},
   "outputs": [
    {
     "data": {
      "text/plain": [
       "(55,)"
      ]
     },
     "execution_count": 7,
     "metadata": {},
     "output_type": "execute_result"
    }
   ],
   "source": [
    "fmax = fdata.loc[:,fdata.columns.str.contains('fmax')]\n",
    "fmax = fmax.astype('float') #leaving out T\n",
    "fmax = np.array(fmax)\n",
    "fmax.shape\n",
    "\n",
    "f_max = np.zeros(fmax.shape[0])\n",
    "for i in range (fmax.shape[0]):\n",
    "    f_max[i] = fmax[i][0]"
   ]
  },
  {
   "cell_type": "markdown",
   "id": "2012b38d",
   "metadata": {},
   "source": [
    "## Total output"
   ]
  },
  {
   "cell_type": "code",
   "execution_count": 8,
   "id": "32e86384",
   "metadata": {},
   "outputs": [
    {
     "data": {
      "text/html": [
       "<div>\n",
       "<style scoped>\n",
       "    .dataframe tbody tr th:only-of-type {\n",
       "        vertical-align: middle;\n",
       "    }\n",
       "\n",
       "    .dataframe tbody tr th {\n",
       "        vertical-align: top;\n",
       "    }\n",
       "\n",
       "    .dataframe thead th {\n",
       "        text-align: right;\n",
       "    }\n",
       "</style>\n",
       "<table border=\"1\" class=\"dataframe\">\n",
       "  <thead>\n",
       "    <tr style=\"text-align: right;\">\n",
       "      <th></th>\n",
       "      <th>Unnamed: 0</th>\n",
       "      <th>x</th>\n",
       "      <th>xmin</th>\n",
       "      <th>xmax</th>\n",
       "      <th>x.maxF</th>\n",
       "      <th>x.maxX</th>\n",
       "    </tr>\n",
       "  </thead>\n",
       "  <tbody>\n",
       "    <tr>\n",
       "      <th>0</th>\n",
       "      <td>A01</td>\n",
       "      <td>71272.896677</td>\n",
       "      <td>0</td>\n",
       "      <td>71272.896677</td>\n",
       "      <td>42676.136170</td>\n",
       "      <td>42676.136170</td>\n",
       "    </tr>\n",
       "    <tr>\n",
       "      <th>1</th>\n",
       "      <td>A02</td>\n",
       "      <td>1980.006416</td>\n",
       "      <td>0</td>\n",
       "      <td>297.003455</td>\n",
       "      <td>297.003455</td>\n",
       "      <td>297.003455</td>\n",
       "    </tr>\n",
       "    <tr>\n",
       "      <th>2</th>\n",
       "      <td>A03</td>\n",
       "      <td>2170.824508</td>\n",
       "      <td>0</td>\n",
       "      <td>2170.824508</td>\n",
       "      <td>1471.152936</td>\n",
       "      <td>1471.152936</td>\n",
       "    </tr>\n",
       "    <tr>\n",
       "      <th>3</th>\n",
       "      <td>B</td>\n",
       "      <td>13515.229050</td>\n",
       "      <td>0</td>\n",
       "      <td>8850.508371</td>\n",
       "      <td>8850.508371</td>\n",
       "      <td>8850.508371</td>\n",
       "    </tr>\n",
       "    <tr>\n",
       "      <th>4</th>\n",
       "      <td>C10-C12</td>\n",
       "      <td>168846.903150</td>\n",
       "      <td>0</td>\n",
       "      <td>125008.417700</td>\n",
       "      <td>64382.508727</td>\n",
       "      <td>64382.508727</td>\n",
       "    </tr>\n",
       "  </tbody>\n",
       "</table>\n",
       "</div>"
      ],
      "text/plain": [
       "  Unnamed: 0              x  xmin           xmax        x.maxF        x.maxX\n",
       "0        A01   71272.896677     0   71272.896677  42676.136170  42676.136170\n",
       "1        A02    1980.006416     0     297.003455    297.003455    297.003455\n",
       "2        A03    2170.824508     0    2170.824508   1471.152936   1471.152936\n",
       "3          B   13515.229050     0    8850.508371   8850.508371   8850.508371\n",
       "4    C10-C12  168846.903150     0  125008.417700  64382.508727  64382.508727"
      ]
     },
     "execution_count": 8,
     "metadata": {},
     "output_type": "execute_result"
    }
   ],
   "source": [
    "xdata =  pd.read_csv('xdata_ita.csv', sep = ',')\n",
    "#xdata = xdata.iloc[:54,:] #leaving out T\n",
    "x = xdata['x'].astype('float')\n",
    "xdata.head()   # de x-waarden zijn af te lezen in de WIOD laatste kolom"
   ]
  },
  {
   "cell_type": "code",
   "execution_count": 9,
   "id": "39e25dfa",
   "metadata": {},
   "outputs": [
    {
     "name": "stdout",
     "output_type": "stream",
     "text": [
      "[0.       0.849999 0.       0.345146 0.259635 0.593935 0.60647  0.48664\n",
      " 0.       0.       0.082258 0.       0.472389 0.61387  0.726353 0.662572\n",
      " 0.387682 0.504511 0.469949 0.696668 0.597033 0.580317 0.339612 0.\n",
      " 0.       0.       0.49612  0.13656  0.334664 0.251624 0.       0.\n",
      " 0.       0.       0.       0.56561  0.       0.       0.       0.\n",
      " 0.       0.       0.       0.512768 0.       0.       0.       0.396788\n",
      " 0.       0.416264 0.       0.       0.       0.492191 0.      ]\n"
     ]
    }
   ],
   "source": [
    "xmax = xdata.iloc[:,3]\n",
    "x_initial = xdata.iloc[:,1]\n",
    "\n",
    "shock = np.zeros(xmax.shape[0])\n",
    "for i in range (0,fmax.shape[0]):\n",
    "    shock[i] = round(1- xmax[i]/x_initial[i],6)\n",
    "    \n",
    "print(shock) # ok! "
   ]
  },
  {
   "cell_type": "code",
   "execution_count": 10,
   "id": "be7ab121",
   "metadata": {},
   "outputs": [
    {
     "data": {
      "text/plain": [
       "(55,)"
      ]
     },
     "execution_count": 10,
     "metadata": {},
     "output_type": "execute_result"
    }
   ],
   "source": [
    "xmax = xdata.loc[:,xdata.columns.str.contains('xmax')]\n",
    "xmax = xmax.astype('float') #leaving out T\n",
    "xmax = np.array(xmax)\n",
    "x_max = np.zeros(xmax.shape[0])\n",
    "for i in range (xmax.shape[0]):\n",
    "    x_max[i] = xmax[i][0]\n",
    "x_max.shape"
   ]
  },
  {
   "cell_type": "markdown",
   "id": "97cb7425",
   "metadata": {},
   "source": [
    "# IO table "
   ]
  },
  {
   "cell_type": "code",
   "execution_count": 11,
   "id": "d00267df",
   "metadata": {},
   "outputs": [
    {
     "data": {
      "text/html": [
       "<div>\n",
       "<style scoped>\n",
       "    .dataframe tbody tr th:only-of-type {\n",
       "        vertical-align: middle;\n",
       "    }\n",
       "\n",
       "    .dataframe tbody tr th {\n",
       "        vertical-align: top;\n",
       "    }\n",
       "\n",
       "    .dataframe thead th {\n",
       "        text-align: right;\n",
       "    }\n",
       "</style>\n",
       "<table border=\"1\" class=\"dataframe\">\n",
       "  <thead>\n",
       "    <tr style=\"text-align: right;\">\n",
       "      <th></th>\n",
       "      <th>Unnamed: 0</th>\n",
       "      <th>A01</th>\n",
       "      <th>A02</th>\n",
       "      <th>A03</th>\n",
       "      <th>B</th>\n",
       "      <th>C10-C12</th>\n",
       "      <th>C13-C15</th>\n",
       "      <th>C16</th>\n",
       "      <th>C17</th>\n",
       "      <th>C18</th>\n",
       "      <th>...</th>\n",
       "      <th>M71</th>\n",
       "      <th>M72</th>\n",
       "      <th>M73</th>\n",
       "      <th>M74_M75</th>\n",
       "      <th>N</th>\n",
       "      <th>O84</th>\n",
       "      <th>P85</th>\n",
       "      <th>Q</th>\n",
       "      <th>R_S</th>\n",
       "      <th>T</th>\n",
       "    </tr>\n",
       "  </thead>\n",
       "  <tbody>\n",
       "    <tr>\n",
       "      <th>0</th>\n",
       "      <td>A01</td>\n",
       "      <td>0.097939</td>\n",
       "      <td>0.000113</td>\n",
       "      <td>0.001136</td>\n",
       "      <td>0.000567</td>\n",
       "      <td>0.181394</td>\n",
       "      <td>0.007495</td>\n",
       "      <td>0.002370</td>\n",
       "      <td>0.002256</td>\n",
       "      <td>8.609811e-04</td>\n",
       "      <td>...</td>\n",
       "      <td>0.000240</td>\n",
       "      <td>2.329589e-03</td>\n",
       "      <td>0.000298</td>\n",
       "      <td>5.629345e-04</td>\n",
       "      <td>0.005179</td>\n",
       "      <td>0.000612</td>\n",
       "      <td>0.000347</td>\n",
       "      <td>5.671440e-04</td>\n",
       "      <td>0.001305</td>\n",
       "      <td>0</td>\n",
       "    </tr>\n",
       "    <tr>\n",
       "      <th>1</th>\n",
       "      <td>A02</td>\n",
       "      <td>0.000000</td>\n",
       "      <td>0.006829</td>\n",
       "      <td>0.000425</td>\n",
       "      <td>0.000012</td>\n",
       "      <td>0.001058</td>\n",
       "      <td>0.000002</td>\n",
       "      <td>0.007682</td>\n",
       "      <td>0.002543</td>\n",
       "      <td>1.702069e-04</td>\n",
       "      <td>...</td>\n",
       "      <td>0.000034</td>\n",
       "      <td>9.502826e-07</td>\n",
       "      <td>0.000081</td>\n",
       "      <td>3.402062e-05</td>\n",
       "      <td>0.000777</td>\n",
       "      <td>0.000000</td>\n",
       "      <td>0.000000</td>\n",
       "      <td>4.429787e-08</td>\n",
       "      <td>0.000175</td>\n",
       "      <td>0</td>\n",
       "    </tr>\n",
       "    <tr>\n",
       "      <th>2</th>\n",
       "      <td>A03</td>\n",
       "      <td>0.000000</td>\n",
       "      <td>0.000031</td>\n",
       "      <td>0.011247</td>\n",
       "      <td>0.000000</td>\n",
       "      <td>0.000476</td>\n",
       "      <td>0.000003</td>\n",
       "      <td>0.000000</td>\n",
       "      <td>0.000000</td>\n",
       "      <td>7.126055e-07</td>\n",
       "      <td>...</td>\n",
       "      <td>0.000003</td>\n",
       "      <td>5.729112e-06</td>\n",
       "      <td>0.000006</td>\n",
       "      <td>7.411210e-07</td>\n",
       "      <td>0.000012</td>\n",
       "      <td>0.000054</td>\n",
       "      <td>0.000061</td>\n",
       "      <td>8.677816e-05</td>\n",
       "      <td>0.000281</td>\n",
       "      <td>0</td>\n",
       "    </tr>\n",
       "    <tr>\n",
       "      <th>3</th>\n",
       "      <td>B</td>\n",
       "      <td>0.000122</td>\n",
       "      <td>0.000017</td>\n",
       "      <td>0.000103</td>\n",
       "      <td>0.001477</td>\n",
       "      <td>0.000432</td>\n",
       "      <td>0.000359</td>\n",
       "      <td>0.000326</td>\n",
       "      <td>0.000678</td>\n",
       "      <td>5.043343e-04</td>\n",
       "      <td>...</td>\n",
       "      <td>0.001273</td>\n",
       "      <td>1.384237e-03</td>\n",
       "      <td>0.001033</td>\n",
       "      <td>8.018579e-04</td>\n",
       "      <td>0.000879</td>\n",
       "      <td>0.000136</td>\n",
       "      <td>0.000258</td>\n",
       "      <td>4.759545e-04</td>\n",
       "      <td>0.000395</td>\n",
       "      <td>0</td>\n",
       "    </tr>\n",
       "    <tr>\n",
       "      <th>4</th>\n",
       "      <td>C10-C12</td>\n",
       "      <td>0.073600</td>\n",
       "      <td>0.000149</td>\n",
       "      <td>0.043837</td>\n",
       "      <td>0.001451</td>\n",
       "      <td>0.225659</td>\n",
       "      <td>0.010460</td>\n",
       "      <td>0.000780</td>\n",
       "      <td>0.003053</td>\n",
       "      <td>8.387346e-04</td>\n",
       "      <td>...</td>\n",
       "      <td>0.001015</td>\n",
       "      <td>1.784083e-03</td>\n",
       "      <td>0.002589</td>\n",
       "      <td>1.158860e-03</td>\n",
       "      <td>0.001811</td>\n",
       "      <td>0.000382</td>\n",
       "      <td>0.000445</td>\n",
       "      <td>2.781864e-03</td>\n",
       "      <td>0.003419</td>\n",
       "      <td>0</td>\n",
       "    </tr>\n",
       "  </tbody>\n",
       "</table>\n",
       "<p>5 rows × 56 columns</p>\n",
       "</div>"
      ],
      "text/plain": [
       "  Unnamed: 0       A01       A02       A03         B   C10-C12   C13-C15  \\\n",
       "0        A01  0.097939  0.000113  0.001136  0.000567  0.181394  0.007495   \n",
       "1        A02  0.000000  0.006829  0.000425  0.000012  0.001058  0.000002   \n",
       "2        A03  0.000000  0.000031  0.011247  0.000000  0.000476  0.000003   \n",
       "3          B  0.000122  0.000017  0.000103  0.001477  0.000432  0.000359   \n",
       "4    C10-C12  0.073600  0.000149  0.043837  0.001451  0.225659  0.010460   \n",
       "\n",
       "        C16       C17           C18  ...       M71           M72       M73  \\\n",
       "0  0.002370  0.002256  8.609811e-04  ...  0.000240  2.329589e-03  0.000298   \n",
       "1  0.007682  0.002543  1.702069e-04  ...  0.000034  9.502826e-07  0.000081   \n",
       "2  0.000000  0.000000  7.126055e-07  ...  0.000003  5.729112e-06  0.000006   \n",
       "3  0.000326  0.000678  5.043343e-04  ...  0.001273  1.384237e-03  0.001033   \n",
       "4  0.000780  0.003053  8.387346e-04  ...  0.001015  1.784083e-03  0.002589   \n",
       "\n",
       "        M74_M75         N       O84       P85             Q       R_S  T  \n",
       "0  5.629345e-04  0.005179  0.000612  0.000347  5.671440e-04  0.001305  0  \n",
       "1  3.402062e-05  0.000777  0.000000  0.000000  4.429787e-08  0.000175  0  \n",
       "2  7.411210e-07  0.000012  0.000054  0.000061  8.677816e-05  0.000281  0  \n",
       "3  8.018579e-04  0.000879  0.000136  0.000258  4.759545e-04  0.000395  0  \n",
       "4  1.158860e-03  0.001811  0.000382  0.000445  2.781864e-03  0.003419  0  \n",
       "\n",
       "[5 rows x 56 columns]"
      ]
     },
     "execution_count": 11,
     "metadata": {},
     "output_type": "execute_result"
    }
   ],
   "source": [
    "df = pd.read_csv('ita_wiot.csv',sep = ',',low_memory=False)\n",
    "df.head()"
   ]
  },
  {
   "cell_type": "code",
   "execution_count": 13,
   "id": "ef22029a",
   "metadata": {},
   "outputs": [
    {
     "data": {
      "text/plain": [
       "(55, 55)"
      ]
     },
     "execution_count": 13,
     "metadata": {},
     "output_type": "execute_result"
    }
   ],
   "source": [
    "df = df.iloc[0:55,1:56]# leaving out industries U and T\n",
    "df = df.astype('float')\n",
    "df.shape"
   ]
  },
  {
   "cell_type": "markdown",
   "id": "e32d8d62",
   "metadata": {},
   "source": [
    "**Creating matrix A**"
   ]
  },
  {
   "cell_type": "code",
   "execution_count": 14,
   "id": "3b209a29",
   "metadata": {},
   "outputs": [
    {
     "data": {
      "text/plain": [
       "(55, 55)"
      ]
     },
     "execution_count": 14,
     "metadata": {},
     "output_type": "execute_result"
    }
   ],
   "source": [
    "A = np.array(df)\n",
    "N = A.shape[0]\n",
    "A.shape"
   ]
  },
  {
   "cell_type": "code",
   "execution_count": 16,
   "id": "4c9a64bb",
   "metadata": {},
   "outputs": [
    {
     "data": {
      "text/plain": [
       "(55,)"
      ]
     },
     "execution_count": 16,
     "metadata": {},
     "output_type": "execute_result"
    }
   ],
   "source": [
    "x_0 = np.array(x)"
   ]
  },
  {
   "cell_type": "code",
   "execution_count": 17,
   "id": "8ba3cc01",
   "metadata": {},
   "outputs": [],
   "source": [
    "f_0 = np.array(f)"
   ]
  },
  {
   "cell_type": "markdown",
   "id": "c4ee14fb",
   "metadata": {},
   "source": [
    "# Leontief Model"
   ]
  },
  {
   "cell_type": "markdown",
   "id": "b2220798",
   "metadata": {},
   "source": [
    "**Calculating equilibrium when x is given**"
   ]
  },
  {
   "cell_type": "code",
   "execution_count": 18,
   "id": "a4c84cd3",
   "metadata": {},
   "outputs": [
    {
     "data": {
      "text/plain": [
       "0.8905066210075246"
      ]
     },
     "execution_count": 18,
     "metadata": {},
     "output_type": "execute_result"
    }
   ],
   "source": [
    "final_consumption = np.matmul(np.identity(N)-A, x_0)\n",
    "sum(f_max)/sum(final_consumption)"
   ]
  },
  {
   "cell_type": "markdown",
   "id": "281b0b20",
   "metadata": {},
   "source": [
    "**Computing equilibrium when f is given**"
   ]
  },
  {
   "cell_type": "code",
   "execution_count": 19,
   "id": "fa335ff9",
   "metadata": {},
   "outputs": [],
   "source": [
    "L = np.linalg.inv(np.identity(N)-A)"
   ]
  },
  {
   "cell_type": "code",
   "execution_count": 20,
   "id": "2abe2e96",
   "metadata": {},
   "outputs": [
    {
     "data": {
      "text/plain": [
       "0.7256416370029234"
      ]
     },
     "execution_count": 20,
     "metadata": {},
     "output_type": "execute_result"
    }
   ],
   "source": [
    "total_output = np.matmul(L, f_0)\n",
    "sum(x_max)/sum(x_0)"
   ]
  },
  {
   "cell_type": "code",
   "execution_count": 97,
   "id": "289f1fb1",
   "metadata": {},
   "outputs": [
    {
     "data": {
      "text/plain": [
       "(0.8795819626351601, 0.7193605871943034)"
      ]
     },
     "execution_count": 97,
     "metadata": {},
     "output_type": "execute_result"
    }
   ],
   "source": [
    "direct_shock = (sum(f_max)/sum(final_consumption), sum(x_max)/sum(total_output))\n",
    "direct_shock"
   ]
  },
  {
   "cell_type": "markdown",
   "id": "bed7504e",
   "metadata": {},
   "source": [
    "# Optimalization"
   ]
  },
  {
   "cell_type": "code",
   "execution_count": 21,
   "id": "395a2995",
   "metadata": {},
   "outputs": [],
   "source": [
    "from scipy.optimize import linprog"
   ]
  },
  {
   "cell_type": "markdown",
   "id": "7bed23c7",
   "metadata": {},
   "source": [
    "### Feasible Market Allocations\n",
    "Given exogenous constraints to supply and demand, what is the feasible market allocation that maximizes final consumption and/or total output? The solution needs to lie within exogenous bounds on supply and demand and also needs to satisfy the assumption of Leontief production:\n",
    "\n",
    "$$ x = Ax + f = Lf $$\n",
    "\n",
    "We seek market allocations {$x^*$ , $f^*$} that (a) respect the given production recipes $x^*=Lf^*$ and (b) satisfy basic output and demand constraints $x^* \\in [0, x^{max}]$ and $f^* \\in [0, f^{max}]$.\n",
    "\n",
    "**Optimization procedure**\n",
    "\n",
    "As a first case, we determine the market allocation that maximizes gross output under the assumptions specified. Large levels of output indicate high levels of ecomomic activity, which in turn entail high levels of primary factors such as labor compensation. As a second case, we look at market allocations that maximize final comsumption given current production capacities. Due to the linearity of the Leontief framework, the problem boils down to linear programming exercises.\n",
    "\n",
    "*Maximizing gross output*\n",
    "$$ \\text{max}_f \\qquad 1^T(I-A)^{-1}f $$\n",
    "$$ \\text{Subject to} \\quad (I-A)^{-1}f \\in [0, x^{max}] $$\n",
    "\n",
    "*Maximizing final consumption*\n",
    "$$ \\text{max}_x \\qquad 1^T(I-A)x $$\n",
    "$$ \\text{Subject to} \\quad (I-A)x \\in [0, f^{max}] $$"
   ]
  },
  {
   "cell_type": "markdown",
   "id": "02d604cd",
   "metadata": {},
   "source": [
    "### Maximizing total output"
   ]
  },
  {
   "cell_type": "code",
   "execution_count": 102,
   "id": "6a44bf74",
   "metadata": {},
   "outputs": [
    {
     "data": {
      "text/plain": [
       "(54,)"
      ]
     },
     "execution_count": 102,
     "metadata": {},
     "output_type": "execute_result"
    }
   ],
   "source": [
    "z = np.ones(N)\n",
    "z.shape"
   ]
  },
  {
   "cell_type": "code",
   "execution_count": 103,
   "id": "f9adab99",
   "metadata": {},
   "outputs": [],
   "source": [
    "obj = -np.matmul(np.matrix.transpose(z), L)\n",
    "lhs_ineq = np.concatenate((-L,L))\n",
    "rhs_ineq = np.concatenate((np.zeros(N), x_max))"
   ]
  },
  {
   "cell_type": "code",
   "execution_count": 104,
   "id": "72ec0e22",
   "metadata": {},
   "outputs": [],
   "source": [
    "bnd = []\n",
    "for i in range (0,N):\n",
    "    bnd2.append((0,f_max[i]))"
   ]
  },
  {
   "cell_type": "code",
   "execution_count": 105,
   "id": "5b599137",
   "metadata": {},
   "outputs": [
    {
     "data": {
      "text/plain": [
       "2839643.2558457777"
      ]
     },
     "execution_count": 105,
     "metadata": {},
     "output_type": "execute_result"
    }
   ],
   "source": [
    "result = linprog(c = obj, A_ub= lhs_ineq, b_ub= rhs_ineq, bounds = bnd)\n",
    "-result.fun"
   ]
  },
  {
   "cell_type": "code",
   "execution_count": 71,
   "id": "c8a10450",
   "metadata": {},
   "outputs": [],
   "source": [
    "optimal_f = np.ones(N)\n",
    "for i in range(0,N):\n",
    "    optimal_f[i] = result.x[i]"
   ]
  },
  {
   "cell_type": "code",
   "execution_count": 72,
   "id": "fd4d8bdb",
   "metadata": {},
   "outputs": [
    {
     "data": {
      "text/plain": [
       "2499607"
      ]
     },
     "execution_count": 72,
     "metadata": {},
     "output_type": "execute_result"
    }
   ],
   "source": [
    "optimal_output = round(-result.fun)\n",
    "optimal_output"
   ]
  },
  {
   "cell_type": "code",
   "execution_count": 73,
   "id": "98255879",
   "metadata": {},
   "outputs": [
    {
     "data": {
      "text/plain": [
       "0.6133399667012532"
      ]
     },
     "execution_count": 73,
     "metadata": {},
     "output_type": "execute_result"
    }
   ],
   "source": [
    "optimal_output/sum(x_0)"
   ]
  },
  {
   "cell_type": "code",
   "execution_count": 74,
   "id": "4aff966d",
   "metadata": {},
   "outputs": [
    {
     "data": {
      "text/plain": [
       "0.6399275423015803"
      ]
     },
     "execution_count": 74,
     "metadata": {},
     "output_type": "execute_result"
    }
   ],
   "source": [
    "sum(optimal_f)/sum(f_0)\n",
    "#sum(newf)/sum(final_consumption)"
   ]
  },
  {
   "cell_type": "code",
   "execution_count": 75,
   "id": "baf85c8c",
   "metadata": {},
   "outputs": [
    {
     "data": {
      "text/plain": [
       "(0.6133399667012532, 0.6399275423015803)"
      ]
     },
     "execution_count": 75,
     "metadata": {},
     "output_type": "execute_result"
    }
   ],
   "source": [
    "Max_output = (optimal_output/sum(x_0), sum(optimal_f)/sum(f_0))\n",
    "Max_output"
   ]
  },
  {
   "cell_type": "markdown",
   "id": "4264b266",
   "metadata": {},
   "source": [
    "### Maximizing final consumption"
   ]
  },
  {
   "cell_type": "code",
   "execution_count": 76,
   "id": "ad66d86f",
   "metadata": {},
   "outputs": [],
   "source": [
    "obj2 = -np.matmul(np.matrix.transpose(z), np.identity(N)-A)#ok\n",
    "lhs_ineq2 = np.concatenate((-(np.identity(N)-A), np.identity(N)-A))\n",
    "rhs_ineq2 = np.concatenate((np.zeros(N), f_max))"
   ]
  },
  {
   "cell_type": "code",
   "execution_count": 77,
   "id": "be22158e",
   "metadata": {},
   "outputs": [
    {
     "data": {
      "text/plain": [
       "55"
      ]
     },
     "execution_count": 77,
     "metadata": {},
     "output_type": "execute_result"
    }
   ],
   "source": [
    "bnd2 = []\n",
    "for i in range (0,N):\n",
    "    bnd2.append((0,x_max[i]))\n",
    "len(bnd2)"
   ]
  },
  {
   "cell_type": "code",
   "execution_count": 78,
   "id": "3f27011b",
   "metadata": {},
   "outputs": [
    {
     "data": {
      "text/plain": [
       "1499428.0933380148"
      ]
     },
     "execution_count": 78,
     "metadata": {},
     "output_type": "execute_result"
    }
   ],
   "source": [
    "result2 = linprog(c = obj2, A_ub= lhs_ineq2, b_ub= rhs_ineq2, bounds= bnd2)\n",
    "-result2.fun"
   ]
  },
  {
   "cell_type": "code",
   "execution_count": 106,
   "id": "66857500",
   "metadata": {},
   "outputs": [],
   "source": [
    "optimal_output_2 = np.ones(N)\n",
    "for i in range(0,N):\n",
    "    optimal_output_2[i] = round(result2.x[i])"
   ]
  },
  {
   "cell_type": "code",
   "execution_count": 80,
   "id": "9f139f4a",
   "metadata": {},
   "outputs": [
    {
     "data": {
      "text/plain": [
       "1499428"
      ]
     },
     "execution_count": 80,
     "metadata": {},
     "output_type": "execute_result"
    }
   ],
   "source": [
    "#optimal_f_2 = np.matmul(np.matmul(np.matrix.transpose(z), np.identity(N)-A ), optimal_output_2)\n",
    "optimal_f_2 = round(-result2.fun)\n",
    "optimal_f_2"
   ]
  },
  {
   "cell_type": "code",
   "execution_count": 83,
   "id": "51ec664f",
   "metadata": {},
   "outputs": [
    {
     "data": {
      "text/plain": [
       "(0.6133407028249319, 0.639927502466684)"
      ]
     },
     "execution_count": 83,
     "metadata": {},
     "output_type": "execute_result"
    }
   ],
   "source": [
    "Max_consumption = (sum(optimal_output_2)/sum(x_0),optimal_f_2/sum(f_0))\n",
    "Max_consumption"
   ]
  },
  {
   "cell_type": "markdown",
   "id": "a88e27e5",
   "metadata": {},
   "source": [
    "**Note that both optimization problems give almost the same solution**"
   ]
  },
  {
   "cell_type": "markdown",
   "id": "4bac4370",
   "metadata": {},
   "source": [
    "# Rationing"
   ]
  },
  {
   "cell_type": "markdown",
   "id": "435da42f",
   "metadata": {},
   "source": [
    "We leave out industry T:"
   ]
  },
  {
   "cell_type": "code",
   "execution_count": 84,
   "id": "fa44614b",
   "metadata": {},
   "outputs": [],
   "source": [
    "f_max = f_max[:54]\n",
    "x_max = x_max[:54]\n",
    "A = A[:54,:54]\n",
    "N = 54\n",
    "x_0 = x_0[:54]\n",
    "f_0 = f_0[:54]\n",
    "L = np.linalg.inv(np.identity(N)-A)"
   ]
  },
  {
   "cell_type": "markdown",
   "id": "3e84b6c6",
   "metadata": {},
   "source": [
    "### Input bottlenecks and rationing variations\n",
    "In contrast to the optimization methods, this represents a bottom-up approach for finding feasible market allocations. Industries place orders to their suppliers based on incoming demand. Since suppliers can be output constrained, they might not be able to satisfy demand fully. A supplier therefore needs to make a decision about how much of each customer’s demand it serves. Intermediate consumers transform inputs to outputs based on fixed production recipes. Thus if a customer receives less inputs than she asked for, she faces an input bottleneck further constraining her production. As a consequence, the customer reduces her demand for other inputs as they are not further needed under limited productive capacities. We iterate this procedure forward until the algorithm converges.\n",
    "\n",
    "**Strict Proportional Rationing**\n",
    "\n",
    "If industries are unable to satisfy total incoming demand completely, they distribute output proportional to their customers’ demand, where no distinction is made between intermediate and final customers. We implement the rationing algorithm in the following way:\n",
    "1. Industries determine their total demand as if there were no supply-side constraints, $d = Lf^{\\text{max}}$;\n",
    "2. Industries evaluate if they are able to satisfy demand goven their constrained production capacities;\n",
    "3. Industries that only partially satisfy demand, create a bottleneck;\n",
    "4. Industries reduce their production according to the largest input bottleneck (assumption of fixed recipes);\n",
    "5. The total amount of goods delivered to the final consumer is computed;\n",
    "6. Iterate 1-5 until there are no input constraints left.\n",
    "\n",
    "Formulas:\n",
    "\n",
    "$$ r_i[t] = \\frac{x_i^{\\text{max}}}{d_i[t]} $$\n",
    "\n",
    "$$ s_i[t] = min_j \\{r_j[t], 1\\} $$\n",
    "\n",
    "$$ x_i[t] = \\text{min}\\{x_i^{\\text{max}}, s_i[t]d_i[t]\\} $$\n",
    "\n",
    "$$ f_i[t] = \\text{max} \\Big\\{ x_i[t] - \\sum_{i} a_{ij} x_j[t], 0 \\Big\\}$$\n",
    "\n",
    "$$ d_i[t+1] = \\sum_{j} l_{ij} f_j[t] $$\n",
    "\n",
    "The algorithm converges to a new feasible economic allocation if $d_i[t+1] = d_i[t]$ for all i.\n",
    "\n",
    "*Implementation*"
   ]
  },
  {
   "cell_type": "code",
   "execution_count": 85,
   "id": "7bfeaa17",
   "metadata": {},
   "outputs": [],
   "source": [
    "def algo_proportional(A, L, fmax, xmax, prioritize=\"no\"):\n",
    "    x = [0]\n",
    "    fvec = [] #initial demand vector\n",
    "    fvec.append(fmax)\n",
    "    r = [0] # output constraints\n",
    "    s = [0] # input bottlenecks \n",
    "    output_constraints = [1] \n",
    "    d = [0] # aggregated demand vector \n",
    "    d.append(np.matmul(L, fvec[0])) #d[1] = L*f[0]\n",
    "\n",
    "    #print('Aggregated Demand:         {}'.format(d[1]))\n",
    "    t=1\n",
    "    epsilon = 1e-6\n",
    "    while not np.all(abs(d[t] - d[t-1]) < epsilon):\n",
    "        print('\\nIteration {0}'.format(t))\n",
    "        print('---------')\n",
    "        #print('Initial aggregated demand: {}'.format(d[t]))\n",
    "        r.append(np.ones(len(xmax)))\n",
    "        s.append(np.ones(len(xmax)))\n",
    "        fvec.append(np.ones(len(xmax)))\n",
    "        x.append(np.ones(len(xmax)))\n",
    "        d.append(np.ones(len(xmax)))\n",
    "        for i in range (0,len(x_max)):\n",
    "            r[t][i] = x_max[i]/d[t][i]\n",
    "            #print('Output constraints:         {}'.format(r[t]))\n",
    "        for i in range(0,len(x_max)):\n",
    "            for j in range(0,len(x_max)):\n",
    "                if A[j][i] > 0:\n",
    "                    output_constraints.append(r[t][j])\n",
    "            s[t][i] = min(output_constraints)\n",
    "            output_constraints = [1]\n",
    "        print('Input bottlenecks:         {}'.format(s[t]))\n",
    "        for i in range(0,len(xmax)):\n",
    "            x[t][i] = min(xmax[i], s[t][i]*d[t][i])\n",
    "        # print('Constrained production:    {}'.format(x[t]))\n",
    "        for i in range(0,len(xmax)):\n",
    "            fvec[t][i] = max(x[t][i] - np.matmul(A[i],x[t]),0)\n",
    "        # print('Constrained delivery:      {}'.format(f[t]))\n",
    "        for i in range(0,len(xmax)):\n",
    "            d[t+1][i] = np.matmul(L[i],fvec[t])\n",
    "        t=t+1\n",
    "        #print('Aggregated Demand:         {}'.format(d[t]))\n",
    "    return sum(x[t-1])/sum(x_0), sum(fvec[t-1])/sum(f_0)\n"
   ]
  },
  {
   "cell_type": "code",
   "execution_count": 86,
   "id": "18c6699b",
   "metadata": {},
   "outputs": [
    {
     "name": "stdout",
     "output_type": "stream",
     "text": [
      "\n",
      "Iteration 1\n",
      "---------\n",
      "Input bottlenecks:         [0.30540743 0.16162652 0.16162652 0.16162652 0.16162652 0.16162652\n",
      " 0.16162652 0.16162652 0.16162652 0.16162652 0.16162652 0.16162652\n",
      " 0.16162652 0.16162652 0.16162652 0.16162652 0.16162652 0.16162652\n",
      " 0.16162652 0.16162652 0.16162652 0.16162652 0.16162652 0.16162652\n",
      " 0.16162652 0.16162652 0.16162652 0.16162652 0.16162652 0.16162652\n",
      " 0.16162652 0.16162652 0.30540743 0.16162652 0.16162652 0.16162652\n",
      " 0.16162652 0.16162652 0.30540743 0.16162652 0.30540743 0.30540743\n",
      " 0.30540743 0.16162652 0.16162652 0.16162652 0.16162652 0.16162652\n",
      " 0.16162652 0.16162652 0.30540743 0.30540743 0.16162652 0.16162652]\n",
      "\n",
      "Iteration 2\n",
      "---------\n",
      "Input bottlenecks:         [1.         0.99988502 0.99988502 0.99988502 0.99988502 0.99988502\n",
      " 0.99988502 0.99988502 0.99988502 0.99988502 0.99988502 0.99988502\n",
      " 0.99988502 0.99988502 0.99988502 0.99988502 0.99988502 0.99988502\n",
      " 0.99988502 0.99988502 0.99988502 0.99988502 0.99988502 0.99988502\n",
      " 0.99988502 0.99988502 0.99988502 0.99988502 0.99988502 0.99988502\n",
      " 0.99988502 0.99988502 1.         0.99988502 0.99988502 0.99988502\n",
      " 0.99988502 0.99988502 1.         0.99988502 1.         1.\n",
      " 1.         0.99988502 0.99988502 0.99988502 0.99988502 0.99988502\n",
      " 0.99988502 0.99988502 1.         1.         0.99988502 0.99988502]\n",
      "\n",
      "Iteration 3\n",
      "---------\n",
      "Input bottlenecks:         [1.         0.99999974 0.99999974 0.99999974 0.99999974 0.99999974\n",
      " 0.99999974 0.99999974 0.99999974 0.99999974 0.99999974 0.99999974\n",
      " 0.99999974 0.99999974 0.99999974 0.99999974 0.99999974 0.99999974\n",
      " 0.99999974 0.99999974 0.99999974 0.99999974 0.99999974 0.99999974\n",
      " 0.99999974 0.99999974 0.99999974 0.99999974 0.99999974 0.99999974\n",
      " 0.99999974 0.99999974 1.         0.99999974 0.99999974 0.99999974\n",
      " 0.99999974 0.99999974 1.         0.99999974 1.         1.\n",
      " 1.         0.99999974 0.99999974 0.99999974 0.99999974 0.99999974\n",
      " 0.99999974 0.99999974 1.         1.         0.99999974 0.99999974]\n",
      "\n",
      "Iteration 4\n",
      "---------\n",
      "Input bottlenecks:         [1. 1. 1. 1. 1. 1. 1. 1. 1. 1. 1. 1. 1. 1. 1. 1. 1. 1. 1. 1. 1. 1. 1. 1.\n",
      " 1. 1. 1. 1. 1. 1. 1. 1. 1. 1. 1. 1. 1. 1. 1. 1. 1. 1. 1. 1. 1. 1. 1. 1.\n",
      " 1. 1. 1. 1. 1. 1.]\n",
      "\n",
      "Iteration 5\n",
      "---------\n",
      "Input bottlenecks:         [1. 1. 1. 1. 1. 1. 1. 1. 1. 1. 1. 1. 1. 1. 1. 1. 1. 1. 1. 1. 1. 1. 1. 1.\n",
      " 1. 1. 1. 1. 1. 1. 1. 1. 1. 1. 1. 1. 1. 1. 1. 1. 1. 1. 1. 1. 1. 1. 1. 1.\n",
      " 1. 1. 1. 1. 1. 1.]\n"
     ]
    },
    {
     "data": {
      "text/plain": [
       "(0.16225463865054215, 0.1687630239228383)"
      ]
     },
     "execution_count": 86,
     "metadata": {},
     "output_type": "execute_result"
    }
   ],
   "source": [
    "result_proportional = algo_proportional(A, L, f_max, x_max, prioritize=\"no\")\n",
    "result_proportional"
   ]
  },
  {
   "cell_type": "markdown",
   "id": "e48172c7",
   "metadata": {},
   "source": [
    "## Mixed priority/proportional rationing"
   ]
  },
  {
   "cell_type": "markdown",
   "id": "31431ffd",
   "metadata": {},
   "source": [
    "We implement the rationing algorithm in the following way:\n",
    "1. Industries determine their total demand as if there were no supply-side constraints, $d = Lf^{\\text{max}}$;\n",
    "2. Industries evaluate if they are able to satisfy demand given their constrained production capacities;\n",
    "3. Industries that only partially satisfy demand, create a bottleneck;\n",
    "4. Industries reduce their production according to the largest input bottleneck (assumption of fixed recipes);\n",
    "5. The total amount of goods delivered to the final consumer is computed;\n",
    "6. Iterate 1-5 until there are no input constraints left.\n",
    "\n",
    "Formulas:\n",
    "\n",
    "$$ r_i[t] = \\frac{x_i^{\\text{max}}}{\\sum_{j}A_{ij}d_j[t]} $$\n",
    "\n",
    "$$ s_i[t] = min_j \\{r_j[t], 1\\} $$\n",
    "\n",
    "$$ x_i[t] = \\text{min}\\{x_i^{\\text{max}}, s_i[t]d_i[t]\\} $$\n",
    "\n",
    "$$ f_i[t] = \\text{max} \\Big\\{ x_i[t] - \\sum_{i} a_{ij} x_j[t], 0 \\Big\\}$$\n",
    "\n",
    "$$ d_i[t+1] = \\sum_{j} l_{ij} f_j[t] $$\n",
    "\n",
    "The algorithm converges to a new feasible economic allocation if $d_i[t+1] = d_i[t]$ for all i.\n",
    "\n",
    "*Implementation*"
   ]
  },
  {
   "cell_type": "code",
   "execution_count": 87,
   "id": "8b4c14db",
   "metadata": {},
   "outputs": [],
   "source": [
    "def algo_mixed(A, L, fmax, xmax, prioritize=\"yes\"):\n",
    "    x = [0]\n",
    "    demand = [] #initial demand vector\n",
    "    demand.append(fmax)\n",
    "    r = [0] # output constraints\n",
    "    s = [0] # input bottlenecks \n",
    "    output_constraints = [1] \n",
    "    d = [0] # aggregated demand vector \n",
    "    d.append(np.matmul(L, demand[0])) #d[1] = L*f[0]\n",
    "\n",
    "    #print('Aggregated Demand:         {}'.format(d[1]))\n",
    "    t=1\n",
    "    epsilon = 1e-6\n",
    "    while not np.all(abs(d[t] - d[t-1]) < epsilon):\n",
    "        print('\\nIteration {0}'.format(t))\n",
    "        print('---------')\n",
    "        #print('Initial aggregated demand: {}'.format(d[t]))\n",
    "        r.append(np.ones(len(xmax)))\n",
    "        s.append(np.ones(len(xmax)))\n",
    "        demand.append(np.ones(len(xmax)))\n",
    "        x.append(np.ones(len(xmax)))\n",
    "        d.append(np.ones(len(xmax)))\n",
    "        for i in range (0,len(x_max)):\n",
    "            r[t][i] = xmax[i]/np.matmul(A[i],d[t])\n",
    "            #print('Output constraints:         {}'.format(r[t]))\n",
    "        for i in range(0,len(x_max)):\n",
    "            for j in range(0,len(x_max)):\n",
    "                if A[j][i] > 0:\n",
    "                    output_constraints.append(r[t][j])\n",
    "            s[t][i] = min(output_constraints)\n",
    "            output_constraints = [1]\n",
    "        print('Input bottlenecks:         {}'.format(s[t]))\n",
    "        for i in range(0,len(xmax)):\n",
    "            x[t][i] = min(xmax[i], s[t][i]*d[t][i])\n",
    "        # print('Constrained production:    {}'.format(x[t]))\n",
    "        for i in range(0,len(xmax)):\n",
    "            demand[t][i] = max(x[t][i] - np.matmul(A[i],x[t]),0)\n",
    "        # print('Constrained delivery:      {}'.format(f[t]))\n",
    "        for i in range(0,len(xmax)):\n",
    "            d[t+1][i] = np.matmul(L[i],demand[t])\n",
    "        t=t+1\n",
    "        #print('Aggregated Demand:         {}'.format(d[t]))\n",
    "    return sum(x[t-1])/sum(x_0), sum(demand[t-1])/sum(f_0)"
   ]
  },
  {
   "cell_type": "code",
   "execution_count": 88,
   "id": "24ae4d4b",
   "metadata": {},
   "outputs": [
    {
     "name": "stdout",
     "output_type": "stream",
     "text": [
      "\n",
      "Iteration 1\n",
      "---------\n",
      "Input bottlenecks:         [0.54621391 0.49548179 0.49548179 0.49548179 0.49548179 0.49548179\n",
      " 0.49548179 0.49548179 0.49548179 0.49548179 0.49548179 0.49548179\n",
      " 0.49548179 0.49548179 0.49548179 0.49548179 0.49548179 0.49548179\n",
      " 0.49548179 0.49548179 0.49548179 0.49548179 0.49548179 0.49548179\n",
      " 0.49548179 0.49548179 0.49548179 0.49548179 0.49548179 0.49548179\n",
      " 0.49548179 0.49548179 0.54621391 0.49548179 0.49548179 0.49548179\n",
      " 0.49548179 0.49548179 0.54621391 0.49548179 0.54621391 0.54621391\n",
      " 0.54621391 0.49548179 0.49548179 0.49548179 0.49548179 0.49548179\n",
      " 0.49548179 0.49548179 0.54621391 0.54621391 0.49548179 0.49548179]\n",
      "\n",
      "Iteration 2\n",
      "---------\n",
      "Input bottlenecks:         [1. 1. 1. 1. 1. 1. 1. 1. 1. 1. 1. 1. 1. 1. 1. 1. 1. 1. 1. 1. 1. 1. 1. 1.\n",
      " 1. 1. 1. 1. 1. 1. 1. 1. 1. 1. 1. 1. 1. 1. 1. 1. 1. 1. 1. 1. 1. 1. 1. 1.\n",
      " 1. 1. 1. 1. 1. 1.]\n"
     ]
    },
    {
     "data": {
      "text/plain": [
       "(0.4326791328395896, 0.4412252521612323)"
      ]
     },
     "execution_count": 88,
     "metadata": {},
     "output_type": "execute_result"
    }
   ],
   "source": [
    "result_mixed = algo_mixed(A, L, f_max, x_max, prioritize=\"yes\")\n",
    "result_mixed"
   ]
  },
  {
   "cell_type": "markdown",
   "id": "a00430fc",
   "metadata": {},
   "source": [
    "## Priority rationing"
   ]
  },
  {
   "cell_type": "markdown",
   "id": "1cb1a8da",
   "metadata": {},
   "source": [
    "Largest first rationing; firms are prioritized over the final consumer. Take\n",
    "an initial demand vector $f[0] = f$\n",
    "max as given, implying an initial aggregate demand vector\n",
    "$d[1] = Lf[0]$. Every firm $i$ ranks each customers based on initial demand size. Let  $h_{ij}$ be the $j$ largest customers of firm $i$: $h_{ij} =\n",
    "\\{k(1), k(2), ..., k(j)\n",
    ": A_{ik(1)}d_{k(1)} [1] ≥ A_{ik(2)}d_{k(2)} [1] ≥ ... ≥ A_{ik(j)}\n",
    "d_{k(j)}[1] \\}$. By looping over the\n",
    "index $t = {1, 2, ...}$, the following system is iterated forward:\n",
    "\n",
    "Formulas:\n",
    "\n",
    "$$ r_{ij}[t] = \\frac{x_i^{\\text{max}}}{\\sum_{n\\in h_{ij}}A_{ih(j)}d_{n_{(j)}}[t]} $$\n",
    "\n",
    "$$ s_i[t] = min_j \\{r_{ji}[t], 1\\} $$\n",
    "\n",
    "$$ x_i[t] = \\text{min}\\{x_i^{\\text{max}}, s_i[t]d_i[t]\\} $$\n",
    "\n",
    "$$ f_i[t] = \\text{max} \\Big\\{ x_i[t] - \\sum_{i} a_{ij} x_j[t], 0 \\Big\\}$$\n",
    "\n",
    "$$ d_i[t+1] = \\sum_{j} l_{ij} f_j[t] $$\n",
    "\n",
    "The algorithm converges to a new feasible economic allocation if $d_i[t+1] = d_i[t]$ for all i."
   ]
  },
  {
   "cell_type": "code",
   "execution_count": 89,
   "id": "62e956d4",
   "metadata": {},
   "outputs": [],
   "source": [
    "d = np.matmul(L, f_max)\n",
    "list_1 = []   #lijst die we gaan sorteren van groot naar klein\n",
    "list_2 = []   #lijst die niet gesorteerd wordt om oorspronkelijke indices terug te vinden\n",
    "for i in range(A.shape[0]):\n",
    "    list_1.append([])\n",
    "    list_2.append([])\n",
    "for i in range(A.shape[0]):\n",
    "    for j in range(A.shape[0]):\n",
    "        list_1[i].append(A[i][j]*d[j])     # list_1[i][j] = list_2[i][j] = A[i][j]*d[j]\n",
    "        list_2[i].append(A[i][j]*d[j])\n",
    "    list_1[i].sort(reverse = True)              #list_1 sorteren van groot naar klein: A[i][j]*d[j] >= A[i][j+1]*d[j+1]\n",
    "\n",
    "names_ordered=[]\n",
    "for i in range(A.shape[0]):\n",
    "    names_ordered.append([])\n",
    "    \n",
    "for i in range(A.shape[0]):\n",
    "    for k in list_1[i]:                 # we willen nu de indices van de j+1 (j van 0 tot en met N-1) grootste suppliers  \n",
    "            for l in range(A.shape[0]):   #van firm i. Hiervoor gebruiken we de ongesorteerde lijst (list_2)\n",
    "                if list_2[i][l] == k:\n",
    "                    names_ordered[i].append(l)    "
   ]
  },
  {
   "cell_type": "code",
   "execution_count": 90,
   "id": "132598ee",
   "metadata": {},
   "outputs": [],
   "source": [
    "def algo_priority(A, L, fmax, xmax, ordered, prioritize=\"yes\"):    \n",
    "    x = [0]\n",
    "    fvec = [] #initial demand vector\n",
    "    fvec.append(fmax)\n",
    "    rvec = [0] # output constraints\n",
    "    s = [0] # input bottlenecks \n",
    "    output_constraints = [1] \n",
    "    d = [0] # aggregated demand vector \n",
    "    d.append(np.matmul(L, fvec[0])) #d[1] = L*f[0]\n",
    "    som = 0\n",
    "    #print('Aggregated Demand:         {}'.format(d[1]))\n",
    "    t=1\n",
    "    epsilon = 1e-6\n",
    "    \n",
    "    while not np.all(abs(d[t] - d[t-1]) < epsilon):\n",
    "        #print('\\nIteration {0}'.format(t))\n",
    "        #print('---------')\n",
    "        #print('Initial aggregated demand: {}'.format(d[t]))\n",
    "        rvec.append([np.zeros(N)])\n",
    "        s.append(np.ones(N))\n",
    "        fvec.append(np.ones(N))\n",
    "        x.append(np.ones(N))\n",
    "        d.append(np.ones(N))\n",
    "        demand = np.identity(N)\n",
    "        for i in range(0,N):\n",
    "            for j in range(0,N):\n",
    "                for k in ordered[i][:j+1]:\n",
    "                    som = som + A[i][k]*d[t][k] \n",
    "                demand[i][j] = som   #demand[i][j] = demand of j'th biggest customers of firm i summed up\n",
    "                som = 0\n",
    "        remainder = np.identity(N)\n",
    "    \n",
    "        for i in range(0,N):\n",
    "            for j in range(0,N):\n",
    "                remainder[i][j] = x_max[i] - demand[i][j]\n",
    "                \n",
    "        ####################################################\n",
    "        ####################### rvec #######################\n",
    "        ####################################################\n",
    "        for i in range(0,N):\n",
    "            rvec[t].append([])\n",
    "        for i in range(0,N):\n",
    "            if all(remainder[i][j]>0 for j in range(0,N)):\n",
    "                rvec[t][i] = np.ones(N) \n",
    "            elif all(remainder[i][j]<=0 for j in range(0,N)): \n",
    "                rvec[t][i] = np.zeros(N)\n",
    "                for k in ordered[i][:1]: \n",
    "                    rvec[t][i][k] = x_max[i]/demand[i][0]\n",
    "        \n",
    "            else: \n",
    "                idx = np.where(remainder[i]<=0) # index for partially met demand\n",
    "                idx_fully = np.where(remainder[i]>0) \n",
    "                length = len(idx_fully[0])\n",
    "                rvec[t][i] = np.zeros(N)\n",
    "                for l in range(0,length-1):\n",
    "                    index = ordered[i][l]\n",
    "                    rvec[t][i][index] = 1\n",
    "                m = ordered[i][length-1]\n",
    "                rvec[t][i][m] = remainder[i][length-1]/(demand[i][length]-demand[i][length-1])\n",
    "                \n",
    "        #####################################################\n",
    "        ################# Input bottlenecks #################\n",
    "        #####################################################\n",
    "        for i in range(0,N):\n",
    "            for j in range(0,N):\n",
    "                if A[j][i]>0:\n",
    "                    output_constraints.append(rvec[t][j][i])\n",
    "            s[t][i] = min(output_constraints)\n",
    "            output_constraints = [1]   \n",
    "        #print('Input bottlenecks:         {}'.format(s[t]))\n",
    "        \n",
    "        ######################################################\n",
    "        ############### Constrained Production ###############\n",
    "        ######################################################\n",
    "        for i in range(0,N):\n",
    "            x[t][i] = min(xmax[i], s[t][i]*d[t][i])\n",
    "            \n",
    "        ######################################################\n",
    "        ################ Constrained Delivery ################\n",
    "        ######################################################\n",
    "        for i in range(0,len(xmax)):\n",
    "            fvec[t][i] = max(x[t][i] - np.matmul(A[i],x[t]),0)\n",
    "        \n",
    "        ######################################################\n",
    "        ################ Aggregated demand ###################\n",
    "        ######################################################\n",
    "        for i in range(0,len(xmax)):\n",
    "            d[t+1][i] = np.matmul(L[i],fvec[t])\n",
    "            \n",
    "        t=t+1\n",
    "    return sum(x[t-1])/sum(x_0), sum(fvec[t-1])/sum(f_0)"
   ]
  },
  {
   "cell_type": "code",
   "execution_count": 91,
   "id": "35e86d71",
   "metadata": {},
   "outputs": [],
   "source": [
    "result_priority = algo_priority(A, L, f_max, x_max, names_ordered, prioritize=\"yes\")"
   ]
  },
  {
   "cell_type": "markdown",
   "id": "a9c9ec1e",
   "metadata": {},
   "source": [
    "## Random rationing"
   ]
  },
  {
   "cell_type": "code",
   "execution_count": 92,
   "id": "7bb28f74",
   "metadata": {},
   "outputs": [],
   "source": [
    "from random import randrange"
   ]
  },
  {
   "cell_type": "code",
   "execution_count": 93,
   "id": "c0aa9281",
   "metadata": {},
   "outputs": [
    {
     "name": "stdout",
     "output_type": "stream",
     "text": [
      "0.03694802199188354\n",
      "0.03886760797721967\n"
     ]
    }
   ],
   "source": [
    "x = []\n",
    "y = []\n",
    "while len(x)<300:\n",
    "    random_ordered=[]\n",
    "    for i in range(N):\n",
    "        random_ordered.append([])\n",
    "    \n",
    "    for i in range(N):\n",
    "        while len(random_ordered[i])<N:\n",
    "            random = randrange(N)\n",
    "            while random in random_ordered[i]:\n",
    "                random = randrange(N)# we willen nu de indices van de j+1 (j van 0 tot en met N-1) grootste suppliers  \n",
    "            random_ordered[i].append(random)\n",
    "\n",
    "    result_x = algo_priority(A, L, f_max, x_max, random_ordered, prioritize=\"yes\")[0]\n",
    "    result_y = algo_priority(A, L, f_max, x_max, random_ordered, prioritize=\"yes\")[1]\n",
    "    x.append(result_x)\n",
    "    y.append(result_y)\n",
    "result_random = (sum(x)/len(x), sum(y)/len(y))\n",
    "print(sum(x)/len(x))\n",
    "print(sum(y)/len(y))"
   ]
  },
  {
   "cell_type": "code",
   "execution_count": 43,
   "id": "a8cd81ca",
   "metadata": {},
   "outputs": [
    {
     "data": {
      "text/plain": [
       "0.035703002840360286"
      ]
     },
     "execution_count": 43,
     "metadata": {},
     "output_type": "execute_result"
    }
   ],
   "source": [
    "result_random[0]"
   ]
  },
  {
   "cell_type": "code",
   "execution_count": 94,
   "id": "f0edbf3e",
   "metadata": {},
   "outputs": [
    {
     "name": "stdout",
     "output_type": "stream",
     "text": [
      "(0.16225463865054215, 0.1687630239228383)\n",
      "(0.4326791328395896, 0.4412252521612323)\n",
      "(0.0, 0.0)\n",
      "(0.03694802199188354, 0.03886760797721967)\n"
     ]
    }
   ],
   "source": [
    "print(result_proportional)\n",
    "print(result_mixed)\n",
    "print(result_priority)\n",
    "print(result_random)"
   ]
  },
  {
   "cell_type": "code",
   "execution_count": 99,
   "id": "a727bd04",
   "metadata": {},
   "outputs": [
    {
     "data": {
      "image/png": "[encoded data removed]",
      "text/plain": [
       "<Figure size 640x480 with 1 Axes>"
      ]
     },
     "metadata": {},
     "output_type": "display_data"
    }
   ],
   "source": [
    "import matplotlib.pyplot as plt\n",
    "plt.style.use('ggplot')\n",
    "plt.title(\"Italy\")\n",
    "plt.grid(visible=None, which='major', axis='both', linestyle='-', linewidth=1)\n",
    "\n",
    "plt.plot(result_proportional[0], result_proportional[1], 'b^')\n",
    "plt.plot(result_mixed[0], result_mixed[1], 'b^')\n",
    "plt.plot(result_priority[0], result_priority[1], 'b^')\n",
    "plt.plot(result_random[0], result_random[1], 'b^')\n",
    "plt.plot(Max_consumption[0], Max_consumption[1], 'b^')\n",
    "plt.plot(Max_output[0], Max_output[1], 'b^')\n",
    "plt.plot(direct_shock[0], direct_shock[1], 'b^')\n",
    "\n",
    "plt.text(0.1,0.12,'Proportional')\n",
    "plt.text(0.4,0.38,'Mixed')\n",
    "plt.text(0.0,0.07,'Random')\n",
    "plt.text(-0.04,-0.06,'Priority')\n",
    "plt.text(0.58,0.67, 'Maximize f')\n",
    "plt.text(0.53,0.58, 'Maximize x')\n",
    "plt.text(0.79,0.75, 'Direct shock')\n",
    "\n",
    "plt.xlim(-0.09, 1) \n",
    "plt.ylim(-0.09,1)\n",
    "\n",
    "plt.xlabel(\"Final Consumption\")\n",
    "plt.ylabel(\"Gross Output\")\n",
    "plt.savefig('plot_Italy.png')\n",
    "plt.show()"
   ]
  }
 ],
 "metadata": {
  "kernelspec": {
   "display_name": "venv test",
   "language": "python",
   "name": "venv"
  },
  "language_info": {
   "codemirror_mode": {
    "name": "ipython",
    "version": 3
   },
   "file_extension": ".py",
   "mimetype": "text/x-python",
   "name": "python",
   "nbconvert_exporter": "python",
   "pygments_lexer": "ipython3",
   "version": "3.10.9"
  }
 },
 "nbformat": 4,
 "nbformat_minor": 5
}
