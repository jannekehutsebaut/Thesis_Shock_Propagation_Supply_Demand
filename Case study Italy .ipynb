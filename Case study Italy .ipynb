{
 "cells": [
  {
   "cell_type": "code",
   "execution_count": 1,
   "id": "d69dad87",
   "metadata": {},
   "outputs": [],
   "source": [
    "import pandas as pd\n",
    "import numpy as np"
   ]
  },
  {
   "cell_type": "markdown",
   "id": "d575f677",
   "metadata": {},
   "source": [
    "# Data for final consumption and total output"
   ]
  },
  {
   "cell_type": "markdown",
   "id": "d12500d2",
   "metadata": {},
   "source": [
    "We apply our models to the input-output data of Germany. The data\n",
    "we use for initial output and final consumption per industry, as well as the supply and\n",
    "demand shock data is taken from:\n",
    "\n",
    "Pichler, A. and Farmer, J. D. (2021b). Simultaneous supply and demand constraints in\n",
    "input–output networks: the case of covid-19 in Germany, Italy and Spain (Version V1).\n",
    "Zenodo. https://doi.org/10.5281/zenodo.4326815"
   ]
  },
  {
   "cell_type": "markdown",
   "id": "9118cff0",
   "metadata": {},
   "source": [
    "## Final consumption"
   ]
  },
  {
   "cell_type": "code",
   "execution_count": 2,
   "id": "a0c01f4c",
   "metadata": {},
   "outputs": [
    {
     "data": {
      "text/html": [
       "<div>\n",
       "<style scoped>\n",
       "    .dataframe tbody tr th:only-of-type {\n",
       "        vertical-align: middle;\n",
       "    }\n",
       "\n",
       "    .dataframe tbody tr th {\n",
       "        vertical-align: top;\n",
       "    }\n",
       "\n",
       "    .dataframe thead th {\n",
       "        text-align: right;\n",
       "    }\n",
       "</style>\n",
       "<table border=\"1\" class=\"dataframe\">\n",
       "  <thead>\n",
       "    <tr style=\"text-align: right;\">\n",
       "      <th></th>\n",
       "      <th>Unnamed: 0</th>\n",
       "      <th>f</th>\n",
       "      <th>fmin</th>\n",
       "      <th>fmax</th>\n",
       "      <th>f.maxF</th>\n",
       "      <th>f.maxX</th>\n",
       "    </tr>\n",
       "  </thead>\n",
       "  <tbody>\n",
       "    <tr>\n",
       "      <th>0</th>\n",
       "      <td>A01</td>\n",
       "      <td>23713.831192</td>\n",
       "      <td>0</td>\n",
       "      <td>21345.327192</td>\n",
       "      <td>2.134533e+04</td>\n",
       "      <td>21345.327192</td>\n",
       "    </tr>\n",
       "    <tr>\n",
       "      <th>1</th>\n",
       "      <td>A02</td>\n",
       "      <td>1287.390162</td>\n",
       "      <td>0</td>\n",
       "      <td>1238.167593</td>\n",
       "      <td>7.089618e-11</td>\n",
       "      <td>0.000000</td>\n",
       "    </tr>\n",
       "    <tr>\n",
       "      <th>2</th>\n",
       "      <td>A03</td>\n",
       "      <td>1144.893223</td>\n",
       "      <td>0</td>\n",
       "      <td>1030.403900</td>\n",
       "      <td>1.030404e+03</td>\n",
       "      <td>1030.403900</td>\n",
       "    </tr>\n",
       "    <tr>\n",
       "      <th>3</th>\n",
       "      <td>B</td>\n",
       "      <td>9853.060356</td>\n",
       "      <td>0</td>\n",
       "      <td>8868.240274</td>\n",
       "      <td>6.504931e+03</td>\n",
       "      <td>6504.930858</td>\n",
       "    </tr>\n",
       "    <tr>\n",
       "      <th>4</th>\n",
       "      <td>C10-C12</td>\n",
       "      <td>94671.008208</td>\n",
       "      <td>0</td>\n",
       "      <td>85212.776296</td>\n",
       "      <td>3.342065e+04</td>\n",
       "      <td>33420.652971</td>\n",
       "    </tr>\n",
       "  </tbody>\n",
       "</table>\n",
       "</div>"
      ],
      "text/plain": [
       "  Unnamed: 0             f  fmin          fmax        f.maxF        f.maxX\n",
       "0        A01  23713.831192     0  21345.327192  2.134533e+04  21345.327192\n",
       "1        A02   1287.390162     0   1238.167593  7.089618e-11      0.000000\n",
       "2        A03   1144.893223     0   1030.403900  1.030404e+03   1030.403900\n",
       "3          B   9853.060356     0   8868.240274  6.504931e+03   6504.930858\n",
       "4    C10-C12  94671.008208     0  85212.776296  3.342065e+04  33420.652971"
      ]
     },
     "execution_count": 2,
     "metadata": {},
     "output_type": "execute_result"
    }
   ],
   "source": [
    "fdata = pd.read_csv('fdata_ita.csv', sep = ',')\n",
    "fdata.head()"
   ]
  },
  {
   "cell_type": "code",
   "execution_count": 3,
   "id": "e4bc9908",
   "metadata": {},
   "outputs": [],
   "source": [
    "f_initial = fdata.iloc[:,1].astype('float')"
   ]
  },
  {
   "cell_type": "code",
   "execution_count": 4,
   "id": "b90b38e3",
   "metadata": {},
   "outputs": [
    {
     "data": {
      "text/plain": [
       "array([ 21345.32719211,   1238.16759285,   1030.40390033,   8868.24027357,\n",
       "        85212.77629582,  60791.38992698,   5437.2321187 ,   9957.78516931,\n",
       "         1482.8481238 ,  28895.98489511,  32622.34200513,  25499.44075049,\n",
       "        20278.60926961,  14906.03494011,  28870.12365262,  34342.49803353,\n",
       "        18541.51847976,  28509.42736492,  98424.78923318,  45184.76846922,\n",
       "        21106.75604247,  28987.69078586,  12537.75811763,  25233.80172673,\n",
       "         6541.93938938,  14035.2043312 , 158553.62259285,  29094.24731363,\n",
       "        97764.14825951, 120515.42111593,  18575.33080565,   5969.91198419,\n",
       "         4355.76395216,  16737.10385329,   1405.98904863,  23143.43764853,\n",
       "         7002.87778518,   7671.83432483,  26815.69997904,  23698.8797476 ,\n",
       "        21883.44445655,  22572.67362535,   3103.52590802, 227300.51570712,\n",
       "         9556.55853069,   3375.77452237,  12530.03343449,   1075.65946079,\n",
       "         6346.06246923,  25101.52588444, 167172.80168897,  91392.89105606,\n",
       "       176260.5903702 ,  72108.37597933,  25597.80379936])"
      ]
     },
     "execution_count": 4,
     "metadata": {},
     "output_type": "execute_result"
    }
   ],
   "source": [
    "f_max = np.array(fdata.iloc[:,3].astype('float'))\n",
    "f_max.shape\n",
    "f_max"
   ]
  },
  {
   "cell_type": "code",
   "execution_count": 5,
   "id": "daea270f",
   "metadata": {},
   "outputs": [
    {
     "name": "stdout",
     "output_type": "stream",
     "text": [
      "[ 0.1    0.038  0.1    0.1    0.1    0.1    0.099  0.1    0.1    0.1\n",
      "  0.1    0.098  0.1    0.1    0.1    0.1    0.1    0.1    0.1    0.1\n",
      "  0.1    0.1    0.1    0.012  0.006  0.017  0.099  0.1    0.099  0.098\n",
      "  0.552  0.473  0.473  0.335  0.034  0.791  0.04   0.035  0.03   0.085\n",
      "  0.016  0.011  0.049  0.005  0.052  0.084  0.098  0.092  0.05   0.049\n",
      "  0.     0.     0.001  0.047 -0.   ]\n"
     ]
    }
   ],
   "source": [
    "demand_shock = np.zeros(f_max.shape[0])\n",
    "for i in range (0,f_max.shape[0]):\n",
    "    demand_shock[i] = round(1- f_max[i]/f_initial[i],3)\n",
    "    \n",
    "print(demand_shock) # ok "
   ]
  },
  {
   "cell_type": "markdown",
   "id": "2012b38d",
   "metadata": {},
   "source": [
    "## Total output"
   ]
  },
  {
   "cell_type": "code",
   "execution_count": 6,
   "id": "32e86384",
   "metadata": {},
   "outputs": [
    {
     "data": {
      "text/html": [
       "<div>\n",
       "<style scoped>\n",
       "    .dataframe tbody tr th:only-of-type {\n",
       "        vertical-align: middle;\n",
       "    }\n",
       "\n",
       "    .dataframe tbody tr th {\n",
       "        vertical-align: top;\n",
       "    }\n",
       "\n",
       "    .dataframe thead th {\n",
       "        text-align: right;\n",
       "    }\n",
       "</style>\n",
       "<table border=\"1\" class=\"dataframe\">\n",
       "  <thead>\n",
       "    <tr style=\"text-align: right;\">\n",
       "      <th></th>\n",
       "      <th>Unnamed: 0</th>\n",
       "      <th>x</th>\n",
       "      <th>xmin</th>\n",
       "      <th>xmax</th>\n",
       "      <th>x.maxF</th>\n",
       "      <th>x.maxX</th>\n",
       "    </tr>\n",
       "  </thead>\n",
       "  <tbody>\n",
       "    <tr>\n",
       "      <th>50</th>\n",
       "      <td>O84</td>\n",
       "      <td>171897.13915</td>\n",
       "      <td>0</td>\n",
       "      <td>171897.139150</td>\n",
       "      <td>170288.802062</td>\n",
       "      <td>170288.802062</td>\n",
       "    </tr>\n",
       "    <tr>\n",
       "      <th>51</th>\n",
       "      <td>P85</td>\n",
       "      <td>97595.19695</td>\n",
       "      <td>0</td>\n",
       "      <td>97595.196950</td>\n",
       "      <td>95851.256718</td>\n",
       "      <td>95851.256718</td>\n",
       "    </tr>\n",
       "    <tr>\n",
       "      <th>52</th>\n",
       "      <td>Q</td>\n",
       "      <td>197915.54595</td>\n",
       "      <td>0</td>\n",
       "      <td>197915.545950</td>\n",
       "      <td>196575.393859</td>\n",
       "      <td>196575.393859</td>\n",
       "    </tr>\n",
       "    <tr>\n",
       "      <th>53</th>\n",
       "      <td>R_S</td>\n",
       "      <td>110531.33285</td>\n",
       "      <td>0</td>\n",
       "      <td>56128.781726</td>\n",
       "      <td>56128.781726</td>\n",
       "      <td>56128.781726</td>\n",
       "    </tr>\n",
       "    <tr>\n",
       "      <th>54</th>\n",
       "      <td>T</td>\n",
       "      <td>25597.80370</td>\n",
       "      <td>0</td>\n",
       "      <td>25597.803700</td>\n",
       "      <td>25597.803700</td>\n",
       "      <td>25597.803700</td>\n",
       "    </tr>\n",
       "  </tbody>\n",
       "</table>\n",
       "</div>"
      ],
      "text/plain": [
       "   Unnamed: 0             x  xmin           xmax         x.maxF         x.maxX\n",
       "50        O84  171897.13915     0  171897.139150  170288.802062  170288.802062\n",
       "51        P85   97595.19695     0   97595.196950   95851.256718   95851.256718\n",
       "52          Q  197915.54595     0  197915.545950  196575.393859  196575.393859\n",
       "53        R_S  110531.33285     0   56128.781726   56128.781726   56128.781726\n",
       "54          T   25597.80370     0   25597.803700   25597.803700   25597.803700"
      ]
     },
     "execution_count": 6,
     "metadata": {},
     "output_type": "execute_result"
    }
   ],
   "source": [
    "xdata =  pd.read_csv('xdata_ita.csv', sep = ',')\n",
    "xdata.tail()   "
   ]
  },
  {
   "cell_type": "code",
   "execution_count": 7,
   "id": "0e537295",
   "metadata": {},
   "outputs": [],
   "source": [
    "x_initial = xdata.iloc[:,1].astype('float')"
   ]
  },
  {
   "cell_type": "code",
   "execution_count": 8,
   "id": "21473c52",
   "metadata": {},
   "outputs": [
    {
     "data": {
      "text/plain": [
       "array([ 71272.89667651,    297.00345502,   2170.82450765,   8850.50837077,\n",
       "       125008.41769952,  43176.40017989,   7509.85803234,  14428.45120385,\n",
       "        15135.33113897,  70106.14065   ,  61400.0801286 ,  32395.4725    ,\n",
       "        27842.51047064,  15677.41305804,  19999.66917167,  35507.89359092,\n",
       "        17619.05878772,  23200.38950518,  77238.9413221 ,  19101.8412308 ,\n",
       "        11774.12891335,  20621.9239376 ,  16583.90849768, 111934.096     ,\n",
       "        11766.8617456 ,  51537.7574544 , 136654.4974088 ,  39294.44344877,\n",
       "       143262.02798724, 118020.66224733, 120589.52277583,  16582.83429042,\n",
       "        15177.86098719,  84956.76472312,   9192.07387344,  58666.78642176,\n",
       "        12277.70865003,  19561.25519997,  51591.36755   ,  64776.5972    ,\n",
       "       120057.81534566,  30983.40168728,  39530.24806706, 149094.8548066 ,\n",
       "        94332.8267601 ,  39992.07864598,  17943.7838    ,  12141.68483648,\n",
       "        29013.23600588,  72294.88669773, 171897.13915   ,  97595.19695   ,\n",
       "       197915.54595   ,  56128.78172621,  25597.8037    ])"
      ]
     },
     "execution_count": 8,
     "metadata": {},
     "output_type": "execute_result"
    }
   ],
   "source": [
    "x_max = np.array(xdata.iloc[:,3].astype('float'))\n",
    "x_max.shape\n",
    "x_max"
   ]
  },
  {
   "cell_type": "code",
   "execution_count": 9,
   "id": "fd84eae3",
   "metadata": {},
   "outputs": [
    {
     "name": "stdout",
     "output_type": "stream",
     "text": [
      "[0.       0.849999 0.       0.345146 0.259635 0.593935 0.60647  0.48664\n",
      " 0.       0.       0.082258 0.       0.472389 0.61387  0.726353 0.662572\n",
      " 0.387682 0.504511 0.469949 0.696668 0.597033 0.580317 0.339612 0.\n",
      " 0.       0.       0.49612  0.13656  0.334664 0.251624 0.       0.\n",
      " 0.       0.       0.       0.56561  0.       0.       0.       0.\n",
      " 0.       0.       0.       0.512768 0.       0.       0.       0.396788\n",
      " 0.       0.416264 0.       0.       0.       0.492191 0.      ]\n"
     ]
    }
   ],
   "source": [
    "supply_shock = np.zeros(x_max.shape[0])\n",
    "for i in range (0,x_max.shape[0]):\n",
    "    supply_shock[i] = round(1- x_max[i]/x_initial[i],6)\n",
    "    \n",
    "print(supply_shock) # ok: corresonds to the data "
   ]
  },
  {
   "cell_type": "markdown",
   "id": "97cb7425",
   "metadata": {},
   "source": [
    "# IO table "
   ]
  },
  {
   "cell_type": "code",
   "execution_count": 10,
   "id": "d00267df",
   "metadata": {},
   "outputs": [
    {
     "data": {
      "text/html": [
       "<div>\n",
       "<style scoped>\n",
       "    .dataframe tbody tr th:only-of-type {\n",
       "        vertical-align: middle;\n",
       "    }\n",
       "\n",
       "    .dataframe tbody tr th {\n",
       "        vertical-align: top;\n",
       "    }\n",
       "\n",
       "    .dataframe thead th {\n",
       "        text-align: right;\n",
       "    }\n",
       "</style>\n",
       "<table border=\"1\" class=\"dataframe\">\n",
       "  <thead>\n",
       "    <tr style=\"text-align: right;\">\n",
       "      <th></th>\n",
       "      <th>Unnamed: 0</th>\n",
       "      <th>A01</th>\n",
       "      <th>A02</th>\n",
       "      <th>A03</th>\n",
       "      <th>B</th>\n",
       "      <th>C10-C12</th>\n",
       "      <th>C13-C15</th>\n",
       "      <th>C16</th>\n",
       "      <th>C17</th>\n",
       "      <th>C18</th>\n",
       "      <th>...</th>\n",
       "      <th>M71</th>\n",
       "      <th>M72</th>\n",
       "      <th>M73</th>\n",
       "      <th>M74_M75</th>\n",
       "      <th>N</th>\n",
       "      <th>O84</th>\n",
       "      <th>P85</th>\n",
       "      <th>Q</th>\n",
       "      <th>R_S</th>\n",
       "      <th>T</th>\n",
       "    </tr>\n",
       "  </thead>\n",
       "  <tbody>\n",
       "    <tr>\n",
       "      <th>0</th>\n",
       "      <td>A01</td>\n",
       "      <td>0.097939</td>\n",
       "      <td>0.000113</td>\n",
       "      <td>0.001136</td>\n",
       "      <td>0.000567</td>\n",
       "      <td>0.181394</td>\n",
       "      <td>0.007495</td>\n",
       "      <td>0.002370</td>\n",
       "      <td>0.002256</td>\n",
       "      <td>8.609811e-04</td>\n",
       "      <td>...</td>\n",
       "      <td>0.000240</td>\n",
       "      <td>2.329589e-03</td>\n",
       "      <td>0.000298</td>\n",
       "      <td>5.629345e-04</td>\n",
       "      <td>0.005179</td>\n",
       "      <td>0.000612</td>\n",
       "      <td>0.000347</td>\n",
       "      <td>5.671440e-04</td>\n",
       "      <td>0.001305</td>\n",
       "      <td>0</td>\n",
       "    </tr>\n",
       "    <tr>\n",
       "      <th>1</th>\n",
       "      <td>A02</td>\n",
       "      <td>0.000000</td>\n",
       "      <td>0.006829</td>\n",
       "      <td>0.000425</td>\n",
       "      <td>0.000012</td>\n",
       "      <td>0.001058</td>\n",
       "      <td>0.000002</td>\n",
       "      <td>0.007682</td>\n",
       "      <td>0.002543</td>\n",
       "      <td>1.702069e-04</td>\n",
       "      <td>...</td>\n",
       "      <td>0.000034</td>\n",
       "      <td>9.502826e-07</td>\n",
       "      <td>0.000081</td>\n",
       "      <td>3.402062e-05</td>\n",
       "      <td>0.000777</td>\n",
       "      <td>0.000000</td>\n",
       "      <td>0.000000</td>\n",
       "      <td>4.429787e-08</td>\n",
       "      <td>0.000175</td>\n",
       "      <td>0</td>\n",
       "    </tr>\n",
       "    <tr>\n",
       "      <th>2</th>\n",
       "      <td>A03</td>\n",
       "      <td>0.000000</td>\n",
       "      <td>0.000031</td>\n",
       "      <td>0.011247</td>\n",
       "      <td>0.000000</td>\n",
       "      <td>0.000476</td>\n",
       "      <td>0.000003</td>\n",
       "      <td>0.000000</td>\n",
       "      <td>0.000000</td>\n",
       "      <td>7.126055e-07</td>\n",
       "      <td>...</td>\n",
       "      <td>0.000003</td>\n",
       "      <td>5.729112e-06</td>\n",
       "      <td>0.000006</td>\n",
       "      <td>7.411210e-07</td>\n",
       "      <td>0.000012</td>\n",
       "      <td>0.000054</td>\n",
       "      <td>0.000061</td>\n",
       "      <td>8.677816e-05</td>\n",
       "      <td>0.000281</td>\n",
       "      <td>0</td>\n",
       "    </tr>\n",
       "    <tr>\n",
       "      <th>3</th>\n",
       "      <td>B</td>\n",
       "      <td>0.000122</td>\n",
       "      <td>0.000017</td>\n",
       "      <td>0.000103</td>\n",
       "      <td>0.001477</td>\n",
       "      <td>0.000432</td>\n",
       "      <td>0.000359</td>\n",
       "      <td>0.000326</td>\n",
       "      <td>0.000678</td>\n",
       "      <td>5.043343e-04</td>\n",
       "      <td>...</td>\n",
       "      <td>0.001273</td>\n",
       "      <td>1.384237e-03</td>\n",
       "      <td>0.001033</td>\n",
       "      <td>8.018579e-04</td>\n",
       "      <td>0.000879</td>\n",
       "      <td>0.000136</td>\n",
       "      <td>0.000258</td>\n",
       "      <td>4.759545e-04</td>\n",
       "      <td>0.000395</td>\n",
       "      <td>0</td>\n",
       "    </tr>\n",
       "    <tr>\n",
       "      <th>4</th>\n",
       "      <td>C10-C12</td>\n",
       "      <td>0.073600</td>\n",
       "      <td>0.000149</td>\n",
       "      <td>0.043837</td>\n",
       "      <td>0.001451</td>\n",
       "      <td>0.225659</td>\n",
       "      <td>0.010460</td>\n",
       "      <td>0.000780</td>\n",
       "      <td>0.003053</td>\n",
       "      <td>8.387346e-04</td>\n",
       "      <td>...</td>\n",
       "      <td>0.001015</td>\n",
       "      <td>1.784083e-03</td>\n",
       "      <td>0.002589</td>\n",
       "      <td>1.158860e-03</td>\n",
       "      <td>0.001811</td>\n",
       "      <td>0.000382</td>\n",
       "      <td>0.000445</td>\n",
       "      <td>2.781864e-03</td>\n",
       "      <td>0.003419</td>\n",
       "      <td>0</td>\n",
       "    </tr>\n",
       "  </tbody>\n",
       "</table>\n",
       "<p>5 rows × 56 columns</p>\n",
       "</div>"
      ],
      "text/plain": [
       "  Unnamed: 0       A01       A02       A03         B   C10-C12   C13-C15  \\\n",
       "0        A01  0.097939  0.000113  0.001136  0.000567  0.181394  0.007495   \n",
       "1        A02  0.000000  0.006829  0.000425  0.000012  0.001058  0.000002   \n",
       "2        A03  0.000000  0.000031  0.011247  0.000000  0.000476  0.000003   \n",
       "3          B  0.000122  0.000017  0.000103  0.001477  0.000432  0.000359   \n",
       "4    C10-C12  0.073600  0.000149  0.043837  0.001451  0.225659  0.010460   \n",
       "\n",
       "        C16       C17           C18  ...       M71           M72       M73  \\\n",
       "0  0.002370  0.002256  8.609811e-04  ...  0.000240  2.329589e-03  0.000298   \n",
       "1  0.007682  0.002543  1.702069e-04  ...  0.000034  9.502826e-07  0.000081   \n",
       "2  0.000000  0.000000  7.126055e-07  ...  0.000003  5.729112e-06  0.000006   \n",
       "3  0.000326  0.000678  5.043343e-04  ...  0.001273  1.384237e-03  0.001033   \n",
       "4  0.000780  0.003053  8.387346e-04  ...  0.001015  1.784083e-03  0.002589   \n",
       "\n",
       "        M74_M75         N       O84       P85             Q       R_S  T  \n",
       "0  5.629345e-04  0.005179  0.000612  0.000347  5.671440e-04  0.001305  0  \n",
       "1  3.402062e-05  0.000777  0.000000  0.000000  4.429787e-08  0.000175  0  \n",
       "2  7.411210e-07  0.000012  0.000054  0.000061  8.677816e-05  0.000281  0  \n",
       "3  8.018579e-04  0.000879  0.000136  0.000258  4.759545e-04  0.000395  0  \n",
       "4  1.158860e-03  0.001811  0.000382  0.000445  2.781864e-03  0.003419  0  \n",
       "\n",
       "[5 rows x 56 columns]"
      ]
     },
     "execution_count": 10,
     "metadata": {},
     "output_type": "execute_result"
    }
   ],
   "source": [
    "df = pd.read_csv('ita_wiot.csv',sep = ',',low_memory=False)\n",
    "df.head()"
   ]
  },
  {
   "cell_type": "code",
   "execution_count": 11,
   "id": "ef22029a",
   "metadata": {},
   "outputs": [
    {
     "data": {
      "text/html": [
       "<div>\n",
       "<style scoped>\n",
       "    .dataframe tbody tr th:only-of-type {\n",
       "        vertical-align: middle;\n",
       "    }\n",
       "\n",
       "    .dataframe tbody tr th {\n",
       "        vertical-align: top;\n",
       "    }\n",
       "\n",
       "    .dataframe thead th {\n",
       "        text-align: right;\n",
       "    }\n",
       "</style>\n",
       "<table border=\"1\" class=\"dataframe\">\n",
       "  <thead>\n",
       "    <tr style=\"text-align: right;\">\n",
       "      <th></th>\n",
       "      <th>A01</th>\n",
       "      <th>A02</th>\n",
       "      <th>A03</th>\n",
       "      <th>B</th>\n",
       "      <th>C10-C12</th>\n",
       "      <th>C13-C15</th>\n",
       "      <th>C16</th>\n",
       "      <th>C17</th>\n",
       "      <th>C18</th>\n",
       "      <th>C19</th>\n",
       "      <th>...</th>\n",
       "      <th>M71</th>\n",
       "      <th>M72</th>\n",
       "      <th>M73</th>\n",
       "      <th>M74_M75</th>\n",
       "      <th>N</th>\n",
       "      <th>O84</th>\n",
       "      <th>P85</th>\n",
       "      <th>Q</th>\n",
       "      <th>R_S</th>\n",
       "      <th>T</th>\n",
       "    </tr>\n",
       "  </thead>\n",
       "  <tbody>\n",
       "    <tr>\n",
       "      <th>50</th>\n",
       "      <td>0.000025</td>\n",
       "      <td>0.000178</td>\n",
       "      <td>0.000020</td>\n",
       "      <td>0.000389</td>\n",
       "      <td>0.001306</td>\n",
       "      <td>0.000464</td>\n",
       "      <td>0.000205</td>\n",
       "      <td>0.000599</td>\n",
       "      <td>0.000746</td>\n",
       "      <td>0.002112</td>\n",
       "      <td>...</td>\n",
       "      <td>0.002957</td>\n",
       "      <td>0.000262</td>\n",
       "      <td>0.000520</td>\n",
       "      <td>0.006935</td>\n",
       "      <td>0.000976</td>\n",
       "      <td>0.001562</td>\n",
       "      <td>0.001498</td>\n",
       "      <td>0.000937</td>\n",
       "      <td>0.002074</td>\n",
       "      <td>0.0</td>\n",
       "    </tr>\n",
       "    <tr>\n",
       "      <th>51</th>\n",
       "      <td>0.000004</td>\n",
       "      <td>0.009232</td>\n",
       "      <td>0.000015</td>\n",
       "      <td>0.000782</td>\n",
       "      <td>0.000480</td>\n",
       "      <td>0.000450</td>\n",
       "      <td>0.000488</td>\n",
       "      <td>0.000550</td>\n",
       "      <td>0.001064</td>\n",
       "      <td>0.000121</td>\n",
       "      <td>...</td>\n",
       "      <td>0.001336</td>\n",
       "      <td>0.001663</td>\n",
       "      <td>0.000638</td>\n",
       "      <td>0.000976</td>\n",
       "      <td>0.003069</td>\n",
       "      <td>0.006157</td>\n",
       "      <td>0.003212</td>\n",
       "      <td>0.003295</td>\n",
       "      <td>0.005415</td>\n",
       "      <td>0.0</td>\n",
       "    </tr>\n",
       "    <tr>\n",
       "      <th>52</th>\n",
       "      <td>0.000070</td>\n",
       "      <td>0.001274</td>\n",
       "      <td>0.000212</td>\n",
       "      <td>0.000490</td>\n",
       "      <td>0.000295</td>\n",
       "      <td>0.000294</td>\n",
       "      <td>0.000490</td>\n",
       "      <td>0.000149</td>\n",
       "      <td>0.000321</td>\n",
       "      <td>0.000210</td>\n",
       "      <td>...</td>\n",
       "      <td>0.000313</td>\n",
       "      <td>0.001679</td>\n",
       "      <td>0.000685</td>\n",
       "      <td>0.005008</td>\n",
       "      <td>0.000964</td>\n",
       "      <td>0.006765</td>\n",
       "      <td>0.003641</td>\n",
       "      <td>0.089797</td>\n",
       "      <td>0.001266</td>\n",
       "      <td>0.0</td>\n",
       "    </tr>\n",
       "    <tr>\n",
       "      <th>53</th>\n",
       "      <td>0.004346</td>\n",
       "      <td>0.000850</td>\n",
       "      <td>0.002027</td>\n",
       "      <td>0.004139</td>\n",
       "      <td>0.007808</td>\n",
       "      <td>0.006823</td>\n",
       "      <td>0.003455</td>\n",
       "      <td>0.002957</td>\n",
       "      <td>0.006526</td>\n",
       "      <td>0.004521</td>\n",
       "      <td>...</td>\n",
       "      <td>0.003979</td>\n",
       "      <td>0.005980</td>\n",
       "      <td>0.001394</td>\n",
       "      <td>0.011479</td>\n",
       "      <td>0.009689</td>\n",
       "      <td>0.004332</td>\n",
       "      <td>0.001413</td>\n",
       "      <td>0.009169</td>\n",
       "      <td>0.118812</td>\n",
       "      <td>0.0</td>\n",
       "    </tr>\n",
       "    <tr>\n",
       "      <th>54</th>\n",
       "      <td>0.000000</td>\n",
       "      <td>0.000000</td>\n",
       "      <td>0.000000</td>\n",
       "      <td>0.000000</td>\n",
       "      <td>0.000000</td>\n",
       "      <td>0.000000</td>\n",
       "      <td>0.000000</td>\n",
       "      <td>0.000000</td>\n",
       "      <td>0.000000</td>\n",
       "      <td>0.000000</td>\n",
       "      <td>...</td>\n",
       "      <td>0.000000</td>\n",
       "      <td>0.000000</td>\n",
       "      <td>0.000000</td>\n",
       "      <td>0.000000</td>\n",
       "      <td>0.000000</td>\n",
       "      <td>0.000000</td>\n",
       "      <td>0.000000</td>\n",
       "      <td>0.000000</td>\n",
       "      <td>0.000000</td>\n",
       "      <td>0.0</td>\n",
       "    </tr>\n",
       "  </tbody>\n",
       "</table>\n",
       "<p>5 rows × 55 columns</p>\n",
       "</div>"
      ],
      "text/plain": [
       "         A01       A02       A03         B   C10-C12   C13-C15       C16  \\\n",
       "50  0.000025  0.000178  0.000020  0.000389  0.001306  0.000464  0.000205   \n",
       "51  0.000004  0.009232  0.000015  0.000782  0.000480  0.000450  0.000488   \n",
       "52  0.000070  0.001274  0.000212  0.000490  0.000295  0.000294  0.000490   \n",
       "53  0.004346  0.000850  0.002027  0.004139  0.007808  0.006823  0.003455   \n",
       "54  0.000000  0.000000  0.000000  0.000000  0.000000  0.000000  0.000000   \n",
       "\n",
       "         C17       C18       C19  ...       M71       M72       M73   M74_M75  \\\n",
       "50  0.000599  0.000746  0.002112  ...  0.002957  0.000262  0.000520  0.006935   \n",
       "51  0.000550  0.001064  0.000121  ...  0.001336  0.001663  0.000638  0.000976   \n",
       "52  0.000149  0.000321  0.000210  ...  0.000313  0.001679  0.000685  0.005008   \n",
       "53  0.002957  0.006526  0.004521  ...  0.003979  0.005980  0.001394  0.011479   \n",
       "54  0.000000  0.000000  0.000000  ...  0.000000  0.000000  0.000000  0.000000   \n",
       "\n",
       "           N       O84       P85         Q       R_S    T  \n",
       "50  0.000976  0.001562  0.001498  0.000937  0.002074  0.0  \n",
       "51  0.003069  0.006157  0.003212  0.003295  0.005415  0.0  \n",
       "52  0.000964  0.006765  0.003641  0.089797  0.001266  0.0  \n",
       "53  0.009689  0.004332  0.001413  0.009169  0.118812  0.0  \n",
       "54  0.000000  0.000000  0.000000  0.000000  0.000000  0.0  \n",
       "\n",
       "[5 rows x 55 columns]"
      ]
     },
     "execution_count": 11,
     "metadata": {},
     "output_type": "execute_result"
    }
   ],
   "source": [
    "df = df.iloc[0:55,1:56]\n",
    "df = df.astype('float')\n",
    "df.tail()"
   ]
  },
  {
   "cell_type": "markdown",
   "id": "e32d8d62",
   "metadata": {},
   "source": [
    "**Creating matrix A**"
   ]
  },
  {
   "cell_type": "code",
   "execution_count": 12,
   "id": "3b209a29",
   "metadata": {},
   "outputs": [
    {
     "data": {
      "text/plain": [
       "(55, 55)"
      ]
     },
     "execution_count": 12,
     "metadata": {},
     "output_type": "execute_result"
    }
   ],
   "source": [
    "A = np.array(df)\n",
    "N = A.shape[0]\n",
    "A.shape"
   ]
  },
  {
   "cell_type": "code",
   "execution_count": 13,
   "id": "4c9a64bb",
   "metadata": {},
   "outputs": [],
   "source": [
    "x_0 = np.array(x_initial)"
   ]
  },
  {
   "cell_type": "code",
   "execution_count": 14,
   "id": "8ba3cc01",
   "metadata": {},
   "outputs": [],
   "source": [
    "f_0 = np.array(f_initial)"
   ]
  },
  {
   "cell_type": "markdown",
   "id": "c4ee14fb",
   "metadata": {},
   "source": [
    "# Leontief Model"
   ]
  },
  {
   "cell_type": "markdown",
   "id": "b2220798",
   "metadata": {},
   "source": [
    "**Calculating equilibrium when x is given**"
   ]
  },
  {
   "cell_type": "code",
   "execution_count": 15,
   "id": "a4c84cd3",
   "metadata": {},
   "outputs": [
    {
     "data": {
      "text/plain": [
       "0.8905066210075246"
      ]
     },
     "execution_count": 15,
     "metadata": {},
     "output_type": "execute_result"
    }
   ],
   "source": [
    "final_consumption = np.matmul(np.identity(N)-A, x_0)\n",
    "sum(f_max)/sum(final_consumption)"
   ]
  },
  {
   "cell_type": "markdown",
   "id": "281b0b20",
   "metadata": {},
   "source": [
    "**Computing equilibrium when f is given**"
   ]
  },
  {
   "cell_type": "code",
   "execution_count": 16,
   "id": "fa335ff9",
   "metadata": {},
   "outputs": [],
   "source": [
    "L = np.linalg.inv(np.identity(N)-A)"
   ]
  },
  {
   "cell_type": "code",
   "execution_count": 17,
   "id": "2abe2e96",
   "metadata": {},
   "outputs": [
    {
     "data": {
      "text/plain": [
       "0.7256416370029234"
      ]
     },
     "execution_count": 17,
     "metadata": {},
     "output_type": "execute_result"
    }
   ],
   "source": [
    "total_output = np.matmul(L, f_0)\n",
    "sum(x_max)/sum(x_0)\n",
    "#sum(x_max)/sum(total_output)"
   ]
  },
  {
   "cell_type": "code",
   "execution_count": 18,
   "id": "afa0b502",
   "metadata": {},
   "outputs": [
    {
     "data": {
      "text/plain": [
       "(0.7256416370029266, 0.8905066210075246)"
      ]
     },
     "execution_count": 18,
     "metadata": {},
     "output_type": "execute_result"
    }
   ],
   "source": [
    "direct_shock = (sum(x_max)/sum(total_output),sum(f_max)/sum(final_consumption))\n",
    "direct_shock"
   ]
  },
  {
   "cell_type": "markdown",
   "id": "bed7504e",
   "metadata": {},
   "source": [
    "# Optimalization"
   ]
  },
  {
   "cell_type": "code",
   "execution_count": 19,
   "id": "395a2995",
   "metadata": {},
   "outputs": [],
   "source": [
    "from scipy.optimize import linprog"
   ]
  },
  {
   "cell_type": "markdown",
   "id": "7bed23c7",
   "metadata": {},
   "source": [
    "### Feasible Market Allocations\n",
    "Given exogenous constraints to supply and demand, what is the feasible market allocation that maximizes final consumption and/or total output? The solution needs to lie within exogenous bounds on supply and demand and also needs to satisfy the assumption of Leontief production:\n",
    "\n",
    "$$ x = Ax + f = Lf $$\n",
    "\n",
    "We seek market allocations {$x^*$ , $f^*$} that (a) respect the given production recipes $x^*=Lf^*$ and (b) satisfy basic output and demand constraints $x^* \\in [0, x^{max}]$ and $f^* \\in [0, f^{max}]$.\n",
    "\n",
    "**Optimization procedure**\n",
    "\n",
    "As a first case, we determine the market allocation that maximizes gross output under the assumptions specified. Large levels of output indicate high levels of ecomomic activity, which in turn entail high levels of primary factors such as labor compensation. As a second case, we look at market allocations that maximize final comsumption given current production capacities. Due to the linearity of the Leontief framework, the problem boils down to linear programming exercises.\n",
    "\n",
    "*Maximizing gross output*\n",
    "$$ \\text{max}_f \\qquad 1^T(I-A)^{-1}f $$\n",
    "$$ \\text{Subject to} \\quad (I-A)^{-1}f \\in [0, x^{max}] $$\n",
    "\n",
    "*Maximizing final consumption*\n",
    "$$ \\text{max}_x \\qquad 1^T(I-A)x $$\n",
    "$$ \\text{Subject to} \\quad (I-A)x \\in [0, f^{max}] $$"
   ]
  },
  {
   "cell_type": "markdown",
   "id": "02d604cd",
   "metadata": {},
   "source": [
    "### Maximizing total output"
   ]
  },
  {
   "cell_type": "code",
   "execution_count": 20,
   "id": "6a44bf74",
   "metadata": {},
   "outputs": [],
   "source": [
    "def max_output(N,L,A,xmax,fmax):\n",
    "    z = np.ones(N)\n",
    "    obj = -np.matmul(np.matrix.transpose(z), L)\n",
    "    lhs_ineq = np.concatenate((-L,L))\n",
    "    rhs_ineq = np.concatenate((np.zeros(N), xmax))\n",
    "    \n",
    "    bnd = []\n",
    "    for i in range (0,N):\n",
    "        bnd.append((0,fmax[i]))\n",
    "    \n",
    "    result = linprog(c = obj, A_ub= lhs_ineq, b_ub= rhs_ineq, bounds = bnd)\n",
    "    \n",
    "    optimal_output = -result.fun\n",
    "    \n",
    "    optimal_f = np.ones(N)\n",
    "    for i in range(0,N):\n",
    "        optimal_f[i] = result.x[i]\n",
    "    \n",
    "    return result.success, optimal_output/sum(x_0), sum(optimal_f)/sum(f_0)"
   ]
  },
  {
   "cell_type": "code",
   "execution_count": 21,
   "id": "d83a8ce8",
   "metadata": {},
   "outputs": [
    {
     "data": {
      "text/plain": [
       "(0.6133400575407387, 0.6399275423015803)"
      ]
     },
     "execution_count": 21,
     "metadata": {},
     "output_type": "execute_result"
    }
   ],
   "source": [
    "result = max_output(N,L,A,x_max,f_max)\n",
    "result[0]\n",
    "Max_output = (result[1], result[2])\n",
    "Max_output"
   ]
  },
  {
   "cell_type": "code",
   "execution_count": 22,
   "id": "2332fa77",
   "metadata": {},
   "outputs": [
    {
     "data": {
      "text/plain": [
       "0.881162794048229"
      ]
     },
     "execution_count": 22,
     "metadata": {},
     "output_type": "execute_result"
    }
   ],
   "source": [
    "z = np.ones(N)\n",
    "np.matmul(np.matmul(np.matrix.transpose(z), L), f_max)/sum(x_0)"
   ]
  },
  {
   "cell_type": "markdown",
   "id": "4264b266",
   "metadata": {},
   "source": [
    "### Maximizing final consumption"
   ]
  },
  {
   "cell_type": "code",
   "execution_count": 23,
   "id": "ad66d86f",
   "metadata": {},
   "outputs": [],
   "source": [
    "def max_consumption(N,L,A,xmax,fmax):\n",
    "    z = np.ones(N)\n",
    "    obj2 = -np.matmul(np.matrix.transpose(z), np.identity(N)-A)\n",
    "    lhs_ineq2 = np.concatenate((-(np.identity(N)-A), np.identity(N)-A))\n",
    "    rhs_ineq2 = np.concatenate((np.zeros(N), fmax))\n",
    "    \n",
    "    bnd2 = []\n",
    "    for i in range (0,N):\n",
    "        bnd2.append((0,xmax[i]))\n",
    "        \n",
    "    result2 = linprog(c = obj2, A_ub= lhs_ineq2, b_ub= rhs_ineq2, bounds= bnd2)\n",
    "    optimal_f_2 = -result2.fun\n",
    "    \n",
    "    optimal_output_2 = np.ones(N)\n",
    "    for i in range(0,N):\n",
    "        optimal_output_2[i] = round(result2.x[i])\n",
    "        \n",
    "    return result2.success, sum(optimal_output_2)/sum(x_0), optimal_f_2/sum(f_0)"
   ]
  },
  {
   "cell_type": "code",
   "execution_count": 24,
   "id": "6d8b939b",
   "metadata": {},
   "outputs": [
    {
     "data": {
      "text/plain": [
       "(0.6133407028249319, 0.6399275423015828)"
      ]
     },
     "execution_count": 24,
     "metadata": {},
     "output_type": "execute_result"
    }
   ],
   "source": [
    "result2 = max_consumption(N,L,A,x_max,f_max)\n",
    "Max_consumption = (result2[1], result2[2])\n",
    "Max_consumption"
   ]
  },
  {
   "cell_type": "markdown",
   "id": "a88e27e5",
   "metadata": {},
   "source": [
    "**Note that both optimization problems give almost the same solution**"
   ]
  },
  {
   "cell_type": "markdown",
   "id": "4bac4370",
   "metadata": {},
   "source": [
    "# Rationing"
   ]
  },
  {
   "cell_type": "markdown",
   "id": "4422f9a5",
   "metadata": {},
   "source": [
    "We leave out industry T:"
   ]
  },
  {
   "cell_type": "code",
   "execution_count": 25,
   "id": "7293dc18",
   "metadata": {},
   "outputs": [],
   "source": [
    "f_max = f_max[:54]\n",
    "x_max = x_max[:54]\n",
    "A = A[:54,:54]\n",
    "N = 54\n",
    "x_0 = x_0[:54]\n",
    "f_0 = f_0[:54]\n",
    "L = np.linalg.inv(np.identity(N)-A)"
   ]
  },
  {
   "cell_type": "markdown",
   "id": "3e84b6c6",
   "metadata": {},
   "source": [
    "### Input bottlenecks and rationing variations\n",
    "In contrast to the optimization methods, this represents a bottom-up approach for finding feasible market allocations. Industries place orders to their suppliers based on incoming demand. Since suppliers can be output constrained, they might not be able to satisfy demand fully. A supplier therefore needs to make a decision about how much of each customer’s demand it serves. Intermediate consumers transform inputs to outputs based on fixed production recipes. Thus if a customer receives less inputs than she asked for, she faces an input bottleneck further constraining her production. As a consequence, the customer reduces her demand for other inputs as they are not further needed under limited productive capacities. We iterate this procedure forward until the algorithm converges.\n",
    "\n",
    "**Strict Proportional Rationing**\n",
    "\n",
    "If industries are unable to satisfy total incoming demand completely, they distribute output proportional to their customers’ demand, where no distinction is made between intermediate and final customers. We implement the rationing algorithm in the following way:\n",
    "1. Industries determine their total demand as if there were no supply-side constraints, $d = Lf^{\\text{max}}$;\n",
    "2. Industries evaluate if they are able to satisfy demand goven their constrained production capacities;\n",
    "3. Industries that only partially satisfy demand, create a bottleneck;\n",
    "4. Industries reduce their production according to the largest input bottleneck (assumption of fixed recipes);\n",
    "5. The total amount of goods delivered to the final consumer is computed;\n",
    "6. Iterate 1-5 until there are no input constraints left.\n",
    "\n",
    "Formulas:\n",
    "\n",
    "$$ r_i[t] = \\frac{x_i^{\\text{max}}}{d_i[t]} $$\n",
    "\n",
    "$$ s_i[t] = min_j \\{r_j[t], 1\\} $$\n",
    "\n",
    "$$ x_i[t] = \\text{min}\\{x_i^{\\text{max}}, s_i[t]d_i[t]\\} $$\n",
    "\n",
    "$$ f_i[t] = \\text{max} \\Big\\{ x_i[t] - \\sum_{i} a_{ij} x_j[t], 0 \\Big\\}$$\n",
    "\n",
    "$$ d_i[t+1] = \\sum_{j} l_{ij} f_j[t] $$\n",
    "\n",
    "The algorithm converges to a new feasible economic allocation if $d_i[t+1] = d_i[t]$ for all i.\n",
    "\n",
    "*Implementation*"
   ]
  },
  {
   "cell_type": "code",
   "execution_count": 26,
   "id": "7bfeaa17",
   "metadata": {},
   "outputs": [],
   "source": [
    "def algo_proportional(A, L, fmax, xmax, TT, prioritize=\"no\"):\n",
    "    x = [0]\n",
    "    fvec = []          # initial demand vector\n",
    "    fvec.append(fmax)\n",
    "    r = [0]            # output constraints\n",
    "    s = [0]            # input bottlenecks \n",
    "     \n",
    "    d = [0]            # aggregated demand vector \n",
    "    d.append(np.matmul(L, fvec[0])) #d[1] = L*f[0]\n",
    "\n",
    "    list_ = [1] \n",
    "    t=1\n",
    "    epsilon = 1e-6\n",
    "    while not np.all(abs(d[t] - d[t-1]) < epsilon) and t<TT:\n",
    "        #print('\\nIteration {0}'.format(t))\n",
    "        #print('---------')\n",
    "        #print('Initial aggregated demand: {}'.format(d[t]))\n",
    "        r.append(np.ones(len(xmax)))\n",
    "        s.append(np.ones(len(xmax)))\n",
    "        fvec.append(np.ones(len(xmax)))\n",
    "        x.append(np.ones(len(xmax)))\n",
    "        d.append(np.ones(len(xmax)))\n",
    "        \n",
    "        ##########################################\n",
    "        ########### Output constraints ###########\n",
    "        ##########################################\n",
    "        for i in range (0,len(x_max)):\n",
    "            r[t][i] = xmax[i]/d[t][i]\n",
    "        #print('Output constraints:{}'.format(r[t]))\n",
    "        \n",
    "        ##########################################\n",
    "        ########### Input bottlenecks ############\n",
    "        ##########################################\n",
    "        for i in range(0,len(x_max)):\n",
    "            for j in range(0,len(x_max)):\n",
    "                if A[j][i] > 0:\n",
    "                    list_.append(r[t][j])\n",
    "            s[t][i] = min(list_)\n",
    "            list_ = [1]\n",
    "        #print('Input bottlenecks:{}'.format(s[t]))\n",
    "        \n",
    "        ##############################################\n",
    "        ########### Constrained Production ###########\n",
    "        ##############################################\n",
    "        for i in range(0,len(xmax)):\n",
    "            x[t][i] = min(xmax[i], s[t][i]*d[t][i])\n",
    "        #print('Constrained production:{}'.format(x[t]))\n",
    "        \n",
    "        ##############################################\n",
    "        ############ Constrained Delivery ############\n",
    "        ##############################################\n",
    "        for i in range(0,len(xmax)):\n",
    "            fvec[t][i] = max(x[t][i] - np.matmul(A[i],x[t]),0)\n",
    "        #print('Constrained delivery:{}'.format(fvec[t]))\n",
    "        \n",
    "        ###############################################\n",
    "        ############ New Aggregated Demand ############\n",
    "        ###############################################\n",
    "        for i in range(0,len(xmax)):\n",
    "            d[t+1][i] = np.matmul(L[i],fvec[t])\n",
    "        t=t+1\n",
    "        #print('Aggregated Demand:         {}'.format(d[t]))\n",
    "        if t==TT:\n",
    "            print(\"Algorithm did not converge\")\n",
    "    return sum(x[t-1])/sum(x_0), sum(fvec[t-1])/sum(f_0), t"
   ]
  },
  {
   "cell_type": "code",
   "execution_count": 27,
   "id": "18c6699b",
   "metadata": {},
   "outputs": [
    {
     "data": {
      "text/plain": [
       "(0.16225463865054215, 0.1687630239228383, 6)"
      ]
     },
     "execution_count": 27,
     "metadata": {},
     "output_type": "execute_result"
    }
   ],
   "source": [
    "result_proportional = algo_proportional(A, L, f_max, x_max, 30, prioritize=\"no\")\n",
    "result_proportional"
   ]
  },
  {
   "cell_type": "markdown",
   "id": "e48172c7",
   "metadata": {},
   "source": [
    "## Mixed priority/proportional rationing"
   ]
  },
  {
   "cell_type": "markdown",
   "id": "31431ffd",
   "metadata": {},
   "source": [
    "We implement the rationing algorithm in the following way:\n",
    "1. Industries determine their total demand as if there were no supply-side constraints, $d = Lf^{\\text{max}}$;\n",
    "2. Industries evaluate if they are able to satisfy demand given their constrained production capacities;\n",
    "3. Industries that only partially satisfy demand, create a bottleneck;\n",
    "4. Industries reduce their production according to the largest input bottleneck (assumption of fixed recipes);\n",
    "5. The total amount of goods delivered to the final consumer is computed;\n",
    "6. Iterate 1-5 until there are no input constraints left.\n",
    "\n",
    "Formulas:\n",
    "\n",
    "$$ r_i[t] = \\frac{x_i^{\\text{max}}}{\\sum_{j}A_{ij}d_j[t]} $$\n",
    "\n",
    "$$ s_i[t] = min_j \\{r_j[t], 1\\} $$\n",
    "\n",
    "$$ x_i[t] = \\text{min}\\{x_i^{\\text{max}}, s_i[t]d_i[t]\\} $$\n",
    "\n",
    "$$ f_i[t] = \\text{max} \\Big\\{ x_i[t] - \\sum_{i} a_{ij} x_j[t], 0 \\Big\\}$$\n",
    "\n",
    "$$ d_i[t+1] = \\sum_{j} l_{ij} f_j[t] $$\n",
    "\n",
    "The algorithm converges to a new feasible economic allocation if $d_i[t+1] = d_i[t]$ for all i.\n",
    "\n",
    "*Implementation*"
   ]
  },
  {
   "cell_type": "code",
   "execution_count": 28,
   "id": "8b4c14db",
   "metadata": {},
   "outputs": [],
   "source": [
    "def algo_mixed(A, L, fmax, xmax, TT, prioritize=\"yes\"):\n",
    "    x = [0]\n",
    "    \n",
    "    fvec = [] # initial demand vector\n",
    "    fvec.append(fmax)\n",
    "    r = [0]   # output constraints\n",
    "    s = [0]   # input bottlenecks \n",
    "    d = [0]   # aggregated demand vector \n",
    "    d.append(np.matmul(L, fvec[0])) #d[1] = L*f[0]\n",
    "    \n",
    "    list_ = [1] \n",
    "    t=1\n",
    "    epsilon = 1e-6\n",
    "    while not np.all(abs(d[t] - d[t-1]) < epsilon) and t<TT:\n",
    "        #print('\\nIteration {0}'.format(t))\n",
    "        #print('---------')\n",
    "        #print('Initial aggregated demand: {}'.format(d[t]))\n",
    "        r.append(np.ones(len(xmax)))\n",
    "        s.append(np.ones(len(xmax)))\n",
    "        fvec.append(np.ones(len(xmax)))\n",
    "        x.append(np.ones(len(xmax)))\n",
    "        d.append(np.ones(len(xmax)))\n",
    "        \n",
    "        \n",
    "        ##########################################\n",
    "        ########### Output constraints ###########\n",
    "        ##########################################\n",
    "        for i in range (0,len(x_max)):\n",
    "            r[t][i] = xmax[i]/np.matmul(A[i],d[t])\n",
    "        #print('Output constraints:         {}'.format(r[t]))\n",
    "        \n",
    "        ##########################################\n",
    "        ########### Input bottlenecks ############\n",
    "        ##########################################\n",
    "        for i in range(0,len(x_max)):\n",
    "            for j in range(0,len(x_max)):\n",
    "                if A[j][i] > 0:\n",
    "                    list_.append(r[t][j])\n",
    "            s[t][i] = min(list_)\n",
    "            list_ = [1]\n",
    "        #print('Input bottlenecks:         {}'.format(s[t]))\n",
    "        \n",
    "        ##############################################\n",
    "        ########### Constrained Production ###########\n",
    "        ##############################################\n",
    "        for i in range(0,len(xmax)):\n",
    "            x[t][i] = min(xmax[i], s[t][i]*d[t][i])\n",
    "            #print(s[t][i]*d[t][i])\n",
    "        \n",
    "        ##############################################\n",
    "        ############ Constrained Delivery ############\n",
    "        ##############################################\n",
    "        \n",
    "        for i in range(0,len(xmax)):\n",
    "            #print(np.matmul(A[i],s[t]*d[t]))\n",
    "            fvec[t][i] = max(x[t][i] - np.matmul(A[i],x[t]),0) \n",
    "        #print('Constrained delivery:      {}'.format(fvec[t]))\n",
    "        \n",
    "        ###############################################\n",
    "        ############ New Aggregated Demand ############\n",
    "        ###############################################\n",
    "        for i in range(0,len(xmax)):\n",
    "            d[t+1][i] = np.matmul(L[i],fvec[t])\n",
    "        t=t+1\n",
    "    \n",
    "        if t == TT:\n",
    "            print(\"Algoritm did not converge\")\n",
    "        \n",
    "    return sum(x[t-1])/sum(x_0), sum(fvec[t-1])/sum(f_0), t"
   ]
  },
  {
   "cell_type": "code",
   "execution_count": 29,
   "id": "24ae4d4b",
   "metadata": {},
   "outputs": [
    {
     "data": {
      "text/plain": [
       "(0.4326791328395896, 0.4412252521612323, 3)"
      ]
     },
     "execution_count": 29,
     "metadata": {},
     "output_type": "execute_result"
    }
   ],
   "source": [
    "result_mixed = algo_mixed(A, L, f_max, x_max, 30, prioritize=\"yes\")\n",
    "result_mixed"
   ]
  },
  {
   "cell_type": "markdown",
   "id": "a00430fc",
   "metadata": {},
   "source": [
    "## Priority rationing"
   ]
  },
  {
   "cell_type": "markdown",
   "id": "1cb1a8da",
   "metadata": {},
   "source": [
    "Largest first rationing; firms are prioritized over the final consumer. Take\n",
    "an initial demand vector $f[0] = f$\n",
    "max as given, implying an initial aggregate demand vector\n",
    "$d[1] = Lf[0]$. Every firm $i$ ranks each customers based on initial demand size. Let  $h_{ij}$ be the $j$ largest customers of firm $i$: $h_{ij} =\n",
    "\\{k(1), k(2), ..., k(j)\n",
    ": A_{ik(1)}d_{k(1)} [1] ≥ A_{ik(2)}d_{k(2)} [1] ≥ ... ≥ A_{ik(j)}\n",
    "d_{k(j)}[1] \\}$. By looping over the\n",
    "index $t = {1, 2, ...}$, the following system is iterated forward:\n",
    "\n",
    "Formulas:\n",
    "\n",
    "$$ r_{ij}[t] = \\frac{x_i^{\\text{max}}}{\\sum_{n\\in h_{ij}}A_{ih(j)}d_{n_{(j)}}[t]} $$\n",
    "\n",
    "$$ s_i[t] = min_j \\{r_{ji}[t], 1\\} $$\n",
    "\n",
    "$$ x_i[t] = \\text{min}\\{x_i^{\\text{max}}, s_i[t]d_i[t]\\} $$\n",
    "\n",
    "$$ f_i[t] = \\text{max} \\Big\\{ x_i[t] - \\sum_{i} a_{ij} x_j[t], 0 \\Big\\}$$\n",
    "\n",
    "$$ d_i[t+1] = \\sum_{j} l_{ij} f_j[t] $$\n",
    "\n",
    "The algorithm converges to a new feasible economic allocation if $d_i[t+1] = d_i[t]$ for all i."
   ]
  },
  {
   "cell_type": "code",
   "execution_count": 30,
   "id": "62e956d4",
   "metadata": {},
   "outputs": [],
   "source": [
    "def order(A, L, fmax):\n",
    "    d = np.matmul(L, fmax)\n",
    "    list_1 = []   #lijst die we gaan sorteren van groot naar klein\n",
    "    list_2 = []   #lijst die niet gesorteerd wordt om oorspronkelijke indices terug te vinden\n",
    "    for i in range(A.shape[0]):\n",
    "        list_1.append([])\n",
    "        list_2.append([])\n",
    "    for i in range(A.shape[0]):\n",
    "        for j in range(A.shape[0]):\n",
    "            list_1[i].append(A[i][j]*d[j])     # list_1[i][j] = list_2[i][j] = A[i][j]*d[j]\n",
    "            list_2[i].append(A[i][j]*d[j])\n",
    "        list_1[i].sort(reverse = True)              #list_1 sorteren van groot naar klein: A[i][j]*d[j] >= A[i][j+1]*d[j+1]\n",
    "\n",
    "    names_ordered=[]\n",
    "    for i in range(A.shape[0]):\n",
    "        names_ordered.append([])\n",
    "    \n",
    "    for i in range(A.shape[0]):\n",
    "        for k in list_1[i]:                 # we willen nu de indices van de j+1 (j van 0 tot en met N-1) grootste suppliers  \n",
    "                for l in range(A.shape[0]):   #van firm i. Hiervoor gebruiken we de ongesorteerde lijst (list_2)\n",
    "                    if list_2[i][l] == k:\n",
    "                        names_ordered[i].append(l)   \n",
    "    return names_ordered"
   ]
  },
  {
   "cell_type": "code",
   "execution_count": 31,
   "id": "132598ee",
   "metadata": {},
   "outputs": [],
   "source": [
    "def algo_priority(A, L, fmax, xmax, ordered, TT,  prioritize=\"yes\"):               \n",
    "    x = [0]\n",
    "    fvec = []   # initial demand vector\n",
    "    fvec.append(fmax)\n",
    "    rvec = [0]  # output constraints\n",
    "    s = [0]     # input bottlenecks \n",
    "    d = [0]     # aggregated demand vector \n",
    "    d.append(np.matmul(L, fvec[0])) #d[1] = L*f[0]\n",
    "    \n",
    "    list_ = [1] \n",
    "    t=1\n",
    "    epsilon = 1e-6\n",
    "    \n",
    "    while not np.all(abs(d[t] - d[t-1]) < epsilon) and t<TT:\n",
    "        #print('\\nIteration {0}'.format(t))\n",
    "        #print('---------')\n",
    "        #print('Initial aggregated demand: {}'.format(d[t]))\n",
    "        rvec.append([np.zeros(N)])\n",
    "        s.append(np.ones(N))\n",
    "        fvec.append(np.ones(N))\n",
    "        x.append(np.ones(N))\n",
    "        d.append(np.ones(N))\n",
    "        demand = np.identity(N)\n",
    "        \n",
    "        som = 0\n",
    "        for i in range(0,N):\n",
    "            for j in range(0,N):\n",
    "                for k in ordered[i][:j+1]:\n",
    "                    som = som + A[i][k]*d[t][k] \n",
    "                demand[i][j] = som   #demand[i][j] = demand of j'th biggest customers of firm i summed up\n",
    "                som = 0\n",
    "        remainder = np.identity(N)\n",
    "    \n",
    "        for i in range(0,N):\n",
    "            for j in range(0,N):\n",
    "                remainder[i][j] = xmax[i] - demand[i][j]\n",
    "                \n",
    "        ####################################################\n",
    "        ####################### rvec #######################\n",
    "        ####################################################\n",
    "        for i in range(0,N):\n",
    "            rvec[t].append([])\n",
    "        for i in range(0,N):\n",
    "            if all(remainder[i][j]>0 for j in range(0,N)):\n",
    "                rvec[t][i] = np.ones(N) \n",
    "            elif all(remainder[i][j]<=0 for j in range(0,N)): \n",
    "                rvec[t][i] = np.zeros(N)\n",
    "                for k in ordered[i][:1]: \n",
    "                    rvec[t][i][k] = xmax[i]/demand[i][0]\n",
    "        \n",
    "            else: \n",
    "                idx = np.where(remainder[i]<=0) # index for partially met demand\n",
    "                idx_fully = np.where(remainder[i]>0) \n",
    "                length = len(idx_fully[0])\n",
    "                rvec[t][i] = np.zeros(N)\n",
    "                for l in range(0,length-1):\n",
    "                    index = ordered[i][l]\n",
    "                    rvec[t][i][index] = 1\n",
    "                m = ordered[i][length-1]\n",
    "                rvec[t][i][m] = remainder[i][length-1]/(demand[i][length]-demand[i][length-1])\n",
    "                \n",
    "        #####################################################\n",
    "        ################# Input bottlenecks #################\n",
    "        #####################################################\n",
    "        for i in range(0,N):\n",
    "            for j in range(0,N):\n",
    "                if A[j][i]>0:\n",
    "                    list_.append(rvec[t][j][i])\n",
    "            s[t][i] = min(list_)\n",
    "            list_ = [1]   \n",
    "        #print('Input bottlenecks:         {}'.format(s[t]))\n",
    "        \n",
    "        ######################################################\n",
    "        ############### Constrained Production ###############\n",
    "        ######################################################\n",
    "        for i in range(0,N):\n",
    "            x[t][i] = min(xmax[i], s[t][i]*d[t][i])\n",
    "            \n",
    "       \n",
    "        ######################################################\n",
    "        ################ Constrained Delivery ################\n",
    "        ######################################################\n",
    "        for i in range(0,len(xmax)):\n",
    "            fvec[t][i] = max(x[t][i] - np.matmul(A[i],x[t]),0)\n",
    "        \n",
    "        ######################################################\n",
    "        ################ Aggregated demand ###################\n",
    "        ######################################################\n",
    "        for i in range(0,len(xmax)):\n",
    "            d[t+1][i] = np.matmul(L[i],fvec[t])\n",
    "            \n",
    "        t=t+1\n",
    "        if t==TT:\n",
    "            print(\"Algorithm did not converge\")\n",
    "    return sum(x[t-1])/sum(x_0), sum(fvec[t-1])/sum(f_0), t"
   ]
  },
  {
   "cell_type": "code",
   "execution_count": 32,
   "id": "35e86d71",
   "metadata": {},
   "outputs": [
    {
     "data": {
      "text/plain": [
       "(0.0, 0.0, 3)"
      ]
     },
     "execution_count": 32,
     "metadata": {},
     "output_type": "execute_result"
    }
   ],
   "source": [
    "names_ordered = order(A,L,f_max)\n",
    "result_priority = algo_priority(A, L, f_max, x_max, names_ordered, 30, prioritize=\"yes\")\n",
    "result_priority"
   ]
  },
  {
   "cell_type": "markdown",
   "id": "a9c9ec1e",
   "metadata": {},
   "source": [
    "## Random rationing"
   ]
  },
  {
   "cell_type": "code",
   "execution_count": 33,
   "id": "7bb28f74",
   "metadata": {},
   "outputs": [],
   "source": [
    "from random import randrange"
   ]
  },
  {
   "cell_type": "code",
   "execution_count": 34,
   "id": "c0aa9281",
   "metadata": {},
   "outputs": [],
   "source": [
    "def algo_random(A, L, fmax, xmax, runs, prioritize = \"random\"):\n",
    "    x = []\n",
    "    y = []\n",
    "    while len(x)<runs:\n",
    "        random_ordered=[]\n",
    "        for i in range(N):\n",
    "            random_ordered.append([])\n",
    "    \n",
    "        for i in range(N):\n",
    "            while len(random_ordered[i])<N:\n",
    "                random = randrange(N)\n",
    "                while random in random_ordered[i]:\n",
    "                    random = randrange(N)# we willen nu de indices van de j+1 (j van 0 tot en met N-1) grootste suppliers  \n",
    "                random_ordered[i].append(random)\n",
    "\n",
    "        result = algo_priority(A, L, fmax, xmax, random_ordered, 25, prioritize=\"yes\")\n",
    "        result_x = result[0]\n",
    "        result_y = result[1]\n",
    "        t = result[2]\n",
    "        \n",
    "        x.append(result_x)\n",
    "        y.append(result_y)\n",
    "        \n",
    "    result_random = (sum(x)/len(x), sum(y)/len(y), t)\n",
    "    return result_random"
   ]
  },
  {
   "cell_type": "code",
   "execution_count": 35,
   "id": "a8cd81ca",
   "metadata": {},
   "outputs": [
    {
     "data": {
      "text/plain": [
       "(0.04103713814925518, 0.043312642382544474, 3)"
      ]
     },
     "execution_count": 35,
     "metadata": {},
     "output_type": "execute_result"
    }
   ],
   "source": [
    "result_random = algo_random(A, L, f_max, x_max, 100, prioritize = \"random\")\n",
    "result_random"
   ]
  },
  {
   "cell_type": "code",
   "execution_count": 36,
   "id": "ded5d2aa",
   "metadata": {},
   "outputs": [
    {
     "name": "stdout",
     "output_type": "stream",
     "text": [
      "(0.16225463865054215, 0.1687630239228383, 6)\n",
      "(0.4326791328395896, 0.4412252521612323, 3)\n",
      "(0.0, 0.0, 3)\n",
      "(0.04103713814925518, 0.043312642382544474, 3)\n",
      "(0.6133400575407387, 0.6399275423015803)\n",
      "(0.6133407028249319, 0.6399275423015828)\n",
      "(0.7256416370029266, 0.8905066210075246)\n"
     ]
    }
   ],
   "source": [
    "print(result_proportional)\n",
    "print(result_mixed)\n",
    "print(result_priority)\n",
    "print(result_random)\n",
    "\n",
    "print(Max_output)\n",
    "print(Max_consumption)\n",
    "\n",
    "print(direct_shock)"
   ]
  },
  {
   "cell_type": "code",
   "execution_count": 37,
   "id": "a727bd04",
   "metadata": {},
   "outputs": [
    {
     "data": {
      "image/png": "[encoded data removed]",
      "text/plain": [
       "<Figure size 640x480 with 1 Axes>"
      ]
     },
     "metadata": {},
     "output_type": "display_data"
    }
   ],
   "source": [
    "import matplotlib.pyplot as plt\n",
    "plt.style.use('ggplot')\n",
    "plt.title(\"Italy\")\n",
    "plt.grid(visible=None, which='major', axis='both', linestyle='-', linewidth=1)\n",
    "\n",
    "plt.plot(result_proportional[1], result_proportional[0], 'b^')\n",
    "plt.plot(result_mixed[1], result_mixed[0], 'b^')\n",
    "plt.plot(result_priority[1], result_priority[0], 'b^')\n",
    "plt.plot(result_random[1], result_random[0], 'b^')\n",
    "plt.plot(Max_consumption[1], Max_consumption[0], 'b^')\n",
    "plt.plot(Max_output[1], Max_output[0], 'b^')\n",
    "plt.plot(direct_shock[1], direct_shock[0], 'b^')\n",
    "\n",
    "#x = np.linspace(-0.09,1.1)\n",
    "#y = x\n",
    "#plt.plot(x,y, 'k--', linewidth =0.5)\n",
    "\n",
    "plt.text(0.1,0.12,'Proportional')\n",
    "plt.text(0.4,0.36,'Mixed')\n",
    "plt.text(0.0,0.06,'Random')\n",
    "plt.text(-0.06,-0.06,'Priority')\n",
    "plt.text(0.58,0.65, 'Maximize f')\n",
    "plt.text(0.53,0.56, 'Maximize x')\n",
    "plt.text(0.79,0.75, 'Direct shock')\n",
    "\n",
    "plt.xlim(-0.09,1) \n",
    "plt.ylim(-0.09,1)\n",
    "\n",
    "plt.xlabel(\"Final Consumption\")\n",
    "plt.ylabel(\"Gross Output\")\n",
    "plt.savefig('plot_Italy.png')\n",
    "plt.show()"
   ]
  },
  {
   "cell_type": "markdown",
   "id": "49b6d93c",
   "metadata": {},
   "source": [
    "# Shock Magnitude Effect"
   ]
  },
  {
   "cell_type": "code",
   "execution_count": 38,
   "id": "aa3e4f75",
   "metadata": {},
   "outputs": [],
   "source": [
    "def shockscale(x, xmax, f, fmax, scale_x, scale_f):\n",
    "    ss_full = np.divide(xmax,x)-1\n",
    "    ds_full = np.divide(fmax,f)-1\n",
    "    \n",
    "    ss = ss_full*scale_x\n",
    "    \n",
    "    x_shocked = np.zeros(N)\n",
    "    \n",
    "    for i in range (0,N):\n",
    "        x_shocked[i] = (np.ones(N)+ ss)[i]*x[i]\n",
    "\n",
    "    \n",
    "    ds = ds_full*scale_f\n",
    "    f_shocked = np.zeros(N)\n",
    "    \n",
    "    for i in range (0,N):\n",
    "        f_shocked[i] = (np.ones(N)+ ds)[i]*f[i]\n",
    "    \n",
    "    return x_shocked, f_shocked"
   ]
  },
  {
   "cell_type": "markdown",
   "id": "7030cead",
   "metadata": {},
   "source": [
    "### Direct shock"
   ]
  },
  {
   "cell_type": "code",
   "execution_count": 39,
   "id": "38c08415",
   "metadata": {},
   "outputs": [],
   "source": [
    "def scale_run_direct_shock(scalewhat = \"both\", seq = np.linspace(0,1,100)):    \n",
    "    res_dir_x = []\n",
    "    res_dir_f = []\n",
    "    for i in range(0, len(seq)):\n",
    "        if scalewhat == \"both\":\n",
    "            scaleres = shockscale(x_0, x_max, f_0, f_max, scale_x=seq[i], scale_f=seq[i])\n",
    "            \n",
    "        if scalewhat == \"supply\":\n",
    "            scaleres = shockscale(x_0, x_max, f_0, f_max, scale_x=seq[i], scale_f=0)\n",
    "            \n",
    "        if scalewhat == \"demand\":\n",
    "            scaleres = shockscale(x_0, x_max, f_0, f_max, scale_x=0, scale_f=seq[i])\n",
    "            \n",
    "    \n",
    "        res_dir_x.append(sum(scaleres[0])/sum(x_0))\n",
    "        res_dir_f.append(sum(scaleres[1])/sum(f_0)) \n",
    "    dataframe = {'x': res_dir_x,\n",
    "                 'f': res_dir_f,\n",
    "                'Scale': scalewhat, 'Algorithm': 'Direct_shock', 'a': seq}\n",
    "    df = pd.DataFrame(dataframe)\n",
    "        \n",
    "    return df"
   ]
  },
  {
   "cell_type": "markdown",
   "id": "503675e7",
   "metadata": {},
   "source": [
    "### Optimization"
   ]
  },
  {
   "cell_type": "code",
   "execution_count": 40,
   "id": "66343895",
   "metadata": {},
   "outputs": [],
   "source": [
    "def scale_run_optimizationX(scalewhat = \"both\", runs = 100, seq = np.linspace(0,1,100)):\n",
    "    resmax_output_x = []\n",
    "    resmax_output_f = []\n",
    "    \n",
    "    i=0\n",
    "    while i <len(seq):\n",
    "        if scalewhat == \"both\":\n",
    "            scaleres = shockscale(x_0, x_max, f_0, f_max, scale_x=seq[i], scale_f=seq[i])\n",
    "            \n",
    "        if scalewhat == \"supply\":\n",
    "            scaleres = shockscale(x_0, x_max, f_0, f_max, scale_x=seq[i], scale_f=0)\n",
    "            \n",
    "        if scalewhat == \"demand\":\n",
    "            scaleres = shockscale(x_0, x_max, f_0, f_max, scale_x=0, scale_f=seq[i])\n",
    "        \n",
    "        #print(scaleres[0])\n",
    "        resmaxX = max_output(N , L, A, xmax = scaleres[0], fmax=scaleres[1])\n",
    "        #print(resmaxX)\n",
    "        if resmaxX[0] == True:\n",
    "        #print(resmaxX)\n",
    "            resmax_output_x.append(resmaxX[1])\n",
    "            resmax_output_f.append(resmaxX[2])\n",
    "        else: \n",
    "            resmax_output_x.append('NaN')\n",
    "            resmax_output_f.append('NaN')\n",
    "            \n",
    "            \n",
    "        i = i+1\n",
    "        \n",
    "        \n",
    "    dataframe = {'x': resmax_output_x,\n",
    "                 'f': resmax_output_f,\n",
    "                'Scale': scalewhat, 'Algorithm': 'Max_output', 'a': seq}\n",
    "    df = pd.DataFrame(dataframe)\n",
    "    \n",
    "    return df"
   ]
  },
  {
   "cell_type": "code",
   "execution_count": 41,
   "id": "4d8d6336",
   "metadata": {},
   "outputs": [],
   "source": [
    "x_direct_D = scale_run_direct_shock(scalewhat = \"demand\",  seq = np.linspace(0,1,100)).iloc[:,0].tolist()\n",
    "a_direct_D = scale_run_direct_shock(scalewhat = \"demand\",  seq = np.linspace(0,1,100)).iloc[:,4].tolist()\n",
    "\n",
    "x_opt_D = scale_run_optimizationX(scalewhat = \"demand\", runs = 100, seq = np.linspace(0,1,100)).iloc[:,0].tolist()\n",
    "a_opt_D = scale_run_optimizationX(scalewhat = \"demand\", runs = 100, seq = np.linspace(0,1,100)).iloc[:,4].tolist()"
   ]
  },
  {
   "cell_type": "markdown",
   "id": "69a53a40",
   "metadata": {},
   "source": [
    "### Rationing "
   ]
  },
  {
   "cell_type": "code",
   "execution_count": 42,
   "id": "3e2d0dae",
   "metadata": {},
   "outputs": [],
   "source": [
    "TT = 25"
   ]
  },
  {
   "cell_type": "code",
   "execution_count": 43,
   "id": "28cb905c",
   "metadata": {},
   "outputs": [],
   "source": [
    "def scale_run_rationing(scalewhat = \"both\",  seq = np.linspace(0,1,100)):\n",
    "    res1x = []\n",
    "    res1f = []\n",
    "    \n",
    "    res2x = []\n",
    "    res2f = []\n",
    "    \n",
    "    res3x = []\n",
    "    res3f = []\n",
    "    i=0\n",
    "    while i <len(seq):\n",
    "        if scalewhat == \"both\":\n",
    "            scaleres = shockscale(x_0, x_max, f_0, f_max,scale_x=seq[i], scale_f=seq[i])\n",
    "            \n",
    "        if scalewhat == \"supply\":\n",
    "            scaleres = shockscale(x_0, x_max, f_0, f_max,scale_x=seq[i], scale_f=0)\n",
    "            \n",
    "        if scalewhat == \"demand\":\n",
    "            scaleres = shockscale(x_0, x_max, f_0, f_max,scale_x=0, scale_f=seq[i])\n",
    "        \n",
    "        res1 = algo_proportional(A, L, scaleres[1], scaleres[0], TT, prioritize = \"no\")\n",
    "        res2 = algo_mixed(A, L, scaleres[1], scaleres[0],TT, prioritize=\"yes\")\n",
    "        names_ordered = order(A,L,scaleres[1])\n",
    "        res3 = algo_priority(A, L, scaleres[1], scaleres[0], names_ordered,TT, prioritize=\"yes\")\n",
    "        \n",
    "        if res1[2] != 100:\n",
    "            res1x.append(res1[0])\n",
    "            res1f.append(res1[1])\n",
    "        else:\n",
    "            res1x.append('NaN')\n",
    "            res1f.append('NaN')\n",
    "        \n",
    "        if res2[2] != 100:\n",
    "            res2x.append(res2[0])\n",
    "            res2f.append(res2[1])\n",
    "        else:\n",
    "            res2x.append('NaN')\n",
    "            res2f.append('NaN')\n",
    "            \n",
    "        if res3[2] != 100:\n",
    "            res3x.append(res3[0])\n",
    "            res3f.append(res3[1])\n",
    "        else:\n",
    "            res3x.append('NaN')\n",
    "            res3f.append('NaN')\n",
    "        \n",
    "        i= i+1\n",
    "    \n",
    "    dataframe1 = {'x': res1x, 'f': res1f, 'Scale': scalewhat, 'Algorithm': 'Proportional', 'a': seq }\n",
    "    df1 = pd.DataFrame(dataframe1)\n",
    "    \n",
    "    dataframe2 = {'x': res2x, 'f': res2f, 'Scale': scalewhat, 'Algorithm': 'Mixed', 'a': seq }\n",
    "    df2 = pd.DataFrame(dataframe2)\n",
    "    \n",
    "    dataframe3 = {'x': res3x, 'f': res3f, 'Scale': scalewhat, 'Algorithm': 'Priority', 'a': seq }  \n",
    "    df3 = pd.DataFrame(dataframe3)\n",
    "    \n",
    "    return df1, df2, df3"
   ]
  },
  {
   "cell_type": "code",
   "execution_count": 44,
   "id": "3befb713",
   "metadata": {},
   "outputs": [],
   "source": [
    "def scale_run_random_rationing(scalewhat = \"both\", seq = np.linspace(0,1,100)):\n",
    "    res4x = []\n",
    "    res4f = []\n",
    "    i=0\n",
    "    while i < len(seq):\n",
    "        if scalewhat == \"both\":\n",
    "            scaleres = shockscale(x_0, x_max, f_0, f_max,scale_x=seq[i], scale_f=seq[i])\n",
    "            \n",
    "        if scalewhat == \"supply\":\n",
    "            scaleres = shockscale(x_0, x_max, f_0, f_max,scale_x=seq[i], scale_f=0)\n",
    "            \n",
    "        if scalewhat == \"demand\":\n",
    "            scaleres = shockscale(x_0, x_max, f_0, f_max,scale_x=0, scale_f=seq[i])\n",
    "        \n",
    "           \n",
    "        res4 = algo_random(A, L, scaleres[1], scaleres[0], 50, prioritize = \"random\")\n",
    "        \n",
    "        if res4[2] != 100:\n",
    "            res4x.append(res4[0])\n",
    "            res4f.append(res4[1]) \n",
    "        else:\n",
    "            res4x.append('NaN')\n",
    "            res4f.append('NaN') \n",
    "        \n",
    "        i = i+1\n",
    "    \n",
    "    dataframe4 = {'x': res4x, 'f': res4f, 'Scale': scalewhat, 'Algorithm': 'Random', 'a': seq}  \n",
    "    df4 = pd.DataFrame(dataframe4)\n",
    "    \n",
    "    return df4"
   ]
  },
  {
   "cell_type": "markdown",
   "id": "ea3afe6a",
   "metadata": {},
   "source": [
    "# Plots"
   ]
  },
  {
   "cell_type": "markdown",
   "id": "7847a8f2",
   "metadata": {},
   "source": [
    "## No supply shocks"
   ]
  },
  {
   "cell_type": "markdown",
   "id": "d519c3ff",
   "metadata": {},
   "source": [
    "We first investigate the impact of the demand shock magnitude on the economic impact\n",
    "predictions. To do this, we set $\\alpha^S = 0$ and we let $\\alpha^D$ range between 0 and 1. For 100\n",
    "different values of $\\alpha^D$, we apply the optimization methods and the rationing algorithms\n",
    "to the new shock data."
   ]
  },
  {
   "cell_type": "code",
   "execution_count": 45,
   "id": "fd9aefdd",
   "metadata": {},
   "outputs": [
    {
     "data": {
      "image/png": "[encoded data removed]",
      "text/plain": [
       "<Figure size 640x480 with 1 Axes>"
      ]
     },
     "metadata": {},
     "output_type": "display_data"
    }
   ],
   "source": [
    "import matplotlib.pyplot as plt\n",
    "plt.style.use('ggplot')\n",
    "plt.title(\"Italy\")\n",
    "plt.grid(visible=None, which='major', axis='both', linestyle='-', linewidth=1)\n",
    "plt.plot(a_direct_D, x_direct_D)\n",
    "plt.plot(a_opt_D, x_opt_D)\n",
    "plt.xlim(-0.05, 1) \n",
    "plt.ylim(-0.00,1.1)\n",
    "\n",
    "#plt.rcParams['text.usetex'] = True\n",
    "plt.xlabel(r'$\\alpha^D$')\n",
    "plt.ylabel(\"Gross Output (% of pre-shock level)\")\n",
    "plt.legend(['Direct shock', 'Optimization and Rationing'])\n",
    "plt.savefig('plot_ita_scale_demand.png')"
   ]
  },
  {
   "cell_type": "markdown",
   "id": "5bc6610c",
   "metadata": {},
   "source": [
    "## No demand shocks"
   ]
  },
  {
   "cell_type": "markdown",
   "id": "6a657192",
   "metadata": {},
   "source": [
    "We now look at what happens if we only rescale the supply shock and set $\\alpha^D = 0$."
   ]
  },
  {
   "cell_type": "code",
   "execution_count": 46,
   "id": "d766f1d6",
   "metadata": {},
   "outputs": [],
   "source": [
    "result_direct = scale_run_direct_shock(scalewhat = \"supply\",  seq = np.linspace(0,1,100))\n",
    "x_direct = np.array(result_direct.iloc[:,0].astype('float'))\n",
    "a_direct = np.array(result_direct.iloc[:,4].astype('float'))\n",
    "\n",
    "result_opt = scale_run_optimizationX(scalewhat = \"supply\", runs = 100, seq = np.linspace(0,1,100))\n",
    "x_opt= np.array(result_opt.iloc[:,0].astype('float'))\n",
    "a_opt = np.array(result_opt.iloc[:,4].astype('float'))\n",
    "\n",
    "\n",
    "result_prop = scale_run_rationing(scalewhat = \"supply\",  seq = np.linspace(0,1,100))[0]\n",
    "x_prop = np.array(result_prop.iloc[:,0].astype('float'))\n",
    "a_prop = np.array(result_prop.iloc[:,4].astype('float'))\n",
    "\n",
    "result_mixed = scale_run_rationing(scalewhat = \"supply\",  seq = np.linspace(0,1,100))[1]\n",
    "x_mixed = np.array(result_mixed.iloc[:,0].astype('float'))\n",
    "a_mixed = np.array(result_mixed.iloc[:,4].astype('float'))\n",
    "\n",
    "result_priority = scale_run_rationing(scalewhat = \"supply\",  seq = np.linspace(0,1,100))[2]\n",
    "x_priority = np.array(result_priority.iloc[:,0].astype('float'))\n",
    "a_priority = np.array(result_priority.iloc[:,4].astype('float'))"
   ]
  },
  {
   "cell_type": "code",
   "execution_count": 47,
   "id": "64550f94",
   "metadata": {},
   "outputs": [],
   "source": [
    "result_random = scale_run_random_rationing(scalewhat = \"supply\", seq = np.linspace(0,1,100))\n",
    "x_random = np.array(result_random.iloc[:,0].astype('float'))\n",
    "a_random = np.array(result_random.iloc[:,4].astype('float'))"
   ]
  },
  {
   "cell_type": "code",
   "execution_count": 48,
   "id": "eb971c0a",
   "metadata": {},
   "outputs": [
    {
     "data": {
      "image/png": "[encoded data removed]",
      "text/plain": [
       "<Figure size 640x480 with 1 Axes>"
      ]
     },
     "metadata": {},
     "output_type": "display_data"
    }
   ],
   "source": [
    "import matplotlib.pyplot as plt\n",
    "\n",
    "plt.style.use('ggplot')\n",
    "plt.title(\"Italy\")\n",
    "plt.grid(visible=None, which='major', axis='both', linestyle='-', linewidth=1)\n",
    "\n",
    "plt.plot(a_direct, x_direct, 'black')\n",
    "plt.plot(a_opt, x_opt, 'red')\n",
    "plt.plot(a_prop, x_prop, 'green')\n",
    "plt.plot(a_mixed, x_mixed, 'grey')\n",
    "plt.plot(a_priority, x_priority, 'orange')\n",
    "plt.plot(a_random, x_random, 'blue')\n",
    "\n",
    "plt.xlim(-0.05, 1) \n",
    "plt.ylim(-0.00,1.1)\n",
    "#plt.rcParams['text.usetex'] = True\n",
    "plt.xlabel(r'$\\alpha^S$')\n",
    "plt.ylabel(\"Gross Output (% of pre-shock level)\")\n",
    "plt.legend(['Direct shock', 'Maximization', 'Proportional', 'Mixed', 'Priority', 'Random'])\n",
    "plt.savefig('plot_ita_scale_juist.png')"
   ]
  }
 ],
 "metadata": {
  "kernelspec": {
   "display_name": "venv test",
   "language": "python",
   "name": "venv"
  },
  "language_info": {
   "codemirror_mode": {
    "name": "ipython",
    "version": 3
   },
   "file_extension": ".py",
   "mimetype": "text/x-python",
   "name": "python",
   "nbconvert_exporter": "python",
   "pygments_lexer": "ipython3",
   "version": "3.10.9"
  }
 },
 "nbformat": 4,
 "nbformat_minor": 5
}
