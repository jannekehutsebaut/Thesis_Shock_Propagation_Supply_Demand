{
 "cells": [
  {
   "cell_type": "code",
   "execution_count": 1,
   "id": "d69dad87",
   "metadata": {},
   "outputs": [],
   "source": [
    "import pandas as pd\n",
    "import numpy as np"
   ]
  },
  {
   "cell_type": "markdown",
   "id": "d575f677",
   "metadata": {},
   "source": [
    "# Data for final consumption and total output"
   ]
  },
  {
   "cell_type": "markdown",
   "id": "d12500d2",
   "metadata": {},
   "source": [
    "We apply our models to the input-output data of Germany. The data\n",
    "we use for initial output and final consumption per industry, as well as the supply and\n",
    "demand shock data is taken from:\n",
    "\n",
    "Pichler, A. and Farmer, J. D. (2021b). Simultaneous supply and demand constraints in\n",
    "input–output networks: the case of covid-19 in Germany, Italy and Spain (Version V1).\n",
    "Zenodo. https://doi.org/10.5281/zenodo.4326815"
   ]
  },
  {
   "cell_type": "markdown",
   "id": "9118cff0",
   "metadata": {},
   "source": [
    "## Final consumption"
   ]
  },
  {
   "cell_type": "code",
   "execution_count": 2,
   "id": "a0c01f4c",
   "metadata": {},
   "outputs": [
    {
     "data": {
      "text/html": [
       "<div>\n",
       "<style scoped>\n",
       "    .dataframe tbody tr th:only-of-type {\n",
       "        vertical-align: middle;\n",
       "    }\n",
       "\n",
       "    .dataframe tbody tr th {\n",
       "        vertical-align: top;\n",
       "    }\n",
       "\n",
       "    .dataframe thead th {\n",
       "        text-align: right;\n",
       "    }\n",
       "</style>\n",
       "<table border=\"1\" class=\"dataframe\">\n",
       "  <thead>\n",
       "    <tr style=\"text-align: right;\">\n",
       "      <th></th>\n",
       "      <th>Unnamed: 0</th>\n",
       "      <th>f</th>\n",
       "      <th>fmin</th>\n",
       "      <th>fmax</th>\n",
       "      <th>f.maxF</th>\n",
       "      <th>f.maxX</th>\n",
       "    </tr>\n",
       "  </thead>\n",
       "  <tbody>\n",
       "    <tr>\n",
       "      <th>0</th>\n",
       "      <td>A01</td>\n",
       "      <td>22067.825137</td>\n",
       "      <td>0</td>\n",
       "      <td>19878.183746</td>\n",
       "      <td>1.987818e+04</td>\n",
       "      <td>19878.183746</td>\n",
       "    </tr>\n",
       "    <tr>\n",
       "      <th>1</th>\n",
       "      <td>A02</td>\n",
       "      <td>491.390952</td>\n",
       "      <td>0</td>\n",
       "      <td>449.053800</td>\n",
       "      <td>3.435896e-11</td>\n",
       "      <td>0.000000</td>\n",
       "    </tr>\n",
       "    <tr>\n",
       "      <th>2</th>\n",
       "      <td>A03</td>\n",
       "      <td>2136.674970</td>\n",
       "      <td>0</td>\n",
       "      <td>1923.204924</td>\n",
       "      <td>1.923205e+03</td>\n",
       "      <td>1923.204924</td>\n",
       "    </tr>\n",
       "    <tr>\n",
       "      <th>3</th>\n",
       "      <td>B</td>\n",
       "      <td>7537.433840</td>\n",
       "      <td>0</td>\n",
       "      <td>6785.237797</td>\n",
       "      <td>3.846149e+03</td>\n",
       "      <td>3845.767925</td>\n",
       "    </tr>\n",
       "    <tr>\n",
       "      <th>4</th>\n",
       "      <td>C10-C12</td>\n",
       "      <td>77720.433660</td>\n",
       "      <td>0</td>\n",
       "      <td>69972.411738</td>\n",
       "      <td>5.427950e-09</td>\n",
       "      <td>9006.175456</td>\n",
       "    </tr>\n",
       "  </tbody>\n",
       "</table>\n",
       "</div>"
      ],
      "text/plain": [
       "  Unnamed: 0             f  fmin          fmax        f.maxF        f.maxX\n",
       "0        A01  22067.825137     0  19878.183746  1.987818e+04  19878.183746\n",
       "1        A02    491.390952     0    449.053800  3.435896e-11      0.000000\n",
       "2        A03   2136.674970     0   1923.204924  1.923205e+03   1923.204924\n",
       "3          B   7537.433840     0   6785.237797  3.846149e+03   3845.767925\n",
       "4    C10-C12  77720.433660     0  69972.411738  5.427950e-09   9006.175456"
      ]
     },
     "execution_count": 2,
     "metadata": {},
     "output_type": "execute_result"
    }
   ],
   "source": [
    "fdata = pd.read_csv('data_esp.csv', sep = ',')\n",
    "f = fdata['f'].astype('float')\n",
    "fdata.head()"
   ]
  },
  {
   "cell_type": "code",
   "execution_count": 3,
   "id": "47c44086",
   "metadata": {},
   "outputs": [
    {
     "name": "stdout",
     "output_type": "stream",
     "text": [
      "[ 0.099  0.086  0.1    0.1    0.1    0.1    0.1    0.1    0.099  0.1\n",
      "  0.099  0.093  0.099  0.1    0.1    0.1    0.099  0.1    0.1    0.1\n",
      "  0.099  0.099  0.1    0.008  0.009  0.025  0.099  0.1    0.095  0.095\n",
      "  0.388  0.275  0.247  0.197  0.022  0.755  0.054  0.038  0.016  0.095\n",
      "  0.038  0.008  0.019  0.001  0.079  0.093  0.079  0.091  0.035  0.042\n",
      "  0.007  0.01   0.001  0.043 -0.   ]\n"
     ]
    }
   ],
   "source": [
    "fmax = fdata.iloc[:,3]\n",
    "f_initial = fdata.iloc[:,1]\n",
    "\n",
    "shock = np.zeros(fmax.shape[0])\n",
    "for i in range (0,fmax.shape[0]):\n",
    "    shock[i] = round(1- fmax[i]/f_initial[i],3)\n",
    "    \n",
    "print(shock) # ok! "
   ]
  },
  {
   "cell_type": "code",
   "execution_count": 4,
   "id": "e9524638",
   "metadata": {},
   "outputs": [],
   "source": [
    "fmax = fdata.loc[:,fdata.columns.str.contains('fmax')]\n",
    "fmax = fmax.astype('float') #leaving out T\n",
    "fmax = np.array(fmax)\n",
    "fmax.shape\n",
    "\n",
    "f_max = np.zeros(fmax.shape[0])\n",
    "for i in range (fmax.shape[0]):\n",
    "    f_max[i] = fmax[i][0]"
   ]
  },
  {
   "cell_type": "markdown",
   "id": "2012b38d",
   "metadata": {},
   "source": [
    "## Total output"
   ]
  },
  {
   "cell_type": "code",
   "execution_count": 5,
   "id": "32e86384",
   "metadata": {},
   "outputs": [
    {
     "data": {
      "text/html": [
       "<div>\n",
       "<style scoped>\n",
       "    .dataframe tbody tr th:only-of-type {\n",
       "        vertical-align: middle;\n",
       "    }\n",
       "\n",
       "    .dataframe tbody tr th {\n",
       "        vertical-align: top;\n",
       "    }\n",
       "\n",
       "    .dataframe thead th {\n",
       "        text-align: right;\n",
       "    }\n",
       "</style>\n",
       "<table border=\"1\" class=\"dataframe\">\n",
       "  <thead>\n",
       "    <tr style=\"text-align: right;\">\n",
       "      <th></th>\n",
       "      <th>Unnamed: 0</th>\n",
       "      <th>x</th>\n",
       "      <th>xmin</th>\n",
       "      <th>xmax</th>\n",
       "      <th>x.maxF</th>\n",
       "      <th>x.maxX</th>\n",
       "    </tr>\n",
       "  </thead>\n",
       "  <tbody>\n",
       "    <tr>\n",
       "      <th>0</th>\n",
       "      <td>A01</td>\n",
       "      <td>55296.202212</td>\n",
       "      <td>0</td>\n",
       "      <td>55296.202212</td>\n",
       "      <td>26979.266525</td>\n",
       "      <td>29126.656345</td>\n",
       "    </tr>\n",
       "    <tr>\n",
       "      <th>1</th>\n",
       "      <td>A02</td>\n",
       "      <td>1280.146466</td>\n",
       "      <td>0</td>\n",
       "      <td>192.023581</td>\n",
       "      <td>192.023581</td>\n",
       "      <td>192.023581</td>\n",
       "    </tr>\n",
       "    <tr>\n",
       "      <th>2</th>\n",
       "      <td>A03</td>\n",
       "      <td>3627.285823</td>\n",
       "      <td>0</td>\n",
       "      <td>3627.285823</td>\n",
       "      <td>2320.350569</td>\n",
       "      <td>2381.333167</td>\n",
       "    </tr>\n",
       "    <tr>\n",
       "      <th>3</th>\n",
       "      <td>B</td>\n",
       "      <td>8061.338000</td>\n",
       "      <td>0</td>\n",
       "      <td>4166.069492</td>\n",
       "      <td>4166.069492</td>\n",
       "      <td>4166.069492</td>\n",
       "    </tr>\n",
       "    <tr>\n",
       "      <th>4</th>\n",
       "      <td>C10-C12</td>\n",
       "      <td>177754.573395</td>\n",
       "      <td>0</td>\n",
       "      <td>131603.349214</td>\n",
       "      <td>27951.943564</td>\n",
       "      <td>41389.199799</td>\n",
       "    </tr>\n",
       "  </tbody>\n",
       "</table>\n",
       "</div>"
      ],
      "text/plain": [
       "  Unnamed: 0              x  xmin           xmax        x.maxF        x.maxX\n",
       "0        A01   55296.202212     0   55296.202212  26979.266525  29126.656345\n",
       "1        A02    1280.146466     0     192.023581    192.023581    192.023581\n",
       "2        A03    3627.285823     0    3627.285823   2320.350569   2381.333167\n",
       "3          B    8061.338000     0    4166.069492   4166.069492   4166.069492\n",
       "4    C10-C12  177754.573395     0  131603.349214  27951.943564  41389.199799"
      ]
     },
     "execution_count": 5,
     "metadata": {},
     "output_type": "execute_result"
    }
   ],
   "source": [
    "xdata =  pd.read_csv('xdata_esp.csv', sep = ',')\n",
    "x = xdata['x'].astype('float')\n",
    "xdata.head()   # de x-waarden zijn af te lezen in de WIOD laatste kolom"
   ]
  },
  {
   "cell_type": "code",
   "execution_count": 6,
   "id": "39e25dfa",
   "metadata": {},
   "outputs": [
    {
     "name": "stdout",
     "output_type": "stream",
     "text": [
      "[0.       0.849999 0.       0.483204 0.259635 0.685309 0.730686 0.\n",
      " 0.       0.064001 0.525183 0.       0.705058 0.639448 0.726353 0.662572\n",
      " 0.430758 0.630639 0.618354 0.696668 0.597033 0.596618 0.606449 0.058407\n",
      " 0.       0.       0.715557 0.27312  0.299699 0.256656 0.       0.\n",
      " 0.242194 0.       0.       0.646411 0.07561  0.109813 0.       0.144301\n",
      " 0.       0.       0.       0.512768 0.181406 0.459166 0.410839 0.396788\n",
      " 0.19581  0.543278 0.       0.460076 0.       0.559507 0.      ]\n"
     ]
    }
   ],
   "source": [
    "xmax = xdata.iloc[:,3]\n",
    "x_initial = xdata.iloc[:,1]\n",
    "\n",
    "shock = np.zeros(xmax.shape[0])\n",
    "for i in range (0,fmax.shape[0]):\n",
    "    shock[i] = round(1- xmax[i]/x_initial[i],6)\n",
    "    \n",
    "print(shock) # ok! "
   ]
  },
  {
   "cell_type": "code",
   "execution_count": 7,
   "id": "9774c387",
   "metadata": {},
   "outputs": [
    {
     "data": {
      "text/plain": [
       "(55,)"
      ]
     },
     "execution_count": 7,
     "metadata": {},
     "output_type": "execute_result"
    }
   ],
   "source": [
    "xmax = xdata.loc[:,xdata.columns.str.contains('xmax')]\n",
    "xmax = xmax.astype('float') #leaving out T\n",
    "xmax = np.array(xmax)\n",
    "x_max = np.zeros(xmax.shape[0])\n",
    "for i in range (xmax.shape[0]):\n",
    "    x_max[i] = xmax[i][0]\n",
    "x_max.shape"
   ]
  },
  {
   "cell_type": "markdown",
   "id": "97cb7425",
   "metadata": {},
   "source": [
    "# IO table "
   ]
  },
  {
   "cell_type": "code",
   "execution_count": 8,
   "id": "d00267df",
   "metadata": {},
   "outputs": [
    {
     "data": {
      "text/html": [
       "<div>\n",
       "<style scoped>\n",
       "    .dataframe tbody tr th:only-of-type {\n",
       "        vertical-align: middle;\n",
       "    }\n",
       "\n",
       "    .dataframe tbody tr th {\n",
       "        vertical-align: top;\n",
       "    }\n",
       "\n",
       "    .dataframe thead th {\n",
       "        text-align: right;\n",
       "    }\n",
       "</style>\n",
       "<table border=\"1\" class=\"dataframe\">\n",
       "  <thead>\n",
       "    <tr style=\"text-align: right;\">\n",
       "      <th></th>\n",
       "      <th>Unnamed: 0</th>\n",
       "      <th>A01</th>\n",
       "      <th>A02</th>\n",
       "      <th>A03</th>\n",
       "      <th>B</th>\n",
       "      <th>C10-C12</th>\n",
       "      <th>C13-C15</th>\n",
       "      <th>C16</th>\n",
       "      <th>C17</th>\n",
       "      <th>C18</th>\n",
       "      <th>...</th>\n",
       "      <th>M71</th>\n",
       "      <th>M72</th>\n",
       "      <th>M73</th>\n",
       "      <th>M74_M75</th>\n",
       "      <th>N</th>\n",
       "      <th>O84</th>\n",
       "      <th>P85</th>\n",
       "      <th>Q</th>\n",
       "      <th>R_S</th>\n",
       "      <th>T</th>\n",
       "    </tr>\n",
       "  </thead>\n",
       "  <tbody>\n",
       "    <tr>\n",
       "      <th>0</th>\n",
       "      <td>A01</td>\n",
       "      <td>0.036044</td>\n",
       "      <td>0.005051</td>\n",
       "      <td>0.004090</td>\n",
       "      <td>1.829061e-04</td>\n",
       "      <td>0.154009</td>\n",
       "      <td>0.020155</td>\n",
       "      <td>4.271070e-04</td>\n",
       "      <td>0.002918</td>\n",
       "      <td>3.278248e-04</td>\n",
       "      <td>...</td>\n",
       "      <td>2.067310e-04</td>\n",
       "      <td>0.000593</td>\n",
       "      <td>2.223937e-04</td>\n",
       "      <td>2.182217e-04</td>\n",
       "      <td>4.122063e-04</td>\n",
       "      <td>0.000796</td>\n",
       "      <td>0.000661</td>\n",
       "      <td>0.000947</td>\n",
       "      <td>0.002079</td>\n",
       "      <td>0</td>\n",
       "    </tr>\n",
       "    <tr>\n",
       "      <th>1</th>\n",
       "      <td>A02</td>\n",
       "      <td>0.000224</td>\n",
       "      <td>0.036896</td>\n",
       "      <td>0.000007</td>\n",
       "      <td>1.489546e-04</td>\n",
       "      <td>0.000306</td>\n",
       "      <td>0.000041</td>\n",
       "      <td>2.178111e-02</td>\n",
       "      <td>0.023392</td>\n",
       "      <td>3.250353e-07</td>\n",
       "      <td>...</td>\n",
       "      <td>5.292217e-07</td>\n",
       "      <td>0.000004</td>\n",
       "      <td>4.415084e-07</td>\n",
       "      <td>7.452870e-07</td>\n",
       "      <td>8.399119e-07</td>\n",
       "      <td>0.000003</td>\n",
       "      <td>0.000001</td>\n",
       "      <td>0.000001</td>\n",
       "      <td>0.000005</td>\n",
       "      <td>0</td>\n",
       "    </tr>\n",
       "    <tr>\n",
       "      <th>2</th>\n",
       "      <td>A03</td>\n",
       "      <td>0.000780</td>\n",
       "      <td>0.000000</td>\n",
       "      <td>0.023371</td>\n",
       "      <td>9.294775e-07</td>\n",
       "      <td>0.004311</td>\n",
       "      <td>0.000101</td>\n",
       "      <td>2.354406e-07</td>\n",
       "      <td>0.000064</td>\n",
       "      <td>0.000000e+00</td>\n",
       "      <td>...</td>\n",
       "      <td>3.279189e-07</td>\n",
       "      <td>0.000019</td>\n",
       "      <td>0.000000e+00</td>\n",
       "      <td>0.000000e+00</td>\n",
       "      <td>0.000000e+00</td>\n",
       "      <td>0.000081</td>\n",
       "      <td>0.000250</td>\n",
       "      <td>0.000251</td>\n",
       "      <td>0.000030</td>\n",
       "      <td>0</td>\n",
       "    </tr>\n",
       "    <tr>\n",
       "      <th>3</th>\n",
       "      <td>B</td>\n",
       "      <td>0.000066</td>\n",
       "      <td>0.000050</td>\n",
       "      <td>0.000099</td>\n",
       "      <td>1.667939e-04</td>\n",
       "      <td>0.000065</td>\n",
       "      <td>0.000106</td>\n",
       "      <td>1.365677e-04</td>\n",
       "      <td>0.000126</td>\n",
       "      <td>6.687052e-05</td>\n",
       "      <td>...</td>\n",
       "      <td>2.391449e-04</td>\n",
       "      <td>0.000050</td>\n",
       "      <td>5.490456e-05</td>\n",
       "      <td>4.593785e-05</td>\n",
       "      <td>2.998228e-05</td>\n",
       "      <td>0.000034</td>\n",
       "      <td>0.000016</td>\n",
       "      <td>0.000056</td>\n",
       "      <td>0.000027</td>\n",
       "      <td>0</td>\n",
       "    </tr>\n",
       "    <tr>\n",
       "      <th>4</th>\n",
       "      <td>C10-C12</td>\n",
       "      <td>0.217493</td>\n",
       "      <td>0.001697</td>\n",
       "      <td>0.070624</td>\n",
       "      <td>3.893840e-03</td>\n",
       "      <td>0.296567</td>\n",
       "      <td>0.030230</td>\n",
       "      <td>5.516487e-03</td>\n",
       "      <td>0.020444</td>\n",
       "      <td>5.226470e-03</td>\n",
       "      <td>...</td>\n",
       "      <td>3.152230e-03</td>\n",
       "      <td>0.004704</td>\n",
       "      <td>3.921158e-03</td>\n",
       "      <td>1.320034e-02</td>\n",
       "      <td>3.923160e-03</td>\n",
       "      <td>0.006022</td>\n",
       "      <td>0.006058</td>\n",
       "      <td>0.012565</td>\n",
       "      <td>0.008250</td>\n",
       "      <td>0</td>\n",
       "    </tr>\n",
       "  </tbody>\n",
       "</table>\n",
       "<p>5 rows × 56 columns</p>\n",
       "</div>"
      ],
      "text/plain": [
       "  Unnamed: 0       A01       A02       A03             B   C10-C12   C13-C15  \\\n",
       "0        A01  0.036044  0.005051  0.004090  1.829061e-04  0.154009  0.020155   \n",
       "1        A02  0.000224  0.036896  0.000007  1.489546e-04  0.000306  0.000041   \n",
       "2        A03  0.000780  0.000000  0.023371  9.294775e-07  0.004311  0.000101   \n",
       "3          B  0.000066  0.000050  0.000099  1.667939e-04  0.000065  0.000106   \n",
       "4    C10-C12  0.217493  0.001697  0.070624  3.893840e-03  0.296567  0.030230   \n",
       "\n",
       "            C16       C17           C18  ...           M71       M72  \\\n",
       "0  4.271070e-04  0.002918  3.278248e-04  ...  2.067310e-04  0.000593   \n",
       "1  2.178111e-02  0.023392  3.250353e-07  ...  5.292217e-07  0.000004   \n",
       "2  2.354406e-07  0.000064  0.000000e+00  ...  3.279189e-07  0.000019   \n",
       "3  1.365677e-04  0.000126  6.687052e-05  ...  2.391449e-04  0.000050   \n",
       "4  5.516487e-03  0.020444  5.226470e-03  ...  3.152230e-03  0.004704   \n",
       "\n",
       "            M73       M74_M75             N       O84       P85         Q  \\\n",
       "0  2.223937e-04  2.182217e-04  4.122063e-04  0.000796  0.000661  0.000947   \n",
       "1  4.415084e-07  7.452870e-07  8.399119e-07  0.000003  0.000001  0.000001   \n",
       "2  0.000000e+00  0.000000e+00  0.000000e+00  0.000081  0.000250  0.000251   \n",
       "3  5.490456e-05  4.593785e-05  2.998228e-05  0.000034  0.000016  0.000056   \n",
       "4  3.921158e-03  1.320034e-02  3.923160e-03  0.006022  0.006058  0.012565   \n",
       "\n",
       "        R_S  T  \n",
       "0  0.002079  0  \n",
       "1  0.000005  0  \n",
       "2  0.000030  0  \n",
       "3  0.000027  0  \n",
       "4  0.008250  0  \n",
       "\n",
       "[5 rows x 56 columns]"
      ]
     },
     "execution_count": 8,
     "metadata": {},
     "output_type": "execute_result"
    }
   ],
   "source": [
    "df = pd.read_csv('esp_wiot.csv',sep = ',',low_memory=False)\n",
    "df.head()"
   ]
  },
  {
   "cell_type": "code",
   "execution_count": 9,
   "id": "ef22029a",
   "metadata": {},
   "outputs": [
    {
     "data": {
      "text/plain": [
       "(55, 55)"
      ]
     },
     "execution_count": 9,
     "metadata": {},
     "output_type": "execute_result"
    }
   ],
   "source": [
    "df = df.iloc[:,1:]# leaving out industries U and T\n",
    "df = df.astype('float')\n",
    "df.shape"
   ]
  },
  {
   "cell_type": "markdown",
   "id": "e32d8d62",
   "metadata": {},
   "source": [
    "**Creating matrix A**"
   ]
  },
  {
   "cell_type": "code",
   "execution_count": 10,
   "id": "3b209a29",
   "metadata": {},
   "outputs": [
    {
     "data": {
      "text/plain": [
       "(55, 55)"
      ]
     },
     "execution_count": 10,
     "metadata": {},
     "output_type": "execute_result"
    }
   ],
   "source": [
    "A = np.array(df)\n",
    "N = A.shape[0]\n",
    "A.shape"
   ]
  },
  {
   "cell_type": "code",
   "execution_count": 11,
   "id": "4c9a64bb",
   "metadata": {},
   "outputs": [],
   "source": [
    "x_0 = np.array(x)"
   ]
  },
  {
   "cell_type": "code",
   "execution_count": 12,
   "id": "8ba3cc01",
   "metadata": {},
   "outputs": [],
   "source": [
    "f_0 = np.array(f)"
   ]
  },
  {
   "cell_type": "markdown",
   "id": "c4ee14fb",
   "metadata": {},
   "source": [
    "# Leontief Model"
   ]
  },
  {
   "cell_type": "markdown",
   "id": "b2220798",
   "metadata": {},
   "source": [
    "**Calculating equilibrium when x is given**"
   ]
  },
  {
   "cell_type": "code",
   "execution_count": 13,
   "id": "a4c84cd3",
   "metadata": {},
   "outputs": [
    {
     "data": {
      "text/plain": [
       "0.8722617750326089"
      ]
     },
     "execution_count": 13,
     "metadata": {},
     "output_type": "execute_result"
    }
   ],
   "source": [
    "final_consumption = np.matmul(np.identity(N)-A, x_0)\n",
    "sum(f_max)/sum(final_consumption)"
   ]
  },
  {
   "cell_type": "markdown",
   "id": "281b0b20",
   "metadata": {},
   "source": [
    "**Computing equilibrium when f is given**"
   ]
  },
  {
   "cell_type": "code",
   "execution_count": 14,
   "id": "fa335ff9",
   "metadata": {},
   "outputs": [],
   "source": [
    "L = np.linalg.inv(np.identity(N)-A)"
   ]
  },
  {
   "cell_type": "code",
   "execution_count": 15,
   "id": "2abe2e96",
   "metadata": {},
   "outputs": [
    {
     "data": {
      "text/plain": [
       "0.6671523731536442"
      ]
     },
     "execution_count": 15,
     "metadata": {},
     "output_type": "execute_result"
    }
   ],
   "source": [
    "total_output = np.matmul(L, f_0)\n",
    "sum(x_max)/sum(total_output)"
   ]
  },
  {
   "cell_type": "code",
   "execution_count": 16,
   "id": "e2f1c392",
   "metadata": {},
   "outputs": [
    {
     "data": {
      "text/plain": [
       "(0.8722617750326089, 0.6671523731536442)"
      ]
     },
     "execution_count": 16,
     "metadata": {},
     "output_type": "execute_result"
    }
   ],
   "source": [
    "direct_shock = (sum(f_max)/sum(final_consumption), sum(x_max)/sum(total_output))\n",
    "direct_shock"
   ]
  },
  {
   "cell_type": "markdown",
   "id": "bed7504e",
   "metadata": {},
   "source": [
    "# Optimalization"
   ]
  },
  {
   "cell_type": "code",
   "execution_count": 17,
   "id": "395a2995",
   "metadata": {},
   "outputs": [],
   "source": [
    "from scipy.optimize import linprog"
   ]
  },
  {
   "cell_type": "markdown",
   "id": "7bed23c7",
   "metadata": {},
   "source": [
    "### Feasible Market Allocations\n",
    "Given exogenous constraints to supply and demand, what is the feasible market allocation that maximizes final consumption and/or total output? The solution needs to lie within exogenous bounds on supply and demand and also needs to satisfy the assumption of Leontief production:\n",
    "\n",
    "$$ x = Ax + f = Lf $$\n",
    "\n",
    "We seek market allocations {$x^*$ , $f^*$} that (a) respect the given production recipes $x^*=Lf^*$ and (b) satisfy basic output and demand constraints $x^* \\in [0, x^{max}]$ and $f^* \\in [0, f^{max}]$.\n",
    "\n",
    "**Optimization procedure**\n",
    "\n",
    "As a first case, we determine the market allocation that maximizes gross output under the assumptions specified. Large levels of output indicate high levels of ecomomic activity, which in turn entail high levels of primary factors such as labor compensation. As a second case, we look at market allocations that maximize final comsumption given current production capacities. Due to the linearity of the Leontief framework, the problem boils down to linear programming exercises.\n",
    "\n",
    "*Maximizing gross output*\n",
    "$$ \\text{max}_f \\qquad 1^T(I-A)^{-1}f $$\n",
    "$$ \\text{Subject to} \\quad (I-A)^{-1}f \\in [0, x^{max}] $$\n",
    "\n",
    "*Maximizing final consumption*\n",
    "$$ \\text{max}_x \\qquad 1^T(I-A)x $$\n",
    "$$ \\text{Subject to} \\quad (I-A)x \\in [0, f^{max}] $$"
   ]
  },
  {
   "cell_type": "markdown",
   "id": "02d604cd",
   "metadata": {},
   "source": [
    "### Maximizing total output"
   ]
  },
  {
   "cell_type": "code",
   "execution_count": 18,
   "id": "6a44bf74",
   "metadata": {},
   "outputs": [
    {
     "data": {
      "text/plain": [
       "(55,)"
      ]
     },
     "execution_count": 18,
     "metadata": {},
     "output_type": "execute_result"
    }
   ],
   "source": [
    "z = np.ones(N)\n",
    "z.shape"
   ]
  },
  {
   "cell_type": "code",
   "execution_count": 19,
   "id": "f9adab99",
   "metadata": {},
   "outputs": [],
   "source": [
    "obj = -np.matmul(np.matrix.transpose(z), L)\n",
    "lhs_ineq = np.concatenate((-L,L))\n",
    "rhs_ineq = np.concatenate((np.zeros(N), x_max))"
   ]
  },
  {
   "cell_type": "code",
   "execution_count": 20,
   "id": "72ec0e22",
   "metadata": {},
   "outputs": [],
   "source": [
    "bnd = []\n",
    "for i in range (0,N):\n",
    "    bnd.append((0,f_max[i]))"
   ]
  },
  {
   "cell_type": "code",
   "execution_count": 21,
   "id": "ed251216",
   "metadata": {},
   "outputs": [
    {
     "data": {
      "text/plain": [
       "1364766.8910006615"
      ]
     },
     "execution_count": 21,
     "metadata": {},
     "output_type": "execute_result"
    }
   ],
   "source": [
    "result = linprog(c = obj, A_ub= lhs_ineq, b_ub= rhs_ineq, bounds = bnd)\n",
    "-result.fun"
   ]
  },
  {
   "cell_type": "code",
   "execution_count": 22,
   "id": "9d4ae6c9",
   "metadata": {},
   "outputs": [
    {
     "data": {
      "text/plain": [
       "1364766.8910006615"
      ]
     },
     "execution_count": 22,
     "metadata": {},
     "output_type": "execute_result"
    }
   ],
   "source": [
    "optimal_output = -result.fun\n",
    "optimal_output"
   ]
  },
  {
   "cell_type": "code",
   "execution_count": 23,
   "id": "c8a10450",
   "metadata": {},
   "outputs": [],
   "source": [
    "optimal_f = np.ones(N)\n",
    "for i in range(0,N):\n",
    "    optimal_f[i] = result.x[i]"
   ]
  },
  {
   "cell_type": "code",
   "execution_count": 24,
   "id": "50ef6e42",
   "metadata": {},
   "outputs": [
    {
     "data": {
      "text/plain": [
       "(0.5314708441396939, 0.5595152879438924)"
      ]
     },
     "execution_count": 24,
     "metadata": {},
     "output_type": "execute_result"
    }
   ],
   "source": [
    "Max_output = (optimal_output/sum(x_0), sum(optimal_f)/sum(f_0))\n",
    "Max_output"
   ]
  },
  {
   "cell_type": "markdown",
   "id": "4264b266",
   "metadata": {},
   "source": [
    "### Maximizing final consumption"
   ]
  },
  {
   "cell_type": "code",
   "execution_count": 25,
   "id": "ad66d86f",
   "metadata": {},
   "outputs": [],
   "source": [
    "obj2 = -np.matmul(np.matrix.transpose(z), np.identity(N)-A)\n",
    "lhs_ineq2 = np.concatenate((-(np.identity(N)-A), np.identity(N)-A))\n",
    "rhs_ineq2 = np.concatenate((np.zeros(N), f_max))"
   ]
  },
  {
   "cell_type": "code",
   "execution_count": 26,
   "id": "be22158e",
   "metadata": {},
   "outputs": [
    {
     "data": {
      "text/plain": [
       "55"
      ]
     },
     "execution_count": 26,
     "metadata": {},
     "output_type": "execute_result"
    }
   ],
   "source": [
    "bnd2 = []\n",
    "for i in range (0,N):\n",
    "    bnd2.append((0,x_max[i]))\n",
    "len(bnd2)"
   ]
  },
  {
   "cell_type": "code",
   "execution_count": 27,
   "id": "3f27011b",
   "metadata": {},
   "outputs": [
    {
     "data": {
      "text/plain": [
       "869108.281187232"
      ]
     },
     "execution_count": 27,
     "metadata": {},
     "output_type": "execute_result"
    }
   ],
   "source": [
    "result2 = linprog(c = obj2, A_ub= lhs_ineq2, b_ub= rhs_ineq2, bounds = bnd2)\n",
    "-result2.fun"
   ]
  },
  {
   "cell_type": "code",
   "execution_count": 28,
   "id": "039f2396",
   "metadata": {},
   "outputs": [],
   "source": [
    "optimal_f_2 = -result2.fun"
   ]
  },
  {
   "cell_type": "code",
   "execution_count": 29,
   "id": "66857500",
   "metadata": {},
   "outputs": [],
   "source": [
    "optimal_output_2 = np.ones(N)\n",
    "for i in range(0,N):\n",
    "    optimal_output_2[i] = result2.x[i]"
   ]
  },
  {
   "cell_type": "code",
   "execution_count": 30,
   "id": "9a786963",
   "metadata": {},
   "outputs": [
    {
     "data": {
      "text/plain": [
       "(0.5294966597801368, 0.5596734687907872)"
      ]
     },
     "execution_count": 30,
     "metadata": {},
     "output_type": "execute_result"
    }
   ],
   "source": [
    "Max_consumption = (sum(optimal_output_2)/sum(x_0),optimal_f_2/sum(f_0))\n",
    "Max_consumption"
   ]
  },
  {
   "cell_type": "markdown",
   "id": "a88e27e5",
   "metadata": {},
   "source": [
    "**Note that both optimization problems give almost the same solution**"
   ]
  },
  {
   "cell_type": "markdown",
   "id": "4bac4370",
   "metadata": {},
   "source": [
    "# Rationing"
   ]
  },
  {
   "cell_type": "code",
   "execution_count": 31,
   "id": "07c9c7a9",
   "metadata": {},
   "outputs": [],
   "source": [
    "f_max = f_max[:54]\n",
    "x_max = x_max[:54]\n",
    "A = A[:54,:54]\n",
    "N = 54\n",
    "x_0 = x_0[:54]\n",
    "f_0 = f_0[:54]\n",
    "L = np.linalg.inv(np.identity(N)-A)"
   ]
  },
  {
   "cell_type": "markdown",
   "id": "3e84b6c6",
   "metadata": {},
   "source": [
    "### Input bottlenecks and rationing variations\n",
    "In contrast to the optimization methods, this represents a bottom-up approach for finding feasible market allocations. Industries place orders to their suppliers based on incoming demand. Since suppliers can be output constrained, they might not be able to satisfy demand fully. A supplier therefore needs to make a decision about how much of each customer’s demand it serves. Intermediate consumers transform inputs to outputs based on fixed production recipes. Thus if a customer receives less inputs than she asked for, she faces an input bottleneck further constraining her production. As a consequence, the customer reduces her demand for other inputs as they are not further needed under limited productive capacities. We iterate this procedure forward until the algorithm converges.\n",
    "\n",
    "**Strict Proportional Rationing**\n",
    "\n",
    "If industries are unable to satisfy total incoming demand completely, they distribute output proportional to their customers’ demand, where no distinction is made between intermediate and final customers. We implement the rationing algorithm in the following way:\n",
    "1. Industries determine their total demand as if there were no supply-side constraints, $d = Lf^{\\text{max}}$;\n",
    "2. Industries evaluate if they are able to satisfy demand goven their constrained production capacities;\n",
    "3. Industries that only partially satisfy demand, create a bottleneck;\n",
    "4. Industries reduce their production according to the largest input bottleneck (assumption of fixed recipes);\n",
    "5. The total amount of goods delivered to the final consumer is computed;\n",
    "6. Iterate 1-5 until there are no input constraints left.\n",
    "\n",
    "Formulas:\n",
    "\n",
    "$$ r_i[t] = \\frac{x_i^{\\text{max}}}{d_i[t]} $$\n",
    "\n",
    "$$ s_i[t] = min_j \\{r_j[t], 1\\} $$\n",
    "\n",
    "$$ x_i[t] = \\text{min}\\{x_i^{\\text{max}}, s_i[t]d_i[t]\\} $$\n",
    "\n",
    "$$ f_i[t] = \\text{max} \\Big\\{ x_i[t] - \\sum_{i} a_{ij} x_j[t], 0 \\Big\\}$$\n",
    "\n",
    "$$ d_i[t+1] = \\sum_{j} l_{ij} f_j[t] $$\n",
    "\n",
    "The algorithm converges to a new feasible economic allocation if $d_i[t+1] = d_i[t]$ for all i.\n",
    "\n",
    "*Implementation*"
   ]
  },
  {
   "cell_type": "code",
   "execution_count": 32,
   "id": "7bfeaa17",
   "metadata": {},
   "outputs": [],
   "source": [
    "def algo_proportional(A, L, fmax, xmax, prioritize=\"no\"):\n",
    "    x = [0]\n",
    "    fvec = [] #initial demand vector\n",
    "    fvec.append(fmax)\n",
    "    r = [0] # output constraints\n",
    "    s = [0] # input bottlenecks \n",
    "    output_constraints = [1] \n",
    "    d = [0] # aggregated demand vector \n",
    "    d.append(np.matmul(L, fvec[0])) #d[1] = L*f[0]\n",
    "\n",
    "    #print('Aggregated Demand:         {}'.format(d[1]))\n",
    "    t=1\n",
    "    epsilon = 1e-6\n",
    "    while not np.all(abs(d[t] - d[t-1]) < epsilon):\n",
    "        print('\\nIteration {0}'.format(t))\n",
    "        print('---------')\n",
    "        #print('Initial aggregated demand: {}'.format(d[t]))\n",
    "        r.append(np.ones(len(xmax)))\n",
    "        s.append(np.ones(len(xmax)))\n",
    "        fvec.append(np.ones(len(xmax)))\n",
    "        x.append(np.ones(len(xmax)))\n",
    "        d.append(np.ones(len(xmax)))\n",
    "        for i in range (0,len(x_max)):\n",
    "            r[t][i] = x_max[i]/d[t][i]\n",
    "            #print('Output constraints:         {}'.format(r[t]))\n",
    "        for i in range(0,len(x_max)):\n",
    "            for j in range(0,len(x_max)):\n",
    "                if A[j][i] > 0:\n",
    "                    output_constraints.append(r[t][j])\n",
    "            s[t][i] = min(output_constraints)\n",
    "            output_constraints = [1]\n",
    "        print('Input bottlenecks:         {}'.format(s[t]))\n",
    "        for i in range(0,len(xmax)):\n",
    "            x[t][i] = min(xmax[i], s[t][i]*d[t][i])\n",
    "        # print('Constrained production:    {}'.format(x[t]))\n",
    "        for i in range(0,len(xmax)):\n",
    "            fvec[t][i] = max(x[t][i] - np.matmul(A[i],x[t]),0)\n",
    "        # print('Constrained delivery:      {}'.format(f[t]))\n",
    "        for i in range(0,len(xmax)):\n",
    "            d[t+1][i] = np.matmul(L[i],fvec[t])\n",
    "        t=t+1\n",
    "        #print('Aggregated Demand:         {}'.format(d[t]))\n",
    "    return sum(x[t-1])/sum(x_0), sum(fvec[t-1])/sum(f_0)\n"
   ]
  },
  {
   "cell_type": "code",
   "execution_count": 33,
   "id": "1510b687",
   "metadata": {},
   "outputs": [
    {
     "name": "stdout",
     "output_type": "stream",
     "text": [
      "\n",
      "Iteration 1\n",
      "---------\n",
      "Input bottlenecks:         [0.16830675 0.16830675 0.16830675 0.16830675 0.16830675 0.16830675\n",
      " 0.16830675 0.16830675 0.16830675 0.16830675 0.16830675 0.16830675\n",
      " 0.16830675 0.16830675 0.16830675 0.16830675 0.16830675 0.16830675\n",
      " 0.16830675 0.16830675 0.16830675 0.16830675 0.16830675 0.16830675\n",
      " 0.16830675 0.16830675 0.16830675 0.16830675 0.16830675 0.16830675\n",
      " 0.16830675 0.16830675 0.16830675 0.16830675 0.16830675 0.16830675\n",
      " 0.16830675 0.16830675 0.16830675 0.16830675 0.16830675 0.16830675\n",
      " 0.16830675 0.16830675 0.16830675 0.16830675 0.16830675 0.16830675\n",
      " 0.16830675 0.16830675 0.16830675 0.16830675 0.16830675 0.16830675]\n",
      "\n",
      "Iteration 2\n",
      "---------\n",
      "Input bottlenecks:         [1. 1. 1. 1. 1. 1. 1. 1. 1. 1. 1. 1. 1. 1. 1. 1. 1. 1. 1. 1. 1. 1. 1. 1.\n",
      " 1. 1. 1. 1. 1. 1. 1. 1. 1. 1. 1. 1. 1. 1. 1. 1. 1. 1. 1. 1. 1. 1. 1. 1.\n",
      " 1. 1. 1. 1. 1. 1.]\n"
     ]
    },
    {
     "data": {
      "text/plain": [
       "(0.14526842096652606, 0.14663857621015908)"
      ]
     },
     "execution_count": 33,
     "metadata": {},
     "output_type": "execute_result"
    }
   ],
   "source": [
    "result_proportional = algo_proportional(A, L, f_max, x_max, prioritize=\"no\")\n",
    "result_proportional"
   ]
  },
  {
   "cell_type": "markdown",
   "id": "e48172c7",
   "metadata": {},
   "source": [
    "## Mixed priority/proportional rationing"
   ]
  },
  {
   "cell_type": "markdown",
   "id": "31431ffd",
   "metadata": {},
   "source": [
    "We implement the rationing algorithm in the following way:\n",
    "1. Industries determine their total demand as if there were no supply-side constraints, $d = Lf^{\\text{max}}$;\n",
    "2. Industries evaluate if they are able to satisfy demand given their constrained production capacities;\n",
    "3. Industries that only partially satisfy demand, create a bottleneck;\n",
    "4. Industries reduce their production according to the largest input bottleneck (assumption of fixed recipes);\n",
    "5. The total amount of goods delivered to the final consumer is computed;\n",
    "6. Iterate 1-5 until there are no input constraints left.\n",
    "\n",
    "Formulas:\n",
    "\n",
    "$$ r_i[t] = \\frac{x_i^{\\text{max}}}{\\sum_{j}A_{ij}d_j[t]} $$\n",
    "\n",
    "$$ s_i[t] = min_j \\{r_j[t], 1\\} $$\n",
    "\n",
    "$$ x_i[t] = \\text{min}\\{x_i^{\\text{max}}, s_i[t]d_i[t]\\} $$\n",
    "\n",
    "$$ f_i[t] = \\text{max} \\Big\\{ x_i[t] - \\sum_{i} a_{ij} x_j[t], 0 \\Big\\}$$\n",
    "\n",
    "$$ d_i[t+1] = \\sum_{j} l_{ij} f_j[t] $$\n",
    "\n",
    "The algorithm converges to a new feasible economic allocation if $d_i[t+1] = d_i[t]$ for all i.\n",
    "\n",
    "*Implementation*"
   ]
  },
  {
   "cell_type": "code",
   "execution_count": 34,
   "id": "8b4c14db",
   "metadata": {},
   "outputs": [],
   "source": [
    "def algo_mixed(A, L, fmax, xmax, prioritize=\"yes\"):\n",
    "    x = [0]\n",
    "    demand = [] #initial demand vector\n",
    "    demand.append(fmax)\n",
    "    r = [0] # output constraints\n",
    "    s = [0] # input bottlenecks \n",
    "    output_constraints = [1] \n",
    "    d = [0] # aggregated demand vector \n",
    "    d.append(np.matmul(L, demand[0])) #d[1] = L*f[0]\n",
    "\n",
    "    #print('Aggregated Demand:         {}'.format(d[1]))\n",
    "    t=1\n",
    "    epsilon = 1e-6\n",
    "    while not np.all(abs(d[t] - d[t-1]) < epsilon):\n",
    "        print('\\nIteration {0}'.format(t))\n",
    "        print('---------')\n",
    "        #print('Initial aggregated demand: {}'.format(d[t]))\n",
    "        r.append(np.ones(len(xmax)))\n",
    "        s.append(np.ones(len(xmax)))\n",
    "        demand.append(np.ones(len(xmax)))\n",
    "        x.append(np.ones(len(xmax)))\n",
    "        d.append(np.ones(len(xmax)))\n",
    "        for i in range (0,len(x_max)):\n",
    "            r[t][i] = xmax[i]/np.matmul(A[i],d[t])\n",
    "            #print('Output constraints:         {}'.format(r[t]))\n",
    "        for i in range(0,len(x_max)):\n",
    "            for j in range(0,len(x_max)):\n",
    "                if A[j][i] > 0:\n",
    "                    output_constraints.append(r[t][j])\n",
    "            s[t][i] = min(output_constraints)\n",
    "            output_constraints = [1]\n",
    "        print('Input bottlenecks:         {}'.format(s[t]))\n",
    "        for i in range(0,len(xmax)):\n",
    "            x[t][i] = min(xmax[i], s[t][i]*d[t][i])\n",
    "        # print('Constrained production:    {}'.format(x[t]))\n",
    "        for i in range(0,len(xmax)):\n",
    "            demand[t][i] = max(x[t][i] - np.matmul(A[i],x[t]),0)\n",
    "        # print('Constrained delivery:      {}'.format(f[t]))\n",
    "        for i in range(0,len(xmax)):\n",
    "            d[t+1][i] = np.matmul(L[i],demand[t])\n",
    "        t=t+1\n",
    "        #print('Aggregated Demand:         {}'.format(d[t]))\n",
    "    return sum(x[t-1])/sum(x_0), sum(demand[t-1])/sum(f_0)"
   ]
  },
  {
   "cell_type": "code",
   "execution_count": 35,
   "id": "24ae4d4b",
   "metadata": {},
   "outputs": [
    {
     "name": "stdout",
     "output_type": "stream",
     "text": [
      "\n",
      "Iteration 1\n",
      "---------\n",
      "Input bottlenecks:         [0.27754666 0.27754666 0.27754666 0.27754666 0.27754666 0.27754666\n",
      " 0.27754666 0.27754666 0.27754666 0.27754666 0.27754666 0.27754666\n",
      " 0.27754666 0.27754666 0.27754666 0.27754666 0.27754666 0.27754666\n",
      " 0.27754666 0.27754666 0.27754666 0.27754666 0.27754666 0.27754666\n",
      " 0.27754666 0.27754666 0.27754666 0.27754666 0.27754666 0.27754666\n",
      " 0.27754666 0.27754666 0.27754666 0.27754666 0.27754666 0.27754666\n",
      " 0.27754666 0.27754666 0.27754666 0.27754666 0.27754666 0.27754666\n",
      " 0.27754666 0.27754666 0.27754666 0.27754666 0.27754666 0.27754666\n",
      " 0.27754666 0.27754666 0.27754666 0.27754666 0.27754666 0.27754666]\n",
      "\n",
      "Iteration 2\n",
      "---------\n",
      "Input bottlenecks:         [1. 1. 1. 1. 1. 1. 1. 1. 1. 1. 1. 1. 1. 1. 1. 1. 1. 1. 1. 1. 1. 1. 1. 1.\n",
      " 1. 1. 1. 1. 1. 1. 1. 1. 1. 1. 1. 1. 1. 1. 1. 1. 1. 1. 1. 1. 1. 1. 1. 1.\n",
      " 1. 1. 1. 1. 1. 1.]\n"
     ]
    },
    {
     "data": {
      "text/plain": [
       "(0.2395064860122824, 0.2417489671009424)"
      ]
     },
     "execution_count": 35,
     "metadata": {},
     "output_type": "execute_result"
    }
   ],
   "source": [
    "result_mixed = algo_mixed(A, L, f_max, x_max, prioritize=\"yes\")\n",
    "result_mixed"
   ]
  },
  {
   "cell_type": "markdown",
   "id": "ccef6611",
   "metadata": {},
   "source": [
    "## Priority rationing"
   ]
  },
  {
   "cell_type": "markdown",
   "id": "aaa91a63",
   "metadata": {},
   "source": [
    "Largest first rationing; firms are prioritized over the final consumer. Take\n",
    "an initial demand vector $f[0] = f$\n",
    "max as given, implying an initial aggregate demand vector\n",
    "$d[1] = Lf[0]$. Every firm $i$ ranks each customers based on initial demand size. Let  $h_{ij}$ be the $j$ largest customers of firm $i$: $h_{ij} =\n",
    "\\{k(1), k(2), ..., k(j)\n",
    ": A_{ik(1)}d_{k(1)} [1] ≥ A_{ik(2)}d_{k(2)} [1] ≥ ... ≥ A_{ik(j)}\n",
    "d_{k(j)}[1] \\}$. By looping over the\n",
    "index $t = {1, 2, ...}$, the following system is iterated forward:\n",
    "\n",
    "Formulas:\n",
    "\n",
    "$$ r_{ij}[t] = \\frac{x_i^{\\text{max}}}{\\sum_{n\\in h_{ij}}A_{ih(j)}d_{n_{(j)}}[t]} $$\n",
    "\n",
    "$$ s_i[t] = min_j \\{r_{ji}[t], 1\\} $$\n",
    "\n",
    "$$ x_i[t] = \\text{min}\\{x_i^{\\text{max}}, s_i[t]d_i[t]\\} $$\n",
    "\n",
    "$$ f_i[t] = \\text{max} \\Big\\{ x_i[t] - \\sum_{i} a_{ij} x_j[t], 0 \\Big\\}$$\n",
    "\n",
    "$$ d_i[t+1] = \\sum_{j} l_{ij} f_j[t] $$\n",
    "\n",
    "The algorithm converges to a new feasible economic allocation if $d_i[t+1] = d_i[t]$ for all i."
   ]
  },
  {
   "cell_type": "code",
   "execution_count": 36,
   "id": "3a90b1f7",
   "metadata": {},
   "outputs": [],
   "source": [
    "d = np.matmul(L, f_max)\n",
    "list_1 = []   #lijst die we gaan sorteren van groot naar klein\n",
    "list_2 = []   #lijst die niet gesorteerd wordt om oorspronkelijke indices terug te vinden\n",
    "for i in range(A.shape[0]):\n",
    "    list_1.append([])\n",
    "    list_2.append([])\n",
    "for i in range(A.shape[0]):\n",
    "    for j in range(A.shape[0]):\n",
    "        list_1[i].append(A[i][j]*d[j])     # list_1[i][j] = list_2[i][j] = A[i][j]*d[j]\n",
    "        list_2[i].append(A[i][j]*d[j])\n",
    "    list_1[i].sort(reverse = True)              #list_1 sorteren van groot naar klein: A[i][j]*d[j] >= A[i][j+1]*d[j+1]\n",
    "\n",
    "names_ordered=[]\n",
    "for i in range(A.shape[0]):\n",
    "    names_ordered.append([])\n",
    "    \n",
    "for i in range(A.shape[0]):\n",
    "    for k in list_1[i]:                 # we willen nu de indices van de j+1 (j van 0 tot en met N-1) grootste suppliers  \n",
    "            for l in range(A.shape[0]):   #van firm i. Hiervoor gebruiken we de ongesorteerde lijst (list_2)\n",
    "                if list_2[i][l] == k:\n",
    "                    names_ordered[i].append(l)    "
   ]
  },
  {
   "cell_type": "code",
   "execution_count": 37,
   "id": "18fdf5b6",
   "metadata": {},
   "outputs": [],
   "source": [
    "def algo_priority(A, L, fmax, xmax, ordered, prioritize=\"yes\"):    \n",
    "    x = [0]\n",
    "    fvec = [] #initial demand vector\n",
    "    fvec.append(fmax)\n",
    "    rvec = [0] # output constraints\n",
    "    s = [0] # input bottlenecks \n",
    "    output_constraints = [1] \n",
    "    d = [0] # aggregated demand vector \n",
    "    d.append(np.matmul(L, fvec[0])) #d[1] = L*f[0]\n",
    "    som = 0\n",
    "    #print('Aggregated Demand:         {}'.format(d[1]))\n",
    "    t=1\n",
    "    epsilon = 1e-6\n",
    "    \n",
    "    while not np.all(abs(d[t] - d[t-1]) < epsilon):\n",
    "        #print('\\nIteration {0}'.format(t))\n",
    "        #print('---------')\n",
    "        #print('Initial aggregated demand: {}'.format(d[t]))\n",
    "        rvec.append([np.zeros(N)])\n",
    "        s.append(np.ones(N))\n",
    "        fvec.append(np.ones(N))\n",
    "        x.append(np.ones(N))\n",
    "        d.append(np.ones(N))\n",
    "        demand = np.identity(N)\n",
    "        for i in range(0,N):\n",
    "            for j in range(0,N):\n",
    "                for k in ordered[i][:j+1]:\n",
    "                    som = som + A[i][k]*d[t][k] \n",
    "                demand[i][j] = som   #demand[i][j] = demand of j'th biggest customers of firm i summed up\n",
    "                som = 0\n",
    "        remainder = np.identity(N)\n",
    "    \n",
    "        for i in range(0,N):\n",
    "            for j in range(0,N):\n",
    "                remainder[i][j] = x_max[i] - demand[i][j]\n",
    "                \n",
    "        ####################################################\n",
    "        ####################### rvec #######################\n",
    "        ####################################################\n",
    "        for i in range(0,N):\n",
    "            rvec[t].append([])\n",
    "        for i in range(0,N):\n",
    "            if all(remainder[i][j]>0 for j in range(0,N)):\n",
    "                rvec[t][i] = np.ones(N) \n",
    "            elif all(remainder[i][j]<=0 for j in range(0,N)): \n",
    "                rvec[t][i] = np.zeros(N)\n",
    "                for k in ordered[i][:1]: \n",
    "                    rvec[t][i][k] = x_max[i]/demand[i][0]\n",
    "        \n",
    "            else: \n",
    "                idx = np.where(remainder[i]<=0) # index for partially met demand\n",
    "                idx_fully = np.where(remainder[i]>0) \n",
    "                length = len(idx_fully[0])\n",
    "                rvec[t][i] = np.zeros(N)\n",
    "                for l in range(0,length-1):\n",
    "                    index = ordered[i][l]\n",
    "                    rvec[t][i][index] = 1\n",
    "                m = ordered[i][length-1]\n",
    "                rvec[t][i][m] = remainder[i][length-1]/(demand[i][length]-demand[i][length-1])\n",
    "                \n",
    "        #####################################################\n",
    "        ################# Input bottlenecks #################\n",
    "        #####################################################\n",
    "        for i in range(0,N):\n",
    "            for j in range(0,N):\n",
    "                if A[j][i]>0:\n",
    "                    output_constraints.append(rvec[t][j][i])\n",
    "            s[t][i] = min(output_constraints)\n",
    "            output_constraints = [1]   \n",
    "        #print('Input bottlenecks:         {}'.format(s[t]))\n",
    "        \n",
    "        ######################################################\n",
    "        ############### Constrained Production ###############\n",
    "        ######################################################\n",
    "        for i in range(0,N):\n",
    "            x[t][i] = min(xmax[i], s[t][i]*d[t][i])\n",
    "            \n",
    "        ######################################################\n",
    "        ################ Constrained Delivery ################\n",
    "        ######################################################\n",
    "        for i in range(0,len(xmax)):\n",
    "            fvec[t][i] = max(x[t][i] - np.matmul(A[i],x[t]),0)\n",
    "        \n",
    "        ######################################################\n",
    "        ################ Aggregated demand ###################\n",
    "        ######################################################\n",
    "        for i in range(0,len(xmax)):\n",
    "            d[t+1][i] = np.matmul(L[i],fvec[t])\n",
    "            \n",
    "        t=t+1\n",
    "    return sum(x[t-1])/sum(x_0), sum(fvec[t-1])/sum(f_0)"
   ]
  },
  {
   "cell_type": "code",
   "execution_count": 38,
   "id": "4cdf6843",
   "metadata": {},
   "outputs": [],
   "source": [
    "result_priority = algo_priority(A, L, f_max, x_max, names_ordered, prioritize=\"yes\")"
   ]
  },
  {
   "cell_type": "markdown",
   "id": "abd98788",
   "metadata": {},
   "source": [
    "## Random rationing"
   ]
  },
  {
   "cell_type": "code",
   "execution_count": 39,
   "id": "6063db8e",
   "metadata": {},
   "outputs": [],
   "source": [
    "from random import randrange"
   ]
  },
  {
   "cell_type": "code",
   "execution_count": 41,
   "id": "5f095e24",
   "metadata": {},
   "outputs": [
    {
     "name": "stdout",
     "output_type": "stream",
     "text": [
      "0.004652159595448583\n",
      "0.005568706891238018\n"
     ]
    }
   ],
   "source": [
    "x = []\n",
    "y = []\n",
    "while len(x)<100:\n",
    "    random_ordered=[]\n",
    "    for i in range(N):\n",
    "        random_ordered.append([])\n",
    "    \n",
    "    for i in range(N):\n",
    "        while len(random_ordered[i])<N:\n",
    "            random = randrange(N)\n",
    "            while random in random_ordered[i]:\n",
    "                random = randrange(N)# we willen nu de indices van de j+1 (j van 0 tot en met N-1) grootste suppliers  \n",
    "            random_ordered[i].append(random)\n",
    "\n",
    "    result_x = algo_priority(A, L, f_max, x_max, random_ordered, prioritize=\"yes\")[0]\n",
    "    result_y = algo_priority(A, L, f_max, x_max, random_ordered, prioritize=\"yes\")[1]\n",
    "    x.append(result_x)\n",
    "    y.append(result_y)\n",
    "result_random = (sum(x)/len(x), sum(y)/len(y))\n",
    "print(sum(x)/len(x))\n",
    "print(sum(y)/len(y))"
   ]
  },
  {
   "cell_type": "code",
   "execution_count": 42,
   "id": "474d9d34",
   "metadata": {},
   "outputs": [
    {
     "name": "stdout",
     "output_type": "stream",
     "text": [
      "(0.14526842096652606, 0.14663857621015908)\n",
      "(0.2395064860122824, 0.2417489671009424)\n",
      "(0.0, 0.0)\n",
      "(0.004652159595448583, 0.005568706891238018)\n"
     ]
    }
   ],
   "source": [
    "print(result_proportional)\n",
    "print(result_mixed)\n",
    "print(result_priority)\n",
    "print(result_random)"
   ]
  },
  {
   "cell_type": "code",
   "execution_count": 47,
   "id": "65fbc0ae",
   "metadata": {},
   "outputs": [
    {
     "data": {
      "image/png": "[encoded data removed]",
      "text/plain": [
       "<Figure size 640x480 with 1 Axes>"
      ]
     },
     "metadata": {},
     "output_type": "display_data"
    }
   ],
   "source": [
    "import matplotlib.pyplot as plt\n",
    "plt.style.use('ggplot')\n",
    "plt.title(\"Spain\")\n",
    "plt.grid(visible=None, which='major', axis='both', linestyle='-', linewidth=1)\n",
    "\n",
    "plt.plot(result_proportional[0], result_proportional[1], 'b^')\n",
    "plt.plot(result_mixed[0], result_mixed[1], 'b^')\n",
    "plt.plot(result_random[0], result_random[1], 'b^')\n",
    "plt.plot(result_priority[0], result_priority[1], 'b^')\n",
    "plt.plot(Max_consumption[0], Max_consumption[1], 'b^')\n",
    "plt.plot(Max_output[0], Max_output[1], 'b^')\n",
    "plt.plot(direct_shock[0], direct_shock[1], 'b^')\n",
    "\n",
    "plt.text(0.2,0.18,'Mixed')\n",
    "plt.text(0.1,0.1,'Proportional')\n",
    "plt.text(-0.07,-0.05,'Priority')\n",
    "plt.text(-0.06,0.04,'Random')\n",
    "plt.text(0.48,0.49, 'Maximize x')\n",
    "plt.text(0.55,0.63, 'Maximize f')\n",
    "plt.text(0.8,0.69, 'Direct shock')\n",
    "\n",
    "plt.xlim(-0.09, 1) \n",
    "plt.ylim(-0.09,1)\n",
    "\n",
    "plt.xlabel(\"Final Consumption\")\n",
    "plt.ylabel(\"Gross Output\")\n",
    "plt.savefig('plot_Spain.png')\n",
    "plt.show()"
   ]
  }
 ],
 "metadata": {
  "kernelspec": {
   "display_name": "venv test",
   "language": "python",
   "name": "venv"
  },
  "language_info": {
   "codemirror_mode": {
    "name": "ipython",
    "version": 3
   },
   "file_extension": ".py",
   "mimetype": "text/x-python",
   "name": "python",
   "nbconvert_exporter": "python",
   "pygments_lexer": "ipython3",
   "version": "3.10.9"
  }
 },
 "nbformat": 4,
 "nbformat_minor": 5
}
