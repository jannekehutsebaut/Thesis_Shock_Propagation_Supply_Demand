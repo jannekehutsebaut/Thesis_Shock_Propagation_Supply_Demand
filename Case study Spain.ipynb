{
 "cells": [
  {
   "cell_type": "code",
   "execution_count": 1,
   "id": "d69dad87",
   "metadata": {},
   "outputs": [],
   "source": [
    "import pandas as pd\n",
    "import numpy as np"
   ]
  },
  {
   "cell_type": "markdown",
   "id": "d575f677",
   "metadata": {},
   "source": [
    "# Data for final consumption and total output"
   ]
  },
  {
   "cell_type": "markdown",
   "id": "d12500d2",
   "metadata": {},
   "source": [
    "We apply our models to the input-output data of Germany. The data\n",
    "we use for initial output and final consumption per industry, as well as the supply and\n",
    "demand shock data is taken from:\n",
    "\n",
    "Pichler, A. and Farmer, J. D. (2021b). Simultaneous supply and demand constraints in\n",
    "input–output networks: the case of covid-19 in Germany, Italy and Spain (Version V1).\n",
    "Zenodo. https://doi.org/10.5281/zenodo.4326815"
   ]
  },
  {
   "cell_type": "markdown",
   "id": "9118cff0",
   "metadata": {},
   "source": [
    "## Final consumption"
   ]
  },
  {
   "cell_type": "code",
   "execution_count": 2,
   "id": "a0c01f4c",
   "metadata": {},
   "outputs": [
    {
     "data": {
      "text/html": [
       "<div>\n",
       "<style scoped>\n",
       "    .dataframe tbody tr th:only-of-type {\n",
       "        vertical-align: middle;\n",
       "    }\n",
       "\n",
       "    .dataframe tbody tr th {\n",
       "        vertical-align: top;\n",
       "    }\n",
       "\n",
       "    .dataframe thead th {\n",
       "        text-align: right;\n",
       "    }\n",
       "</style>\n",
       "<table border=\"1\" class=\"dataframe\">\n",
       "  <thead>\n",
       "    <tr style=\"text-align: right;\">\n",
       "      <th></th>\n",
       "      <th>Unnamed: 0</th>\n",
       "      <th>f</th>\n",
       "      <th>fmin</th>\n",
       "      <th>fmax</th>\n",
       "      <th>f.maxF</th>\n",
       "      <th>f.maxX</th>\n",
       "    </tr>\n",
       "  </thead>\n",
       "  <tbody>\n",
       "    <tr>\n",
       "      <th>0</th>\n",
       "      <td>A01</td>\n",
       "      <td>22067.825137</td>\n",
       "      <td>0</td>\n",
       "      <td>19878.183746</td>\n",
       "      <td>1.987818e+04</td>\n",
       "      <td>19878.183746</td>\n",
       "    </tr>\n",
       "    <tr>\n",
       "      <th>1</th>\n",
       "      <td>A02</td>\n",
       "      <td>491.390952</td>\n",
       "      <td>0</td>\n",
       "      <td>449.053800</td>\n",
       "      <td>3.435896e-11</td>\n",
       "      <td>0.000000</td>\n",
       "    </tr>\n",
       "    <tr>\n",
       "      <th>2</th>\n",
       "      <td>A03</td>\n",
       "      <td>2136.674970</td>\n",
       "      <td>0</td>\n",
       "      <td>1923.204924</td>\n",
       "      <td>1.923205e+03</td>\n",
       "      <td>1923.204924</td>\n",
       "    </tr>\n",
       "    <tr>\n",
       "      <th>3</th>\n",
       "      <td>B</td>\n",
       "      <td>7537.433840</td>\n",
       "      <td>0</td>\n",
       "      <td>6785.237797</td>\n",
       "      <td>3.846149e+03</td>\n",
       "      <td>3845.767925</td>\n",
       "    </tr>\n",
       "    <tr>\n",
       "      <th>4</th>\n",
       "      <td>C10-C12</td>\n",
       "      <td>77720.433660</td>\n",
       "      <td>0</td>\n",
       "      <td>69972.411738</td>\n",
       "      <td>5.427950e-09</td>\n",
       "      <td>9006.175456</td>\n",
       "    </tr>\n",
       "  </tbody>\n",
       "</table>\n",
       "</div>"
      ],
      "text/plain": [
       "  Unnamed: 0             f  fmin          fmax        f.maxF        f.maxX\n",
       "0        A01  22067.825137     0  19878.183746  1.987818e+04  19878.183746\n",
       "1        A02    491.390952     0    449.053800  3.435896e-11      0.000000\n",
       "2        A03   2136.674970     0   1923.204924  1.923205e+03   1923.204924\n",
       "3          B   7537.433840     0   6785.237797  3.846149e+03   3845.767925\n",
       "4    C10-C12  77720.433660     0  69972.411738  5.427950e-09   9006.175456"
      ]
     },
     "execution_count": 2,
     "metadata": {},
     "output_type": "execute_result"
    }
   ],
   "source": [
    "fdata = pd.read_csv('fdata_esp.csv', sep = ',')\n",
    "fdata.head()"
   ]
  },
  {
   "cell_type": "code",
   "execution_count": 3,
   "id": "5deb2010",
   "metadata": {},
   "outputs": [],
   "source": [
    "f_initial = fdata.iloc[:,1].astype('float')"
   ]
  },
  {
   "cell_type": "code",
   "execution_count": 4,
   "id": "1544dd3c",
   "metadata": {},
   "outputs": [
    {
     "data": {
      "text/plain": [
       "array([ 19878.18374635,    449.05380009,   1923.20492413,   6785.23779655,\n",
       "        69972.41173757,  19639.51591189,   2067.37751059,   6175.11615595,\n",
       "         1052.15562071,  36682.43388355,  29919.38387229,  13465.88653351,\n",
       "         9606.34940708,   7037.22971166,  18208.82647436,  14168.18169156,\n",
       "         5900.77381419,  11068.16364031,  19530.03702562,  52199.41565392,\n",
       "        15105.46976571,   8196.85542114,   4598.9482968 ,  24140.13967829,\n",
       "         5472.94429263,  10013.44135897, 106690.90783226,  24424.71174124,\n",
       "        57309.51116656,  76755.39562937,  15736.02751129,   2082.93637582,\n",
       "         6930.89904527,  10346.4994286 ,    630.23953714,  32682.34015934,\n",
       "         3784.38266462,   8150.98882116,  20409.7478874 ,  23022.09944941,\n",
       "        12349.96493186,  16219.87173593,   3503.6001307 , 120238.91424477,\n",
       "         8180.90936128,  13568.14685779,   7663.399462  ,   1468.81909063,\n",
       "          976.72982336,  18424.6331465 ,  97071.11885681,  78962.8685867 ,\n",
       "       112109.0589286 ,  49461.09395227,  12109.277515  ])"
      ]
     },
     "execution_count": 4,
     "metadata": {},
     "output_type": "execute_result"
    }
   ],
   "source": [
    "f_max = np.array(fdata.iloc[:,3].astype('float'))\n",
    "f_max.shape\n",
    "f_max"
   ]
  },
  {
   "cell_type": "code",
   "execution_count": 5,
   "id": "97e109e4",
   "metadata": {},
   "outputs": [
    {
     "name": "stdout",
     "output_type": "stream",
     "text": [
      "[ 0.099  0.086  0.1    0.1    0.1    0.1    0.1    0.1    0.099  0.1\n",
      "  0.099  0.093  0.099  0.1    0.1    0.1    0.099  0.1    0.1    0.1\n",
      "  0.099  0.099  0.1    0.008  0.009  0.025  0.099  0.1    0.095  0.095\n",
      "  0.388  0.275  0.247  0.197  0.022  0.755  0.054  0.038  0.016  0.095\n",
      "  0.038  0.008  0.019  0.001  0.079  0.093  0.079  0.091  0.035  0.042\n",
      "  0.007  0.01   0.001  0.043 -0.   ]\n"
     ]
    }
   ],
   "source": [
    "demand_shock = np.zeros(f_max.shape[0])\n",
    "for i in range (0,f_max.shape[0]):\n",
    "    demand_shock[i] = round(1- f_max[i]/f_initial[i],3)\n",
    "    \n",
    "print(demand_shock) # ok "
   ]
  },
  {
   "cell_type": "markdown",
   "id": "2012b38d",
   "metadata": {},
   "source": [
    "## Total output"
   ]
  },
  {
   "cell_type": "code",
   "execution_count": 6,
   "id": "32e86384",
   "metadata": {},
   "outputs": [
    {
     "data": {
      "text/html": [
       "<div>\n",
       "<style scoped>\n",
       "    .dataframe tbody tr th:only-of-type {\n",
       "        vertical-align: middle;\n",
       "    }\n",
       "\n",
       "    .dataframe tbody tr th {\n",
       "        vertical-align: top;\n",
       "    }\n",
       "\n",
       "    .dataframe thead th {\n",
       "        text-align: right;\n",
       "    }\n",
       "</style>\n",
       "<table border=\"1\" class=\"dataframe\">\n",
       "  <thead>\n",
       "    <tr style=\"text-align: right;\">\n",
       "      <th></th>\n",
       "      <th>Unnamed: 0</th>\n",
       "      <th>x</th>\n",
       "      <th>xmin</th>\n",
       "      <th>xmax</th>\n",
       "      <th>x.maxF</th>\n",
       "      <th>x.maxX</th>\n",
       "    </tr>\n",
       "  </thead>\n",
       "  <tbody>\n",
       "    <tr>\n",
       "      <th>0</th>\n",
       "      <td>A01</td>\n",
       "      <td>55296.202212</td>\n",
       "      <td>0</td>\n",
       "      <td>55296.202212</td>\n",
       "      <td>26979.266525</td>\n",
       "      <td>29126.656345</td>\n",
       "    </tr>\n",
       "    <tr>\n",
       "      <th>1</th>\n",
       "      <td>A02</td>\n",
       "      <td>1280.146466</td>\n",
       "      <td>0</td>\n",
       "      <td>192.023581</td>\n",
       "      <td>192.023581</td>\n",
       "      <td>192.023581</td>\n",
       "    </tr>\n",
       "    <tr>\n",
       "      <th>2</th>\n",
       "      <td>A03</td>\n",
       "      <td>3627.285823</td>\n",
       "      <td>0</td>\n",
       "      <td>3627.285823</td>\n",
       "      <td>2320.350569</td>\n",
       "      <td>2381.333167</td>\n",
       "    </tr>\n",
       "    <tr>\n",
       "      <th>3</th>\n",
       "      <td>B</td>\n",
       "      <td>8061.338000</td>\n",
       "      <td>0</td>\n",
       "      <td>4166.069492</td>\n",
       "      <td>4166.069492</td>\n",
       "      <td>4166.069492</td>\n",
       "    </tr>\n",
       "    <tr>\n",
       "      <th>4</th>\n",
       "      <td>C10-C12</td>\n",
       "      <td>177754.573395</td>\n",
       "      <td>0</td>\n",
       "      <td>131603.349214</td>\n",
       "      <td>27951.943564</td>\n",
       "      <td>41389.199799</td>\n",
       "    </tr>\n",
       "  </tbody>\n",
       "</table>\n",
       "</div>"
      ],
      "text/plain": [
       "  Unnamed: 0              x  xmin           xmax        x.maxF        x.maxX\n",
       "0        A01   55296.202212     0   55296.202212  26979.266525  29126.656345\n",
       "1        A02    1280.146466     0     192.023581    192.023581    192.023581\n",
       "2        A03    3627.285823     0    3627.285823   2320.350569   2381.333167\n",
       "3          B    8061.338000     0    4166.069492   4166.069492   4166.069492\n",
       "4    C10-C12  177754.573395     0  131603.349214  27951.943564  41389.199799"
      ]
     },
     "execution_count": 6,
     "metadata": {},
     "output_type": "execute_result"
    }
   ],
   "source": [
    "xdata =  pd.read_csv('xdata_esp.csv', sep = ',')\n",
    "xdata.head()  "
   ]
  },
  {
   "cell_type": "code",
   "execution_count": 7,
   "id": "13f28399",
   "metadata": {},
   "outputs": [],
   "source": [
    "x_initial = xdata.iloc[:,1].astype('float')"
   ]
  },
  {
   "cell_type": "code",
   "execution_count": 8,
   "id": "e70c090f",
   "metadata": {},
   "outputs": [
    {
     "data": {
      "text/plain": [
       "array([ 55296.20221173,    192.02358143,   3627.28582266,   4166.06949183,\n",
       "       131603.3492144 ,   8358.33567269,   2059.46675361,  16252.56169385,\n",
       "        10660.6688457 ,  56578.62523174,  30821.19050343,  18982.6193543 ,\n",
       "         6875.0922891 ,   7403.33429065,  14552.07533612,  12294.45654478,\n",
       "         5203.95096906,   7610.7591516 ,  11959.42257824,  19791.12710517,\n",
       "         8387.43393303,   6411.5501049 ,   5368.41381473, 113501.0071946 ,\n",
       "        12406.82785753,  21370.28464247,  46472.29026614,  26231.02232964,\n",
       "        88533.96917744,  74969.57293643,  64973.72846416,   4228.97051335,\n",
       "        10152.47638608,  54288.14790851,   6059.88843709,  52346.20959945,\n",
       "         9140.29796579,  13628.08006057,  45123.20195748,  31587.99219376,\n",
       "        54235.50554668,  24730.47053195,  10618.76442136,  83688.52720506,\n",
       "        30797.13622004,  15870.24568512,   4975.48947998,   7204.31966461,\n",
       "         6040.42597971,  30689.67830044, 111742.792     ,  46757.8953216 ,\n",
       "       123642.1665    ,  30611.55560582,  12109.2775    ])"
      ]
     },
     "execution_count": 8,
     "metadata": {},
     "output_type": "execute_result"
    }
   ],
   "source": [
    "x_max = np.array(xdata.iloc[:,3].astype('float'))\n",
    "x_max.shape\n",
    "x_max"
   ]
  },
  {
   "cell_type": "code",
   "execution_count": 9,
   "id": "f6455fe4",
   "metadata": {},
   "outputs": [
    {
     "name": "stdout",
     "output_type": "stream",
     "text": [
      "[0.       0.849999 0.       0.483204 0.259635 0.685309 0.730686 0.\n",
      " 0.       0.064001 0.525183 0.       0.705058 0.639448 0.726353 0.662572\n",
      " 0.430758 0.630639 0.618354 0.696668 0.597033 0.596618 0.606449 0.058407\n",
      " 0.       0.       0.715557 0.27312  0.299699 0.256656 0.       0.\n",
      " 0.242194 0.       0.       0.646411 0.07561  0.109813 0.       0.144301\n",
      " 0.       0.       0.       0.512768 0.181406 0.459166 0.410839 0.396788\n",
      " 0.19581  0.543278 0.       0.460076 0.       0.559507 0.      ]\n"
     ]
    }
   ],
   "source": [
    "supply_shock = np.zeros(x_max.shape[0])\n",
    "for i in range (0,x_max.shape[0]):\n",
    "    supply_shock[i] = round(1- x_max[i]/x_initial[i],6)\n",
    "    \n",
    "print(supply_shock) # ok: corresonds to the data "
   ]
  },
  {
   "cell_type": "markdown",
   "id": "97cb7425",
   "metadata": {},
   "source": [
    "# IO table "
   ]
  },
  {
   "cell_type": "code",
   "execution_count": 10,
   "id": "d00267df",
   "metadata": {},
   "outputs": [
    {
     "data": {
      "text/html": [
       "<div>\n",
       "<style scoped>\n",
       "    .dataframe tbody tr th:only-of-type {\n",
       "        vertical-align: middle;\n",
       "    }\n",
       "\n",
       "    .dataframe tbody tr th {\n",
       "        vertical-align: top;\n",
       "    }\n",
       "\n",
       "    .dataframe thead th {\n",
       "        text-align: right;\n",
       "    }\n",
       "</style>\n",
       "<table border=\"1\" class=\"dataframe\">\n",
       "  <thead>\n",
       "    <tr style=\"text-align: right;\">\n",
       "      <th></th>\n",
       "      <th>Unnamed: 0</th>\n",
       "      <th>A01</th>\n",
       "      <th>A02</th>\n",
       "      <th>A03</th>\n",
       "      <th>B</th>\n",
       "      <th>C10-C12</th>\n",
       "      <th>C13-C15</th>\n",
       "      <th>C16</th>\n",
       "      <th>C17</th>\n",
       "      <th>C18</th>\n",
       "      <th>...</th>\n",
       "      <th>M71</th>\n",
       "      <th>M72</th>\n",
       "      <th>M73</th>\n",
       "      <th>M74_M75</th>\n",
       "      <th>N</th>\n",
       "      <th>O84</th>\n",
       "      <th>P85</th>\n",
       "      <th>Q</th>\n",
       "      <th>R_S</th>\n",
       "      <th>T</th>\n",
       "    </tr>\n",
       "  </thead>\n",
       "  <tbody>\n",
       "    <tr>\n",
       "      <th>0</th>\n",
       "      <td>A01</td>\n",
       "      <td>0.036044</td>\n",
       "      <td>0.005051</td>\n",
       "      <td>0.004090</td>\n",
       "      <td>1.829061e-04</td>\n",
       "      <td>0.154009</td>\n",
       "      <td>0.020155</td>\n",
       "      <td>4.271070e-04</td>\n",
       "      <td>0.002918</td>\n",
       "      <td>3.278248e-04</td>\n",
       "      <td>...</td>\n",
       "      <td>2.067310e-04</td>\n",
       "      <td>0.000593</td>\n",
       "      <td>2.223937e-04</td>\n",
       "      <td>2.182217e-04</td>\n",
       "      <td>4.122063e-04</td>\n",
       "      <td>0.000796</td>\n",
       "      <td>0.000661</td>\n",
       "      <td>0.000947</td>\n",
       "      <td>0.002079</td>\n",
       "      <td>0</td>\n",
       "    </tr>\n",
       "    <tr>\n",
       "      <th>1</th>\n",
       "      <td>A02</td>\n",
       "      <td>0.000224</td>\n",
       "      <td>0.036896</td>\n",
       "      <td>0.000007</td>\n",
       "      <td>1.489546e-04</td>\n",
       "      <td>0.000306</td>\n",
       "      <td>0.000041</td>\n",
       "      <td>2.178111e-02</td>\n",
       "      <td>0.023392</td>\n",
       "      <td>3.250353e-07</td>\n",
       "      <td>...</td>\n",
       "      <td>5.292217e-07</td>\n",
       "      <td>0.000004</td>\n",
       "      <td>4.415084e-07</td>\n",
       "      <td>7.452870e-07</td>\n",
       "      <td>8.399119e-07</td>\n",
       "      <td>0.000003</td>\n",
       "      <td>0.000001</td>\n",
       "      <td>0.000001</td>\n",
       "      <td>0.000005</td>\n",
       "      <td>0</td>\n",
       "    </tr>\n",
       "    <tr>\n",
       "      <th>2</th>\n",
       "      <td>A03</td>\n",
       "      <td>0.000780</td>\n",
       "      <td>0.000000</td>\n",
       "      <td>0.023371</td>\n",
       "      <td>9.294775e-07</td>\n",
       "      <td>0.004311</td>\n",
       "      <td>0.000101</td>\n",
       "      <td>2.354406e-07</td>\n",
       "      <td>0.000064</td>\n",
       "      <td>0.000000e+00</td>\n",
       "      <td>...</td>\n",
       "      <td>3.279189e-07</td>\n",
       "      <td>0.000019</td>\n",
       "      <td>0.000000e+00</td>\n",
       "      <td>0.000000e+00</td>\n",
       "      <td>0.000000e+00</td>\n",
       "      <td>0.000081</td>\n",
       "      <td>0.000250</td>\n",
       "      <td>0.000251</td>\n",
       "      <td>0.000030</td>\n",
       "      <td>0</td>\n",
       "    </tr>\n",
       "    <tr>\n",
       "      <th>3</th>\n",
       "      <td>B</td>\n",
       "      <td>0.000066</td>\n",
       "      <td>0.000050</td>\n",
       "      <td>0.000099</td>\n",
       "      <td>1.667939e-04</td>\n",
       "      <td>0.000065</td>\n",
       "      <td>0.000106</td>\n",
       "      <td>1.365677e-04</td>\n",
       "      <td>0.000126</td>\n",
       "      <td>6.687052e-05</td>\n",
       "      <td>...</td>\n",
       "      <td>2.391449e-04</td>\n",
       "      <td>0.000050</td>\n",
       "      <td>5.490456e-05</td>\n",
       "      <td>4.593785e-05</td>\n",
       "      <td>2.998228e-05</td>\n",
       "      <td>0.000034</td>\n",
       "      <td>0.000016</td>\n",
       "      <td>0.000056</td>\n",
       "      <td>0.000027</td>\n",
       "      <td>0</td>\n",
       "    </tr>\n",
       "    <tr>\n",
       "      <th>4</th>\n",
       "      <td>C10-C12</td>\n",
       "      <td>0.217493</td>\n",
       "      <td>0.001697</td>\n",
       "      <td>0.070624</td>\n",
       "      <td>3.893840e-03</td>\n",
       "      <td>0.296567</td>\n",
       "      <td>0.030230</td>\n",
       "      <td>5.516487e-03</td>\n",
       "      <td>0.020444</td>\n",
       "      <td>5.226470e-03</td>\n",
       "      <td>...</td>\n",
       "      <td>3.152230e-03</td>\n",
       "      <td>0.004704</td>\n",
       "      <td>3.921158e-03</td>\n",
       "      <td>1.320034e-02</td>\n",
       "      <td>3.923160e-03</td>\n",
       "      <td>0.006022</td>\n",
       "      <td>0.006058</td>\n",
       "      <td>0.012565</td>\n",
       "      <td>0.008250</td>\n",
       "      <td>0</td>\n",
       "    </tr>\n",
       "  </tbody>\n",
       "</table>\n",
       "<p>5 rows × 56 columns</p>\n",
       "</div>"
      ],
      "text/plain": [
       "  Unnamed: 0       A01       A02       A03             B   C10-C12   C13-C15  \\\n",
       "0        A01  0.036044  0.005051  0.004090  1.829061e-04  0.154009  0.020155   \n",
       "1        A02  0.000224  0.036896  0.000007  1.489546e-04  0.000306  0.000041   \n",
       "2        A03  0.000780  0.000000  0.023371  9.294775e-07  0.004311  0.000101   \n",
       "3          B  0.000066  0.000050  0.000099  1.667939e-04  0.000065  0.000106   \n",
       "4    C10-C12  0.217493  0.001697  0.070624  3.893840e-03  0.296567  0.030230   \n",
       "\n",
       "            C16       C17           C18  ...           M71       M72  \\\n",
       "0  4.271070e-04  0.002918  3.278248e-04  ...  2.067310e-04  0.000593   \n",
       "1  2.178111e-02  0.023392  3.250353e-07  ...  5.292217e-07  0.000004   \n",
       "2  2.354406e-07  0.000064  0.000000e+00  ...  3.279189e-07  0.000019   \n",
       "3  1.365677e-04  0.000126  6.687052e-05  ...  2.391449e-04  0.000050   \n",
       "4  5.516487e-03  0.020444  5.226470e-03  ...  3.152230e-03  0.004704   \n",
       "\n",
       "            M73       M74_M75             N       O84       P85         Q  \\\n",
       "0  2.223937e-04  2.182217e-04  4.122063e-04  0.000796  0.000661  0.000947   \n",
       "1  4.415084e-07  7.452870e-07  8.399119e-07  0.000003  0.000001  0.000001   \n",
       "2  0.000000e+00  0.000000e+00  0.000000e+00  0.000081  0.000250  0.000251   \n",
       "3  5.490456e-05  4.593785e-05  2.998228e-05  0.000034  0.000016  0.000056   \n",
       "4  3.921158e-03  1.320034e-02  3.923160e-03  0.006022  0.006058  0.012565   \n",
       "\n",
       "        R_S  T  \n",
       "0  0.002079  0  \n",
       "1  0.000005  0  \n",
       "2  0.000030  0  \n",
       "3  0.000027  0  \n",
       "4  0.008250  0  \n",
       "\n",
       "[5 rows x 56 columns]"
      ]
     },
     "execution_count": 10,
     "metadata": {},
     "output_type": "execute_result"
    }
   ],
   "source": [
    "df = pd.read_csv('esp_wiot.csv',sep = ',',low_memory=False)\n",
    "df.head()"
   ]
  },
  {
   "cell_type": "code",
   "execution_count": 11,
   "id": "ef22029a",
   "metadata": {},
   "outputs": [
    {
     "data": {
      "text/plain": [
       "(55, 55)"
      ]
     },
     "execution_count": 11,
     "metadata": {},
     "output_type": "execute_result"
    }
   ],
   "source": [
    "df = df.iloc[:,1:]# leaving out industries U and T\n",
    "df = df.astype('float')\n",
    "df.shape"
   ]
  },
  {
   "cell_type": "markdown",
   "id": "e32d8d62",
   "metadata": {},
   "source": [
    "**Creating matrix A**"
   ]
  },
  {
   "cell_type": "code",
   "execution_count": 12,
   "id": "3b209a29",
   "metadata": {},
   "outputs": [
    {
     "data": {
      "text/plain": [
       "(55, 55)"
      ]
     },
     "execution_count": 12,
     "metadata": {},
     "output_type": "execute_result"
    }
   ],
   "source": [
    "A = np.array(df)\n",
    "N = A.shape[0]\n",
    "A.shape"
   ]
  },
  {
   "cell_type": "code",
   "execution_count": 13,
   "id": "4c9a64bb",
   "metadata": {},
   "outputs": [],
   "source": [
    "x_0 = np.array(x_initial)"
   ]
  },
  {
   "cell_type": "code",
   "execution_count": 14,
   "id": "8ba3cc01",
   "metadata": {},
   "outputs": [],
   "source": [
    "f_0 = np.array(f_initial)"
   ]
  },
  {
   "cell_type": "markdown",
   "id": "c4ee14fb",
   "metadata": {},
   "source": [
    "# Leontief Model"
   ]
  },
  {
   "cell_type": "markdown",
   "id": "b2220798",
   "metadata": {},
   "source": [
    "**Calculating equilibrium when x is given**"
   ]
  },
  {
   "cell_type": "code",
   "execution_count": 15,
   "id": "a4c84cd3",
   "metadata": {},
   "outputs": [
    {
     "data": {
      "text/plain": [
       "0.8722617750326089"
      ]
     },
     "execution_count": 15,
     "metadata": {},
     "output_type": "execute_result"
    }
   ],
   "source": [
    "final_consumption = np.matmul(np.identity(N)-A, x_0)\n",
    "sum(f_max)/sum(final_consumption)"
   ]
  },
  {
   "cell_type": "markdown",
   "id": "281b0b20",
   "metadata": {},
   "source": [
    "**Computing equilibrium when f is given**"
   ]
  },
  {
   "cell_type": "code",
   "execution_count": 16,
   "id": "fa335ff9",
   "metadata": {},
   "outputs": [],
   "source": [
    "L = np.linalg.inv(np.identity(N)-A)"
   ]
  },
  {
   "cell_type": "code",
   "execution_count": 17,
   "id": "2abe2e96",
   "metadata": {},
   "outputs": [
    {
     "data": {
      "text/plain": [
       "0.6671523731536442"
      ]
     },
     "execution_count": 17,
     "metadata": {},
     "output_type": "execute_result"
    }
   ],
   "source": [
    "total_output = np.matmul(L, f_0)\n",
    "sum(x_max)/sum(total_output)"
   ]
  },
  {
   "cell_type": "code",
   "execution_count": 18,
   "id": "420754f0",
   "metadata": {},
   "outputs": [
    {
     "data": {
      "text/plain": [
       "(0.6671523731536442, 0.8722617750326089)"
      ]
     },
     "execution_count": 18,
     "metadata": {},
     "output_type": "execute_result"
    }
   ],
   "source": [
    "direct_shock = (sum(x_max)/sum(total_output),sum(f_max)/sum(final_consumption))\n",
    "direct_shock"
   ]
  },
  {
   "cell_type": "markdown",
   "id": "bed7504e",
   "metadata": {},
   "source": [
    "# Optimalization"
   ]
  },
  {
   "cell_type": "code",
   "execution_count": 19,
   "id": "395a2995",
   "metadata": {},
   "outputs": [],
   "source": [
    "from scipy.optimize import linprog"
   ]
  },
  {
   "cell_type": "markdown",
   "id": "7bed23c7",
   "metadata": {},
   "source": [
    "### Feasible Market Allocations\n",
    "Given exogenous constraints to supply and demand, what is the feasible market allocation that maximizes final consumption and/or total output? The solution needs to lie within exogenous bounds on supply and demand and also needs to satisfy the assumption of Leontief production:\n",
    "\n",
    "$$ x = Ax + f = Lf $$\n",
    "\n",
    "We seek market allocations {$x^*$ , $f^*$} that (a) respect the given production recipes $x^*=Lf^*$ and (b) satisfy basic output and demand constraints $x^* \\in [0, x^{max}]$ and $f^* \\in [0, f^{max}]$.\n",
    "\n",
    "**Optimization procedure**\n",
    "\n",
    "As a first case, we determine the market allocation that maximizes gross output under the assumptions specified. Large levels of output indicate high levels of ecomomic activity, which in turn entail high levels of primary factors such as labor compensation. As a second case, we look at market allocations that maximize final comsumption given current production capacities. Due to the linearity of the Leontief framework, the problem boils down to linear programming exercises.\n",
    "\n",
    "*Maximizing gross output*\n",
    "$$ \\text{max}_f \\qquad 1^T(I-A)^{-1}f $$\n",
    "$$ \\text{Subject to} \\quad (I-A)^{-1}f \\in [0, x^{max}] $$\n",
    "\n",
    "*Maximizing final consumption*\n",
    "$$ \\text{max}_x \\qquad 1^T(I-A)x $$\n",
    "$$ \\text{Subject to} \\quad (I-A)x \\in [0, f^{max}] $$"
   ]
  },
  {
   "cell_type": "markdown",
   "id": "02d604cd",
   "metadata": {},
   "source": [
    "### Maximizing total output"
   ]
  },
  {
   "cell_type": "code",
   "execution_count": 20,
   "id": "6a44bf74",
   "metadata": {},
   "outputs": [],
   "source": [
    "def max_output(N,L,A,xmax,fmax):\n",
    "    z = np.ones(N)\n",
    "    obj = -np.matmul(np.matrix.transpose(z), L)\n",
    "    lhs_ineq = np.concatenate((-L,L))\n",
    "    rhs_ineq = np.concatenate((np.zeros(N), xmax))\n",
    "    \n",
    "    bnd = []\n",
    "    for i in range (0,N):\n",
    "        bnd.append((0,fmax[i]))\n",
    "    \n",
    "    result = linprog(c = obj, A_ub= lhs_ineq, b_ub= rhs_ineq, bounds = bnd)\n",
    "    \n",
    "    optimal_output = -result.fun\n",
    "    \n",
    "    optimal_f = np.ones(N)\n",
    "    for i in range(0,N):\n",
    "        optimal_f[i] = result.x[i]\n",
    "    \n",
    "    return result.success, optimal_output/sum(x_0), sum(optimal_f)/sum(f_0)"
   ]
  },
  {
   "cell_type": "code",
   "execution_count": 21,
   "id": "f9adab99",
   "metadata": {},
   "outputs": [
    {
     "data": {
      "text/plain": [
       "(0.5314708441396939, 0.5595152879438924)"
      ]
     },
     "execution_count": 21,
     "metadata": {},
     "output_type": "execute_result"
    }
   ],
   "source": [
    "result = max_output(N,L,A,x_max,f_max)\n",
    "result[0]\n",
    "Max_output = (result[1], result[2])\n",
    "Max_output"
   ]
  },
  {
   "cell_type": "markdown",
   "id": "4264b266",
   "metadata": {},
   "source": [
    "### Maximizing final consumption"
   ]
  },
  {
   "cell_type": "code",
   "execution_count": 22,
   "id": "ad66d86f",
   "metadata": {},
   "outputs": [],
   "source": [
    "def max_consumption(N,L,A,xmax,fmax):\n",
    "    z = np.ones(N)\n",
    "    obj2 = -np.matmul(np.matrix.transpose(z), np.identity(N)-A)\n",
    "    lhs_ineq2 = np.concatenate((-(np.identity(N)-A), np.identity(N)-A))\n",
    "    rhs_ineq2 = np.concatenate((np.zeros(N), fmax))\n",
    "    \n",
    "    bnd2 = []\n",
    "    for i in range (0,N):\n",
    "        bnd2.append((0,xmax[i]))\n",
    "        \n",
    "    result2 = linprog(c = obj2, A_ub= lhs_ineq2, b_ub= rhs_ineq2, bounds= bnd2)\n",
    "    optimal_f_2 = -result2.fun\n",
    "    \n",
    "    optimal_output_2 = np.ones(N)\n",
    "    for i in range(0,N):\n",
    "        optimal_output_2[i] = round(result2.x[i])\n",
    "        \n",
    "    return result2.success, sum(optimal_output_2)/sum(x_0), optimal_f_2/sum(f_0)"
   ]
  },
  {
   "cell_type": "code",
   "execution_count": 23,
   "id": "be22158e",
   "metadata": {},
   "outputs": [
    {
     "data": {
      "text/plain": [
       "(0.5294957360027067, 0.5596734687907872)"
      ]
     },
     "execution_count": 23,
     "metadata": {},
     "output_type": "execute_result"
    }
   ],
   "source": [
    "result2 = max_consumption(N,L,A,x_max,f_max)\n",
    "Max_consumption = (result2[1], result2[2])\n",
    "Max_consumption"
   ]
  },
  {
   "cell_type": "markdown",
   "id": "a88e27e5",
   "metadata": {},
   "source": [
    "**Note that both optimization problems give almost the same solution**"
   ]
  },
  {
   "cell_type": "markdown",
   "id": "4bac4370",
   "metadata": {},
   "source": [
    "# Rationing"
   ]
  },
  {
   "cell_type": "code",
   "execution_count": 24,
   "id": "87009188",
   "metadata": {},
   "outputs": [],
   "source": [
    "f_max = f_max[:54]\n",
    "x_max = x_max[:54]\n",
    "A = A[:54,:54]\n",
    "N = 54\n",
    "x_0 = x_0[:54]\n",
    "f_0 = f_0[:54]\n",
    "L = np.linalg.inv(np.identity(N)-A)"
   ]
  },
  {
   "cell_type": "markdown",
   "id": "3e84b6c6",
   "metadata": {},
   "source": [
    "### Input bottlenecks and rationing variations\n",
    "In contrast to the optimization methods, this represents a bottom-up approach for finding feasible market allocations. Industries place orders to their suppliers based on incoming demand. Since suppliers can be output constrained, they might not be able to satisfy demand fully. A supplier therefore needs to make a decision about how much of each customer’s demand it serves. Intermediate consumers transform inputs to outputs based on fixed production recipes. Thus if a customer receives less inputs than she asked for, she faces an input bottleneck further constraining her production. As a consequence, the customer reduces her demand for other inputs as they are not further needed under limited productive capacities. We iterate this procedure forward until the algorithm converges.\n",
    "\n",
    "**Strict Proportional Rationing**\n",
    "\n",
    "If industries are unable to satisfy total incoming demand completely, they distribute output proportional to their customers’ demand, where no distinction is made between intermediate and final customers. We implement the rationing algorithm in the following way:\n",
    "1. Industries determine their total demand as if there were no supply-side constraints, $d = Lf^{\\text{max}}$;\n",
    "2. Industries evaluate if they are able to satisfy demand goven their constrained production capacities;\n",
    "3. Industries that only partially satisfy demand, create a bottleneck;\n",
    "4. Industries reduce their production according to the largest input bottleneck (assumption of fixed recipes);\n",
    "5. The total amount of goods delivered to the final consumer is computed;\n",
    "6. Iterate 1-5 until there are no input constraints left.\n",
    "\n",
    "Formulas:\n",
    "\n",
    "$$ r_i[t] = \\frac{x_i^{\\text{max}}}{d_i[t]} $$\n",
    "\n",
    "$$ s_i[t] = min_j \\{r_j[t], 1\\} $$\n",
    "\n",
    "$$ x_i[t] = \\text{min}\\{x_i^{\\text{max}}, s_i[t]d_i[t]\\} $$\n",
    "\n",
    "$$ f_i[t] = \\text{max} \\Big\\{ x_i[t] - \\sum_{i} a_{ij} x_j[t], 0 \\Big\\}$$\n",
    "\n",
    "$$ d_i[t+1] = \\sum_{j} l_{ij} f_j[t] $$\n",
    "\n",
    "The algorithm converges to a new feasible economic allocation if $d_i[t+1] = d_i[t]$ for all i.\n",
    "\n",
    "*Implementation*"
   ]
  },
  {
   "cell_type": "code",
   "execution_count": 25,
   "id": "7bfeaa17",
   "metadata": {},
   "outputs": [],
   "source": [
    "def algo_proportional(A, L, fmax, xmax,TT, prioritize=\"no\"):\n",
    "    x = [0]\n",
    "    fvec = []          # initial demand vector\n",
    "    fvec.append(fmax)\n",
    "    r = [0]            # output constraints\n",
    "    s = [0]            # input bottlenecks \n",
    "     \n",
    "    d = [0]            # aggregated demand vector \n",
    "    d.append(np.matmul(L, fvec[0])) #d[1] = L*f[0]\n",
    "\n",
    "    list_ = [1] \n",
    "    t=1\n",
    "    epsilon = 1e-6\n",
    "    while not np.all(abs(d[t] - d[t-1]) < epsilon) and t<TT:\n",
    "        #print('\\nIteration {0}'.format(t))\n",
    "        #print('---------')\n",
    "        #print('Initial aggregated demand: {}'.format(d[t]))\n",
    "        r.append(np.ones(len(xmax)))\n",
    "        s.append(np.ones(len(xmax)))\n",
    "        fvec.append(np.ones(len(xmax)))\n",
    "        x.append(np.ones(len(xmax)))\n",
    "        d.append(np.ones(len(xmax)))\n",
    "        \n",
    "        ##########################################\n",
    "        ########### Output constraints ###########\n",
    "        ##########################################\n",
    "        for i in range (0,len(x_max)):\n",
    "            r[t][i] = xmax[i]/d[t][i]\n",
    "        #print('Output constraints:{}'.format(r[t]))\n",
    "        \n",
    "        ##########################################\n",
    "        ########### Input bottlenecks ############\n",
    "        ##########################################\n",
    "        for i in range(0,len(x_max)):\n",
    "            for j in range(0,len(x_max)):\n",
    "                if A[j][i] > 0:\n",
    "                    list_.append(r[t][j])\n",
    "            s[t][i] = min(list_)\n",
    "            list_ = [1]\n",
    "        #print('Input bottlenecks:{}'.format(s[t]))\n",
    "        \n",
    "        ##############################################\n",
    "        ########### Constrained Production ###########\n",
    "        ##############################################\n",
    "        for i in range(0,len(xmax)):\n",
    "            x[t][i] = min(xmax[i], s[t][i]*d[t][i])\n",
    "        #print('Constrained production:{}'.format(x[t]))\n",
    "        \n",
    "        ##############################################\n",
    "        ############ Constrained Delivery ############\n",
    "        ##############################################\n",
    "        for i in range(0,len(xmax)):\n",
    "            fvec[t][i] = max(x[t][i] - np.matmul(A[i],x[t]),0)\n",
    "        #print('Constrained delivery:{}'.format(fvec[t]))\n",
    "        \n",
    "        ###############################################\n",
    "        ############ New Aggregated Demand ############\n",
    "        ###############################################\n",
    "        for i in range(0,len(xmax)):\n",
    "            d[t+1][i] = np.matmul(L[i],fvec[t])\n",
    "        t=t+1\n",
    "        #print('Aggregated Demand:         {}'.format(d[t]))\n",
    "        if t==TT:\n",
    "            print(\"Algorithm did not converge\")\n",
    "    return sum(x[t-1])/sum(x_0), sum(fvec[t-1])/sum(f_0), t"
   ]
  },
  {
   "cell_type": "code",
   "execution_count": 26,
   "id": "1510b687",
   "metadata": {},
   "outputs": [
    {
     "data": {
      "text/plain": [
       "(0.14526842096652606, 0.14663857621015908, 3)"
      ]
     },
     "execution_count": 26,
     "metadata": {},
     "output_type": "execute_result"
    }
   ],
   "source": [
    "result_proportional = algo_proportional(A, L, f_max, x_max, 30, prioritize=\"no\")\n",
    "result_proportional"
   ]
  },
  {
   "cell_type": "markdown",
   "id": "e48172c7",
   "metadata": {},
   "source": [
    "## Mixed priority/proportional rationing"
   ]
  },
  {
   "cell_type": "markdown",
   "id": "31431ffd",
   "metadata": {},
   "source": [
    "We implement the rationing algorithm in the following way:\n",
    "1. Industries determine their total demand as if there were no supply-side constraints, $d = Lf^{\\text{max}}$;\n",
    "2. Industries evaluate if they are able to satisfy demand given their constrained production capacities;\n",
    "3. Industries that only partially satisfy demand, create a bottleneck;\n",
    "4. Industries reduce their production according to the largest input bottleneck (assumption of fixed recipes);\n",
    "5. The total amount of goods delivered to the final consumer is computed;\n",
    "6. Iterate 1-5 until there are no input constraints left.\n",
    "\n",
    "Formulas:\n",
    "\n",
    "$$ r_i[t] = \\frac{x_i^{\\text{max}}}{\\sum_{j}A_{ij}d_j[t]} $$\n",
    "\n",
    "$$ s_i[t] = min_j \\{r_j[t], 1\\} $$\n",
    "\n",
    "$$ x_i[t] = \\text{min}\\{x_i^{\\text{max}}, s_i[t]d_i[t]\\} $$\n",
    "\n",
    "$$ f_i[t] = \\text{max} \\Big\\{ x_i[t] - \\sum_{i} a_{ij} x_j[t], 0 \\Big\\}$$\n",
    "\n",
    "$$ d_i[t+1] = \\sum_{j} l_{ij} f_j[t] $$\n",
    "\n",
    "The algorithm converges to a new feasible economic allocation if $d_i[t+1] = d_i[t]$ for all i.\n",
    "\n",
    "*Implementation*"
   ]
  },
  {
   "cell_type": "code",
   "execution_count": 27,
   "id": "8b4c14db",
   "metadata": {},
   "outputs": [],
   "source": [
    "def algo_mixed(A, L, fmax, xmax, TT, prioritize=\"yes\"):\n",
    "    x = [0]\n",
    "    fvec = [] # initial demand vector\n",
    "    fvec.append(fmax)\n",
    "    r = [0]   # output constraints\n",
    "    s = [0]   # input bottlenecks \n",
    "    d = [0]   # aggregated demand vector \n",
    "    d.append(np.matmul(L, fvec[0])) #d[1] = L*f[0]\n",
    "    \n",
    "    list_ = [1] \n",
    "    t=1\n",
    "    epsilon = 1e-6\n",
    "    while not np.all(abs(d[t] - d[t-1]) < epsilon) and t<TT:\n",
    "        #print('\\nIteration {0}'.format(t))\n",
    "        #print('---------')\n",
    "        #print('Initial aggregated demand: {}'.format(d[t]))\n",
    "        r.append(np.ones(len(xmax)))\n",
    "        s.append(np.ones(len(xmax)))\n",
    "        fvec.append(np.ones(len(xmax)))\n",
    "        x.append(np.ones(len(xmax)))\n",
    "        d.append(np.ones(len(xmax)))\n",
    "        \n",
    "        ##########################################\n",
    "        ########### Output constraints ###########\n",
    "        ##########################################\n",
    "        for i in range (0,len(x_max)):\n",
    "            r[t][i] = xmax[i]/np.matmul(A[i],d[t])\n",
    "        #print('Output constraints:         {}'.format(r[t]))\n",
    "        \n",
    "        ##########################################\n",
    "        ########### Input bottlenecks ############\n",
    "        ##########################################\n",
    "        for i in range(0,len(x_max)):\n",
    "            for j in range(0,len(x_max)):\n",
    "                if A[j][i] > 0:\n",
    "                    list_.append(r[t][j])\n",
    "            s[t][i] = min(list_)\n",
    "            list_ = [1]\n",
    "        #print('Input bottlenecks:         {}'.format(s[t]))\n",
    "        \n",
    "        ##############################################\n",
    "        ########### Constrained Production ###########\n",
    "        ##############################################\n",
    "        for i in range(0,len(xmax)):\n",
    "            x[t][i] = min(xmax[i], s[t][i]*d[t][i])\n",
    "            #print(s[t][i]*d[t][i])\n",
    "        \n",
    "        ##############################################\n",
    "        ############ Constrained Delivery ############\n",
    "        ##############################################\n",
    "        \n",
    "        \n",
    "        for i in range(0,len(xmax)):\n",
    "            #print(np.matmul(A[i],s[t]*d[t]))\n",
    "            fvec[t][i] = max(x[t][i] - np.matmul(A[i],x[t]),0) \n",
    "        #print('Constrained delivery:      {}'.format(fvec[t]))\n",
    "        \n",
    "        ###############################################\n",
    "        ############ New Aggregated Demand ############\n",
    "        ###############################################\n",
    "        for i in range(0,len(xmax)):\n",
    "            d[t+1][i] = np.matmul(L[i],fvec[t])\n",
    "        t=t+1\n",
    "    \n",
    "        if t == TT:\n",
    "            print(\"Algoritm did not converge\")\n",
    "        \n",
    "        \n",
    "    return sum(x[t-1])/sum(x_0), sum(fvec[t-1])/sum(f_0), t"
   ]
  },
  {
   "cell_type": "code",
   "execution_count": 28,
   "id": "24ae4d4b",
   "metadata": {},
   "outputs": [
    {
     "data": {
      "text/plain": [
       "(0.2395064860122824, 0.2417489671009424, 3)"
      ]
     },
     "execution_count": 28,
     "metadata": {},
     "output_type": "execute_result"
    }
   ],
   "source": [
    "result_mixed = algo_mixed(A, L, f_max, x_max, 30, prioritize=\"yes\")\n",
    "result_mixed"
   ]
  },
  {
   "cell_type": "markdown",
   "id": "ccef6611",
   "metadata": {},
   "source": [
    "## Priority rationing"
   ]
  },
  {
   "cell_type": "markdown",
   "id": "aaa91a63",
   "metadata": {},
   "source": [
    "Largest first rationing; firms are prioritized over the final consumer. Take\n",
    "an initial demand vector $f[0] = f$\n",
    "max as given, implying an initial aggregate demand vector\n",
    "$d[1] = Lf[0]$. Every firm $i$ ranks each customers based on initial demand size. Let  $h_{ij}$ be the $j$ largest customers of firm $i$: $h_{ij} =\n",
    "\\{k(1), k(2), ..., k(j)\n",
    ": A_{ik(1)}d_{k(1)} [1] ≥ A_{ik(2)}d_{k(2)} [1] ≥ ... ≥ A_{ik(j)}\n",
    "d_{k(j)}[1] \\}$. By looping over the\n",
    "index $t = {1, 2, ...}$, the following system is iterated forward:\n",
    "\n",
    "Formulas:\n",
    "\n",
    "$$ r_{ij}[t] = \\frac{x_i^{\\text{max}}}{\\sum_{n\\in h_{ij}}A_{ih(j)}d_{n_{(j)}}[t]} $$\n",
    "\n",
    "$$ s_i[t] = min_j \\{r_{ji}[t], 1\\} $$\n",
    "\n",
    "$$ x_i[t] = \\text{min}\\{x_i^{\\text{max}}, s_i[t]d_i[t]\\} $$\n",
    "\n",
    "$$ f_i[t] = \\text{max} \\Big\\{ x_i[t] - \\sum_{i} a_{ij} x_j[t], 0 \\Big\\}$$\n",
    "\n",
    "$$ d_i[t+1] = \\sum_{j} l_{ij} f_j[t] $$\n",
    "\n",
    "The algorithm converges to a new feasible economic allocation if $d_i[t+1] = d_i[t]$ for all i."
   ]
  },
  {
   "cell_type": "code",
   "execution_count": 29,
   "id": "3a90b1f7",
   "metadata": {},
   "outputs": [],
   "source": [
    "def order(A, L, fmax):\n",
    "    d = np.matmul(L, fmax)\n",
    "    list_1 = []   #lijst die we gaan sorteren van groot naar klein\n",
    "    list_2 = []   #lijst die niet gesorteerd wordt om oorspronkelijke indices terug te vinden\n",
    "    for i in range(A.shape[0]):\n",
    "        list_1.append([])\n",
    "        list_2.append([])\n",
    "    for i in range(A.shape[0]):\n",
    "        for j in range(A.shape[0]):\n",
    "            list_1[i].append(A[i][j]*d[j])     # list_1[i][j] = list_2[i][j] = A[i][j]*d[j]\n",
    "            list_2[i].append(A[i][j]*d[j])\n",
    "        list_1[i].sort(reverse = True)              #list_1 sorteren van groot naar klein: A[i][j]*d[j] >= A[i][j+1]*d[j+1]\n",
    "\n",
    "    names_ordered=[]\n",
    "    for i in range(A.shape[0]):\n",
    "        names_ordered.append([])\n",
    "    \n",
    "    for i in range(A.shape[0]):\n",
    "        for k in list_1[i]:                 # we willen nu de indices van de j+1 (j van 0 tot en met N-1) grootste suppliers  \n",
    "                for l in range(A.shape[0]):   #van firm i. Hiervoor gebruiken we de ongesorteerde lijst (list_2)\n",
    "                    if list_2[i][l] == k:\n",
    "                        names_ordered[i].append(l)   \n",
    "    return names_ordered "
   ]
  },
  {
   "cell_type": "code",
   "execution_count": 30,
   "id": "18fdf5b6",
   "metadata": {},
   "outputs": [],
   "source": [
    "def algo_priority(A, L, fmax, xmax, ordered, TT, prioritize=\"yes\"):                 \n",
    "    x = [0]\n",
    "    fvec = []   # initial demand vector\n",
    "    fvec.append(fmax)\n",
    "    rvec = [0]  # output constraints\n",
    "    s = [0]     # input bottlenecks \n",
    "    d = [0]     # aggregated demand vector \n",
    "    d.append(np.matmul(L, fvec[0])) #d[1] = L*f[0]\n",
    "    list_ = [1] \n",
    "    t=1\n",
    "    epsilon = 1e-6\n",
    "    while not np.all(abs(d[t] - d[t-1]) < epsilon) and t<TT:\n",
    "        #print('\\nIteration {0}'.format(t))\n",
    "        #print('---------')\n",
    "        #print('Initial aggregated demand: {}'.format(d[t]))\n",
    "        rvec.append([np.zeros(N)])\n",
    "        s.append(np.ones(N))\n",
    "        fvec.append(np.ones(N))\n",
    "        x.append(np.ones(N))\n",
    "        d.append(np.ones(N))\n",
    "        demand = np.identity(N)\n",
    "        \n",
    "        som = 0\n",
    "        for i in range(0,N):\n",
    "            for j in range(0,N):\n",
    "                for k in ordered[i][:j+1]:\n",
    "                    som = som + A[i][k]*d[t][k] \n",
    "                demand[i][j] = som   #demand[i][j] = demand of j'th biggest customers of firm i summed up\n",
    "                som = 0\n",
    "        remainder = np.identity(N)\n",
    "    \n",
    "        for i in range(0,N):\n",
    "            for j in range(0,N):\n",
    "                remainder[i][j] = xmax[i] - demand[i][j]\n",
    "                \n",
    "        ####################################################\n",
    "        ####################### rvec #######################\n",
    "        ####################################################\n",
    "        for i in range(0,N):\n",
    "            rvec[t].append([])\n",
    "        for i in range(0,N):\n",
    "            if all(remainder[i][j]>0 for j in range(0,N)):\n",
    "                rvec[t][i] = np.ones(N) \n",
    "            elif all(remainder[i][j]<=0 for j in range(0,N)): \n",
    "                rvec[t][i] = np.zeros(N)\n",
    "                for k in ordered[i][:1]: \n",
    "                    rvec[t][i][k] = xmax[i]/demand[i][0]\n",
    "        \n",
    "            else: \n",
    "                idx = np.where(remainder[i]<=0) # index for partially met demand\n",
    "                idx_fully = np.where(remainder[i]>0) \n",
    "                length = len(idx_fully[0])\n",
    "                rvec[t][i] = np.zeros(N)\n",
    "                for l in range(0,length-1):\n",
    "                    index = ordered[i][l]\n",
    "                    rvec[t][i][index] = 1\n",
    "                m = ordered[i][length-1]\n",
    "                rvec[t][i][m] = remainder[i][length-1]/(demand[i][length]-demand[i][length-1])\n",
    "                \n",
    "        #####################################################\n",
    "        ################# Input bottlenecks #################\n",
    "        #####################################################\n",
    "        for i in range(0,N):\n",
    "            for j in range(0,N):\n",
    "                if A[j][i]>0:\n",
    "                    list_.append(rvec[t][j][i])\n",
    "            s[t][i] = min(list_)\n",
    "            list_ = [1]   \n",
    "        #print('Input bottlenecks:         {}'.format(s[t]))\n",
    "        \n",
    "        ######################################################\n",
    "        ############### Constrained Production ###############\n",
    "        ######################################################\n",
    "        for i in range(0,N):\n",
    "            x[t][i] = min(xmax[i], s[t][i]*d[t][i])\n",
    "            \n",
    "        \n",
    "        ######################################################\n",
    "        ################ Constrained Delivery ################\n",
    "        ######################################################\n",
    "        for i in range(0,len(xmax)):\n",
    "            fvec[t][i] = max(x[t][i] - np.matmul(A[i],x[t]),0)\n",
    "        \n",
    "        ######################################################\n",
    "        ################ Aggregated demand ###################\n",
    "        ######################################################\n",
    "        for i in range(0,len(xmax)):\n",
    "            d[t+1][i] = np.matmul(L[i],fvec[t])\n",
    "            \n",
    "        t=t+1\n",
    "        if t==TT:\n",
    "            print(\"Algorithm did not converge\")\n",
    "    return sum(x[t-1])/sum(x_0), sum(fvec[t-1])/sum(f_0), t"
   ]
  },
  {
   "cell_type": "code",
   "execution_count": 31,
   "id": "4cdf6843",
   "metadata": {},
   "outputs": [
    {
     "data": {
      "text/plain": [
       "(0.0, 0.0, 3)"
      ]
     },
     "execution_count": 31,
     "metadata": {},
     "output_type": "execute_result"
    }
   ],
   "source": [
    "names_ordered = order(A,L,f_max)\n",
    "result_priority = algo_priority(A, L, f_max, x_max, names_ordered,TT=30, prioritize=\"yes\")\n",
    "result_priority"
   ]
  },
  {
   "cell_type": "markdown",
   "id": "abd98788",
   "metadata": {},
   "source": [
    "## Random rationing"
   ]
  },
  {
   "cell_type": "code",
   "execution_count": 32,
   "id": "6063db8e",
   "metadata": {},
   "outputs": [],
   "source": [
    "from random import randrange"
   ]
  },
  {
   "cell_type": "code",
   "execution_count": 33,
   "id": "5f095e24",
   "metadata": {},
   "outputs": [],
   "source": [
    "def algo_random(A, L, fmax, xmax, runs, prioritize = \"random\"):\n",
    "    x = []\n",
    "    y = []\n",
    "    while len(x)<runs:\n",
    "        random_ordered=[]\n",
    "        for i in range(N):\n",
    "            random_ordered.append([])\n",
    "    \n",
    "        for i in range(N):\n",
    "            while len(random_ordered[i])<N:\n",
    "                random = randrange(N)\n",
    "                while random in random_ordered[i]:\n",
    "                    random = randrange(N)# we willen nu de indices van de j+1 (j van 0 tot en met N-1) grootste suppliers  \n",
    "                random_ordered[i].append(random)\n",
    "                \n",
    "        result = algo_priority(A, L, fmax, xmax, random_ordered, TT = 25, prioritize=\"yes\")\n",
    "        if result[0] != None:\n",
    "            x.append(result[0])\n",
    "            y.append(result[1])\n",
    "    result_random = (sum(x)/len(x), sum(y)/len(y))\n",
    "    return result_random"
   ]
  },
  {
   "cell_type": "code",
   "execution_count": 34,
   "id": "ed1db17d",
   "metadata": {},
   "outputs": [
    {
     "data": {
      "text/plain": [
       "(0.006677040683154795, 0.00719869917899004)"
      ]
     },
     "execution_count": 34,
     "metadata": {},
     "output_type": "execute_result"
    }
   ],
   "source": [
    "result_random = algo_random(A, L, f_max, x_max, 100, prioritize = \"random\")\n",
    "result_random"
   ]
  },
  {
   "cell_type": "code",
   "execution_count": 35,
   "id": "783306aa",
   "metadata": {},
   "outputs": [
    {
     "name": "stdout",
     "output_type": "stream",
     "text": [
      "Optimalization: (x,f)\n",
      "------------------------\n",
      "(0.5314708441396939, 0.5595152879438924)\n",
      "(0.5294957360027067, 0.5596734687907872)\n",
      "------------------------\n",
      "Direct Shocks: (x, f)\n",
      "------------------------\n",
      "(0.6671523731536442, 0.8722617750326089)\n",
      "------------------------\n",
      "Rationing Methods: (x,f)\n",
      "------------------------\n",
      "(0.14526842096652606, 0.14663857621015908, 3)\n",
      "(0.2395064860122824, 0.2417489671009424, 3)\n",
      "(0.0, 0.0, 3)\n",
      "(0.006677040683154795, 0.00719869917899004)\n"
     ]
    }
   ],
   "source": [
    "print(\"Optimalization: (x,f)\")\n",
    "print(\"------------------------\")\n",
    "print(Max_output)\n",
    "print(Max_consumption)\n",
    "print(\"------------------------\")\n",
    "print(\"Direct Shocks: (x, f)\")\n",
    "print(\"------------------------\")\n",
    "print(direct_shock)\n",
    "print(\"------------------------\")\n",
    "print(\"Rationing Methods: (x,f)\")\n",
    "print(\"------------------------\")\n",
    "print(result_proportional)\n",
    "print(result_mixed)\n",
    "print(result_priority)\n",
    "print(result_random)"
   ]
  },
  {
   "cell_type": "code",
   "execution_count": 36,
   "id": "3eb6ae66",
   "metadata": {},
   "outputs": [],
   "source": [
    "import matplotlib.pyplot as plt"
   ]
  },
  {
   "cell_type": "code",
   "execution_count": 37,
   "id": "65fbc0ae",
   "metadata": {},
   "outputs": [
    {
     "data": {
      "image/png": "[encoded data removed]",
      "text/plain": [
       "<Figure size 640x480 with 1 Axes>"
      ]
     },
     "metadata": {},
     "output_type": "display_data"
    }
   ],
   "source": [
    "plt.style.use('ggplot')\n",
    "plt.title(\"Spain\")\n",
    "plt.grid(visible=None, which='major', axis='both', linestyle='-', linewidth=1)\n",
    "\n",
    "plt.plot(result_proportional[1], result_proportional[0], 'b^')\n",
    "plt.plot(result_mixed[1], result_mixed[0], 'b^')\n",
    "plt.plot(result_priority[1], result_priority[0], 'b^')\n",
    "plt.plot(result_random[1], result_random[0], 'b^')\n",
    "plt.plot(Max_consumption[1], Max_consumption[0], 'b^')\n",
    "plt.plot(Max_output[1], Max_output[0], 'b^')\n",
    "plt.plot(direct_shock[1], direct_shock[0], 'b^')\n",
    "\n",
    "#x = np.linspace(-0.09,1.1)\n",
    "#y = x\n",
    "#plt.plot(x,y, 'k--', linewidth =0.5)\n",
    "\n",
    "\n",
    "plt.text(0.1,0.17,'Proportional')\n",
    "plt.text(0.2,0.25,'Mixed')\n",
    "plt.text(-0.04,0.04,'Random')\n",
    "plt.text(-0.06,-0.06,'Priority')\n",
    "plt.text(0.52,0.48, 'Maximize f')\n",
    "plt.text(0.53,0.56, 'Maximize x')\n",
    "plt.text(0.79,0.7, 'Direct shock')\n",
    "\n",
    "plt.xlim(-0.09,1) \n",
    "plt.ylim(-0.09,1)\n",
    "\n",
    "\n",
    "plt.xlabel(\"Final Consumption\")\n",
    "plt.ylabel(\"Gross Output\")\n",
    "plt.savefig('plot_Spain.png')\n",
    "plt.show()"
   ]
  },
  {
   "cell_type": "markdown",
   "id": "945c1712",
   "metadata": {},
   "source": [
    "# Shock Magnitude Effect"
   ]
  },
  {
   "cell_type": "code",
   "execution_count": 38,
   "id": "5876ca1e",
   "metadata": {},
   "outputs": [],
   "source": [
    "def shockscale(x, xmax, f, fmax, scale_x, scale_f):\n",
    "    ss_full = np.divide(xmax,x)-1\n",
    "    ds_full = np.divide(fmax,f)-1\n",
    "    \n",
    "    ss = ss_full*scale_x\n",
    "    \n",
    "    x_shocked = np.zeros(N)\n",
    "    \n",
    "    for i in range (0,N):\n",
    "        x_shocked[i] = (np.ones(N)+ ss)[i]*x[i]\n",
    "\n",
    "    \n",
    "    ds = ds_full*scale_f\n",
    "    f_shocked = np.zeros(N)\n",
    "    \n",
    "    for i in range (0,N):\n",
    "        f_shocked[i] = (np.ones(N)+ ds)[i]*f[i]\n",
    "    \n",
    "    return x_shocked, f_shocked"
   ]
  },
  {
   "cell_type": "markdown",
   "id": "0a0c46eb",
   "metadata": {},
   "source": [
    "### Direct shock"
   ]
  },
  {
   "cell_type": "code",
   "execution_count": 39,
   "id": "78376e75",
   "metadata": {},
   "outputs": [],
   "source": [
    "def scale_run_direct_shock(scalewhat = \"both\", seq = np.linspace(0,1,100)):    \n",
    "    res_dir_x = []\n",
    "    res_dir_f = []\n",
    "    for i in range(0, len(seq)):\n",
    "        if scalewhat == \"both\":\n",
    "            scaleres = shockscale(x_0, x_max, f_0, f_max, scale_x=seq[i], scale_f=seq[i])\n",
    "            \n",
    "        if scalewhat == \"supply\":\n",
    "            scaleres = shockscale(x_0, x_max, f_0, f_max, scale_x=seq[i], scale_f=0)\n",
    "            \n",
    "        if scalewhat == \"demand\":\n",
    "            scaleres = shockscale(x_0, x_max, f_0, f_max, scale_x=0, scale_f=seq[i])\n",
    "            \n",
    "    \n",
    "        res_dir_x.append(sum(scaleres[0])/sum(x_0))\n",
    "        res_dir_f.append(sum(scaleres[1])/sum(f_0)) \n",
    "    dataframe = {'x': res_dir_x,\n",
    "                 'f': res_dir_f,\n",
    "                'Scale': scalewhat, 'Algorithm': 'Direct_shock', 'a': seq}\n",
    "    df = pd.DataFrame(dataframe)\n",
    "        \n",
    "    return df"
   ]
  },
  {
   "cell_type": "code",
   "execution_count": 40,
   "id": "1e650ec9",
   "metadata": {},
   "outputs": [],
   "source": [
    "x_direct_D = np.array(scale_run_direct_shock(scalewhat = \"demand\",  seq = np.linspace(0,1,100)).iloc[:,0].astype('float'))\n",
    "a_direct_D = np.array(scale_run_direct_shock(scalewhat = \"demand\",  seq = np.linspace(0,1,100)).iloc[:,4].astype('float'))"
   ]
  },
  {
   "cell_type": "markdown",
   "id": "34939f8f",
   "metadata": {},
   "source": [
    "### Optimization"
   ]
  },
  {
   "cell_type": "code",
   "execution_count": 41,
   "id": "425712ca",
   "metadata": {},
   "outputs": [],
   "source": [
    "def scale_run_optimizationX(scalewhat = \"both\", seq = np.linspace(0,1,100)):\n",
    "    resmax_output_x = []\n",
    "    resmax_output_f = []\n",
    "    \n",
    "    i=0\n",
    "    while i <len(seq):\n",
    "        if scalewhat == \"both\":\n",
    "            scaleres = shockscale(x_0, x_max, f_0, f_max, scale_x=seq[i], scale_f=seq[i])\n",
    "            \n",
    "        if scalewhat == \"supply\":\n",
    "            scaleres = shockscale(x_0, x_max, f_0, f_max, scale_x=seq[i], scale_f=0)\n",
    "            \n",
    "        if scalewhat == \"demand\":\n",
    "            scaleres = shockscale(x_0, x_max, f_0, f_max, scale_x=0, scale_f=seq[i])\n",
    "        \n",
    "        #print(scaleres[0])\n",
    "        resmaxX = max_output(N , L, A, xmax = scaleres[0], fmax=scaleres[1])\n",
    "        #print(resmaxX)\n",
    "        if resmaxX[0] == True:\n",
    "        #print(resmaxX)\n",
    "            resmax_output_x.append(resmaxX[1])\n",
    "            resmax_output_f.append(resmaxX[2])\n",
    "        else: \n",
    "            resmax_output_x.append('NaN')\n",
    "            resmax_output_f.append('NaN')\n",
    "            \n",
    "            \n",
    "        i = i+1\n",
    "        \n",
    "        \n",
    "    dataframe = {'x': resmax_output_x,\n",
    "                 'f': resmax_output_f,\n",
    "                'Scale': scalewhat, 'Algorithm': 'Max_output', 'a': seq}\n",
    "    df = pd.DataFrame(dataframe)\n",
    "    \n",
    "    return df"
   ]
  },
  {
   "cell_type": "code",
   "execution_count": 42,
   "id": "54db0809",
   "metadata": {},
   "outputs": [],
   "source": [
    "x_opt_D = np.array(scale_run_optimizationX(scalewhat = \"demand\",  seq = np.linspace(0,1,100)).iloc[:,0].astype('float'))\n",
    "a_opt_D = np.array(scale_run_optimizationX(scalewhat = \"demand\",  seq = np.linspace(0,1,100)).iloc[:,4].astype('float'))"
   ]
  },
  {
   "cell_type": "markdown",
   "id": "54a64aaa",
   "metadata": {},
   "source": [
    "### Rationing"
   ]
  },
  {
   "cell_type": "code",
   "execution_count": 43,
   "id": "64d04db3",
   "metadata": {},
   "outputs": [],
   "source": [
    "TT = 25"
   ]
  },
  {
   "cell_type": "code",
   "execution_count": 44,
   "id": "c8834606",
   "metadata": {},
   "outputs": [],
   "source": [
    "def scale_run_rationing(scalewhat = \"both\",  seq = np.linspace(0,1,100)):\n",
    "    res1x = []\n",
    "    res1f = []\n",
    "    \n",
    "    res2x = []\n",
    "    res2f = []\n",
    "    \n",
    "    res3x = []\n",
    "    res3f = []\n",
    "    i=0\n",
    "    while i <len(seq):\n",
    "        if scalewhat == \"both\":\n",
    "            scaleres = shockscale(x_0, x_max, f_0, f_max,scale_x=seq[i], scale_f=seq[i])\n",
    "            \n",
    "        if scalewhat == \"supply\":\n",
    "            scaleres = shockscale(x_0, x_max, f_0, f_max,scale_x=seq[i], scale_f=0)\n",
    "            \n",
    "        if scalewhat == \"demand\":\n",
    "            scaleres = shockscale(x_0, x_max, f_0, f_max,scale_x=0, scale_f=seq[i])\n",
    "        \n",
    "        res1 = algo_proportional(A, L, scaleres[1], scaleres[0],TT, prioritize = \"no\")\n",
    "        res2 = algo_mixed(A, L, scaleres[1], scaleres[0],TT, prioritize=\"yes\")\n",
    "        names_ordered = order(A,L,scaleres[1])\n",
    "        res3 = algo_priority(A, L, scaleres[1], scaleres[0], names_ordered, TT, prioritize=\"yes\")\n",
    "        \n",
    "        if res1[2] != 100:\n",
    "            res1x.append(res1[0])\n",
    "            res1f.append(res1[1])\n",
    "        else:\n",
    "            res1x.append('NaN')\n",
    "            res1f.append('NaN')\n",
    "        \n",
    "        if res2[2] != 100:\n",
    "            res2x.append(res2[0])\n",
    "            res2f.append(res2[1])\n",
    "        else:\n",
    "            res2x.append('NaN')\n",
    "            res2f.append('NaN')\n",
    "            \n",
    "        if res3[2] != 100:\n",
    "            res3x.append(res3[0])\n",
    "            res3f.append(res3[1])\n",
    "        else:\n",
    "            res3x.append('NaN')\n",
    "            res3f.append('NaN')\n",
    "        \n",
    "        i= i+1\n",
    "    \n",
    "    dataframe1 = {'x': res1x, 'f': res1f, 'Scale': scalewhat, 'Algorithm': 'Proportional', 'a': seq }\n",
    "    df1 = pd.DataFrame(dataframe1)\n",
    "    \n",
    "    dataframe2 = {'x': res2x, 'f': res2f, 'Scale': scalewhat, 'Algorithm': 'Mixed', 'a': seq }\n",
    "    df2 = pd.DataFrame(dataframe2)\n",
    "    \n",
    "    dataframe3 = {'x': res3x, 'f': res3f, 'Scale': scalewhat, 'Algorithm': 'Priority', 'a': seq }  \n",
    "    df3 = pd.DataFrame(dataframe3)\n",
    "    \n",
    "    return df1, df2, df3"
   ]
  },
  {
   "cell_type": "code",
   "execution_count": 45,
   "id": "cefdb0fc",
   "metadata": {},
   "outputs": [],
   "source": [
    "def scale_run_random_rationing(scalewhat = \"both\", seq = np.linspace(0,1,100)):\n",
    "    res4x = []\n",
    "    res4f = []\n",
    "    i=0\n",
    "    while i < len(seq):\n",
    "        if scalewhat == \"both\":\n",
    "            scaleres = shockscale(x_0, x_max, f_0, f_max,scale_x=seq[i], scale_f=seq[i])\n",
    "            \n",
    "        if scalewhat == \"supply\":\n",
    "            scaleres = shockscale(x_0, x_max, f_0, f_max,scale_x=seq[i], scale_f=0)\n",
    "            \n",
    "        if scalewhat == \"demand\":\n",
    "            scaleres = shockscale(x_0, x_max, f_0, f_max,scale_x=0, scale_f=seq[i])\n",
    "        \n",
    "        \n",
    "           \n",
    "        res4 = algo_random(A, L, scaleres[1], scaleres[0], 50, prioritize = \"random\")\n",
    "        \n",
    "        res4x.append(res4[0])\n",
    "        res4f.append(res4[1]) \n",
    "        \n",
    "        #print(i)\n",
    "        i = i+1\n",
    "    \n",
    "    dataframe4 = {'x': res4x, 'f': res4f, 'Scale': scalewhat, 'Algorithm': 'Random', 'a': seq}  \n",
    "    df4 = pd.DataFrame(dataframe4)\n",
    "    \n",
    "    return df4"
   ]
  },
  {
   "cell_type": "markdown",
   "id": "e67ad4df",
   "metadata": {},
   "source": [
    "# Plots"
   ]
  },
  {
   "cell_type": "markdown",
   "id": "3c2ff3ac",
   "metadata": {},
   "source": [
    "## No supply shocks"
   ]
  },
  {
   "cell_type": "code",
   "execution_count": 46,
   "id": "adc73ef8",
   "metadata": {},
   "outputs": [
    {
     "data": {
      "image/png": "[encoded data removed]",
      "text/plain": [
       "<Figure size 640x480 with 1 Axes>"
      ]
     },
     "metadata": {},
     "output_type": "display_data"
    }
   ],
   "source": [
    "#scale_run_direct_shock(scalewhat = \"demand\",  seq = np.linspace(0,1,100)) #output ok!\n",
    "import matplotlib.pyplot as plt\n",
    "plt.style.use('ggplot')\n",
    "plt.title(\"Spain\")\n",
    "plt.grid(visible=None, which='major', axis='both', linestyle='-', linewidth=1)\n",
    "plt.plot(a_direct_D, x_direct_D)\n",
    "plt.plot(a_opt_D, x_opt_D)\n",
    "plt.xlim(-0.05, 1) \n",
    "plt.ylim(-0.00,1.1)\n",
    "\n",
    "#plt.rcParams['text.usetex'] = True\n",
    "plt.xlabel(r'$\\alpha^D$')\n",
    "plt.ylabel(\"Gross Output (% of pre-shock level)\")\n",
    "plt.legend(['Direct shock', 'Optimization and Rationing'])\n",
    "plt.savefig('plot_esp_scale_demand.png')"
   ]
  },
  {
   "cell_type": "markdown",
   "id": "97dac3b0",
   "metadata": {},
   "source": [
    "## No demand shocks"
   ]
  },
  {
   "cell_type": "code",
   "execution_count": 47,
   "id": "cd26cc71",
   "metadata": {},
   "outputs": [],
   "source": [
    "result_direct = scale_run_direct_shock(scalewhat = \"supply\",  seq = np.linspace(0,1,100))\n",
    "x_direct = np.array(result_direct.iloc[:,0].astype('float'))\n",
    "a_direct = np.array(result_direct.iloc[:,4].astype('float'))\n",
    "\n",
    "\n",
    "result_opt = scale_run_optimizationX(scalewhat = \"supply\", seq = np.linspace(0,1,100))\n",
    "x_opt= np.array(result_opt.iloc[:,0].astype('float'))\n",
    "a_opt = np.array(result_opt.iloc[:,4].astype('float'))\n",
    "\n",
    "\n",
    "result_prop = scale_run_rationing(scalewhat = \"supply\",  seq = np.linspace(0,1,100))[0]\n",
    "x_prop = np.array(result_prop.iloc[:,0].astype('float'))\n",
    "a_prop = np.array(result_prop.iloc[:,4].astype('float'))\n",
    "\n",
    "result_mixed = scale_run_rationing(scalewhat = \"supply\",  seq = np.linspace(0,1,100))[1]\n",
    "x_mixed = np.array(result_mixed.iloc[:,0].astype('float'))\n",
    "a_mixed = np.array(result_mixed.iloc[:,4].astype('float'))\n",
    "\n",
    "result_priority = scale_run_rationing(scalewhat = \"supply\",  seq = np.linspace(0,1,100))[2]\n",
    "x_priority = np.array(result_priority.iloc[:,0].astype('float'))\n",
    "a_priority = np.array(result_priority.iloc[:,4].astype('float'))"
   ]
  },
  {
   "cell_type": "code",
   "execution_count": 48,
   "id": "3ef71711",
   "metadata": {},
   "outputs": [],
   "source": [
    "result_random = scale_run_random_rationing(scalewhat = \"supply\", seq = np.linspace(0,1,100))\n",
    "x_random = np.array(result_random.iloc[:,0].astype('float'))\n",
    "a_random = np.array(result_random.iloc[:,4].astype('float'))"
   ]
  },
  {
   "cell_type": "code",
   "execution_count": 49,
   "id": "3067780d",
   "metadata": {},
   "outputs": [
    {
     "data": {
      "image/png": "[encoded data removed]",
      "text/plain": [
       "<Figure size 640x480 with 1 Axes>"
      ]
     },
     "metadata": {},
     "output_type": "display_data"
    }
   ],
   "source": [
    "plt.style.use('ggplot')\n",
    "plt.title(\"Spain\")\n",
    "plt.grid(visible=None, which='major', axis='both', linestyle='-', linewidth=1)\n",
    "\n",
    "plt.plot(a_direct, x_direct, 'black')\n",
    "plt.plot(a_opt, x_opt, 'red')\n",
    "plt.plot(a_prop, x_prop, 'green')\n",
    "plt.plot(a_mixed, x_mixed, 'grey')\n",
    "plt.plot(a_priority, x_priority, 'orange')\n",
    "plt.plot(a_random, x_random, 'blue')\n",
    "\n",
    "plt.xlim(-0.05, 1) \n",
    "plt.ylim(-0.00,1.1)\n",
    "#plt.rcParams['text.usetex'] = True\n",
    "plt.xlabel(r' $\\alpha^S$')\n",
    "plt.ylabel(\"Gross Output (% of pre-shock level)\")\n",
    "plt.legend(['Direct shock', 'Maximization', 'Proportional', 'Mixed', 'Priority', 'Random'])\n",
    "plt.savefig('plot_esp_scale_juist.png')"
   ]
  }
 ],
 "metadata": {
  "kernelspec": {
   "display_name": "venv test",
   "language": "python",
   "name": "venv"
  },
  "language_info": {
   "codemirror_mode": {
    "name": "ipython",
    "version": 3
   },
   "file_extension": ".py",
   "mimetype": "text/x-python",
   "name": "python",
   "nbconvert_exporter": "python",
   "pygments_lexer": "ipython3",
   "version": "3.10.9"
  }
 },
 "nbformat": 4,
 "nbformat_minor": 5
}
