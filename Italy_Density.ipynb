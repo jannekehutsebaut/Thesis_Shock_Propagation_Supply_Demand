{
 "cells": [
  {
   "cell_type": "code",
   "execution_count": 1,
   "id": "42119f83",
   "metadata": {},
   "outputs": [],
   "source": [
    "import pandas as pd\n",
    "import numpy as np\n",
    "import matplotlib.pyplot as plt\n",
    "from scipy.optimize import linprog\n",
    "from random import randrange"
   ]
  },
  {
   "cell_type": "markdown",
   "id": "8f4675c0",
   "metadata": {},
   "source": [
    "# Data for final consumption and total output"
   ]
  },
  {
   "cell_type": "markdown",
   "id": "a7a80c05",
   "metadata": {},
   "source": [
    "## Final consumption"
   ]
  },
  {
   "cell_type": "code",
   "execution_count": 2,
   "id": "2ced8cf8",
   "metadata": {},
   "outputs": [
    {
     "data": {
      "text/html": [
       "<div>\n",
       "<style scoped>\n",
       "    .dataframe tbody tr th:only-of-type {\n",
       "        vertical-align: middle;\n",
       "    }\n",
       "\n",
       "    .dataframe tbody tr th {\n",
       "        vertical-align: top;\n",
       "    }\n",
       "\n",
       "    .dataframe thead th {\n",
       "        text-align: right;\n",
       "    }\n",
       "</style>\n",
       "<table border=\"1\" class=\"dataframe\">\n",
       "  <thead>\n",
       "    <tr style=\"text-align: right;\">\n",
       "      <th></th>\n",
       "      <th>Unnamed: 0</th>\n",
       "      <th>f</th>\n",
       "      <th>fmin</th>\n",
       "      <th>fmax</th>\n",
       "      <th>f.maxF</th>\n",
       "      <th>f.maxX</th>\n",
       "    </tr>\n",
       "  </thead>\n",
       "  <tbody>\n",
       "    <tr>\n",
       "      <th>0</th>\n",
       "      <td>A01</td>\n",
       "      <td>23713.831192</td>\n",
       "      <td>0</td>\n",
       "      <td>21345.327192</td>\n",
       "      <td>2.134533e+04</td>\n",
       "      <td>21345.327192</td>\n",
       "    </tr>\n",
       "    <tr>\n",
       "      <th>1</th>\n",
       "      <td>A02</td>\n",
       "      <td>1287.390162</td>\n",
       "      <td>0</td>\n",
       "      <td>1238.167593</td>\n",
       "      <td>7.089618e-11</td>\n",
       "      <td>0.000000</td>\n",
       "    </tr>\n",
       "    <tr>\n",
       "      <th>2</th>\n",
       "      <td>A03</td>\n",
       "      <td>1144.893223</td>\n",
       "      <td>0</td>\n",
       "      <td>1030.403900</td>\n",
       "      <td>1.030404e+03</td>\n",
       "      <td>1030.403900</td>\n",
       "    </tr>\n",
       "    <tr>\n",
       "      <th>3</th>\n",
       "      <td>B</td>\n",
       "      <td>9853.060356</td>\n",
       "      <td>0</td>\n",
       "      <td>8868.240274</td>\n",
       "      <td>6.504931e+03</td>\n",
       "      <td>6504.930858</td>\n",
       "    </tr>\n",
       "    <tr>\n",
       "      <th>4</th>\n",
       "      <td>C10-C12</td>\n",
       "      <td>94671.008208</td>\n",
       "      <td>0</td>\n",
       "      <td>85212.776296</td>\n",
       "      <td>3.342065e+04</td>\n",
       "      <td>33420.652971</td>\n",
       "    </tr>\n",
       "  </tbody>\n",
       "</table>\n",
       "</div>"
      ],
      "text/plain": [
       "  Unnamed: 0             f  fmin          fmax        f.maxF        f.maxX\n",
       "0        A01  23713.831192     0  21345.327192  2.134533e+04  21345.327192\n",
       "1        A02   1287.390162     0   1238.167593  7.089618e-11      0.000000\n",
       "2        A03   1144.893223     0   1030.403900  1.030404e+03   1030.403900\n",
       "3          B   9853.060356     0   8868.240274  6.504931e+03   6504.930858\n",
       "4    C10-C12  94671.008208     0  85212.776296  3.342065e+04  33420.652971"
      ]
     },
     "execution_count": 2,
     "metadata": {},
     "output_type": "execute_result"
    }
   ],
   "source": [
    "fdata = pd.read_csv('fdata_ita.csv', sep = ',')\n",
    "fdata.head()"
   ]
  },
  {
   "cell_type": "code",
   "execution_count": 3,
   "id": "bd6c20fd",
   "metadata": {},
   "outputs": [],
   "source": [
    "f = fdata.iloc[:,1].astype('float')\n",
    "f_max = np.array(fdata.iloc[:,3].astype('float'))"
   ]
  },
  {
   "cell_type": "markdown",
   "id": "e3607b44",
   "metadata": {},
   "source": [
    "## Total output"
   ]
  },
  {
   "cell_type": "code",
   "execution_count": 4,
   "id": "686227d9",
   "metadata": {},
   "outputs": [
    {
     "data": {
      "text/html": [
       "<div>\n",
       "<style scoped>\n",
       "    .dataframe tbody tr th:only-of-type {\n",
       "        vertical-align: middle;\n",
       "    }\n",
       "\n",
       "    .dataframe tbody tr th {\n",
       "        vertical-align: top;\n",
       "    }\n",
       "\n",
       "    .dataframe thead th {\n",
       "        text-align: right;\n",
       "    }\n",
       "</style>\n",
       "<table border=\"1\" class=\"dataframe\">\n",
       "  <thead>\n",
       "    <tr style=\"text-align: right;\">\n",
       "      <th></th>\n",
       "      <th>Unnamed: 0</th>\n",
       "      <th>x</th>\n",
       "      <th>xmin</th>\n",
       "      <th>xmax</th>\n",
       "      <th>x.maxF</th>\n",
       "      <th>x.maxX</th>\n",
       "    </tr>\n",
       "  </thead>\n",
       "  <tbody>\n",
       "    <tr>\n",
       "      <th>0</th>\n",
       "      <td>A01</td>\n",
       "      <td>71272.896677</td>\n",
       "      <td>0</td>\n",
       "      <td>71272.896677</td>\n",
       "      <td>42676.136170</td>\n",
       "      <td>42676.136170</td>\n",
       "    </tr>\n",
       "    <tr>\n",
       "      <th>1</th>\n",
       "      <td>A02</td>\n",
       "      <td>1980.006416</td>\n",
       "      <td>0</td>\n",
       "      <td>297.003455</td>\n",
       "      <td>297.003455</td>\n",
       "      <td>297.003455</td>\n",
       "    </tr>\n",
       "    <tr>\n",
       "      <th>2</th>\n",
       "      <td>A03</td>\n",
       "      <td>2170.824508</td>\n",
       "      <td>0</td>\n",
       "      <td>2170.824508</td>\n",
       "      <td>1471.152936</td>\n",
       "      <td>1471.152936</td>\n",
       "    </tr>\n",
       "    <tr>\n",
       "      <th>3</th>\n",
       "      <td>B</td>\n",
       "      <td>13515.229050</td>\n",
       "      <td>0</td>\n",
       "      <td>8850.508371</td>\n",
       "      <td>8850.508371</td>\n",
       "      <td>8850.508371</td>\n",
       "    </tr>\n",
       "    <tr>\n",
       "      <th>4</th>\n",
       "      <td>C10-C12</td>\n",
       "      <td>168846.903150</td>\n",
       "      <td>0</td>\n",
       "      <td>125008.417700</td>\n",
       "      <td>64382.508727</td>\n",
       "      <td>64382.508727</td>\n",
       "    </tr>\n",
       "  </tbody>\n",
       "</table>\n",
       "</div>"
      ],
      "text/plain": [
       "  Unnamed: 0              x  xmin           xmax        x.maxF        x.maxX\n",
       "0        A01   71272.896677     0   71272.896677  42676.136170  42676.136170\n",
       "1        A02    1980.006416     0     297.003455    297.003455    297.003455\n",
       "2        A03    2170.824508     0    2170.824508   1471.152936   1471.152936\n",
       "3          B   13515.229050     0    8850.508371   8850.508371   8850.508371\n",
       "4    C10-C12  168846.903150     0  125008.417700  64382.508727  64382.508727"
      ]
     },
     "execution_count": 4,
     "metadata": {},
     "output_type": "execute_result"
    }
   ],
   "source": [
    "xdata =  pd.read_csv('xdata_ita.csv', sep = ',')\n",
    "xdata.head()   "
   ]
  },
  {
   "cell_type": "code",
   "execution_count": 5,
   "id": "bf2e120b",
   "metadata": {},
   "outputs": [],
   "source": [
    "x = xdata.iloc[:,1].astype('float')\n",
    "x_max = np.array(xdata.iloc[:,3].astype('float'))"
   ]
  },
  {
   "cell_type": "code",
   "execution_count": 6,
   "id": "0f5d377f",
   "metadata": {},
   "outputs": [],
   "source": [
    "supply_shock = np.zeros(x_max.shape[0])\n",
    "for i in range (0,x_max.shape[0]):\n",
    "    supply_shock[i] = round(1- x_max[i]/x[i],6)\n",
    "supply_shock = np.array(supply_shock)"
   ]
  },
  {
   "cell_type": "markdown",
   "id": "466b1685",
   "metadata": {},
   "source": [
    "# IO table "
   ]
  },
  {
   "cell_type": "code",
   "execution_count": 7,
   "id": "e8f50873",
   "metadata": {},
   "outputs": [
    {
     "data": {
      "text/html": [
       "<div>\n",
       "<style scoped>\n",
       "    .dataframe tbody tr th:only-of-type {\n",
       "        vertical-align: middle;\n",
       "    }\n",
       "\n",
       "    .dataframe tbody tr th {\n",
       "        vertical-align: top;\n",
       "    }\n",
       "\n",
       "    .dataframe thead th {\n",
       "        text-align: right;\n",
       "    }\n",
       "</style>\n",
       "<table border=\"1\" class=\"dataframe\">\n",
       "  <thead>\n",
       "    <tr style=\"text-align: right;\">\n",
       "      <th></th>\n",
       "      <th>Unnamed: 0</th>\n",
       "      <th>A01</th>\n",
       "      <th>A02</th>\n",
       "      <th>A03</th>\n",
       "      <th>B</th>\n",
       "      <th>C10-C12</th>\n",
       "      <th>C13-C15</th>\n",
       "      <th>C16</th>\n",
       "      <th>C17</th>\n",
       "      <th>C18</th>\n",
       "      <th>...</th>\n",
       "      <th>M71</th>\n",
       "      <th>M72</th>\n",
       "      <th>M73</th>\n",
       "      <th>M74_M75</th>\n",
       "      <th>N</th>\n",
       "      <th>O84</th>\n",
       "      <th>P85</th>\n",
       "      <th>Q</th>\n",
       "      <th>R_S</th>\n",
       "      <th>T</th>\n",
       "    </tr>\n",
       "  </thead>\n",
       "  <tbody>\n",
       "    <tr>\n",
       "      <th>0</th>\n",
       "      <td>A01</td>\n",
       "      <td>0.097939</td>\n",
       "      <td>0.000113</td>\n",
       "      <td>0.001136</td>\n",
       "      <td>0.000567</td>\n",
       "      <td>0.181394</td>\n",
       "      <td>0.007495</td>\n",
       "      <td>0.002370</td>\n",
       "      <td>0.002256</td>\n",
       "      <td>8.609811e-04</td>\n",
       "      <td>...</td>\n",
       "      <td>0.000240</td>\n",
       "      <td>2.329589e-03</td>\n",
       "      <td>0.000298</td>\n",
       "      <td>5.629345e-04</td>\n",
       "      <td>0.005179</td>\n",
       "      <td>0.000612</td>\n",
       "      <td>0.000347</td>\n",
       "      <td>5.671440e-04</td>\n",
       "      <td>0.001305</td>\n",
       "      <td>0</td>\n",
       "    </tr>\n",
       "    <tr>\n",
       "      <th>1</th>\n",
       "      <td>A02</td>\n",
       "      <td>0.000000</td>\n",
       "      <td>0.006829</td>\n",
       "      <td>0.000425</td>\n",
       "      <td>0.000012</td>\n",
       "      <td>0.001058</td>\n",
       "      <td>0.000002</td>\n",
       "      <td>0.007682</td>\n",
       "      <td>0.002543</td>\n",
       "      <td>1.702069e-04</td>\n",
       "      <td>...</td>\n",
       "      <td>0.000034</td>\n",
       "      <td>9.502826e-07</td>\n",
       "      <td>0.000081</td>\n",
       "      <td>3.402062e-05</td>\n",
       "      <td>0.000777</td>\n",
       "      <td>0.000000</td>\n",
       "      <td>0.000000</td>\n",
       "      <td>4.429787e-08</td>\n",
       "      <td>0.000175</td>\n",
       "      <td>0</td>\n",
       "    </tr>\n",
       "    <tr>\n",
       "      <th>2</th>\n",
       "      <td>A03</td>\n",
       "      <td>0.000000</td>\n",
       "      <td>0.000031</td>\n",
       "      <td>0.011247</td>\n",
       "      <td>0.000000</td>\n",
       "      <td>0.000476</td>\n",
       "      <td>0.000003</td>\n",
       "      <td>0.000000</td>\n",
       "      <td>0.000000</td>\n",
       "      <td>7.126055e-07</td>\n",
       "      <td>...</td>\n",
       "      <td>0.000003</td>\n",
       "      <td>5.729112e-06</td>\n",
       "      <td>0.000006</td>\n",
       "      <td>7.411210e-07</td>\n",
       "      <td>0.000012</td>\n",
       "      <td>0.000054</td>\n",
       "      <td>0.000061</td>\n",
       "      <td>8.677816e-05</td>\n",
       "      <td>0.000281</td>\n",
       "      <td>0</td>\n",
       "    </tr>\n",
       "    <tr>\n",
       "      <th>3</th>\n",
       "      <td>B</td>\n",
       "      <td>0.000122</td>\n",
       "      <td>0.000017</td>\n",
       "      <td>0.000103</td>\n",
       "      <td>0.001477</td>\n",
       "      <td>0.000432</td>\n",
       "      <td>0.000359</td>\n",
       "      <td>0.000326</td>\n",
       "      <td>0.000678</td>\n",
       "      <td>5.043343e-04</td>\n",
       "      <td>...</td>\n",
       "      <td>0.001273</td>\n",
       "      <td>1.384237e-03</td>\n",
       "      <td>0.001033</td>\n",
       "      <td>8.018579e-04</td>\n",
       "      <td>0.000879</td>\n",
       "      <td>0.000136</td>\n",
       "      <td>0.000258</td>\n",
       "      <td>4.759545e-04</td>\n",
       "      <td>0.000395</td>\n",
       "      <td>0</td>\n",
       "    </tr>\n",
       "    <tr>\n",
       "      <th>4</th>\n",
       "      <td>C10-C12</td>\n",
       "      <td>0.073600</td>\n",
       "      <td>0.000149</td>\n",
       "      <td>0.043837</td>\n",
       "      <td>0.001451</td>\n",
       "      <td>0.225659</td>\n",
       "      <td>0.010460</td>\n",
       "      <td>0.000780</td>\n",
       "      <td>0.003053</td>\n",
       "      <td>8.387346e-04</td>\n",
       "      <td>...</td>\n",
       "      <td>0.001015</td>\n",
       "      <td>1.784083e-03</td>\n",
       "      <td>0.002589</td>\n",
       "      <td>1.158860e-03</td>\n",
       "      <td>0.001811</td>\n",
       "      <td>0.000382</td>\n",
       "      <td>0.000445</td>\n",
       "      <td>2.781864e-03</td>\n",
       "      <td>0.003419</td>\n",
       "      <td>0</td>\n",
       "    </tr>\n",
       "  </tbody>\n",
       "</table>\n",
       "<p>5 rows × 56 columns</p>\n",
       "</div>"
      ],
      "text/plain": [
       "  Unnamed: 0       A01       A02       A03         B   C10-C12   C13-C15  \\\n",
       "0        A01  0.097939  0.000113  0.001136  0.000567  0.181394  0.007495   \n",
       "1        A02  0.000000  0.006829  0.000425  0.000012  0.001058  0.000002   \n",
       "2        A03  0.000000  0.000031  0.011247  0.000000  0.000476  0.000003   \n",
       "3          B  0.000122  0.000017  0.000103  0.001477  0.000432  0.000359   \n",
       "4    C10-C12  0.073600  0.000149  0.043837  0.001451  0.225659  0.010460   \n",
       "\n",
       "        C16       C17           C18  ...       M71           M72       M73  \\\n",
       "0  0.002370  0.002256  8.609811e-04  ...  0.000240  2.329589e-03  0.000298   \n",
       "1  0.007682  0.002543  1.702069e-04  ...  0.000034  9.502826e-07  0.000081   \n",
       "2  0.000000  0.000000  7.126055e-07  ...  0.000003  5.729112e-06  0.000006   \n",
       "3  0.000326  0.000678  5.043343e-04  ...  0.001273  1.384237e-03  0.001033   \n",
       "4  0.000780  0.003053  8.387346e-04  ...  0.001015  1.784083e-03  0.002589   \n",
       "\n",
       "        M74_M75         N       O84       P85             Q       R_S  T  \n",
       "0  5.629345e-04  0.005179  0.000612  0.000347  5.671440e-04  0.001305  0  \n",
       "1  3.402062e-05  0.000777  0.000000  0.000000  4.429787e-08  0.000175  0  \n",
       "2  7.411210e-07  0.000012  0.000054  0.000061  8.677816e-05  0.000281  0  \n",
       "3  8.018579e-04  0.000879  0.000136  0.000258  4.759545e-04  0.000395  0  \n",
       "4  1.158860e-03  0.001811  0.000382  0.000445  2.781864e-03  0.003419  0  \n",
       "\n",
       "[5 rows x 56 columns]"
      ]
     },
     "execution_count": 7,
     "metadata": {},
     "output_type": "execute_result"
    }
   ],
   "source": [
    "df = pd.read_csv('ita_wiot.csv',sep = ',',low_memory=False)\n",
    "df.head()"
   ]
  },
  {
   "cell_type": "code",
   "execution_count": 8,
   "id": "13a3c624",
   "metadata": {},
   "outputs": [
    {
     "data": {
      "text/plain": [
       "(55, 55)"
      ]
     },
     "execution_count": 8,
     "metadata": {},
     "output_type": "execute_result"
    }
   ],
   "source": [
    "df = df.iloc[:,1:]\n",
    "df = df.astype('float')\n",
    "df.shape"
   ]
  },
  {
   "cell_type": "code",
   "execution_count": 9,
   "id": "18f64100",
   "metadata": {},
   "outputs": [
    {
     "data": {
      "text/plain": [
       "(55, 55)"
      ]
     },
     "execution_count": 9,
     "metadata": {},
     "output_type": "execute_result"
    }
   ],
   "source": [
    "A = np.array(df)\n",
    "N = A.shape[0]\n",
    "A.shape"
   ]
  },
  {
   "cell_type": "markdown",
   "id": "46468b70",
   "metadata": {},
   "source": [
    "## Matrix Z"
   ]
  },
  {
   "cell_type": "code",
   "execution_count": 10,
   "id": "9e0037d2",
   "metadata": {},
   "outputs": [
    {
     "data": {
      "text/plain": [
       "(55, 55)"
      ]
     },
     "execution_count": 10,
     "metadata": {},
     "output_type": "execute_result"
    }
   ],
   "source": [
    "df_Z = pd.read_csv('ita_Zmatrix.csv', sep=',', low_memory=False)\n",
    "df_Z =  df_Z.iloc[:,1:]# leaving out industries U and T\n",
    "df_Z = df_Z.astype('float')\n",
    "df_Z.shape"
   ]
  },
  {
   "cell_type": "code",
   "execution_count": 11,
   "id": "859f268f",
   "metadata": {},
   "outputs": [
    {
     "data": {
      "text/plain": [
       "(55, 55)"
      ]
     },
     "execution_count": 11,
     "metadata": {},
     "output_type": "execute_result"
    }
   ],
   "source": [
    "Z = np.array(df_Z)\n",
    "N = Z.shape[0]\n",
    "Z.shape"
   ]
  },
  {
   "cell_type": "code",
   "execution_count": 12,
   "id": "474d126d",
   "metadata": {},
   "outputs": [
    {
     "data": {
      "text/plain": [
       "(55,)"
      ]
     },
     "execution_count": 12,
     "metadata": {},
     "output_type": "execute_result"
    }
   ],
   "source": [
    "x_0 = np.array(x)\n",
    "x_0.shape"
   ]
  },
  {
   "cell_type": "code",
   "execution_count": 13,
   "id": "dbfd0df3",
   "metadata": {},
   "outputs": [
    {
     "data": {
      "text/plain": [
       "(55,)"
      ]
     },
     "execution_count": 13,
     "metadata": {},
     "output_type": "execute_result"
    }
   ],
   "source": [
    "f_0 = np.array(f)\n",
    "f_0.shape"
   ]
  },
  {
   "cell_type": "code",
   "execution_count": 14,
   "id": "329a5b7d",
   "metadata": {},
   "outputs": [
    {
     "data": {
      "text/plain": [
       "(55, 55)"
      ]
     },
     "execution_count": 14,
     "metadata": {},
     "output_type": "execute_result"
    }
   ],
   "source": [
    "L = np.linalg.inv(np.identity(N)-A)\n",
    "L.shape"
   ]
  },
  {
   "cell_type": "markdown",
   "id": "15b613b4",
   "metadata": {},
   "source": [
    "## Direct shock"
   ]
  },
  {
   "cell_type": "code",
   "execution_count": 15,
   "id": "8524f4b8",
   "metadata": {},
   "outputs": [
    {
     "data": {
      "text/plain": [
       "(0.7256416370029234, 0.8905066210075283)"
      ]
     },
     "execution_count": 15,
     "metadata": {},
     "output_type": "execute_result"
    }
   ],
   "source": [
    "direct_shock = (sum(x_max)/sum(x_0),sum(f_max)/sum(f_0))\n",
    "direct_shock"
   ]
  },
  {
   "cell_type": "markdown",
   "id": "0efa4ab5",
   "metadata": {},
   "source": [
    "# Optimization "
   ]
  },
  {
   "cell_type": "code",
   "execution_count": 16,
   "id": "939a7d75",
   "metadata": {},
   "outputs": [],
   "source": [
    "def max_output(N,L,A,xmax,fmax):\n",
    "    z = np.ones(N)\n",
    "    obj = -np.matmul(np.matrix.transpose(z), L)\n",
    "    lhs_ineq = np.concatenate((-L,L))\n",
    "    rhs_ineq = np.concatenate((np.zeros(N), xmax))\n",
    "    \n",
    "    bnd = []\n",
    "    for i in range (0,N):\n",
    "        bnd.append((0,fmax[i]))\n",
    "    \n",
    "    result = linprog(c = obj, A_ub= lhs_ineq, b_ub= rhs_ineq, bounds = bnd)\n",
    "    \n",
    "    optimal_output = -result.fun\n",
    "    \n",
    "    optimal_f = np.ones(N)\n",
    "    for i in range(0,N):\n",
    "        optimal_f[i] = result.x[i]\n",
    "    \n",
    "    return optimal_output, optimal_output/sum(x_0), sum(optimal_f)/sum(f_0)"
   ]
  },
  {
   "cell_type": "code",
   "execution_count": 17,
   "id": "a0a845bc",
   "metadata": {},
   "outputs": [],
   "source": [
    "def max_consumption(N,L,A,xmax,fmax):\n",
    "    z = np.ones(N)\n",
    "    obj2 = -np.matmul(np.matrix.transpose(z), np.identity(N)-A)\n",
    "    lhs_ineq2 = np.concatenate((-(np.identity(N)-A), np.identity(N)-A))\n",
    "    rhs_ineq2 = np.concatenate((np.zeros(N), fmax))\n",
    "    \n",
    "    bnd2 = []\n",
    "    for i in range (0,N):\n",
    "        bnd2.append((0,xmax[i]))\n",
    "        \n",
    "    result2 = linprog(c = obj2, A_ub= lhs_ineq2, b_ub= rhs_ineq2, bounds= bnd2)\n",
    "    optimal_f_2 = -result2.fun\n",
    "    \n",
    "    optimal_output_2 = np.ones(N)\n",
    "    for i in range(0,N):\n",
    "        optimal_output_2[i] = round(result2.x[i])\n",
    "        \n",
    "    return result2.success, sum(optimal_output_2)/sum(x_0), optimal_f_2/sum(f_0)"
   ]
  },
  {
   "cell_type": "code",
   "execution_count": 18,
   "id": "fc0bedad",
   "metadata": {},
   "outputs": [],
   "source": [
    "N= 54\n",
    "f_max = f_max[:N]\n",
    "x_max = x_max[:N]\n",
    "A = A[:N,:N]\n",
    "Z = Z[:N,:N]\n",
    "x_0 = x_0[:N]\n",
    "f_0 = f_0[:N]\n",
    "L = np.linalg.inv(np.identity(N)-A)\n",
    "supply_shock = np.array(supply_shock[:N])"
   ]
  },
  {
   "cell_type": "markdown",
   "id": "5d6fd11e",
   "metadata": {},
   "source": [
    "## Proportional Rationing "
   ]
  },
  {
   "cell_type": "code",
   "execution_count": 19,
   "id": "9bb499b8",
   "metadata": {},
   "outputs": [],
   "source": [
    "def algo_proportional(A, L, fmax, xmax, TT, prioritize=\"no\"):\n",
    "    x = [0]\n",
    "    fvec = []          # initial demand vector\n",
    "    fvec.append(fmax)\n",
    "    r = [0]            # output constraints\n",
    "    s = [0]            # input bottlenecks \n",
    "    d = [0]            # aggregated demand vector \n",
    "    d.append(np.matmul(L, fvec[0])) #d[1] = L*f[0]\n",
    "\n",
    "    list_ = [1] \n",
    "    t=1\n",
    "    epsilon = 1e-6\n",
    "    while not np.all(abs(d[t] - d[t-1]) < epsilon) and t<TT:\n",
    "        #print('\\nIteration {0}'.format(t))\n",
    "        #print('---------')\n",
    "        #print('Initial aggregated demand: {}'.format(d[t]))\n",
    "        r.append(np.ones(len(xmax)))\n",
    "        s.append(np.ones(len(xmax)))\n",
    "        fvec.append(np.ones(len(xmax)))\n",
    "        x.append(np.ones(len(xmax)))\n",
    "        d.append(np.ones(len(xmax)))\n",
    "        \n",
    "        ##########################################\n",
    "        ########### Output constraints ###########\n",
    "        ##########################################\n",
    "        for i in range (0,len(x_max)):\n",
    "            r[t][i] = xmax[i]/d[t][i]\n",
    "        #print('Output constraints:{}'.format(r[t]))\n",
    "        \n",
    "        ##########################################\n",
    "        ########### Input bottlenecks ############\n",
    "        ##########################################\n",
    "        for i in range(0,len(x_max)):\n",
    "            for j in range(0,len(x_max)):\n",
    "                if A[j][i] > 0:\n",
    "                    list_.append(r[t][j])\n",
    "            s[t][i] = min(list_)\n",
    "            list_ = [1]\n",
    "        #print('Input bottlenecks:{}'.format(s[t]))\n",
    "        \n",
    "        ##############################################\n",
    "        ########### Constrained Production ###########\n",
    "        ##############################################\n",
    "        for i in range(0,len(xmax)):\n",
    "            x[t][i] = min(xmax[i], s[t][i]*d[t][i])\n",
    "        #print('Constrained production:{}'.format(x[t]))\n",
    "        \n",
    "        ##############################################\n",
    "        ############ Constrained Delivery ############\n",
    "        ##############################################\n",
    "        for i in range(0,len(xmax)):\n",
    "            fvec[t][i] = max(x[t][i] - np.matmul(A[i],x[t]),0)\n",
    "        #print('Constrained delivery:{}'.format(fvec[t]))\n",
    "        \n",
    "        ###############################################\n",
    "        ############ New Aggregated Demand ############\n",
    "        ###############################################\n",
    "        for i in range(0,len(xmax)):\n",
    "            d[t+1][i] = np.matmul(L[i],fvec[t])\n",
    "        t=t+1\n",
    "        #print('Aggregated Demand:         {}'.format(d[t]))\n",
    "        if t == TT:\n",
    "            print(\"Algoritm did not converge\")\n",
    "            \n",
    "    return sum(x[t-1]), sum(x[t-1])/sum(x_0), sum(fvec[t-1])/sum(f_0), t\n"
   ]
  },
  {
   "cell_type": "markdown",
   "id": "ae63823e",
   "metadata": {},
   "source": [
    "## Mixed Rationing"
   ]
  },
  {
   "cell_type": "code",
   "execution_count": 20,
   "id": "b752ef33",
   "metadata": {},
   "outputs": [],
   "source": [
    "def algo_mixed(A, L, fmax, xmax, TT,prioritize=\"yes\"):\n",
    "    x = [0]\n",
    "    fvec = [] # initial demand vector\n",
    "    fvec.append(fmax)\n",
    "    r = [0]   # output constraints\n",
    "    s = [0]   # input bottlenecks \n",
    "    d = [0]   # aggregated demand vector \n",
    "    d.append(np.matmul(L, fvec[0])) #d[1] = L*f[0]\n",
    "    \n",
    "    list_ = [1] \n",
    "    t=1\n",
    "    epsilon = 1e-6\n",
    "    while not np.all(abs(d[t] - d[t-1]) < epsilon) and t<TT:\n",
    "        #print('\\nIteration {0}'.format(t))\n",
    "        #print('---------')\n",
    "        #print('Initial aggregated demand: {}'.format(d[t]))\n",
    "        r.append(np.ones(len(xmax)))\n",
    "        s.append(np.ones(len(xmax)))\n",
    "        fvec.append(np.ones(len(xmax)))\n",
    "        x.append(np.ones(len(xmax)))\n",
    "        d.append(np.ones(len(xmax)))\n",
    "        \n",
    "        ##########################################\n",
    "        ########### Output constraints ###########\n",
    "        ##########################################\n",
    "        for i in range (0,len(x_max)):\n",
    "            r[t][i] = xmax[i]/np.matmul(A[i],d[t])\n",
    "        #print('Output constraints:         {}'.format(r[t]))\n",
    "        \n",
    "        ##########################################\n",
    "        ########### Input bottlenecks ############\n",
    "        ##########################################\n",
    "        for i in range(0,len(x_max)):\n",
    "            for j in range(0,len(x_max)):\n",
    "                if A[j][i] > 0:\n",
    "                    list_.append(r[t][j])\n",
    "            s[t][i] = min(list_)\n",
    "            list_ = [1]\n",
    "        #print('Input bottlenecks:         {}'.format(s[t]))\n",
    "        \n",
    "        ##############################################\n",
    "        ########### Constrained Production ###########\n",
    "        ##############################################\n",
    "        for i in range(0,len(xmax)):\n",
    "            x[t][i] = min(xmax[i], s[t][i]*d[t][i])\n",
    "            #print(s[t][i]*d[t][i])\n",
    "        \n",
    "        ##############################################\n",
    "        ############ Constrained Delivery ############\n",
    "        ##############################################\n",
    "        \n",
    "        for i in range(0,len(xmax)):\n",
    "            #print(np.matmul(A[i],s[t]*d[t]))\n",
    "            fvec[t][i] = max(x[t][i] - np.matmul(A[i],x[t]),0) \n",
    "        #print('Constrained delivery:      {}'.format(fvec[t]))\n",
    "        \n",
    "        ###############################################\n",
    "        ############ New Aggregated Demand ############\n",
    "        ###############################################\n",
    "        for i in range(0,len(xmax)):\n",
    "            d[t+1][i] = np.matmul(L[i],fvec[t])\n",
    "        t=t+1\n",
    "    \n",
    "    if t == TT:\n",
    "        print(\"Algoritm did not converge\")\n",
    "        \n",
    "    return sum(x[t-1]), sum(x[t-1])/sum(x_0), sum(fvec[t-1])/sum(f_0), t"
   ]
  },
  {
   "cell_type": "markdown",
   "id": "dba5fb49",
   "metadata": {},
   "source": [
    "## Priority Rationing"
   ]
  },
  {
   "cell_type": "code",
   "execution_count": 21,
   "id": "fb928d3d",
   "metadata": {},
   "outputs": [],
   "source": [
    "def order(A, L, fmax):\n",
    "    d = np.matmul(L, fmax)\n",
    "    list_1 = []      # list we will sort\n",
    "    list_2 = []      # list that will not be sorted to find the original indices\n",
    "    for i in range(A.shape[0]):\n",
    "        list_1.append([])\n",
    "        list_2.append([])\n",
    "    for i in range(A.shape[0]):\n",
    "        for j in range(A.shape[0]):\n",
    "            list_1[i].append(A[i][j]*d[j])    # list_1[i][j] = list_2[i][j] = A[i][j]*d[j]\n",
    "            list_2[i].append(A[i][j]*d[j])\n",
    "        list_1[i].sort(reverse = True)        # we sort list_1: A[i][j]*d[j] >= A[i][j+1]*d[j+1]\n",
    "\n",
    "    names_ordered=[]\n",
    "    for i in range(A.shape[0]):\n",
    "        names_ordered.append([])\n",
    "    \n",
    "    for i in range(A.shape[0]):\n",
    "        for k in list_1[i]:                  # we take the indices of the j+1 (j from 0 to N-1) biggest suppliers of industry i. \n",
    "                for l in range(A.shape[0]):    \n",
    "                    if list_2[i][l] == k:\n",
    "                        names_ordered[i].append(l)   \n",
    "    return names_ordered"
   ]
  },
  {
   "cell_type": "code",
   "execution_count": 22,
   "id": "0ff5f32e",
   "metadata": {},
   "outputs": [],
   "source": [
    "def algo_priority(A, L, fmax, xmax, ordered, TT= 30, prioritize=\"yes\"):             \n",
    "    x = [0]\n",
    "    fvec = []   # initial demand vector\n",
    "    fvec.append(fmax)\n",
    "    rvec = [0]  # output constraints\n",
    "    s = [0]     # input bottlenecks \n",
    "    d = [0]     # aggregated demand vector \n",
    "    d.append(np.matmul(L, fvec[0])) #d[1] = L*f[0]\n",
    "    \n",
    "    list_ = [1] \n",
    "    t=1\n",
    "    epsilon = 1e-6\n",
    "    \n",
    "    while not np.all(abs(d[t] - d[t-1]) < epsilon) and t<TT:\n",
    "        #print('\\nIteration {0}'.format(t))\n",
    "        #print('---------')\n",
    "        #print('Initial aggregated demand: {}'.format(d[t]))\n",
    "        rvec.append([np.zeros(N)])\n",
    "        s.append(np.ones(N))\n",
    "        fvec.append(np.ones(N))\n",
    "        x.append(np.ones(N))\n",
    "        d.append(np.ones(N))\n",
    "        demand = np.identity(N)\n",
    "        \n",
    "        som = 0\n",
    "        for i in range(0,N):\n",
    "            for j in range(0,N):\n",
    "                for k in ordered[i][:j+1]:\n",
    "                    som = som + A[i][k]*d[t][k] \n",
    "                demand[i][j] = som   #demand[i][j] = demand of j'th biggest customers of firm i summed up\n",
    "                som = 0\n",
    "        remainder = np.identity(N)\n",
    "    \n",
    "        for i in range(0,N):\n",
    "            for j in range(0,N):\n",
    "                remainder[i][j] = xmax[i] - demand[i][j]\n",
    "                \n",
    "        ####################################################\n",
    "        ####################### rvec #######################\n",
    "        ####################################################\n",
    "        for i in range(0,N):\n",
    "            rvec[t].append([])\n",
    "        for i in range(0,N):\n",
    "            if all(remainder[i][j]>0 for j in range(0,N)):\n",
    "                rvec[t][i] = np.ones(N) \n",
    "            elif all(remainder[i][j]<=0 for j in range(0,N)): \n",
    "                rvec[t][i] = np.zeros(N)\n",
    "                for k in ordered[i][:1]: \n",
    "                    rvec[t][i][k] = xmax[i]/demand[i][0]\n",
    "        \n",
    "            else: \n",
    "                idx = np.where(remainder[i]<=0) # index for partially met demand\n",
    "                idx_fully = np.where(remainder[i]>0) \n",
    "                length = len(idx_fully[0])\n",
    "                rvec[t][i] = np.zeros(N)\n",
    "                for l in range(0,length-1):\n",
    "                    index = ordered[i][l]\n",
    "                    rvec[t][i][index] = 1\n",
    "                m = ordered[i][length-1]\n",
    "                rvec[t][i][m] = remainder[i][length-1]/(demand[i][length]-demand[i][length-1])\n",
    "          \n",
    "        #####################################################\n",
    "        ################# Input bottlenecks #################\n",
    "        #####################################################\n",
    "        for i in range(0,N):\n",
    "            for j in range(0,N):\n",
    "                if A[j][i]>0:\n",
    "                    list_.append(rvec[t][j][i])\n",
    "            s[t][i] = min(list_)\n",
    "            list_ = [1]   \n",
    "        #print('Input bottlenecks:         {}'.format(s[t]))\n",
    "        \n",
    "        ######################################################\n",
    "        ############### Constrained Production ###############\n",
    "        ######################################################\n",
    "        for i in range(0,N):\n",
    "            x[t][i] = min(xmax[i], s[t][i]*d[t][i])\n",
    "        \n",
    "        ######################################################\n",
    "        ################ Constrained Delivery ################\n",
    "        ######################################################\n",
    "        for i in range(0,len(xmax)):\n",
    "            fvec[t][i] = max(x[t][i] - np.matmul(A[i],x[t]),0)\n",
    "        \n",
    "        ######################################################\n",
    "        ################ Aggregated demand ###################\n",
    "        ######################################################\n",
    "        for i in range(0,len(xmax)):\n",
    "            d[t+1][i] = np.matmul(L[i],fvec[t])\n",
    "            \n",
    "        t=t+1\n",
    "        if t==TT:\n",
    "            print(\"Algorithm did not converge\")\n",
    "            #return(None, None)\n",
    "        #print(d[t])\n",
    "    return sum(x[t-1]), sum(x[t-1])/sum(x_0), sum(fvec[t-1])/sum(f_0), t"
   ]
  },
  {
   "cell_type": "markdown",
   "id": "d92f7a11",
   "metadata": {},
   "source": [
    "## Random Rationing"
   ]
  },
  {
   "cell_type": "code",
   "execution_count": 23,
   "id": "90396ce2",
   "metadata": {},
   "outputs": [],
   "source": [
    "def algo_random(A, L, fmax, xmax, runs, prioritize = \"random\"):\n",
    "    som_x = []\n",
    "    x = []\n",
    "    y = []\n",
    "    TT = 30\n",
    "    while len(x)<runs:\n",
    "        random_ordered=[]\n",
    "        for i in range(N):\n",
    "            random_ordered.append([])\n",
    "    \n",
    "        for i in range(N):\n",
    "            while len(random_ordered[i])<N:\n",
    "                random = randrange(N)\n",
    "                while random in random_ordered[i]:\n",
    "                    random = randrange(N)# we willen nu de indices van de j+1 (j van 0 tot en met N-1) grootste suppliers  \n",
    "                random_ordered[i].append(random)\n",
    "                \n",
    "        result = algo_priority(A, L, fmax, xmax, random_ordered, TT = 25, prioritize=\"yes\")\n",
    "        if result[3] != TT:\n",
    "            som_x.append(result[0])\n",
    "            #som_x = sum(som_x)/len(sum_x)\n",
    "            x.append(result[1])\n",
    "            y.append(result[2])\n",
    "    return sum(som_x)/len(som_x), sum(x)/len(x), sum(y)/len(y)"
   ]
  },
  {
   "cell_type": "markdown",
   "id": "258e3c54",
   "metadata": {},
   "source": [
    "# Effect Network Density"
   ]
  },
  {
   "cell_type": "markdown",
   "id": "61c3f471",
   "metadata": {},
   "source": [
    "## Eliminate Random Links"
   ]
  },
  {
   "cell_type": "code",
   "execution_count": 24,
   "id": "fa82dadc",
   "metadata": {},
   "outputs": [],
   "source": [
    "from random import randrange\n",
    "def eliminate_rand(A, x, f, desired_density):\n",
    "    Anew = A\n",
    "    Znew = Z\n",
    "    zeros = np.sum(Anew==0)\n",
    "    indices_x = []\n",
    "    indices_y = []\n",
    "    if desired_density != 1:\n",
    "        sparselink = round((N**2)*(1-desired_density) - np.sum(Anew==0)) # number of links we need to remove to get desired density\n",
    "        #print(\"Sparselink: {0}\".format(sparselink))\n",
    "        while(np.sum(Znew==0)) < sparselink + zeros: \n",
    "            random_x = randrange(N)\n",
    "            random_y = randrange(N)\n",
    "            while Znew[random_x,random_y] == 0:\n",
    "                random_x = randrange(N)\n",
    "                random_y = randrange(N)\n",
    "           \n",
    "            Znew[random_x, random_y] = 0\n",
    "            \n",
    "            \n",
    "    xnew = np.sum(Znew, axis=1) + f\n",
    "    for i in range(0,N):\n",
    "        for j in range(0,N):\n",
    "            Anew[i][j] = Znew[i][j]/x[j]\n",
    "    Lnew = np.linalg.inv(np.identity(N)-Anew)\n",
    "    \n",
    "    return xnew, Anew, Lnew, Znew"
   ]
  },
  {
   "cell_type": "markdown",
   "id": "78bc2683",
   "metadata": {},
   "source": [
    "### Direct shock"
   ]
  },
  {
   "cell_type": "markdown",
   "id": "0031121e",
   "metadata": {},
   "source": [
    "**For 50 different densities, we adapt our matrix. We compute xnew, Anew, xmaxnew. Then we apply the shocks to the new data: instead of sum(xmax)/sum(x) it is now equal to sum(xmaxnew)/sum(xnew).**"
   ]
  },
  {
   "cell_type": "code",
   "execution_count": 25,
   "id": "215551df",
   "metadata": {},
   "outputs": [],
   "source": [
    "densseq = np.linspace(0,1,50)"
   ]
  },
  {
   "cell_type": "code",
   "execution_count": 26,
   "id": "68ec751a",
   "metadata": {},
   "outputs": [],
   "source": [
    "resdir_x = np.identity(50)\n",
    "densseq = np.linspace(0,1,50)\n",
    "runs_dens = 50\n",
    "for i in range(len(densseq)):\n",
    "    for j in range(runs_dens):\n",
    "        A = np.array(df)[:N,:N] \n",
    "        Z = np.array(df_Z)[:N,:N] \n",
    "        newdat = eliminate_rand(A, x_0, f_0, densseq[i])\n",
    "        #print(densseq[i])\n",
    "        xmaxnew = np.ones(N)\n",
    "        for k in range(0,N):\n",
    "            xmaxnew[k] = newdat[0][k]*(1- supply_shock[k])\n",
    "        resdir_x[i][j] = (sum(xmaxnew)/sum(newdat[0]))\n",
    "resdir_x = np.mean(resdir_x, axis = 1)"
   ]
  },
  {
   "cell_type": "markdown",
   "id": "e9427630",
   "metadata": {},
   "source": [
    "## Proportional rationing"
   ]
  },
  {
   "cell_type": "code",
   "execution_count": 27,
   "id": "a1634caa",
   "metadata": {},
   "outputs": [],
   "source": [
    "resprop_x = np.identity(50)\n",
    "densseq = np.linspace(0,1,50)\n",
    "runs_dens = 50\n",
    "TT = 30\n",
    "for i in range(len(densseq)):\n",
    "    for j in range(runs_dens):\n",
    "        A = np.array(df)[:N,:N] \n",
    "        Z = np.array(df_Z)[:N,:N] \n",
    "        newdat = eliminate_rand(A, x_0, f_0, densseq[i])\n",
    "        #print(densseq[i])\n",
    "        xmaxnew = np.ones(N)\n",
    "        for k in range(0,N):\n",
    "            xmaxnew[k] = newdat[0][k]*(1- supply_shock[k])\n",
    "        \n",
    "        result = algo_proportional(newdat[1], newdat[2], f_max, xmaxnew, TT, prioritize = \"no\")\n",
    "        if result[3]!= 30:\n",
    "            resprop_x[i][j] = (result[0]/sum(newdat[0]))\n",
    "        else:\n",
    "            resprop_x[i][j] = np.nan\n",
    "resprop_x = np.mean(resprop_x, axis = 1)"
   ]
  },
  {
   "cell_type": "markdown",
   "id": "9ea7211b",
   "metadata": {},
   "source": [
    "## Priority"
   ]
  },
  {
   "cell_type": "code",
   "execution_count": 28,
   "id": "08974279",
   "metadata": {},
   "outputs": [
    {
     "name": "stdout",
     "output_type": "stream",
     "text": [
      "Iteration 0\n",
      "Iteration 1\n",
      "Iteration 2\n",
      "Iteration 3\n",
      "Iteration 4\n",
      "Iteration 5\n",
      "Iteration 6\n",
      "Iteration 7\n",
      "Iteration 8\n",
      "Iteration 9\n",
      "Iteration 10\n",
      "Iteration 11\n",
      "Iteration 12\n",
      "Iteration 13\n",
      "Iteration 14\n",
      "Iteration 15\n",
      "Iteration 16\n",
      "Iteration 17\n",
      "Iteration 18\n",
      "Iteration 19\n",
      "Iteration 20\n",
      "Iteration 21\n",
      "Iteration 22\n",
      "Iteration 23\n",
      "Iteration 24\n",
      "Iteration 25\n",
      "Iteration 26\n",
      "Iteration 27\n",
      "Iteration 28\n",
      "Iteration 29\n",
      "Iteration 30\n",
      "Iteration 31\n",
      "Iteration 32\n",
      "Iteration 33\n",
      "Iteration 34\n",
      "Iteration 35\n",
      "Iteration 36\n",
      "Iteration 37\n",
      "Iteration 38\n",
      "Iteration 39\n",
      "Iteration 40\n",
      "Iteration 41\n",
      "Iteration 42\n",
      "Iteration 43\n",
      "Iteration 44\n",
      "Iteration 45\n",
      "Iteration 46\n",
      "Iteration 47\n",
      "Iteration 48\n",
      "Iteration 49\n"
     ]
    }
   ],
   "source": [
    "resprior_x = np.identity(50)\n",
    "densseq = np.linspace(0,1,50)\n",
    "runs_dens = 50\n",
    "for i in range(len(densseq)):\n",
    "    print(\"Iteration {0}\".format(i))\n",
    "    for j in range(runs_dens):\n",
    "        A = np.array(df)[:N,:N] \n",
    "        Z = np.array(df_Z)[:N,:N] \n",
    "        newdat = eliminate_rand(A, x_0, f_0, densseq[i])\n",
    "        #print(densseq[i])\n",
    "        xmaxnew = np.ones(N)\n",
    "        for k in range(0,N):\n",
    "            xmaxnew[k] = newdat[0][k]*(1- supply_shock[k])\n",
    "        names_ordered = order(newdat[1],newdat[2],f_max)\n",
    "        \n",
    "        result = algo_priority(newdat[1], newdat[2], f_max, xmaxnew, names_ordered,TT=30, prioritize=\"yes\")\n",
    "        if result[3] != 30:\n",
    "            resprior_x[i][j] = (result[0]/sum(newdat[0]))\n",
    "        else:\n",
    "            resprior_x[i][j] = np.nan\n",
    "        \n",
    "resprior_x = np.nanmean(resprior_x, axis = 1)"
   ]
  },
  {
   "cell_type": "markdown",
   "id": "e1aa509d",
   "metadata": {},
   "source": [
    "## Mixed"
   ]
  },
  {
   "cell_type": "code",
   "execution_count": 29,
   "id": "8fc98fab",
   "metadata": {},
   "outputs": [
    {
     "name": "stdout",
     "output_type": "stream",
     "text": [
      "Iteration 0\n"
     ]
    },
    {
     "name": "stderr",
     "output_type": "stream",
     "text": [
      "C:\\Users\\user\\AppData\\Local\\Temp\\ipykernel_13256\\1392411896.py:27: RuntimeWarning: divide by zero encountered in double_scalars\n",
      "  r[t][i] = xmax[i]/np.matmul(A[i],d[t])\n"
     ]
    },
    {
     "name": "stdout",
     "output_type": "stream",
     "text": [
      "Iteration 1\n",
      "Iteration 2\n",
      "Iteration 3\n",
      "Iteration 4\n",
      "Iteration 5\n",
      "Iteration 6\n",
      "Iteration 7\n",
      "Iteration 8\n",
      "Iteration 9\n",
      "Iteration 10\n",
      "Iteration 11\n",
      "Iteration 12\n",
      "Iteration 13\n",
      "Iteration 14\n",
      "Iteration 15\n",
      "Iteration 16\n",
      "Iteration 17\n",
      "Iteration 18\n",
      "Iteration 19\n",
      "Iteration 20\n",
      "Iteration 21\n",
      "Iteration 22\n",
      "Iteration 23\n",
      "Iteration 24\n",
      "Iteration 25\n",
      "Iteration 26\n",
      "Iteration 27\n",
      "Iteration 28\n",
      "Iteration 29\n",
      "Iteration 30\n",
      "Iteration 31\n",
      "Iteration 32\n",
      "Iteration 33\n",
      "Iteration 34\n",
      "Iteration 35\n",
      "Iteration 36\n",
      "Iteration 37\n",
      "Iteration 38\n",
      "Iteration 39\n",
      "Iteration 40\n",
      "Iteration 41\n",
      "Iteration 42\n",
      "Iteration 43\n",
      "Iteration 44\n",
      "Iteration 45\n",
      "Iteration 46\n",
      "Iteration 47\n",
      "Iteration 48\n",
      "Iteration 49\n"
     ]
    }
   ],
   "source": [
    "resmixed_x = np.identity(50)\n",
    "densseq = np.linspace(0,1,50)\n",
    "runs_dens = 50\n",
    "N = 54\n",
    "TT = 30\n",
    "for i in range(len(densseq)):\n",
    "    print(\"Iteration {0}\" .format(i))\n",
    "    for j in range(runs_dens):\n",
    "        A = np.array(df)[:N,:N] \n",
    "        Z = np.array(df_Z)[:N,:N] \n",
    "        newdat = eliminate_rand(A, x_0, f_0, densseq[i])\n",
    "        #print(densseq[i])\n",
    "        xmaxnew = np.ones(N)\n",
    "        for k in range(0,N):\n",
    "            xmaxnew[k] = newdat[0][k]*(1- supply_shock[k])\n",
    "        \n",
    "        result = algo_mixed(newdat[1], newdat[2], f_max, xmaxnew, TT,prioritize=\"yes\")\n",
    "        if result[3] != 30:\n",
    "            resmixed_x[i][j] = (result[0]/sum(newdat[0]))\n",
    "        else: \n",
    "            resmixed_x[i][j] = np.nan\n",
    "resmixed_x = np.nanmean(resmixed_x, axis = 1)"
   ]
  },
  {
   "cell_type": "markdown",
   "id": "e2ea811e",
   "metadata": {},
   "source": [
    "## Random Rationing "
   ]
  },
  {
   "cell_type": "code",
   "execution_count": 31,
   "id": "4286faa4",
   "metadata": {},
   "outputs": [
    {
     "name": "stdout",
     "output_type": "stream",
     "text": [
      "Iteration 0\n",
      "Iteration 1\n",
      "Iteration 2\n",
      "Iteration 3\n",
      "Iteration 4\n",
      "Iteration 5\n",
      "Iteration 6\n",
      "Iteration 7\n",
      "Iteration 8\n",
      "Iteration 9\n",
      "Iteration 10\n",
      "Iteration 11\n",
      "Iteration 12\n",
      "Iteration 13\n",
      "Iteration 14\n",
      "Iteration 15\n",
      "Iteration 16\n",
      "Iteration 17\n",
      "Iteration 18\n",
      "Iteration 19\n",
      "Iteration 20\n",
      "Iteration 21\n",
      "Iteration 22\n",
      "Iteration 23\n",
      "Iteration 24\n",
      "Iteration 25\n",
      "Iteration 26\n",
      "Iteration 27\n",
      "Iteration 28\n",
      "Iteration 29\n",
      "Iteration 30\n",
      "Iteration 31\n",
      "Iteration 32\n",
      "Iteration 33\n",
      "Iteration 34\n",
      "Iteration 35\n",
      "Iteration 36\n",
      "Iteration 37\n",
      "Iteration 38\n",
      "Iteration 39\n",
      "Iteration 40\n",
      "Iteration 41\n",
      "Iteration 42\n",
      "Iteration 43\n",
      "Iteration 44\n",
      "Iteration 45\n",
      "Iteration 46\n",
      "Iteration 47\n",
      "Iteration 48\n",
      "Iteration 49\n"
     ]
    }
   ],
   "source": [
    "resrandom_x = np.ones((50,50))\n",
    "densseq = np.linspace(0,1,50)\n",
    "runs_random = 30\n",
    "runs_dens = 50\n",
    "N = 54\n",
    "for i in range(len(densseq)):\n",
    "    print(\"Iteration {0}\" .format(i))\n",
    "    for j in range(runs_dens):\n",
    "        A = np.array(df)[:N,:N] \n",
    "        Z = np.array(df_Z)[:N,:N] \n",
    "        newdat = eliminate_rand(A, x_0, f_0, densseq[i])\n",
    "        #print(densseq[i])\n",
    "        xmaxnew = np.ones(N)\n",
    "        for k in range(0,N):\n",
    "            xmaxnew[k] = newdat[0][k]*(1- supply_shock[k])\n",
    "        \n",
    "        result = algo_random(newdat[1], newdat[2], f_max, xmaxnew, runs_random, prioritize = \"random\")\n",
    "        resrandom_x[i][j] = result[0]/sum(newdat[0])\n",
    "resrandom_x = np.mean(resrandom_x, axis = 1)"
   ]
  },
  {
   "cell_type": "markdown",
   "id": "94a453cd",
   "metadata": {},
   "source": [
    "## Optimization"
   ]
  },
  {
   "cell_type": "code",
   "execution_count": 32,
   "id": "1d455105",
   "metadata": {},
   "outputs": [
    {
     "name": "stdout",
     "output_type": "stream",
     "text": [
      "Iteration 0\n",
      "Iteration 1\n",
      "Iteration 2\n",
      "Iteration 3\n",
      "Iteration 4\n",
      "Iteration 5\n",
      "Iteration 6\n",
      "Iteration 7\n",
      "Iteration 8\n",
      "Iteration 9\n",
      "Iteration 10\n",
      "Iteration 11\n",
      "Iteration 12\n",
      "Iteration 13\n",
      "Iteration 14\n",
      "Iteration 15\n",
      "Iteration 16\n",
      "Iteration 17\n",
      "Iteration 18\n",
      "Iteration 19\n",
      "Iteration 20\n",
      "Iteration 21\n",
      "Iteration 22\n",
      "Iteration 23\n",
      "Iteration 24\n",
      "Iteration 25\n",
      "Iteration 26\n",
      "Iteration 27\n",
      "Iteration 28\n",
      "Iteration 29\n",
      "Iteration 30\n",
      "Iteration 31\n",
      "Iteration 32\n",
      "Iteration 33\n",
      "Iteration 34\n",
      "Iteration 35\n",
      "Iteration 36\n",
      "Iteration 37\n",
      "Iteration 38\n",
      "Iteration 39\n",
      "Iteration 40\n",
      "Iteration 41\n",
      "Iteration 42\n",
      "Iteration 43\n",
      "Iteration 44\n",
      "Iteration 45\n",
      "Iteration 46\n",
      "Iteration 47\n",
      "Iteration 48\n",
      "Iteration 49\n"
     ]
    }
   ],
   "source": [
    "resmax_x = np.identity(50)\n",
    "densseq = np.linspace(0,1,50)\n",
    "runs_dens = 50\n",
    "for i in range(len(densseq)):\n",
    "    print(\"Iteration {0}\" .format(i))\n",
    "    for j in range(runs_dens):\n",
    "        A = np.array(df)[:N,:N] \n",
    "        Z = np.array(df_Z)[:N,:N] \n",
    "        newdat = eliminate_rand(A, x_0, f_0, densseq[i])\n",
    "        #print(densseq[i])\n",
    "        xmaxnew = np.ones(N)\n",
    "        for k in range(0,N):\n",
    "            xmaxnew[k] = newdat[0][k]*(1- supply_shock[k])\n",
    "        \n",
    "        result = max_output(N,newdat[2],newdat[1],xmaxnew,f_max)\n",
    "        resmax_x[i][j] = (result[0]/sum(newdat[0]))\n",
    "resmax_x = np.mean(resmax_x, axis = 1)"
   ]
  },
  {
   "cell_type": "markdown",
   "id": "8b2efbc4",
   "metadata": {},
   "source": [
    "# Results"
   ]
  },
  {
   "cell_type": "code",
   "execution_count": 33,
   "id": "1935d6a5",
   "metadata": {},
   "outputs": [
    {
     "data": {
      "image/png": "[encoded data removed]",
      "text/plain": [
       "<Figure size 640x480 with 1 Axes>"
      ]
     },
     "metadata": {},
     "output_type": "display_data"
    }
   ],
   "source": [
    "plt.style.use('ggplot')\n",
    "plt.title(\"Italy\")\n",
    "plt.grid(visible=None, which='major', axis='both', linestyle='-', linewidth=1)\n",
    "\n",
    "plt.plot(densseq, resdir_x, 'black')\n",
    "plt.plot(densseq, resmax_x, 'red')\n",
    "plt.plot(densseq, resprop_x, 'green')\n",
    "plt.plot(densseq, resmixed_x, 'grey')\n",
    "plt.plot(densseq, resprior_x, 'orange')\n",
    "plt.plot(densseq, resrandom_x, 'blue')\n",
    "\n",
    "\n",
    "#plt.xlim(-0.05, 1) \n",
    "plt.ylim(-0.00,0.74)\n",
    "plt.rcParams['text.usetex'] = True\n",
    "plt.xlabel('Density')\n",
    "plt.ylabel(\"Gross Output (% of pre-shock level)\")\n",
    "plt.legend(['Direct shock', 'Maximization', 'Proportional', 'Mixed', 'Priority', 'Random'])\n",
    "plt.savefig('plot_italy_density.png')"
   ]
  }
 ],
 "metadata": {
  "kernelspec": {
   "display_name": "venv test",
   "language": "python",
   "name": "venv"
  },
  "language_info": {
   "codemirror_mode": {
    "name": "ipython",
    "version": 3
   },
   "file_extension": ".py",
   "mimetype": "text/x-python",
   "name": "python",
   "nbconvert_exporter": "python",
   "pygments_lexer": "ipython3",
   "version": "3.10.10"
  }
 },
 "nbformat": 4,
 "nbformat_minor": 5
}
