{
 "cells": [
  {
   "cell_type": "code",
   "execution_count": 1,
   "id": "d69dad87",
   "metadata": {},
   "outputs": [],
   "source": [
    "import pandas as pd\n",
    "import numpy as np\n",
    "import matplotlib.pyplot as plt\n",
    "from scipy.optimize import linprog\n",
    "from random import randrange"
   ]
  },
  {
   "cell_type": "markdown",
   "id": "d575f677",
   "metadata": {},
   "source": [
    "# Data for final consumption and total output"
   ]
  },
  {
   "cell_type": "markdown",
   "id": "d12500d2",
   "metadata": {},
   "source": [
    "We apply our models to the input-output data of Germany. The data\n",
    "we use for initial output and final consumption per industry, as well as the supply and\n",
    "demand shock data is taken from:\n",
    "\n",
    "Pichler, A. and Farmer, J. D. (2021b). Simultaneous supply and demand constraints in\n",
    "input–output networks: the case of covid-19 in Germany, Italy and Spain (Version V1).\n",
    "Zenodo. https://doi.org/10.5281/zenodo.4326815"
   ]
  },
  {
   "cell_type": "markdown",
   "id": "9118cff0",
   "metadata": {},
   "source": [
    "## Final consumption"
   ]
  },
  {
   "cell_type": "code",
   "execution_count": 2,
   "id": "a0c01f4c",
   "metadata": {},
   "outputs": [],
   "source": [
    "fdata = pd.read_csv('fdata_ita.csv', sep = ',')\n",
    "fdata.head()\n",
    "f_0 = fdata.iloc[:,1].astype('float')\n",
    "f_max = np.array(fdata.iloc[:,3].astype('float'))"
   ]
  },
  {
   "cell_type": "code",
   "execution_count": 3,
   "id": "30eb1be1",
   "metadata": {},
   "outputs": [
    {
     "name": "stdout",
     "output_type": "stream",
     "text": [
      "[ 0.1    0.038  0.1    0.1    0.1    0.1    0.099  0.1    0.1    0.1\n",
      "  0.1    0.098  0.1    0.1    0.1    0.1    0.1    0.1    0.1    0.1\n",
      "  0.1    0.1    0.1    0.012  0.006  0.017  0.099  0.1    0.099  0.098\n",
      "  0.552  0.473  0.473  0.335  0.034  0.791  0.04   0.035  0.03   0.085\n",
      "  0.016  0.011  0.049  0.005  0.052  0.084  0.098  0.092  0.05   0.049\n",
      "  0.     0.     0.001  0.047 -0.   ]\n"
     ]
    }
   ],
   "source": [
    "demand_shock = np.zeros(f_max.shape[0])\n",
    "for i in range (0,f_max.shape[0]):\n",
    "    demand_shock[i] = round(1- f_max[i]/f_0[i],3)\n",
    "print(demand_shock) \n",
    "demand_shock = np.array(demand_shock)"
   ]
  },
  {
   "cell_type": "markdown",
   "id": "2012b38d",
   "metadata": {},
   "source": [
    "## Total output"
   ]
  },
  {
   "cell_type": "code",
   "execution_count": 4,
   "id": "32e86384",
   "metadata": {},
   "outputs": [],
   "source": [
    "xdata =  pd.read_csv('xdata_ita.csv', sep = ',')\n",
    "xdata.tail()   \n",
    "x_0 = xdata.iloc[:,1].astype('float')\n",
    "x_max = np.array(xdata.iloc[:,3].astype('float'))"
   ]
  },
  {
   "cell_type": "code",
   "execution_count": 5,
   "id": "1d473c50",
   "metadata": {},
   "outputs": [],
   "source": [
    "supply_shock = np.zeros(x_max.shape[0])\n",
    "for i in range (0,x_max.shape[0]):\n",
    "    supply_shock[i] = round(1- x_max[i]/x_0[i],6)\n",
    "supply_shock = np.array(supply_shock)"
   ]
  },
  {
   "cell_type": "markdown",
   "id": "97cb7425",
   "metadata": {},
   "source": [
    "# IO table "
   ]
  },
  {
   "cell_type": "code",
   "execution_count": 6,
   "id": "d00267df",
   "metadata": {},
   "outputs": [],
   "source": [
    "df = pd.read_csv('ita_wiot.csv',sep = ',',low_memory=False)\n",
    "df.head()\n",
    "df = df.iloc[0:55,1:56]\n",
    "df = df.astype('float')"
   ]
  },
  {
   "cell_type": "markdown",
   "id": "e32d8d62",
   "metadata": {},
   "source": [
    "**Creating matrix A**"
   ]
  },
  {
   "cell_type": "code",
   "execution_count": 7,
   "id": "3b209a29",
   "metadata": {},
   "outputs": [
    {
     "data": {
      "text/plain": [
       "(55, 55)"
      ]
     },
     "execution_count": 7,
     "metadata": {},
     "output_type": "execute_result"
    }
   ],
   "source": [
    "A = np.array(df)\n",
    "N = A.shape[0]\n",
    "A.shape"
   ]
  },
  {
   "cell_type": "code",
   "execution_count": 8,
   "id": "8ba3cc01",
   "metadata": {},
   "outputs": [],
   "source": [
    "x_0 = np.array(x_0)\n",
    "f_0 = np.array(f_0)"
   ]
  },
  {
   "cell_type": "code",
   "execution_count": 9,
   "id": "fa335ff9",
   "metadata": {},
   "outputs": [],
   "source": [
    "L = np.linalg.inv(np.identity(N)-A)"
   ]
  },
  {
   "cell_type": "markdown",
   "id": "bed7504e",
   "metadata": {},
   "source": [
    "# Optimalization"
   ]
  },
  {
   "cell_type": "markdown",
   "id": "02d604cd",
   "metadata": {},
   "source": [
    "### Maximizing total output"
   ]
  },
  {
   "cell_type": "code",
   "execution_count": 10,
   "id": "6a44bf74",
   "metadata": {},
   "outputs": [],
   "source": [
    "def max_output(N,L,A,xmax,fmax):\n",
    "    z = np.ones(N)\n",
    "    obj = -np.matmul(np.matrix.transpose(z), L)\n",
    "    lhs_ineq = np.concatenate((-L,L))\n",
    "    rhs_ineq = np.concatenate((np.zeros(N), xmax))\n",
    "    \n",
    "    bnd = []\n",
    "    for i in range (0,N):\n",
    "        bnd.append((0,fmax[i]))\n",
    "    \n",
    "    result = linprog(c = obj, A_ub= lhs_ineq, b_ub= rhs_ineq, bounds = bnd)\n",
    "    \n",
    "    optimal_output = -result.fun\n",
    "    \n",
    "    optimal_f = np.ones(N)\n",
    "    for i in range(0,N):\n",
    "        optimal_f[i] = result.x[i]\n",
    "    \n",
    "    return result.success, optimal_output/sum(x_0), sum(optimal_f)/sum(f_0)"
   ]
  },
  {
   "cell_type": "markdown",
   "id": "4264b266",
   "metadata": {},
   "source": [
    "### Maximizing final consumption"
   ]
  },
  {
   "cell_type": "code",
   "execution_count": 11,
   "id": "ad66d86f",
   "metadata": {},
   "outputs": [],
   "source": [
    "def max_consumption(N,L,A,xmax,fmax):\n",
    "    z = np.ones(N)\n",
    "    obj2 = -np.matmul(np.matrix.transpose(z), np.identity(N)-A)\n",
    "    lhs_ineq2 = np.concatenate((-(np.identity(N)-A), np.identity(N)-A))\n",
    "    rhs_ineq2 = np.concatenate((np.zeros(N), fmax))\n",
    "    \n",
    "    bnd2 = []\n",
    "    for i in range (0,N):\n",
    "        bnd2.append((0,xmax[i]))\n",
    "        \n",
    "    result2 = linprog(c = obj2, A_ub= lhs_ineq2, b_ub= rhs_ineq2, bounds= bnd2)\n",
    "    optimal_f_2 = -result2.fun\n",
    "    \n",
    "    optimal_output_2 = np.ones(N)\n",
    "    for i in range(0,N):\n",
    "        optimal_output_2[i] = round(result2.x[i])\n",
    "        \n",
    "    return result2.success, sum(optimal_output_2)/sum(x_0), optimal_f_2/sum(f_0)"
   ]
  },
  {
   "cell_type": "markdown",
   "id": "4bac4370",
   "metadata": {},
   "source": [
    "# Rationing"
   ]
  },
  {
   "cell_type": "markdown",
   "id": "4422f9a5",
   "metadata": {},
   "source": [
    "We leave out industry T:"
   ]
  },
  {
   "cell_type": "code",
   "execution_count": 12,
   "id": "7293dc18",
   "metadata": {},
   "outputs": [],
   "source": [
    "f_max = f_max[:54]\n",
    "x_max = x_max[:54]\n",
    "A = A[:54,:54]\n",
    "N = 54\n",
    "x_0 = x_0[:54]\n",
    "f_0 = f_0[:54]\n",
    "L = np.linalg.inv(np.identity(N)-A)"
   ]
  },
  {
   "cell_type": "markdown",
   "id": "3e84b6c6",
   "metadata": {},
   "source": [
    "## Proportional Rationing"
   ]
  },
  {
   "cell_type": "code",
   "execution_count": 13,
   "id": "7bfeaa17",
   "metadata": {},
   "outputs": [],
   "source": [
    "def algo_proportional(A, L, fmax, xmax, TT, prioritize=\"no\"):\n",
    "    x = [0]\n",
    "    fvec = []          # initial demand vector\n",
    "    fvec.append(fmax)\n",
    "    r = [0]            # output constraints\n",
    "    s = [0]            # input bottlenecks \n",
    "     \n",
    "    d = [0]            # aggregated demand vector \n",
    "    d.append(np.matmul(L, fvec[0])) #d[1] = L*f[0]\n",
    "\n",
    "    list_ = [1] \n",
    "    t=1\n",
    "    epsilon = 1e-6\n",
    "    while not np.all(abs(d[t] - d[t-1]) < epsilon) and t<TT:\n",
    "        #print('\\nIteration {0}'.format(t))\n",
    "        #print('---------')\n",
    "        #print('Initial aggregated demand: {}'.format(d[t]))\n",
    "        r.append(np.ones(len(xmax)))\n",
    "        s.append(np.ones(len(xmax)))\n",
    "        fvec.append(np.ones(len(xmax)))\n",
    "        x.append(np.ones(len(xmax)))\n",
    "        d.append(np.ones(len(xmax)))\n",
    "        \n",
    "        ##########################################\n",
    "        ########### Output constraints ###########\n",
    "        ##########################################\n",
    "        for i in range (0,len(x_max)):\n",
    "            r[t][i] = xmax[i]/d[t][i]\n",
    "        #print('Output constraints:{}'.format(r[t]))\n",
    "        \n",
    "        ##########################################\n",
    "        ########### Input bottlenecks ############\n",
    "        ##########################################\n",
    "        for i in range(0,len(x_max)):\n",
    "            for j in range(0,len(x_max)):\n",
    "                if A[j][i] > 0:\n",
    "                    list_.append(r[t][j])\n",
    "            s[t][i] = min(list_)\n",
    "            list_ = [1]\n",
    "        #print('Input bottlenecks:{}'.format(s[t]))\n",
    "        \n",
    "        ##############################################\n",
    "        ########### Constrained Production ###########\n",
    "        ##############################################\n",
    "        for i in range(0,len(xmax)):\n",
    "            x[t][i] = min(xmax[i], s[t][i]*d[t][i])\n",
    "        #print('Constrained production:{}'.format(x[t]))\n",
    "        \n",
    "        ##############################################\n",
    "        ############ Constrained Delivery ############\n",
    "        ##############################################\n",
    "        for i in range(0,len(xmax)):\n",
    "            fvec[t][i] = max(x[t][i] - np.matmul(A[i],x[t]),0)\n",
    "        #print('Constrained delivery:{}'.format(fvec[t]))\n",
    "        \n",
    "        ###############################################\n",
    "        ############ New Aggregated Demand ############\n",
    "        ###############################################\n",
    "        for i in range(0,len(xmax)):\n",
    "            d[t+1][i] = np.matmul(L[i],fvec[t])\n",
    "        t=t+1\n",
    "        #print('Aggregated Demand:         {}'.format(d[t]))\n",
    "        if t==TT:\n",
    "            print(\"Algorithm did not converge\")\n",
    "    return sum(x[t-1])/sum(x_0), sum(fvec[t-1])/sum(f_0), t"
   ]
  },
  {
   "cell_type": "markdown",
   "id": "e48172c7",
   "metadata": {},
   "source": [
    "## Mixed priority/proportional rationing"
   ]
  },
  {
   "cell_type": "code",
   "execution_count": 14,
   "id": "8b4c14db",
   "metadata": {},
   "outputs": [],
   "source": [
    "def algo_mixed(A, L, fmax, xmax, TT, prioritize=\"yes\"):\n",
    "    x = [0]\n",
    "    \n",
    "    fvec = [] # initial demand vector\n",
    "    fvec.append(fmax)\n",
    "    r = [0]   # output constraints\n",
    "    s = [0]   # input bottlenecks \n",
    "    d = [0]   # aggregated demand vector \n",
    "    d.append(np.matmul(L, fvec[0])) #d[1] = L*f[0]\n",
    "    \n",
    "    list_ = [1] \n",
    "    t=1\n",
    "    epsilon = 1e-6\n",
    "    while not np.all(abs(d[t] - d[t-1]) < epsilon) and t<TT:\n",
    "        #print('\\nIteration {0}'.format(t))\n",
    "        #print('---------')\n",
    "        #print('Initial aggregated demand: {}'.format(d[t]))\n",
    "        r.append(np.ones(len(xmax)))\n",
    "        s.append(np.ones(len(xmax)))\n",
    "        fvec.append(np.ones(len(xmax)))\n",
    "        x.append(np.ones(len(xmax)))\n",
    "        d.append(np.ones(len(xmax)))\n",
    "        \n",
    "        \n",
    "        ##########################################\n",
    "        ########### Output constraints ###########\n",
    "        ##########################################\n",
    "        for i in range (0,len(x_max)):\n",
    "            denominator = np.matmul(A[i],d[t])\n",
    "            if denominator == 0:\n",
    "                r[t][i] = 1 \n",
    "            else:\n",
    "                r[t][i] = xmax[i]/denominator\n",
    "        #print('Output constraints:         {}'.format(r[t]))\n",
    "        \n",
    "        ##########################################\n",
    "        ########### Input bottlenecks ############\n",
    "        ##########################################\n",
    "        for i in range(0,len(x_max)):\n",
    "            for j in range(0,len(x_max)):\n",
    "                if A[j][i] > 0:\n",
    "                    list_.append(r[t][j])\n",
    "            s[t][i] = min(list_)\n",
    "            list_ = [1]\n",
    "        #print('Input bottlenecks:         {}'.format(s[t]))\n",
    "        \n",
    "        ##############################################\n",
    "        ########### Constrained Production ###########\n",
    "        ##############################################\n",
    "        for i in range(0,len(xmax)):\n",
    "            x[t][i] = min(xmax[i], s[t][i]*d[t][i])\n",
    "            #print(s[t][i]*d[t][i])\n",
    "        \n",
    "        ##############################################\n",
    "        ############ Constrained Delivery ############\n",
    "        ##############################################\n",
    "        \n",
    "        for i in range(0,len(xmax)):\n",
    "            #print(np.matmul(A[i],s[t]*d[t]))\n",
    "            fvec[t][i] = max(x[t][i] - np.matmul(A[i],x[t]),0) \n",
    "        #print('Constrained delivery:      {}'.format(fvec[t]))\n",
    "        \n",
    "        ###############################################\n",
    "        ############ New Aggregated Demand ############\n",
    "        ###############################################\n",
    "        for i in range(0,len(xmax)):\n",
    "            d[t+1][i] = np.matmul(L[i],fvec[t])\n",
    "        t=t+1\n",
    "    \n",
    "        if t == TT:\n",
    "            print(\"Algoritm did not converge\")\n",
    "        \n",
    "    return sum(x[t-1])/sum(x_0), sum(fvec[t-1])/sum(f_0), t"
   ]
  },
  {
   "cell_type": "markdown",
   "id": "a00430fc",
   "metadata": {},
   "source": [
    "## Priority rationing"
   ]
  },
  {
   "cell_type": "code",
   "execution_count": 15,
   "id": "62e956d4",
   "metadata": {},
   "outputs": [],
   "source": [
    "def order(A, L, fmax):\n",
    "    d = np.matmul(L, fmax)\n",
    "    list_1 = []   # list we will sort\n",
    "    list_2 = []   # list that will not be sorted to find the original indices\n",
    "    for i in range(A.shape[0]):\n",
    "        list_1.append([])\n",
    "        list_2.append([])\n",
    "    for i in range(A.shape[0]):\n",
    "        for j in range(A.shape[0]):\n",
    "            list_1[i].append(A[i][j]*d[j])     # list_1[i][j] = list_2[i][j] = A[i][j]*d[j]\n",
    "            list_2[i].append(A[i][j]*d[j])\n",
    "        list_1[i].sort(reverse = True)         # we sort list_1: A[i][j]*d[j] >= A[i][j+1]*d[j+1]\n",
    "\n",
    "    names_ordered=[]\n",
    "    for i in range(A.shape[0]):\n",
    "        names_ordered.append([])\n",
    "    \n",
    "    for i in range(A.shape[0]):\n",
    "        for k in list_1[i]:                  # we take the indices of the j+1 (j from 0 to N-1) biggest suppliers of industry i.  \n",
    "                for l in range(A.shape[0]):   \n",
    "                    if list_2[i][l] == k:\n",
    "                        names_ordered[i].append(l)   \n",
    "    return names_ordered"
   ]
  },
  {
   "cell_type": "code",
   "execution_count": 16,
   "id": "132598ee",
   "metadata": {},
   "outputs": [],
   "source": [
    "def algo_priority(A, L, fmax, xmax, ordered, TT,  prioritize=\"yes\"):               \n",
    "    x = [0]\n",
    "    fvec = []   # initial demand vector\n",
    "    fvec.append(fmax)\n",
    "    rvec = [0]  # output constraints\n",
    "    s = [0]     # input bottlenecks \n",
    "    d = [0]     # aggregated demand vector \n",
    "    d.append(np.matmul(L, fvec[0])) #d[1] = L*f[0]\n",
    "    \n",
    "    list_ = [1] \n",
    "    t=1\n",
    "    epsilon = 1e-6\n",
    "    \n",
    "    while not np.all(abs(d[t] - d[t-1]) < epsilon) and t<TT:\n",
    "        #print('\\nIteration {0}'.format(t))\n",
    "        #print('---------')\n",
    "        #print('Initial aggregated demand: {}'.format(d[t]))\n",
    "        rvec.append([np.zeros(N)])\n",
    "        s.append(np.ones(N))\n",
    "        fvec.append(np.ones(N))\n",
    "        x.append(np.ones(N))\n",
    "        d.append(np.ones(N))\n",
    "        demand = np.identity(N)\n",
    "        \n",
    "        som = 0\n",
    "        for i in range(0,N):\n",
    "            for j in range(0,N):\n",
    "                for k in ordered[i][:j+1]:\n",
    "                    som = som + A[i][k]*d[t][k] \n",
    "                demand[i][j] = som   #demand[i][j] = demand of j'th biggest customers of firm i summed up\n",
    "                som = 0\n",
    "        remainder = np.identity(N)\n",
    "    \n",
    "        for i in range(0,N):\n",
    "            for j in range(0,N):\n",
    "                remainder[i][j] = xmax[i] - demand[i][j]\n",
    "                \n",
    "        ####################################################\n",
    "        ####################### rvec #######################\n",
    "        ####################################################\n",
    "        for i in range(0,N):\n",
    "            rvec[t].append([])\n",
    "        for i in range(0,N):\n",
    "            if all(remainder[i][j]>0 for j in range(0,N)):\n",
    "                rvec[t][i] = np.ones(N) \n",
    "            elif all(remainder[i][j]<=0 for j in range(0,N)): \n",
    "                rvec[t][i] = np.zeros(N)\n",
    "                for k in ordered[i][:1]: \n",
    "                    rvec[t][i][k] = xmax[i]/demand[i][0]\n",
    "        \n",
    "            else: \n",
    "                idx = np.where(remainder[i]<=0) # index for partially met demand\n",
    "                idx_fully = np.where(remainder[i]>0) \n",
    "                length = len(idx_fully[0])\n",
    "                rvec[t][i] = np.zeros(N)\n",
    "                for l in range(0,length-1):\n",
    "                    index = ordered[i][l]\n",
    "                    rvec[t][i][index] = 1\n",
    "                m = ordered[i][length-1]\n",
    "                rvec[t][i][m] = remainder[i][length-1]/(demand[i][length]-demand[i][length-1])\n",
    "                \n",
    "        #####################################################\n",
    "        ################# Input bottlenecks #################\n",
    "        #####################################################\n",
    "        for i in range(0,N):\n",
    "            for j in range(0,N):\n",
    "                if A[j][i]>0:\n",
    "                    list_.append(rvec[t][j][i])\n",
    "            s[t][i] = min(list_)\n",
    "            list_ = [1]   \n",
    "        #print('Input bottlenecks:         {}'.format(s[t]))\n",
    "        \n",
    "        ######################################################\n",
    "        ############### Constrained Production ###############\n",
    "        ######################################################\n",
    "        for i in range(0,N):\n",
    "            x[t][i] = min(xmax[i], s[t][i]*d[t][i])\n",
    "            \n",
    "       \n",
    "        ######################################################\n",
    "        ################ Constrained Delivery ################\n",
    "        ######################################################\n",
    "        for i in range(0,len(xmax)):\n",
    "            fvec[t][i] = max(x[t][i] - np.matmul(A[i],x[t]),0)\n",
    "        \n",
    "        ######################################################\n",
    "        ################ Aggregated demand ###################\n",
    "        ######################################################\n",
    "        for i in range(0,len(xmax)):\n",
    "            d[t+1][i] = np.matmul(L[i],fvec[t])\n",
    "            \n",
    "        t=t+1\n",
    "        if t==TT:\n",
    "            print(\"Algorithm did not converge\")\n",
    "    return sum(x[t-1])/sum(x_0), sum(fvec[t-1])/sum(f_0), t"
   ]
  },
  {
   "cell_type": "markdown",
   "id": "a9c9ec1e",
   "metadata": {},
   "source": [
    "## Random rationing"
   ]
  },
  {
   "cell_type": "code",
   "execution_count": 17,
   "id": "c0aa9281",
   "metadata": {},
   "outputs": [],
   "source": [
    "def algo_random(A, L, fmax, xmax, runs, prioritize = \"random\"):\n",
    "    x = []\n",
    "    y = []\n",
    "    while len(x)<runs:\n",
    "        random_ordered=[]\n",
    "        for i in range(N):\n",
    "            random_ordered.append([])\n",
    "    \n",
    "        for i in range(N):\n",
    "            while len(random_ordered[i])<N:\n",
    "                random = randrange(N)\n",
    "                while random in random_ordered[i]:\n",
    "                    random = randrange(N) # We take the indices of the j+1 ( with j from 0 to N-1) biggest suppliers  \n",
    "                random_ordered[i].append(random)\n",
    "\n",
    "        result = algo_priority(A, L, fmax, xmax, random_ordered, 25, prioritize=\"yes\")\n",
    "        result_x = result[0]\n",
    "        result_y = result[1]\n",
    "        t = result[2]\n",
    "        \n",
    "        x.append(result_x)\n",
    "        y.append(result_y)\n",
    "        \n",
    "    result_random = (sum(x)/len(x), sum(y)/len(y), t)\n",
    "    return result_random"
   ]
  },
  {
   "cell_type": "markdown",
   "id": "49b6d93c",
   "metadata": {},
   "source": [
    "# Shock Magnitude Effect"
   ]
  },
  {
   "cell_type": "markdown",
   "id": "237e4507",
   "metadata": {},
   "source": [
    "We now investigate how these results depend on the magnitude of the initial shocks. We follow\n",
    "the approach of Pichler and Farmer, who have done this by rescaling supply and demand shocks and then applying the optimization methods and the rationing algorithms to the new shock data. By doing this for various shocks scales, we can investigate how the\n",
    "impact predictions change in function of the shock scale. We use different scaling factors for demand and supply constraints:\n",
    "\n",
    "$$ x^{max}_i = (1-\\alpha^S\\varepsilon_i^S)x_{i,0}$$\n",
    "\n",
    "$$ f^{max}_i = (1-\\alpha^D\\varepsilon_i^D)f_{i,0}$$\n",
    "\n",
    "Where $\\alpha^S$ and $\\alpha^D$ lie between $0$ and $1$. "
   ]
  },
  {
   "cell_type": "code",
   "execution_count": 18,
   "id": "aa3e4f75",
   "metadata": {},
   "outputs": [],
   "source": [
    "def shockscale(x, xmax, f, fmax, scale_x, scale_f):\n",
    "    ss_full = np.divide(xmax,x)-1\n",
    "    ds_full = np.divide(fmax,f)-1\n",
    "    \n",
    "    ss = ss_full*scale_x\n",
    "    \n",
    "    x_shocked = np.zeros(N)\n",
    "    \n",
    "    for i in range (0,N):\n",
    "        x_shocked[i] = (np.ones(N)+ ss)[i]*x[i]\n",
    "\n",
    "    \n",
    "    ds = ds_full*scale_f\n",
    "    f_shocked = np.zeros(N)\n",
    "    \n",
    "    for i in range (0,N):\n",
    "        f_shocked[i] = (np.ones(N)+ ds)[i]*f[i]\n",
    "    \n",
    "    return x_shocked, f_shocked"
   ]
  },
  {
   "cell_type": "markdown",
   "id": "7030cead",
   "metadata": {},
   "source": [
    "### Direct shock"
   ]
  },
  {
   "cell_type": "code",
   "execution_count": 19,
   "id": "38c08415",
   "metadata": {},
   "outputs": [],
   "source": [
    "def scale_run_direct_shock(scalewhat = \"both\", seq = np.linspace(0,1,100)):    \n",
    "    res_dir_x = []\n",
    "    res_dir_f = []\n",
    "    for i in range(0, len(seq)):\n",
    "        if scalewhat == \"both\":\n",
    "            scaleres = shockscale(x_0, x_max, f_0, f_max, scale_x=seq[i], scale_f=seq[i])\n",
    "            \n",
    "        if scalewhat == \"supply\":\n",
    "            scaleres = shockscale(x_0, x_max, f_0, f_max, scale_x=seq[i], scale_f=0)\n",
    "            \n",
    "        if scalewhat == \"demand\":\n",
    "            scaleres = shockscale(x_0, x_max, f_0, f_max, scale_x=0, scale_f=seq[i])\n",
    "            \n",
    "    \n",
    "        res_dir_x.append(sum(scaleres[0])/sum(x_0))\n",
    "        res_dir_f.append(sum(scaleres[1])/sum(f_0)) \n",
    "    dataframe = {'x': res_dir_x,\n",
    "                 'f': res_dir_f,\n",
    "                'Scale': scalewhat, 'Algorithm': 'Direct_shock', 'a': seq}\n",
    "    df = pd.DataFrame(dataframe)\n",
    "        \n",
    "    return df"
   ]
  },
  {
   "cell_type": "markdown",
   "id": "503675e7",
   "metadata": {},
   "source": [
    "### Optimization"
   ]
  },
  {
   "cell_type": "code",
   "execution_count": 20,
   "id": "66343895",
   "metadata": {},
   "outputs": [],
   "source": [
    "def scale_run_optimizationX(scalewhat = \"both\", runs = 100, seq = np.linspace(0,1,100)):\n",
    "    resmax_output_x = []\n",
    "    resmax_output_f = []\n",
    "    \n",
    "    i=0\n",
    "    while i <len(seq):\n",
    "        if scalewhat == \"both\":\n",
    "            scaleres = shockscale(x_0, x_max, f_0, f_max, scale_x=seq[i], scale_f=seq[i])\n",
    "            \n",
    "        if scalewhat == \"supply\":\n",
    "            scaleres = shockscale(x_0, x_max, f_0, f_max, scale_x=seq[i], scale_f=0)\n",
    "            \n",
    "        if scalewhat == \"demand\":\n",
    "            scaleres = shockscale(x_0, x_max, f_0, f_max, scale_x=0, scale_f=seq[i])\n",
    "        \n",
    "        #print(scaleres[0])\n",
    "        resmaxX = max_output(N , L, A, xmax = scaleres[0], fmax=scaleres[1])\n",
    "        #print(resmaxX)\n",
    "        if resmaxX[0] == True:\n",
    "        #print(resmaxX)\n",
    "            resmax_output_x.append(resmaxX[1])\n",
    "            resmax_output_f.append(resmaxX[2])\n",
    "        else: \n",
    "            resmax_output_x.append('NaN')\n",
    "            resmax_output_f.append('NaN')\n",
    "            \n",
    "            \n",
    "        i = i+1\n",
    "        \n",
    "        \n",
    "    dataframe = {'x': resmax_output_x,\n",
    "                 'f': resmax_output_f,\n",
    "                'Scale': scalewhat, 'Algorithm': 'Max_output', 'a': seq}\n",
    "    df = pd.DataFrame(dataframe)\n",
    "    \n",
    "    return df"
   ]
  },
  {
   "cell_type": "code",
   "execution_count": 21,
   "id": "4d8d6336",
   "metadata": {},
   "outputs": [],
   "source": [
    "x_direct_D = scale_run_direct_shock(scalewhat = \"demand\",  seq = np.linspace(0,1,100)).iloc[:,0].tolist()\n",
    "a_direct_D = scale_run_direct_shock(scalewhat = \"demand\",  seq = np.linspace(0,1,100)).iloc[:,4].tolist()\n",
    "\n",
    "x_opt_D = scale_run_optimizationX(scalewhat = \"demand\", runs = 100, seq = np.linspace(0,1,100)).iloc[:,0].tolist()\n",
    "a_opt_D = scale_run_optimizationX(scalewhat = \"demand\", runs = 100, seq = np.linspace(0,1,100)).iloc[:,4].tolist()"
   ]
  },
  {
   "cell_type": "markdown",
   "id": "69a53a40",
   "metadata": {},
   "source": [
    "### Rationing "
   ]
  },
  {
   "cell_type": "code",
   "execution_count": 22,
   "id": "3e2d0dae",
   "metadata": {},
   "outputs": [],
   "source": [
    "TT = 25"
   ]
  },
  {
   "cell_type": "code",
   "execution_count": 23,
   "id": "28cb905c",
   "metadata": {},
   "outputs": [],
   "source": [
    "def scale_run_rationing(scalewhat = \"both\",  seq = np.linspace(0,1,100)):\n",
    "    res1x = []\n",
    "    res1f = []\n",
    "    \n",
    "    res2x = []\n",
    "    res2f = []\n",
    "    \n",
    "    res3x = []\n",
    "    res3f = []\n",
    "    i=0\n",
    "    while i <len(seq):\n",
    "        if scalewhat == \"both\":\n",
    "            scaleres = shockscale(x_0, x_max, f_0, f_max,scale_x=seq[i], scale_f=seq[i])\n",
    "            \n",
    "        if scalewhat == \"supply\":\n",
    "            scaleres = shockscale(x_0, x_max, f_0, f_max,scale_x=seq[i], scale_f=0)\n",
    "            \n",
    "        if scalewhat == \"demand\":\n",
    "            scaleres = shockscale(x_0, x_max, f_0, f_max,scale_x=0, scale_f=seq[i])\n",
    "        \n",
    "        res1 = algo_proportional(A, L, scaleres[1], scaleres[0], TT, prioritize = \"no\")\n",
    "        res2 = algo_mixed(A, L, scaleres[1], scaleres[0],TT, prioritize=\"yes\")\n",
    "        names_ordered = order(A,L,scaleres[1])\n",
    "        res3 = algo_priority(A, L, scaleres[1], scaleres[0], names_ordered,TT, prioritize=\"yes\")\n",
    "        \n",
    "        if res1[2] != 100:\n",
    "            res1x.append(res1[0])\n",
    "            res1f.append(res1[1])\n",
    "        else:\n",
    "            res1x.append('NaN')\n",
    "            res1f.append('NaN')\n",
    "        \n",
    "        if res2[2] != 100:\n",
    "            res2x.append(res2[0])\n",
    "            res2f.append(res2[1])\n",
    "        else:\n",
    "            res2x.append('NaN')\n",
    "            res2f.append('NaN')\n",
    "            \n",
    "        if res3[2] != 100:\n",
    "            res3x.append(res3[0])\n",
    "            res3f.append(res3[1])\n",
    "        else:\n",
    "            res3x.append('NaN')\n",
    "            res3f.append('NaN')\n",
    "        \n",
    "        i= i+1\n",
    "    \n",
    "    dataframe1 = {'x': res1x, 'f': res1f, 'Scale': scalewhat, 'Algorithm': 'Proportional', 'a': seq }\n",
    "    df1 = pd.DataFrame(dataframe1)\n",
    "    \n",
    "    dataframe2 = {'x': res2x, 'f': res2f, 'Scale': scalewhat, 'Algorithm': 'Mixed', 'a': seq }\n",
    "    df2 = pd.DataFrame(dataframe2)\n",
    "    \n",
    "    dataframe3 = {'x': res3x, 'f': res3f, 'Scale': scalewhat, 'Algorithm': 'Priority', 'a': seq }  \n",
    "    df3 = pd.DataFrame(dataframe3)\n",
    "    \n",
    "    return df1, df2, df3"
   ]
  },
  {
   "cell_type": "code",
   "execution_count": 24,
   "id": "3befb713",
   "metadata": {},
   "outputs": [],
   "source": [
    "def scale_run_random_rationing(scalewhat = \"both\", seq = np.linspace(0,1,100)):\n",
    "    res4x = []\n",
    "    res4f = []\n",
    "    i=0\n",
    "    while i < len(seq):\n",
    "        if scalewhat == \"both\":\n",
    "            scaleres = shockscale(x_0, x_max, f_0, f_max,scale_x=seq[i], scale_f=seq[i])\n",
    "            \n",
    "        if scalewhat == \"supply\":\n",
    "            scaleres = shockscale(x_0, x_max, f_0, f_max,scale_x=seq[i], scale_f=0)\n",
    "            \n",
    "        if scalewhat == \"demand\":\n",
    "            scaleres = shockscale(x_0, x_max, f_0, f_max,scale_x=0, scale_f=seq[i])\n",
    "        \n",
    "           \n",
    "        res4 = algo_random(A, L, scaleres[1], scaleres[0], 50, prioritize = \"random\")\n",
    "        \n",
    "        if res4[2] != 100:\n",
    "            res4x.append(res4[0])\n",
    "            res4f.append(res4[1]) \n",
    "        else:\n",
    "            res4x.append('NaN')\n",
    "            res4f.append('NaN') \n",
    "        \n",
    "        i = i+1\n",
    "    \n",
    "    dataframe4 = {'x': res4x, 'f': res4f, 'Scale': scalewhat, 'Algorithm': 'Random', 'a': seq}  \n",
    "    df4 = pd.DataFrame(dataframe4)\n",
    "    \n",
    "    return df4"
   ]
  },
  {
   "cell_type": "markdown",
   "id": "ea3afe6a",
   "metadata": {},
   "source": [
    "# Results"
   ]
  },
  {
   "cell_type": "markdown",
   "id": "7847a8f2",
   "metadata": {},
   "source": [
    "## No supply shocks"
   ]
  },
  {
   "cell_type": "markdown",
   "id": "8b0c8209",
   "metadata": {},
   "source": [
    "We first investigate the impact of the demand shock magnitude on the economic impact\n",
    "predictions. To do this, we set $\\alpha^S = 0$ and we let $\\alpha^D$ range between 0 and 1. For 100\n",
    "different values of $\\alpha^D$, we apply the optimization methods and the rationing algorithms\n",
    "to the new shock data."
   ]
  },
  {
   "cell_type": "code",
   "execution_count": 25,
   "id": "fd9aefdd",
   "metadata": {},
   "outputs": [
    {
     "data": {
      "image/png": "[encoded data removed]",
      "text/plain": [
       "<Figure size 640x480 with 1 Axes>"
      ]
     },
     "metadata": {},
     "output_type": "display_data"
    }
   ],
   "source": [
    "plt.style.use('ggplot')\n",
    "plt.title(\"Italy\")\n",
    "plt.grid(visible=None, which='major', axis='both', linestyle='-', linewidth=1)\n",
    "plt.plot(a_direct_D, x_direct_D)\n",
    "plt.plot(a_opt_D, x_opt_D)\n",
    "plt.xlim(-0.05, 1) \n",
    "plt.ylim(-0.00,1.1)\n",
    "\n",
    "#plt.rcParams['text.usetex'] = True\n",
    "plt.xlabel(r'$\\alpha^D$')\n",
    "plt.ylabel(\"Gross Output (% of pre-shock level)\")\n",
    "plt.legend(['Direct shock', 'Optimization and Rationing'])\n",
    "plt.savefig('plot_ita_scale_demand.png')"
   ]
  },
  {
   "cell_type": "markdown",
   "id": "1214b11c",
   "metadata": {},
   "source": [
    "## No demand shocks"
   ]
  },
  {
   "cell_type": "markdown",
   "id": "c3849461",
   "metadata": {},
   "source": [
    "We now look at what happens if we only rescale the supply shock and set $\\alpha^D = 0$."
   ]
  },
  {
   "cell_type": "code",
   "execution_count": 26,
   "id": "d766f1d6",
   "metadata": {},
   "outputs": [],
   "source": [
    "result_direct = scale_run_direct_shock(scalewhat = \"supply\",  seq = np.linspace(0,1,100))\n",
    "x_direct = np.array(result_direct.iloc[:,0].astype('float'))\n",
    "a_direct = np.array(result_direct.iloc[:,4].astype('float'))\n",
    "\n",
    "result_opt = scale_run_optimizationX(scalewhat = \"supply\", runs = 100, seq = np.linspace(0,1,100))\n",
    "x_opt= np.array(result_opt.iloc[:,0].astype('float'))\n",
    "a_opt = np.array(result_opt.iloc[:,4].astype('float'))\n",
    "\n",
    "\n",
    "result_prop = scale_run_rationing(scalewhat = \"supply\",  seq = np.linspace(0,1,100))[0]\n",
    "x_prop = np.array(result_prop.iloc[:,0].astype('float'))\n",
    "a_prop = np.array(result_prop.iloc[:,4].astype('float'))\n",
    "\n",
    "result_mixed = scale_run_rationing(scalewhat = \"supply\",  seq = np.linspace(0,1,100))[1]\n",
    "x_mixed = np.array(result_mixed.iloc[:,0].astype('float'))\n",
    "a_mixed = np.array(result_mixed.iloc[:,4].astype('float'))\n",
    "\n",
    "result_priority = scale_run_rationing(scalewhat = \"supply\",  seq = np.linspace(0,1,100))[2]\n",
    "x_priority = np.array(result_priority.iloc[:,0].astype('float'))\n",
    "a_priority = np.array(result_priority.iloc[:,4].astype('float'))"
   ]
  },
  {
   "cell_type": "code",
   "execution_count": 27,
   "id": "64550f94",
   "metadata": {},
   "outputs": [],
   "source": [
    "result_random = scale_run_random_rationing(scalewhat = \"supply\", seq = np.linspace(0,1,100))\n",
    "x_random = np.array(result_random.iloc[:,0].astype('float'))\n",
    "a_random = np.array(result_random.iloc[:,4].astype('float'))"
   ]
  },
  {
   "cell_type": "code",
   "execution_count": 28,
   "id": "eb971c0a",
   "metadata": {},
   "outputs": [
    {
     "data": {
      "image/png": "[encoded data removed]",
      "text/plain": [
       "<Figure size 640x480 with 1 Axes>"
      ]
     },
     "metadata": {},
     "output_type": "display_data"
    }
   ],
   "source": [
    "plt.style.use('ggplot')\n",
    "plt.title(\"Italy\")\n",
    "plt.grid(visible=None, which='major', axis='both', linestyle='-', linewidth=1)\n",
    "\n",
    "plt.plot(a_direct, x_direct, 'black')\n",
    "plt.plot(a_opt, x_opt, 'red')\n",
    "plt.plot(a_prop, x_prop, 'green')\n",
    "plt.plot(a_mixed, x_mixed, 'grey')\n",
    "plt.plot(a_priority, x_priority, 'orange')\n",
    "plt.plot(a_random, x_random, 'blue')\n",
    "\n",
    "plt.xlim(-0.05, 1) \n",
    "plt.ylim(-0.00,1.1)\n",
    "#plt.rcParams['text.usetex'] = True\n",
    "plt.xlabel(r'$\\alpha^S$')\n",
    "plt.ylabel(\"Gross Output (% of pre-shock level)\")\n",
    "plt.legend(['Direct shock', 'Maximization', 'Proportional', 'Mixed', 'Priority', 'Random'])\n",
    "plt.savefig('plot_ita_scale.png')"
   ]
  }
 ],
 "metadata": {
  "kernelspec": {
   "display_name": "venv test",
   "language": "python",
   "name": "venv"
  },
  "language_info": {
   "codemirror_mode": {
    "name": "ipython",
    "version": 3
   },
   "file_extension": ".py",
   "mimetype": "text/x-python",
   "name": "python",
   "nbconvert_exporter": "python",
   "pygments_lexer": "ipython3",
   "version": "3.10.11"
  }
 },
 "nbformat": 4,
 "nbformat_minor": 5
}
