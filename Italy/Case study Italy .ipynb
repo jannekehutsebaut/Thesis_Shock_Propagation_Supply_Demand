{
 "cells": [
  {
   "cell_type": "code",
   "execution_count": 1,
   "id": "d69dad87",
   "metadata": {},
   "outputs": [],
   "source": [
    "import pandas as pd\n",
    "import numpy as np\n",
    "import matplotlib.pyplot as plt\n",
    "from scipy.optimize import linprog\n",
    "from random import randrange"
   ]
  },
  {
   "cell_type": "markdown",
   "id": "d575f677",
   "metadata": {},
   "source": [
    "# Data for final consumption and total output"
   ]
  },
  {
   "cell_type": "markdown",
   "id": "d12500d2",
   "metadata": {},
   "source": [
    "We apply our models to the input-output data of Germany. The data\n",
    "we use for initial output and final consumption per industry, as well as the supply and\n",
    "demand shock data is taken from:\n",
    "\n",
    "Pichler, A. and Farmer, J. D. (2021b). Simultaneous supply and demand constraints in\n",
    "input–output networks: the case of covid-19 in Germany, Italy and Spain (Version V1).\n",
    "Zenodo. https://doi.org/10.5281/zenodo.4326815"
   ]
  },
  {
   "cell_type": "markdown",
   "id": "9118cff0",
   "metadata": {},
   "source": [
    "## Final consumption"
   ]
  },
  {
   "cell_type": "code",
   "execution_count": 2,
   "id": "a0c01f4c",
   "metadata": {},
   "outputs": [],
   "source": [
    "fdata = pd.read_csv('fdata_ita.csv', sep = ',')\n",
    "fdata.head()\n",
    "f_0 = fdata.iloc[:,1].astype('float')\n",
    "f_max = np.array(fdata.iloc[:,3].astype('float'))"
   ]
  },
  {
   "cell_type": "code",
   "execution_count": 3,
   "id": "30eb1be1",
   "metadata": {},
   "outputs": [
    {
     "name": "stdout",
     "output_type": "stream",
     "text": [
      "[ 0.1    0.038  0.1    0.1    0.1    0.1    0.099  0.1    0.1    0.1\n",
      "  0.1    0.098  0.1    0.1    0.1    0.1    0.1    0.1    0.1    0.1\n",
      "  0.1    0.1    0.1    0.012  0.006  0.017  0.099  0.1    0.099  0.098\n",
      "  0.552  0.473  0.473  0.335  0.034  0.791  0.04   0.035  0.03   0.085\n",
      "  0.016  0.011  0.049  0.005  0.052  0.084  0.098  0.092  0.05   0.049\n",
      "  0.     0.     0.001  0.047 -0.   ]\n"
     ]
    }
   ],
   "source": [
    "demand_shock = np.zeros(f_max.shape[0])\n",
    "for i in range (0,f_max.shape[0]):\n",
    "    demand_shock[i] = round(1- f_max[i]/f_0[i],3)\n",
    "print(demand_shock) \n",
    "demand_shock = np.array(demand_shock)"
   ]
  },
  {
   "cell_type": "markdown",
   "id": "2012b38d",
   "metadata": {},
   "source": [
    "## Total output"
   ]
  },
  {
   "cell_type": "code",
   "execution_count": 4,
   "id": "32e86384",
   "metadata": {},
   "outputs": [],
   "source": [
    "xdata =  pd.read_csv('xdata_ita.csv', sep = ',')\n",
    "xdata.tail()   \n",
    "x_0 = xdata.iloc[:,1].astype('float')\n",
    "x_max = np.array(xdata.iloc[:,3].astype('float'))"
   ]
  },
  {
   "cell_type": "code",
   "execution_count": 5,
   "id": "1d473c50",
   "metadata": {},
   "outputs": [],
   "source": [
    "supply_shock = np.zeros(x_max.shape[0])\n",
    "for i in range (0,x_max.shape[0]):\n",
    "    supply_shock[i] = round(1- x_max[i]/x_0[i],6)\n",
    "supply_shock = np.array(supply_shock)"
   ]
  },
  {
   "cell_type": "markdown",
   "id": "97cb7425",
   "metadata": {},
   "source": [
    "# IO table "
   ]
  },
  {
   "cell_type": "code",
   "execution_count": 6,
   "id": "d00267df",
   "metadata": {},
   "outputs": [],
   "source": [
    "df = pd.read_csv('ita_wiot.csv',sep = ',',low_memory=False)\n",
    "df.head()\n",
    "df = df.iloc[0:55,1:56]\n",
    "df = df.astype('float')"
   ]
  },
  {
   "cell_type": "markdown",
   "id": "e32d8d62",
   "metadata": {},
   "source": [
    "**Creating matrix A**"
   ]
  },
  {
   "cell_type": "code",
   "execution_count": 7,
   "id": "3b209a29",
   "metadata": {},
   "outputs": [
    {
     "data": {
      "text/plain": [
       "(55, 55)"
      ]
     },
     "execution_count": 7,
     "metadata": {},
     "output_type": "execute_result"
    }
   ],
   "source": [
    "A = np.array(df)\n",
    "N = A.shape[0]\n",
    "A.shape"
   ]
  },
  {
   "cell_type": "code",
   "execution_count": 8,
   "id": "8ba3cc01",
   "metadata": {},
   "outputs": [],
   "source": [
    "x_0 = np.array(x_0)\n",
    "f_0 = np.array(f_0)"
   ]
  },
  {
   "cell_type": "markdown",
   "id": "c4ee14fb",
   "metadata": {},
   "source": [
    "# Leontief Model"
   ]
  },
  {
   "cell_type": "markdown",
   "id": "b2220798",
   "metadata": {},
   "source": [
    "**Calculating equilibrium when x is given**"
   ]
  },
  {
   "cell_type": "code",
   "execution_count": 9,
   "id": "a4c84cd3",
   "metadata": {},
   "outputs": [
    {
     "data": {
      "text/plain": [
       "0.8905066210075246"
      ]
     },
     "execution_count": 9,
     "metadata": {},
     "output_type": "execute_result"
    }
   ],
   "source": [
    "final_consumption = np.matmul(np.identity(N)-A, x_0)\n",
    "sum(f_max)/sum(final_consumption)"
   ]
  },
  {
   "cell_type": "markdown",
   "id": "281b0b20",
   "metadata": {},
   "source": [
    "**Computing equilibrium when f is given**"
   ]
  },
  {
   "cell_type": "code",
   "execution_count": 10,
   "id": "fa335ff9",
   "metadata": {},
   "outputs": [],
   "source": [
    "L = np.linalg.inv(np.identity(N)-A)"
   ]
  },
  {
   "cell_type": "code",
   "execution_count": 11,
   "id": "2abe2e96",
   "metadata": {},
   "outputs": [
    {
     "data": {
      "text/plain": [
       "0.7256416370029234"
      ]
     },
     "execution_count": 11,
     "metadata": {},
     "output_type": "execute_result"
    }
   ],
   "source": [
    "total_output = np.matmul(L, f_0)\n",
    "sum(x_max)/sum(x_0)\n",
    "#sum(x_max)/sum(total_output)"
   ]
  },
  {
   "cell_type": "code",
   "execution_count": 12,
   "id": "afa0b502",
   "metadata": {},
   "outputs": [
    {
     "data": {
      "text/plain": [
       "(0.7256416370029266, 0.8905066210075246)"
      ]
     },
     "execution_count": 12,
     "metadata": {},
     "output_type": "execute_result"
    }
   ],
   "source": [
    "direct_shock = (sum(x_max)/sum(total_output),sum(f_max)/sum(final_consumption))\n",
    "direct_shock"
   ]
  },
  {
   "cell_type": "markdown",
   "id": "bed7504e",
   "metadata": {},
   "source": [
    "# Optimalization"
   ]
  },
  {
   "cell_type": "markdown",
   "id": "7bed23c7",
   "metadata": {},
   "source": [
    "### Feasible Market Allocations\n",
    "Given exogenous constraints to supply and demand, what is the feasible market allocation that maximizes final consumption and/or total output? The solution needs to lie within exogenous bounds on supply and demand and also needs to satisfy the assumption of Leontief production:\n",
    "\n",
    "$$ x = Ax + f = Lf $$\n",
    "\n",
    "We seek market allocations {$x^*$ , $f^*$} that (a) respect the given production recipes $x^*=Lf^*$ and (b) satisfy basic output and demand constraints $x^* \\in [0, x^{max}]$ and $f^* \\in [0, f^{max}]$.\n",
    "\n",
    "**Optimization procedure**\n",
    "\n",
    "As a first case, we determine the market allocation that maximizes gross output under the assumptions specified. Large levels of output indicate high levels of ecomomic activity, which in turn entail high levels of primary factors such as labor compensation. As a second case, we look at market allocations that maximize final comsumption given current production capacities. Due to the linearity of the Leontief framework, the problem boils down to linear programming exercises.\n",
    "\n",
    "*Maximizing gross output*\n",
    "$$ \\text{max}_f \\qquad 1^T(I-A)^{-1}f $$\n",
    "$$ \\text{Subject to} \\quad (I-A)^{-1}f \\in [0, x^{max}] $$\n",
    "\n",
    "*Maximizing final consumption*\n",
    "$$ \\text{max}_x \\qquad 1^T(I-A)x $$\n",
    "$$ \\text{Subject to} \\quad (I-A)x \\in [0, f^{max}] $$"
   ]
  },
  {
   "cell_type": "markdown",
   "id": "02d604cd",
   "metadata": {},
   "source": [
    "### Maximizing total output"
   ]
  },
  {
   "cell_type": "code",
   "execution_count": 13,
   "id": "6a44bf74",
   "metadata": {},
   "outputs": [],
   "source": [
    "def max_output(N,L,A,xmax,fmax):\n",
    "    z = np.ones(N)\n",
    "    obj = -np.matmul(np.matrix.transpose(z), L)\n",
    "    lhs_ineq = np.concatenate((-L,L))\n",
    "    rhs_ineq = np.concatenate((np.zeros(N), xmax))\n",
    "    \n",
    "    bnd = []\n",
    "    for i in range (0,N):\n",
    "        bnd.append((0,fmax[i]))\n",
    "    \n",
    "    result = linprog(c = obj, A_ub= lhs_ineq, b_ub= rhs_ineq, bounds = bnd)\n",
    "    \n",
    "    optimal_output = -result.fun\n",
    "    \n",
    "    optimal_f = np.ones(N)\n",
    "    for i in range(0,N):\n",
    "        optimal_f[i] = result.x[i]\n",
    "    \n",
    "    return result.success, optimal_output/sum(x_0), sum(optimal_f)/sum(f_0)"
   ]
  },
  {
   "cell_type": "code",
   "execution_count": 14,
   "id": "d83a8ce8",
   "metadata": {},
   "outputs": [
    {
     "data": {
      "text/plain": [
       "(0.6133400575407387, 0.6399275423015803)"
      ]
     },
     "execution_count": 14,
     "metadata": {},
     "output_type": "execute_result"
    }
   ],
   "source": [
    "result = max_output(N,L,A,x_max,f_max)\n",
    "result[0]\n",
    "Max_output = (result[1], result[2])\n",
    "Max_output"
   ]
  },
  {
   "cell_type": "code",
   "execution_count": 15,
   "id": "2332fa77",
   "metadata": {},
   "outputs": [
    {
     "data": {
      "text/plain": [
       "0.881162794048229"
      ]
     },
     "execution_count": 15,
     "metadata": {},
     "output_type": "execute_result"
    }
   ],
   "source": [
    "z = np.ones(N)\n",
    "np.matmul(np.matmul(np.matrix.transpose(z), L), f_max)/sum(x_0)"
   ]
  },
  {
   "cell_type": "markdown",
   "id": "4264b266",
   "metadata": {},
   "source": [
    "### Maximizing final consumption"
   ]
  },
  {
   "cell_type": "code",
   "execution_count": 16,
   "id": "ad66d86f",
   "metadata": {},
   "outputs": [],
   "source": [
    "def max_consumption(N,L,A,xmax,fmax):\n",
    "    z = np.ones(N)\n",
    "    obj2 = -np.matmul(np.matrix.transpose(z), np.identity(N)-A)\n",
    "    lhs_ineq2 = np.concatenate((-(np.identity(N)-A), np.identity(N)-A))\n",
    "    rhs_ineq2 = np.concatenate((np.zeros(N), fmax))\n",
    "    \n",
    "    bnd2 = []\n",
    "    for i in range (0,N):\n",
    "        bnd2.append((0,xmax[i]))\n",
    "        \n",
    "    result2 = linprog(c = obj2, A_ub= lhs_ineq2, b_ub= rhs_ineq2, bounds= bnd2)\n",
    "    optimal_f_2 = -result2.fun\n",
    "    \n",
    "    optimal_output_2 = np.ones(N)\n",
    "    for i in range(0,N):\n",
    "        optimal_output_2[i] = round(result2.x[i])\n",
    "        \n",
    "    return result2.success, sum(optimal_output_2)/sum(x_0), optimal_f_2/sum(f_0)"
   ]
  },
  {
   "cell_type": "code",
   "execution_count": 17,
   "id": "6d8b939b",
   "metadata": {},
   "outputs": [
    {
     "data": {
      "text/plain": [
       "(0.6133407028249319, 0.6399275423015828)"
      ]
     },
     "execution_count": 17,
     "metadata": {},
     "output_type": "execute_result"
    }
   ],
   "source": [
    "result2 = max_consumption(N,L,A,x_max,f_max)\n",
    "Max_consumption = (result2[1], result2[2])\n",
    "Max_consumption"
   ]
  },
  {
   "cell_type": "markdown",
   "id": "a88e27e5",
   "metadata": {},
   "source": [
    "**Note that both optimization problems give almost the same solution**"
   ]
  },
  {
   "cell_type": "markdown",
   "id": "4bac4370",
   "metadata": {},
   "source": [
    "# Rationing"
   ]
  },
  {
   "cell_type": "markdown",
   "id": "4422f9a5",
   "metadata": {},
   "source": [
    "We leave out industry T:"
   ]
  },
  {
   "cell_type": "code",
   "execution_count": 18,
   "id": "7293dc18",
   "metadata": {},
   "outputs": [],
   "source": [
    "f_max = f_max[:54]\n",
    "x_max = x_max[:54]\n",
    "A = A[:54,:54]\n",
    "N = 54\n",
    "x_0 = x_0[:54]\n",
    "f_0 = f_0[:54]\n",
    "L = np.linalg.inv(np.identity(N)-A)"
   ]
  },
  {
   "cell_type": "markdown",
   "id": "3e84b6c6",
   "metadata": {},
   "source": [
    "### Input bottlenecks and rationing variations\n",
    "In contrast to the optimization methods, this represents a bottom-up approach for finding feasible market allocations. Industries place orders to their suppliers based on incoming demand. Since suppliers can be output constrained, they might not be able to satisfy demand fully. A supplier therefore needs to make a decision about how much of each customer’s demand it serves. Intermediate consumers transform inputs to outputs based on fixed production recipes. Thus if a customer receives less inputs than she asked for, she faces an input bottleneck further constraining her production. As a consequence, the customer reduces her demand for other inputs as they are not further needed under limited productive capacities. We iterate this procedure forward until the algorithm converges.\n",
    "\n",
    "## Strict Proportional Rationing\n",
    "\n",
    "If industries are unable to satisfy total incoming demand completely, they distribute output proportional to their customers’ demand, where no distinction is made between intermediate and final customers. We implement the rationing algorithm in the following way:\n",
    "1. Industries determine their total demand as if there were no supply-side constraints, $d = Lf^{\\text{max}}$;\n",
    "2. Industries evaluate if they are able to satisfy demand goven their constrained production capacities;\n",
    "3. Industries that only partially satisfy demand, create a bottleneck;\n",
    "4. Industries reduce their production according to the largest input bottleneck (assumption of fixed recipes);\n",
    "5. The total amount of goods delivered to the final consumer is computed;\n",
    "6. Iterate 1-5 until there are no input constraints left.\n",
    "\n",
    "Formulas:\n",
    "\n",
    "$$ r_i[t] = \\frac{x_i^{\\text{max}}}{d_i[t]} $$\n",
    "\n",
    "$$ s_i[t] = min_j \\{r_j[t], 1\\} $$\n",
    "\n",
    "$$ x_i[t] = \\text{min}\\{x_i^{\\text{max}}, s_i[t]d_i[t]\\} $$\n",
    "\n",
    "$$ f_i[t] = \\text{max} \\Big\\{ x_i[t] - \\sum_{i} a_{ij} x_j[t], 0 \\Big\\}$$\n",
    "\n",
    "$$ d_i[t+1] = \\sum_{j} l_{ij} f_j[t] $$\n",
    "\n",
    "The algorithm converges to a new feasible economic allocation if $d_i[t+1] = d_i[t]$ for all i.\n",
    "\n",
    "*Implementation*"
   ]
  },
  {
   "cell_type": "code",
   "execution_count": 19,
   "id": "7bfeaa17",
   "metadata": {},
   "outputs": [],
   "source": [
    "def algo_proportional(A, L, fmax, xmax, TT, prioritize=\"no\"):\n",
    "    x = [0]\n",
    "    fvec = []          # initial demand vector\n",
    "    fvec.append(fmax)\n",
    "    r = [0]            # output constraints\n",
    "    s = [0]            # input bottlenecks \n",
    "     \n",
    "    d = [0]            # aggregated demand vector \n",
    "    d.append(np.matmul(L, fvec[0])) #d[1] = L*f[0]\n",
    "\n",
    "    list_ = [1] \n",
    "    t=1\n",
    "    epsilon = 1e-6\n",
    "    while not np.all(abs(d[t] - d[t-1]) < epsilon) and t<TT:\n",
    "        #print('\\nIteration {0}'.format(t))\n",
    "        #print('---------')\n",
    "        #print('Initial aggregated demand: {}'.format(d[t]))\n",
    "        r.append(np.ones(len(xmax)))\n",
    "        s.append(np.ones(len(xmax)))\n",
    "        fvec.append(np.ones(len(xmax)))\n",
    "        x.append(np.ones(len(xmax)))\n",
    "        d.append(np.ones(len(xmax)))\n",
    "        \n",
    "        ##########################################\n",
    "        ########### Output constraints ###########\n",
    "        ##########################################\n",
    "        for i in range (0,len(x_max)):\n",
    "            r[t][i] = xmax[i]/d[t][i]\n",
    "        #print('Output constraints:{}'.format(r[t]))\n",
    "        \n",
    "        ##########################################\n",
    "        ########### Input bottlenecks ############\n",
    "        ##########################################\n",
    "        for i in range(0,len(x_max)):\n",
    "            for j in range(0,len(x_max)):\n",
    "                if A[j][i] > 0:\n",
    "                    list_.append(r[t][j])\n",
    "            s[t][i] = min(list_)\n",
    "            list_ = [1]\n",
    "        #print('Input bottlenecks:{}'.format(s[t]))\n",
    "        \n",
    "        ##############################################\n",
    "        ########### Constrained Production ###########\n",
    "        ##############################################\n",
    "        for i in range(0,len(xmax)):\n",
    "            x[t][i] = min(xmax[i], s[t][i]*d[t][i])\n",
    "        #print('Constrained production:{}'.format(x[t]))\n",
    "        \n",
    "        ##############################################\n",
    "        ############ Constrained Delivery ############\n",
    "        ##############################################\n",
    "        for i in range(0,len(xmax)):\n",
    "            fvec[t][i] = max(x[t][i] - np.matmul(A[i],x[t]),0)\n",
    "        #print('Constrained delivery:{}'.format(fvec[t]))\n",
    "        \n",
    "        ###############################################\n",
    "        ############ New Aggregated Demand ############\n",
    "        ###############################################\n",
    "        for i in range(0,len(xmax)):\n",
    "            d[t+1][i] = np.matmul(L[i],fvec[t])\n",
    "        t=t+1\n",
    "        #print('Aggregated Demand:         {}'.format(d[t]))\n",
    "        if t==TT:\n",
    "            print(\"Algorithm did not converge\")\n",
    "    return sum(x[t-1])/sum(x_0), sum(fvec[t-1])/sum(f_0), t"
   ]
  },
  {
   "cell_type": "code",
   "execution_count": 20,
   "id": "18c6699b",
   "metadata": {},
   "outputs": [
    {
     "data": {
      "text/plain": [
       "(0.16225463865054215, 0.1687630239228383, 6)"
      ]
     },
     "execution_count": 20,
     "metadata": {},
     "output_type": "execute_result"
    }
   ],
   "source": [
    "result_proportional = algo_proportional(A, L, f_max, x_max, 30, prioritize=\"no\")\n",
    "result_proportional"
   ]
  },
  {
   "cell_type": "markdown",
   "id": "e48172c7",
   "metadata": {},
   "source": [
    "## Mixed priority/proportional rationing"
   ]
  },
  {
   "cell_type": "markdown",
   "id": "31431ffd",
   "metadata": {},
   "source": [
    "We implement the rationing algorithm in the following way:\n",
    "1. Industries determine their total demand as if there were no supply-side constraints, $d = Lf^{\\text{max}}$;\n",
    "2. Industries evaluate if they are able to satisfy demand given their constrained production capacities;\n",
    "3. Industries that only partially satisfy demand, create a bottleneck;\n",
    "4. Industries reduce their production according to the largest input bottleneck (assumption of fixed recipes);\n",
    "5. The total amount of goods delivered to the final consumer is computed;\n",
    "6. Iterate 1-5 until there are no input constraints left.\n",
    "\n",
    "Formulas:\n",
    "\n",
    "$$ r_i[t] = \\frac{x_i^{\\text{max}}}{\\sum_{j}A_{ij}d_j[t]} $$\n",
    "\n",
    "$$ s_i[t] = min_j \\{r_j[t], 1\\} $$\n",
    "\n",
    "$$ x_i[t] = \\text{min}\\{x_i^{\\text{max}}, s_i[t]d_i[t]\\} $$\n",
    "\n",
    "$$ f_i[t] = \\text{max} \\Big\\{ x_i[t] - \\sum_{i} a_{ij} x_j[t], 0 \\Big\\}$$\n",
    "\n",
    "$$ d_i[t+1] = \\sum_{j} l_{ij} f_j[t] $$\n",
    "\n",
    "The algorithm converges to a new feasible economic allocation if $d_i[t+1] = d_i[t]$ for all i.\n",
    "\n",
    "*Implementation*"
   ]
  },
  {
   "cell_type": "code",
   "execution_count": 21,
   "id": "8b4c14db",
   "metadata": {},
   "outputs": [],
   "source": [
    "def algo_mixed(A, L, fmax, xmax, TT, prioritize=\"yes\"):\n",
    "    x = [0]\n",
    "    \n",
    "    fvec = [] # initial demand vector\n",
    "    fvec.append(fmax)\n",
    "    r = [0]   # output constraints\n",
    "    s = [0]   # input bottlenecks \n",
    "    d = [0]   # aggregated demand vector \n",
    "    d.append(np.matmul(L, fvec[0])) #d[1] = L*f[0]\n",
    "    \n",
    "    list_ = [1] \n",
    "    t=1\n",
    "    epsilon = 1e-6\n",
    "    while not np.all(abs(d[t] - d[t-1]) < epsilon) and t<TT:\n",
    "        #print('\\nIteration {0}'.format(t))\n",
    "        #print('---------')\n",
    "        #print('Initial aggregated demand: {}'.format(d[t]))\n",
    "        r.append(np.ones(len(xmax)))\n",
    "        s.append(np.ones(len(xmax)))\n",
    "        fvec.append(np.ones(len(xmax)))\n",
    "        x.append(np.ones(len(xmax)))\n",
    "        d.append(np.ones(len(xmax)))\n",
    "        \n",
    "        \n",
    "        ##########################################\n",
    "        ########### Output constraints ###########\n",
    "        ##########################################\n",
    "        for i in range (0,len(x_max)):\n",
    "            denominator = np.matmul(A[i],d[t])\n",
    "            if denominator == 0:\n",
    "                r[t][i] = 1 \n",
    "            else:\n",
    "                r[t][i] = xmax[i]/denominator\n",
    "        #print('Output constraints:         {}'.format(r[t]))\n",
    "        \n",
    "        ##########################################\n",
    "        ########### Input bottlenecks ############\n",
    "        ##########################################\n",
    "        for i in range(0,len(x_max)):\n",
    "            for j in range(0,len(x_max)):\n",
    "                if A[j][i] > 0:\n",
    "                    list_.append(r[t][j])\n",
    "            s[t][i] = min(list_)\n",
    "            list_ = [1]\n",
    "        #print('Input bottlenecks:         {}'.format(s[t]))\n",
    "        \n",
    "        ##############################################\n",
    "        ########### Constrained Production ###########\n",
    "        ##############################################\n",
    "        for i in range(0,len(xmax)):\n",
    "            x[t][i] = min(xmax[i], s[t][i]*d[t][i])\n",
    "            #print(s[t][i]*d[t][i])\n",
    "        \n",
    "        ##############################################\n",
    "        ############ Constrained Delivery ############\n",
    "        ##############################################\n",
    "        \n",
    "        for i in range(0,len(xmax)):\n",
    "            #print(np.matmul(A[i],s[t]*d[t]))\n",
    "            fvec[t][i] = max(x[t][i] - np.matmul(A[i],x[t]),0) \n",
    "        #print('Constrained delivery:      {}'.format(fvec[t]))\n",
    "        \n",
    "        ###############################################\n",
    "        ############ New Aggregated Demand ############\n",
    "        ###############################################\n",
    "        for i in range(0,len(xmax)):\n",
    "            d[t+1][i] = np.matmul(L[i],fvec[t])\n",
    "        t=t+1\n",
    "    \n",
    "        if t == TT:\n",
    "            print(\"Algoritm did not converge\")\n",
    "        \n",
    "    return sum(x[t-1])/sum(x_0), sum(fvec[t-1])/sum(f_0), t"
   ]
  },
  {
   "cell_type": "code",
   "execution_count": 22,
   "id": "24ae4d4b",
   "metadata": {},
   "outputs": [
    {
     "data": {
      "text/plain": [
       "(0.4326791328395896, 0.4412252521612323, 3)"
      ]
     },
     "execution_count": 22,
     "metadata": {},
     "output_type": "execute_result"
    }
   ],
   "source": [
    "result_mixed = algo_mixed(A, L, f_max, x_max, 30, prioritize=\"yes\")\n",
    "result_mixed"
   ]
  },
  {
   "cell_type": "markdown",
   "id": "a00430fc",
   "metadata": {},
   "source": [
    "## Priority rationing"
   ]
  },
  {
   "cell_type": "markdown",
   "id": "1cb1a8da",
   "metadata": {},
   "source": [
    "Largest first rationing; firms are prioritized over the final consumer. Take\n",
    "an initial demand vector $f[0] = f$\n",
    "max as given, implying an initial aggregate demand vector\n",
    "$d[1] = Lf[0]$. Every firm $i$ ranks each customers based on initial demand size. Let  $h_{ij}$ be the $j$ largest customers of firm $i$: $h_{ij} =\n",
    "\\{k(1), k(2), ..., k(j)\n",
    ": A_{ik(1)}d_{k(1)} [1] ≥ A_{ik(2)}d_{k(2)} [1] ≥ ... ≥ A_{ik(j)}\n",
    "d_{k(j)}[1] \\}$. By looping over the\n",
    "index $t = {1, 2, ...}$, the following system is iterated forward:\n",
    "\n",
    "Formulas:\n",
    "\n",
    "$$ r_{ij}[t] = \\frac{x_i^{\\text{max}}}{\\sum_{n\\in h_{ij}}A_{ih(j)}d_{n_{(j)}}[t]} $$\n",
    "\n",
    "$$ s_i[t] = min_j \\{r_{ji}[t], 1\\} $$\n",
    "\n",
    "$$ x_i[t] = \\text{min}\\{x_i^{\\text{max}}, s_i[t]d_i[t]\\} $$\n",
    "\n",
    "$$ f_i[t] = \\text{max} \\Big\\{ x_i[t] - \\sum_{i} a_{ij} x_j[t], 0 \\Big\\}$$\n",
    "\n",
    "$$ d_i[t+1] = \\sum_{j} l_{ij} f_j[t] $$\n",
    "\n",
    "The algorithm converges to a new feasible economic allocation if $d_i[t+1] = d_i[t]$ for all i."
   ]
  },
  {
   "cell_type": "code",
   "execution_count": 23,
   "id": "62e956d4",
   "metadata": {},
   "outputs": [],
   "source": [
    "def order(A, L, fmax):\n",
    "    d = np.matmul(L, fmax)\n",
    "    list_1 = []   # list we will sort\n",
    "    list_2 = []   # list that will not be sorted to find the original indices\n",
    "    for i in range(A.shape[0]):\n",
    "        list_1.append([])\n",
    "        list_2.append([])\n",
    "    for i in range(A.shape[0]):\n",
    "        for j in range(A.shape[0]):\n",
    "            list_1[i].append(A[i][j]*d[j])     # list_1[i][j] = list_2[i][j] = A[i][j]*d[j]\n",
    "            list_2[i].append(A[i][j]*d[j])\n",
    "        list_1[i].sort(reverse = True)         # we sort list_1: A[i][j]*d[j] >= A[i][j+1]*d[j+1]\n",
    "\n",
    "    names_ordered=[]\n",
    "    for i in range(A.shape[0]):\n",
    "        names_ordered.append([])\n",
    "    \n",
    "    for i in range(A.shape[0]):\n",
    "        for k in list_1[i]:                  # we take the indices of the j+1 (j from 0 to N-1) biggest suppliers of industry i.  \n",
    "                for l in range(A.shape[0]):   \n",
    "                    if list_2[i][l] == k:\n",
    "                        names_ordered[i].append(l)   \n",
    "    return names_ordered"
   ]
  },
  {
   "cell_type": "code",
   "execution_count": 24,
   "id": "132598ee",
   "metadata": {},
   "outputs": [],
   "source": [
    "def algo_priority(A, L, fmax, xmax, ordered, TT,  prioritize=\"yes\"):               \n",
    "    x = [0]\n",
    "    fvec = []   # initial demand vector\n",
    "    fvec.append(fmax)\n",
    "    rvec = [0]  # output constraints\n",
    "    s = [0]     # input bottlenecks \n",
    "    d = [0]     # aggregated demand vector \n",
    "    d.append(np.matmul(L, fvec[0])) #d[1] = L*f[0]\n",
    "    \n",
    "    list_ = [1] \n",
    "    t=1\n",
    "    epsilon = 1e-6\n",
    "    \n",
    "    while not np.all(abs(d[t] - d[t-1]) < epsilon) and t<TT:\n",
    "        #print('\\nIteration {0}'.format(t))\n",
    "        #print('---------')\n",
    "        #print('Initial aggregated demand: {}'.format(d[t]))\n",
    "        rvec.append([np.zeros(N)])\n",
    "        s.append(np.ones(N))\n",
    "        fvec.append(np.ones(N))\n",
    "        x.append(np.ones(N))\n",
    "        d.append(np.ones(N))\n",
    "        demand = np.identity(N)\n",
    "        \n",
    "        som = 0\n",
    "        for i in range(0,N):\n",
    "            for j in range(0,N):\n",
    "                for k in ordered[i][:j+1]:\n",
    "                    som = som + A[i][k]*d[t][k] \n",
    "                demand[i][j] = som   #demand[i][j] = demand of j'th biggest customers of firm i summed up\n",
    "                som = 0\n",
    "        remainder = np.identity(N)\n",
    "    \n",
    "        for i in range(0,N):\n",
    "            for j in range(0,N):\n",
    "                remainder[i][j] = xmax[i] - demand[i][j]\n",
    "                \n",
    "        ####################################################\n",
    "        ####################### rvec #######################\n",
    "        ####################################################\n",
    "        for i in range(0,N):\n",
    "            rvec[t].append([])\n",
    "        for i in range(0,N):\n",
    "            if all(remainder[i][j]>0 for j in range(0,N)):\n",
    "                rvec[t][i] = np.ones(N) \n",
    "            elif all(remainder[i][j]<=0 for j in range(0,N)): \n",
    "                rvec[t][i] = np.zeros(N)\n",
    "                for k in ordered[i][:1]: \n",
    "                    rvec[t][i][k] = xmax[i]/demand[i][0]\n",
    "        \n",
    "            else: \n",
    "                idx = np.where(remainder[i]<=0) # index for partially met demand\n",
    "                idx_fully = np.where(remainder[i]>0) \n",
    "                length = len(idx_fully[0])\n",
    "                rvec[t][i] = np.zeros(N)\n",
    "                for l in range(0,length-1):\n",
    "                    index = ordered[i][l]\n",
    "                    rvec[t][i][index] = 1\n",
    "                m = ordered[i][length-1]\n",
    "                rvec[t][i][m] = remainder[i][length-1]/(demand[i][length]-demand[i][length-1])\n",
    "                \n",
    "        #####################################################\n",
    "        ################# Input bottlenecks #################\n",
    "        #####################################################\n",
    "        for i in range(0,N):\n",
    "            for j in range(0,N):\n",
    "                if A[j][i]>0:\n",
    "                    list_.append(rvec[t][j][i])\n",
    "            s[t][i] = min(list_)\n",
    "            list_ = [1]   \n",
    "        #print('Input bottlenecks:         {}'.format(s[t]))\n",
    "        \n",
    "        ######################################################\n",
    "        ############### Constrained Production ###############\n",
    "        ######################################################\n",
    "        for i in range(0,N):\n",
    "            x[t][i] = min(xmax[i], s[t][i]*d[t][i])\n",
    "            \n",
    "       \n",
    "        ######################################################\n",
    "        ################ Constrained Delivery ################\n",
    "        ######################################################\n",
    "        for i in range(0,len(xmax)):\n",
    "            fvec[t][i] = max(x[t][i] - np.matmul(A[i],x[t]),0)\n",
    "        \n",
    "        ######################################################\n",
    "        ################ Aggregated demand ###################\n",
    "        ######################################################\n",
    "        for i in range(0,len(xmax)):\n",
    "            d[t+1][i] = np.matmul(L[i],fvec[t])\n",
    "            \n",
    "        t=t+1\n",
    "        if t==TT:\n",
    "            print(\"Algorithm did not converge\")\n",
    "    return sum(x[t-1])/sum(x_0), sum(fvec[t-1])/sum(f_0), t"
   ]
  },
  {
   "cell_type": "code",
   "execution_count": 25,
   "id": "35e86d71",
   "metadata": {},
   "outputs": [
    {
     "data": {
      "text/plain": [
       "(0.0, 0.0, 3)"
      ]
     },
     "execution_count": 25,
     "metadata": {},
     "output_type": "execute_result"
    }
   ],
   "source": [
    "names_ordered = order(A,L,f_max)\n",
    "result_priority = algo_priority(A, L, f_max, x_max, names_ordered, 30, prioritize=\"yes\")\n",
    "result_priority"
   ]
  },
  {
   "cell_type": "markdown",
   "id": "a9c9ec1e",
   "metadata": {},
   "source": [
    "## Random rationing"
   ]
  },
  {
   "cell_type": "markdown",
   "id": "b1fc2f04",
   "metadata": {},
   "source": [
    "Suppliers rank their customers randomly. The computations for this algorithm are the same as for\n",
    "the priority rationing method. The only difference is the ranking $h_{ij}$ of the customers of\n",
    "each industry $i$, which is now randomly taken. We implement the rationing algorithm\n",
    "by taking the average from $100$ samples."
   ]
  },
  {
   "cell_type": "code",
   "execution_count": 26,
   "id": "c0aa9281",
   "metadata": {},
   "outputs": [],
   "source": [
    "def algo_random(A, L, fmax, xmax, runs, prioritize = \"random\"):\n",
    "    x = []\n",
    "    y = []\n",
    "    while len(x)<runs:\n",
    "        random_ordered=[]\n",
    "        for i in range(N):\n",
    "            random_ordered.append([])\n",
    "    \n",
    "        for i in range(N):\n",
    "            while len(random_ordered[i])<N:\n",
    "                random = randrange(N)\n",
    "                while random in random_ordered[i]:\n",
    "                    random = randrange(N) # We take the indices of the j+1 ( with j from 0 to N-1) biggest suppliers  \n",
    "                random_ordered[i].append(random)\n",
    "\n",
    "        result = algo_priority(A, L, fmax, xmax, random_ordered, 25, prioritize=\"yes\")\n",
    "        result_x = result[0]\n",
    "        result_y = result[1]\n",
    "        t = result[2]\n",
    "        \n",
    "        x.append(result_x)\n",
    "        y.append(result_y)\n",
    "        \n",
    "    result_random = (sum(x)/len(x), sum(y)/len(y), t)\n",
    "    return result_random"
   ]
  },
  {
   "cell_type": "code",
   "execution_count": 27,
   "id": "a8cd81ca",
   "metadata": {},
   "outputs": [
    {
     "data": {
      "text/plain": [
       "(0.041568251038316115, 0.042717890348192504, 4)"
      ]
     },
     "execution_count": 27,
     "metadata": {},
     "output_type": "execute_result"
    }
   ],
   "source": [
    "result_random = algo_random(A, L, f_max, x_max, 100, prioritize = \"random\")\n",
    "result_random"
   ]
  },
  {
   "cell_type": "markdown",
   "id": "2b1b3d2d",
   "metadata": {},
   "source": [
    "### Summary of all the impact predicitions:"
   ]
  },
  {
   "cell_type": "code",
   "execution_count": 28,
   "id": "ded5d2aa",
   "metadata": {},
   "outputs": [
    {
     "name": "stdout",
     "output_type": "stream",
     "text": [
      "Optimalization: (x,f)\n",
      "------------------------\n",
      "(0.6133400575407387, 0.6399275423015803)\n",
      "(0.6133407028249319, 0.6399275423015828)\n",
      "------------------------\n",
      "Direct Shocks: (x, f)\n",
      "------------------------\n",
      "(0.7256416370029266, 0.8905066210075246)\n",
      "------------------------\n",
      "Rationing Methods: (x,f)\n",
      "------------------------\n",
      "(0.16225463865054215, 0.1687630239228383, 6)\n",
      "(0.4326791328395896, 0.4412252521612323, 3)\n",
      "(0.0, 0.0, 3)\n",
      "(0.041568251038316115, 0.042717890348192504, 4)\n"
     ]
    }
   ],
   "source": [
    "print(\"Optimalization: (x,f)\")\n",
    "print(\"------------------------\")\n",
    "print(Max_output)\n",
    "print(Max_consumption)\n",
    "print(\"------------------------\")\n",
    "print(\"Direct Shocks: (x, f)\")\n",
    "print(\"------------------------\")\n",
    "print(direct_shock)\n",
    "print(\"------------------------\")\n",
    "print(\"Rationing Methods: (x,f)\")\n",
    "print(\"------------------------\")\n",
    "print(result_proportional)\n",
    "print(result_mixed)\n",
    "print(result_priority)\n",
    "print(result_random)"
   ]
  },
  {
   "cell_type": "code",
   "execution_count": 30,
   "id": "a727bd04",
   "metadata": {},
   "outputs": [
    {
     "data": {
      "image/png": "[encoded data removed]",
      "text/plain": [
       "<Figure size 640x480 with 1 Axes>"
      ]
     },
     "metadata": {},
     "output_type": "display_data"
    }
   ],
   "source": [
    "plt.style.use('ggplot')\n",
    "plt.title(\"Italy\")\n",
    "plt.grid(visible=None, which='major', axis='both', linestyle='-', linewidth=1)\n",
    "\n",
    "plt.scatter(direct_shock[1], direct_shock[0],marker = '^', color= 'black')\n",
    "plt.scatter(Max_consumption[1], Max_consumption[0],marker = '^', color= 'red')\n",
    "#plt.scatter(Max_output[1], Max_output[0], marker = '^', color='orange')\n",
    "plt.scatter(result_proportional[1], result_proportional[0], marker = '^', color='green')\n",
    "plt.scatter(result_mixed[1], result_mixed[0], marker = '^', color='grey')\n",
    "plt.scatter(result_priority[1], result_priority[0], marker = '^', color='darkorange')\n",
    "plt.scatter(result_random[1], result_random[0],marker = '^', color= 'blue')\n",
    "\n",
    "\n",
    "plt.xlim(-0.09, 1) \n",
    "plt.ylim(-0.09, 1)\n",
    "plt.legend(['Direct shock', 'Optimization','Proportional','Mixed', 'Priority', 'Random'])\n",
    "plt.xlabel(\"Final Consumption (fraction of pre-shock level)\")\n",
    "plt.ylabel(\"Gross Output (fraction of pre-shock level)\")\n",
    "\n",
    "plt.savefig('plot_Italy.png')\n",
    "plt.show()"
   ]
  }
 ],
 "metadata": {
  "kernelspec": {
   "display_name": "venv test",
   "language": "python",
   "name": "venv"
  },
  "language_info": {
   "codemirror_mode": {
    "name": "ipython",
    "version": 3
   },
   "file_extension": ".py",
   "mimetype": "text/x-python",
   "name": "python",
   "nbconvert_exporter": "python",
   "pygments_lexer": "ipython3",
   "version": "3.10.11"
  }
 },
 "nbformat": 4,
 "nbformat_minor": 5
}
