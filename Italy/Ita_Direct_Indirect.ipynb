{
 "cells": [
  {
   "cell_type": "code",
   "execution_count": 1,
   "id": "d69dad87",
   "metadata": {},
   "outputs": [],
   "source": [
    "import pandas as pd\n",
    "import numpy as np\n",
    "import matplotlib.pyplot as plt\n",
    "from scipy.optimize import linprog\n",
    "from random import randrange"
   ]
  },
  {
   "cell_type": "markdown",
   "id": "d575f677",
   "metadata": {},
   "source": [
    "# Data for final consumption and total output"
   ]
  },
  {
   "cell_type": "markdown",
   "id": "d12500d2",
   "metadata": {},
   "source": [
    "For this case study, we use the input-output data of Germany. The data for the initial output level and final consumption level per industry as well as the supply and demand shock data is taken from:\n",
    "\n",
    "Pichler, A. and Farmer, J. D. (2021b). Simultaneous supply and demand constraints in\n",
    "input–output networks: the case of covid-19 in Germany, Italy and Spain (Version V1).\n",
    "Zenodo. https://doi.org/10.5281/zenodo.4326815"
   ]
  },
  {
   "cell_type": "markdown",
   "id": "9118cff0",
   "metadata": {},
   "source": [
    "## Final consumption"
   ]
  },
  {
   "cell_type": "markdown",
   "id": "83121ea0",
   "metadata": {},
   "source": [
    "**We define the initial and maximal consumption for each industry**"
   ]
  },
  {
   "cell_type": "code",
   "execution_count": 2,
   "id": "a0c01f4c",
   "metadata": {},
   "outputs": [],
   "source": [
    "fdata = pd.read_csv('fdata_ita.csv', sep = ',')\n",
    "fdata.head()\n",
    "f_0 = fdata.iloc[:,1].astype('float')\n",
    "f_max = np.array(fdata.iloc[:,3].astype('float'))\n",
    "demand_shock = np.zeros(f_max.shape[0])\n",
    "for i in range (0,f_max.shape[0]):\n",
    "    demand_shock[i] = round(1- f_max[i]/f_0[i],3)\n",
    "    \n",
    "demand_shock = np.array(demand_shock)"
   ]
  },
  {
   "cell_type": "markdown",
   "id": "2012b38d",
   "metadata": {},
   "source": [
    "## Total output"
   ]
  },
  {
   "cell_type": "code",
   "execution_count": 3,
   "id": "32e86384",
   "metadata": {},
   "outputs": [],
   "source": [
    "xdata =  pd.read_csv('xdata_ita.csv', sep = ',')\n",
    "xdata.tail()   \n",
    "x_0 = xdata.iloc[:,1].astype('float')\n",
    "x_max = np.array(xdata.iloc[:,3].astype('float'))\n",
    "supply_shock = np.zeros(x_max.shape[0])\n",
    "for i in range (0,x_max.shape[0]):\n",
    "    supply_shock[i] = round(1- x_max[i]/x_0[i],6)\n",
    "    \n",
    "supply_shock = np.array(supply_shock)"
   ]
  },
  {
   "cell_type": "markdown",
   "id": "97cb7425",
   "metadata": {},
   "source": [
    "# IO table "
   ]
  },
  {
   "cell_type": "code",
   "execution_count": 4,
   "id": "d00267df",
   "metadata": {},
   "outputs": [],
   "source": [
    "df = pd.read_csv('ita_wiot.csv',sep = ',',low_memory=False)"
   ]
  },
  {
   "cell_type": "markdown",
   "id": "09a5cdaf",
   "metadata": {},
   "source": [
    "### Intermediate demand matrix"
   ]
  },
  {
   "cell_type": "code",
   "execution_count": 5,
   "id": "1d58fb5b",
   "metadata": {},
   "outputs": [
    {
     "data": {
      "text/plain": [
       "(55, 55)"
      ]
     },
     "execution_count": 5,
     "metadata": {},
     "output_type": "execute_result"
    }
   ],
   "source": [
    "Z = pd.read_csv('ita_Zmatrix.csv', sep=',', low_memory=False)\n",
    "Z =  Z.iloc[:,1:]# leaving out industries U and T\n",
    "Z = Z.astype('float')\n",
    "Z = np.array(Z)\n",
    "N = Z.shape[0]\n",
    "Z.shape"
   ]
  },
  {
   "cell_type": "markdown",
   "id": "e32d8d62",
   "metadata": {},
   "source": [
    "**Creating matrix A**"
   ]
  },
  {
   "cell_type": "code",
   "execution_count": 6,
   "id": "1acf38f6",
   "metadata": {},
   "outputs": [
    {
     "data": {
      "text/plain": [
       "(55, 55)"
      ]
     },
     "execution_count": 6,
     "metadata": {},
     "output_type": "execute_result"
    }
   ],
   "source": [
    "df = df.iloc[:,1:]# leaving out industries U and T\n",
    "df = df.astype('float')\n",
    "df.shape\n",
    "A = np.array(df)\n",
    "N = A.shape[0]\n",
    "A.shape"
   ]
  },
  {
   "cell_type": "code",
   "execution_count": 7,
   "id": "4c9a64bb",
   "metadata": {},
   "outputs": [],
   "source": [
    "x_0 = np.array(x_0)\n",
    "f_0 = np.array(f_0)"
   ]
  },
  {
   "cell_type": "code",
   "execution_count": 8,
   "id": "fa335ff9",
   "metadata": {},
   "outputs": [],
   "source": [
    "L = np.linalg.inv(np.identity(N)-A)"
   ]
  },
  {
   "cell_type": "markdown",
   "id": "bed7504e",
   "metadata": {},
   "source": [
    "# Optimization"
   ]
  },
  {
   "cell_type": "markdown",
   "id": "02d604cd",
   "metadata": {},
   "source": [
    "### Maximizing total output"
   ]
  },
  {
   "cell_type": "code",
   "execution_count": 9,
   "id": "d972123d",
   "metadata": {},
   "outputs": [],
   "source": [
    "def max_output(N,L,A,xmax,fmax):\n",
    "    z = np.ones(N)\n",
    "    obj = -np.matmul(np.matrix.transpose(z), L)\n",
    "    lhs_ineq = np.concatenate((-L,L))\n",
    "    rhs_ineq = np.concatenate((np.zeros(N), xmax))\n",
    "    \n",
    "    bnd = []\n",
    "    for i in range (0,N):\n",
    "        bnd.append((0,fmax[i]))\n",
    "    \n",
    "    result = linprog(c = obj, A_ub= lhs_ineq, b_ub= rhs_ineq, bounds = bnd)\n",
    "    \n",
    "    optimal_output = -result.fun\n",
    "    \n",
    "    optimal_f = np.ones(N)\n",
    "    for i in range(0,N):\n",
    "        optimal_f[i] = result.x[i]\n",
    "    \n",
    "    return result.success, optimal_output/sum(x_0), sum(optimal_f)/sum(f_0)"
   ]
  },
  {
   "cell_type": "markdown",
   "id": "4264b266",
   "metadata": {},
   "source": [
    "### Maximizing final consumption"
   ]
  },
  {
   "cell_type": "code",
   "execution_count": 10,
   "id": "06569485",
   "metadata": {},
   "outputs": [],
   "source": [
    "def max_consumption(N,L,A,xmax,fmax):\n",
    "    z = np.ones(N)\n",
    "    obj2 = -np.matmul(np.matrix.transpose(z), np.identity(N)-A)\n",
    "    lhs_ineq2 = np.concatenate((-(np.identity(N)-A), np.identity(N)-A))\n",
    "    rhs_ineq2 = np.concatenate((np.zeros(N), fmax))\n",
    "    \n",
    "    bnd2 = []\n",
    "    for i in range (0,N):\n",
    "        bnd2.append((0,xmax[i]))\n",
    "        \n",
    "    result2 = linprog(c = obj2, A_ub= lhs_ineq2, b_ub= rhs_ineq2, bounds= bnd2)\n",
    "    optimal_f_2 = -result2.fun\n",
    "    \n",
    "    optimal_output_2 = np.ones(N)\n",
    "    for i in range(0,N):\n",
    "        optimal_output_2[i] = round(result2.x[i])\n",
    "        \n",
    "    return result2.success, sum(optimal_output_2)/sum(x_0), optimal_f_2/sum(f_0)"
   ]
  },
  {
   "cell_type": "markdown",
   "id": "4bac4370",
   "metadata": {},
   "source": [
    "# Rationing"
   ]
  },
  {
   "cell_type": "code",
   "execution_count": 11,
   "id": "e3023342",
   "metadata": {},
   "outputs": [],
   "source": [
    "f_max = f_max[:54]\n",
    "x_max = x_max[:54]\n",
    "A = A[:54,:54]\n",
    "Z = Z[:54,:54]\n",
    "N = 54\n",
    "x_0 = x_0[:54]\n",
    "f_0 = f_0[:54]\n",
    "L = np.linalg.inv(np.identity(N)-A)\n",
    "supply_shock = np.array(supply_shock[:54])\n",
    "demand_shock = np.array(demand_shock[:54])"
   ]
  },
  {
   "cell_type": "markdown",
   "id": "3b249df9",
   "metadata": {},
   "source": [
    "## Proportional Rationing"
   ]
  },
  {
   "cell_type": "code",
   "execution_count": 12,
   "id": "7bfeaa17",
   "metadata": {},
   "outputs": [],
   "source": [
    "def algo_proportional(A, L, fmax, xmax, TT, prioritize=\"no\"):\n",
    "    x = [0]\n",
    "    fvec = []          # initial demand vector\n",
    "    fvec.append(fmax)\n",
    "    r = [0]            # output constraints\n",
    "    s = [0]            # input bottlenecks \n",
    "    d = [0]            # aggregated demand vector \n",
    "    d.append(np.matmul(L, fvec[0])) #d[1] = L*f[0]\n",
    "\n",
    "    list_ = [1] \n",
    "    t=1\n",
    "    epsilon = 1e-6\n",
    "    while not np.all(abs(d[t] - d[t-1]) < epsilon) and t<TT:\n",
    "        #print('\\nIteration {0}'.format(t))\n",
    "        #print('---------')\n",
    "        #print('Initial aggregated demand: {}'.format(d[t]))\n",
    "        r.append(np.ones(len(xmax)))\n",
    "        s.append(np.ones(len(xmax)))\n",
    "        fvec.append(np.ones(len(xmax)))\n",
    "        x.append(np.ones(len(xmax)))\n",
    "        d.append(np.ones(len(xmax)))\n",
    "        \n",
    "        ##########################################\n",
    "        ########### Output constraints ###########\n",
    "        ##########################################\n",
    "        for i in range (0,len(x_max)):\n",
    "            r[t][i] = xmax[i]/d[t][i]\n",
    "        #print('Output constraints:{}'.format(r[t]))\n",
    "        \n",
    "        ##########################################\n",
    "        ########### Input bottlenecks ############\n",
    "        ##########################################\n",
    "        for i in range(0,len(x_max)):\n",
    "            for j in range(0,len(x_max)):\n",
    "                if A[j][i] > 0: \n",
    "                    list_.append(r[t][j])\n",
    "            s[t][i] = min(list_)\n",
    "            list_ = [1]\n",
    "        #print('Input bottlenecks:{}'.format(s[t]))\n",
    "        \n",
    "        ##############################################\n",
    "        ########### Constrained Production ###########\n",
    "        ##############################################\n",
    "        for i in range(0,len(xmax)):\n",
    "            x[t][i] = min(xmax[i], s[t][i]*d[t][i])\n",
    "        #print('Constrained production:{}'.format(x[t]))\n",
    "        \n",
    "        ##############################################\n",
    "        ############ Constrained Delivery ############\n",
    "        ##############################################\n",
    "        for i in range(0,len(xmax)):\n",
    "            fvec[t][i] = max(x[t][i] - np.matmul(A[i],x[t]),0)\n",
    "        #print('Constrained delivery:{}'.format(fvec[t]))\n",
    "        \n",
    "        ###############################################\n",
    "        ############ New Aggregated Demand ############\n",
    "        ###############################################\n",
    "        for i in range(0,len(xmax)):\n",
    "            d[t+1][i] = np.matmul(L[i],fvec[t])\n",
    "        t=t+1\n",
    "        #print('Aggregated Demand:         {}'.format(d[t]))\n",
    "        if t == TT:\n",
    "            print(\"Algoritm did not converge\")\n",
    "            \n",
    "    return sum(x[t-1])/sum(x_0), sum(fvec[t-1])/sum(f_0), t, x[t-1], fvec[t-1]\n"
   ]
  },
  {
   "cell_type": "markdown",
   "id": "01da307a",
   "metadata": {},
   "source": [
    "# Direct versus Indirect shocks"
   ]
  },
  {
   "cell_type": "code",
   "execution_count": 13,
   "id": "49e6e2f8",
   "metadata": {},
   "outputs": [
    {
     "data": {
      "text/plain": [
       "array([9.98785890e-02, 3.82343835e-02, 1.00000000e-01, 9.99506800e-02,\n",
       "       9.99063186e-02, 9.98695012e-02, 9.94444564e-02, 9.99646212e-02,\n",
       "       9.99371577e-02, 9.99884660e-02, 9.98802030e-02, 9.77490980e-02,\n",
       "       9.99462681e-02, 9.98766560e-02, 9.99679092e-02, 9.98838944e-02,\n",
       "       9.98317327e-02, 9.98592224e-02, 9.99440685e-02, 9.99430029e-02,\n",
       "       9.97995810e-02, 9.99160962e-02, 9.99481915e-02, 1.24668415e-02,\n",
       "       6.05242218e-03, 1.72337185e-02, 9.87874427e-02, 9.98933010e-02,\n",
       "       9.85340279e-02, 9.76352734e-02, 5.52431913e-01, 4.72643427e-01,\n",
       "       4.72788174e-01, 3.34714053e-01, 3.43234391e-02, 7.90505564e-01,\n",
       "       4.00827653e-02, 3.46055278e-02, 3.01042309e-02, 8.48399924e-02,\n",
       "       1.59935321e-02, 1.10906842e-02, 4.89602880e-02, 5.48565439e-03,\n",
       "       5.20857755e-02, 8.35910240e-02, 9.80099401e-02, 9.18149704e-02,\n",
       "       5.01673294e-02, 4.94966900e-02, 2.76922319e-04, 2.25262440e-04,\n",
       "       1.46021152e-03, 4.65514633e-02])"
      ]
     },
     "execution_count": 13,
     "metadata": {},
     "output_type": "execute_result"
    }
   ],
   "source": [
    "direct_shock = (sum(x_max)/sum(x_0),sum(f_max)/sum(f_0))\n",
    "direct_shock\n",
    "\n",
    "direct_shocks = np.zeros(54)\n",
    "for i in range(54):\n",
    "    direct_shocks[i] = 1-x_max[i]/x_0[i]\n",
    "direct_shock\n",
    "\n",
    "direct_shocks_f = np.zeros(54)\n",
    "for i in range(54):\n",
    "    direct_shocks_f[i] = 1-f_max[i]/f_0[i]\n",
    "direct_shocks_f"
   ]
  },
  {
   "cell_type": "code",
   "execution_count": 14,
   "id": "e5f63ecd",
   "metadata": {},
   "outputs": [],
   "source": [
    "result_proportional = algo_proportional(A, L, f_max, x_max, TT = 30, prioritize=\"no\")\n",
    "result_proportional\n",
    "\n",
    "result_x = result_proportional[3]\n",
    "shocks_proportional = np.zeros(54)\n",
    "for i in range(54):\n",
    "    shocks_proportional[i] = 1-result_x[i]/x_0[i]"
   ]
  },
  {
   "cell_type": "code",
   "execution_count": 15,
   "id": "fc4d9e93",
   "metadata": {},
   "outputs": [
    {
     "data": {
      "image/png": "[encoded data removed]",
      "text/plain": [
       "<Figure size 640x480 with 1 Axes>"
      ]
     },
     "metadata": {},
     "output_type": "display_data"
    }
   ],
   "source": [
    "plt.style.use('ggplot')\n",
    "plt.title(\"Italy: Direct versus amplified supply shocks\")\n",
    "plt.grid(visible=None, which='major', axis='both', linestyle='-', linewidth=1)\n",
    "\n",
    "\n",
    "for i in range(0,3):\n",
    "    plt.scatter(direct_shocks[i], shocks_proportional[i], s=40, marker = 'o', color = 'b')\n",
    "    \n",
    "plt.scatter(direct_shocks[3], shocks_proportional[3], marker = 'o', color = 'black')\n",
    "plt.scatter(direct_shocks[23], shocks_proportional[23], marker = 's',s=50, color = 'm')\n",
    "plt.scatter(direct_shocks[26], shocks_proportional[26], marker = 'o', color = 'y')\n",
    "plt.scatter(direct_shocks[35], shocks_proportional[35], marker = 'o', color = 'brown')\n",
    "plt.scatter(direct_shocks[43], shocks_proportional[43], marker = 'o', color = 'magenta')\n",
    "\n",
    "for i in range(4,23):\n",
    "    plt.scatter(direct_shocks[i], shocks_proportional[i], s = 20, marker = 'o', color = 'r')\n",
    "\n",
    "for i in range(24,26):\n",
    "    plt.scatter(direct_shocks[i], shocks_proportional[i], marker = 'o', color = 'g')\n",
    "\n",
    "for i in range(27,30):\n",
    "    plt.scatter(direct_shocks[i], shocks_proportional[i], marker = 'o', color = 'c')\n",
    "for i in range(30,35):\n",
    "    plt.scatter(direct_shocks[i], shocks_proportional[i], marker = 'o', color = 'orange')\n",
    "    \n",
    "for i in range(36,40):\n",
    "    plt.scatter(direct_shocks[i], shocks_proportional[i], marker = 'o', color = 'lime')\n",
    "    \n",
    "for i in range(40,43):\n",
    "    plt.scatter(direct_shocks[i], shocks_proportional[i], marker = 'o', color = 'blueviolet')\n",
    "    \n",
    "for i in range(44,49):\n",
    "    plt.scatter(direct_shocks[i], shocks_proportional[i], marker = 'o', color = 'deeppink')\n",
    "\n",
    "    \n",
    "plt.scatter(direct_shocks[49], shocks_proportional[49], marker = 'o', color = 'salmon')\n",
    "plt.scatter(direct_shocks[50], shocks_proportional[50], marker = 'o', color = 'coral')\n",
    "plt.scatter(direct_shocks[51], shocks_proportional[51], marker = 'o', color = 'chocolate')\n",
    "plt.scatter(direct_shocks[52], shocks_proportional[52], marker = 'o', color = 'peru')\n",
    "plt.scatter(direct_shocks[53], shocks_proportional[53], marker = 'o', color = 'goldenrod')\n",
    "#plt.scatter(direct_shocks[54], shocks_proportional[54], marker = 'o', color = 'olive')\n",
    "\n",
    "\n",
    "import matplotlib.patches as mpatches\n",
    "blue_patch = mpatches.Patch(color='b', label='A: Agriculture')\n",
    "black_patch =  mpatches.Patch(color='black', label='B: Mining')\n",
    "red_patch = mpatches.Patch(color='r', label='C: Manufacturing')\n",
    "purple_patch = mpatches.Patch(color='m', label = 'D:Electricity')\n",
    "green_patch = mpatches.Patch(color='g', label='E: Utilities')\n",
    "yellow_patch = mpatches.Patch(color='y', label='F: Construction')\n",
    "cyan_patch = mpatches.Patch(color='c', label='G: Trade')\n",
    "orange_patch = mpatches.Patch(color='orange', label='H: Transport')\n",
    "brown_patch = mpatches.Patch(color='brown', label='I: Accommodation')\n",
    "lime_patch = mpatches.Patch(color='lime', label='J: ICT')\n",
    "violet_patch = mpatches.Patch(color='blueviolet', label='K: Finance')\n",
    "magenta_patch = mpatches.Patch(color='magenta', label='L: Real Estate')\n",
    "pink_patch = mpatches.Patch(color= 'deeppink', label = 'M: Business Services')\n",
    "\n",
    "salmon_patch = mpatches.Patch(color='salmon', label='N: Private Administration')\n",
    "coral_patch = mpatches.Patch(color='coral', label='O: Public Administration')\n",
    "chocolate_patch = mpatches.Patch(color='chocolate', label='P: Education')\n",
    "peru_patch = mpatches.Patch(color='peru', label='Q: Health')\n",
    "goldenrod_patch = mpatches.Patch(color='goldenrod', label='R: Other Services')\n",
    "#olive_patch = mpatches.Patch(color= 'olive', label = 'T: Household Activities')\n",
    "\n",
    "plt.legend(loc='right', bbox_to_anchor=(1.5, 0.5), handles=[blue_patch, black_patch, red_patch, purple_patch, green_patch, yellow_patch, cyan_patch, orange_patch, brown_patch, lime_patch, violet_patch, \n",
    "                    magenta_patch, pink_patch, salmon_patch, coral_patch, chocolate_patch, peru_patch, goldenrod_patch])\n",
    "\n",
    "#plt.xlim(-0.05, 1) \n",
    "#plt.ylim(-0.00,1)\n",
    "#plt.rcParams['text.usetex'] = True\n",
    "plt.xlabel('Direct supply shock')\n",
    "plt.ylabel(\"Amplified supply shock\")\n",
    "#plt.legend(['Agriculture', 'Mining'])\n",
    "plt.savefig('plot_ita_direct_apmlified.png',bbox_inches='tight')"
   ]
  },
  {
   "cell_type": "code",
   "execution_count": 16,
   "id": "e869b574",
   "metadata": {},
   "outputs": [],
   "source": [
    "result_proportional\n",
    "result_f = result_proportional[4]\n",
    "shocks_proportional_d = np.zeros(54)\n",
    "for i in range(54):\n",
    "    shocks_proportional_d[i] = 1-result_f[i]/f_0[i]"
   ]
  },
  {
   "cell_type": "code",
   "execution_count": 17,
   "id": "6277f08e",
   "metadata": {},
   "outputs": [
    {
     "data": {
      "image/png": "[encoded data removed]",
      "text/plain": [
       "<Figure size 640x480 with 1 Axes>"
      ]
     },
     "metadata": {},
     "output_type": "display_data"
    }
   ],
   "source": [
    "plt.style.use('ggplot')\n",
    "plt.title(\"Italy: Direct versus amplified demand shocks\")\n",
    "plt.grid(visible=None, which='major', axis='both', linestyle='-', linewidth=1)\n",
    "#fig = plt.plot()\n",
    "\n",
    "for i in range(0,3):\n",
    "    plt.scatter(direct_shocks_f[i], shocks_proportional_d[i], s=40, marker = 'o', color = 'b')\n",
    "    \n",
    "plt.scatter(direct_shocks_f[3], shocks_proportional_d[3], marker = 'o', color = 'black')\n",
    "plt.scatter(direct_shocks_f[23], shocks_proportional_d[23], marker = 'o',s=50, color = 'm')\n",
    "plt.scatter(direct_shocks_f[26], shocks_proportional_d[26], marker = 'o', color = 'y')\n",
    "plt.scatter(direct_shocks_f[35], shocks_proportional_d[35], marker = 'o', color = 'brown')\n",
    "plt.scatter(direct_shocks_f[43], shocks_proportional_d[43], marker = 'o', color = 'magenta')\n",
    "\n",
    "for i in range(4,23):\n",
    "    plt.scatter(direct_shocks_f[i], shocks_proportional_d[i], s = 20, marker = 'o', color = 'r')\n",
    "\n",
    "for i in range(24,26):\n",
    "    plt.scatter(direct_shocks_f[i], shocks_proportional_d[i], marker = 'o', color = 'g')\n",
    "\n",
    "for i in range(27,30):\n",
    "    plt.scatter(direct_shocks_f[i], shocks_proportional_d[i], marker = 'o', color = 'c')\n",
    "for i in range(30,35):\n",
    "    plt.scatter(direct_shocks_f[i], shocks_proportional_d[i], marker = 'o', color = 'orange')\n",
    "    \n",
    "for i in range(36,40):\n",
    "    plt.scatter(direct_shocks_f[i], shocks_proportional_d[i], marker = 'o', color = 'lime')\n",
    "    \n",
    "for i in range(40,43):\n",
    "    plt.scatter(direct_shocks_f[i], shocks_proportional_d[i], marker = 'o', color = 'blueviolet')\n",
    "    \n",
    "for i in range(44,49):\n",
    "    plt.scatter(direct_shocks_f[i], shocks_proportional_d[i], marker = 'o', color = 'deeppink')\n",
    "\n",
    "    \n",
    "plt.scatter(direct_shocks_f[49], shocks_proportional_d[49], marker = 'o', color = 'salmon')\n",
    "plt.scatter(direct_shocks_f[50], shocks_proportional_d[50], marker = 'o', color = 'coral')\n",
    "plt.scatter(direct_shocks_f[51], shocks_proportional_d[51], marker = 'o', color = 'chocolate')\n",
    "plt.scatter(direct_shocks_f[52], shocks_proportional_d[52], marker = 'o', color = 'peru')\n",
    "plt.scatter(direct_shocks_f[53], shocks_proportional_d[53], marker = 'o', color = 'goldenrod')\n",
    "#plt.scatter(direct_shocks[54], shocks_proportional[54], marker = 'o', color = 'olive')\n",
    "\n",
    "\n",
    "import matplotlib.patches as mpatches\n",
    "blue_patch = mpatches.Patch(color='b', label='A: Agriculture')\n",
    "black_patch =  mpatches.Patch(color='black', label='B: Mining')\n",
    "red_patch = mpatches.Patch(color='r', label='C: Manufacturing')\n",
    "purple_patch = mpatches.Patch(color='m', label = 'D:Electricity')\n",
    "green_patch = mpatches.Patch(color='g', label='E: Utilities')\n",
    "yellow_patch = mpatches.Patch(color='y', label='F: Construction')\n",
    "cyan_patch = mpatches.Patch(color='c', label='G: Trade')\n",
    "orange_patch = mpatches.Patch(color='orange', label='H: Transport')\n",
    "brown_patch = mpatches.Patch(color='brown', label='I: Accommodation')\n",
    "lime_patch = mpatches.Patch(color='lime', label='J: ICT')\n",
    "violet_patch = mpatches.Patch(color='blueviolet', label='K: Finance')\n",
    "magenta_patch = mpatches.Patch(color='magenta', label='L: Real Estate')\n",
    "pink_patch = mpatches.Patch(color= 'deeppink', label = 'M: Business Services')\n",
    "\n",
    "salmon_patch = mpatches.Patch(color='salmon', label='N: Private Administration')\n",
    "coral_patch = mpatches.Patch(color='coral', label='O: Public Administration')\n",
    "chocolate_patch = mpatches.Patch(color='chocolate', label='P: Education')\n",
    "peru_patch = mpatches.Patch(color='peru', label='Q: Health')\n",
    "goldenrod_patch = mpatches.Patch(color='goldenrod', label='R: Other Services')\n",
    "#olive_patch = mpatches.Patch(color= 'olive', label = 'T: Household Activities')\n",
    "\n",
    "plt.legend(loc='right', bbox_to_anchor=(1.5, 0.5), handles=[blue_patch, black_patch, red_patch, purple_patch, green_patch, yellow_patch, cyan_patch, orange_patch, brown_patch, lime_patch, violet_patch, \n",
    "                    magenta_patch, pink_patch, salmon_patch, coral_patch, chocolate_patch, peru_patch, goldenrod_patch])\n",
    "\n",
    "#plt.xlim(-0.05, 1) \n",
    "#plt.ylim(0.79,1)\n",
    "#plt.rcParams['text.usetex'] = True\n",
    "plt.xlabel('Direct demand shock')\n",
    "plt.ylabel(\"Amplified demand shock\")\n",
    "#plt.legend(['Agriculture', 'Mining'])\n",
    "#plt.set_size_inches(10, 10)\n",
    "plt.savefig('plot_ita_direct_apmlified_demand.png', bbox_inches='tight')"
   ]
  },
  {
   "cell_type": "markdown",
   "id": "e48172c7",
   "metadata": {},
   "source": [
    "## Mixed priority/proportional rationing"
   ]
  },
  {
   "cell_type": "markdown",
   "id": "31431ffd",
   "metadata": {},
   "source": [
    "We implement the rationing algorithm in the following way:\n",
    "1. Industries determine their total demand as if there were no supply-side constraints, $d = Lf^{\\text{max}}$;\n",
    "2. Industries evaluate if they are able to satisfy demand given their constrained production capacities;\n",
    "3. Industries that only partially satisfy demand, create a bottleneck;\n",
    "4. Industries reduce their production according to the largest input bottleneck (assumption of fixed recipes);\n",
    "5. The total amount of goods delivered to the final consumer is computed;\n",
    "6. Iterate 1-5 until there are no input constraints left.\n",
    "\n",
    "Formulas:\n",
    "\n",
    "$$ r_i[t] = \\frac{x_i^{\\text{max}}}{\\sum_{j}A_{ij}d_j[t]} $$\n",
    "\n",
    "$$ s_i[t] = min_j \\{r_j[t], 1\\} $$\n",
    "\n",
    "$$ x_i[t] = \\text{min}\\{x_i^{\\text{max}}, s_i[t]d_i[t]\\} $$\n",
    "\n",
    "$$ f_i[t] = \\text{max} \\Big\\{ x_i[t] - \\sum_{i} a_{ij} x_j[t], 0 \\Big\\}$$\n",
    "\n",
    "$$ d_i[t+1] = \\sum_{j} l_{ij} f_j[t] $$\n",
    "\n",
    "The algorithm converges to a new feasible economic allocation if $d_i[t+1] = d_i[t]$ for all i.\n",
    "\n",
    "*Implementation*"
   ]
  },
  {
   "cell_type": "code",
   "execution_count": 18,
   "id": "8b4c14db",
   "metadata": {},
   "outputs": [],
   "source": [
    "def algo_mixed(A, L, fmax, xmax, TT,prioritize=\"yes\"):\n",
    "    x = [0]\n",
    "    fvec = [] # initial demand vector\n",
    "    fvec.append(fmax)\n",
    "    r = [0]   # output constraints\n",
    "    s = [0]   # input bottlenecks \n",
    "    d = [0]   # aggregated demand vector \n",
    "    d.append(np.matmul(L, fvec[0])) #d[1] = L*f[0]\n",
    "    \n",
    "    list_ = [1] \n",
    "    t=1\n",
    "    epsilon = 1e-6\n",
    "    while not np.all(abs(d[t] - d[t-1]) < epsilon) and t<TT:\n",
    "        #print('\\nIteration {0}'.format(t))\n",
    "        #print('---------')\n",
    "        #print('Initial aggregated demand: {}'.format(d[t]))\n",
    "        r.append(np.ones(len(xmax)))\n",
    "        s.append(np.ones(len(xmax)))\n",
    "        fvec.append(np.ones(len(xmax)))\n",
    "        x.append(np.ones(len(xmax)))\n",
    "        d.append(np.ones(len(xmax)))\n",
    "        \n",
    "        ##########################################\n",
    "        ########### Output constraints ###########\n",
    "        ##########################################\n",
    "        for i in range (0,len(x_max)):\n",
    "            r[t][i] = xmax[i]/np.matmul(A[i],d[t])\n",
    "        #print('Output constraints:         {}'.format(r[t]))\n",
    "        \n",
    "        ##########################################\n",
    "        ########### Input bottlenecks ############\n",
    "        ##########################################\n",
    "        for i in range(0,len(x_max)):\n",
    "            for j in range(0,len(x_max)):\n",
    "                if A[j][i] > 0:\n",
    "                    list_.append(r[t][j])\n",
    "            s[t][i] = min(list_)\n",
    "            list_ = [1]\n",
    "        #print('Input bottlenecks:         {}'.format(s[t]))\n",
    "        \n",
    "        ##############################################\n",
    "        ########### Constrained Production ###########\n",
    "        ##############################################\n",
    "        for i in range(0,len(xmax)):\n",
    "            x[t][i] = min(xmax[i], s[t][i]*d[t][i])\n",
    "            #print(s[t][i]*d[t][i])\n",
    "        \n",
    "        ##############################################\n",
    "        ############ Constrained Delivery ############\n",
    "        ##############################################\n",
    "        \n",
    "        for i in range(0,len(xmax)):\n",
    "            #print(np.matmul(A[i],s[t]*d[t]))\n",
    "            fvec[t][i] = max(x[t][i] - np.matmul(A[i],x[t]),0) \n",
    "        #print('Constrained delivery:      {}'.format(fvec[t]))\n",
    "        \n",
    "        ###############################################\n",
    "        ############ New Aggregated Demand ############\n",
    "        ###############################################\n",
    "        for i in range(0,len(xmax)):\n",
    "            d[t+1][i] = np.matmul(L[i],fvec[t])\n",
    "        t=t+1\n",
    "    \n",
    "    if t == TT:\n",
    "        print(\"Algoritm did not converge\")\n",
    "        \n",
    "    return sum(x[t-1])/sum(x_0), sum(fvec[t-1])/sum(f_0), t"
   ]
  },
  {
   "cell_type": "markdown",
   "id": "ccef6611",
   "metadata": {},
   "source": [
    "## Priority rationing"
   ]
  },
  {
   "cell_type": "markdown",
   "id": "aaa91a63",
   "metadata": {},
   "source": [
    "Largest first rationing; firms are prioritized over the final consumer. Take\n",
    "an initial demand vector $f[0] = f$\n",
    "max as given, implying an initial aggregate demand vector\n",
    "$d[1] = Lf[0]$. Every firm $i$ ranks each customers based on initial demand size. Let  $h_{ij}$ be the $j$ largest customers of firm $i$: $h_{ij} =\n",
    "\\{k(1), k(2), ..., k(j)\n",
    ": A_{ik(1)}d_{k(1)} [1] ≥ A_{ik(2)}d_{k(2)} [1] ≥ ... ≥ A_{ik(j)}\n",
    "d_{k(j)}[1] \\}$. By looping over the\n",
    "index $t = {1, 2, ...}$, the following system is iterated forward:\n",
    "\n",
    "Formulas:\n",
    "\n",
    "$$ r_{ij}[t] = \\frac{x_i^{\\text{max}}}{\\sum_{n\\in h_{ij}}A_{ih(j)}d_{n_{(j)}}[t]} $$\n",
    "\n",
    "$$ s_i[t] = min_j \\{r_{ji}[t], 1\\} $$\n",
    "\n",
    "$$ x_i[t] = \\text{min}\\{x_i^{\\text{max}}, s_i[t]d_i[t]\\} $$\n",
    "\n",
    "$$ f_i[t] = \\text{max} \\Big\\{ x_i[t] - \\sum_{i} a_{ij} x_j[t], 0 \\Big\\}$$\n",
    "\n",
    "$$ d_i[t+1] = \\sum_{j} l_{ij} f_j[t] $$\n",
    "\n",
    "The algorithm converges to a new feasible economic allocation if $d_i[t+1] = d_i[t]$ for all i."
   ]
  },
  {
   "cell_type": "code",
   "execution_count": 19,
   "id": "3a90b1f7",
   "metadata": {},
   "outputs": [],
   "source": [
    "def order(A, L, fmax):\n",
    "    d = np.matmul(L, fmax)\n",
    "    list_1 = []      # list we will sort\n",
    "    list_2 = []      # list that will not be sorted to find the original indices\n",
    "    for i in range(A.shape[0]):\n",
    "        list_1.append([])\n",
    "        list_2.append([])\n",
    "    for i in range(A.shape[0]):\n",
    "        for j in range(A.shape[0]):\n",
    "            list_1[i].append(A[i][j]*d[j])    # list_1[i][j] = list_2[i][j] = A[i][j]*d[j]\n",
    "            list_2[i].append(A[i][j]*d[j])\n",
    "        list_1[i].sort(reverse = True)        # we sort list_1: A[i][j]*d[j] >= A[i][j+1]*d[j+1]\n",
    "\n",
    "    names_ordered=[]\n",
    "    for i in range(A.shape[0]):\n",
    "        names_ordered.append([])\n",
    "    \n",
    "    for i in range(A.shape[0]):\n",
    "        for k in list_1[i]:                  # we take the indices of the j+1 (j from 0 to N-1) biggest suppliers of industry i. \n",
    "                for l in range(A.shape[0]):    \n",
    "                    if list_2[i][l] == k:\n",
    "                        names_ordered[i].append(l)   \n",
    "    return names_ordered"
   ]
  },
  {
   "cell_type": "code",
   "execution_count": 20,
   "id": "18fdf5b6",
   "metadata": {},
   "outputs": [],
   "source": [
    "def algo_priority(A, L, fmax, xmax, ordered, TT, prioritize=\"yes\"):                 \n",
    "    x = [0]\n",
    "    fvec = []   # initial demand vector\n",
    "    fvec.append(fmax)\n",
    "    rvec = [0]  # output constraints\n",
    "    s = [0]     # input bottlenecks \n",
    "    d = [0]     # aggregated demand vector \n",
    "    d.append(np.matmul(L, fvec[0])) #d[1] = L*f[0]\n",
    "    \n",
    "    list_ = [1] \n",
    "    t=1\n",
    "    epsilon = 1e-6\n",
    "    \n",
    "    while not np.all(abs(d[t] - d[t-1]) < epsilon) and t<TT:\n",
    "        #print('\\nIteration {0}'.format(t))\n",
    "        #print('---------')\n",
    "        #print('Initial aggregated demand: {}'.format(d[t]))\n",
    "        rvec.append([np.zeros(N)])\n",
    "        s.append(np.ones(N))\n",
    "        fvec.append(np.ones(N))\n",
    "        x.append(np.ones(N))\n",
    "        d.append(np.ones(N))\n",
    "        demand = np.identity(N)\n",
    "        \n",
    "        som = 0\n",
    "        for i in range(0,N):\n",
    "            for j in range(0,N):\n",
    "                for k in ordered[i][:j+1]:\n",
    "                    som = som + A[i][k]*d[t][k] \n",
    "                demand[i][j] = som   #demand[i][j] = demand of j'th biggest customers of firm i summed up\n",
    "                som = 0\n",
    "        remainder = np.identity(N)\n",
    "    \n",
    "        for i in range(0,N):\n",
    "            for j in range(0,N):\n",
    "                remainder[i][j] = xmax[i] - demand[i][j]\n",
    "                \n",
    "        ####################################################\n",
    "        ####################### rvec #######################\n",
    "        ####################################################\n",
    "        for i in range(0,N):\n",
    "            rvec[t].append([])\n",
    "        for i in range(0,N):\n",
    "            if all(remainder[i][j]>0 for j in range(0,N)):\n",
    "                rvec[t][i] = np.ones(N) \n",
    "            elif all(remainder[i][j]<=0 for j in range(0,N)): \n",
    "                rvec[t][i] = np.zeros(N)\n",
    "                for k in ordered[i][:1]: \n",
    "                    rvec[t][i][k] = xmax[i]/demand[i][0]\n",
    "        \n",
    "            else: \n",
    "                idx = np.where(remainder[i]<=0) # index for partially met demand\n",
    "                idx_fully = np.where(remainder[i]>0) \n",
    "                length = len(idx_fully[0])\n",
    "                rvec[t][i] = np.zeros(N)\n",
    "                for l in range(0,length-1):\n",
    "                    index = ordered[i][l]\n",
    "                    rvec[t][i][index] = 1\n",
    "                m = ordered[i][length-1]\n",
    "                rvec[t][i][m] = remainder[i][length-1]/(demand[i][length]-demand[i][length-1])\n",
    "          \n",
    "        #####################################################\n",
    "        ################# Input bottlenecks #################\n",
    "        #####################################################\n",
    "        for i in range(0,N):\n",
    "            for j in range(0,N):\n",
    "                if A[j][i]>0:\n",
    "                    list_.append(rvec[t][j][i])\n",
    "            s[t][i] = min(list_)\n",
    "            list_ = [1]   \n",
    "        #print('Input bottlenecks:         {}'.format(s[t]))\n",
    "        \n",
    "        ######################################################\n",
    "        ############### Constrained Production ###############\n",
    "        ######################################################\n",
    "        for i in range(0,N):\n",
    "            x[t][i] = min(xmax[i], s[t][i]*d[t][i])\n",
    "        #print(x)\n",
    "        \n",
    "        ######################################################\n",
    "        ################ Constrained Delivery ################\n",
    "        ######################################################\n",
    "        for i in range(0,len(xmax)):\n",
    "            fvec[t][i] = max(x[t][i] - np.matmul(A[i],x[t]),0)\n",
    "        \n",
    "        ######################################################\n",
    "        ################ Aggregated demand ###################\n",
    "        ######################################################\n",
    "        for i in range(0,len(xmax)):\n",
    "            d[t+1][i] = np.matmul(L[i],fvec[t])\n",
    "            \n",
    "        t=t+1\n",
    "        if t==TT:\n",
    "            print(\"Algorithm did not converge\")\n",
    "            return(None, None)\n",
    "        #print(d[t])\n",
    "    return sum(x[t-1])/sum(x_0), sum(fvec[t-1])/sum(f_0), t"
   ]
  },
  {
   "cell_type": "markdown",
   "id": "abd98788",
   "metadata": {},
   "source": [
    "## Random rationing"
   ]
  },
  {
   "cell_type": "code",
   "execution_count": 21,
   "id": "71467e93",
   "metadata": {},
   "outputs": [],
   "source": [
    "def algo_random(A, L, fmax, xmax, runs, prioritize = \"random\"):\n",
    "    x = []\n",
    "    y = []\n",
    "    while len(x)<runs:\n",
    "        random_ordered=[]\n",
    "        for i in range(N):\n",
    "            random_ordered.append([])\n",
    "    \n",
    "        for i in range(N):\n",
    "            while len(random_ordered[i])<N:\n",
    "                random = randrange(N)\n",
    "                while random in random_ordered[i]:\n",
    "                    random = randrange(N)# we willen nu de indices van de j+1 (j van 0 tot en met N-1) grootste suppliers  \n",
    "                random_ordered[i].append(random)\n",
    "                \n",
    "        result = algo_priority(A, L, fmax, xmax, random_ordered, TT = 25, prioritize=\"yes\")\n",
    "        if result[0] != None:\n",
    "            x.append(result[0])\n",
    "            y.append(result[1])\n",
    "    return sum(x)/len(x), sum(y)/len(y), len(x)"
   ]
  }
 ],
 "metadata": {
  "kernelspec": {
   "display_name": "venv test",
   "language": "python",
   "name": "venv"
  },
  "language_info": {
   "codemirror_mode": {
    "name": "ipython",
    "version": 3
   },
   "file_extension": ".py",
   "mimetype": "text/x-python",
   "name": "python",
   "nbconvert_exporter": "python",
   "pygments_lexer": "ipython3",
   "version": "3.10.10"
  }
 },
 "nbformat": 4,
 "nbformat_minor": 5
}
