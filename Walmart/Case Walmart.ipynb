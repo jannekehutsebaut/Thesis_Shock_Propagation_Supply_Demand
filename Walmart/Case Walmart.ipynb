{
 "cells": [
  {
   "cell_type": "code",
   "execution_count": 1,
   "id": "42fd3e72",
   "metadata": {},
   "outputs": [],
   "source": [
    "import pandas as pd\n",
    "import numpy as np\n",
    "import matplotlib.pyplot as plt\n",
    "from scipy.optimize import linprog\n",
    "from random import randrange\n",
    "import networkx as nx"
   ]
  },
  {
   "cell_type": "markdown",
   "id": "0c8d96c1",
   "metadata": {},
   "source": [
    "## Reading the data"
   ]
  },
  {
   "cell_type": "code",
   "execution_count": 2,
   "id": "787fb150",
   "metadata": {},
   "outputs": [],
   "source": [
    "all_names_sectors = pd.read_parquet(\"all_names_sectors.parquet.gzip\")"
   ]
  },
  {
   "cell_type": "code",
   "execution_count": 3,
   "id": "152a9b51",
   "metadata": {},
   "outputs": [],
   "source": [
    "recipes = pd.read_parquet(\"recipes.parquet.gzip\") \n",
    "entities = pd.read_parquet(\"entities.parquet.gzip\")\n",
    "relations = pd.read_parquet(\"relations.parquet.gzip\")"
   ]
  },
  {
   "cell_type": "markdown",
   "id": "4099c465",
   "metadata": {},
   "source": [
    "## Supply and demand shocks"
   ]
  },
  {
   "cell_type": "code",
   "execution_count": 4,
   "id": "e4030908",
   "metadata": {},
   "outputs": [
    {
     "name": "stdout",
     "output_type": "stream",
     "text": [
      "['C29' 'C22' 'H49' 'C27' 'C25' 'C24' 'C28' 'J61' 'L68' 'J58' 'C10' 'C17'\n",
      " 'C20' 'C13' 'C31' 'C32' 'G46' 'C14' 'C21' 'H52' 'C26' 'C11' 'A01' 'C15'\n",
      " 'K64' 'C12' 'C16' 'J59' 'G47' 'J63' 'N' 'H53' 'J62' 'Q' 'H50' 'C18' 'K65']\n"
     ]
    }
   ],
   "source": [
    "isics = pd.read_csv(\"ISIC_codes_Walmart.csv\", sep =';')\n",
    "print(isics['WIOD code'].unique())"
   ]
  },
  {
   "cell_type": "code",
   "execution_count": 5,
   "id": "d4ac7872",
   "metadata": {},
   "outputs": [],
   "source": [
    "supply_shocks = np.zeros(223)\n",
    "for i in range(0,223):\n",
    "    if isics.iloc[i,1] == 'C29':\n",
    "        supply_shocks[i] = 69.7\n",
    "    elif isics.iloc[i,1] == 'C22':\n",
    "        supply_shocks[i] = 35.3\n",
    "    elif isics.iloc[i,1] == 'H49':\n",
    "        supply_shocks[i] = 0\n",
    "    elif isics.iloc[i,1] == 'C27':\n",
    "        supply_shocks[i] = 63.1\n",
    "    elif isics.iloc[i,1] == 'C25':\n",
    "        supply_shocks[i] = 66.3\n",
    "    elif isics.iloc[i,1] == 'C24':\n",
    "        supply_shocks[i] = 72.6\n",
    "    elif isics.iloc[i,1] == 'C28':\n",
    "        supply_shocks[i] = 61.8\n",
    "    elif isics.iloc[i,1] == 'J61':\n",
    "        supply_shocks[i] = 0\n",
    "    elif isics.iloc[i,1] == 'L68':\n",
    "        supply_shocks[i] = 51.3\n",
    "    elif isics.iloc[i,1] == 'J58':\n",
    "        supply_shocks[i] = 0\n",
    "    elif isics.iloc[i,1] == 'C10':\n",
    "        supply_shocks[i] = 0\n",
    "    elif isics.iloc[i,1] == 'C17':\n",
    "        supply_shocks[i] = 34.3\n",
    "    elif isics.iloc[i,1] == 'C20':\n",
    "        supply_shocks[i] = 19\n",
    "    elif isics.iloc[i,1] == 'C13':\n",
    "        supply_shocks[i] = 68.5\n",
    "    elif isics.iloc[i,1] == 'C32':\n",
    "        supply_shocks[i] = 65.2\n",
    "    elif isics.iloc[i,1] == 'G46':\n",
    "        supply_shocks[i] = 0\n",
    "    elif isics.iloc[i,1] == 'L68':\n",
    "        supply_shocks[i] = 51.3\n",
    "    elif isics.iloc[i,1] == 'C14':\n",
    "        supply_shocks[i] = 68.5\n",
    "    elif isics.iloc[i,1] == 'C21':\n",
    "        supply_shocks[i] = 0\n",
    "    elif isics.iloc[i,1] == 'C28':\n",
    "        supply_shocks[i] = 0\n",
    "    elif isics.iloc[i,1] == 'C26':\n",
    "        supply_shocks[i] = 43.1\n",
    "    elif isics.iloc[i,1] == 'C11':\n",
    "        supply_shocks[i] = 0\n",
    "    elif isics.iloc[i,1] == 'A01':\n",
    "        supply_shocks[i] = 0\n",
    "    elif isics.iloc[i,1] == 'C15':\n",
    "        supply_shocks[i] = 68.5\n",
    "    elif isics.iloc[i,1] == 'K64':\n",
    "        supply_shocks[i] = 0\n",
    "    elif isics.iloc[i,1] == 'C12':\n",
    "        supply_shocks[i] = 0\n",
    "    elif isics.iloc[i,1] == 'C16':\n",
    "        supply_shocks[i] = 73.1\n",
    "    elif isics.iloc[i,1] == 'C31':\n",
    "        supply_shocks[i] = 65.2\n",
    "    elif isics.iloc[i,1] == 'J59':\n",
    "        supply_shocks[i] = 0\n",
    "    elif isics.iloc[i,1] == 'G47':\n",
    "        supply_shocks[i] = 34.7\n",
    "    elif isics.iloc[i,1] == 'J63':\n",
    "        supply_shocks[i] = 7.2\n",
    "    elif isics.iloc[i,1] == 'N':\n",
    "        supply_shocks[i] = 42.7\n",
    "    elif isics.iloc[i,1] == 'J62':\n",
    "        supply_shocks[i] = 7.2\n",
    "    \n",
    "supply_shocks = supply_shocks/100\n"
   ]
  },
  {
   "cell_type": "code",
   "execution_count": 6,
   "id": "179f2cf2",
   "metadata": {},
   "outputs": [],
   "source": [
    "demand_shocks = np.zeros(223)\n",
    "for i in range(0,223):\n",
    "    if isics.iloc[i,1] == 'C29':\n",
    "        demand_shocks[i] = 10\n",
    "    elif isics.iloc[i,1] == 'C22':\n",
    "        demand_shocks[i] = 10\n",
    "    elif isics.iloc[i,1] == 'H49':\n",
    "        demand_shocks[i] = 56.9\n",
    "    elif isics.iloc[i,1] == 'C27':\n",
    "        demand_shocks[i] = 10\n",
    "    elif isics.iloc[i,1] == 'C25':\n",
    "        demand_shocks[i] = 10\n",
    "    elif isics.iloc[i,1] == 'C24':\n",
    "        demand_shocks[i] = 10\n",
    "    elif isics.iloc[i,1] == 'C28':\n",
    "        demand_shocks[i] = 10\n",
    "    elif isics.iloc[i,1] == 'J61':\n",
    "        demand_shocks[i] = 1.1\n",
    "    elif isics.iloc[i,1] == 'L68':\n",
    "        demand_shocks[i] = 0.2\n",
    "    elif isics.iloc[i,1] == 'J58':\n",
    "        demand_shocks[i] = 3.8\n",
    "    elif isics.iloc[i,1] == 'C10':\n",
    "        demand_shocks[i] = 10\n",
    "    elif isics.iloc[i,1] == 'C17':\n",
    "        demand_shocks[i] = 10\n",
    "    elif isics.iloc[i,1] == 'C20':\n",
    "        demand_shocks[i] = 9.9\n",
    "    elif isics.iloc[i,1] == 'C13':\n",
    "        demand_shocks[i] = 10\n",
    "    elif isics.iloc[i,1] == 'C32':\n",
    "        demand_shocks[i] = 9.9\n",
    "    elif isics.iloc[i,1] == 'G46':\n",
    "        demand_shocks[i] = 9.8\n",
    "    elif isics.iloc[i,1] == 'C14':\n",
    "        demand_shocks[i] = 10\n",
    "    elif isics.iloc[i,1] == 'C21':\n",
    "        demand_shocks[i] = 8.1\n",
    "    elif isics.iloc[i,1] == 'H52':\n",
    "        demand_shocks[i] = 22.3\n",
    "    elif isics.iloc[i,1] == 'C26':\n",
    "        demand_shocks[i] = 9.9\n",
    "    elif isics.iloc[i,1] == 'C11':\n",
    "        demand_shocks[i] = 10\n",
    "    elif isics.iloc[i,1] == 'A01':\n",
    "        demand_shocks[i] = 10\n",
    "    elif isics.iloc[i,1] == 'C15':\n",
    "        demand_shocks[i] = 10\n",
    "    elif isics.iloc[i,1] == 'K64':\n",
    "        demand_shocks[i] = 2.9\n",
    "    elif isics.iloc[i,1] == 'C12':\n",
    "        demand_shocks[i] = 10\n",
    "    elif isics.iloc[i,1] == 'C16':\n",
    "        demand_shocks[i] = 10\n",
    "    elif isics.iloc[i,1] == 'C31':\n",
    "        demand_shocks[i] = 9.9\n",
    "    elif isics.iloc[i,1] == 'J59':\n",
    "        demand_shocks[i] = 4.3\n",
    "    elif isics.iloc[i,1] == 'G47':\n",
    "        demand_shocks[i] = 9.6\n",
    "    elif isics.iloc[i,1] == 'J63':\n",
    "        demand_shocks[i] = 8.8\n",
    "    elif isics.iloc[i,1] == 'N':\n",
    "        demand_shocks[i] = 4.2\n",
    "    elif isics.iloc[i,1] == 'H51':\n",
    "        demand_shocks[i] = 50.3\n",
    "    elif isics.iloc[i,1] == 'J62':\n",
    "        demand_shocks[i] = 8.8\n",
    "    elif isics.iloc[i,1] == 'Q':\n",
    "        demand_shocks[i] = 0.1\n",
    "    elif isics.iloc[i,1] == 'H50':\n",
    "        demand_shocks[i] = 11.4\n",
    "    elif isics.iloc[i,1] == 'C18':\n",
    "        demand_shocks[i] = 10\n",
    "    elif isics.iloc[i,1] == 'K65':\n",
    "        demand_shocks[i] = 1.3\n",
    "    elif isics.iloc[i,1] == 'K66':\n",
    "        supply_shocks[i] = 2\n",
    "demand_shocks = demand_shocks/100"
   ]
  },
  {
   "cell_type": "markdown",
   "id": "762c09aa",
   "metadata": {},
   "source": [
    "## Model set-up"
   ]
  },
  {
   "cell_type": "code",
   "execution_count": 7,
   "id": "03ef7099",
   "metadata": {},
   "outputs": [],
   "source": [
    "A = np.array(recipes)\n",
    "N = recipes.shape[0]\n",
    "L = np.linalg.inv(np.identity(N)-A)"
   ]
  },
  {
   "cell_type": "code",
   "execution_count": 8,
   "id": "3073ed31",
   "metadata": {},
   "outputs": [
    {
     "data": {
      "text/plain": [
       "0.005228337589736371"
      ]
     },
     "execution_count": 8,
     "metadata": {},
     "output_type": "execute_result"
    }
   ],
   "source": [
    "density = relations.shape[0]/N**2\n",
    "density"
   ]
  },
  {
   "cell_type": "code",
   "execution_count": 9,
   "id": "e522f6c8",
   "metadata": {},
   "outputs": [],
   "source": [
    "f = entities.iloc[:,7].astype('float')\n",
    "f = np.array(f)\n",
    "x = np.matmul(L, f)"
   ]
  },
  {
   "cell_type": "code",
   "execution_count": 10,
   "id": "47084116",
   "metadata": {},
   "outputs": [],
   "source": [
    "revenues = entities.iloc[:,2].astype('float')\n",
    "revenues = np.array(revenues)"
   ]
  },
  {
   "cell_type": "code",
   "execution_count": 11,
   "id": "9f3b95e0",
   "metadata": {},
   "outputs": [],
   "source": [
    "x_max = np.ones(223)\n",
    "for i in range(223):\n",
    "    x_max[i] = x[i]*(1-supply_shocks[i])"
   ]
  },
  {
   "cell_type": "code",
   "execution_count": 12,
   "id": "541151c3",
   "metadata": {},
   "outputs": [],
   "source": [
    "f_max = np.ones(223)\n",
    "for i in range(223):\n",
    "    f_max[i] = f[i]*(1-demand_shocks[i])"
   ]
  },
  {
   "cell_type": "markdown",
   "id": "409dc7c3",
   "metadata": {},
   "source": [
    "## Upstreamness"
   ]
  },
  {
   "cell_type": "markdown",
   "id": "5073ef2b",
   "metadata": {},
   "source": [
    "## Output multipliers"
   ]
  },
  {
   "cell_type": "markdown",
   "id": "ccb8e611",
   "metadata": {},
   "source": [
    "## Direct shock"
   ]
  },
  {
   "cell_type": "code",
   "execution_count": 13,
   "id": "75137ef0",
   "metadata": {},
   "outputs": [
    {
     "data": {
      "text/plain": [
       "(0.6582541309854164, 0.9088512756289118)"
      ]
     },
     "execution_count": 13,
     "metadata": {},
     "output_type": "execute_result"
    }
   ],
   "source": [
    "direct_shock = (sum(x_max)/sum(x),sum(f_max)/sum(f))\n",
    "direct_shock"
   ]
  },
  {
   "cell_type": "markdown",
   "id": "989dfa9f",
   "metadata": {},
   "source": [
    "## Optimization"
   ]
  },
  {
   "cell_type": "code",
   "execution_count": 14,
   "id": "4f4fc7df",
   "metadata": {},
   "outputs": [],
   "source": [
    "def max_output(N,L,A,xmax,fmax):\n",
    "    z = np.ones(N)\n",
    "    obj = -np.matmul(np.matrix.transpose(z), L)\n",
    "    lhs_ineq = np.concatenate((-L,L))\n",
    "    rhs_ineq = np.concatenate((np.zeros(N), xmax))\n",
    "    \n",
    "    bnd = []\n",
    "    for i in range (0,N):\n",
    "        bnd.append((0,fmax[i]))\n",
    "    \n",
    "    result = linprog(c = obj, A_ub= lhs_ineq, b_ub= rhs_ineq, bounds = bnd)\n",
    "    \n",
    "    optimal_output = -result.fun\n",
    "    \n",
    "    optimal_f = np.ones(N)\n",
    "    for i in range(0,N):\n",
    "        optimal_f[i] = result.x[i]\n",
    "    \n",
    "    return result.success, optimal_output/sum(x), sum(optimal_f)/sum(f)"
   ]
  },
  {
   "cell_type": "code",
   "execution_count": 15,
   "id": "4024f18b",
   "metadata": {},
   "outputs": [
    {
     "data": {
      "text/plain": [
       "(0.5681566635542068, 0.5742009678364653)"
      ]
     },
     "execution_count": 15,
     "metadata": {},
     "output_type": "execute_result"
    }
   ],
   "source": [
    "result = max_output(N,L,A,x_max,f_max)\n",
    "Max_output = (result[1], result[2])\n",
    "Max_output"
   ]
  },
  {
   "cell_type": "code",
   "execution_count": 16,
   "id": "88578e22",
   "metadata": {},
   "outputs": [],
   "source": [
    "def max_consumption(N,L,A,xmax,fmax):\n",
    "    z = np.ones(N)\n",
    "    obj2 = -np.matmul(np.matrix.transpose(z), np.identity(N)-A)\n",
    "    lhs_ineq2 = np.concatenate((-(np.identity(N)-A), np.identity(N)-A))\n",
    "    rhs_ineq2 = np.concatenate((np.zeros(N), fmax))\n",
    "    \n",
    "    bnd2 = []\n",
    "    for i in range (0,N):\n",
    "        bnd2.append((0,xmax[i]))\n",
    "        \n",
    "    result2 = linprog(c = obj2, A_ub= lhs_ineq2, b_ub= rhs_ineq2, bounds= bnd2)\n",
    "    optimal_f_2 = -result2.fun\n",
    "    \n",
    "    optimal_output_2 = np.ones(N)\n",
    "    for i in range(0,N):\n",
    "        optimal_output_2[i] = round(result2.x[i])\n",
    "        \n",
    "    return result2.success, sum(optimal_output_2)/sum(x), optimal_f_2/sum(f)"
   ]
  },
  {
   "cell_type": "code",
   "execution_count": 17,
   "id": "8141c9b4",
   "metadata": {},
   "outputs": [
    {
     "data": {
      "text/plain": [
       "(0.5681565363499264, 0.5742009678364656)"
      ]
     },
     "execution_count": 17,
     "metadata": {},
     "output_type": "execute_result"
    }
   ],
   "source": [
    "result2 = max_consumption(N,L,A,x_max,f_max)\n",
    "Max_consumption = (result2[1], result2[2])\n",
    "Max_consumption"
   ]
  },
  {
   "cell_type": "markdown",
   "id": "4449b890",
   "metadata": {},
   "source": [
    "## Proportional Rationing"
   ]
  },
  {
   "cell_type": "code",
   "execution_count": 18,
   "id": "b0762439",
   "metadata": {},
   "outputs": [],
   "source": [
    "def algo_proportional(A, L, fmax, xmax, TT, prioritize=\"no\"):\n",
    "    x_ = [0]\n",
    "    fvec = []          # initial demand vector\n",
    "    fvec.append(fmax)\n",
    "    r = [0]            # output constraints\n",
    "    s = [0]            # input bottlenecks \n",
    "    d = [0]            # aggregated demand vector \n",
    "    d.append(np.matmul(L, fvec[0])) #d[1] = L*f[0]\n",
    "\n",
    "    list_ = [1] \n",
    "    t=1\n",
    "    epsilon = 1e-6\n",
    "    while not np.all(abs(d[t] - d[t-1]) < epsilon) and t<TT:\n",
    "        #print('\\nIteration {0}'.format(t))\n",
    "        #print('---------')\n",
    "        #print('Initial aggregated demand: {}'.format(d[t]))\n",
    "        r.append(np.ones(len(xmax)))\n",
    "        s.append(np.ones(len(xmax)))\n",
    "        fvec.append(np.ones(len(xmax)))\n",
    "        x_.append(np.ones(len(xmax)))\n",
    "        d.append(np.ones(len(xmax)))\n",
    "        \n",
    "        ##########################################\n",
    "        ########### Output constraints ###########\n",
    "        ##########################################\n",
    "        for i in range (0,len(x_max)):\n",
    "            r[t][i] = xmax[i]/d[t][i]\n",
    "        #print('Output constraints:{}'.format(r[t]))\n",
    "        \n",
    "        ##########################################\n",
    "        ########### Input bottlenecks ############\n",
    "        ##########################################\n",
    "        for i in range(0,len(x_max)):\n",
    "            for j in range(0,len(x_max)):\n",
    "                if A[j][i] > 0: \n",
    "                    list_.append(r[t][j])\n",
    "            s[t][i] = min(list_)\n",
    "            list_ = [1]\n",
    "        #print('Input bottlenecks:{}'.format(s[t]))\n",
    "        \n",
    "        ##############################################\n",
    "        ########### Constrained Production ###########\n",
    "        ##############################################\n",
    "        for i in range(0,len(xmax)):\n",
    "            x_[t][i] = min(xmax[i], s[t][i]*d[t][i])\n",
    "        #print('Constrained production:{}'.format(x[t]))\n",
    "        \n",
    "        ##############################################\n",
    "        ############ Constrained Delivery ############\n",
    "        ##############################################\n",
    "        for i in range(0,len(xmax)):\n",
    "            fvec[t][i] = max(x_[t][i] - np.matmul(A[i],x_[t]),0)\n",
    "        \n",
    "        #print('Constrained delivery:{}'.format(fvec[t]))\n",
    "        \n",
    "        ###############################################\n",
    "        ############ New Aggregated Demand ############\n",
    "        ###############################################\n",
    "        for i in range(0,len(xmax)):\n",
    "            d[t+1][i] = np.matmul(L[i],fvec[t])\n",
    "        t=t+1\n",
    "        #print('Aggregated Demand:         {}'.format(d[t]))\n",
    "        if t == TT:\n",
    "            print(\"Algoritm did not converge\")\n",
    "            \n",
    "    return sum(x_[t-1])/sum(x), sum(fvec[t-1])/sum(f), t #x[t-1]\n"
   ]
  },
  {
   "cell_type": "code",
   "execution_count": 19,
   "id": "c07fd661",
   "metadata": {},
   "outputs": [
    {
     "data": {
      "text/plain": [
       "(0.44510100590357055, 0.4556833102729877, 3)"
      ]
     },
     "execution_count": 19,
     "metadata": {},
     "output_type": "execute_result"
    }
   ],
   "source": [
    "result_proportional = algo_proportional(A, L, f_max, x_max, TT = 30, prioritize=\"no\")\n",
    "result_proportional"
   ]
  },
  {
   "cell_type": "markdown",
   "id": "d7f24de6",
   "metadata": {},
   "source": [
    "## Mixed Rationing "
   ]
  },
  {
   "cell_type": "code",
   "execution_count": 20,
   "id": "926e66bc",
   "metadata": {},
   "outputs": [],
   "source": [
    "def algo_mixed(A, L, fmax, xmax, TT,prioritize=\"yes\"):\n",
    "    x_ = [0]\n",
    "    fvec = [] # initial demand vector\n",
    "    fvec.append(fmax)\n",
    "    r = [0]   # output constraints\n",
    "    s = [0]   # input bottlenecks \n",
    "    d = [0]   # aggregated demand vector \n",
    "    d.append(np.matmul(L, fvec[0])) #d[1] = L*f[0]\n",
    "    \n",
    "    list_ = [1] \n",
    "    t=1\n",
    "    epsilon = 1e-6\n",
    "    while not np.all(abs(d[t] - d[t-1]) < epsilon) and t<TT:\n",
    "        #print('\\nIteration {0}'.format(t))\n",
    "        #print('---------')\n",
    "        #print('Initial aggregated demand: {}'.format(d[t]))\n",
    "        r.append(np.ones(len(xmax)))\n",
    "        s.append(np.ones(len(xmax)))\n",
    "        fvec.append(np.ones(len(xmax)))\n",
    "        x_.append(np.ones(len(xmax)))\n",
    "        d.append(np.ones(len(xmax)))\n",
    "        \n",
    "        ##########################################\n",
    "        ########### Output constraints ###########\n",
    "        ##########################################\n",
    "        for i in range (0,len(x_max)):\n",
    "            denominator = np.matmul(A[i],d[t])\n",
    "            if denominator == 0:\n",
    "                r[t][i] = 1 \n",
    "            else:\n",
    "                r[t][i] = xmax[i]/denominator\n",
    "            \n",
    "        #print('Output constraints:         {}'.format(r[t]))\n",
    "        \n",
    "        ##########################################\n",
    "        ########### Input bottlenecks ############\n",
    "        ##########################################\n",
    "        for i in range(0,len(x_max)):\n",
    "            for j in range(0,len(x_max)):\n",
    "                if A[j][i] > 0:\n",
    "                    list_.append(r[t][j])\n",
    "            s[t][i] = min(list_)\n",
    "            list_ = [1]\n",
    "        #print('Input bottlenecks:         {}'.format(s[t]))\n",
    "        \n",
    "        ##############################################\n",
    "        ########### Constrained Production ###########\n",
    "        ##############################################\n",
    "        for i in range(0,len(xmax)):\n",
    "            x_[t][i] = min(xmax[i], s[t][i]*d[t][i])\n",
    "            #print(s[t][i]*d[t][i])\n",
    "        \n",
    "        ##############################################\n",
    "        ############ Constrained Delivery ############\n",
    "        ##############################################\n",
    "        \n",
    "        for i in range(0,len(xmax)):\n",
    "            #print(np.matmul(A[i],s[t]*d[t]))\n",
    "            fvec[t][i] = max(x_[t][i] - np.matmul(A[i],x_[t]),0) \n",
    "        #print('Constrained delivery:      {}'.format(fvec[t]))\n",
    "        \n",
    "        ###############################################\n",
    "        ############ New Aggregated Demand ############\n",
    "        ###############################################\n",
    "        for i in range(0,len(xmax)):\n",
    "            d[t+1][i] = np.matmul(L[i],fvec[t])\n",
    "        t=t+1\n",
    "    \n",
    "    if t == TT:\n",
    "        print(\"Algoritm did not converge\")\n",
    "        \n",
    "    return sum(x_[t-1])/sum(x), sum(fvec[t-1])/sum(f), t"
   ]
  },
  {
   "cell_type": "code",
   "execution_count": 21,
   "id": "6a920fb1",
   "metadata": {},
   "outputs": [
    {
     "data": {
      "text/plain": [
       "(0.5576778203919418, 0.5642156016880483, 3)"
      ]
     },
     "execution_count": 21,
     "metadata": {},
     "output_type": "execute_result"
    }
   ],
   "source": [
    "result_mixed = algo_mixed(A, L, f_max, x_max, 30, prioritize=\"yes\")\n",
    "result_mixed"
   ]
  },
  {
   "cell_type": "markdown",
   "id": "18700e29",
   "metadata": {},
   "source": [
    "## Priority Rationing"
   ]
  },
  {
   "cell_type": "code",
   "execution_count": 22,
   "id": "bedef1b6",
   "metadata": {},
   "outputs": [],
   "source": [
    "def order(A, L, fmax):\n",
    "    d = np.matmul(L, fmax)\n",
    "    list_1 = []      # list we will sort\n",
    "    list_2 = []      # list that will not be sorted to find the original indices\n",
    "    for i in range(A.shape[0]):\n",
    "        list_1.append([])\n",
    "        list_2.append([])\n",
    "    for i in range(A.shape[0]):\n",
    "        for j in range(A.shape[0]):\n",
    "            list_1[i].append(A[i][j]*d[j])    # list_1[i][j] = list_2[i][j] = A[i][j]*d[j]\n",
    "            list_2[i].append(A[i][j]*d[j])\n",
    "        list_1[i].sort(reverse = True)        # we sort list_1: A[i][j]*d[j] >= A[i][j+1]*d[j+1]\n",
    "\n",
    "    names_ordered=[]\n",
    "    for i in range(A.shape[0]):\n",
    "        names_ordered.append([])\n",
    "    \n",
    "    for i in range(A.shape[0]):\n",
    "        for k in list_1[i]:                  # we take the indices of the j+1 (j from 0 to N-1) biggest suppliers of industry i. \n",
    "                for l in range(A.shape[0]):    \n",
    "                    if list_2[i][l] == k:\n",
    "                        names_ordered[i].append(l)   \n",
    "    return names_ordered"
   ]
  },
  {
   "cell_type": "code",
   "execution_count": 23,
   "id": "2377089a",
   "metadata": {},
   "outputs": [],
   "source": [
    "def algo_priority(A, L, fmax, xmax, ordered, TT, prioritize=\"yes\"):                 \n",
    "    x_ = [0]\n",
    "    fvec = []   # initial demand vector\n",
    "    fvec.append(fmax)\n",
    "    rvec = [0]  # output constraints\n",
    "    s = [0]     # input bottlenecks \n",
    "    d = [0]     # aggregated demand vector \n",
    "    d.append(np.matmul(L, fvec[0])) #d[1] = L*f[0]\n",
    "    \n",
    "    list_ = [1] \n",
    "    t=1\n",
    "    epsilon = 1e-6\n",
    "    \n",
    "    while not np.all(abs(d[t] - d[t-1]) < epsilon) and t<TT:\n",
    "        #print('\\nIteration {0}'.format(t))\n",
    "        #print('---------')\n",
    "        #print('Initial aggregated demand: {}'.format(d[t]))\n",
    "        rvec.append([np.zeros(N)])\n",
    "        s.append(np.ones(N))\n",
    "        fvec.append(np.ones(N))\n",
    "        x_.append(np.ones(N))\n",
    "        d.append(np.ones(N))\n",
    "        demand = np.identity(N)\n",
    "        \n",
    "        som = 0\n",
    "        for i in range(0,N):\n",
    "            for j in range(0,N):\n",
    "                for k in ordered[i][:j+1]:\n",
    "                    som = som + A[i][k]*d[t][k] \n",
    "                demand[i][j] = som   #demand[i][j] = demand of j'th biggest customers of firm i summed up\n",
    "                som = 0\n",
    "        remainder = np.identity(N)\n",
    "    \n",
    "        for i in range(0,N):\n",
    "            for j in range(0,N):\n",
    "                remainder[i][j] = xmax[i] - demand[i][j]\n",
    "                \n",
    "        ####################################################\n",
    "        ####################### rvec #######################\n",
    "        ####################################################\n",
    "        for i in range(0,N):\n",
    "            rvec[t].append([])\n",
    "        for i in range(0,N):\n",
    "            if all(remainder[i][j]>0 for j in range(0,N)):\n",
    "                rvec[t][i] = np.ones(N) \n",
    "            elif all(remainder[i][j]<=0 for j in range(0,N)): \n",
    "                rvec[t][i] = np.zeros(N)\n",
    "                for k in ordered[i][:1]: \n",
    "                    rvec[t][i][k] = xmax[i]/demand[i][0]\n",
    "        \n",
    "            else: \n",
    "                idx = np.where(remainder[i]<=0) # index for partially met demand\n",
    "                idx_fully = np.where(remainder[i]>0) \n",
    "                length = len(idx_fully[0])\n",
    "                rvec[t][i] = np.zeros(N)\n",
    "                for l in range(0,length-1):\n",
    "                    index = ordered[i][l]\n",
    "                    rvec[t][i][index] = 1\n",
    "                m = ordered[i][length-1]\n",
    "                rvec[t][i][m] = remainder[i][length-1]/(demand[i][length]-demand[i][length-1])\n",
    "          \n",
    "        #####################################################\n",
    "        ################# Input bottlenecks #################\n",
    "        #####################################################\n",
    "        for i in range(0,N):\n",
    "            for j in range(0,N):\n",
    "                if A[j][i]>0:\n",
    "                    list_.append(rvec[t][j][i])\n",
    "            s[t][i] = min(list_)\n",
    "            list_ = [1]   \n",
    "        #print('Input bottlenecks:         {}'.format(s[t]))\n",
    "        \n",
    "        ######################################################\n",
    "        ############### Constrained Production ###############\n",
    "        ######################################################\n",
    "        for i in range(0,N):\n",
    "            x_[t][i] = min(xmax[i], s[t][i]*d[t][i])\n",
    "        #print(x)\n",
    "        \n",
    "        ######################################################\n",
    "        ################ Constrained Delivery ################\n",
    "        ######################################################\n",
    "        for i in range(0,len(xmax)):\n",
    "            fvec[t][i] = max(x_[t][i] - np.matmul(A[i],x_[t]),0)\n",
    "        \n",
    "        ######################################################\n",
    "        ################ Aggregated demand ###################\n",
    "        ######################################################\n",
    "        for i in range(0,len(xmax)):\n",
    "            d[t+1][i] = np.matmul(L[i],fvec[t])\n",
    "            \n",
    "        t=t+1\n",
    "        if t==TT:\n",
    "            print(\"Algorithm did not converge\")\n",
    "            return(None, None)\n",
    "        #print(d[t])\n",
    "    return sum(x_[t-1])/sum(x), sum(fvec[t-1])/sum(f), t"
   ]
  },
  {
   "cell_type": "code",
   "execution_count": 24,
   "id": "5cbee48e",
   "metadata": {},
   "outputs": [
    {
     "data": {
      "text/plain": [
       "(0.36187393057908973, 0.3799110586179962, 3)"
      ]
     },
     "execution_count": 24,
     "metadata": {},
     "output_type": "execute_result"
    }
   ],
   "source": [
    "names_ordered = order(A,L,f_max)\n",
    "result_priority = algo_priority(A, L, f_max, x_max, names_ordered, 30, prioritize=\"yes\")\n",
    "result_priority"
   ]
  },
  {
   "cell_type": "markdown",
   "id": "e90b3e05",
   "metadata": {},
   "source": [
    "## Random Rationing"
   ]
  },
  {
   "cell_type": "code",
   "execution_count": 25,
   "id": "0a86910e",
   "metadata": {},
   "outputs": [],
   "source": [
    "def algo_random(A, L, fmax, xmax, runs, prioritize = \"random\"):\n",
    "    x = [] # output\n",
    "    y = [] # consumption\n",
    "    nr_runs = 0\n",
    "    while nr_runs < runs:\n",
    "        nr_runs += 1\n",
    "        #print(nr_runs)\n",
    "        random_ordered=[]\n",
    "        for i in range(N):\n",
    "            random_ordered.append([])\n",
    "        for i in range(N):\n",
    "            while len(random_ordered[i])<N:\n",
    "                random = randrange(N)\n",
    "                while random in random_ordered[i]:\n",
    "                    random = randrange(N) # we want the indices of the j+1 (j from 0 to N-1) biggest suppliers  \n",
    "                random_ordered[i].append(random)\n",
    "                \n",
    "        result = algo_priority(A, L, fmax, xmax, random_ordered, TT = 25, prioritize=\"yes\")\n",
    "        if result[0] != None:\n",
    "            x.append(result[0])\n",
    "            y.append(result[1])\n",
    "            \n",
    "    return sum(x)/len(x), sum(y)/len(y), len(x)"
   ]
  },
  {
   "cell_type": "code",
   "execution_count": 26,
   "id": "171650b4",
   "metadata": {},
   "outputs": [
    {
     "data": {
      "text/plain": [
       "(0.3878478052853599, 0.40526775676733684, 50)"
      ]
     },
     "execution_count": 26,
     "metadata": {},
     "output_type": "execute_result"
    }
   ],
   "source": [
    "result_random = algo_random(A, L, f_max, x_max, 50, prioritize = \"random\")\n",
    "result_random"
   ]
  },
  {
   "cell_type": "code",
   "execution_count": 27,
   "id": "095a5dcf",
   "metadata": {},
   "outputs": [
    {
     "data": {
      "image/png": "[encoded data removed]",
      "text/plain": [
       "<Figure size 640x480 with 1 Axes>"
      ]
     },
     "metadata": {},
     "output_type": "display_data"
    }
   ],
   "source": [
    "import matplotlib.pyplot as plt\n",
    "plt.style.use('ggplot')\n",
    "plt.title(\"Walmart\")\n",
    "plt.grid(visible=None, which='major', axis='both', linestyle='-', linewidth=1)\n",
    "\n",
    "plt.scatter(direct_shock[1], direct_shock[0],marker = '^', color= 'black')\n",
    "plt.scatter(Max_consumption[1], Max_consumption[0],marker = '^', color= 'red')\n",
    "#plt.scatter(Max_output[1], Max_output[0], marker = '^', color='orange')\n",
    "plt.scatter(result_proportional[1], result_proportional[0], marker = '^', color='green')\n",
    "plt.scatter(result_mixed[1], result_mixed[0], marker = '^', color='grey')\n",
    "plt.scatter(result_priority[1], result_priority[0], marker = '^', color='darkorange')\n",
    "plt.scatter(result_random[1], result_random[0],marker = '^', color= 'blue')\n",
    "\n",
    "\n",
    "plt.xlim(-0.09, 1) \n",
    "plt.ylim(-0.09, 1)\n",
    "plt.legend(['Direct shock', 'Optimization','Proportional','Mixed', 'Priority', 'Random'])\n",
    "plt.xlabel(\"Final Consumption (fraction of pre-shock level)\")\n",
    "plt.ylabel(\"Gross Output (fraction of pre-shock level)\")\n",
    "\n",
    "plt.savefig('plot_Walmart.png')\n",
    "plt.show()"
   ]
  }
 ],
 "metadata": {
  "kernelspec": {
   "display_name": "venv test",
   "language": "python",
   "name": "venv"
  },
  "language_info": {
   "codemirror_mode": {
    "name": "ipython",
    "version": 3
   },
   "file_extension": ".py",
   "mimetype": "text/x-python",
   "name": "python",
   "nbconvert_exporter": "python",
   "pygments_lexer": "ipython3",
   "version": "3.10.11"
  }
 },
 "nbformat": 4,
 "nbformat_minor": 5
}
