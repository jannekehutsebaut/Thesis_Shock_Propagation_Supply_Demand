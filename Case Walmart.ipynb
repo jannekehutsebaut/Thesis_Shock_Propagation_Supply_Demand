{
 "cells": [
  {
   "cell_type": "code",
   "execution_count": 1,
   "id": "42fd3e72",
   "metadata": {},
   "outputs": [],
   "source": [
    "import pandas as pd\n",
    "import numpy as np\n",
    "import matplotlib.pyplot as plt\n",
    "from scipy.optimize import linprog\n",
    "from random import randrange"
   ]
  },
  {
   "cell_type": "markdown",
   "id": "a24ee792",
   "metadata": {},
   "source": [
    "## Reading the data"
   ]
  },
  {
   "cell_type": "code",
   "execution_count": 2,
   "id": "152a9b51",
   "metadata": {},
   "outputs": [],
   "source": [
    "recipes = pd.read_parquet(\"recipes.parquet.gzip\") \n",
    "entities = pd.read_parquet(\"Janneke_entities.parquet.gzip\")\n",
    "relations = pd.read_parquet(\"janneke_relations.parquet.gzip\")"
   ]
  },
  {
   "cell_type": "code",
   "execution_count": 3,
   "id": "71f2ede3",
   "metadata": {},
   "outputs": [
    {
     "name": "stdout",
     "output_type": "stream",
     "text": [
      "['Producer Manufacturing' 'Transportation' None 'Consumer Durables'\n",
      " 'Non-Energy Minerals' 'Technology Services' 'Finance'\n",
      " 'Electronic Technology' 'Consumer Non-Durables' 'Process Industries'\n",
      " 'Health Technology' 'Distribution Services' 'Commercial Services'\n",
      " 'Consumer Services' 'Retail Trade' 'Miscellaneous']\n"
     ]
    }
   ],
   "source": [
    "sectors = pd.read_parquet(\"entities_with_sector.parquet(1).gzip\") \n",
    "print(sectors['sector'].unique())"
   ]
  },
  {
   "cell_type": "markdown",
   "id": "4099c465",
   "metadata": {},
   "source": [
    "## Supply and demand shocks"
   ]
  },
  {
   "cell_type": "code",
   "execution_count": 4,
   "id": "e4030908",
   "metadata": {},
   "outputs": [
    {
     "name": "stdout",
     "output_type": "stream",
     "text": [
      "['C29' 'C22' 'H49' 'C27' 'None' 'C25' 'C24' 'C28' 'J61' 'L68' 'J58' 'C10'\n",
      " 'C17' 'C20' 'C13' 'C32' 'G46' 'C14' 'C21' 'H52' 'C26' 'C11' 'A01' 'C15'\n",
      " 'K64' 'C12' 'C16' 'C31' 'J59' 'G47' 'J63' 'N' 'H51' 'J62' 'Q' 'H50' 'C18'\n",
      " 'K65']\n"
     ]
    }
   ],
   "source": [
    "isics = pd.read_csv(\"ISIC_Walmart.csv\", sep =';')\n",
    "isics\n",
    "print(isics['WIOD code'].unique())"
   ]
  },
  {
   "cell_type": "code",
   "execution_count": 5,
   "id": "d4ac7872",
   "metadata": {},
   "outputs": [],
   "source": [
    "supply_shocks = np.zeros(223)\n",
    "for i in range(0,223):\n",
    "    if isics.iloc[i,1] == 'C29':\n",
    "        supply_shocks[i] = 69.7\n",
    "    elif isics.iloc[i,1] == 'C22':\n",
    "        supply_shocks[i] = 35.3\n",
    "    elif isics.iloc[i,1] == 'H49':\n",
    "        supply_shocks[i] = 0\n",
    "    elif isics.iloc[i,1] == 'C27':\n",
    "        supply_shocks[i] = 63.1\n",
    "    elif isics.iloc[i,1] == 'C25':\n",
    "        supply_shocks[i] = 66.3\n",
    "    elif isics.iloc[i,1] == 'C24':\n",
    "        supply_shocks[i] = 72.6\n",
    "    elif isics.iloc[i,1] == 'C28':\n",
    "        supply_shocks[i] = 61.8\n",
    "    elif isics.iloc[i,1] == 'J61':\n",
    "        supply_shocks[i] = 0\n",
    "    elif isics.iloc[i,1] == 'L68':\n",
    "        supply_shocks[i] = 51.3\n",
    "    elif isics.iloc[i,1] == 'J58':\n",
    "        supply_shocks[i] = 0\n",
    "    elif isics.iloc[i,1] == 'C10':\n",
    "        supply_shocks[i] = 0\n",
    "    elif isics.iloc[i,1] == 'C17':\n",
    "        supply_shocks[i] = 34.3\n",
    "    elif isics.iloc[i,1] == 'C20':\n",
    "        supply_shocks[i] = 19\n",
    "    elif isics.iloc[i,1] == 'C13':\n",
    "        supply_shocks[i] = 68.5\n",
    "    elif isics.iloc[i,1] == 'C32':\n",
    "        supply_shocks[i] = 65.2\n",
    "    elif isics.iloc[i,1] == 'G46':\n",
    "        supply_shocks[i] = 0\n",
    "    elif isics.iloc[i,1] == 'L68':\n",
    "        supply_shocks[i] = 51.3\n",
    "    elif isics.iloc[i,1] == 'C14':\n",
    "        supply_shocks[i] = 68.5\n",
    "    elif isics.iloc[i,1] == 'C21':\n",
    "        supply_shocks[i] = 0\n",
    "    elif isics.iloc[i,1] == 'C28':\n",
    "        supply_shocks[i] = 0\n",
    "    elif isics.iloc[i,1] == 'C26':\n",
    "        supply_shocks[i] = 43.1\n",
    "    elif isics.iloc[i,1] == 'C11':\n",
    "        supply_shocks[i] = 0\n",
    "    elif isics.iloc[i,1] == 'A01':\n",
    "        supply_shocks[i] = 0\n",
    "    elif isics.iloc[i,1] == 'C15':\n",
    "        supply_shocks[i] = 68.5\n",
    "    elif isics.iloc[i,1] == 'K64':\n",
    "        supply_shocks[i] = 0\n",
    "    elif isics.iloc[i,1] == 'C12':\n",
    "        supply_shocks[i] = 0\n",
    "    elif isics.iloc[i,1] == 'C16':\n",
    "        supply_shocks[i] = 73.1\n",
    "    elif isics.iloc[i,1] == 'C31':\n",
    "        supply_shocks[i] = 65.2\n",
    "    elif isics.iloc[i,1] == 'J59':\n",
    "        supply_shocks[i] = 0\n",
    "    elif isics.iloc[i,1] == 'G47':\n",
    "        supply_shocks[i] = 34.7\n",
    "    elif isics.iloc[i,1] == 'J63':\n",
    "        supply_shocks[i] = 7.2\n",
    "    elif isics.iloc[i,1] == 'N':\n",
    "        supply_shocks[i] = 42.7\n",
    "    elif isics.iloc[i,1] == 'J62':\n",
    "        supply_shocks[i] = 7.2\n",
    "supply_shocks = supply_shocks/100"
   ]
  },
  {
   "cell_type": "code",
   "execution_count": 6,
   "id": "179f2cf2",
   "metadata": {},
   "outputs": [],
   "source": [
    "demand_shocks = np.zeros(223)\n",
    "for i in range(0,223):\n",
    "    if isics.iloc[i,1] == 'C29':\n",
    "        demand_shocks[i] = 10\n",
    "    elif isics.iloc[i,1] == 'C22':\n",
    "        demand_shocks[i] = 10\n",
    "    elif isics.iloc[i,1] == 'H49':\n",
    "        demand_shocks[i] = 56.9\n",
    "    elif isics.iloc[i,1] == 'C27':\n",
    "        demand_shocks[i] = 10\n",
    "    elif isics.iloc[i,1] == 'C25':\n",
    "        demand_shocks[i] = 10\n",
    "    elif isics.iloc[i,1] == 'C24':\n",
    "        demand_shocks[i] = 10\n",
    "    elif isics.iloc[i,1] == 'C28':\n",
    "        demand_shocks[i] = 10\n",
    "    elif isics.iloc[i,1] == 'J61':\n",
    "        demand_shocks[i] = 1.1\n",
    "    elif isics.iloc[i,1] == 'L68':\n",
    "        demand_shocks[i] = 0.2\n",
    "    elif isics.iloc[i,1] == 'J58':\n",
    "        demand_shocks[i] = 3.8\n",
    "    elif isics.iloc[i,1] == 'C10':\n",
    "        demand_shocks[i] = 10\n",
    "    elif isics.iloc[i,1] == 'C17':\n",
    "        demand_shocks[i] = 10\n",
    "    elif isics.iloc[i,1] == 'C20':\n",
    "        demand_shocks[i] = 9.9\n",
    "    elif isics.iloc[i,1] == 'C13':\n",
    "        demand_shocks[i] = 10\n",
    "    elif isics.iloc[i,1] == 'C32':\n",
    "        demand_shocks[i] = 9.9\n",
    "    elif isics.iloc[i,1] == 'G46':\n",
    "        demand_shocks[i] = 9.8\n",
    "    elif isics.iloc[i,1] == 'C14':\n",
    "        demand_shocks[i] = 10\n",
    "    elif isics.iloc[i,1] == 'C21':\n",
    "        demand_shocks[i] = 8.1\n",
    "    elif isics.iloc[i,1] == 'H52':\n",
    "        demand_shocks[i] = 22.3\n",
    "    elif isics.iloc[i,1] == 'C26':\n",
    "        demand_shocks[i] = 9.9\n",
    "    elif isics.iloc[i,1] == 'C11':\n",
    "        demand_shocks[i] = 10\n",
    "    elif isics.iloc[i,1] == 'A01':\n",
    "        demand_shocks[i] = 10\n",
    "    elif isics.iloc[i,1] == 'C15':\n",
    "        demand_shocks[i] = 10\n",
    "    elif isics.iloc[i,1] == 'K64':\n",
    "        demand_shocks[i] = 2.9\n",
    "    elif isics.iloc[i,1] == 'C12':\n",
    "        demand_shocks[i] = 10\n",
    "    elif isics.iloc[i,1] == 'C16':\n",
    "        demand_shocks[i] = 10\n",
    "    elif isics.iloc[i,1] == 'C31':\n",
    "        demand_shocks[i] = 9.9\n",
    "    elif isics.iloc[i,1] == 'J59':\n",
    "        demand_shocks[i] = 4.3\n",
    "    elif isics.iloc[i,1] == 'G47':\n",
    "        demand_shocks[i] = 9.6\n",
    "    elif isics.iloc[i,1] == 'J63':\n",
    "        demand_shocks[i] = 8.8\n",
    "    elif isics.iloc[i,1] == 'N':\n",
    "        demand_shocks[i] = 4.2\n",
    "    elif isics.iloc[i,1] == 'H51':\n",
    "        demand_shocks[i] = 50.3\n",
    "    elif isics.iloc[i,1] == 'J62':\n",
    "        demand_shocks[i] = 8.8\n",
    "    elif isics.iloc[i,1] == 'Q':\n",
    "        demand_shocks[i] = 0.1\n",
    "    elif isics.iloc[i,1] == 'H50':\n",
    "        demand_shocks[i] = 11.4\n",
    "    elif isics.iloc[i,1] == 'C18':\n",
    "        demand_shocks[i] = 10\n",
    "    elif isics.iloc[i,1] == 'K65':\n",
    "        demand_shocks[i] = 1.3\n",
    "demand_shocks = demand_shocks/100"
   ]
  },
  {
   "cell_type": "markdown",
   "id": "762c09aa",
   "metadata": {},
   "source": [
    "## Model set-up"
   ]
  },
  {
   "cell_type": "code",
   "execution_count": 7,
   "id": "03ef7099",
   "metadata": {},
   "outputs": [],
   "source": [
    "A = np.array(recipes)\n",
    "N = recipes.shape[0]"
   ]
  },
  {
   "cell_type": "code",
   "execution_count": 8,
   "id": "3073ed31",
   "metadata": {},
   "outputs": [
    {
     "data": {
      "text/plain": [
       "0.005228337589736371"
      ]
     },
     "execution_count": 8,
     "metadata": {},
     "output_type": "execute_result"
    }
   ],
   "source": [
    "density = relations.shape[0]/N**2\n",
    "density"
   ]
  },
  {
   "cell_type": "code",
   "execution_count": 9,
   "id": "e522f6c8",
   "metadata": {},
   "outputs": [],
   "source": [
    "f = entities.iloc[:,7].astype('float')\n",
    "f = np.array(f)"
   ]
  },
  {
   "cell_type": "code",
   "execution_count": 10,
   "id": "47084116",
   "metadata": {},
   "outputs": [],
   "source": [
    "x = entities.iloc[:,2].astype('float')\n",
    "x = np.array(x)"
   ]
  },
  {
   "cell_type": "code",
   "execution_count": 11,
   "id": "9d6df1fe",
   "metadata": {},
   "outputs": [],
   "source": [
    "final_consumption = np.matmul(np.identity(N)-A, x)"
   ]
  },
  {
   "cell_type": "code",
   "execution_count": 12,
   "id": "8b0063c5",
   "metadata": {},
   "outputs": [],
   "source": [
    "L = np.linalg.inv(np.identity(N)-A)"
   ]
  },
  {
   "cell_type": "code",
   "execution_count": 13,
   "id": "b28c1f01",
   "metadata": {},
   "outputs": [],
   "source": [
    "total_output = np.matmul(L, f)"
   ]
  },
  {
   "cell_type": "code",
   "execution_count": 14,
   "id": "9f3b95e0",
   "metadata": {},
   "outputs": [],
   "source": [
    "x_max = np.ones(223)\n",
    "for i in range(223):\n",
    "    x_max[i] = x[i]*(1-supply_shocks[i])"
   ]
  },
  {
   "cell_type": "code",
   "execution_count": 15,
   "id": "541151c3",
   "metadata": {},
   "outputs": [],
   "source": [
    "f_max = np.ones(223)\n",
    "for i in range(223):\n",
    "    f_max[i] = f[i]*(1-demand_shocks[i])"
   ]
  },
  {
   "cell_type": "markdown",
   "id": "ccb8e611",
   "metadata": {},
   "source": [
    "## Direct shock"
   ]
  },
  {
   "cell_type": "code",
   "execution_count": 16,
   "id": "75137ef0",
   "metadata": {},
   "outputs": [
    {
     "data": {
      "text/plain": [
       "(0.668110273753627, 0.8967207931545547)"
      ]
     },
     "execution_count": 16,
     "metadata": {},
     "output_type": "execute_result"
    }
   ],
   "source": [
    "direct_shock = (sum(x_max)/sum(x),sum(f_max)/sum(f))\n",
    "direct_shock"
   ]
  },
  {
   "cell_type": "markdown",
   "id": "989dfa9f",
   "metadata": {},
   "source": [
    "## Optimization"
   ]
  },
  {
   "cell_type": "code",
   "execution_count": 17,
   "id": "4f4fc7df",
   "metadata": {},
   "outputs": [],
   "source": [
    "def max_output(N,L,A,xmax,fmax):\n",
    "    z = np.ones(N)\n",
    "    obj = -np.matmul(np.matrix.transpose(z), L)\n",
    "    lhs_ineq = np.concatenate((-L,L))\n",
    "    rhs_ineq = np.concatenate((np.zeros(N), xmax))\n",
    "    \n",
    "    bnd = []\n",
    "    for i in range (0,N):\n",
    "        bnd.append((0,fmax[i]))\n",
    "    \n",
    "    result = linprog(c = obj, A_ub= lhs_ineq, b_ub= rhs_ineq, bounds = bnd)\n",
    "    \n",
    "    optimal_output = -result.fun\n",
    "    \n",
    "    optimal_f = np.ones(N)\n",
    "    for i in range(0,N):\n",
    "        optimal_f[i] = result.x[i]\n",
    "    \n",
    "    return result.success, optimal_output/sum(x), sum(optimal_f)/sum(f)"
   ]
  },
  {
   "cell_type": "code",
   "execution_count": 18,
   "id": "4024f18b",
   "metadata": {},
   "outputs": [
    {
     "data": {
      "text/plain": [
       "(0.5765065615083861, 0.5804335398577006)"
      ]
     },
     "execution_count": 18,
     "metadata": {},
     "output_type": "execute_result"
    }
   ],
   "source": [
    "result = max_output(N,L,A,x_max,f_max)\n",
    "Max_output = (result[1], result[2])\n",
    "Max_output"
   ]
  },
  {
   "cell_type": "code",
   "execution_count": 19,
   "id": "88578e22",
   "metadata": {},
   "outputs": [],
   "source": [
    "def max_consumption(N,L,A,xmax,fmax):\n",
    "    z = np.ones(N)\n",
    "    obj2 = -np.matmul(np.matrix.transpose(z), np.identity(N)-A)\n",
    "    lhs_ineq2 = np.concatenate((-(np.identity(N)-A), np.identity(N)-A))\n",
    "    rhs_ineq2 = np.concatenate((np.zeros(N), fmax))\n",
    "    \n",
    "    bnd2 = []\n",
    "    for i in range (0,N):\n",
    "        bnd2.append((0,xmax[i]))\n",
    "        \n",
    "    result2 = linprog(c = obj2, A_ub= lhs_ineq2, b_ub= rhs_ineq2, bounds= bnd2)\n",
    "    optimal_f_2 = -result2.fun\n",
    "    \n",
    "    optimal_output_2 = np.ones(N)\n",
    "    for i in range(0,N):\n",
    "        optimal_output_2[i] = round(result2.x[i])\n",
    "        \n",
    "    return result2.success, sum(optimal_output_2)/sum(x), optimal_f_2/sum(f)"
   ]
  },
  {
   "cell_type": "code",
   "execution_count": 20,
   "id": "8141c9b4",
   "metadata": {},
   "outputs": [
    {
     "data": {
      "text/plain": [
       "(0.5760354494052603, 0.5804335398577007)"
      ]
     },
     "execution_count": 20,
     "metadata": {},
     "output_type": "execute_result"
    }
   ],
   "source": [
    "result2 = max_consumption(N,L,A,x_max,f_max)\n",
    "Max_consumption = (result2[1], result2[2])\n",
    "Max_consumption"
   ]
  },
  {
   "cell_type": "markdown",
   "id": "4449b890",
   "metadata": {},
   "source": [
    "## Proportional Rationing"
   ]
  },
  {
   "cell_type": "code",
   "execution_count": 21,
   "id": "b0762439",
   "metadata": {},
   "outputs": [],
   "source": [
    "def algo_proportional(A, L, fmax, xmax, TT, prioritize=\"no\"):\n",
    "    x_ = [0]\n",
    "    fvec = []          # initial demand vector\n",
    "    fvec.append(fmax)\n",
    "    r = [0]            # output constraints\n",
    "    s = [0]            # input bottlenecks \n",
    "    d = [0]            # aggregated demand vector \n",
    "    d.append(np.matmul(L, fvec[0])) #d[1] = L*f[0]\n",
    "\n",
    "    list_ = [1] \n",
    "    t=1\n",
    "    epsilon = 1e-6\n",
    "    while not np.all(abs(d[t] - d[t-1]) < epsilon) and t<TT:\n",
    "        #print('\\nIteration {0}'.format(t))\n",
    "        #print('---------')\n",
    "        #print('Initial aggregated demand: {}'.format(d[t]))\n",
    "        r.append(np.ones(len(xmax)))\n",
    "        s.append(np.ones(len(xmax)))\n",
    "        fvec.append(np.ones(len(xmax)))\n",
    "        x_.append(np.ones(len(xmax)))\n",
    "        d.append(np.ones(len(xmax)))\n",
    "        \n",
    "        ##########################################\n",
    "        ########### Output constraints ###########\n",
    "        ##########################################\n",
    "        for i in range (0,len(x_max)):\n",
    "            r[t][i] = xmax[i]/d[t][i]\n",
    "        #print('Output constraints:{}'.format(r[t]))\n",
    "        \n",
    "        ##########################################\n",
    "        ########### Input bottlenecks ############\n",
    "        ##########################################\n",
    "        for i in range(0,len(x_max)):\n",
    "            for j in range(0,len(x_max)):\n",
    "                if A[j][i] > 0: \n",
    "                    list_.append(r[t][j])\n",
    "            s[t][i] = min(list_)\n",
    "            list_ = [1]\n",
    "        #print('Input bottlenecks:{}'.format(s[t]))\n",
    "        \n",
    "        ##############################################\n",
    "        ########### Constrained Production ###########\n",
    "        ##############################################\n",
    "        for i in range(0,len(xmax)):\n",
    "            x_[t][i] = min(xmax[i], s[t][i]*d[t][i])\n",
    "        #print('Constrained production:{}'.format(x[t]))\n",
    "        \n",
    "        ##############################################\n",
    "        ############ Constrained Delivery ############\n",
    "        ##############################################\n",
    "        for i in range(0,len(xmax)):\n",
    "            fvec[t][i] = max(x_[t][i] - np.matmul(A[i],x_[t]),0)\n",
    "        #print('Constrained delivery:{}'.format(fvec[t]))\n",
    "        \n",
    "        ###############################################\n",
    "        ############ New Aggregated Demand ############\n",
    "        ###############################################\n",
    "        for i in range(0,len(xmax)):\n",
    "            d[t+1][i] = np.matmul(L[i],fvec[t])\n",
    "        t=t+1\n",
    "        #print('Aggregated Demand:         {}'.format(d[t]))\n",
    "        if t == TT:\n",
    "            print(\"Algoritm did not converge\")\n",
    "            \n",
    "    return sum(x_[t-1])/sum(x), sum(fvec[t-1])/sum(f), t #x[t-1]\n"
   ]
  },
  {
   "cell_type": "code",
   "execution_count": 22,
   "id": "c07fd661",
   "metadata": {},
   "outputs": [
    {
     "data": {
      "text/plain": [
       "(0.442942278003605, 0.4532301357817336, 3)"
      ]
     },
     "execution_count": 22,
     "metadata": {},
     "output_type": "execute_result"
    }
   ],
   "source": [
    "result_proportional = algo_proportional(A, L, f_max, x_max, TT = 30, prioritize=\"no\")\n",
    "result_proportional"
   ]
  },
  {
   "cell_type": "markdown",
   "id": "d7f24de6",
   "metadata": {},
   "source": [
    "## Mixed Rationing "
   ]
  },
  {
   "cell_type": "code",
   "execution_count": 23,
   "id": "926e66bc",
   "metadata": {},
   "outputs": [],
   "source": [
    "def algo_mixed(A, L, fmax, xmax, TT,prioritize=\"yes\"):\n",
    "    x_ = [0]\n",
    "    fvec = [] # initial demand vector\n",
    "    fvec.append(fmax)\n",
    "    r = [0]   # output constraints\n",
    "    s = [0]   # input bottlenecks \n",
    "    d = [0]   # aggregated demand vector \n",
    "    d.append(np.matmul(L, fvec[0])) #d[1] = L*f[0]\n",
    "    \n",
    "    list_ = [1] \n",
    "    t=1\n",
    "    epsilon = 1e-6\n",
    "    while not np.all(abs(d[t] - d[t-1]) < epsilon) and t<TT:\n",
    "        #print('\\nIteration {0}'.format(t))\n",
    "        #print('---------')\n",
    "        #print('Initial aggregated demand: {}'.format(d[t]))\n",
    "        r.append(np.ones(len(xmax)))\n",
    "        s.append(np.ones(len(xmax)))\n",
    "        fvec.append(np.ones(len(xmax)))\n",
    "        x_.append(np.ones(len(xmax)))\n",
    "        d.append(np.ones(len(xmax)))\n",
    "        \n",
    "        ##########################################\n",
    "        ########### Output constraints ###########\n",
    "        ##########################################\n",
    "        for i in range (0,len(x_max)):\n",
    "            denominator = np.matmul(A[i],d[t])\n",
    "            if denominator == 0:\n",
    "                r[t][i] = 1 \n",
    "            else:\n",
    "                r[t][i] = xmax[i]/denominator\n",
    "            \n",
    "        #print('Output constraints:         {}'.format(r[t]))\n",
    "        \n",
    "        ##########################################\n",
    "        ########### Input bottlenecks ############\n",
    "        ##########################################\n",
    "        for i in range(0,len(x_max)):\n",
    "            for j in range(0,len(x_max)):\n",
    "                if A[j][i] > 0:\n",
    "                    list_.append(r[t][j])\n",
    "            s[t][i] = min(list_)\n",
    "            list_ = [1]\n",
    "        #print('Input bottlenecks:         {}'.format(s[t]))\n",
    "        \n",
    "        ##############################################\n",
    "        ########### Constrained Production ###########\n",
    "        ##############################################\n",
    "        for i in range(0,len(xmax)):\n",
    "            x_[t][i] = min(xmax[i], s[t][i]*d[t][i])\n",
    "            #print(s[t][i]*d[t][i])\n",
    "        \n",
    "        ##############################################\n",
    "        ############ Constrained Delivery ############\n",
    "        ##############################################\n",
    "        \n",
    "        for i in range(0,len(xmax)):\n",
    "            #print(np.matmul(A[i],s[t]*d[t]))\n",
    "            fvec[t][i] = max(x_[t][i] - np.matmul(A[i],x_[t]),0) \n",
    "        #print('Constrained delivery:      {}'.format(fvec[t]))\n",
    "        \n",
    "        ###############################################\n",
    "        ############ New Aggregated Demand ############\n",
    "        ###############################################\n",
    "        for i in range(0,len(xmax)):\n",
    "            d[t+1][i] = np.matmul(L[i],fvec[t])\n",
    "        t=t+1\n",
    "    \n",
    "    if t == TT:\n",
    "        print(\"Algoritm did not converge\")\n",
    "        \n",
    "    return sum(x_[t-1])/sum(x), sum(fvec[t-1])/sum(f), t"
   ]
  },
  {
   "cell_type": "code",
   "execution_count": 24,
   "id": "6a920fb1",
   "metadata": {},
   "outputs": [
    {
     "data": {
      "text/plain": [
       "(0.5622759565791449, 0.5679573892391839, 3)"
      ]
     },
     "execution_count": 24,
     "metadata": {},
     "output_type": "execute_result"
    }
   ],
   "source": [
    "result_mixed = algo_mixed(A, L, f_max, x_max, 30, prioritize=\"yes\")\n",
    "result_mixed"
   ]
  },
  {
   "cell_type": "markdown",
   "id": "18700e29",
   "metadata": {},
   "source": [
    "## Priority Rationing"
   ]
  },
  {
   "cell_type": "code",
   "execution_count": 25,
   "id": "bedef1b6",
   "metadata": {},
   "outputs": [],
   "source": [
    "def order(A, L, fmax):\n",
    "    d = np.matmul(L, fmax)\n",
    "    list_1 = []      # list we will sort\n",
    "    list_2 = []      # list that will not be sorted to find the original indices\n",
    "    for i in range(A.shape[0]):\n",
    "        list_1.append([])\n",
    "        list_2.append([])\n",
    "    for i in range(A.shape[0]):\n",
    "        for j in range(A.shape[0]):\n",
    "            list_1[i].append(A[i][j]*d[j])    # list_1[i][j] = list_2[i][j] = A[i][j]*d[j]\n",
    "            list_2[i].append(A[i][j]*d[j])\n",
    "        list_1[i].sort(reverse = True)        # we sort list_1: A[i][j]*d[j] >= A[i][j+1]*d[j+1]\n",
    "\n",
    "    names_ordered=[]\n",
    "    for i in range(A.shape[0]):\n",
    "        names_ordered.append([])\n",
    "    \n",
    "    for i in range(A.shape[0]):\n",
    "        for k in list_1[i]:                  # we take the indices of the j+1 (j from 0 to N-1) biggest suppliers of industry i. \n",
    "                for l in range(A.shape[0]):    \n",
    "                    if list_2[i][l] == k:\n",
    "                        names_ordered[i].append(l)   \n",
    "    return names_ordered"
   ]
  },
  {
   "cell_type": "code",
   "execution_count": 26,
   "id": "2377089a",
   "metadata": {},
   "outputs": [],
   "source": [
    "def algo_priority(A, L, fmax, xmax, ordered, TT, prioritize=\"yes\"):                 \n",
    "    x_ = [0]\n",
    "    fvec = []   # initial demand vector\n",
    "    fvec.append(fmax)\n",
    "    rvec = [0]  # output constraints\n",
    "    s = [0]     # input bottlenecks \n",
    "    d = [0]     # aggregated demand vector \n",
    "    d.append(np.matmul(L, fvec[0])) #d[1] = L*f[0]\n",
    "    \n",
    "    list_ = [1] \n",
    "    t=1\n",
    "    epsilon = 1e-6\n",
    "    \n",
    "    while not np.all(abs(d[t] - d[t-1]) < epsilon) and t<TT:\n",
    "        #print('\\nIteration {0}'.format(t))\n",
    "        #print('---------')\n",
    "        #print('Initial aggregated demand: {}'.format(d[t]))\n",
    "        rvec.append([np.zeros(N)])\n",
    "        s.append(np.ones(N))\n",
    "        fvec.append(np.ones(N))\n",
    "        x_.append(np.ones(N))\n",
    "        d.append(np.ones(N))\n",
    "        demand = np.identity(N)\n",
    "        \n",
    "        som = 0\n",
    "        for i in range(0,N):\n",
    "            for j in range(0,N):\n",
    "                for k in ordered[i][:j+1]:\n",
    "                    som = som + A[i][k]*d[t][k] \n",
    "                demand[i][j] = som   #demand[i][j] = demand of j'th biggest customers of firm i summed up\n",
    "                som = 0\n",
    "        remainder = np.identity(N)\n",
    "    \n",
    "        for i in range(0,N):\n",
    "            for j in range(0,N):\n",
    "                remainder[i][j] = xmax[i] - demand[i][j]\n",
    "                \n",
    "        ####################################################\n",
    "        ####################### rvec #######################\n",
    "        ####################################################\n",
    "        for i in range(0,N):\n",
    "            rvec[t].append([])\n",
    "        for i in range(0,N):\n",
    "            if all(remainder[i][j]>0 for j in range(0,N)):\n",
    "                rvec[t][i] = np.ones(N) \n",
    "            elif all(remainder[i][j]<=0 for j in range(0,N)): \n",
    "                rvec[t][i] = np.zeros(N)\n",
    "                for k in ordered[i][:1]: \n",
    "                    rvec[t][i][k] = xmax[i]/demand[i][0]\n",
    "        \n",
    "            else: \n",
    "                idx = np.where(remainder[i]<=0) # index for partially met demand\n",
    "                idx_fully = np.where(remainder[i]>0) \n",
    "                length = len(idx_fully[0])\n",
    "                rvec[t][i] = np.zeros(N)\n",
    "                for l in range(0,length-1):\n",
    "                    index = ordered[i][l]\n",
    "                    rvec[t][i][index] = 1\n",
    "                m = ordered[i][length-1]\n",
    "                rvec[t][i][m] = remainder[i][length-1]/(demand[i][length]-demand[i][length-1])\n",
    "          \n",
    "        #####################################################\n",
    "        ################# Input bottlenecks #################\n",
    "        #####################################################\n",
    "        for i in range(0,N):\n",
    "            for j in range(0,N):\n",
    "                if A[j][i]>0:\n",
    "                    list_.append(rvec[t][j][i])\n",
    "            s[t][i] = min(list_)\n",
    "            list_ = [1]   \n",
    "        #print('Input bottlenecks:         {}'.format(s[t]))\n",
    "        \n",
    "        ######################################################\n",
    "        ############### Constrained Production ###############\n",
    "        ######################################################\n",
    "        for i in range(0,N):\n",
    "            x_[t][i] = min(xmax[i], s[t][i]*d[t][i])\n",
    "        #print(x)\n",
    "        \n",
    "        ######################################################\n",
    "        ################ Constrained Delivery ################\n",
    "        ######################################################\n",
    "        for i in range(0,len(xmax)):\n",
    "            fvec[t][i] = max(x_[t][i] - np.matmul(A[i],x_[t]),0)\n",
    "        \n",
    "        ######################################################\n",
    "        ################ Aggregated demand ###################\n",
    "        ######################################################\n",
    "        for i in range(0,len(xmax)):\n",
    "            d[t+1][i] = np.matmul(L[i],fvec[t])\n",
    "            \n",
    "        t=t+1\n",
    "        if t==TT:\n",
    "            print(\"Algorithm did not converge\")\n",
    "            return(None, None)\n",
    "        #print(d[t])\n",
    "    return sum(x_[t-1])/sum(x), sum(fvec[t-1])/sum(f), t"
   ]
  },
  {
   "cell_type": "code",
   "execution_count": 27,
   "id": "5cbee48e",
   "metadata": {},
   "outputs": [
    {
     "data": {
      "text/plain": [
       "(0.36695959591669075, 0.38388319296321866, 3)"
      ]
     },
     "execution_count": 27,
     "metadata": {},
     "output_type": "execute_result"
    }
   ],
   "source": [
    "names_ordered = order(A,L,f_max)\n",
    "result_priority = algo_priority(A, L, f_max, x_max, names_ordered, 30, prioritize=\"yes\")\n",
    "result_priority"
   ]
  },
  {
   "cell_type": "markdown",
   "id": "e90b3e05",
   "metadata": {},
   "source": [
    "## Random Rationing"
   ]
  },
  {
   "cell_type": "code",
   "execution_count": 28,
   "id": "0a86910e",
   "metadata": {},
   "outputs": [],
   "source": [
    "def algo_random(A, L, fmax, xmax, runs, prioritize = \"random\"):\n",
    "    x = [] # output\n",
    "    y = [] # consumption\n",
    "    nr_runs = 0\n",
    "    while nr_runs < runs:\n",
    "        nr_runs += 1\n",
    "        #print(nr_runs)\n",
    "        random_ordered=[]\n",
    "        for i in range(N):\n",
    "            random_ordered.append([])\n",
    "        for i in range(N):\n",
    "            while len(random_ordered[i])<N:\n",
    "                random = randrange(N)\n",
    "                while random in random_ordered[i]:\n",
    "                    random = randrange(N) # we want the indices of the j+1 (j from 0 to N-1) biggest suppliers  \n",
    "                random_ordered[i].append(random)\n",
    "                \n",
    "        result = algo_priority(A, L, fmax, xmax, random_ordered, TT = 25, prioritize=\"yes\")\n",
    "        if result[0] != None:\n",
    "            x.append(result[0])\n",
    "            y.append(result[1])\n",
    "            \n",
    "    return sum(x)/len(x), sum(y)/len(y), len(x)"
   ]
  },
  {
   "cell_type": "code",
   "execution_count": 29,
   "id": "171650b4",
   "metadata": {},
   "outputs": [
    {
     "data": {
      "text/plain": [
       "(0.3908322255528613, 0.40776836435561775, 50)"
      ]
     },
     "execution_count": 29,
     "metadata": {},
     "output_type": "execute_result"
    }
   ],
   "source": [
    "result_random = algo_random(A, L, f_max, x_max, 50, prioritize = \"random\")\n",
    "result_random"
   ]
  },
  {
   "cell_type": "code",
   "execution_count": 30,
   "id": "6013e506",
   "metadata": {},
   "outputs": [
    {
     "data": {
      "image/png": "[encoded data removed]",
      "text/plain": [
       "<Figure size 640x480 with 1 Axes>"
      ]
     },
     "metadata": {},
     "output_type": "display_data"
    }
   ],
   "source": [
    "import matplotlib.pyplot as plt\n",
    "plt.style.use('ggplot')\n",
    "plt.title(\"Walmart\")\n",
    "plt.grid(visible=None, which='major', axis='both', linestyle='-', linewidth=1)\n",
    "\n",
    "plt.plot(direct_shock[1], direct_shock[0], 'b^')\n",
    "plt.plot(Max_output[1], Max_output[0], 'r^')\n",
    "plt.plot(result_proportional[1], result_proportional[0], 'k^')\n",
    "plt.plot(result_mixed[1], result_mixed[0], 'g^')\n",
    "plt.plot(result_priority[1], result_priority[0], 'y^')\n",
    "plt.plot(result_random[1], result_random[0], 'm^')\n",
    "#x = np.linspace(-0.09,1.1)\n",
    "#y = x\n",
    "#plt.plot(x,y, 'k--', linewidth =0.5)\n",
    "\n",
    "plt.legend(['Direct shock', 'Maximization', 'Proportional', 'Mixed', 'Priority', 'Random'])\n",
    "\n",
    "plt.xlim(-0.09, 1) \n",
    "plt.ylim(-0.09, 1)\n",
    "\n",
    "plt.xlabel(\"Final Consumption (% of pre-shock level)\")\n",
    "plt.ylabel(\"Gross Output (% of pre-shock level)\")\n",
    "plt.savefig('plot_Walmart.png')\n",
    "plt.show()"
   ]
  },
  {
   "cell_type": "markdown",
   "id": "d4515d22",
   "metadata": {},
   "source": [
    "## Shock magnitude "
   ]
  },
  {
   "cell_type": "code",
   "execution_count": 31,
   "id": "b7607a5c",
   "metadata": {},
   "outputs": [],
   "source": [
    "def shockscale(x, xmax, f, fmax, scale_x, scale_f):\n",
    "    ss_full = np.divide(xmax,x)-1\n",
    "    ds_full = np.divide(fmax,f)-1\n",
    "    \n",
    "    ss = ss_full*scale_x\n",
    "    \n",
    "    x_shocked = np.zeros(N)\n",
    "    \n",
    "    for i in range (0,N):\n",
    "        x_shocked[i] = (np.ones(N)+ ss)[i]*x[i]\n",
    "\n",
    "    \n",
    "    ds = ds_full*scale_f\n",
    "    f_shocked = np.zeros(N)\n",
    "    \n",
    "    for i in range (0,N):\n",
    "        f_shocked[i] = (np.ones(N)+ ds)[i]*f[i]\n",
    "    \n",
    "    return x_shocked, f_shocked"
   ]
  },
  {
   "cell_type": "code",
   "execution_count": 32,
   "id": "6e8de3f1",
   "metadata": {},
   "outputs": [],
   "source": [
    "def scale_run_direct_shock(scalewhat = \"both\", seq = np.linspace(0,1,100)):    \n",
    "    res_dir_x = []\n",
    "    res_dir_f = []\n",
    "    for i in range(0, len(seq)):\n",
    "        if scalewhat == \"both\":\n",
    "            scaleres = shockscale(x, x_max, f, f_max, scale_x=seq[i], scale_f=seq[i])\n",
    "            \n",
    "        if scalewhat == \"supply\":\n",
    "            scaleres = shockscale(x, x_max, f, f_max, scale_x=seq[i], scale_f=0)\n",
    "            \n",
    "        if scalewhat == \"demand\":\n",
    "            scaleres = shockscale(x, x_max, f, f_max, scale_x=0, scale_f=seq[i])\n",
    "            \n",
    "    \n",
    "        res_dir_x.append(sum(scaleres[0])/sum(x))\n",
    "        res_dir_f.append(sum(scaleres[1])/sum(f)) \n",
    "    dataframe = {'x': res_dir_x,\n",
    "                 'f': res_dir_f,\n",
    "                'Scale': scalewhat, 'Algorithm': 'Direct_shock', 'a': seq}\n",
    "    df = pd.DataFrame(dataframe)\n",
    "        \n",
    "    return df"
   ]
  },
  {
   "cell_type": "code",
   "execution_count": 33,
   "id": "6453b745",
   "metadata": {},
   "outputs": [],
   "source": [
    "x_direct_D = np.array(scale_run_direct_shock(scalewhat = \"demand\",  seq = np.linspace(0,1,100)).iloc[:,0].astype('float'))\n",
    "a_direct_D = np.array(scale_run_direct_shock(scalewhat = \"demand\",  seq = np.linspace(0,1,100)).iloc[:,4].astype('float'))"
   ]
  },
  {
   "cell_type": "code",
   "execution_count": 34,
   "id": "2e707be2",
   "metadata": {},
   "outputs": [],
   "source": [
    "TT = 30"
   ]
  },
  {
   "cell_type": "code",
   "execution_count": 35,
   "id": "646ca4c4",
   "metadata": {},
   "outputs": [],
   "source": [
    "def scale_run_rationing(scalewhat = \"both\",  seq = np.linspace(0,1,100)):\n",
    "    res1x = []\n",
    "    res1f = []\n",
    "    \n",
    "    res2x = []\n",
    "    res2f = []\n",
    "    \n",
    "    res3x = []\n",
    "    res3f = []\n",
    "    i=0\n",
    "    while i <len(seq):\n",
    "        if scalewhat == \"both\":\n",
    "            scaleres = shockscale(x, x_max, f, f_max,scale_x=seq[i], scale_f=seq[i])\n",
    "            \n",
    "        if scalewhat == \"supply\":\n",
    "            scaleres = shockscale(x, x_max, f, f_max,scale_x=seq[i], scale_f=0)\n",
    "            \n",
    "        if scalewhat == \"demand\":\n",
    "            scaleres = shockscale(x, x_max, f, f_max,scale_x=0, scale_f=seq[i])\n",
    "        \n",
    "        res1 = algo_proportional(A, L, scaleres[1], scaleres[0], TT, prioritize = \"no\")\n",
    "        res2 = algo_mixed(A, L, scaleres[1], scaleres[0],TT, prioritize=\"yes\")\n",
    "        \n",
    "        names_ordered = order(A,L,scaleres[1])\n",
    "        res3 = algo_priority(A, L, scaleres[1], scaleres[0], names_ordered, TT, prioritize=\"yes\")\n",
    "        \n",
    "        if res1[2] != 100:\n",
    "            res1x.append(res1[0])\n",
    "            res1f.append(res1[1])\n",
    "        else:\n",
    "            res1x.append('NaN')\n",
    "            res1f.append('NaN')\n",
    "        \n",
    "        if res2[2] != 100:\n",
    "            res2x.append(res2[0])\n",
    "            res2f.append(res2[1])\n",
    "        else:\n",
    "            res2x.append('NaN')\n",
    "            res2f.append('NaN')\n",
    "            \n",
    "        if res3[2] != 100:\n",
    "            res3x.append(res3[0])\n",
    "            res3f.append(res3[1])\n",
    "        else:\n",
    "            res2x.append('NaN')\n",
    "            res2f.append('NaN')\n",
    "        i= i+1\n",
    "    \n",
    "    dataframe1 = {'x': res1x, 'f': res1f, 'Scale': scalewhat, 'Algorithm': 'Proportional', 'a': seq }\n",
    "    df1 = pd.DataFrame(dataframe1)\n",
    "    \n",
    "    dataframe2 = {'x': res2x, 'f': res2f, 'Scale': scalewhat, 'Algorithm': 'Mixed', 'a': seq }\n",
    "    df2 = pd.DataFrame(dataframe2)\n",
    "    \n",
    "    dataframe3 = {'x': res3x, 'f': res3f, 'Scale': scalewhat, 'Algorithm': 'Priority', 'a': seq }  \n",
    "    df3 = pd.DataFrame(dataframe3)\n",
    "    \n",
    "    return df1, df2, df3"
   ]
  },
  {
   "cell_type": "code",
   "execution_count": 36,
   "id": "c48ff7b8",
   "metadata": {},
   "outputs": [],
   "source": [
    "def scale_run_random_rationing(scalewhat = \"both\", seq = np.linspace(0,1,100)):\n",
    "    res4x = []\n",
    "    res4f = []\n",
    "    i=0\n",
    "    while i < len(seq):\n",
    "        if scalewhat == \"both\":\n",
    "            scaleres = shockscale(x, x_max, f, f_max,scale_x=seq[i], scale_f=seq[i])\n",
    "            \n",
    "        if scalewhat == \"supply\":\n",
    "            scaleres = shockscale(x, x_max, f, f_max,scale_x=seq[i], scale_f=0)\n",
    "            \n",
    "        if scalewhat == \"demand\":\n",
    "            scaleres = shockscale(x, x_max, f, f_max,scale_x=0, scale_f=seq[i])\n",
    "        \n",
    "        \n",
    "        res4 = algo_random(A, L, scaleres[1], scaleres[0], 50, prioritize = \"random\")\n",
    "        res4x.append(res4[0])\n",
    "        res4f.append(res4[1]) \n",
    "        \n",
    "        print(i)\n",
    "        i = i+1\n",
    "    \n",
    "    dataframe4 = {'x': res4x, 'f': res4f, 'Scale': scalewhat, 'Algorithm': 'Random', 'a': seq}  \n",
    "    df4 = pd.DataFrame(dataframe4)\n",
    "    \n",
    "    return df4"
   ]
  },
  {
   "cell_type": "code",
   "execution_count": 37,
   "id": "df9991b3",
   "metadata": {},
   "outputs": [],
   "source": [
    "def scale_run_optimizationX(scalewhat = \"both\", runs = 100, seq = np.linspace(0,1,100)):\n",
    "    resmax_output_x = []\n",
    "    resmax_output_f = []\n",
    "    \n",
    "    i=0\n",
    "    while i <len(seq):\n",
    "        if scalewhat == \"both\":\n",
    "            scaleres = shockscale(x, x_max, f, f_max, scale_x=seq[i], scale_f=seq[i])\n",
    "            \n",
    "        if scalewhat == \"supply\":\n",
    "            scaleres = shockscale(x, x_max, f, f_max, scale_x=seq[i], scale_f=0)\n",
    "            \n",
    "        if scalewhat == \"demand\":\n",
    "            scaleres = shockscale(x, x_max, f, f_max, scale_x=0, scale_f=seq[i])\n",
    "        \n",
    "        #print(scaleres[0])\n",
    "        resmaxX = max_output(N , L, A, xmax = scaleres[0], fmax=scaleres[1])\n",
    "        #print(resmaxX)\n",
    "        if resmaxX[0] == True:\n",
    "        #print(resmaxX)\n",
    "            resmax_output_x.append(resmaxX[1])\n",
    "            resmax_output_f.append(resmaxX[2])\n",
    "        else: \n",
    "            resmax_output_x.append('NaN')\n",
    "            resmax_output_f.append('NaN')\n",
    "            \n",
    "            \n",
    "        i = i+1\n",
    "        \n",
    "        \n",
    "    dataframe = {'x': resmax_output_x,\n",
    "                 'f': resmax_output_f,\n",
    "                'Scale': scalewhat, 'Algorithm': 'Max_output', 'a': seq}\n",
    "    df = pd.DataFrame(dataframe)\n",
    "    \n",
    "    return df"
   ]
  },
  {
   "cell_type": "code",
   "execution_count": 38,
   "id": "175515ba",
   "metadata": {},
   "outputs": [],
   "source": [
    "x_opt_D = np.array(scale_run_optimizationX(scalewhat = \"demand\",  seq = np.linspace(0,1,100)).iloc[:,0].astype('float'))\n",
    "a_opt_D = np.array(scale_run_optimizationX(scalewhat = \"demand\",  seq = np.linspace(0,1,100)).iloc[:,4].astype('float'))"
   ]
  },
  {
   "cell_type": "code",
   "execution_count": 39,
   "id": "3e39d449",
   "metadata": {},
   "outputs": [
    {
     "data": {
      "image/png": "[encoded data removed]",
      "text/plain": [
       "<Figure size 640x480 with 1 Axes>"
      ]
     },
     "metadata": {},
     "output_type": "display_data"
    }
   ],
   "source": [
    "import matplotlib.pyplot as plt\n",
    "plt.style.use('ggplot')\n",
    "plt.title(\"Germany\")\n",
    "plt.grid(visible=None, which='major', axis='both', linestyle='-', linewidth=1)\n",
    "plt.plot(a_direct_D, x_direct_D)\n",
    "plt.plot(a_opt_D, x_opt_D)\n",
    "plt.xlim(-0.05, 1) \n",
    "plt.ylim(-0.00,1.1)\n",
    "\n",
    "#plt.rcParams['text.usetex'] = True\n",
    "plt.xlabel(r'$\\alpha^D$')\n",
    "plt.ylabel(\"Gross Output (% of pre-shock level)\")\n",
    "plt.legend(['Direct shock', 'Optimization and Rationing'])\n",
    "plt.savefig('plot_deu_scale_demand.png')"
   ]
  },
  {
   "cell_type": "code",
   "execution_count": 40,
   "id": "1ebd31f3",
   "metadata": {},
   "outputs": [],
   "source": [
    "result_direct = scale_run_direct_shock(scalewhat = \"supply\",  seq = np.linspace(0,1,100)) #ok: zelfde resultaat\n",
    "x_direct = np.array(result_direct.iloc[:,0].astype('float'))\n",
    "a_direct = np.array(result_direct.iloc[:,4].astype('float'))\n",
    "\n",
    "result_opt = scale_run_optimizationX(scalewhat = \"supply\", runs = 100, seq = np.linspace(0,1,100)) #ok \n",
    "x_opt= np.array(result_opt.iloc[:,0].astype('float'))\n",
    "a_opt = np.array(result_opt.iloc[:,4].astype('float'))\n",
    "\n",
    "\n",
    "result_prop = scale_run_rationing(scalewhat = \"supply\",  seq = np.linspace(0,1,100))[0] #ok: zelfde resultaat\n",
    "x_prop = np.array(result_prop.iloc[:,0].astype('float'))\n",
    "a_prop = np.array(result_prop.iloc[:,4].astype('float'))\n",
    "\n",
    "result_mixed = scale_run_rationing(scalewhat = \"supply\",  seq = np.linspace(0,1,100))[1] #ok: zelfde resultaat\n",
    "x_mixed = np.array(result_mixed.iloc[:,0].astype('float'))\n",
    "a_mixed = np.array(result_mixed.iloc[:,4].astype('float'))\n",
    "\n",
    "result_priority = scale_run_rationing(scalewhat = \"supply\",  seq = np.linspace(0,1,100))[2]\n",
    "x_priority = np.array(result_priority.iloc[:,0].astype('float'))\n",
    "a_priority = np.array(result_priority.iloc[:,4].astype('float'))"
   ]
  },
  {
   "cell_type": "code",
   "execution_count": 41,
   "id": "6dcdcc3a",
   "metadata": {},
   "outputs": [
    {
     "name": "stdout",
     "output_type": "stream",
     "text": [
      "0\n",
      "1\n",
      "2\n",
      "3\n",
      "4\n",
      "5\n",
      "6\n",
      "7\n",
      "8\n",
      "9\n",
      "10\n",
      "11\n",
      "12\n",
      "13\n",
      "14\n",
      "15\n",
      "16\n",
      "17\n",
      "18\n",
      "19\n",
      "20\n",
      "21\n",
      "22\n",
      "23\n",
      "24\n",
      "25\n",
      "26\n",
      "27\n",
      "28\n",
      "29\n",
      "30\n",
      "31\n",
      "32\n",
      "33\n",
      "34\n",
      "35\n",
      "36\n",
      "37\n",
      "38\n",
      "39\n",
      "40\n",
      "41\n",
      "42\n",
      "43\n",
      "44\n",
      "45\n",
      "46\n",
      "47\n",
      "48\n",
      "49\n",
      "50\n",
      "51\n",
      "52\n",
      "53\n",
      "54\n",
      "55\n",
      "56\n",
      "57\n",
      "58\n",
      "59\n",
      "60\n",
      "61\n",
      "62\n",
      "63\n",
      "64\n",
      "65\n",
      "66\n",
      "67\n",
      "68\n",
      "69\n",
      "70\n",
      "71\n",
      "72\n",
      "73\n",
      "74\n",
      "75\n",
      "76\n",
      "77\n",
      "78\n",
      "79\n",
      "80\n",
      "81\n",
      "82\n",
      "83\n",
      "84\n",
      "85\n",
      "86\n",
      "87\n",
      "88\n",
      "89\n",
      "90\n",
      "91\n",
      "92\n",
      "93\n",
      "94\n",
      "95\n",
      "96\n",
      "97\n",
      "98\n",
      "99\n"
     ]
    }
   ],
   "source": [
    "result_random = scale_run_random_rationing(scalewhat = \"supply\", seq = np.linspace(0,1,100))\n",
    "x_random = np.array(result_random.iloc[:,0].astype('float'))\n",
    "a_random = np.array(result_random.iloc[:,4].astype('float'))"
   ]
  },
  {
   "cell_type": "code",
   "execution_count": 42,
   "id": "1a00dfb9",
   "metadata": {},
   "outputs": [
    {
     "data": {
      "image/png": "[encoded data removed]",
      "text/plain": [
       "<Figure size 640x480 with 1 Axes>"
      ]
     },
     "metadata": {},
     "output_type": "display_data"
    }
   ],
   "source": [
    "plt.style.use('ggplot')\n",
    "plt.title(\"Walmart\")\n",
    "plt.grid(visible=None, which='major', axis='both', linestyle='-', linewidth=1)\n",
    "\n",
    "plt.plot(a_direct, x_direct, 'black')\n",
    "plt.plot(a_opt, x_opt, 'red')\n",
    "plt.plot(a_prop, x_prop, 'green')\n",
    "plt.plot(a_mixed, x_mixed, 'grey')\n",
    "plt.plot(a_priority, x_priority, 'orange')\n",
    "plt.plot(a_random, x_random, 'blue')\n",
    "\n",
    "plt.xlim(-0.05, 1) \n",
    "plt.ylim(-0.00,1.1)\n",
    "#plt.rcParams['text.usetex'] = True\n",
    "plt.xlabel(r' $\\alpha^S$')\n",
    "plt.ylabel(\"Gross Output (% of pre-shock level)\")\n",
    "plt.legend(['Direct shock', 'Maximization', 'Proportional', 'Mixed', 'Priority', 'random'])\n",
    "plt.savefig('plot_Walmart_scale.png')"
   ]
  }
 ],
 "metadata": {
  "kernelspec": {
   "display_name": "venv test",
   "language": "python",
   "name": "venv"
  },
  "language_info": {
   "codemirror_mode": {
    "name": "ipython",
    "version": 3
   },
   "file_extension": ".py",
   "mimetype": "text/x-python",
   "name": "python",
   "nbconvert_exporter": "python",
   "pygments_lexer": "ipython3",
   "version": "3.10.10"
  }
 },
 "nbformat": 4,
 "nbformat_minor": 5
}
